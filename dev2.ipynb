{
 "cells": [
  {
   "cell_type": "markdown",
   "metadata": {},
   "source": [
    "# save qchronolyze analysis to md"
   ]
  },
  {
   "cell_type": "code",
   "execution_count": 161,
   "metadata": {},
   "outputs": [],
   "source": [
    "from qChronolyze import *"
   ]
  },
  {
   "cell_type": "code",
   "execution_count": 2,
   "metadata": {},
   "outputs": [
    {
     "name": "stdout",
     "output_type": "stream",
     "text": [
      "{ll~ah\n"
     ]
    }
   ],
   "source": [
    "import csv\n",
    "with open('data/lemmata.tsv') as f:\n",
    "    lemmata = [row for row in csv.DictReader(f, delimiter='\\t') ]\n",
    "\n",
    "print(lemmata[1]['Buckwalter'])"
   ]
  },
  {
   "cell_type": "code",
   "execution_count": null,
   "metadata": {},
   "outputs": [],
   "source": [
    "dicti = {}\n",
    "\n",
    "for datum in lemmata:\n",
    "    if int(datum[\"Frequency\"]) < 6:\n",
    "        if 'Proper noun' in datum[\"Part-of-speech\"]:\n",
    "            # print(datum)\n",
    "            dicti[datum[\"Buckwalter\"]] = ''\n",
    "from qChronoMd import qChronoMd\n",
    "\n",
    "qChronoMd(\n",
    "    dicti\n",
    "### enter pair of word/root and meaning filtering regex as key-value pair dictionary\n",
    "# {\n",
    "#    '$Tn':  # english word / transliterated root https://corpus.quran.com/java/buckwalter.jsp\n",
    "#     '',   # regex filter for meaning\n",
    "#     'jnn':\n",
    "#     'jinn'\n",
    "# },\n",
    "\n",
    "### tafsir reference language\n",
    "# 'Arabic',\n",
    "# /\n",
    "# '1',\n",
    "\n",
    "### presentation style\n",
    "# pres='plot',\n",
    "    ,\n",
    "    \"frequency_under_6\"\n",
    "    ,\n",
    "    \"ar-tafsir-al-tabari\"\n",
    "\n",
    ")"
   ]
  },
  {
   "cell_type": "code",
   "execution_count": null,
   "metadata": {},
   "outputs": [],
   "source": [
    "dicti = {\n",
    "\n",
    "    \"A^dam\": \"(?:Adam|)\",\n",
    "    \"nuwH\": \"(?:Nuh|)\",\n",
    "    \"<idoriys\": \"(?:Idris|)\",\n",
    "    \"huwd/Ewd\": \"(?:Hud|)/Aad\",\n",
    "    \"SaAliH/vamuwd\": \"(?:Salih)/Thamud\",\n",
    "    \"tub~aE\": \"Tubba\",\n",
    "    \">ayokap\": \"wood\",\n",
    "    \"ras~\": \"(?:rass|Raas)\",\n",
    "    \"Hijor\": \"(?:the Rocky Tract)\",\n",
    "    \"<iram\": \"(?:Aram|Iram)\",\n",
    "    \"<iboraAhiym\": \"(?:Ibrahim|)\",\n",
    "    \"luwT\": \"(?:Lut)\",\n",
    "    \"<isoma`Eiyl\": \"(?:Ishmael|)\",\n",
    "    \"<isoHaAq\": \"(?:Isaac|)\",\n",
    "    \"yaEquwb\": \"(?:Yaqub|)\",\n",
    "    \"yuwsuf\": \"(?:Yusuf|)\",\n",
    "    \">ay~uwb\": \"(?:Ayyub|)\",\n",
    "    \"$uEayb/madoyan\": \"(?:Shuaib|)/(?:Midian|Madyan)\",\n",
    "    \"muwsaY/firoEawon\": \"(?:Musa|)/(?:Pharaoh|Firaun)\",\n",
    "    \"ha`ruwn\": \"(?:Harun|)\",\n",
    "    \"TaAluwt/jaAluwt\": \"(?:Saul|Talut)/(?:Goliath|Jalut)\",\n",
    "    \"daAwud\": \"(?:Dawood|Dawud|)\",\n",
    "    \"sulaymaAn\": \"(?:Sulaiman|)\",\n",
    "    \"kifol\": \"(?:Kifl)\",\n",
    "    \"nuwn/yuwnus\": \"(?:Nun)/(?:Yunus)\",\n",
    "    \"<iloyaAs\": \"(?:Elijah|)\",\n",
    "    \"yasaE\": \"(?:Elisha)\",\n",
    "    \"qrn\": \"(?:Qarnain)\",\n",
    "    \"Euzayor\": \"(?:Uzair)\",\n",
    "    \"luqomaAn\": \"(?:Luqman)\",\n",
    "    \"zakariy~aA\": \"(?:Zakariya|)\",\n",
    "    \"yaHoyaY\": \"(?:Yahya)\",\n",
    "    \"maroyam\": \"(?:Mary)\",\n",
    "    \"EiysaY/Aibn maryam\": \"isa/son mary\",\n",
    "    \"muHam~ad\": \"(?:Muhammad|)\",\n",
    "}\n",
    "\n",
    "from qChronoMd import qChronoMd\n",
    "\n",
    "\n",
    "for item in dicti.items():\n",
    "    qChronoMd(\n",
    "        {item[0]: item[1]},\n",
    "        'neviim/'+item[1].split('/')[0],\n",
    "        \"ar-tafsir-al-tabari\",\n",
    "    )\n",
    "    # print()"
   ]
  },
  {
   "cell_type": "code",
   "execution_count": null,
   "metadata": {},
   "outputs": [],
   "source": [
    "from qChronoMd import qChronoMd\n",
    "\n",
    "qChronoMd(\n",
    "    \n",
    "    ### enter pair of word/root and meaning filtering regex as key-value pair dictionary\n",
    "    {\n",
    "        # 'mlk':  # english word / transliterated root https://corpus.quran.com/java/buckwalter.jsp\n",
    "        # '(?:angel|messenger)'   # regex filter for meaning\n",
    "        # ,\n",
    "        # # # ''\n",
    "        # 'jiboriyl':\"\",\n",
    "        # 'miykaY`l': \"\",\n",
    "        # 'ha`ruwt': \"harut\",\n",
    "        # 'maAruwt': \"marut\",\n",
    "\n",
    "        # '$Tn':\n",
    "        # '(?:devil|[^d]evil|demon|shaitaan)'\n",
    "        # ,\n",
    "        # \"<iboliys\":\"\",\n",
    "        # \"bls\":\"\",\n",
    "        # 'jnn':\n",
    "        # '(?:jinn|snake|serpent)'\n",
    "        # ,\n",
    "        # \"jaAn~\": \"(?:snake|jinn)\",\n",
    "        # 'Hyy':\n",
    "        # 'snake'\n",
    "        # ,\n",
    "        # 'qrn':\n",
    "        # 'companion'\n",
    "        # ,\n",
    "        # 'mrd':\n",
    "        # 'rebellious'\n",
    "        # ,\n",
    "        # 'Eiforiyt':\n",
    "        # ''\n",
    "        # ,\n",
    "\n",
    "        # \"sHr\": \"\",\n",
    "        # 'jbt': \"\",\n",
    "        # \"nfv\": \"\",\n",
    "\n",
    "        # 'nfs':\n",
    "        # '(?:soul|self)'\n",
    "        # ,\n",
    "        # \"nfx\": \"\",\n",
    "        # \"Suwr\": \"\",\n",
    "        # \"Swr\": \"\",\n",
    "        # 'rwH':\n",
    "        # '(?:spirit|soul)'\n",
    "        # ,\n",
    "        # \"ruwH\": \"\",\n",
    "\n",
    "        # \"masiyH\":\"\",\n",
    "        # \"EiysaY\": \"isa\",\n",
    "        # \"maryam\": \"\",\n",
    "        # \"yaHoyaY`\": \"yahya\",\n",
    "        # \"zakariy~aA\": \"zakariya\",\n",
    "        # \"EimoraAn\": \"imran\",\n",
    "        # \"kalimap\": \"(?:word|.*)\",\n",
    "        # \"kalaAm\": \"(?:word|.*)\",\n",
    "        # \"Tayor\": \"(?:bird)\",\n",
    "        # \"mahod\": \"bed\",\n",
    "        # \"fTr\": \"\",\n",
    "        # \"ftr\": \"\",\n",
    "        # \"muwsaY\": \"musa\",\n",
    "\n",
    "        # idols        \n",
    "        # \"wad~\": \"wadd\",\n",
    "        # r\"{ll~a`t\": \"\",\n",
    "        # r\"{loEuz~aY`\": \"\",\n",
    "        # 'manaw`p': \"\",\n",
    "        # 'baEol2': \"\",\n",
    "        # 'maAlik': \"malik\",\n",
    "        # 'suwaAE': \"\",\n",
    "        # 'yaguwv': \"\",\n",
    "        # \"yaEuwq\": \"\",\n",
    "        # \"nasor\": \"\",\n",
    "        # \"TaAguwt\": \"\",\n",
    "\n",
    "        # \"SafaA\": \"safa\",\n",
    "        # \"marowap\": \"marwa\",\n",
    "        # \"siyniyn\": \"sin\",\n",
    "        # \"qurayo$\" : \"\",\n",
    "        # \"tub~aE\" : \"tubba\", \n",
    "        # \"saba<\" : \"saba\",\n",
    "        # \"misor\" : \"\",\n",
    "        # \"ruwm\" : \"rom\",\n",
    "        # \"ramaDaAn\" : \"ramadan\",\n",
    "        # \"EarafaAt\": \"arafa\",\n",
    "        # \"bak~ap\": \"bakka\",\n",
    "        # \"bador\": \"badr\",\n",
    "        # \"yavorib\" : \"yathrib\",\n",
    "        # \"makkap\" : \"makka\",\n",
    "        # \"kaEobap\": \"ka'*ba\",\n",
    "        # \"Hunayon\": \"hunayn\",\n",
    "\n",
    "        # \"nml\": \"ant\",\n",
    "        # \"qrd\": \"(?:monkey|ape)\",\n",
    "        # \"nHl\": \"bee\",\n",
    "        # \"Tyr\": \"bird\",\n",
    "        # \"TaA}ir\": \"\",\n",
    "        # \"Ejl\": \"calf\",\n",
    "        # \"jml\": \"camel\",\n",
    "        # \"bEr\": \"camel\",\n",
    "        # \"nwq\": \"camel\",\n",
    "        # \"<ibil\": \"camel\",\n",
    "        # \"hym\": \"camel\",\n",
    "        # \"E$r\": \"camel\",\n",
    "        # \"bqr\": \"(?:heifer|cow)\",\n",
    "        # \"grb\": \"(?:raven|crow)\",\n",
    "        # \"klb\": \"(?:dog|hound)\",\n",
    "        # \"Hmr\": \"(?:donkey|ass)\",\n",
    "        # \"fyl\": \"elephant\",\n",
    "        # \"nEj\": \"ewe\",\n",
    "        # \"Hwt\": \"fish\",\n",
    "        # \"*bb\": \"(?:fly|flies)\",\n",
    "        # \"DfdE\": \"frog\",\n",
    "        # \"mEz\": \"goat\",\n",
    "        # \"hdhd\": \"hoopoe\",\n",
    "        # \"xyl\": \"(?:horse|cavalry)\",\n",
    "        # \"jwd\": \"steed\",\n",
    "        # \"qml\": \"lice\",\n",
    "        # \"qsr\": \"lion\",\n",
    "        # \"jrd\": \"locust\",\n",
    "        # \"bED\": \"mosquito\",\n",
    "        # \"fr$\": \"moth\",\n",
    "        # \"bgl\": \"mule\",\n",
    "        # \"xnzr\": \"(?:pig|swine)\",\n",
    "        # \"slw\": \"quail\",\n",
    "        # \"gnm\": \"sheep\",\n",
    "        # \"vEb\": \"(?:serpent|snake)\",\n",
    "        # \"Hyy\": \"(?:serpent|snake)\",\n",
    "        # \"jaAn~\": \"(?:snake|serpent|jinn)\",\n",
    "        # \"Enkb\": \"spider\",\n",
    "        # \"*#b\": \"wolf\",\n",
    "        # \"nEm\": \"(?:cattle|livestock)\",\n",
    "        # \"bhm\": \"\",\n",
    "        # \"dbb\": \"(?:creature|animal|beast)\",\n",
    "\n",
    "        # # # # languages\n",
    "         \n",
    "        # # hindi\n",
    "        # \"msk\": \"musk\",\n",
    "        \n",
    "        # # ge'ez\n",
    "        # \"Hwr\": \"disciple\",\n",
    "        # # \"zrb\": \"\",\n",
    "\n",
    "        # # egyptian\n",
    "        # # coptic\n",
    "        # # \"xtm\": \"seal\",\n",
    "        # \"taAbuwt\": \"(?:ark|chest|.*)\",\n",
    "        # \"Tgy\": \"(?:idol|deit|god|evil)\",\n",
    "        # \"jbt\": \"(?:copt|gypsy|superstition)\",\n",
    "\n",
    "        # # latin\n",
    "        # \"sij~iyl\": \"clay\",\n",
    "        # \"sjl\": \"scroll\",\n",
    "        # \"qnTr\": \"(?:centenarium|heap|wealth|store)\",\n",
    "        # \"dnr\": \"(?:denarius|coin)\",\n",
    "        # \"qmS\": \"shirt\",\n",
    "        # \"qSr\": \"(?:castle|palace|fort)\",\n",
    "        # # \"SrT\": \"(?:path|way)\"\n",
    "\n",
    "        # # greek\n",
    "        # \"qsTs\": \"balance\",\n",
    "        # \"qrTs\": \"parchment\",\n",
    "        # \"drhm\": \"dirham\",\n",
    "        # \"qld\": \"key\",\n",
    "        # # \"qld\": \"garland\",\n",
    "        # \"qlm\": \"(?:pen|reed|cane)\",\n",
    "        # \"sTr\": \"(?:story|tale)\",\n",
    "\n",
    "        # # christian syriac\n",
    "        # \"nHs\": \"(?:copper|bronze|brass|smoke)\",\n",
    "        # \"krs\": \"throne\",\n",
    "        # \"Abb\": \"(?:pasture|grass)\",\n",
    "        # # \"Ajr\": \"(?:reward)\",\n",
    "        # # \"sbl\": \"(?:way|path)\",\n",
    "        \n",
    "        # # jewish aramaic\n",
    "        # \"jlw\": \"exile\",\n",
    "        # \"sbt\": \"(?:sabbath|rest)\",\n",
    "        # \"sbT\": \"(?:tribe|descendants|scepter|rod|stick)\",\n",
    "        # \"safarap\": \"scribe\",\n",
    "        # \"sfr\": \"book\",\n",
    "        # \"rbb\": \"(?:the rabbis|worshipper)\",\n",
    "        # \"rib~iy~uwn\": \"(?:scholar)\",\n",
    "        # \"bhm\": \"(?:beast|quadruped)\",\n",
    "        # # \"Sdq\": \"charity\",\n",
    "\n",
    "        # # akkadian\n",
    "        # \"fxr\": \"pottery\",\n",
    "        # \">asowaAq\": \"market\",\n",
    "        # \"swq\": \"(?:leg|shin|stem)\",\n",
    "        # \"frt\": \"(?:sweet|fresh)\",\n",
    "        # \"swr\": \"(?:bracelet|fetter|chain)\",\n",
    "        # \"k#s\": \"cup\",\n",
    "        # \"sunodus\": \"silk\",\n",
    "        # # \"sTr\": \"(?:writ)\",\n",
    "        # # \"sTr\": \"(?:control)\",\n",
    "\n",
    "        # # farsi\n",
    "        # \"fyl\": \"elephant\",\n",
    "        # \"fxr\": \"boast\",\n",
    "        # \"fwj\": \"(?:group|company|.*)\",\n",
    "        # \"srj\": \"(?:lamp|.*)\",\n",
    "        # \">abaAriyq\": \"(?:jug)\",\n",
    "        # \"Efr\": \"strong\",\n",
    "        # \"tan~uwr\": \"oven\",\n",
    "        # \"jnh\": \"(?:blame|sin)\",\n",
    "        # \"jnd\": \"(?:host|troop|army|force)\",\n",
    "        # \"srd\": \"link\",\n",
    "        # \"srdq\": \"wall\",\n",
    "        # \"firodaws\": \"paradise\",\n",
    "        # \"mjs\": \"mag\",\n",
    "        # \"srbl\": \"(?:trouser|pants|garment)\",\n",
    "        # \"kaAfuwr\": \"(?:camphor|kafur)\",\n",
    "        # \"zanjabiyl\": \"(?:ginger|zanjabil)\",\n",
    "        # \"barozax\": \"barrier\",\n",
    "        # \"knz\": \"(?:treasure|hoard)\",\n",
    "        # \"<isotibraq\": \"(?:brocade|silk)\",\n",
    "        # \"Ebqr\": \"carpet\",\n",
    "        # \"namaAriq\": \"cushion\",\n",
    "        # \"Ark\": \"(?:couch|throne)\",\n",
    "        # \"zmhr\": \"cold\",\n",
    "        # \"m$j\": \"mix\",\n",
    "        # \"mzj\": \"mix\",\n",
    "        # \"wzr\": \"(?:minister|assist|bear|burden|refuge)\",\n",
    "        # # \"Er$\": \"(?:erect|construct|roof|throne|trellis)\",\n",
    "        # # \"dwl\": \"(?:circul|alter)\"\n",
    "\n",
    "        \"A^dam\": \"(?:Adam|)\",\n",
    "        \"nuwH\": \"(?:Nuh|)\",\n",
    "        \"<idoriys\": \"(?:Idris|)\",\n",
    "        \"huwd/Ewd\": \"(?:Hud|)/Aad\",\n",
    "        \"SaAliH/vamuwd\": \"(?:Salih)/Thamud\",\n",
    "        \"tub~aE\": \"Tubba\",\n",
    "        \">ayokap\": \"wood\",\n",
    "        \"ras~\": \"(?:rass|Raas)\",\n",
    "        \"Hijor\": \"(?:the Rocky Tract)\",\n",
    "        \"<iram\": \"(?:Aram|Iram)\",\n",
    "        \"<iboraAhiym\": \"(?:Ibrahim|)\",\n",
    "        \"luwT\": \"(?:Lut)\",\n",
    "        \"<isoma`Eiyl\": \"(?:Ishmael|)\",\n",
    "        \"<isoHaAq\": \"(?:Isaac|)\",\n",
    "        \"yaEquwb\": \"(?:Yaqub|)\",\n",
    "        \"yuwsuf\": \"(?:Yusuf|)\",\n",
    "        \">ay~uwb\": \"(?:Ayyub|)\",\n",
    "        \"$uEayb/madoyan\": \"(?:Shuaib|)/(?:Midian|Madyan)\",\n",
    "        \"muwsaY/firoEawon\": \"(?:Musa|)/(?:Pharaoh|Firaun)\",\n",
    "        \"ha`ruwn\": \"(?:Harun|)\",\n",
    "        \"TaAluwt/jaAluwt\": \"(?:Saul|Talut)/(?:Goliath|Jalut)\",\n",
    "        \"daAwud\": \"(?:Dawood|Dawud|)\",\n",
    "        \"sulaymaAn\": \"(?:Sulaiman|)\",\n",
    "        \"kifol\": \"(?:Kifl)\",\n",
    "        \"nuwn/yuwnus\": \"(?:Nun)/(?:Yunus)\",\n",
    "        \"<iloyaAs\": \"(?:Elijah|)\",\n",
    "        \"yasaE\": \"(?:Elisha)\",\n",
    "        \"qrn\": \"(?:Qarnain)\",\n",
    "        \"Euzayor\": \"(?:Uzair)\",\n",
    "        \"luqomaAn\": \"(?:Luqman)\",\n",
    "        \"zakariy~aA\": \"(?:Zakariya|)\",\n",
    "        \"yaHoyaY\": \"(?:Yahya)\",\n",
    "        \"maroyam\": \"(?:Mary)\",\n",
    "        \"EiysaY/Aibn maryam\": \"isa/son mary\",\n",
    "        \"muHam~ad\": \"(?:Muhammad|)\",\n",
    "\n",
    "    },\n",
    "\n",
    "    \"anbiya\",\n",
    "    # \"hindi2\",\n",
    "    # \"habshi2\",\n",
    "    # \"jibti2\",\n",
    "    # \"latin2\",\n",
    "    # \"greek2\",\n",
    "    # \"syriac2\",\n",
    "    # \"aramaic2\",\n",
    "    # \"akkadian2\",\n",
    "    # \"farsi2\",\n",
    "    # \"a'jami_vocab\",\n",
    "    # \"haywan\",\n",
    "\n",
    "    \"ar-tafsir-al-tabari\"\n",
    "\n",
    "    ### tafsir reference language\n",
    "    # 'Arabic',\n",
    "    # /\n",
    "    # '1',\n",
    "\n",
    "    ### presentation style\n",
    "    # pres='plot',\n",
    "\n",
    "    )"
   ]
  },
  {
   "cell_type": "code",
   "execution_count": null,
   "metadata": {},
   "outputs": [],
   "source": [
    "from qChronolyze import sortchron\n",
    "\n",
    "sortchron(\n",
    "    \n",
    "    ### enter pair of word/root and meaning filtering regex as key-value pair dictionary\n",
    "    {\n",
    "        # 'mlk':  # english word / transliterated root https://corpus.quran.com/java/buckwalter.jsp\n",
    "        # '(?:angel|messenger)'   # regex filter for meaning\n",
    "        # ,\n",
    "        # # # ''\n",
    "        # 'jiboriyl':\"\",\n",
    "        # 'miykaY`l': \"\",\n",
    "        # 'ha`ruwt': \"harut\",\n",
    "        # 'maAruwt': \"marut\",\n",
    "\n",
    "        # '$Tn':\n",
    "        # '(?:devil|[^d]evil|demon|shaitaan)'\n",
    "        # ,\n",
    "        # \"<iboliys\":\"\",\n",
    "        # \"bls\":\"\",\n",
    "        # 'jnn':\n",
    "        # '(?:jinn|snake|serpent)'\n",
    "        # ,\n",
    "        # \"jaAn~\": \"(?:snake|jinn)\",\n",
    "        # 'Hyy':\n",
    "        # 'snake'\n",
    "        # ,\n",
    "        # 'qrn':\n",
    "        # 'companion'\n",
    "        # ,\n",
    "        # 'mrd':\n",
    "        # 'rebellious'\n",
    "        # ,\n",
    "        # 'Eiforiyt':\n",
    "        # ''\n",
    "        # ,\n",
    "\n",
    "        # \"sHr\": \"\",\n",
    "        # 'jbt': \"\",\n",
    "        # \"nfv\": \"\",\n",
    "\n",
    "        # 'nfs':\n",
    "        # '(?:soul|self)'\n",
    "        # ,\n",
    "        # \"nfx\": \"\",\n",
    "        # \"Suwr\": \"\",\n",
    "        # \"Swr\": \"\",\n",
    "        # 'rwH':\n",
    "        # '(?:spirit|soul)'\n",
    "        # ,\n",
    "        # \"ruwH\": \"\",\n",
    "\n",
    "        # \"masiyH\":\"\",\n",
    "        # \"EiysaY\": \"isa\",\n",
    "        # \"maryam\": \"\",\n",
    "        # \"yaHoyaY`\": \"yahya\",\n",
    "        # \"zakariy~aA\": \"zakariya\",\n",
    "        # \"EimoraAn\": \"imran\",\n",
    "        # \"kalimap\": \"(?:word|.*)\",\n",
    "        # \"kalaAm\": \"(?:word|.*)\",\n",
    "        # \"Tayor\": \"(?:bird)\",\n",
    "        # \"mahod\": \"bed\",\n",
    "        # \"fTr\": \"\",\n",
    "        # \"ftr\": \"\",\n",
    "        # \"muwsaY\": \"musa\",\n",
    "\n",
    "        # idols        \n",
    "        # \"wad~\": \"wadd\",\n",
    "        # r\"{ll~a`t\": \"\",\n",
    "        # r\"{loEuz~aY`\": \"\",\n",
    "        # 'manaw`p': \"\",\n",
    "        # 'baEol2': \"\",\n",
    "        # 'maAlik': \"malik\",\n",
    "        # 'suwaAE': \"\",\n",
    "        # 'yaguwv': \"\",\n",
    "        # \"yaEuwq\": \"\",\n",
    "        # \"nasor\": \"\",\n",
    "        # \"TaAguwt\": \"\",\n",
    "\n",
    "        # \"SafaA\": \"safa\",\n",
    "        # \"marowap\": \"marwa\",\n",
    "        # \"siyniyn\": \"sin\",\n",
    "        # \"qurayo$\" : \"\",\n",
    "        # \"tub~aE\" : \"tubba\", \n",
    "        # \"saba<\" : \"saba\",\n",
    "        # \"misor\" : \"\",\n",
    "        # \"ruwm\" : \"rom\",\n",
    "        # \"ramaDaAn\" : \"ramadan\",\n",
    "        # \"EarafaAt\": \"arafa\",\n",
    "        # \"bak~ap\": \"bakka\",\n",
    "        # \"bador\": \"badr\",\n",
    "        # \"yavorib\" : \"yathrib\",\n",
    "        # \"makkap\" : \"makka\",\n",
    "        # \"kaEobap\": \"ka'*ba\",\n",
    "        # \"Hunayon\": \"hunayn\",\n",
    "\n",
    "        # \"nml\": \"ant\",\n",
    "        # \"qrd\": \"(?:monkey|ape)\",\n",
    "        # \"nHl\": \"bee\",\n",
    "        # \"Tyr\": \"bird\",\n",
    "        # \"TaA}ir\": \"\",\n",
    "        # \"Ejl\": \"calf\",\n",
    "        # \"jml\": \"camel\",\n",
    "        # \"bEr\": \"camel\",\n",
    "        # \"nwq\": \"camel\",\n",
    "        # \"<ibil\": \"camel\",\n",
    "        # \"hym\": \"camel\",\n",
    "        # \"E$r\": \"camel\",\n",
    "        # \"bqr\": \"(?:heifer|cow)\",\n",
    "        # \"grb\": \"(?:raven|crow)\",\n",
    "        # \"klb\": \"(?:dog|hound)\",\n",
    "        # \"Hmr\": \"(?:donkey|ass)\",\n",
    "        # \"fyl\": \"elephant\",\n",
    "        # \"nEj\": \"ewe\",\n",
    "        # \"Hwt\": \"fish\",\n",
    "        # \"*bb\": \"(?:fly|flies)\",\n",
    "        # \"DfdE\": \"frog\",\n",
    "        # \"mEz\": \"goat\",\n",
    "        # \"hdhd\": \"hoopoe\",\n",
    "        # \"xyl\": \"(?:horse|cavalry)\",\n",
    "        # \"jwd\": \"steed\",\n",
    "        # \"qml\": \"lice\",\n",
    "        # \"qsr\": \"lion\",\n",
    "        # \"jrd\": \"locust\",\n",
    "        # \"bED\": \"mosquito\",\n",
    "        # \"fr$\": \"moth\",\n",
    "        # \"bgl\": \"mule\",\n",
    "        # \"xnzr\": \"(?:pig|swine)\",\n",
    "        # \"slw\": \"quail\",\n",
    "        # \"gnm\": \"sheep\",\n",
    "        # \"vEb\": \"(?:serpent|snake)\",\n",
    "        # \"Hyy\": \"(?:serpent|snake)\",\n",
    "        # \"jaAn~\": \"(?:snake|serpent|jinn)\",\n",
    "        # \"Enkb\": \"spider\",\n",
    "        # \"*#b\": \"wolf\",\n",
    "        # \"nEm\": \"(?:cattle|livestock)\",\n",
    "        # \"bhm\": \"\",\n",
    "        # \"dbb\": \"(?:creature|animal|beast)\",\n",
    "\n",
    "        # # # # languages\n",
    "         \n",
    "        # # hindi\n",
    "        # \"msk\": \"musk\",\n",
    "        \n",
    "        # # ge'ez\n",
    "        # \"Hwr\": \"disciple\",\n",
    "        # # \"zrb\": \"\",\n",
    "\n",
    "        # # egyptian\n",
    "        # # coptic\n",
    "        # # \"xtm\": \"seal\",\n",
    "        # \"taAbuwt\": \"(?:ark|chest|.*)\",\n",
    "        # \"Tgy\": \"(?:idol|deit|god|evil)\",\n",
    "        # \"jbt\": \"(?:copt|gypsy|superstition)\",\n",
    "\n",
    "        # # latin\n",
    "        # \"sij~iyl\": \"clay\",\n",
    "        # \"sjl\": \"scroll\",\n",
    "        # \"qnTr\": \"(?:centenarium|heap|wealth|store)\",\n",
    "        # \"dnr\": \"(?:denarius|coin)\",\n",
    "        # \"qmS\": \"shirt\",\n",
    "        # \"qSr\": \"(?:castle|palace|fort)\",\n",
    "        # # \"SrT\": \"(?:path|way)\"\n",
    "\n",
    "        # # greek\n",
    "        # \"qsTs\": \"balance\",\n",
    "        # \"qrTs\": \"parchment\",\n",
    "        # \"drhm\": \"dirham\",\n",
    "        # \"qld\": \"key\",\n",
    "        # # \"qld\": \"garland\",\n",
    "        # \"qlm\": \"(?:pen|reed|cane)\",\n",
    "        # \"sTr\": \"(?:story|tale)\",\n",
    "\n",
    "        # # christian syriac\n",
    "        # \"nHs\": \"(?:copper|bronze|brass|smoke)\",\n",
    "        # \"krs\": \"throne\",\n",
    "        # \"Abb\": \"(?:pasture|grass)\",\n",
    "        # # \"Ajr\": \"(?:reward)\",\n",
    "        # # \"sbl\": \"(?:way|path)\",\n",
    "        \n",
    "        # # jewish aramaic\n",
    "        # \"jlw\": \"exile\",\n",
    "        # \"sbt\": \"(?:sabbath|rest)\",\n",
    "        # \"sbT\": \"(?:tribe|descendants|scepter|rod|stick)\",\n",
    "        # \"safarap\": \"scribe\",\n",
    "        # \"sfr\": \"book\",\n",
    "        # \"rbb\": \"(?:the rabbis|worshipper)\",\n",
    "        # \"rib~iy~uwn\": \"(?:scholar)\",\n",
    "        # \"bhm\": \"(?:beast|quadruped)\",\n",
    "        # # \"Sdq\": \"charity\",\n",
    "\n",
    "        # # akkadian\n",
    "        # \"fxr\": \"pottery\",\n",
    "        # \">asowaAq\": \"market\",\n",
    "        # \"swq\": \"(?:leg|shin|stem)\",\n",
    "        # \"frt\": \"(?:sweet|fresh)\",\n",
    "        # \"swr\": \"(?:bracelet|fetter|chain)\",\n",
    "        # \"k#s\": \"cup\",\n",
    "        # \"sunodus\": \"silk\",\n",
    "        # # \"sTr\": \"(?:writ)\",\n",
    "        # # \"sTr\": \"(?:control)\",\n",
    "\n",
    "        # # farsi\n",
    "        # \"fyl\": \"elephant\",\n",
    "        # \"fxr\": \"boast\",\n",
    "        # \"fwj\": \"(?:group|company|.*)\",\n",
    "        # \"srj\": \"(?:lamp|.*)\",\n",
    "        # \">abaAriyq\": \"(?:jug)\",\n",
    "        # \"Efr\": \"strong\",\n",
    "        # \"tan~uwr\": \"oven\",\n",
    "        # \"jnh\": \"(?:blame|sin)\",\n",
    "        # \"jnd\": \"(?:host|troop|army|force)\",\n",
    "        # \"srd\": \"link\",\n",
    "        # \"srdq\": \"wall\",\n",
    "        # \"firodaws\": \"paradise\",\n",
    "        # \"mjs\": \"mag\",\n",
    "        # \"srbl\": \"(?:trouser|pants|garment)\",\n",
    "        # \"kaAfuwr\": \"(?:camphor|kafur)\",\n",
    "        # \"zanjabiyl\": \"(?:ginger|zanjabil)\",\n",
    "        # \"barozax\": \"barrier\",\n",
    "        # \"knz\": \"(?:treasure|hoard)\",\n",
    "        # \"<isotibraq\": \"(?:brocade|silk)\",\n",
    "        # \"Ebqr\": \"carpet\",\n",
    "        # \"namaAriq\": \"cushion\",\n",
    "        # \"Ark\": \"(?:couch|throne)\",\n",
    "        # \"zmhr\": \"cold\",\n",
    "        # \"m$j\": \"mix\",\n",
    "        # \"mzj\": \"mix\",\n",
    "        # \"wzr\": \"(?:minister|assist|bear|burden|refuge)\",\n",
    "        # # \"Er$\": \"(?:erect|construct|roof|throne|trellis)\",\n",
    "        # # \"dwl\": \"(?:circul|alter)\"\n",
    "\n",
    "\n",
    "        # \"rwD\": \"(?:meadow|garden)\"\n",
    "        # \"'aAzar\": \"Azar\"\n",
    "        # \"dyn\": \"(?:religion|judgement)\"\n",
    "        \n",
    "        # \"Dnk\": \"\"\n",
    "\n",
    "        # \"A^dam\": \"(?:Adam|)\",\n",
    "        # \"nuwH\": \"(?:Nuh|)\",\n",
    "        # \"<idoriys\": \"(?:Idris|)\",\n",
    "        # \"huwd/Ewd\": \"(?:Hud|)/Aad\",\n",
    "        # \"SaAliH/vamuwd\": \"(?:Salih)/Thamud\",\n",
    "        # \"tub~aE\": \"Tubba\",\n",
    "        # \">ayokap\": \"wood\",\n",
    "        # \"ras~\": \"(?:rass|Raas)\",\n",
    "        # \"Hijor\": \"(?:the Rocky Tract)\",\n",
    "        # \"<iram\": \"(?:Aram|Iram)\",\n",
    "        # \"<iboraAhiym\": \"(?:Ibrahim|)\",\n",
    "        # \"luwT\": \"(?:Lut)\",\n",
    "        # \"<isoma`Eiyl\": \"(?:Ishmael|)\",\n",
    "        # \"<isoHaAq\": \"(?:Isaac|)\",\n",
    "        # \"yaEquwb\": \"(?:Yaqub|)\",\n",
    "        # \"yuwsuf\": \"(?:Yusuf|)\",\n",
    "        # \">ay~uwb\": \"(?:Ayyub|)\",\n",
    "        # \"$uEayb/madoyan\": \"(?:Shuaib|)/(?:Midian|Madyan)\",\n",
    "        # \"muwsaY/firoEawon\": \"(?:Musa|)/(?:Pharaoh|Firaun)\",\n",
    "        # \"ha`ruwn\": \"(?:Harun|)\",\n",
    "        # \"TaAluwt/jaAluwt\": \"(?:Saul|Talut)/(?:Goliath|Jalut)\",\n",
    "        # \"daAwud\": \"(?:Dawood|Dawud|)\",\n",
    "        # \"sulaymaAn\": \"(?:Sulaiman|)\",\n",
    "        # \"kifol\": \"(?:Kifl)\",\n",
    "        # \"nuwn/yuwnus\": \"(?:Nun)/(?:Yunus)\",\n",
    "        # \"<iloyaAs\": \"(?:Elijah|)\",\n",
    "        # \"yasaE\": \"(?:Elisha)\",\n",
    "        # \"qrn\": \"(?:Qarnain)\",\n",
    "        # \"Euzayor\": \"(?:Uzair)\",\n",
    "        # \"luqomaAn\": \"(?:Luqman)\",\n",
    "        # \"zakariy~aA\": \"(?:Zakariya|)\",\n",
    "        # \"yaHoyaY\": \"(?:Yahya)\",\n",
    "        # \"maroyam\": \"(?:Mary)\",\n",
    "        # \"EiysaY/Aibn maryam\": \"isa/son mary\",\n",
    "        # \"muHam~ad\": \"(?:Muhammad|)\",\n",
    "    },\n",
    "\n",
    "    ### tafsir reference language\n",
    "    # 'Arabic',\n",
    "    # /\n",
    "    # '1',\n",
    "\n",
    "    ### presentation style\n",
    "    pres='plot',\n",
    "\n",
    "    )"
   ]
  },
  {
   "cell_type": "code",
   "execution_count": 25,
   "metadata": {},
   "outputs": [
    {
     "data": {
      "text/plain": [
       "'a'"
      ]
     },
     "execution_count": 25,
     "metadata": {},
     "output_type": "execute_result"
    }
   ],
   "source": [
    "strn = 'abc'\n",
    "strn[-len(strn)]"
   ]
  },
  {
   "cell_type": "code",
   "execution_count": 5,
   "metadata": {},
   "outputs": [
    {
     "name": "stdout",
     "output_type": "stream",
     "text": [
      "fT?raY?\n"
     ]
    }
   ],
   "source": [
    "# import os\n",
    "# 'ftr.tsv' in os.listdir(\"data/roots\")\n",
    "import re\n",
    "flnm = re.sub('([A-Z])','\\\\1?', rt)\n",
    "print(flnm)"
   ]
  },
  {
   "cell_type": "code",
   "execution_count": 5,
   "metadata": {},
   "outputs": [
    {
     "name": "stdout",
     "output_type": "stream",
     "text": [
      "surah:ayah\tposition\tword\tmeaning\tayah_link\n",
      "6:79\t5\tfaṭara\tcreated\t إِنِّي وَجَّهْتُ وَجْهِيَ لِلَّذِي فَطَرَ السَّمَاوَاتِ وَالْأَرْضَ حَنِيفًا\n",
      "11:51\t11\tfaṭaranī\tcreated me\t يَا قَوْمِ لَا أَسْأَلُكُمْ عَلَيْهِ أَجْرًا إِنْ أَجْرِيَ إِلَّا عَلَى الَّذِي فَطَرَنِي\n",
      "17:51\t12\tfaṭarakum\tcreated you\t فَسَيَقُولُونَ مَنْ يُعِيدُنَا قُلِ الَّذِي فَطَرَكُمْ أَوَّلَ مَرَّةٍ\n",
      "19:90\t3\tyatafaṭṭarna\tget torn\t تَكَادُ السَّمَاوَاتُ يَتَفَطَّرْنَ مِنْهُ وَتَنْشَقُّ الْأَرْضُ\n",
      "20:72\t10\tfaṭaranā\tcreated us\t قَالُوا لَنْ نُؤْثِرَكَ عَلَىٰ مَا جَاءَنَا مِنَ الْبَيِّنَاتِ وَالَّذِي فَطَرَنَا\n",
      "21:56\t8\tfaṭarahunna\tcreated them\t قَالَ بَلْ رَبُّكُمْ رَبُّ السَّمَاوَاتِ وَالْأَرْضِ الَّذِي فَطَرَهُنَّ\n",
      "30:30\t8\tfaṭara\tHe has created\t فِطْرَتَ اللَّهِ الَّتِي فَطَرَ النَّاسَ عَلَيْهَا لَا تَبْدِيلَ لِخَلْقِ اللَّهِ\n",
      "36:22\t6\tfaṭaranī\tcreated me\t وَمَا لِيَ لَا أَعْبُدُ الَّذِي فَطَرَنِي وَإِلَيْهِ تُرْجَعُونَ\n",
      "42:5\t3\tyatafaṭṭarna\tbreak up\t تَكَادُ السَّمَاوَاتُ يَتَفَطَّرْنَ مِنْ فَوْقِهِنَّ\n",
      "43:27\t3\tfaṭaranī\tcreated me\t إِلَّا الَّذِي فَطَرَنِي فَإِنَّهُ سَيَهْدِينِ\n",
      "82:1\t3\tinfaṭarat\t(is) cleft asunder\t إِذَا السَّمَاءُ انْفَطَرَتْ\n",
      "30:30\t5\tfiṭ'rata\tNature\t فِطْرَتَ اللَّهِ الَّتِي فَطَرَ النَّاسَ عَلَيْهَا لَا تَبْدِيلَ لِخَلْقِ اللَّهِ\n",
      "67:3\t18\tfuṭūrin\tflaw\t فَارْجِعِ الْبَصَرَ هَلْ تَرَىٰ مِنْ فُطُورٍ\n",
      "6:14\t6\tfāṭiri\tCreator\t قُلْ أَغَيْرَ اللَّهِ أَتَّخِذُ وَلِيًّا فَاطِرِ السَّمَاوَاتِ وَالْأَرْضِ\n",
      "12:101\t10\tfāṭira\tCreator\t فَاطِرَ السَّمَاوَاتِ وَالْأَرْضِ أَنْتَ وَلِيِّي فِي الدُّنْيَا وَالْآخِرَةِ\n",
      "14:10\t6\tfāṭiri\t(the) Creator\t قَالَتْ رُسُلُهُمْ أَفِي اللَّهِ شَكٌّ فَاطِرِ السَّمَاوَاتِ وَالْأَرْضِ\n",
      "35:1\t3\tfāṭiri\tOriginator\t الْحَمْدُ لِلَّهِ فَاطِرِ السَّمَاوَاتِ وَالْأَرْضِ جَاعِلِ الْمَلَائِكَةِ رُسُلًا\n",
      "39:46\t3\tfāṭira\tCreator\t قُلِ اللَّهُمَّ فَاطِرَ السَّمَاوَاتِ وَالْأَرْضِ عَالِمَ الْغَيْبِ وَالشَّهَادَةِ\n",
      "42:11\t1\tfāṭiru\t(The) Creator\t فَاطِرُ السَّمَاوَاتِ وَالْأَرْضِ جَعَلَ لَكُمْ مِنْ أَنْفُسِكُمْ أَزْوَاجًا\n",
      "73:18\t2\tmunfaṭirun\t(will) break apart\t السَّمَاءُ مُنْفَطِرٌ بِهِ كَانَ وَعْدُهُ مَفْعُولًا\n",
      "\n"
     ]
    }
   ],
   "source": [
    "with open('data/roots/fTr.tsv') as f:\n",
    "    strn = f.read()\n",
    "\n",
    "print(strn)"
   ]
  },
  {
   "cell_type": "code",
   "execution_count": 3,
   "metadata": {},
   "outputs": [
    {
     "data": {
      "text/plain": [
       "{'b', 'c'}"
      ]
     },
     "execution_count": 3,
     "metadata": {},
     "output_type": "execute_result"
    }
   ],
   "source": [
    "set1 = {\"a\",\"b\",\"c\"}\n",
    "\n",
    "set1.remove(\"a\")\n",
    "\n",
    "set1"
   ]
  },
  {
   "cell_type": "code",
   "execution_count": 4,
   "metadata": {},
   "outputs": [
    {
     "data": {
      "text/plain": [
       "['a (b)', 'c (d)']"
      ]
     },
     "execution_count": 4,
     "metadata": {},
     "output_type": "execute_result"
    }
   ],
   "source": [
    "[ f'{k} ({v})' for k, v in {\"a\":\"b\",\"c\":\"d\"}.items() ]\n",
    "# [ f'{k}' for k in {\"a\":\"b\",\"c\":\"d\"} ]"
   ]
  },
  {
   "cell_type": "code",
   "execution_count": 253,
   "metadata": {},
   "outputs": [
    {
     "data": {
      "text/plain": [
       "[{'a': 'b', 'c': 'd'}, {'a': 'e', 'c': 'f'}]"
      ]
     },
     "execution_count": 253,
     "metadata": {},
     "output_type": "execute_result"
    }
   ],
   "source": [
    "import pandas as pd\n",
    "\n",
    "df = pd.DataFrame([\n",
    "    {\"a\":\"b\",\"c\":\"d\"},\n",
    "    {\"a\":\"e\",\"c\":\"f\"}\n",
    "])\n",
    "\n",
    "df.to_dict(orient='records')\n",
    "# df"
   ]
  },
  {
   "cell_type": "markdown",
   "metadata": {},
   "source": [
    "# md"
   ]
  },
  {
   "cell_type": "markdown",
   "metadata": {},
   "source": [
    "# obsidian edit"
   ]
  },
  {
   "cell_type": "code",
   "execution_count": null,
   "metadata": {},
   "outputs": [],
   "source": [
    "import re\n",
    "\n",
    "with open(\"/mnt/f/Documents/notes/Ref/iamb.mystery3.md\") as f:\n",
    "# with open(\"/mnt/f/Documents/notes/Ref/iamb.myst/096.html\") as f:\n",
    "    strn = f.read()\n",
    "\n",
    "# matches = re.findall(\"(\\d{1,3})\\:(\\d{1,3})\", strn)\n",
    "\n",
    "# matches\n",
    "\n",
    "# surAys = []\n",
    "\n",
    "\n",
    "rep = re.compile(\n",
    "        # '(?<=[\\n])§\\s*(\\d*)\\s*', \n",
    "        # '<div type=\"textpart\" subtype=\"section\" xml:base=\"urn:cts:greekLit:tlg2023.tlg006.1st1K-grc1:(\\d{1,})\" n=\"(\\d{1,})\">(.*?)</div>',\n",
    "        # '<div type=\"textpart\" subtype=\"section\" xml:base=\"urn:cts:greekLit:tlg2023.tlg006.1st1K-grc1:(\\d{1,})\" n=\"(\\d{1,})\">.*?</div>',\n",
    "        # '<div type=\"textpart\" subtype=\"(?:section|chapter)\" xml:base=\"urn:cts:greekLit:tlg2023.tlg006.1st1K-grc1(?:\\:(\\d{1,}))*\" n=\"(\\d{1,})\">',\n",
    "        '\\n#{1,2}\\s*[c]{0,1}(\\d{1,})\\.{0,1}(\\d{0,})',\n",
    "        # '\\n#{1,2}',\n",
    "        # '((?:SECTION|CHAP\\.) [0IVX]{1,})',\n",
    "        # '<div type=\"textpart\" subtype=\"chapter\" xml:base=\"urn:cts:greekLit:tlg2023.tlg006.1st1K-grc1\" n=\"(\\d{1,})\">(.*?)</div>',\n",
    "        # '<[^>]*?>',\n",
    "        # re.DOTALL\n",
    "    ).findall(\n",
    "    # ).sub(\n",
    "    # '## \\\\1\\n',\n",
    "        # '## \\\\1.\\\\2\\n\\\\3',\n",
    "        # '# c\\\\1\\n\\\\2',\n",
    "        # '',\n",
    "    strn\n",
    ")\n",
    "    # if len(refs) > 0:\n",
    "    #     ref = refs[0]\n",
    "    #     surAys.append(ref)\n",
    "\n",
    "print(len(rep))\n",
    "# print(rep)\n",
    "rep\n",
    "\n",
    "# with open(\"/mnt/f/Documents/notes/Ref/iamb.mystery3.md\", 'w') as f:\n",
    "#     # for surAy in surAys:\n",
    "#     f.write(rep)"
   ]
  },
  {
   "cell_type": "code",
   "execution_count": 167,
   "metadata": {},
   "outputs": [
    {
     "name": "stdout",
     "output_type": "stream",
     "text": [
      "141 141\n"
     ]
    }
   ],
   "source": [
    "import re\n",
    "\n",
    "with open(\"/mnt/f/Documents/notes/Ref/iamb.mystery3.md\") as f:\n",
    "    strn1 = f.read()\n",
    "\n",
    "matches1 = re.compile(\n",
    "    # '[#]{1,}\\s*[c]{0,1}\\d{1,}(?:\\.{0,1})\\d{0,}\\n'\n",
    "    # 'subtype=\"sec'\n",
    "    # '\\n#{1,2}\\s*[c]{0,1}(\\d{1,})\\.{0,1}(\\d{0,})\\n(.*?(?=\\n#|$))',\n",
    "    '\\n#{1,2}\\s*(\\d{1,})\\.(\\d{1,})(.*?(?=\\n#|$))',\n",
    "    re.DOTALL\n",
    ").findall(\n",
    "    strn1\n",
    ")\n",
    "\n",
    "\n",
    "with open(\"/mnt/f/Documents/notes/Ref/iamb.myst/096.html\") as f:\n",
    "    strn2 = f.read()\n",
    "\n",
    "matches2 = re.compile(\n",
    "    # '[#]{1,}\\s*[c]{0,1}\\d{1,}(?:\\.{0,1})\\d{0,}\\n'\n",
    "    # 'subtype=\"sec'\n",
    "    # '\\n#{1,2}\\s*[c]{0,1}(\\d{1,})\\.{0,1}(\\d{0,})\\n(.*?(?=\\n#|$))',\n",
    "    'CHAP\\.\\s[0IVX]*(.*?)(?=CHAP\\.\\s|$)',\n",
    "    re.DOTALL\n",
    ").findall(\n",
    "    strn2\n",
    ")\n",
    "\n",
    "# n = 94\n",
    "print(\n",
    "    len(matches1),\n",
    "    len(matches2)\n",
    "    #   +n\n",
    "      )\n",
    "\n",
    "# matches1\n",
    "strNew = ''\n",
    "for n in range(len(matches1)):\n",
    "    # if n == len(matches1)-1:\n",
    "        # print(\n",
    "        #     matches1[n],\n",
    "        #     matches2[n]\n",
    "        #     )\n",
    "    strNew += f'\\n\\n## {matches1[n][0]}.{matches1[n][1]}\\n{matches1[n][2]}\\n{matches2[n]}'\n",
    "\n",
    "# print(strNew)\n",
    "with open('/mnt/f/Documents/notes/Ref/iamb.myst4.md', 'w') as f:\n",
    "    f.write(strNew)"
   ]
  },
  {
   "cell_type": "code",
   "execution_count": null,
   "metadata": {},
   "outputs": [],
   "source": []
  },
  {
   "cell_type": "markdown",
   "metadata": {},
   "source": [
    "[notes/filename](/mnt/f/Documents/notes/001_eskaton/001_chhatak/mejo_mama/Ghulat/a'jamī/A'jamī_Foreign_words_vocab_in_quran.md)"
   ]
  },
  {
   "cell_type": "markdown",
   "metadata": {},
   "source": [
    "[notes/filename](/mnt/f/Documents/notes/001_eskaton/001_chhatak/mejo_mama/Ghulat/a'jamī/Farsi_persian_iranian.md)"
   ]
  },
  {
   "cell_type": "code",
   "execution_count": 15,
   "metadata": {},
   "outputs": [
    {
     "name": "stdout",
     "output_type": "stream",
     "text": [
      "'sorter.json' found'\n",
      "last item in sorter: 110:3\n",
      "successfully loaded sorter of length 6236 from 'sorter.json'\n",
      "142\n"
     ]
    }
   ],
   "source": [
    "# from qChronolyze import getSorter\n",
    "# sorter = getSorter()\n",
    "\n",
    "# import re\n",
    "\n",
    "# with open(\"/mnt/f/Documents/notes/001_eskaton/001_chhatak/mejo_mama/Ghulat/a'jamī/A'jamī_Foreign_words_vocab_in_quran.md\") as f:\n",
    "#     strn1 = f.read()\n",
    "# with open(\"data/compare/foreign.md\") as f:\n",
    "#     strn2 = f.read()\n",
    "\n",
    "# # matches = re.findall(\"(\\d{1,3})\\:(\\d{1,3})\", strn)\n",
    "\n",
    "# # matches\n",
    "    \n",
    "# # print(strn1)\n",
    "# # print(strn2)\n",
    "\n",
    "# surAys = []\n",
    "\n",
    "# for surAy in sorter:\n",
    "#     refs = re.compile('(?<=#\\s)'+surAy+'(?=[\\n$])', re.DOTALL).findall(strn1)\n",
    "#     if len(refs) > 0:\n",
    "#         ref = refs[0]\n",
    "#         surAys.append(ref)\n",
    "#     refs = re.compile('(?<=#\\s)'+surAy+'(?=[\\n$])', re.DOTALL).findall(strn2)\n",
    "#     if len(refs) > 0 and refs[0] not in surAys:\n",
    "#         ref = refs[0]\n",
    "#         surAys.append(ref)\n",
    "\n",
    "# print(len(surAys))\n",
    "\n",
    "# with open(\"data/compare/foreign_new.md\", 'a') as f:        \n",
    "#     for surAy in surAys:\n",
    "#         refs = re.compile(\"#\\s*\"+surAy+\"\\n.*?\\n(?=(?:#\\s\\d{1,3}\\:\\d{1,3}\\n|$))\", re.DOTALL).findall(strn1)\n",
    "#         if len(refs) > 0:\n",
    "#             f.write(refs[0])\n",
    "#         if len(refs) == 0:\n",
    "#             f.write(\n",
    "#                 '# '+surAy+'\\n'+\n",
    "#                 '![[Qsortedrukued#'+surAy+']]\\n'\n",
    "#             )"
   ]
  },
  {
   "cell_type": "code",
   "execution_count": null,
   "metadata": {},
   "outputs": [
    {
     "name": "stdout",
     "output_type": "stream",
     "text": [
      "'sorter.json' found'\n",
      "last item in sorter: 110:3\n",
      "successfully loaded sorter of length 6236 from 'sorter.json'\n"
     ]
    }
   ],
   "source": [
    "# from qChronolyze import getSorter\n",
    "# sorter = getSorter()\n",
    "\n",
    "# import re\n",
    "\n",
    "# with open(\"data/compare/foreign.txt\") as f:\n",
    "#     strn = f.read()\n",
    "\n",
    "# # matches = re.findall(\"(\\d{1,3})\\:(\\d{1,3})\", strn)\n",
    "\n",
    "# # matches\n",
    "\n",
    "# surAys = []\n",
    "\n",
    "# for surAy in sorter:\n",
    "#     refs = re.compile('(?<=[\\n\\^])'+surAy+'(?=[\\n$])', re.DOTALL).findall(strn)\n",
    "#     if len(refs) > 0:\n",
    "#         ref = refs[0]\n",
    "#         surAys.append(ref)\n",
    "\n",
    "# with open(\"data/compare/foreign.md\", 'a') as f:\n",
    "#     for surAy in surAys:\n",
    "#         f.write(\n",
    "#             '# '+surAy+'\\n'+\n",
    "#             '![[Qsortedrukued#'+surAy+']]\\n'\n",
    "#         )"
   ]
  },
  {
   "cell_type": "code",
   "execution_count": 7,
   "metadata": {},
   "outputs": [],
   "source": [
    "# import re\n",
    "\n",
    "# with open(\"data/ref/to.txt\") as f:\n",
    "#     strn = f.read()\n",
    "\n",
    "# matches = re.findall(\"(\\S*) verse (\\d{1,3})\", strn)\n",
    "\n",
    "# matches\n",
    "\n",
    "# with open(\"data/compare/foreign.txt\", 'a') as f:\n",
    "#     for match in matches:\n",
    "#         f.write(match[0]+':'+match[1]+'\\n')"
   ]
  },
  {
   "cell_type": "code",
   "execution_count": 189,
   "metadata": {},
   "outputs": [
    {
     "name": "stdout",
     "output_type": "stream",
     "text": [
      "'sorter.json' found'\n",
      "last item in sorter: 110:3\n",
      "successfully loaded sorter of length 6236 from 'sorter.json'\n",
      "45\n"
     ]
    }
   ],
   "source": [
    "# from qChronolyze import getSorter\n",
    "# sorter = getSorter()\n",
    "\n",
    "# import re\n",
    "# with open(\"/mnt/f/Documents/notes/001_eskaton/001_chhatak/mejo_mama/Ghulat/a'jamī/A'jamī_Foreign_words_vocab_in_quran.md\") as f:\n",
    "#     strn = f.read()\n",
    "\n",
    "# surAys = []\n",
    "\n",
    "# for surAy in sorter:\n",
    "#     refs = re.compile(\"#\\s*\"+surAy+\"\\n.*?\\n(?=(?:#\\s\\d{1,3}\\:\\d{1,3}\\n|$))\", re.DOTALL).findall(strn)\n",
    "#     if len(refs) > 0:\n",
    "#         ref = \"\\n\".join(refs)\n",
    "#         surAys.append(ref)\n",
    "\n",
    "# print(len(surAys))\n",
    "# surAys\n",
    "\n",
    "# with open(\"/mnt/f/Documents/notes/001_eskaton/001_chhatak/mejo_mama/Ghulat/a'jamī/A'jamī_Foreign_words_vocab_in_quran_new.md\", 'a') as f:\n",
    "#     for ref in surAys:\n",
    "#         f.write(ref+'\\n')"
   ]
  },
  {
   "cell_type": "code",
   "execution_count": null,
   "metadata": {},
   "outputs": [],
   "source": [
    "# import re\n",
    "# with open(\"/mnt/f/Documents/notes/001_eskaton/001_chhatak/mejo_mama/Ghulat/a'jamī/Farsi_persian_iranian.md\") as f:\n",
    "#     # matches = re.compile(r'\\[Q#s(\\d{1})#*(\\d{1})\\]').findall(f.read())\n",
    "#     # print(matches)\n",
    "#     matches = re.compile(r\"(?<=[\\n\\^])(?:!\\[\\[A'jamī_Foreign_words_vocab_in_quran.*\\]\\]|(?<=[\\n\\^])#\\s*.*?(?=[\\n$]))\").findall(f.read())\n",
    "#     # substr = re.compile(r'(?:\\[.*\\]|)').sub('', f.read())\n",
    "#     # print(substr)\n",
    "#     # re.findall\n",
    "# with open(\"/mnt/f/Documents/notes/001_eskaton/001_chhatak/mejo_mama/Ghulat/a'jamī/Farsi_persian_iranian_new.md\", 'a') as f:\n",
    "#     for match in matches:\n",
    "#         f.write(match+'\\n')\n",
    "# # matches"
   ]
  },
  {
   "cell_type": "code",
   "execution_count": 46,
   "metadata": {},
   "outputs": [],
   "source": [
    "# import re\n",
    "# with open('/mnt/f/Documents/notes/001_eskaton/001_chhatak/mejo_mama/Ghulat/umm_l_kitab.md') as f:\n",
    "#     # matches = re.compile(r'\\[Q#s(\\d{1})#*(\\d{1})\\]').findall(f.read())\n",
    "#     # print(matches)\n",
    "#     substr = re.compile(r'\\[Q#s(\\d{1,})#*(\\d{1,})\\]').sub('[Qsorted#\\\\1:\\\\2]', f.read())\n",
    "#     # print(substr)\n",
    "# with open('data/ref/test.md', 'w') as f:\n",
    "#     f.write(substr)"
   ]
  },
  {
   "cell_type": "code",
   "execution_count": null,
   "metadata": {},
   "outputs": [],
   "source": [
    "# import os\n",
    "# import re\n",
    "\n",
    "# def list_files_recursive(path='.'):\n",
    "# \tfor entry in os.listdir(path):\n",
    "# \t\tfull_path = os.path.join(path, entry)\n",
    "# \t\tif os.path.isdir(full_path):\n",
    "# \t\t\tlist_files_recursive(full_path)\n",
    "# \t\telse:\n",
    "# \t\t\t# print(full_path[-3:])\n",
    "# \t\t\tif full_path[-3:] == '.md':\n",
    "# \t\t\t    # print(full_path)\n",
    "# \t\t\t\twith open(full_path) as f:\n",
    "# \t\t\t\t\tstrng = f.read()\n",
    "# \t\t\t\t\tmatches = re.compile(r'\\[Q#s(\\d{1,})#*(\\d{1,})\\]').findall(strng)\n",
    "# \t\t\t\t\tif len(matches) > 0:\n",
    "# \t\t\t\t\t# if True:\n",
    "# \t\t\t\t\t\t# print(len(matches))\n",
    "# \t\t\t\t\t# print(matches)\n",
    "# \t\t\t\t\t\tsubstr = re.compile(r'\\[Q#s(\\d{1,})#*(\\d{1,})\\]').sub('[Qsorted#\\\\1:\\\\2]', strng)\n",
    "# \t\t\t\t\t\t# print(substr)\n",
    "# \t\t\t\t\t\twith open(full_path, 'w') as f:\n",
    "# \t\t\t\t\t\t\tf.write(substr)\n",
    "\n",
    "# # Specify the directory path you want to start from\n",
    "# directory_path = '/mnt/f/Documents/notes'\n",
    "# list_files_recursive(directory_path)\n"
   ]
  },
  {
   "cell_type": "markdown",
   "metadata": {},
   "source": [
    "# surayed"
   ]
  },
  {
   "cell_type": "code",
   "execution_count": 34,
   "metadata": {},
   "outputs": [
    {
     "name": "stdout",
     "output_type": "stream",
     "text": [
      "بِسْمِ ٱللَّهِ \n"
     ]
    }
   ],
   "source": [
    "with open('data/ref/uthmani-qurancom.md') as f:\n",
    "    qStr=f.read()\n",
    "print(qStr[55:70])"
   ]
  },
  {
   "cell_type": "code",
   "execution_count": 35,
   "metadata": {},
   "outputs": [],
   "source": [
    "import  re\n",
    "\n",
    "serial_ayah_pair = re.compile('#\\s*(\\d*)[\\n\\s]*(.*)(?=[\\n\\s]*[#]*)').findall(qStr)\n",
    "# re.compile('#\\s*(\\d*)').sub(qStr)"
   ]
  },
  {
   "cell_type": "code",
   "execution_count": 36,
   "metadata": {},
   "outputs": [],
   "source": [
    "import json\n",
    "with open('qdict.json') as f:\n",
    "    qDict = json.loads(f.read())"
   ]
  },
  {
   "cell_type": "code",
   "execution_count": 37,
   "metadata": {},
   "outputs": [
    {
     "data": {
      "text/plain": [
       "6236"
      ]
     },
     "execution_count": 37,
     "metadata": {},
     "output_type": "execute_result"
    }
   ],
   "source": [
    "len(serial_ayah_pair)"
   ]
  },
  {
   "cell_type": "code",
   "execution_count": 38,
   "metadata": {},
   "outputs": [
    {
     "data": {
      "text/plain": [
       "dict_keys(['1', '2', '3', '4', '5', '6', '7', '8', '9', '10', '11', '12', '13', '14', '15', '16', '17', '18', '19', '20', '21', '22', '23', '24', '25', '26', '27', '28', '29', '30', '31', '32', '33', '34', '35', '36', '37', '38', '39', '40', '41', '42', '43', '44', '45', '46', '47', '48', '49', '50', '51', '52', '53', '54', '55', '56', '57', '58', '59', '60', '61', '62', '63', '64', '65', '66', '67', '68', '69', '70', '71', '72', '73', '74', '75', '76', '77', '78', '79', '80', '81', '82', '83', '84', '85', '86', '87', '88', '89', '90', '91', '92', '93', '94', '95', '96', '97', '98', '99', '100', '101', '102', '103', '104', '105', '106', '107', '108', '109', '110', '111', '112', '113', '114'])"
      ]
     },
     "execution_count": 38,
     "metadata": {},
     "output_type": "execute_result"
    }
   ],
   "source": [
    "qDict.keys()"
   ]
  },
  {
   "cell_type": "code",
   "execution_count": 39,
   "metadata": {},
   "outputs": [],
   "source": [
    "sur = 1\n",
    "ay = 1\n",
    "# ser = 1\n",
    "no_ayah_pairs = {}\n",
    "\n",
    "for pair in serial_ayah_pair:\n",
    "    no_ayah_pairs[f'{sur}:{ay}'] = pair[1]\n",
    "    ay += 1\n",
    "    if ay > qDict[str(sur)]['verse_count']:\n",
    "        sur += 1\n",
    "        ay = 1"
   ]
  },
  {
   "cell_type": "code",
   "execution_count": 40,
   "metadata": {},
   "outputs": [
    {
     "name": "stdout",
     "output_type": "stream",
     "text": [
      "بِسْمِ ٱللَّهِ \n"
     ]
    }
   ],
   "source": [
    "with open('data/ref/uthmani-qurancom.md') as f:\n",
    "    qStr=f.read()\n",
    "print(qStr[55:70])"
   ]
  },
  {
   "cell_type": "code",
   "execution_count": 41,
   "metadata": {},
   "outputs": [],
   "source": [
    "saQstr = ''\n",
    "for suray, vrs in no_ayah_pairs.items():\n",
    "    if suray.split(':')[1] == \"1\":\n",
    "        sur = suray.split(':')[0]\n",
    "        # print(sur)\n",
    "        saQstr += f'# s{sur}\\n\\n' + f'{qDict[str(sur)][\"surah_name\"]}\\n\\n'\n",
    "    saQstr += f'### {suray}\\n\\n{vrs}\\n\\n'"
   ]
  },
  {
   "cell_type": "code",
   "execution_count": 42,
   "metadata": {},
   "outputs": [],
   "source": [
    "with open('data/ref/QSAed.md', 'w') as f:\n",
    "    f.write(saQstr)"
   ]
  },
  {
   "cell_type": "markdown",
   "metadata": {},
   "source": [
    "# rukued"
   ]
  },
  {
   "cell_type": "code",
   "execution_count": 43,
   "metadata": {},
   "outputs": [],
   "source": [
    "import re\n",
    "with open('rukus4.txt') as f:\n",
    "    rukuStr = f.read()\n",
    "\n",
    "rukus = rukuStr.split('\\n')"
   ]
  },
  {
   "cell_type": "code",
   "execution_count": 44,
   "metadata": {},
   "outputs": [
    {
     "data": {
      "text/plain": [
       "(554, '114:1:1-6')"
      ]
     },
     "execution_count": 44,
     "metadata": {},
     "output_type": "execute_result"
    }
   ],
   "source": [
    "len(rukus),  rukus[-1]"
   ]
  },
  {
   "cell_type": "code",
   "execution_count": 50,
   "metadata": {},
   "outputs": [],
   "source": [
    "with open('data/ref/QSAed.md') as f:\n",
    "    q = f.read()\n",
    "\n",
    "qRukued = q\n",
    "\n",
    "# count = 0\n",
    "import re\n",
    "for ruku in rukus:\n",
    "    surah = ruku.split(\":\")[0]\n",
    "    rukuno = ruku.split(\":\")[1]\n",
    "    rukuStartAyah = ruku.split(\":\")[2].split(\"-\")[0]\n",
    "    rukuEndAyah = ruku.split(\":\")[2].split(\"-\")[1]\n",
    "    surahAyah = f'### {surah}:{rukuStartAyah}'\n",
    "    # match = re.compile(surahAyah).search(q).group()\n",
    "    # match = re.search(surahAyah, q).group()\n",
    "    # match = re.findall(\n",
    "    #     surahAyah+'(?=[\\n$])', \n",
    "    #     q\n",
    "    # )\n",
    "    # count += len(match)\n",
    "    # print(match)\n",
    "    qRukued =  re.compile(\n",
    "        f'{surahAyah}(?=[\\n$])'\n",
    "    ).sub(\n",
    "        f'\\n## r{surah}.{rukuno}\\n'\n",
    "        + f'\\n[Q.{surah}.{rukuStartAyah}-{rukuEndAyah}]'\n",
    "        + f'(https://www.islamicstudies.info/tafheem.php?sura={surah}&verse={rukuStartAyah}&to={rukuEndAyah})\\n'\n",
    "        + f'\\n{surahAyah}',\n",
    "        qRukued\n",
    "    )\n",
    "# print(count)"
   ]
  },
  {
   "cell_type": "code",
   "execution_count": 51,
   "metadata": {},
   "outputs": [],
   "source": [
    "with open('data/ref/QRed.md', 'w') as f:\n",
    "    f.write(qRukued)"
   ]
  },
  {
   "cell_type": "markdown",
   "metadata": {},
   "source": [
    "# rsed"
   ]
  },
  {
   "cell_type": "code",
   "execution_count": 294,
   "metadata": {},
   "outputs": [
    {
     "name": "stdout",
     "output_type": "stream",
     "text": [
      "ِ ٱللَّهِ ٱلرَّحْمَـٰنِ ٱلرَّح\n"
     ]
    }
   ],
   "source": [
    "with open('data/ref/QRed.md') as f:\n",
    "    qStr=f.read()\n",
    "print(qStr[120:150])"
   ]
  },
  {
   "cell_type": "code",
   "execution_count": 56,
   "metadata": {},
   "outputs": [],
   "source": [
    "with open('sorter.json') as f:\n",
    "    sorter = json.loads(f.read())"
   ]
  },
  {
   "cell_type": "code",
   "execution_count": 298,
   "metadata": {},
   "outputs": [
    {
     "data": {
      "text/plain": [
       "'110:3'"
      ]
     },
     "execution_count": 298,
     "metadata": {},
     "output_type": "execute_result"
    }
   ],
   "source": [
    "sorter[-1]"
   ]
  },
  {
   "cell_type": "code",
   "execution_count": 295,
   "metadata": {},
   "outputs": [],
   "source": [
    "import  re\n",
    "\n",
    "no_ayah_pair = re.compile('###\\s*(\\d*\\:\\d*)[\\n\\s]*(.*)(?=[\\n\\s]*[#]*)').findall(qStr)"
   ]
  },
  {
   "cell_type": "code",
   "execution_count": 296,
   "metadata": {},
   "outputs": [
    {
     "data": {
      "text/plain": [
       "6236"
      ]
     },
     "execution_count": 296,
     "metadata": {},
     "output_type": "execute_result"
    }
   ],
   "source": [
    "len(no_ayah_pair)"
   ]
  },
  {
   "cell_type": "code",
   "execution_count": 297,
   "metadata": {},
   "outputs": [
    {
     "data": {
      "text/plain": [
       "('1:1', 'بِسْمِ ٱللَّهِ ٱلرَّحْمَـٰنِ ٱلرَّحِيمِ')"
      ]
     },
     "execution_count": 297,
     "metadata": {},
     "output_type": "execute_result"
    }
   ],
   "source": [
    "no_ayah_pair[0]"
   ]
  },
  {
   "cell_type": "code",
   "execution_count": 313,
   "metadata": {},
   "outputs": [],
   "source": [
    "with open('qDict.json') as f:\n",
    "    qSurList = list(json.loads(f.read()).keys())\n",
    "\n",
    "# print(qDict.keys())\n",
    "# print(qSurList)\n",
    "\n",
    "import re\n",
    "\n",
    "with open('rukus4.txt') as f:\n",
    "    rukuStr = f.read()\n",
    "\n",
    "surRukStrts = {}\n",
    "\n",
    "for sur in qSurList:\n",
    "    rukStrts = re.compile(\n",
    "            \"[\\n](?:\"+sur+r\"\\:\\d{1,2}\\:)(\\d{1,})(?:\\-\\d{1,3})\"\n",
    "            ).findall(\n",
    "                rukuStr\n",
    "    )\n",
    "    surRukStrts[sur] = rukStrts\n",
    "# rukuDict = {}"
   ]
  },
  {
   "cell_type": "code",
   "execution_count": null,
   "metadata": {},
   "outputs": [],
   "source": [
    "print(surRukStrts)"
   ]
  },
  {
   "cell_type": "code",
   "execution_count": 272,
   "metadata": {},
   "outputs": [
    {
     "name": "stdout",
     "output_type": "stream",
     "text": [
      "554\n"
     ]
    }
   ],
   "source": [
    "rukustrts = [ subrow for row in surRukStrts.values() for subrow in row ]\n",
    "print(len(rukustrts))"
   ]
  },
  {
   "cell_type": "code",
   "execution_count": 304,
   "metadata": {},
   "outputs": [
    {
     "data": {
      "text/plain": [
       "('1',)"
      ]
     },
     "execution_count": 304,
     "metadata": {},
     "output_type": "execute_result"
    }
   ],
   "source": [
    "import re\n",
    "re.search(\n",
    "    \"\\n(1)\\n\",\n",
    "    \"\\n1\\n\"\n",
    ").groups()"
   ]
  },
  {
   "cell_type": "code",
   "execution_count": null,
   "metadata": {},
   "outputs": [],
   "source": [
    "qRSed = ''\n",
    "import re\n",
    "for surAy in sorter:\n",
    "    sur = surAy.split(\":\")[0]\n",
    "    ay = surAy.split(\":\")[1]\n",
    "    if ay == \"1\":\n",
    "        qRSed += f'\\n# s{sur}\\n'\n",
    "    if ay in surRukStrts[sur]:\n",
    "        rukno = surRukStrts[sur].index(ay)+1\n",
    "        rukuStartAyah = ay\n",
    "        # rukuEndAyah = surRukStrts[sur][rukno] - 1\n",
    "        match = re.findall(\n",
    "            '\\n'+sur+'\\:\\d{1,}\\:'+ay+'-(\\d{1,})\\n',\n",
    "            rukuStr\n",
    "        )\n",
    "        # print(sur,ay,match)\n",
    "        rukuEndAyah = match[0]\n",
    "        qRSed += f'\\n## r{sur}.{str(rukno)}\\n' + f'\\n[Q.{sur}.{rukuStartAyah}-{rukuEndAyah}](https://www.islamicstudies.info/tafheem.php?sura={sur}&verse={rukuStartAyah}&to={rukuEndAyah})\\n'\n",
    "    qRSed += f'\\n### {surAy}\\n' + f'\\n{no_ayah_pairs[surAy]}\\n'"
   ]
  },
  {
   "cell_type": "code",
   "execution_count": 315,
   "metadata": {},
   "outputs": [],
   "source": [
    "with open('data/ref/Qrsed.md', 'w') as f:\n",
    "    f.write(qRSed)"
   ]
  }
 ],
 "metadata": {
  "kernelspec": {
   "display_name": "mlCond",
   "language": "python",
   "name": "python3"
  },
  "language_info": {
   "codemirror_mode": {
    "name": "ipython",
    "version": 3
   },
   "file_extension": ".py",
   "mimetype": "text/x-python",
   "name": "python",
   "nbconvert_exporter": "python",
   "pygments_lexer": "ipython3",
   "version": "3.9.18"
  }
 },
 "nbformat": 4,
 "nbformat_minor": 2
}
