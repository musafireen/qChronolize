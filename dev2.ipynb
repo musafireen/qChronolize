{
 "cells": [
  {
   "cell_type": "markdown",
   "metadata": {},
   "source": [
    "# save qchronolyze analysis to md"
   ]
  },
  {
   "cell_type": "code",
   "execution_count": 161,
   "metadata": {},
   "outputs": [],
   "source": [
    "from qChronolyze import *"
   ]
  },
  {
   "cell_type": "code",
   "execution_count": 23,
   "metadata": {},
   "outputs": [
    {
     "name": "stdout",
     "output_type": "stream",
     "text": [
      "{ll~ah\n"
     ]
    }
   ],
   "source": [
    "import csv\n",
    "with open('data/lemmata.tsv') as f:\n",
    "    lemmata = [row for row in csv.DictReader(f, delimiter='\\t') ]\n",
    "    # lem = f.read()\n",
    "\n",
    "print(lemmata[1]['Buckwalter'])\n",
    "# print(lem)"
   ]
  },
  {
   "cell_type": "code",
   "execution_count": null,
   "metadata": {},
   "outputs": [],
   "source": [
    "qL = [\n",
    "    [\n",
    "        {\n",
    "            \"strL\": [\n",
    "                {\n",
    "                    \"stri\": \"jin~\",\n",
    "                    \"strTyp\": \"lem\",\n",
    "                },\n",
    "                # {\n",
    "                #     \"stri\": \"Tgy\", \n",
    "                #     # \"strTyp\": \"root\",\n",
    "                # },\n",
    "            ],\n",
    "            # \"wrdDis\": 50\n",
    "        },\n",
    "    ],\n",
    "    [\n",
    "        {\n",
    "            \"strL\": [\n",
    "                {\n",
    "                    \"stri\": \"jnn\",\n",
    "                    # \"strTyp\": \"lem\",\n",
    "                },\n",
    "                {\n",
    "                    \"stri\": \"khn\", \n",
    "                    # \"strTyp\": \"root\",\n",
    "                },\n",
    "            ],\n",
    "            \"wrdDis\": 50\n",
    "        },\n",
    "    ],\n",
    "    [\n",
    "        {\n",
    "            \"strL\": [\n",
    "                {\n",
    "                    \"stri\": \"jin~\",\n",
    "                    \"strTyp\": \"lem\",\n",
    "                },\n",
    "                {\n",
    "                    \"stri\": \"malak\", \n",
    "                    \"strTyp\": \"lem\",\n",
    "                },\n",
    "            ],\n",
    "            \"wrdDis\": 50\n",
    "        },\n",
    "    ],\n",
    "    [\n",
    "        {\n",
    "            \"strL\": [\n",
    "                {\n",
    "                    \"stri\": \"jin~\",\n",
    "                    \"strTyp\": \"lem\",\n",
    "                },\n",
    "                {\n",
    "                    \"stri\": \"qariyn\", \n",
    "                    \"strTyp\": \"lem\",\n",
    "                },\n",
    "            ],\n",
    "            \"wrdDis\": 50\n",
    "        },\n",
    "    ],\n",
    "    [\n",
    "        {\n",
    "            \"strL\": [\n",
    "                {\n",
    "                    \"stri\": \"jin~\",\n",
    "                    \"strTyp\": \"lem\",\n",
    "                },\n",
    "                {\n",
    "                    \"stri\": \"qrn\", \n",
    "                    \"frm\": \"ii\", \n",
    "                    \"poSp\": \"N\", \n",
    "                    \"strTyp\": \"lem\",\n",
    "                },\n",
    "            ],\n",
    "            \"wrdDis\": 50\n",
    "        },\n",
    "    ],\n",
    "    [\n",
    "        {\n",
    "            \"strL\": [\n",
    "                {\n",
    "                    \"stri\": \"majonuwn\",\n",
    "                    \"strTyp\": \"lem\",\n",
    "                },\n",
    "            #     {\n",
    "            #         \"stri\": \"Tgy\", \n",
    "            #         # \"strTyp\": \"root\",\n",
    "            #     },\n",
    "            ],\n",
    "            # \"wrdDis\": 50\n",
    "        },\n",
    "    ],\n",
    "    [\n",
    "        {\n",
    "            \"strL\": [\n",
    "                {\n",
    "                    \"stri\": \"jnn\",\n",
    "                    \"strTyp\": \"lem\",\n",
    "                },\n",
    "            #     {\n",
    "            #         \"stri\": \"Tgy\", \n",
    "            #         # \"strTyp\": \"root\",\n",
    "            #     },\n",
    "            ],\n",
    "            # \"wrdDis\": 50\n",
    "        },\n",
    "    ],\n",
    "]"
   ]
  },
  {
   "cell_type": "code",
   "execution_count": null,
   "metadata": {},
   "outputs": [],
   "source": [
    "from qChronolyze import querize\n",
    "qChronoMd(\n",
    "    qL\n",
    "### enter pair of word/root and meaning filtering regex as key-value pair dictionary\n",
    "# {\n",
    "#    '$Tn':  # english word / transliterated root https://corpus.quran.com/java/buckwalter.jsp\n",
    "#     '',   # regex filter for meaning\n",
    "#     'jnn':\n",
    "#     'jinn'\n",
    "# },\n",
    "\n",
    "### tafsir reference language\n",
    "# 'Arabic',\n",
    "# /\n",
    "# '1',\n",
    "\n",
    "### presentation style\n",
    "# pres='plot',\n",
    "    ,\n",
    "    \"jnn\"\n",
    "    # \"makan\"\n",
    "    ,\n",
    "    \"ar-tafsir-al-tabari\"\n",
    "\n",
    ")"
   ]
  },
  {
   "cell_type": "code",
   "execution_count": null,
   "metadata": {},
   "outputs": [
    {
     "name": "stdout",
     "output_type": "stream",
     "text": [
      "file found for kwn\n",
      "loading data/roots/kwn.tsv\n",
      "Successfully loaded data from 'dat/roots/kwn.tsv'\n",
      "\n",
      "total 1390 instances found\n",
      "'sorter.json' found'\n",
      "last item in sorter: 110:3\n",
      "successfully loaded sorter of length 6236 from 'sorter.json'\n"
     ]
    }
   ],
   "source": [
    "from qChronoMd import qChronoMd\n",
    "\n",
    "qChronoMd(\n",
    "    qL\n",
    "### enter pair of word/root and meaning filtering regex as key-value pair dictionary\n",
    "# {\n",
    "#    '$Tn':  # english word / transliterated root https://corpus.quran.com/java/buckwalter.jsp\n",
    "#     '',   # regex filter for meaning\n",
    "#     'jnn':\n",
    "#     'jinn'\n",
    "# },\n",
    "\n",
    "### tafsir reference language\n",
    "# 'Arabic',\n",
    "# /\n",
    "# '1',\n",
    "\n",
    "### presentation style\n",
    "# pres='plot',\n",
    "    ,\n",
    "    \"jnn\"\n",
    "    # \"makan\"\n",
    "    ,\n",
    "    \"ar-tafsir-al-tabari\"\n",
    "\n",
    ")"
   ]
  },
  {
   "cell_type": "code",
   "execution_count": null,
   "metadata": {},
   "outputs": [],
   "source": [
    "# dicti = {}\n",
    "\n",
    "# for datum in lemmata:\n",
    "#     if int(datum[\"Frequency\"]) < 6:\n",
    "#         if 'Proper noun' in datum[\"Part-of-speech\"]:\n",
    "#             # print(datum)\n",
    "#             dicti[datum[\"Buckwalter\"]] = ''\n",
    "# from qChronoMd import qChronoMd\n",
    "\n",
    "# qChronoMd(\n",
    "#     dicti\n",
    "# ### enter pair of word/root and meaning filtering regex as key-value pair dictionary\n",
    "# # {\n",
    "# #    '$Tn':  # english word / transliterated root https://corpus.quran.com/java/buckwalter.jsp\n",
    "# #     '',   # regex filter for meaning\n",
    "# #     'jnn':\n",
    "# #     'jinn'\n",
    "# # },\n",
    "\n",
    "# ### tafsir reference language\n",
    "# # 'Arabic',\n",
    "# # /\n",
    "# # '1',\n",
    "\n",
    "# ### presentation style\n",
    "# # pres='plot',\n",
    "#     ,\n",
    "#     \"frequency_under_6\"\n",
    "#     ,\n",
    "#     \"ar-tafsir-al-tabari\"\n",
    "\n",
    "# )"
   ]
  },
  {
   "cell_type": "code",
   "execution_count": 1,
   "metadata": {},
   "outputs": [],
   "source": [
    "from aggregates import *"
   ]
  },
  {
   "cell_type": "code",
   "execution_count": null,
   "metadata": {},
   "outputs": [
    {
     "name": "stdout",
     "output_type": "stream",
     "text": [
      "proper data not found for Ehd\n",
      "writing Ehd to 'data/roots/E?hd.tsv'\n",
      "proper data not found for wvq\n",
      "writing wvq to 'data/roots/wvq.tsv'\n",
      "proper data not found for blw\n",
      "writing blw to 'data/roots/blw.tsv'\n",
      "proper data not found for ftn\n",
      "writing ftn to 'data/roots/ftn.tsv'\n",
      "proper data not found for Hml\n",
      "writing Hml to 'data/roots/H?ml.tsv'\n",
      "proper data not found for Ans\n",
      "writing Ans to 'data/roots/A?ns.tsv'\n",
      "proper data not found for Amn\n",
      "writing Amn to 'data/roots/A?mn.tsv'\n",
      "proper data not found for *rr\n",
      "writing *rr to 'data/roots/*rr.tsv'\n",
      "proper data not found for bnw\n",
      "writing bnw to 'data/roots/bnw.tsv'\n",
      "proper data not found for A^dam\n",
      "writing A^dam to 'data/stems/A?^dam.tsv'\n",
      "\n",
      "total 159 instances found\n",
      "'sorter.json' found'\n",
      "last item in sorter: 110:3\n",
      "successfully loaded sorter of length 6236 from 'sorter.json'\n",
      "\n",
      "Number of ayahs: 153\n",
      "\n",
      "query left at 68:6 : ftn ()\n",
      "\n",
      "query left at 89:15 : blw ()\n",
      "\n",
      "query left at 89:26 : wvq ()\n",
      "\n",
      "query left at 7:102 : Ehd ()\n",
      "\n",
      "query left at 33:72 : Hml Ans Amn (  )\n"
     ]
    }
   ],
   "source": [
    "from qChronolyze import querize\n",
    "\n",
    "querize(\n",
    "    \n",
    "    ### uncomment whichever concept you want to display\n",
    "\n",
    "    [\n",
    "        # [{'wrdDis': 0, 'strL': [{'stri': 'maAruwt', 'flt': 'marut'}]}],\n",
    "        # {'TwE': '(?<!be )[Oo]bey'},\n",
    "        # *angels,\n",
    "        # *spirituals,\n",
    "        # *shirk,\n",
    "        # *salah\n",
    "        # *mamluk_yaman\n",
    "        # *nisa\n",
    "        # *ahl_kitab\n",
    "        # *jhd\n",
    "        # *ruh\n",
    "        # *fadl\n",
    "        # *zann,\n",
    "        shirk[79],\n",
    "        # *foreign_vocabs\n",
    "        \n",
    "    ],\n",
    "    \n",
    "    ### uncomment chosen name for saved obsidian md file\n",
    "     \n",
    "    # 'zann',\n",
    "    # 'spirituals',\n",
    "    # 'firawn_taghut',\n",
    "    # 'fadl',\n",
    "    # 'ruh',\n",
    "    # 'jhd_qtl',\n",
    "    # 'ahl_kitab',\n",
    "    # 'firawn_taghut',\n",
    "    # 'nisa',\n",
    "    # 'mamluk_yaman',\n",
    "    # 'salah',\n",
    "    # 'obedience',\n",
    "    # 'shirk',\n",
    "    # 'iman_islam',\n",
    "    # \"anbiya\",\n",
    "    # \"foreign_vocab\",\n",
    "    # \"animals\",\n",
    "\n",
    "    ### uncomment chosen tafsir reference language for linking\n",
    "    # 'Arabic',\n",
    "    refLng = 'english',\n",
    "    # 'Bengali',\n",
    "    # /\n",
    "    # '1',\n",
    "\n",
    "    ### uncomment chosen presentation style\n",
    "    # pres='table',\n",
    "    pres='table',\n",
    "\n",
    "    )"
   ]
  },
  {
   "cell_type": "code",
   "execution_count": null,
   "metadata": {},
   "outputs": [
    {
     "name": "stdout",
     "output_type": "stream",
     "text": [
      "proper data not found for Ehd\n",
      "writing Ehd to 'data/roots/E?hd.tsv'\n",
      "proper data not found for wvq\n",
      "writing wvq to 'data/roots/wvq.tsv'\n",
      "proper data not found for blw\n",
      "writing blw to 'data/roots/blw.tsv'\n",
      "proper data not found for ftn\n",
      "writing ftn to 'data/roots/ftn.tsv'\n",
      "proper data not found for Hml\n",
      "writing Hml to 'data/roots/H?ml.tsv'\n",
      "proper data not found for Ans\n",
      "writing Ans to 'data/roots/A?ns.tsv'\n",
      "proper data not found for Amn\n",
      "writing Amn to 'data/roots/A?mn.tsv'\n",
      "proper data not found for *rr\n",
      "writing *rr to 'data/roots/*rr.tsv'\n",
      "proper data not found for bnw\n",
      "writing bnw to 'data/roots/bnw.tsv'\n",
      "proper data not found for A^dam\n",
      "writing A^dam to 'data/stems/A?^dam.tsv'\n",
      "\n",
      "total 159 instances found\n",
      "'sorter.json' found'\n",
      "last item in sorter: 110:3\n",
      "successfully loaded sorter of length 6236 from 'sorter.json'\n",
      "\n",
      "Number of ayahs: 153\n",
      "\n",
      "query left at 68:6 : ftn ()\n",
      "\n",
      "query left at 89:15 : blw ()\n",
      "\n",
      "query left at 89:26 : wvq ()\n",
      "\n",
      "query left at 7:102 : Ehd ()\n",
      "\n",
      "query left at 33:72 : Hml Ans Amn (  )\n"
     ]
    }
   ],
   "source": [
    "from qChronoMd import qChronoMd\n",
    "\n",
    "qChronoMd(\n",
    "    \n",
    "    ### uncomment whichever concept you want to save\n",
    "\n",
    "    [\n",
    "        # {'TwE': '(?<!be )[Oo]bey'},\n",
    "        # *spirituals,\n",
    "        *shirk2,\n",
    "        # *salah\n",
    "        # *mamluk_yaman\n",
    "        # *nisa\n",
    "        # *ahl_kitab\n",
    "        # *jhd\n",
    "        # *ruh\n",
    "        # *fadl\n",
    "        # *zann,\n",
    "        # *animals,\n",
    "        # *foreign_vocabs\n",
    "        \n",
    "    ],\n",
    "    \n",
    "    ### uncomment chosen filename for saving in markdown format for obsidian\n",
    "     \n",
    "    # 'zann',\n",
    "    # 'spirituals',\n",
    "    # 'firawn_taghut',\n",
    "    # 'fadl',\n",
    "    # 'ruh',\n",
    "    # 'jhd_qtl',\n",
    "    # 'ahl_kitab',\n",
    "    # 'firawn_taghut',\n",
    "    # 'nisa',\n",
    "    # 'mamluk_yaman',\n",
    "    # 'salah2',\n",
    "    # 'obedience',\n",
    "    'shirk4',\n",
    "    # 'iman_islam',\n",
    "    # \"anbiya\",\n",
    "    # \"foreign_vocab\",\n",
    "    # \"animals\",\n",
    "\n",
    "    ### uncomment chosen tafsir reference for linking in file\n",
    "    # \"ar-tafsir-al-tabari\",\n",
    "    # \"bn-tafseer-ibn-e-kaseer\",\n",
    "    \"arabic\",\n",
    "\n",
    ")"
   ]
  },
  {
   "cell_type": "markdown",
   "metadata": {},
   "source": [
    "# chrono"
   ]
  },
  {
   "cell_type": "code",
   "execution_count": 1,
   "metadata": {},
   "outputs": [
    {
     "name": "stdout",
     "output_type": "stream",
     "text": [
      "table style choosen for presentation.\n",
      "arabic language choosen for reference.\n",
      "'sorter.json' found'\n",
      "last item in sorter: 110:3\n",
      "successfully loaded sorter of length 6236 from 'sorter.json'\n",
      "proper data not found for isa\n",
      "\n",
      "total 25 instances found\n",
      "dataframe length: 25\n"
     ]
    },
    {
     "data": {
      "text/html": [
       "<style type=\"text/css\">\n",
       "#T_c7b06_row0_col0, #T_c7b06_row0_col1, #T_c7b06_row0_col2, #T_c7b06_row0_col3, #T_c7b06_row0_col4, #T_c7b06_row0_col5, #T_c7b06_row0_col6, #T_c7b06_row1_col0, #T_c7b06_row1_col1, #T_c7b06_row1_col2, #T_c7b06_row1_col3, #T_c7b06_row1_col4, #T_c7b06_row1_col5, #T_c7b06_row1_col6, #T_c7b06_row2_col0, #T_c7b06_row2_col1, #T_c7b06_row2_col2, #T_c7b06_row2_col3, #T_c7b06_row2_col4, #T_c7b06_row2_col5, #T_c7b06_row2_col6, #T_c7b06_row3_col0, #T_c7b06_row3_col1, #T_c7b06_row3_col2, #T_c7b06_row3_col3, #T_c7b06_row3_col4, #T_c7b06_row3_col5, #T_c7b06_row3_col6, #T_c7b06_row4_col0, #T_c7b06_row4_col1, #T_c7b06_row4_col2, #T_c7b06_row4_col3, #T_c7b06_row4_col4, #T_c7b06_row4_col5, #T_c7b06_row4_col6, #T_c7b06_row5_col0, #T_c7b06_row5_col1, #T_c7b06_row5_col2, #T_c7b06_row5_col3, #T_c7b06_row5_col4, #T_c7b06_row5_col5, #T_c7b06_row5_col6, #T_c7b06_row6_col0, #T_c7b06_row6_col1, #T_c7b06_row6_col2, #T_c7b06_row6_col3, #T_c7b06_row6_col4, #T_c7b06_row6_col5, #T_c7b06_row6_col6, #T_c7b06_row7_col0, #T_c7b06_row7_col1, #T_c7b06_row7_col2, #T_c7b06_row7_col3, #T_c7b06_row7_col4, #T_c7b06_row7_col5, #T_c7b06_row7_col6, #T_c7b06_row8_col0, #T_c7b06_row8_col1, #T_c7b06_row8_col2, #T_c7b06_row8_col3, #T_c7b06_row8_col4, #T_c7b06_row8_col5, #T_c7b06_row8_col6, #T_c7b06_row9_col0, #T_c7b06_row9_col1, #T_c7b06_row9_col2, #T_c7b06_row9_col3, #T_c7b06_row9_col4, #T_c7b06_row9_col5, #T_c7b06_row9_col6, #T_c7b06_row10_col0, #T_c7b06_row10_col1, #T_c7b06_row10_col2, #T_c7b06_row10_col3, #T_c7b06_row10_col4, #T_c7b06_row10_col5, #T_c7b06_row10_col6, #T_c7b06_row11_col0, #T_c7b06_row11_col1, #T_c7b06_row11_col2, #T_c7b06_row11_col3, #T_c7b06_row11_col4, #T_c7b06_row11_col5, #T_c7b06_row11_col6, #T_c7b06_row12_col0, #T_c7b06_row12_col1, #T_c7b06_row12_col2, #T_c7b06_row12_col3, #T_c7b06_row12_col4, #T_c7b06_row12_col5, #T_c7b06_row12_col6, #T_c7b06_row13_col0, #T_c7b06_row13_col1, #T_c7b06_row13_col2, #T_c7b06_row13_col3, #T_c7b06_row13_col4, #T_c7b06_row13_col5, #T_c7b06_row13_col6, #T_c7b06_row14_col0, #T_c7b06_row14_col1, #T_c7b06_row14_col2, #T_c7b06_row14_col3, #T_c7b06_row14_col4, #T_c7b06_row14_col5, #T_c7b06_row14_col6, #T_c7b06_row15_col0, #T_c7b06_row15_col1, #T_c7b06_row15_col2, #T_c7b06_row15_col3, #T_c7b06_row15_col4, #T_c7b06_row15_col5, #T_c7b06_row15_col6, #T_c7b06_row16_col0, #T_c7b06_row16_col1, #T_c7b06_row16_col2, #T_c7b06_row16_col3, #T_c7b06_row16_col4, #T_c7b06_row16_col5, #T_c7b06_row16_col6, #T_c7b06_row17_col0, #T_c7b06_row17_col1, #T_c7b06_row17_col2, #T_c7b06_row17_col3, #T_c7b06_row17_col4, #T_c7b06_row17_col5, #T_c7b06_row17_col6, #T_c7b06_row18_col0, #T_c7b06_row18_col1, #T_c7b06_row18_col2, #T_c7b06_row18_col3, #T_c7b06_row18_col4, #T_c7b06_row18_col5, #T_c7b06_row18_col6, #T_c7b06_row19_col0, #T_c7b06_row19_col1, #T_c7b06_row19_col2, #T_c7b06_row19_col3, #T_c7b06_row19_col4, #T_c7b06_row19_col5, #T_c7b06_row19_col6, #T_c7b06_row20_col0, #T_c7b06_row20_col1, #T_c7b06_row20_col2, #T_c7b06_row20_col3, #T_c7b06_row20_col4, #T_c7b06_row20_col5, #T_c7b06_row20_col6, #T_c7b06_row21_col0, #T_c7b06_row21_col1, #T_c7b06_row21_col2, #T_c7b06_row21_col3, #T_c7b06_row21_col4, #T_c7b06_row21_col5, #T_c7b06_row21_col6, #T_c7b06_row22_col0, #T_c7b06_row22_col1, #T_c7b06_row22_col2, #T_c7b06_row22_col3, #T_c7b06_row22_col4, #T_c7b06_row22_col5, #T_c7b06_row22_col6, #T_c7b06_row23_col0, #T_c7b06_row23_col1, #T_c7b06_row23_col2, #T_c7b06_row23_col3, #T_c7b06_row23_col4, #T_c7b06_row23_col5, #T_c7b06_row23_col6, #T_c7b06_row24_col0, #T_c7b06_row24_col1, #T_c7b06_row24_col2, #T_c7b06_row24_col3, #T_c7b06_row24_col4, #T_c7b06_row24_col5, #T_c7b06_row24_col6 {\n",
       "  background-color: rgb(100,70,20);\n",
       "  foreground-color: black;\n",
       "  color: black;\n",
       "  opacity: 1;\n",
       "}\n",
       "</style>\n",
       "<table id=\"T_c7b06\">\n",
       "  <thead>\n",
       "    <tr>\n",
       "      <th class=\"blank level0\" >&nbsp;</th>\n",
       "      <th id=\"T_c7b06_level0_col0\" class=\"col_heading level0 col0\" >verses_before</th>\n",
       "      <th id=\"T_c7b06_level0_col1\" class=\"col_heading level0 col1\" >surah:ayah</th>\n",
       "      <th id=\"T_c7b06_level0_col2\" class=\"col_heading level0 col2\" >position</th>\n",
       "      <th id=\"T_c7b06_level0_col3\" class=\"col_heading level0 col3\" >word</th>\n",
       "      <th id=\"T_c7b06_level0_col4\" class=\"col_heading level0 col4\" >meaning</th>\n",
       "      <th id=\"T_c7b06_level0_col5\" class=\"col_heading level0 col5\" >ayah_link</th>\n",
       "      <th id=\"T_c7b06_level0_col6\" class=\"col_heading level0 col6\" >query</th>\n",
       "    </tr>\n",
       "  </thead>\n",
       "  <tbody>\n",
       "    <tr>\n",
       "      <th id=\"T_c7b06_level0_row0\" class=\"row_heading level0 row0\" >0</th>\n",
       "      <td id=\"T_c7b06_row0_col0\" class=\"data row0 col0\" >1255</td>\n",
       "      <td id=\"T_c7b06_row0_col1\" class=\"data row0 col1\" >19:34</td>\n",
       "      <td id=\"T_c7b06_row0_col2\" class=\"data row0 col2\" >2</td>\n",
       "      <td id=\"T_c7b06_row0_col3\" class=\"data row0 col3\" >ʿīsā</td>\n",
       "      <td id=\"T_c7b06_row0_col4\" class=\"data row0 col4\" >(was) Isa</td>\n",
       "      <td id=\"T_c7b06_row0_col5\" class=\"data row0 col5\" ><a style='background-color:rgb(220,220,250);font-size:18px;color:rgb(0,0,150);' href='https://quran.com/19:34/tafsirs/ar-tafsir-al-tabari'> ذَٰلِكَ عِيسَى ابْنُ مَرْيَمَ قَوْلَ الْحَقِّ الَّذِي فِيهِ يَمْتَرُونَ</a></td>\n",
       "      <td id=\"T_c7b06_row0_col6\" class=\"data row0 col6\" > (Isa)</td>\n",
       "    </tr>\n",
       "    <tr>\n",
       "      <th id=\"T_c7b06_level0_row1\" class=\"row_heading level0 row1\" >1</th>\n",
       "      <td id=\"T_c7b06_row1_col0\" class=\"data row1 col0\" >2554</td>\n",
       "      <td id=\"T_c7b06_row1_col1\" class=\"data row1 col1\" >6:85</td>\n",
       "      <td id=\"T_c7b06_row1_col2\" class=\"data row1 col2\" >3</td>\n",
       "      <td id=\"T_c7b06_row1_col3\" class=\"data row1 col3\" >waʿīsā</td>\n",
       "      <td id=\"T_c7b06_row1_col4\" class=\"data row1 col4\" >and Isa</td>\n",
       "      <td id=\"T_c7b06_row1_col5\" class=\"data row1 col5\" ><a style='background-color:rgb(220,220,250);font-size:18px;color:rgb(0,0,150);' href='https://quran.com/6:85/tafsirs/ar-tafsir-al-tabari'> وَزَكَرِيَّا وَيَحْيَىٰ وَعِيسَىٰ وَإِلْيَاسَ كُلٌّ مِنَ الصَّالِحِينَ</a></td>\n",
       "      <td id=\"T_c7b06_row1_col6\" class=\"data row1 col6\" > (Isa)</td>\n",
       "    </tr>\n",
       "    <tr>\n",
       "      <th id=\"T_c7b06_level0_row2\" class=\"row_heading level0 row2\" >2</th>\n",
       "      <td id=\"T_c7b06_row2_col0\" class=\"data row2 col0\" >3120</td>\n",
       "      <td id=\"T_c7b06_row2_col1\" class=\"data row2 col1\" >42:13</td>\n",
       "      <td id=\"T_c7b06_row2_col2\" class=\"data row2 col2\" >17</td>\n",
       "      <td id=\"T_c7b06_row2_col3\" class=\"data row2 col3\" >waʿīsā</td>\n",
       "      <td id=\"T_c7b06_row2_col4\" class=\"data row2 col4\" >and Isa</td>\n",
       "      <td id=\"T_c7b06_row2_col5\" class=\"data row2 col5\" ><a style='background-color:rgb(220,220,250);font-size:18px;color:rgb(0,0,150);' href='https://quran.com/42:13/tafsirs/ar-tafsir-al-tabari'> وَمَا وَصَّيْنَا بِهِ إِبْرَاهِيمَ وَمُوسَىٰ وَعِيسَىٰ</a></td>\n",
       "      <td id=\"T_c7b06_row2_col6\" class=\"data row2 col6\" > (Isa)</td>\n",
       "    </tr>\n",
       "    <tr>\n",
       "      <th id=\"T_c7b06_level0_row3\" class=\"row_heading level0 row3\" >3</th>\n",
       "      <td id=\"T_c7b06_row3_col0\" class=\"data row3 col0\" >3218</td>\n",
       "      <td id=\"T_c7b06_row3_col1\" class=\"data row3 col1\" >43:63</td>\n",
       "      <td id=\"T_c7b06_row3_col2\" class=\"data row3 col2\" >3</td>\n",
       "      <td id=\"T_c7b06_row3_col3\" class=\"data row3 col3\" >ʿīsā</td>\n",
       "      <td id=\"T_c7b06_row3_col4\" class=\"data row3 col4\" >Isa</td>\n",
       "      <td id=\"T_c7b06_row3_col5\" class=\"data row3 col5\" ><a style='background-color:rgb(220,220,250);font-size:18px;color:rgb(0,0,150);' href='https://quran.com/43:63/tafsirs/ar-tafsir-al-tabari'> وَلَمَّا جَاءَ عِيسَىٰ بِالْبَيِّنَاتِ قَالَ قَدْ جِئْتُكُمْ بِالْحِكْمَةِ</a></td>\n",
       "      <td id=\"T_c7b06_row3_col6\" class=\"data row3 col6\" > (Isa)</td>\n",
       "    </tr>\n",
       "    <tr>\n",
       "      <th id=\"T_c7b06_level0_row4\" class=\"row_heading level0 row4\" >4</th>\n",
       "      <td id=\"T_c7b06_row4_col0\" class=\"data row4 col0\" >4713</td>\n",
       "      <td id=\"T_c7b06_row4_col1\" class=\"data row4 col1\" >2:87</td>\n",
       "      <td id=\"T_c7b06_row4_col2\" class=\"data row4 col2\" >10</td>\n",
       "      <td id=\"T_c7b06_row4_col3\" class=\"data row4 col3\" >ʿīsā</td>\n",
       "      <td id=\"T_c7b06_row4_col4\" class=\"data row4 col4\" >Isa</td>\n",
       "      <td id=\"T_c7b06_row4_col5\" class=\"data row4 col5\" ><a style='background-color:rgb(220,220,250);font-size:18px;color:rgb(0,0,150);' href='https://quran.com/2:87/tafsirs/ar-tafsir-al-tabari'> وَآتَيْنَا عِيسَى ابْنَ مَرْيَمَ الْبَيِّنَاتِ وَأَيَّدْنَاهُ بِرُوحِ الْقُدُسِ</a></td>\n",
       "      <td id=\"T_c7b06_row4_col6\" class=\"data row4 col6\" > (Isa)</td>\n",
       "    </tr>\n",
       "    <tr>\n",
       "      <th id=\"T_c7b06_level0_row5\" class=\"row_heading level0 row5\" >5</th>\n",
       "      <td id=\"T_c7b06_row5_col0\" class=\"data row5 col0\" >4762</td>\n",
       "      <td id=\"T_c7b06_row5_col1\" class=\"data row5 col1\" >2:136</td>\n",
       "      <td id=\"T_c7b06_row5_col2\" class=\"data row5 col2\" >18</td>\n",
       "      <td id=\"T_c7b06_row5_col3\" class=\"data row5 col3\" >waʿīsā</td>\n",
       "      <td id=\"T_c7b06_row5_col4\" class=\"data row5 col4\" >and Isa</td>\n",
       "      <td id=\"T_c7b06_row5_col5\" class=\"data row5 col5\" ><a style='background-color:rgb(220,220,250);font-size:18px;color:rgb(0,0,150);' href='https://quran.com/2:136/tafsirs/ar-tafsir-al-tabari'> وَمَا أُوتِيَ مُوسَىٰ وَعِيسَىٰ وَمَا أُوتِيَ النَّبِيُّونَ مِنْ رَبِّهِمْ</a></td>\n",
       "      <td id=\"T_c7b06_row5_col6\" class=\"data row5 col6\" > (Isa)</td>\n",
       "    </tr>\n",
       "    <tr>\n",
       "      <th id=\"T_c7b06_level0_row6\" class=\"row_heading level0 row6\" >6</th>\n",
       "      <td id=\"T_c7b06_row6_col0\" class=\"data row6 col0\" >4879</td>\n",
       "      <td id=\"T_c7b06_row6_col1\" class=\"data row6 col1\" >2:253</td>\n",
       "      <td id=\"T_c7b06_row6_col2\" class=\"data row6 col2\" >15</td>\n",
       "      <td id=\"T_c7b06_row6_col3\" class=\"data row6 col3\" >ʿīsā</td>\n",
       "      <td id=\"T_c7b06_row6_col4\" class=\"data row6 col4\" >Isa</td>\n",
       "      <td id=\"T_c7b06_row6_col5\" class=\"data row6 col5\" ><a style='background-color:rgb(220,220,250);font-size:18px;color:rgb(0,0,150);' href='https://quran.com/2:253/tafsirs/ar-tafsir-al-tabari'> وَآتَيْنَا عِيسَى ابْنَ مَرْيَمَ الْبَيِّنَاتِ وَأَيَّدْنَاهُ بِرُوحِ الْقُدُسِ</a></td>\n",
       "      <td id=\"T_c7b06_row6_col6\" class=\"data row6 col6\" > (Isa)</td>\n",
       "    </tr>\n",
       "    <tr>\n",
       "      <th id=\"T_c7b06_level0_row7\" class=\"row_heading level0 row7\" >7</th>\n",
       "      <td id=\"T_c7b06_row7_col0\" class=\"data row7 col0\" >5024</td>\n",
       "      <td id=\"T_c7b06_row7_col1\" class=\"data row7 col1\" >3:45</td>\n",
       "      <td id=\"T_c7b06_row7_col2\" class=\"data row7 col2\" >12</td>\n",
       "      <td id=\"T_c7b06_row7_col3\" class=\"data row7 col3\" >ʿīsā</td>\n",
       "      <td id=\"T_c7b06_row7_col4\" class=\"data row7 col4\" >Isa</td>\n",
       "      <td id=\"T_c7b06_row7_col5\" class=\"data row7 col5\" ><a style='background-color:rgb(220,220,250);font-size:18px;color:rgb(0,0,150);' href='https://quran.com/3:45/tafsirs/ar-tafsir-al-tabari'> إِنَّ اللَّهَ يُبَشِّرُكِ بِكَلِمَةٍ مِنْهُ اسْمُهُ الْمَسِيحُ عِيسَى ابْنُ مَرْيَمَ</a></td>\n",
       "      <td id=\"T_c7b06_row7_col6\" class=\"data row7 col6\" > (Isa)</td>\n",
       "    </tr>\n",
       "    <tr>\n",
       "      <th id=\"T_c7b06_level0_row8\" class=\"row_heading level0 row8\" >8</th>\n",
       "      <td id=\"T_c7b06_row8_col0\" class=\"data row8 col0\" >5031</td>\n",
       "      <td id=\"T_c7b06_row8_col1\" class=\"data row8 col1\" >3:52</td>\n",
       "      <td id=\"T_c7b06_row8_col2\" class=\"data row8 col2\" >3</td>\n",
       "      <td id=\"T_c7b06_row8_col3\" class=\"data row8 col3\" >ʿīsā</td>\n",
       "      <td id=\"T_c7b06_row8_col4\" class=\"data row8 col4\" >Isa</td>\n",
       "      <td id=\"T_c7b06_row8_col5\" class=\"data row8 col5\" ><a style='background-color:rgb(220,220,250);font-size:18px;color:rgb(0,0,150);' href='https://quran.com/3:52/tafsirs/ar-tafsir-al-tabari'> فَلَمَّا أَحَسَّ عِيسَىٰ مِنْهُمُ الْكُفْرَ قَالَ مَنْ أَنْصَارِي إِلَى اللَّهِ</a></td>\n",
       "      <td id=\"T_c7b06_row8_col6\" class=\"data row8 col6\" > (Isa)</td>\n",
       "    </tr>\n",
       "    <tr>\n",
       "      <th id=\"T_c7b06_level0_row9\" class=\"row_heading level0 row9\" >9</th>\n",
       "      <td id=\"T_c7b06_row9_col0\" class=\"data row9 col0\" >5034</td>\n",
       "      <td id=\"T_c7b06_row9_col1\" class=\"data row9 col1\" >3:55</td>\n",
       "      <td id=\"T_c7b06_row9_col2\" class=\"data row9 col2\" >4</td>\n",
       "      <td id=\"T_c7b06_row9_col3\" class=\"data row9 col3\" >yāʿīsā</td>\n",
       "      <td id=\"T_c7b06_row9_col4\" class=\"data row9 col4\" >O Isa</td>\n",
       "      <td id=\"T_c7b06_row9_col5\" class=\"data row9 col5\" ><a style='background-color:rgb(220,220,250);font-size:18px;color:rgb(0,0,150);' href='https://quran.com/3:55/tafsirs/ar-tafsir-al-tabari'> إِذْ قَالَ اللَّهُ يَا عِيسَىٰ إِنِّي مُتَوَفِّيكَ وَرَافِعُكَ إِلَيَّ</a></td>\n",
       "      <td id=\"T_c7b06_row9_col6\" class=\"data row9 col6\" > (Isa)</td>\n",
       "    </tr>\n",
       "    <tr>\n",
       "      <th id=\"T_c7b06_level0_row10\" class=\"row_heading level0 row10\" >10</th>\n",
       "      <td id=\"T_c7b06_row10_col0\" class=\"data row10 col0\" >5038</td>\n",
       "      <td id=\"T_c7b06_row10_col1\" class=\"data row10 col1\" >3:59</td>\n",
       "      <td id=\"T_c7b06_row10_col2\" class=\"data row10 col2\" >3</td>\n",
       "      <td id=\"T_c7b06_row10_col3\" class=\"data row10 col3\" >ʿīsā</td>\n",
       "      <td id=\"T_c7b06_row10_col4\" class=\"data row10 col4\" >(of) Isa</td>\n",
       "      <td id=\"T_c7b06_row10_col5\" class=\"data row10 col5\" ><a style='background-color:rgb(220,220,250);font-size:18px;color:rgb(0,0,150);' href='https://quran.com/3:59/tafsirs/ar-tafsir-al-tabari'> إِنَّ مَثَلَ عِيسَىٰ عِنْدَ اللَّهِ كَمَثَلِ آدَمَ خَلَقَهُ مِنْ تُرَابٍ</a></td>\n",
       "      <td id=\"T_c7b06_row10_col6\" class=\"data row10 col6\" > (Isa)</td>\n",
       "    </tr>\n",
       "    <tr>\n",
       "      <th id=\"T_c7b06_level0_row11\" class=\"row_heading level0 row11\" >11</th>\n",
       "      <td id=\"T_c7b06_row11_col0\" class=\"data row11 col0\" >5063</td>\n",
       "      <td id=\"T_c7b06_row11_col1\" class=\"data row11 col1\" >3:84</td>\n",
       "      <td id=\"T_c7b06_row11_col2\" class=\"data row11 col2\" >18</td>\n",
       "      <td id=\"T_c7b06_row11_col3\" class=\"data row11 col3\" >waʿīsā</td>\n",
       "      <td id=\"T_c7b06_row11_col4\" class=\"data row11 col4\" >and Isa</td>\n",
       "      <td id=\"T_c7b06_row11_col5\" class=\"data row11 col5\" ><a style='background-color:rgb(220,220,250);font-size:18px;color:rgb(0,0,150);' href='https://quran.com/3:84/tafsirs/ar-tafsir-al-tabari'> وَمَا أُوتِيَ مُوسَىٰ وَعِيسَىٰ وَالنَّبِيُّونَ مِنْ رَبِّهِمْ</a></td>\n",
       "      <td id=\"T_c7b06_row11_col6\" class=\"data row11 col6\" > (Isa)</td>\n",
       "    </tr>\n",
       "    <tr>\n",
       "      <th id=\"T_c7b06_level0_row12\" class=\"row_heading level0 row12\" >12</th>\n",
       "      <td id=\"T_c7b06_row12_col0\" class=\"data row12 col0\" >5186</td>\n",
       "      <td id=\"T_c7b06_row12_col1\" class=\"data row12 col1\" >33:7</td>\n",
       "      <td id=\"T_c7b06_row12_col2\" class=\"data row12 col2\" >11</td>\n",
       "      <td id=\"T_c7b06_row12_col3\" class=\"data row12 col3\" >waʿīsā</td>\n",
       "      <td id=\"T_c7b06_row12_col4\" class=\"data row12 col4\" >and Isa</td>\n",
       "      <td id=\"T_c7b06_row12_col5\" class=\"data row12 col5\" ><a style='background-color:rgb(220,220,250);font-size:18px;color:rgb(0,0,150);' href='https://quran.com/33:7/tafsirs/ar-tafsir-al-tabari'> وَمِنْكَ وَمِنْ نُوحٍ وَإِبْرَاهِيمَ وَمُوسَىٰ وَعِيسَى ابْنِ مَرْيَمَ</a></td>\n",
       "      <td id=\"T_c7b06_row12_col6\" class=\"data row12 col6\" > (Isa)</td>\n",
       "    </tr>\n",
       "    <tr>\n",
       "      <th id=\"T_c7b06_level0_row13\" class=\"row_heading level0 row13\" >13</th>\n",
       "      <td id=\"T_c7b06_row13_col0\" class=\"data row13 col0\" >5422</td>\n",
       "      <td id=\"T_c7b06_row13_col1\" class=\"data row13 col1\" >4:157</td>\n",
       "      <td id=\"T_c7b06_row13_col2\" class=\"data row13 col2\" >5</td>\n",
       "      <td id=\"T_c7b06_row13_col3\" class=\"data row13 col3\" >ʿīsā</td>\n",
       "      <td id=\"T_c7b06_row13_col4\" class=\"data row13 col4\" >Isa</td>\n",
       "      <td id=\"T_c7b06_row13_col5\" class=\"data row13 col5\" ><a style='background-color:rgb(220,220,250);font-size:18px;color:rgb(0,0,150);' href='https://quran.com/4:157/tafsirs/ar-tafsir-al-tabari'> وَقَوْلِهِمْ إِنَّا قَتَلْنَا الْمَسِيحَ عِيسَى ابْنَ مَرْيَمَ رَسُولَ اللَّهِ</a></td>\n",
       "      <td id=\"T_c7b06_row13_col6\" class=\"data row13 col6\" > (Isa)</td>\n",
       "    </tr>\n",
       "    <tr>\n",
       "      <th id=\"T_c7b06_level0_row14\" class=\"row_heading level0 row14\" >14</th>\n",
       "      <td id=\"T_c7b06_row14_col0\" class=\"data row14 col0\" >5428</td>\n",
       "      <td id=\"T_c7b06_row14_col1\" class=\"data row14 col1\" >4:163</td>\n",
       "      <td id=\"T_c7b06_row14_col2\" class=\"data row14 col2\" >18</td>\n",
       "      <td id=\"T_c7b06_row14_col3\" class=\"data row14 col3\" >waʿīsā</td>\n",
       "      <td id=\"T_c7b06_row14_col4\" class=\"data row14 col4\" >and Isa</td>\n",
       "      <td id=\"T_c7b06_row14_col5\" class=\"data row14 col5\" ><a style='background-color:rgb(220,220,250);font-size:18px;color:rgb(0,0,150);' href='https://quran.com/4:163/tafsirs/ar-tafsir-al-tabari'> وَأَوْحَيْنَا إِلَىٰ إِبْرَاهِيمَ وَإِسْمَاعِيلَ وَإِسْحَاقَ وَيَعْقُوبَ وَالْأَسْبَاطِ وَعِيسَىٰ وَأَيُّوبَ وَيُونُسَ وَهَارُونَ وَسُلَيْمَانَ</a></td>\n",
       "      <td id=\"T_c7b06_row14_col6\" class=\"data row14 col6\" > (Isa)</td>\n",
       "    </tr>\n",
       "    <tr>\n",
       "      <th id=\"T_c7b06_level0_row15\" class=\"row_heading level0 row15\" >15</th>\n",
       "      <td id=\"T_c7b06_row15_col0\" class=\"data row15 col0\" >5436</td>\n",
       "      <td id=\"T_c7b06_row15_col1\" class=\"data row15 col1\" >4:171</td>\n",
       "      <td id=\"T_c7b06_row15_col2\" class=\"data row15 col2\" >15</td>\n",
       "      <td id=\"T_c7b06_row15_col3\" class=\"data row15 col3\" >ʿīsā</td>\n",
       "      <td id=\"T_c7b06_row15_col4\" class=\"data row15 col4\" >Isa</td>\n",
       "      <td id=\"T_c7b06_row15_col5\" class=\"data row15 col5\" ><a style='background-color:rgb(220,220,250);font-size:18px;color:rgb(0,0,150);' href='https://quran.com/4:171/tafsirs/ar-tafsir-al-tabari'> إِنَّمَا الْمَسِيحُ عِيسَى ابْنُ مَرْيَمَ رَسُولُ اللَّهِ وَكَلِمَتُهُ أَلْقَاهَا إِلَىٰ مَرْيَمَ</a></td>\n",
       "      <td id=\"T_c7b06_row15_col6\" class=\"data row15 col6\" > (Isa)</td>\n",
       "    </tr>\n",
       "    <tr>\n",
       "      <th id=\"T_c7b06_level0_row16\" class=\"row_heading level0 row16\" >16</th>\n",
       "      <td id=\"T_c7b06_row16_col0\" class=\"data row16 col0\" >5476</td>\n",
       "      <td id=\"T_c7b06_row16_col1\" class=\"data row16 col1\" >57:27</td>\n",
       "      <td id=\"T_c7b06_row16_col2\" class=\"data row16 col2\" >7</td>\n",
       "      <td id=\"T_c7b06_row16_col3\" class=\"data row16 col3\" >biʿīsā</td>\n",
       "      <td id=\"T_c7b06_row16_col4\" class=\"data row16 col4\" >with Isa</td>\n",
       "      <td id=\"T_c7b06_row16_col5\" class=\"data row16 col5\" ><a style='background-color:rgb(220,220,250);font-size:18px;color:rgb(0,0,150);' href='https://quran.com/57:27/tafsirs/ar-tafsir-al-tabari'> وَقَفَّيْنَا بِعِيسَى ابْنِ مَرْيَمَ وَآتَيْنَاهُ الْإِنْجِيلَ</a></td>\n",
       "      <td id=\"T_c7b06_row16_col6\" class=\"data row16 col6\" > (Isa)</td>\n",
       "    </tr>\n",
       "    <tr>\n",
       "      <th id=\"T_c7b06_level0_row17\" class=\"row_heading level0 row17\" >17</th>\n",
       "      <td id=\"T_c7b06_row17_col0\" class=\"data row17 col0\" >5936</td>\n",
       "      <td id=\"T_c7b06_row17_col1\" class=\"data row17 col1\" >61:6</td>\n",
       "      <td id=\"T_c7b06_row17_col2\" class=\"data row17 col2\" >3</td>\n",
       "      <td id=\"T_c7b06_row17_col3\" class=\"data row17 col3\" >ʿīsā</td>\n",
       "      <td id=\"T_c7b06_row17_col4\" class=\"data row17 col4\" >Isa</td>\n",
       "      <td id=\"T_c7b06_row17_col5\" class=\"data row17 col5\" ><a style='background-color:rgb(220,220,250);font-size:18px;color:rgb(0,0,150);' href='https://quran.com/61:6/tafsirs/ar-tafsir-al-tabari'> وَإِذْ قَالَ عِيسَى ابْنُ مَرْيَمَ يَا بَنِي إِسْرَائِيلَ إِنِّي رَسُولُ اللَّهِ إِلَيْكُمْ</a></td>\n",
       "      <td id=\"T_c7b06_row17_col6\" class=\"data row17 col6\" > (Isa)</td>\n",
       "    </tr>\n",
       "    <tr>\n",
       "      <th id=\"T_c7b06_level0_row18\" class=\"row_heading level0 row18\" >18</th>\n",
       "      <td id=\"T_c7b06_row18_col0\" class=\"data row18 col0\" >5944</td>\n",
       "      <td id=\"T_c7b06_row18_col1\" class=\"data row18 col1\" >61:14</td>\n",
       "      <td id=\"T_c7b06_row18_col2\" class=\"data row18 col2\" >9</td>\n",
       "      <td id=\"T_c7b06_row18_col3\" class=\"data row18 col3\" >ʿīsā</td>\n",
       "      <td id=\"T_c7b06_row18_col4\" class=\"data row18 col4\" >Isa</td>\n",
       "      <td id=\"T_c7b06_row18_col5\" class=\"data row18 col5\" ><a style='background-color:rgb(220,220,250);font-size:18px;color:rgb(0,0,150);' href='https://quran.com/61:14/tafsirs/ar-tafsir-al-tabari'> كَمَا قَالَ عِيسَى ابْنُ مَرْيَمَ لِلْحَوَارِيِّينَ مَنْ أَنْصَارِي إِلَى اللَّهِ</a></td>\n",
       "      <td id=\"T_c7b06_row18_col6\" class=\"data row18 col6\" > (Isa)</td>\n",
       "    </tr>\n",
       "    <tr>\n",
       "      <th id=\"T_c7b06_level0_row19\" class=\"row_heading level0 row19\" >19</th>\n",
       "      <td id=\"T_c7b06_row19_col0\" class=\"data row19 col0\" >6029</td>\n",
       "      <td id=\"T_c7b06_row19_col1\" class=\"data row19 col1\" >5:46</td>\n",
       "      <td id=\"T_c7b06_row19_col2\" class=\"data row19 col2\" >4</td>\n",
       "      <td id=\"T_c7b06_row19_col3\" class=\"data row19 col3\" >biʿīsā</td>\n",
       "      <td id=\"T_c7b06_row19_col4\" class=\"data row19 col4\" >Isa</td>\n",
       "      <td id=\"T_c7b06_row19_col5\" class=\"data row19 col5\" ><a style='background-color:rgb(220,220,250);font-size:18px;color:rgb(0,0,150);' href='https://quran.com/5:46/tafsirs/ar-tafsir-al-tabari'> وَقَفَّيْنَا عَلَىٰ آثَارِهِمْ بِعِيسَى ابْنِ مَرْيَمَ مُصَدِّقًا لِمَا بَيْنَ يَدَيْهِ</a></td>\n",
       "      <td id=\"T_c7b06_row19_col6\" class=\"data row19 col6\" > (Isa)</td>\n",
       "    </tr>\n",
       "    <tr>\n",
       "      <th id=\"T_c7b06_level0_row20\" class=\"row_heading level0 row20\" >20</th>\n",
       "      <td id=\"T_c7b06_row20_col0\" class=\"data row20 col0\" >6061</td>\n",
       "      <td id=\"T_c7b06_row20_col1\" class=\"data row20 col1\" >5:78</td>\n",
       "      <td id=\"T_c7b06_row20_col2\" class=\"data row20 col2\" >10</td>\n",
       "      <td id=\"T_c7b06_row20_col3\" class=\"data row20 col3\" >waʿīsā</td>\n",
       "      <td id=\"T_c7b06_row20_col4\" class=\"data row20 col4\" >and Isa</td>\n",
       "      <td id=\"T_c7b06_row20_col5\" class=\"data row20 col5\" ><a style='background-color:rgb(220,220,250);font-size:18px;color:rgb(0,0,150);' href='https://quran.com/5:78/tafsirs/ar-tafsir-al-tabari'> لُعِنَ الَّذِينَ كَفَرُوا مِنْ بَنِي إِسْرَائِيلَ عَلَىٰ لِسَانِ دَاوُودَ وَعِيسَى ابْنِ مَرْيَمَ</a></td>\n",
       "      <td id=\"T_c7b06_row20_col6\" class=\"data row20 col6\" > (Isa)</td>\n",
       "    </tr>\n",
       "    <tr>\n",
       "      <th id=\"T_c7b06_level0_row21\" class=\"row_heading level0 row21\" >21</th>\n",
       "      <td id=\"T_c7b06_row21_col0\" class=\"data row21 col0\" >6093</td>\n",
       "      <td id=\"T_c7b06_row21_col1\" class=\"data row21 col1\" >5:110</td>\n",
       "      <td id=\"T_c7b06_row21_col2\" class=\"data row21 col2\" >4</td>\n",
       "      <td id=\"T_c7b06_row21_col3\" class=\"data row21 col3\" >yāʿīsā</td>\n",
       "      <td id=\"T_c7b06_row21_col4\" class=\"data row21 col4\" >O Isa</td>\n",
       "      <td id=\"T_c7b06_row21_col5\" class=\"data row21 col5\" ><a style='background-color:rgb(220,220,250);font-size:18px;color:rgb(0,0,150);' href='https://quran.com/5:110/tafsirs/ar-tafsir-al-tabari'> إِذْ قَالَ اللَّهُ يَا عِيسَى ابْنَ مَرْيَمَ اذْكُرْ نِعْمَتِي عَلَيْكَ وَعَلَىٰ وَالِدَتِكَ</a></td>\n",
       "      <td id=\"T_c7b06_row21_col6\" class=\"data row21 col6\" > (Isa)</td>\n",
       "    </tr>\n",
       "    <tr>\n",
       "      <th id=\"T_c7b06_level0_row22\" class=\"row_heading level0 row22\" >22</th>\n",
       "      <td id=\"T_c7b06_row22_col0\" class=\"data row22 col0\" >6095</td>\n",
       "      <td id=\"T_c7b06_row22_col1\" class=\"data row22 col1\" >5:112</td>\n",
       "      <td id=\"T_c7b06_row22_col2\" class=\"data row22 col2\" >4</td>\n",
       "      <td id=\"T_c7b06_row22_col3\" class=\"data row22 col3\" >yāʿīsā</td>\n",
       "      <td id=\"T_c7b06_row22_col4\" class=\"data row22 col4\" >O Isa</td>\n",
       "      <td id=\"T_c7b06_row22_col5\" class=\"data row22 col5\" ><a style='background-color:rgb(220,220,250);font-size:18px;color:rgb(0,0,150);' href='https://quran.com/5:112/tafsirs/ar-tafsir-al-tabari'> إِذْ قَالَ الْحَوَارِيُّونَ يَا عِيسَى ابْنَ مَرْيَمَ هَلْ يَسْتَطِيعُ رَبُّكَ أَنْ يُنَزِّلَ عَلَيْنَا مَائِدَةً مِنَ السَّمَاءِ</a></td>\n",
       "      <td id=\"T_c7b06_row22_col6\" class=\"data row22 col6\" > (Isa)</td>\n",
       "    </tr>\n",
       "    <tr>\n",
       "      <th id=\"T_c7b06_level0_row23\" class=\"row_heading level0 row23\" >23</th>\n",
       "      <td id=\"T_c7b06_row23_col0\" class=\"data row23 col0\" >6097</td>\n",
       "      <td id=\"T_c7b06_row23_col1\" class=\"data row23 col1\" >5:114</td>\n",
       "      <td id=\"T_c7b06_row23_col2\" class=\"data row23 col2\" >2</td>\n",
       "      <td id=\"T_c7b06_row23_col3\" class=\"data row23 col3\" >ʿīsā</td>\n",
       "      <td id=\"T_c7b06_row23_col4\" class=\"data row23 col4\" >Isa</td>\n",
       "      <td id=\"T_c7b06_row23_col5\" class=\"data row23 col5\" ><a style='background-color:rgb(220,220,250);font-size:18px;color:rgb(0,0,150);' href='https://quran.com/5:114/tafsirs/ar-tafsir-al-tabari'> قَالَ عِيسَى ابْنُ مَرْيَمَ اللَّهُمَّ رَبَّنَا أَنْزِلْ عَلَيْنَا مَائِدَةً مِنَ السَّمَاءِ</a></td>\n",
       "      <td id=\"T_c7b06_row23_col6\" class=\"data row23 col6\" > (Isa)</td>\n",
       "    </tr>\n",
       "    <tr>\n",
       "      <th id=\"T_c7b06_level0_row24\" class=\"row_heading level0 row24\" >24</th>\n",
       "      <td id=\"T_c7b06_row24_col0\" class=\"data row24 col0\" >6099</td>\n",
       "      <td id=\"T_c7b06_row24_col1\" class=\"data row24 col1\" >5:116</td>\n",
       "      <td id=\"T_c7b06_row24_col2\" class=\"data row24 col2\" >4</td>\n",
       "      <td id=\"T_c7b06_row24_col3\" class=\"data row24 col3\" >yāʿīsā</td>\n",
       "      <td id=\"T_c7b06_row24_col4\" class=\"data row24 col4\" >O Isa</td>\n",
       "      <td id=\"T_c7b06_row24_col5\" class=\"data row24 col5\" ><a style='background-color:rgb(220,220,250);font-size:18px;color:rgb(0,0,150);' href='https://quran.com/5:116/tafsirs/ar-tafsir-al-tabari'> وَإِذْ قَالَ اللَّهُ يَا عِيسَى ابْنَ مَرْيَمَ أَأَنْتَ قُلْتَ لِلنَّاسِ اتَّخِذُونِي وَأُمِّيَ إِلَٰهَيْنِ مِنْ دُونِ اللَّهِ</a></td>\n",
       "      <td id=\"T_c7b06_row24_col6\" class=\"data row24 col6\" > (Isa)</td>\n",
       "    </tr>\n",
       "  </tbody>\n",
       "</table>\n"
      ],
      "text/plain": [
       "<IPython.core.display.HTML object>"
      ]
     },
     "execution_count": 1,
     "metadata": {},
     "output_type": "execute_result"
    }
   ],
   "source": [
    "from qChronolyze import sortchron\n",
    "\n",
    "sortchron(\n",
    "    \n",
    "    ### enter pair of word/root and meaning filtering regex as key-value pair dictionary\n",
    "\n",
    "    [\n",
    "        # *shirk\n",
    "        # {'nEs Amn g$w Twf': '   '},\n",
    "        # {'nEs Amn g$w smw mwh vbt qdm': '      '},\n",
    "        # {'Amn rAy Hzb wEd': '   '},\n",
    "\n",
    "        # *salah,\n",
    "\n",
    "        {'': 'Isa'},\n",
    "        # {'qrb': ''},\n",
    "        \n",
    "        # {'zlf lyl Slw': '  '},\n",
    "\n",
    "        # {\n",
    "        #     'Aibon/wld maroyam': '/ ',\n",
    "        #     'EiysaY': '',\n",
    "        # },\n",
    "        # {\n",
    "        #     'Aibon maroyam': ' ',\n",
    "        #     'EiysaY': '',\n",
    "        # },\n",
    "        # {'rfE smk': ' '},\n",
    "        # {'0rfE smk': ' '},\n",
    "        # {'0smk rfE': ' '},\n",
    "        # {'smk': ''},\n",
    "        # {'rfE': ''},\n",
    "        # {'smw sbb': ' '},\n",
    "        # {'smw jnn': ' jinn'},\n",
    "        # {'smw nf*': ' '},\n",
    "        # {'smw $Tn': ' '},\n",
    "        # {'jnn $Tn': ' '},\n",
    "        # {'smw sbb qTE': '  '},\n",
    "        # {'smw qTE': ' '},\n",
    "    ],\n",
    "\n",
    "    ### tafsir reference language\n",
    "    # 'Arabic',\n",
    "    # /\n",
    "    '1',\n",
    "\n",
    "    ### presentation style\n",
    "    pres='table',\n",
    "\n",
    "    )"
   ]
  },
  {
   "cell_type": "code",
   "execution_count": 4,
   "metadata": {},
   "outputs": [
    {
     "data": {
      "text/plain": [
       "2"
      ]
     },
     "execution_count": 4,
     "metadata": {},
     "output_type": "execute_result"
    }
   ],
   "source": [
    "lis1 = ['ab','cd','e']\n",
    "max([len(s) for s in lis1])"
   ]
  },
  {
   "cell_type": "code",
   "execution_count": 25,
   "metadata": {},
   "outputs": [
    {
     "data": {
      "text/plain": [
       "'a'"
      ]
     },
     "execution_count": 25,
     "metadata": {},
     "output_type": "execute_result"
    }
   ],
   "source": [
    "strn = 'abc'\n",
    "strn[-len(strn)]"
   ]
  },
  {
   "cell_type": "code",
   "execution_count": 5,
   "metadata": {},
   "outputs": [
    {
     "name": "stdout",
     "output_type": "stream",
     "text": [
      "fT?raY?\n"
     ]
    }
   ],
   "source": [
    "# import os\n",
    "# 'ftr.tsv' in os.listdir(\"data/roots\")\n",
    "import re\n",
    "flnm = re.sub('([A-Z])','\\\\1?', rt)\n",
    "print(flnm)"
   ]
  },
  {
   "cell_type": "code",
   "execution_count": 5,
   "metadata": {},
   "outputs": [
    {
     "name": "stdout",
     "output_type": "stream",
     "text": [
      "surah:ayah\tposition\tword\tmeaning\tayah_link\n",
      "6:79\t5\tfaṭara\tcreated\t إِنِّي وَجَّهْتُ وَجْهِيَ لِلَّذِي فَطَرَ السَّمَاوَاتِ وَالْأَرْضَ حَنِيفًا\n",
      "11:51\t11\tfaṭaranī\tcreated me\t يَا قَوْمِ لَا أَسْأَلُكُمْ عَلَيْهِ أَجْرًا إِنْ أَجْرِيَ إِلَّا عَلَى الَّذِي فَطَرَنِي\n",
      "17:51\t12\tfaṭarakum\tcreated you\t فَسَيَقُولُونَ مَنْ يُعِيدُنَا قُلِ الَّذِي فَطَرَكُمْ أَوَّلَ مَرَّةٍ\n",
      "19:90\t3\tyatafaṭṭarna\tget torn\t تَكَادُ السَّمَاوَاتُ يَتَفَطَّرْنَ مِنْهُ وَتَنْشَقُّ الْأَرْضُ\n",
      "20:72\t10\tfaṭaranā\tcreated us\t قَالُوا لَنْ نُؤْثِرَكَ عَلَىٰ مَا جَاءَنَا مِنَ الْبَيِّنَاتِ وَالَّذِي فَطَرَنَا\n",
      "21:56\t8\tfaṭarahunna\tcreated them\t قَالَ بَلْ رَبُّكُمْ رَبُّ السَّمَاوَاتِ وَالْأَرْضِ الَّذِي فَطَرَهُنَّ\n",
      "30:30\t8\tfaṭara\tHe has created\t فِطْرَتَ اللَّهِ الَّتِي فَطَرَ النَّاسَ عَلَيْهَا لَا تَبْدِيلَ لِخَلْقِ اللَّهِ\n",
      "36:22\t6\tfaṭaranī\tcreated me\t وَمَا لِيَ لَا أَعْبُدُ الَّذِي فَطَرَنِي وَإِلَيْهِ تُرْجَعُونَ\n",
      "42:5\t3\tyatafaṭṭarna\tbreak up\t تَكَادُ السَّمَاوَاتُ يَتَفَطَّرْنَ مِنْ فَوْقِهِنَّ\n",
      "43:27\t3\tfaṭaranī\tcreated me\t إِلَّا الَّذِي فَطَرَنِي فَإِنَّهُ سَيَهْدِينِ\n",
      "82:1\t3\tinfaṭarat\t(is) cleft asunder\t إِذَا السَّمَاءُ انْفَطَرَتْ\n",
      "30:30\t5\tfiṭ'rata\tNature\t فِطْرَتَ اللَّهِ الَّتِي فَطَرَ النَّاسَ عَلَيْهَا لَا تَبْدِيلَ لِخَلْقِ اللَّهِ\n",
      "67:3\t18\tfuṭūrin\tflaw\t فَارْجِعِ الْبَصَرَ هَلْ تَرَىٰ مِنْ فُطُورٍ\n",
      "6:14\t6\tfāṭiri\tCreator\t قُلْ أَغَيْرَ اللَّهِ أَتَّخِذُ وَلِيًّا فَاطِرِ السَّمَاوَاتِ وَالْأَرْضِ\n",
      "12:101\t10\tfāṭira\tCreator\t فَاطِرَ السَّمَاوَاتِ وَالْأَرْضِ أَنْتَ وَلِيِّي فِي الدُّنْيَا وَالْآخِرَةِ\n",
      "14:10\t6\tfāṭiri\t(the) Creator\t قَالَتْ رُسُلُهُمْ أَفِي اللَّهِ شَكٌّ فَاطِرِ السَّمَاوَاتِ وَالْأَرْضِ\n",
      "35:1\t3\tfāṭiri\tOriginator\t الْحَمْدُ لِلَّهِ فَاطِرِ السَّمَاوَاتِ وَالْأَرْضِ جَاعِلِ الْمَلَائِكَةِ رُسُلًا\n",
      "39:46\t3\tfāṭira\tCreator\t قُلِ اللَّهُمَّ فَاطِرَ السَّمَاوَاتِ وَالْأَرْضِ عَالِمَ الْغَيْبِ وَالشَّهَادَةِ\n",
      "42:11\t1\tfāṭiru\t(The) Creator\t فَاطِرُ السَّمَاوَاتِ وَالْأَرْضِ جَعَلَ لَكُمْ مِنْ أَنْفُسِكُمْ أَزْوَاجًا\n",
      "73:18\t2\tmunfaṭirun\t(will) break apart\t السَّمَاءُ مُنْفَطِرٌ بِهِ كَانَ وَعْدُهُ مَفْعُولًا\n",
      "\n"
     ]
    }
   ],
   "source": [
    "with open('data/roots/fTr.tsv') as f:\n",
    "    strn = f.read()\n",
    "\n",
    "print(strn)"
   ]
  },
  {
   "cell_type": "code",
   "execution_count": 3,
   "metadata": {},
   "outputs": [
    {
     "data": {
      "text/plain": [
       "{'b', 'c'}"
      ]
     },
     "execution_count": 3,
     "metadata": {},
     "output_type": "execute_result"
    }
   ],
   "source": [
    "set1 = {\"a\",\"b\",\"c\"}\n",
    "\n",
    "set1.remove(\"a\")\n",
    "\n",
    "set1"
   ]
  },
  {
   "cell_type": "code",
   "execution_count": 4,
   "metadata": {},
   "outputs": [
    {
     "data": {
      "text/plain": [
       "['a (b)', 'c (d)']"
      ]
     },
     "execution_count": 4,
     "metadata": {},
     "output_type": "execute_result"
    }
   ],
   "source": [
    "[ f'{k} ({v})' for k, v in {\"a\":\"b\",\"c\":\"d\"}.items() ]\n",
    "# [ f'{k}' for k in {\"a\":\"b\",\"c\":\"d\"} ]"
   ]
  },
  {
   "cell_type": "code",
   "execution_count": 253,
   "metadata": {},
   "outputs": [
    {
     "data": {
      "text/plain": [
       "[{'a': 'b', 'c': 'd'}, {'a': 'e', 'c': 'f'}]"
      ]
     },
     "execution_count": 253,
     "metadata": {},
     "output_type": "execute_result"
    }
   ],
   "source": [
    "import pandas as pd\n",
    "\n",
    "df = pd.DataFrame([\n",
    "    {\"a\":\"b\",\"c\":\"d\"},\n",
    "    {\"a\":\"e\",\"c\":\"f\"}\n",
    "])\n",
    "\n",
    "df.to_dict(orient='records')\n",
    "# df"
   ]
  },
  {
   "cell_type": "markdown",
   "metadata": {},
   "source": [
    "# csv"
   ]
  },
  {
   "cell_type": "markdown",
   "metadata": {},
   "source": [
    "# md"
   ]
  },
  {
   "cell_type": "markdown",
   "metadata": {},
   "source": [
    "## edit md"
   ]
  },
  {
   "cell_type": "code",
   "execution_count": 1,
   "metadata": {},
   "outputs": [],
   "source": [
    "with open(\"/mnt/f/Documents/notes/001_eskaton/001_chhatak/mejo_mama/Ghulat/shirk/shirk4.md\") as f:\n",
    "# with open(\"/mnt/f/Documents/notes/Ref/iamb.myst/096.html\") as f:\n",
    "    strn = f.read()"
   ]
  },
  {
   "cell_type": "code",
   "execution_count": 5,
   "metadata": {},
   "outputs": [],
   "source": [
    "import re\n",
    "strnN = re.sub(\n",
    "    \"## [^\\u0621-\\u064A\\n]*\\n\",\n",
    "    \"\",\n",
    "    strn\n",
    ")"
   ]
  },
  {
   "cell_type": "code",
   "execution_count": 6,
   "metadata": {},
   "outputs": [],
   "source": [
    "with open(\"/mnt/f/Documents/notes/001_eskaton/001_chhatak/mejo_mama/Ghulat/shirk/shirk4.md\", 'w') as f:\n",
    "# with open(\"/mnt/f/Documents/notes/Ref/iamb.myst/096.html\") as f:\n",
    "    f.write(strnN)"
   ]
  },
  {
   "cell_type": "markdown",
   "metadata": {},
   "source": [
    "# obsidian edit"
   ]
  },
  {
   "cell_type": "code",
   "execution_count": null,
   "metadata": {},
   "outputs": [],
   "source": [
    "import re\n",
    "\n",
    "with open(\"/mnt/f/Documents/notes/Ref/iamb.mystery3.md\") as f:\n",
    "# with open(\"/mnt/f/Documents/notes/Ref/iamb.myst/096.html\") as f:\n",
    "    strn = f.read()\n",
    "\n",
    "# matches = re.findall(\"(\\d{1,3})\\:(\\d{1,3})\", strn)\n",
    "\n",
    "# matches\n",
    "\n",
    "# surAys = []\n",
    "\n",
    "\n",
    "rep = re.compile(\n",
    "        # '(?<=[\\n])§\\s*(\\d*)\\s*', \n",
    "        # '<div type=\"textpart\" subtype=\"section\" xml:base=\"urn:cts:greekLit:tlg2023.tlg006.1st1K-grc1:(\\d{1,})\" n=\"(\\d{1,})\">(.*?)</div>',\n",
    "        # '<div type=\"textpart\" subtype=\"section\" xml:base=\"urn:cts:greekLit:tlg2023.tlg006.1st1K-grc1:(\\d{1,})\" n=\"(\\d{1,})\">.*?</div>',\n",
    "        # '<div type=\"textpart\" subtype=\"(?:section|chapter)\" xml:base=\"urn:cts:greekLit:tlg2023.tlg006.1st1K-grc1(?:\\:(\\d{1,}))*\" n=\"(\\d{1,})\">',\n",
    "        '\\n#{1,2}\\s*[c]{0,1}(\\d{1,})\\.{0,1}(\\d{0,})',\n",
    "        # '\\n#{1,2}',\n",
    "        # '((?:SECTION|CHAP\\.) [0IVX]{1,})',\n",
    "        # '<div type=\"textpart\" subtype=\"chapter\" xml:base=\"urn:cts:greekLit:tlg2023.tlg006.1st1K-grc1\" n=\"(\\d{1,})\">(.*?)</div>',\n",
    "        # '<[^>]*?>',\n",
    "        # re.DOTALL\n",
    "    ).findall(\n",
    "    # ).sub(\n",
    "    # '## \\\\1\\n',\n",
    "        # '## \\\\1.\\\\2\\n\\\\3',\n",
    "        # '# c\\\\1\\n\\\\2',\n",
    "        # '',\n",
    "    strn\n",
    ")\n",
    "    # if len(refs) > 0:\n",
    "    #     ref = refs[0]\n",
    "    #     surAys.append(ref)\n",
    "\n",
    "print(len(rep))\n",
    "# print(rep)\n",
    "rep\n",
    "\n",
    "# with open(\"/mnt/f/Documents/notes/Ref/iamb.mystery3.md\", 'w') as f:\n",
    "#     # for surAy in surAys:\n",
    "#     f.write(rep)"
   ]
  },
  {
   "cell_type": "code",
   "execution_count": 167,
   "metadata": {},
   "outputs": [
    {
     "name": "stdout",
     "output_type": "stream",
     "text": [
      "141 141\n"
     ]
    }
   ],
   "source": [
    "import re\n",
    "\n",
    "with open(\"/mnt/f/Documents/notes/Ref/iamb.mystery3.md\") as f:\n",
    "    strn1 = f.read()\n",
    "\n",
    "matches1 = re.compile(\n",
    "    # '[#]{1,}\\s*[c]{0,1}\\d{1,}(?:\\.{0,1})\\d{0,}\\n'\n",
    "    # 'subtype=\"sec'\n",
    "    # '\\n#{1,2}\\s*[c]{0,1}(\\d{1,})\\.{0,1}(\\d{0,})\\n(.*?(?=\\n#|$))',\n",
    "    '\\n#{1,2}\\s*(\\d{1,})\\.(\\d{1,})(.*?(?=\\n#|$))',\n",
    "    re.DOTALL\n",
    ").findall(\n",
    "    strn1\n",
    ")\n",
    "\n",
    "\n",
    "with open(\"/mnt/f/Documents/notes/Ref/iamb.myst/096.html\") as f:\n",
    "    strn2 = f.read()\n",
    "\n",
    "matches2 = re.compile(\n",
    "    # '[#]{1,}\\s*[c]{0,1}\\d{1,}(?:\\.{0,1})\\d{0,}\\n'\n",
    "    # 'subtype=\"sec'\n",
    "    # '\\n#{1,2}\\s*[c]{0,1}(\\d{1,})\\.{0,1}(\\d{0,})\\n(.*?(?=\\n#|$))',\n",
    "    'CHAP\\.\\s[0IVX]*(.*?)(?=CHAP\\.\\s|$)',\n",
    "    re.DOTALL\n",
    ").findall(\n",
    "    strn2\n",
    ")\n",
    "\n",
    "# n = 94\n",
    "print(\n",
    "    len(matches1),\n",
    "    len(matches2)\n",
    "    #   +n\n",
    "      )\n",
    "\n",
    "# matches1\n",
    "strNew = ''\n",
    "for n in range(len(matches1)):\n",
    "    # if n == len(matches1)-1:\n",
    "        # print(\n",
    "        #     matches1[n],\n",
    "        #     matches2[n]\n",
    "        #     )\n",
    "    strNew += f'\\n\\n## {matches1[n][0]}.{matches1[n][1]}\\n{matches1[n][2]}\\n{matches2[n]}'\n",
    "\n",
    "# print(strNew)\n",
    "with open('/mnt/f/Documents/notes/Ref/iamb.myst4.md', 'w') as f:\n",
    "    f.write(strNew)"
   ]
  },
  {
   "cell_type": "code",
   "execution_count": 12,
   "metadata": {},
   "outputs": [
    {
     "data": {
      "text/plain": [
       "141"
      ]
     },
     "execution_count": 12,
     "metadata": {},
     "output_type": "execute_result"
    }
   ],
   "source": [
    "import re\n",
    "\n",
    "with open('/mnt/f/Documents/notes/Ref/iamb.MEg.md') as f:\n",
    "    strn1 = f.read()\n",
    "\n",
    "matches = re.compile(\n",
    "    '\\n##\\s\\d*\\.\\d*'\n",
    ").findall(\n",
    "    strn1\n",
    ")\n",
    "\n",
    "len(matches)"
   ]
  },
  {
   "cell_type": "code",
   "execution_count": 10,
   "metadata": {},
   "outputs": [
    {
     "name": "stdout",
     "output_type": "stream",
     "text": [
      "139\n"
     ]
    }
   ],
   "source": [
    "import re\n",
    "\n",
    "with open(\"/mnt/f/Documents/notes/Ref/iamb.MEg.md\") as f:\n",
    "    strn1 = f.read()\n",
    "\n",
    "matches = re.compile(\n",
    "    '(\\n##\\s\\d*\\.\\d*\\n)([^#a-zA-Z]*?(?=[a-zA-Z]))([^#]*(?=\\n#|$))',\n",
    "    re.DOTALL\n",
    ").findall(\n",
    "    strn1\n",
    ")\n",
    "\n",
    "print(\n",
    "    # matches\n",
    "    len(matches)\n",
    ")\n",
    "\n",
    "strnNew = ''\n",
    "\n",
    "for match in matches:\n",
    "    strnNew += match[0]\n",
    "    secs = re.compile(\n",
    "        # '[#]{1,}\\s*[c]{0,1}\\d{1,}(?:\\.{0,1})\\d{0,}\\n'\n",
    "        # 'subtype=\"sec'\n",
    "        # '\\n#{1,2}\\s*[c]{0,1}(\\d{1,})\\.{0,1}(\\d{0,})\\n(.*?(?=\\n#|$))',\n",
    "        '([^#\\.0-9a-zA-Z]{1,}\\.)',\n",
    "        re.DOTALL\n",
    "    ).findall(\n",
    "        match[1]\n",
    "    )\n",
    "\n",
    "    # print(secs)\n",
    "\n",
    "    matchUpd = ''\n",
    "    for n in range(len(secs)):\n",
    "        secu = secs[n].strip('\\n').strip(' ')\n",
    "        matchUpd += f'\\n\\n### {n+1}\\n\\n#### gr\\n\\n{secu}\\n\\n#### en\\n\\n#### sn\\n\\n{secu}\\n\\n#### ar\\n\\n{secu}\\n\\n'\n",
    "    \n",
    "    # print('--------------------', matchUpd)\n",
    "\n",
    "    strnNew += matchUpd\n",
    "\n",
    "    strnNew += match[2]\n",
    "# ).sub(\n",
    "#     '### \\n#### gr\\\\1\\n\\n#### en \\n\\n#### sn\\n\\n\\\\1\\n\\n#### ar\\n\\n\\\\1',\n",
    "#     strn1\n",
    "# )\n",
    "\n",
    "# matches1\n",
    "# strn1\n",
    "with open('/mnt/f/Documents/notes/Ref/iamb.MEg2.md', 'w') as f:\n",
    "    f.write(strnNew)"
   ]
  },
  {
   "cell_type": "code",
   "execution_count": 9,
   "metadata": {},
   "outputs": [],
   "source": [
    "strn1"
   ]
  },
  {
   "cell_type": "markdown",
   "metadata": {},
   "source": [
    "[notes/filename](/mnt/f/Documents/notes/001_eskaton/001_chhatak/mejo_mama/Ghulat/a'jamī/A'jamī_Foreign_words_vocab_in_quran.md)"
   ]
  },
  {
   "cell_type": "markdown",
   "metadata": {},
   "source": [
    "[notes/filename](/mnt/f/Documents/notes/001_eskaton/001_chhatak/mejo_mama/Ghulat/a'jamī/Farsi_persian_iranian.md)"
   ]
  },
  {
   "cell_type": "code",
   "execution_count": 15,
   "metadata": {},
   "outputs": [
    {
     "name": "stdout",
     "output_type": "stream",
     "text": [
      "'sorter.json' found'\n",
      "last item in sorter: 110:3\n",
      "successfully loaded sorter of length 6236 from 'sorter.json'\n",
      "142\n"
     ]
    }
   ],
   "source": [
    "# from qChronolyze import getSorter\n",
    "# sorter = getSorter()\n",
    "\n",
    "# import re\n",
    "\n",
    "# with open(\"/mnt/f/Documents/notes/001_eskaton/001_chhatak/mejo_mama/Ghulat/a'jamī/A'jamī_Foreign_words_vocab_in_quran.md\") as f:\n",
    "#     strn1 = f.read()\n",
    "# with open(\"data/compare/foreign.md\") as f:\n",
    "#     strn2 = f.read()\n",
    "\n",
    "# # matches = re.findall(\"(\\d{1,3})\\:(\\d{1,3})\", strn)\n",
    "\n",
    "# # matches\n",
    "    \n",
    "# # print(strn1)\n",
    "# # print(strn2)\n",
    "\n",
    "# surAys = []\n",
    "\n",
    "# for surAy in sorter:\n",
    "#     refs = re.compile('(?<=#\\s)'+surAy+'(?=[\\n$])', re.DOTALL).findall(strn1)\n",
    "#     if len(refs) > 0:\n",
    "#         ref = refs[0]\n",
    "#         surAys.append(ref)\n",
    "#     refs = re.compile('(?<=#\\s)'+surAy+'(?=[\\n$])', re.DOTALL).findall(strn2)\n",
    "#     if len(refs) > 0 and refs[0] not in surAys:\n",
    "#         ref = refs[0]\n",
    "#         surAys.append(ref)\n",
    "\n",
    "# print(len(surAys))\n",
    "\n",
    "# with open(\"data/compare/foreign_new.md\", 'a') as f:        \n",
    "#     for surAy in surAys:\n",
    "#         refs = re.compile(\"#\\s*\"+surAy+\"\\n.*?\\n(?=(?:#\\s\\d{1,3}\\:\\d{1,3}\\n|$))\", re.DOTALL).findall(strn1)\n",
    "#         if len(refs) > 0:\n",
    "#             f.write(refs[0])\n",
    "#         if len(refs) == 0:\n",
    "#             f.write(\n",
    "#                 '# '+surAy+'\\n'+\n",
    "#                 '![[Qsortedrukued#'+surAy+']]\\n'\n",
    "#             )"
   ]
  },
  {
   "cell_type": "code",
   "execution_count": null,
   "metadata": {},
   "outputs": [
    {
     "name": "stdout",
     "output_type": "stream",
     "text": [
      "'sorter.json' found'\n",
      "last item in sorter: 110:3\n",
      "successfully loaded sorter of length 6236 from 'sorter.json'\n"
     ]
    }
   ],
   "source": [
    "# from qChronolyze import getSorter\n",
    "# sorter = getSorter()\n",
    "\n",
    "# import re\n",
    "\n",
    "# with open(\"data/compare/foreign.txt\") as f:\n",
    "#     strn = f.read()\n",
    "\n",
    "# # matches = re.findall(\"(\\d{1,3})\\:(\\d{1,3})\", strn)\n",
    "\n",
    "# # matches\n",
    "\n",
    "# surAys = []\n",
    "\n",
    "# for surAy in sorter:\n",
    "#     refs = re.compile('(?<=[\\n\\^])'+surAy+'(?=[\\n$])', re.DOTALL).findall(strn)\n",
    "#     if len(refs) > 0:\n",
    "#         ref = refs[0]\n",
    "#         surAys.append(ref)\n",
    "\n",
    "# with open(\"data/compare/foreign.md\", 'a') as f:\n",
    "#     for surAy in surAys:\n",
    "#         f.write(\n",
    "#             '# '+surAy+'\\n'+\n",
    "#             '![[Qsortedrukued#'+surAy+']]\\n'\n",
    "#         )"
   ]
  },
  {
   "cell_type": "code",
   "execution_count": 7,
   "metadata": {},
   "outputs": [],
   "source": [
    "# import re\n",
    "\n",
    "# with open(\"data/ref/to.txt\") as f:\n",
    "#     strn = f.read()\n",
    "\n",
    "# matches = re.findall(\"(\\S*) verse (\\d{1,3})\", strn)\n",
    "\n",
    "# matches\n",
    "\n",
    "# with open(\"data/compare/foreign.txt\", 'a') as f:\n",
    "#     for match in matches:\n",
    "#         f.write(match[0]+':'+match[1]+'\\n')"
   ]
  },
  {
   "cell_type": "code",
   "execution_count": 189,
   "metadata": {},
   "outputs": [
    {
     "name": "stdout",
     "output_type": "stream",
     "text": [
      "'sorter.json' found'\n",
      "last item in sorter: 110:3\n",
      "successfully loaded sorter of length 6236 from 'sorter.json'\n",
      "45\n"
     ]
    }
   ],
   "source": [
    "# from qChronolyze import getSorter\n",
    "# sorter = getSorter()\n",
    "\n",
    "# import re\n",
    "# with open(\"/mnt/f/Documents/notes/001_eskaton/001_chhatak/mejo_mama/Ghulat/a'jamī/A'jamī_Foreign_words_vocab_in_quran.md\") as f:\n",
    "#     strn = f.read()\n",
    "\n",
    "# surAys = []\n",
    "\n",
    "# for surAy in sorter:\n",
    "#     refs = re.compile(\"#\\s*\"+surAy+\"\\n.*?\\n(?=(?:#\\s\\d{1,3}\\:\\d{1,3}\\n|$))\", re.DOTALL).findall(strn)\n",
    "#     if len(refs) > 0:\n",
    "#         ref = \"\\n\".join(refs)\n",
    "#         surAys.append(ref)\n",
    "\n",
    "# print(len(surAys))\n",
    "# surAys\n",
    "\n",
    "# with open(\"/mnt/f/Documents/notes/001_eskaton/001_chhatak/mejo_mama/Ghulat/a'jamī/A'jamī_Foreign_words_vocab_in_quran_new.md\", 'a') as f:\n",
    "#     for ref in surAys:\n",
    "#         f.write(ref+'\\n')"
   ]
  },
  {
   "cell_type": "code",
   "execution_count": null,
   "metadata": {},
   "outputs": [],
   "source": [
    "# import re\n",
    "# with open(\"/mnt/f/Documents/notes/001_eskaton/001_chhatak/mejo_mama/Ghulat/a'jamī/Farsi_persian_iranian.md\") as f:\n",
    "#     # matches = re.compile(r'\\[Q#s(\\d{1})#*(\\d{1})\\]').findall(f.read())\n",
    "#     # print(matches)\n",
    "#     matches = re.compile(r\"(?<=[\\n\\^])(?:!\\[\\[A'jamī_Foreign_words_vocab_in_quran.*\\]\\]|(?<=[\\n\\^])#\\s*.*?(?=[\\n$]))\").findall(f.read())\n",
    "#     # substr = re.compile(r'(?:\\[.*\\]|)').sub('', f.read())\n",
    "#     # print(substr)\n",
    "#     # re.findall\n",
    "# with open(\"/mnt/f/Documents/notes/001_eskaton/001_chhatak/mejo_mama/Ghulat/a'jamī/Farsi_persian_iranian_new.md\", 'a') as f:\n",
    "#     for match in matches:\n",
    "#         f.write(match+'\\n')\n",
    "# # matches"
   ]
  },
  {
   "cell_type": "code",
   "execution_count": 46,
   "metadata": {},
   "outputs": [],
   "source": [
    "# import re\n",
    "# with open('/mnt/f/Documents/notes/001_eskaton/001_chhatak/mejo_mama/Ghulat/umm_l_kitab.md') as f:\n",
    "#     # matches = re.compile(r'\\[Q#s(\\d{1})#*(\\d{1})\\]').findall(f.read())\n",
    "#     # print(matches)\n",
    "#     substr = re.compile(r'\\[Q#s(\\d{1,})#*(\\d{1,})\\]').sub('[Qsorted#\\\\1:\\\\2]', f.read())\n",
    "#     # print(substr)\n",
    "# with open('data/ref/test.md', 'w') as f:\n",
    "#     f.write(substr)"
   ]
  },
  {
   "cell_type": "code",
   "execution_count": null,
   "metadata": {},
   "outputs": [],
   "source": [
    "# import os\n",
    "# import re\n",
    "\n",
    "# def list_files_recursive(path='.'):\n",
    "# \tfor entry in os.listdir(path):\n",
    "# \t\tfull_path = os.path.join(path, entry)\n",
    "# \t\tif os.path.isdir(full_path):\n",
    "# \t\t\tlist_files_recursive(full_path)\n",
    "# \t\telse:\n",
    "# \t\t\t# print(full_path[-3:])\n",
    "# \t\t\tif full_path[-3:] == '.md':\n",
    "# \t\t\t    # print(full_path)\n",
    "# \t\t\t\twith open(full_path) as f:\n",
    "# \t\t\t\t\tstrng = f.read()\n",
    "# \t\t\t\t\tmatches = re.compile(r'\\[Q#s(\\d{1,})#*(\\d{1,})\\]').findall(strng)\n",
    "# \t\t\t\t\tif len(matches) > 0:\n",
    "# \t\t\t\t\t# if True:\n",
    "# \t\t\t\t\t\t# print(len(matches))\n",
    "# \t\t\t\t\t# print(matches)\n",
    "# \t\t\t\t\t\tsubstr = re.compile(r'\\[Q#s(\\d{1,})#*(\\d{1,})\\]').sub('[Qsorted#\\\\1:\\\\2]', strng)\n",
    "# \t\t\t\t\t\t# print(substr)\n",
    "# \t\t\t\t\t\twith open(full_path, 'w') as f:\n",
    "# \t\t\t\t\t\t\tf.write(substr)\n",
    "\n",
    "# # Specify the directory path you want to start from\n",
    "# directory_path = '/mnt/f/Documents/notes'\n",
    "# list_files_recursive(directory_path)\n"
   ]
  },
  {
   "cell_type": "markdown",
   "metadata": {},
   "source": [
    "# surayed"
   ]
  },
  {
   "cell_type": "code",
   "execution_count": 34,
   "metadata": {},
   "outputs": [
    {
     "name": "stdout",
     "output_type": "stream",
     "text": [
      "بِسْمِ ٱللَّهِ \n"
     ]
    }
   ],
   "source": [
    "with open('data/ref/uthmani-qurancom.md') as f:\n",
    "    qStr=f.read()\n",
    "print(qStr[55:70])"
   ]
  },
  {
   "cell_type": "code",
   "execution_count": 35,
   "metadata": {},
   "outputs": [],
   "source": [
    "import  re\n",
    "\n",
    "serial_ayah_pair = re.compile('#\\s*(\\d*)[\\n\\s]*(.*)(?=[\\n\\s]*[#]*)').findall(qStr)\n",
    "# re.compile('#\\s*(\\d*)').sub(qStr)"
   ]
  },
  {
   "cell_type": "code",
   "execution_count": 36,
   "metadata": {},
   "outputs": [],
   "source": [
    "import json\n",
    "with open('qdict.json') as f:\n",
    "    qDict = json.loads(f.read())"
   ]
  },
  {
   "cell_type": "code",
   "execution_count": 37,
   "metadata": {},
   "outputs": [
    {
     "data": {
      "text/plain": [
       "6236"
      ]
     },
     "execution_count": 37,
     "metadata": {},
     "output_type": "execute_result"
    }
   ],
   "source": [
    "len(serial_ayah_pair)"
   ]
  },
  {
   "cell_type": "code",
   "execution_count": 38,
   "metadata": {},
   "outputs": [
    {
     "data": {
      "text/plain": [
       "dict_keys(['1', '2', '3', '4', '5', '6', '7', '8', '9', '10', '11', '12', '13', '14', '15', '16', '17', '18', '19', '20', '21', '22', '23', '24', '25', '26', '27', '28', '29', '30', '31', '32', '33', '34', '35', '36', '37', '38', '39', '40', '41', '42', '43', '44', '45', '46', '47', '48', '49', '50', '51', '52', '53', '54', '55', '56', '57', '58', '59', '60', '61', '62', '63', '64', '65', '66', '67', '68', '69', '70', '71', '72', '73', '74', '75', '76', '77', '78', '79', '80', '81', '82', '83', '84', '85', '86', '87', '88', '89', '90', '91', '92', '93', '94', '95', '96', '97', '98', '99', '100', '101', '102', '103', '104', '105', '106', '107', '108', '109', '110', '111', '112', '113', '114'])"
      ]
     },
     "execution_count": 38,
     "metadata": {},
     "output_type": "execute_result"
    }
   ],
   "source": [
    "qDict.keys()"
   ]
  },
  {
   "cell_type": "code",
   "execution_count": 39,
   "metadata": {},
   "outputs": [],
   "source": [
    "sur = 1\n",
    "ay = 1\n",
    "# ser = 1\n",
    "no_ayah_pairs = {}\n",
    "\n",
    "for pair in serial_ayah_pair:\n",
    "    no_ayah_pairs[f'{sur}:{ay}'] = pair[1]\n",
    "    ay += 1\n",
    "    if ay > qDict[str(sur)]['verse_count']:\n",
    "        sur += 1\n",
    "        ay = 1"
   ]
  },
  {
   "cell_type": "code",
   "execution_count": 40,
   "metadata": {},
   "outputs": [
    {
     "name": "stdout",
     "output_type": "stream",
     "text": [
      "بِسْمِ ٱللَّهِ \n"
     ]
    }
   ],
   "source": [
    "with open('data/ref/uthmani-qurancom.md') as f:\n",
    "    qStr=f.read()\n",
    "print(qStr[55:70])"
   ]
  },
  {
   "cell_type": "code",
   "execution_count": 41,
   "metadata": {},
   "outputs": [],
   "source": [
    "saQstr = ''\n",
    "for suray, vrs in no_ayah_pairs.items():\n",
    "    if suray.split(':')[1] == \"1\":\n",
    "        sur = suray.split(':')[0]\n",
    "        # print(sur)\n",
    "        saQstr += f'# s{sur}\\n\\n' + f'{qDict[str(sur)][\"surah_name\"]}\\n\\n'\n",
    "    saQstr += f'### {suray}\\n\\n{vrs}\\n\\n'"
   ]
  },
  {
   "cell_type": "code",
   "execution_count": 42,
   "metadata": {},
   "outputs": [],
   "source": [
    "with open('data/ref/QSAed.md', 'w') as f:\n",
    "    f.write(saQstr)"
   ]
  },
  {
   "cell_type": "markdown",
   "metadata": {},
   "source": [
    "# rukued"
   ]
  },
  {
   "cell_type": "code",
   "execution_count": 43,
   "metadata": {},
   "outputs": [],
   "source": [
    "import re\n",
    "with open('rukus4.txt') as f:\n",
    "    rukuStr = f.read()\n",
    "\n",
    "rukus = rukuStr.split('\\n')"
   ]
  },
  {
   "cell_type": "code",
   "execution_count": 44,
   "metadata": {},
   "outputs": [
    {
     "data": {
      "text/plain": [
       "(554, '114:1:1-6')"
      ]
     },
     "execution_count": 44,
     "metadata": {},
     "output_type": "execute_result"
    }
   ],
   "source": [
    "len(rukus),  rukus[-1]"
   ]
  },
  {
   "cell_type": "code",
   "execution_count": 50,
   "metadata": {},
   "outputs": [],
   "source": [
    "with open('data/ref/QSAed.md') as f:\n",
    "    q = f.read()\n",
    "\n",
    "qRukued = q\n",
    "\n",
    "# count = 0\n",
    "import re\n",
    "for ruku in rukus:\n",
    "    surah = ruku.split(\":\")[0]\n",
    "    rukuno = ruku.split(\":\")[1]\n",
    "    rukuStartAyah = ruku.split(\":\")[2].split(\"-\")[0]\n",
    "    rukuEndAyah = ruku.split(\":\")[2].split(\"-\")[1]\n",
    "    surahAyah = f'### {surah}:{rukuStartAyah}'\n",
    "    # match = re.compile(surahAyah).search(q).group()\n",
    "    # match = re.search(surahAyah, q).group()\n",
    "    # match = re.findall(\n",
    "    #     surahAyah+'(?=[\\n$])', \n",
    "    #     q\n",
    "    # )\n",
    "    # count += len(match)\n",
    "    # print(match)\n",
    "    qRukued =  re.compile(\n",
    "        f'{surahAyah}(?=[\\n$])'\n",
    "    ).sub(\n",
    "        f'\\n## r{surah}.{rukuno}\\n'\n",
    "        + f'\\n[Q.{surah}.{rukuStartAyah}-{rukuEndAyah}]'\n",
    "        + f'(https://www.islamicstudies.info/tafheem.php?sura={surah}&verse={rukuStartAyah}&to={rukuEndAyah})\\n'\n",
    "        + f'\\n{surahAyah}',\n",
    "        qRukued\n",
    "    )\n",
    "# print(count)"
   ]
  },
  {
   "cell_type": "code",
   "execution_count": 51,
   "metadata": {},
   "outputs": [],
   "source": [
    "with open('data/ref/QRed.md', 'w') as f:\n",
    "    f.write(qRukued)"
   ]
  },
  {
   "cell_type": "markdown",
   "metadata": {},
   "source": [
    "# rsed"
   ]
  },
  {
   "cell_type": "code",
   "execution_count": 294,
   "metadata": {},
   "outputs": [
    {
     "name": "stdout",
     "output_type": "stream",
     "text": [
      "ِ ٱللَّهِ ٱلرَّحْمَـٰنِ ٱلرَّح\n"
     ]
    }
   ],
   "source": [
    "with open('data/ref/QRed.md') as f:\n",
    "    qStr=f.read()\n",
    "print(qStr[120:150])"
   ]
  },
  {
   "cell_type": "code",
   "execution_count": 56,
   "metadata": {},
   "outputs": [],
   "source": [
    "with open('sorter.json') as f:\n",
    "    sorter = json.loads(f.read())"
   ]
  },
  {
   "cell_type": "code",
   "execution_count": 298,
   "metadata": {},
   "outputs": [
    {
     "data": {
      "text/plain": [
       "'110:3'"
      ]
     },
     "execution_count": 298,
     "metadata": {},
     "output_type": "execute_result"
    }
   ],
   "source": [
    "sorter[-1]"
   ]
  },
  {
   "cell_type": "code",
   "execution_count": 295,
   "metadata": {},
   "outputs": [],
   "source": [
    "import  re\n",
    "\n",
    "no_ayah_pair = re.compile('###\\s*(\\d*\\:\\d*)[\\n\\s]*(.*)(?=[\\n\\s]*[#]*)').findall(qStr)"
   ]
  },
  {
   "cell_type": "code",
   "execution_count": 296,
   "metadata": {},
   "outputs": [
    {
     "data": {
      "text/plain": [
       "6236"
      ]
     },
     "execution_count": 296,
     "metadata": {},
     "output_type": "execute_result"
    }
   ],
   "source": [
    "len(no_ayah_pair)"
   ]
  },
  {
   "cell_type": "code",
   "execution_count": 297,
   "metadata": {},
   "outputs": [
    {
     "data": {
      "text/plain": [
       "('1:1', 'بِسْمِ ٱللَّهِ ٱلرَّحْمَـٰنِ ٱلرَّحِيمِ')"
      ]
     },
     "execution_count": 297,
     "metadata": {},
     "output_type": "execute_result"
    }
   ],
   "source": [
    "no_ayah_pair[0]"
   ]
  },
  {
   "cell_type": "code",
   "execution_count": 313,
   "metadata": {},
   "outputs": [],
   "source": [
    "with open('qDict.json') as f:\n",
    "    qSurList = list(json.loads(f.read()).keys())\n",
    "\n",
    "# print(qDict.keys())\n",
    "# print(qSurList)\n",
    "\n",
    "import re\n",
    "\n",
    "with open('rukus4.txt') as f:\n",
    "    rukuStr = f.read()\n",
    "\n",
    "surRukStrts = {}\n",
    "\n",
    "for sur in qSurList:\n",
    "    rukStrts = re.compile(\n",
    "            \"[\\n](?:\"+sur+r\"\\:\\d{1,2}\\:)(\\d{1,})(?:\\-\\d{1,3})\"\n",
    "            ).findall(\n",
    "                rukuStr\n",
    "    )\n",
    "    surRukStrts[sur] = rukStrts\n",
    "# rukuDict = {}"
   ]
  },
  {
   "cell_type": "code",
   "execution_count": null,
   "metadata": {},
   "outputs": [],
   "source": [
    "print(surRukStrts)"
   ]
  },
  {
   "cell_type": "code",
   "execution_count": 272,
   "metadata": {},
   "outputs": [
    {
     "name": "stdout",
     "output_type": "stream",
     "text": [
      "554\n"
     ]
    }
   ],
   "source": [
    "rukustrts = [ subrow for row in surRukStrts.values() for subrow in row ]\n",
    "print(len(rukustrts))"
   ]
  },
  {
   "cell_type": "code",
   "execution_count": 304,
   "metadata": {},
   "outputs": [
    {
     "data": {
      "text/plain": [
       "('1',)"
      ]
     },
     "execution_count": 304,
     "metadata": {},
     "output_type": "execute_result"
    }
   ],
   "source": [
    "import re\n",
    "re.search(\n",
    "    \"\\n(1)\\n\",\n",
    "    \"\\n1\\n\"\n",
    ").groups()"
   ]
  },
  {
   "cell_type": "code",
   "execution_count": null,
   "metadata": {},
   "outputs": [],
   "source": [
    "qRSed = ''\n",
    "import re\n",
    "for surAy in sorter:\n",
    "    sur = surAy.split(\":\")[0]\n",
    "    ay = surAy.split(\":\")[1]\n",
    "    if ay == \"1\":\n",
    "        qRSed += f'\\n# s{sur}\\n'\n",
    "    if ay in surRukStrts[sur]:\n",
    "        rukno = surRukStrts[sur].index(ay)+1\n",
    "        rukuStartAyah = ay\n",
    "        # rukuEndAyah = surRukStrts[sur][rukno] - 1\n",
    "        match = re.findall(\n",
    "            '\\n'+sur+'\\:\\d{1,}\\:'+ay+'-(\\d{1,})\\n',\n",
    "            rukuStr\n",
    "        )\n",
    "        # print(sur,ay,match)\n",
    "        rukuEndAyah = match[0]\n",
    "        qRSed += f'\\n## r{sur}.{str(rukno)}\\n' + f'\\n[Q.{sur}.{rukuStartAyah}-{rukuEndAyah}](https://www.islamicstudies.info/tafheem.php?sura={sur}&verse={rukuStartAyah}&to={rukuEndAyah})\\n'\n",
    "    qRSed += f'\\n### {surAy}\\n' + f'\\n{no_ayah_pairs[surAy]}\\n'"
   ]
  },
  {
   "cell_type": "code",
   "execution_count": 315,
   "metadata": {},
   "outputs": [],
   "source": [
    "with open('data/ref/Qrsed.md', 'w') as f:\n",
    "    f.write(qRSed)"
   ]
  },
  {
   "cell_type": "markdown",
   "metadata": {},
   "source": [
    "# regex"
   ]
  },
  {
   "cell_type": "code",
   "execution_count": 30,
   "metadata": {},
   "outputs": [
    {
     "data": {
      "text/plain": [
       "['[', ']']"
      ]
     },
     "execution_count": 30,
     "metadata": {},
     "output_type": "execute_result"
    }
   ],
   "source": [
    "list('[]')"
   ]
  },
  {
   "cell_type": "code",
   "execution_count": 39,
   "metadata": {},
   "outputs": [
    {
     "name": "stdout",
     "output_type": "stream",
     "text": [
      "{'surah': '96', 'exception': []}\n",
      "# 96\n",
      "1\n",
      "The Clot\n",
      "\n",
      "{'surah': '68', 'exception': [{'ayah_range': '17-33', 'before': '2:1'}, {'ayah_range': '48-50', 'before': '2:1'}]}\n",
      "{'ayah_range': '17-33', 'before': '2:1'}\n",
      "{'ayah_range': '48-50', 'before': '2:1'}\n",
      "# 68\n",
      "2\n",
      "The Pen\n",
      "exceptions: ayah_range: 17-33, before: 2:1, \n",
      "exceptions: ayah_range: 48-50, before: 2:1, \n",
      "\n",
      "{'surah': '73', 'exception': [{'ayah_range': '10-11', 'before': '2:1'}, {'ayah_range': '20', 'before': '2:1'}]}\n",
      "{'ayah_range': '10-11', 'before': '2:1'}\n",
      "{'ayah_range': '20', 'before': '2:1'}\n",
      "# 73\n",
      "3\n",
      "The Enshrouded One\n",
      "exceptions: ayah_range: 10-11, before: 2:1, \n",
      "exceptions: ayah_range: 20, before: 2:1, \n",
      "\n",
      "{'surah': '74', 'exception': []}\n",
      "# 74\n",
      "4\n",
      "The Cloaked One\n",
      "\n",
      "{'surah': '1', 'exception': []}\n",
      "# 1\n",
      "5\n",
      "The Opening\n",
      "\n",
      "{'surah': '111', 'exception': []}\n",
      "# 111\n",
      "6\n",
      "The Palm Fibre\n",
      "\n",
      "{'surah': '81', 'exception': []}\n",
      "# 81\n",
      "7\n",
      "The Overthrowing\n",
      "\n",
      "{'surah': '87', 'exception': []}\n",
      "# 87\n",
      "8\n",
      "The Most High\n",
      "\n",
      "{'surah': '92', 'exception': []}\n",
      "# 92\n",
      "9\n",
      "The Night\n",
      "\n",
      "{'surah': '89', 'exception': []}\n",
      "# 89\n",
      "10\n",
      "The Dawn\n",
      "\n",
      "{'surah': '93', 'exception': []}\n",
      "# 93\n",
      "11\n",
      "The Morning Hours\n",
      "\n",
      "{'surah': '94', 'exception': []}\n",
      "# 94\n",
      "12\n",
      "The Consolation\n",
      "\n",
      "{'surah': '103', 'exception': []}\n",
      "# 103\n",
      "13\n",
      "The Declining Day, Epoch\n",
      "\n",
      "{'surah': '100', 'exception': []}\n",
      "# 100\n",
      "14\n",
      "The Chargers\n",
      "\n",
      "{'surah': '108', 'exception': []}\n",
      "# 108\n",
      "15\n",
      "Abundance\n",
      "\n",
      "{'surah': '102', 'exception': []}\n",
      "# 102\n",
      "16\n",
      "Competition\n",
      "\n",
      "{'surah': '107', 'exception': [{'ayah_range': '4-7', 'before': '2:1'}]}\n",
      "{'ayah_range': '4-7', 'before': '2:1'}\n",
      "# 107\n",
      "17\n",
      "Almsgiving\n",
      "exceptions: ayah_range: 4-7, before: 2:1, \n",
      "\n",
      "{'surah': '109', 'exception': []}\n",
      "# 109\n",
      "18\n",
      "The Disbelievers\n",
      "\n",
      "{'surah': '105', 'exception': []}\n",
      "# 105\n",
      "19\n",
      "The Elephant\n",
      "\n",
      "{'surah': '113', 'exception': []}\n",
      "# 113\n",
      "20\n",
      "The Dawn\n",
      "\n",
      "{'surah': '114', 'exception': []}\n",
      "# 114\n",
      "21\n",
      "Mankind\n",
      "\n",
      "{'surah': '112', 'exception': []}\n",
      "# 112\n",
      "22\n",
      "Sincerity\n",
      "\n",
      "{'surah': '53', 'exception': [{'ayah_range': '32', 'before': '2:1'}]}\n",
      "{'ayah_range': '32', 'before': '2:1'}\n",
      "# 53\n",
      "23\n",
      "The Star\n",
      "exceptions: ayah_range: 32, before: 2:1, \n",
      "\n",
      "{'surah': '80', 'exception': []}\n",
      "# 80\n",
      "24\n",
      "He frowned\n",
      "\n",
      "{'surah': '97', 'exception': []}\n",
      "# 97\n",
      "25\n",
      "The Power, Fate\n",
      "\n",
      "{'surah': '91', 'exception': []}\n",
      "# 91\n",
      "26\n",
      "The Sun\n",
      "\n",
      "{'surah': '85', 'exception': []}\n",
      "# 85\n",
      "27\n",
      "The Constellations\n",
      "\n",
      "{'surah': '95', 'exception': []}\n",
      "# 95\n",
      "28\n",
      "The Fig\n",
      "\n",
      "{'surah': '106', 'exception': []}\n",
      "# 106\n",
      "29\n",
      "Quraysh\n",
      "\n",
      "{'surah': '101', 'exception': []}\n",
      "# 101\n",
      "30\n",
      "The Calamity\n",
      "\n",
      "{'surah': '75', 'exception': []}\n",
      "# 75\n",
      "31\n",
      "The Resurrection\n",
      "\n",
      "{'surah': '104', 'exception': []}\n",
      "# 104\n",
      "32\n",
      "The Traducer\n",
      "\n",
      "{'surah': '77', 'exception': [{'ayah_range': '48', 'before': '2:1'}]}\n",
      "{'ayah_range': '48', 'before': '2:1'}\n",
      "# 77\n",
      "33\n",
      "The Emissaries\n",
      "exceptions: ayah_range: 48, before: 2:1, \n",
      "\n",
      "{'surah': '50', 'exception': [{'ayah_range': '38', 'before': '2:1'}]}\n",
      "{'ayah_range': '38', 'before': '2:1'}\n",
      "# 50\n",
      "34\n",
      "The letter Qaaf\n",
      "exceptions: ayah_range: 38, before: 2:1, \n",
      "\n",
      "{'surah': '90', 'exception': []}\n",
      "# 90\n",
      "35\n",
      "The City\n",
      "\n",
      "{'surah': '86', 'exception': []}\n",
      "# 86\n",
      "36\n",
      "The Morning Star\n",
      "\n",
      "{'surah': '54', 'exception': [{'ayah_range': '44-46', 'before': '2:1'}]}\n",
      "{'ayah_range': '44-46', 'before': '2:1'}\n",
      "# 54\n",
      "37\n",
      "The Moon\n",
      "exceptions: ayah_range: 44-46, before: 2:1, \n",
      "\n",
      "{'surah': '38', 'exception': []}\n",
      "# 38\n",
      "38\n",
      "The letter Saad\n",
      "\n",
      "{'surah': '7', 'exception': [{'ayah_range': '163-170', 'before': '2:1'}]}\n",
      "{'ayah_range': '163-170', 'before': '2:1'}\n",
      "# 7\n",
      "39\n",
      "The Heights\n",
      "exceptions: ayah_range: 163-170, before: 2:1, \n",
      "\n",
      "{'surah': '72', 'exception': []}\n",
      "# 72\n",
      "40\n",
      "The Jinn\n",
      "\n",
      "{'surah': '36', 'exception': [{'ayah_range': '45', 'before': '2:1'}]}\n",
      "{'ayah_range': '45', 'before': '2:1'}\n",
      "# 36\n",
      "41\n",
      "Yaseen\n",
      "exceptions: ayah_range: 45, before: 2:1, \n",
      "\n",
      "{'surah': '25', 'exception': [{'ayah_range': '68-70', 'before': '2:1'}]}\n",
      "{'ayah_range': '68-70', 'before': '2:1'}\n",
      "# 25\n",
      "42\n",
      "The Criterion\n",
      "exceptions: ayah_range: 68-70, before: 2:1, \n",
      "\n",
      "{'surah': '35', 'exception': []}\n",
      "# 35\n",
      "43\n",
      "The Originator\n",
      "\n",
      "{'surah': '19', 'exception': [{'ayah_range': '58', 'before': '2:1'}, {'ayah_range': '71', 'before': '2:1'}]}\n",
      "{'ayah_range': '58', 'before': '2:1'}\n",
      "{'ayah_range': '71', 'before': '2:1'}\n",
      "# 19\n",
      "44\n",
      "Mary\n",
      "exceptions: ayah_range: 58, before: 2:1, \n",
      "exceptions: ayah_range: 71, before: 2:1, \n",
      "\n",
      "{'surah': '20', 'exception': [{'ayah_range': '130-131', 'before': '2:1'}]}\n",
      "{'ayah_range': '130-131', 'before': '2:1'}\n",
      "# 20\n",
      "45\n",
      "Taa-Haa\n",
      "exceptions: ayah_range: 130-131, before: 2:1, \n",
      "\n",
      "{'surah': '56', 'exception': [{'ayah_range': '81-82', 'before': '2:1'}]}\n",
      "{'ayah_range': '81-82', 'before': '2:1'}\n",
      "# 56\n",
      "46\n",
      "The Inevitable\n",
      "exceptions: ayah_range: 81-82, before: 2:1, \n",
      "\n",
      "{'surah': '26', 'exception': [{'ayah_range': '197', 'before': '2:1'}, {'ayah_range': '224-227', 'before': '2:1'}]}\n",
      "{'ayah_range': '197', 'before': '2:1'}\n",
      "{'ayah_range': '224-227', 'before': '2:1'}\n",
      "# 26\n",
      "47\n",
      "The Poets\n",
      "exceptions: ayah_range: 197, before: 2:1, \n",
      "exceptions: ayah_range: 224-227, before: 2:1, \n",
      "\n",
      "{'surah': '27', 'exception': []}\n",
      "# 27\n",
      "48\n",
      "The Ant\n",
      "\n",
      "{'surah': '28', 'exception': [{'ayah_range': '52-55', 'before': '2:1'}, {'ayah_range': '85', 'after': '83:36'}]}\n",
      "{'ayah_range': '52-55', 'before': '2:1'}\n",
      "{'ayah_range': '85', 'after': '83:36'}\n",
      "# 28\n",
      "49\n",
      "The Stories\n",
      "exceptions: ayah_range: 52-55, before: 2:1, \n",
      "exceptions: ayah_range: 85, after: 83:36, \n",
      "\n",
      "{'surah': '17', 'exception': [{'ayah_range': '26', 'before': '2:1'}, {'ayah_range': '32-33', 'before': '2:1'}, {'ayah_range': '57', 'before': '2:1'}, {'ayah_range': '73-80', 'before': '2:1'}]}\n",
      "{'ayah_range': '26', 'before': '2:1'}\n",
      "{'ayah_range': '32-33', 'before': '2:1'}\n",
      "{'ayah_range': '57', 'before': '2:1'}\n",
      "{'ayah_range': '73-80', 'before': '2:1'}\n",
      "# 17\n",
      "50\n",
      "The Night Journey\n",
      "exceptions: ayah_range: 26, before: 2:1, \n",
      "exceptions: ayah_range: 32-33, before: 2:1, \n",
      "exceptions: ayah_range: 57, before: 2:1, \n",
      "exceptions: ayah_range: 73-80, before: 2:1, \n",
      "\n",
      "{'surah': '10', 'exception': [{'ayah_range': '40', 'before': '2:1'}, {'ayah_range': '94-96', 'before': '2:1'}]}\n",
      "{'ayah_range': '40', 'before': '2:1'}\n",
      "{'ayah_range': '94-96', 'before': '2:1'}\n",
      "# 10\n",
      "51\n",
      "Jonas\n",
      "exceptions: ayah_range: 40, before: 2:1, \n",
      "exceptions: ayah_range: 94-96, before: 2:1, \n",
      "\n",
      "{'surah': '11', 'exception': [{'ayah_range': '12', 'before': '2:1'}, {'ayah_range': '17', 'before': '2:1'}, {'ayah_range': '114', 'before': '2:1'}]}\n",
      "{'ayah_range': '12', 'before': '2:1'}\n",
      "{'ayah_range': '17', 'before': '2:1'}\n",
      "{'ayah_range': '114', 'before': '2:1'}\n",
      "# 11\n",
      "52\n",
      "Hud\n",
      "exceptions: ayah_range: 12, before: 2:1, \n",
      "exceptions: ayah_range: 17, before: 2:1, \n",
      "exceptions: ayah_range: 114, before: 2:1, \n",
      "\n",
      "{'surah': '12', 'exception': [{'ayah_range': '1-3', 'before': '2:1'}, {'ayah_range': '7', 'before': '2:1'}]}\n",
      "{'ayah_range': '1-3', 'before': '2:1'}\n",
      "{'ayah_range': '7', 'before': '2:1'}\n",
      "# 12\n",
      "53\n",
      "Joseph\n",
      "exceptions: ayah_range: 1-3, before: 2:1, \n",
      "exceptions: ayah_range: 7, before: 2:1, \n",
      "\n",
      "{'surah': '15', 'exception': [{'ayah_range': '87', 'before': '2:1'}]}\n",
      "{'ayah_range': '87', 'before': '2:1'}\n",
      "# 15\n",
      "54\n",
      "The Rock\n",
      "exceptions: ayah_range: 87, before: 2:1, \n",
      "\n",
      "{'surah': '6', 'exception': [{'ayah_range': '20', 'before': '2:1'}, {'ayah_range': '23', 'before': '2:1'}, {'ayah_range': '91', 'before': '2:1'}, {'ayah_range': '93', 'before': '2:1'}, {'ayah_range': '114', 'before': '2:1'}, {'ayah_range': '151-153', 'before': '2:1'}]}\n",
      "{'ayah_range': '20', 'before': '2:1'}\n",
      "{'ayah_range': '23', 'before': '2:1'}\n",
      "{'ayah_range': '91', 'before': '2:1'}\n",
      "{'ayah_range': '93', 'before': '2:1'}\n",
      "{'ayah_range': '114', 'before': '2:1'}\n",
      "{'ayah_range': '151-153', 'before': '2:1'}\n",
      "# 6\n",
      "55\n",
      "The Cattle\n",
      "exceptions: ayah_range: 20, before: 2:1, \n",
      "exceptions: ayah_range: 23, before: 2:1, \n",
      "exceptions: ayah_range: 91, before: 2:1, \n",
      "exceptions: ayah_range: 93, before: 2:1, \n",
      "exceptions: ayah_range: 114, before: 2:1, \n",
      "exceptions: ayah_range: 151-153, before: 2:1, \n",
      "\n",
      "{'surah': '37', 'exception': []}\n",
      "# 37\n",
      "56\n",
      "Those drawn up in Ranks\n",
      "\n",
      "{'surah': '31', 'exception': [{'ayah_range': '27-29', 'before': '2:1'}]}\n",
      "{'ayah_range': '27-29', 'before': '2:1'}\n",
      "# 31\n",
      "57\n",
      "Luqman\n",
      "exceptions: ayah_range: 27-29, before: 2:1, \n",
      "\n",
      "{'surah': '34', 'exception': []}\n",
      "# 34\n",
      "58\n",
      "Sheba\n",
      "\n",
      "{'surah': '39', 'exception': []}\n",
      "# 39\n",
      "59\n",
      "The Groups\n",
      "\n",
      "{'surah': '40', 'exception': [{'ayah_range': '56-57', 'before': '2:1'}]}\n",
      "{'ayah_range': '56-57', 'before': '2:1'}\n",
      "# 40\n",
      "60\n",
      "The Forgiver\n",
      "exceptions: ayah_range: 56-57, before: 2:1, \n",
      "\n",
      "{'surah': '41', 'exception': []}\n",
      "# 41\n",
      "61\n",
      "Explained in detail\n",
      "\n",
      "{'surah': '42', 'exception': [{'ayah_range': '23-25', 'before': '2:1'}, {'ayah_range': '27', 'before': '2:1'}]}\n",
      "{'ayah_range': '23-25', 'before': '2:1'}\n",
      "{'ayah_range': '27', 'before': '2:1'}\n",
      "# 42\n",
      "62\n",
      "Consultation\n",
      "exceptions: ayah_range: 23-25, before: 2:1, \n",
      "exceptions: ayah_range: 27, before: 2:1, \n",
      "\n",
      "{'surah': '43', 'exception': [{'ayah_range': '54', 'before': '2:1'}]}\n",
      "{'ayah_range': '54', 'before': '2:1'}\n",
      "# 43\n",
      "63\n",
      "Ornaments of gold\n",
      "exceptions: ayah_range: 54, before: 2:1, \n",
      "\n",
      "{'surah': '44', 'exception': []}\n",
      "# 44\n",
      "64\n",
      "The Smoke\n",
      "\n",
      "{'surah': '45', 'exception': [{'ayah_range': '14', 'before': '2:1'}]}\n",
      "{'ayah_range': '14', 'before': '2:1'}\n",
      "# 45\n",
      "65\n",
      "Crouching\n",
      "exceptions: ayah_range: 14, before: 2:1, \n",
      "\n",
      "{'surah': '46', 'exception': [{'ayah_range': '10', 'before': '2:1'}, {'ayah_range': '15', 'before': '2:1'}, {'ayah_range': '35', 'before': '2:1'}]}\n",
      "{'ayah_range': '10', 'before': '2:1'}\n",
      "{'ayah_range': '15', 'before': '2:1'}\n",
      "{'ayah_range': '35', 'before': '2:1'}\n",
      "# 46\n",
      "66\n",
      "The Dunes\n",
      "exceptions: ayah_range: 10, before: 2:1, \n",
      "exceptions: ayah_range: 15, before: 2:1, \n",
      "exceptions: ayah_range: 35, before: 2:1, \n",
      "\n",
      "{'surah': '51', 'exception': []}\n",
      "# 51\n",
      "67\n",
      "The Winnowing Winds\n",
      "\n",
      "{'surah': '88', 'exception': []}\n",
      "# 88\n",
      "68\n",
      "The Overwhelming\n",
      "\n",
      "{'surah': '18', 'exception': [{'ayah_range': '28', 'before': '2:1'}, {'ayah_range': '83-101', 'before': '2:1'}]}\n",
      "{'ayah_range': '28', 'before': '2:1'}\n",
      "{'ayah_range': '83-101', 'before': '2:1'}\n",
      "# 18\n",
      "69\n",
      "The Cave\n",
      "exceptions: ayah_range: 28, before: 2:1, \n",
      "exceptions: ayah_range: 83-101, before: 2:1, \n",
      "\n",
      "{'surah': '16', 'exception': [{'ayah_range': '126-128', 'before': '2:1'}]}\n",
      "{'ayah_range': '126-128', 'before': '2:1'}\n",
      "# 16\n",
      "70\n",
      "The Bee\n",
      "exceptions: ayah_range: 126-128, before: 2:1, \n",
      "\n",
      "{'surah': '71', 'exception': []}\n",
      "# 71\n",
      "71\n",
      "Noah\n",
      "\n",
      "{'surah': '14', 'exception': [{'ayah_range': '28-29', 'before': '2:1'}]}\n",
      "{'ayah_range': '28-29', 'before': '2:1'}\n",
      "# 14\n",
      "72\n",
      "Abraham\n",
      "exceptions: ayah_range: 28-29, before: 2:1, \n",
      "\n",
      "{'surah': '21', 'exception': []}\n",
      "# 21\n",
      "73\n",
      "The Prophets\n",
      "\n",
      "{'surah': '23', 'exception': []}\n",
      "# 23\n",
      "74\n",
      "The Believers\n",
      "\n",
      "{'surah': '32', 'exception': [{'ayah_range': '16-20', 'before': '2:1'}]}\n",
      "{'ayah_range': '16-20', 'before': '2:1'}\n",
      "# 32\n",
      "75\n",
      "The Prostration\n",
      "exceptions: ayah_range: 16-20, before: 2:1, \n",
      "\n",
      "{'surah': '52', 'exception': []}\n",
      "# 52\n",
      "76\n",
      "The Mount\n",
      "\n",
      "{'surah': '67', 'exception': []}\n",
      "# 67\n",
      "77\n",
      "The Sovereignty\n",
      "\n",
      "{'surah': '69', 'exception': []}\n",
      "# 69\n",
      "78\n",
      "The Reality\n",
      "\n",
      "{'surah': '70', 'exception': []}\n",
      "# 70\n",
      "79\n",
      "The Ascending Stairways\n",
      "\n",
      "{'surah': '78', 'exception': []}\n",
      "# 78\n",
      "80\n",
      "The Announcement\n",
      "\n",
      "{'surah': '79', 'exception': []}\n",
      "# 79\n",
      "81\n",
      "Those who drag forth\n",
      "\n",
      "{'surah': '82', 'exception': []}\n",
      "# 82\n",
      "82\n",
      "The Cleaving\n",
      "\n",
      "{'surah': '84', 'exception': []}\n",
      "# 84\n",
      "83\n",
      "The Splitting Open\n",
      "\n",
      "{'surah': '30', 'exception': [{'ayah_range': '17', 'before': '2:1'}]}\n",
      "{'ayah_range': '17', 'before': '2:1'}\n",
      "# 30\n",
      "84\n",
      "The Romans\n",
      "exceptions: ayah_range: 17, before: 2:1, \n",
      "\n",
      "{'surah': '29', 'exception': [{'ayah_range': '1-11', 'before': '2:1'}]}\n",
      "{'ayah_range': '1-11', 'before': '2:1'}\n",
      "# 29\n",
      "85\n",
      "The Spider\n",
      "exceptions: ayah_range: 1-11, before: 2:1, \n",
      "\n",
      "{'surah': '83', 'exception': []}\n",
      "# 83\n",
      "86\n",
      "Defrauding\n",
      "\n",
      "{'surah': '2', 'exception': [{'ayah_range': '281', 'before': '110:1'}]}\n",
      "{'ayah_range': '281', 'before': '110:1'}\n",
      "# 2\n",
      "87\n",
      "The Cow\n",
      "exceptions: ayah_range: 281, before: 110:1, \n",
      "\n",
      "{'surah': '8', 'exception': [{'ayah_range': '30-36', 'after': '83:36'}]}\n",
      "{'ayah_range': '30-36', 'after': '83:36'}\n",
      "# 8\n",
      "88\n",
      "The Spoils of War\n",
      "exceptions: ayah_range: 30-36, after: 83:36, \n",
      "\n",
      "{'surah': '3', 'exception': []}\n",
      "# 3\n",
      "89\n",
      "The Family of Imraan\n",
      "\n",
      "{'surah': '33', 'exception': []}\n",
      "# 33\n",
      "90\n",
      "The Clans\n",
      "\n",
      "{'surah': '60', 'exception': []}\n",
      "# 60\n",
      "91\n",
      "She that is to be examined\n",
      "\n",
      "{'surah': '4', 'exception': []}\n",
      "# 4\n",
      "92\n",
      "The Women\n",
      "\n",
      "{'surah': '99', 'exception': []}\n",
      "# 99\n",
      "93\n",
      "The Earthquake\n",
      "\n",
      "{'surah': '57', 'exception': []}\n",
      "# 57\n",
      "94\n",
      "The Iron\n",
      "\n",
      "{'surah': '47', 'exception': [{'ayah_range': '13', 'after': '83:36'}]}\n",
      "{'ayah_range': '13', 'after': '83:36'}\n",
      "# 47\n",
      "95\n",
      "Muhammad\n",
      "exceptions: ayah_range: 13, after: 83:36, \n",
      "\n",
      "{'surah': '13', 'exception': []}\n",
      "# 13\n",
      "96\n",
      "The Thunder\n",
      "\n",
      "{'surah': '55', 'exception': []}\n",
      "# 55\n",
      "97\n",
      "The Beneficent\n",
      "\n",
      "{'surah': '76', 'exception': []}\n",
      "# 76\n",
      "98\n",
      "Man\n",
      "\n",
      "{'surah': '65', 'exception': []}\n",
      "# 65\n",
      "99\n",
      "Divorce\n",
      "\n",
      "{'surah': '98', 'exception': []}\n",
      "# 98\n",
      "100\n",
      "The Evidence\n",
      "\n",
      "{'surah': '59', 'exception': []}\n",
      "# 59\n",
      "101\n",
      "The Exile\n",
      "\n",
      "{'surah': '24', 'exception': []}\n",
      "# 24\n",
      "102\n",
      "The Light\n",
      "\n",
      "{'surah': '22', 'exception': [{'ayah_range': '52-55', 'before': '2:1'}]}\n",
      "{'ayah_range': '52-55', 'before': '2:1'}\n",
      "# 22\n",
      "103\n",
      "The Pilgrimage\n",
      "exceptions: ayah_range: 52-55, before: 2:1, \n",
      "\n",
      "{'surah': '63', 'exception': []}\n",
      "# 63\n",
      "104\n",
      "The Hypocrites\n",
      "\n",
      "{'surah': '58', 'exception': []}\n",
      "# 58\n",
      "105\n",
      "The Pleading Woman\n",
      "\n",
      "{'surah': '49', 'exception': []}\n",
      "# 49\n",
      "106\n",
      "The Inner Apartments\n",
      "\n",
      "{'surah': '66', 'exception': []}\n",
      "# 66\n",
      "107\n",
      "The Prohibition\n",
      "\n",
      "{'surah': '64', 'exception': []}\n",
      "# 64\n",
      "108\n",
      "Mutual Disillusion\n",
      "\n",
      "{'surah': '61', 'exception': []}\n",
      "# 61\n",
      "109\n",
      "The Ranks\n",
      "\n",
      "{'surah': '62', 'exception': []}\n",
      "# 62\n",
      "110\n",
      "Friday\n",
      "\n",
      "{'surah': '48', 'exception': []}\n",
      "# 48\n",
      "111\n",
      "The Victory\n",
      "\n",
      "{'surah': '5', 'exception': [{'ayah_range': '3', 'after': '9:129'}]}\n",
      "{'ayah_range': '3', 'after': '9:129'}\n",
      "# 5\n",
      "112\n",
      "The Table\n",
      "exceptions: ayah_range: 3, after: 9:129, \n",
      "\n",
      "{'surah': '9', 'exception': [{'ayah_range': '128-129', 'after': '83:36'}]}\n",
      "{'ayah_range': '128-129', 'after': '83:36'}\n",
      "# 9\n",
      "113\n",
      "The Repentance\n",
      "exceptions: ayah_range: 128-129, after: 83:36, \n",
      "\n",
      "{'surah': '110', 'exception': []}\n",
      "# 110\n",
      "114\n",
      "Divine Support\n",
      "\n"
     ]
    }
   ],
   "source": [
    "import json\n",
    "import csv\n",
    "with open('qdict.json') as f:\n",
    "    qJ = f.read()\n",
    "    qD = json.loads(qJ)\n",
    "with open('surOrd.tsv') as f2:\n",
    "    # qJ = f2.read()\n",
    "    # qD = json.loads(qJ)\n",
    "    surRws = [ {\"surah\": surRow[\"surah\"], \"exception\": json.loads(surRow[\"exception\"])} for surRow in csv.DictReader(f2, delimiter='\\t')]\n",
    "# print(surRws)\n",
    "ord = 0\n",
    "for surRow in surRws:\n",
    "    print(surRow)\n",
    "    ord += 1\n",
    "    with open('/mnt/f/Documents/notes/001_eskaton/001_chhatak/mejo_mama/Ghulat/surord.md', 'a+') as f3:\n",
    "        toAppend = f'# {surRow[\"surah\"]}\\n{ord}\\n{qD[surRow[\"surah\"]][\"surah_name\"]}\\n'\n",
    "        for exc in surRow[\"exception\"]:\n",
    "            print(exc)\n",
    "            # excD = json.loads(exc)\n",
    "            # for k,v in excD.items():\n",
    "            toAppend+= f'exceptions: '\n",
    "            for k,v in exc.items():\n",
    "                toAppend+= f'{k}: {v}, '\n",
    "                # toAppend+= f'{exc}\\n'\n",
    "            toAppend+= f'\\n'\n",
    "        print(toAppend)\n",
    "        f3.write(toAppend)"
   ]
  },
  {
   "cell_type": "code",
   "execution_count": null,
   "metadata": {},
   "outputs": [],
   "source": [
    "\n",
    "with open('data/ref/vars.py') as f:\n",
    "    txt = f.read()\n",
    "# txt\n",
    "import re\n",
    "# optSts = re.sub(\n",
    "optSts = re.findall(\n",
    "    # '\\{[\\n\\s]*[\\'\\\"]([^\\s]*\\s[^\\s]*)[\\'\\\"][\\n\\s]*\\:[\\n\\s]*[\\'\\\"][\\'\\\"]\\}'\n",
    "    # '\\{[\\n\\s\\t\\r]*[\\'\\\"]([^\\'\\\"]{0,}?)[\\'\\\"][\\n\\s\\t\\r]*\\:[\\n\\s\\t\\r]*[\\'\\\"]([^\\'\\\"]{0,}?)[\\'\\\"][\\n\\s\\t\\r]*\\}',\n",
    "    '(?<![\\w\\\"])\\{.*?(?<![\\w])\\}(?![\\w])',\n",
    "    # '\\{[\\n\\s]*[\\'\\\"]([^\\'\\\"\\n\\:]]*)[\\'\\\"][\\n\\s]*\\:[\\n\\s]*[\\'\\\"]([^\\'\\\"\\n\\:]]*)[\\'\\\"]\\}',\n",
    "    # '[\\n    \\\\1,\\n  ]',\n",
    "    # '[\\n    {\\n      \"strL\": [\\n        { \"\\\\1\" : \"\\\\2\", },\\n      ],\\n      \"vrsDis\" : 0,\\n    },\\n  ]',\n",
    "    txt,\n",
    "    re.DOTALL,\n",
    ")\n",
    "# print(optSts)\n",
    "for optSt in optSts:\n",
    "    repOpt = '[' \n",
    "    combs = re.findall(\n",
    "        '[\\'\\\"]([^\\'\\\"]*?)[\\'\\\"][\\n\\s]*\\:(?![\\w])[\\n\\s]*[\\'\\\"]([^\\'\\\"]*?)[\\'\\\"]',\n",
    "        optSt\n",
    "    )\n",
    "    # if len(combs)>1:\n",
    "    #     # print(len(combs))\n",
    "    #     print(combs)\n",
    "    isInteresting = False\n",
    "    for comb in combs:\n",
    "        isInteresting = False\n",
    "        repOpt += '\\n    {\\n      \\\"vrsDis\\\": 0,\\n      \\\"strL\\\": ['\n",
    "        if len(comb) != 2:\n",
    "            print('something wrong:', comb)\n",
    "        if len(comb) == 2:\n",
    "            strL = comb[0].split('  ')\n",
    "            fltL = comb[1].split('  ')\n",
    "            # isInteresting = len(strL) > 1\n",
    "            isInteresting = 'jnh' in comb[0]\n",
    "            if isInteresting:\n",
    "                # print(comb)\n",
    "                print(strL,fltL)\n",
    "            if len(strL) != len(fltL):\n",
    "                print('number of strings and filters not equal: ', strL, fltL)\n",
    "            for i in range(len(strL)):\n",
    "                strEx = strL[i]\n",
    "                forms = re.findall('\\(([ivx]*)\\)%20',strEx)\n",
    "                form = None if len(forms) == 0 else forms[0]\n",
    "                poSps = re.findall('pos%3A([A-Z]*?)%20',strEx)\n",
    "                poSp = None if len(poSps) == 0 else poSps[0]\n",
    "                strTyps = re.findall('(root|lem|stem)%3A',strEx)\n",
    "                strTyp = None if len(strTyps) == 0 else strTyps[0]\n",
    "                strDct = {\n",
    "                    \"strTyp\": {\n",
    "                        \"remov\": f\"{strTyp}%3A\",\n",
    "                        \"val\": strTyp,\n",
    "                    },\n",
    "                    \"frm\": {\n",
    "                        \"remov\": f\"\\({form}\\)%20\",\n",
    "                        \"val\": form,\n",
    "                    },\n",
    "                    \"poSp\": {\n",
    "                        \"remov\": f\"pos%3A{poSp}%20\",\n",
    "                        \"val\": poSp,\n",
    "                    },\n",
    "                }\n",
    "                str = strEx\n",
    "                repOpt+= '\\n        {'\n",
    "                repOptEx = ''\n",
    "                for k,v in strDct.items():\n",
    "                    if v[\"val\"] != None:\n",
    "                        str = re.sub(v[\"remov\"],'',str)\n",
    "                        repOptEx+= ' \\\"' + k + '\\\": \\\"'+ v[\"val\"] + '\\\", ' \n",
    "                repOpt+= ' \\\"stri\\\": \\\"'+ str + '\\\",'\n",
    "                repOpt+= ' \\\"flt\\\": \\\"'+ fltL[i] + '\\\",'\n",
    "                repOpt+= repOptEx\n",
    "                repOpt+= '},'\n",
    "            repOpt += '\\n      ],\\n    },'\n",
    "    repOpt += '\\n  ]'\n",
    "    if isInteresting:\n",
    "        print(optSt,repOpt)\n",
    "    txt = re.sub(\n",
    "        re.escape(optSt),\n",
    "        repOpt,\n",
    "        txt,\n",
    "        re.DOTALL\n",
    "    )\n",
    "\n",
    "\n",
    "# 'nfr' in txtr\n",
    "with open('data/ref/vars2.py', 'w+') as f:\n",
    "    f.write(txt)"
   ]
  },
  {
   "cell_type": "markdown",
   "metadata": {},
   "source": [
    "# posDistDic"
   ]
  },
  {
   "cell_type": "code",
   "execution_count": 21,
   "metadata": {},
   "outputs": [],
   "source": [
    "with open(\"data/ref/Qrsd.md\") as f:\n",
    "    qTxt = f.read()\n",
    "\n",
    "import re\n",
    "ayLs = re.findall(\n",
    "    \"### (\\d*):(\\d*)\\n([^#]*)\",\n",
    "    qTxt,\n",
    "    re.DOTALL\n",
    ")"
   ]
  },
  {
   "cell_type": "code",
   "execution_count": 34,
   "metadata": {},
   "outputs": [
    {
     "data": {
      "text/plain": [
       "6236"
      ]
     },
     "execution_count": 34,
     "metadata": {},
     "output_type": "execute_result"
    }
   ],
   "source": [
    "len(ayLs)"
   ]
  },
  {
   "cell_type": "code",
   "execution_count": 23,
   "metadata": {},
   "outputs": [],
   "source": [
    "ayDict = {f\"{r[0]}:{r[1]}\": r[2].strip('\\n').strip('\\s') for r in ayLs}"
   ]
  },
  {
   "cell_type": "code",
   "execution_count": 24,
   "metadata": {},
   "outputs": [],
   "source": [
    "arbCharD = {\n",
    "        \"'\": \"ء\",\n",
    "        \">\": \"أ\",\n",
    "        \"&\": \"ؤ\",\n",
    "        \"<\": \"إ\",\n",
    "        \"}\": \"ئ\",\n",
    "        \"A\": \"ا\",\n",
    "        \"b\": \"ب\",\n",
    "        \"p\": \"ة\",\n",
    "        \"t\": \"ت\",\n",
    "        \"v\": \"ث\",\n",
    "        \"j\": \"ج\",\n",
    "        \"H\": \"ح\",\n",
    "        \"x\": \"خ\",\n",
    "        \"d\": \"د\",\n",
    "        \"*\": \"ذ\",\n",
    "        \"r\": \"ر\",\n",
    "        \"z\": \"ز\",\n",
    "        \"s\": \"س\",\n",
    "        \"$\": \"ش\",\n",
    "        \"S\": \"ص\",\n",
    "        \"D\": \"ض\",\n",
    "        \"T\": \"ط\",\n",
    "        \"Z\": \"ظ\",\n",
    "        \"E\": \"ع\",\n",
    "        \"g\": \"غ\",\n",
    "        \"_\": \"ـ\",\n",
    "        \"f\": \"ف\",\n",
    "        \"q\": \"ق\",\n",
    "        \"k\": \"ك\",\n",
    "        \"l\": \"ل\",\n",
    "        \"m\": \"م\",\n",
    "        \"n\": \"ن\",\n",
    "        \"h\": \"ه\",\n",
    "        \"w\": \"و\",\n",
    "        \"Y\": \"ى\",\n",
    "        \"y\": \"ي\",\n",
    "        \"F\": \"ي\",\n",
    "        \"N\": \"ٌ\",\n",
    "        \"K\": \"ٍ\",\n",
    "        \"a\": \"َ\",\n",
    "        \"u\": \"ُ\",\n",
    "        \"i\": \"ِ\",\n",
    "        \"~\": \"ّ\",\n",
    "        \"o\": \"ْ\",\n",
    "        \"^\": \"ٓ\",\n",
    "        \"#\": \"ٔ\",\n",
    "        \"`\": \"ٰ\",\n",
    "        \"{\": \"ٱ\",\n",
    "        \":\": \"ۜ\",\n",
    "        \"@\": \"۟\",\n",
    "        '\"': \"۠\",\n",
    "        \"[\": \"ۢ\",\n",
    "        \";\": \"ۣ\",\n",
    "        \",\": \"ۥ\",\n",
    "        \".\": \"ۦ\",\n",
    "        \"!\": \"ۨ\",\n",
    "        \"-\": \"۪\",\n",
    "        \"+\": \"۫\",\n",
    "        \"%\": \"۬\",\n",
    "        \"]\": \"ۭ\",\n",
    "    }"
   ]
  },
  {
   "cell_type": "code",
   "execution_count": 25,
   "metadata": {},
   "outputs": [],
   "source": [
    "arbChars = arbCharD.values()"
   ]
  },
  {
   "cell_type": "code",
   "execution_count": 26,
   "metadata": {},
   "outputs": [],
   "source": [
    "import re\n",
    "ayDictSpStrp = {k:re.sub(f\"[^{''.join(arbChars)} ]\",\"\",v) for k,v in ayDict.items()}"
   ]
  },
  {
   "cell_type": "code",
   "execution_count": null,
   "metadata": {},
   "outputs": [],
   "source": [
    "posDic = {}\n",
    "wrdLs = []\n",
    "for ayNo, ay in ayDictSpStrp.items():\n",
    "    pos = 0\n",
    "    for wrd in ay.split(' '):\n",
    "        pos += 1\n",
    "        posDic[f\"{ayNo}:{pos}\"] = wrd\n",
    "        # print(wrd)\n",
    "        # wrdLs.append(wrd)"
   ]
  },
  {
   "cell_type": "code",
   "execution_count": 38,
   "metadata": {},
   "outputs": [
    {
     "data": {
      "text/plain": [
       "82011"
      ]
     },
     "execution_count": 38,
     "metadata": {},
     "output_type": "execute_result"
    }
   ],
   "source": [
    "len(posDic)\n",
    "# len(wrdLs)\n",
    "# wrdLs[0:100]"
   ]
  },
  {
   "cell_type": "code",
   "execution_count": null,
   "metadata": {},
   "outputs": [],
   "source": [
    "import json\n",
    "with open(\"posDict.json\",\"w+\") as f:\n",
    "    f.write(json.dumps(posDic))\n"
   ]
  },
  {
   "cell_type": "code",
   "execution_count": 40,
   "metadata": {},
   "outputs": [],
   "source": [
    "posSerDict = {list(posDic.keys())[i] : i for i in range(len(posDic))}"
   ]
  },
  {
   "cell_type": "code",
   "execution_count": 43,
   "metadata": {},
   "outputs": [],
   "source": [
    "import json\n",
    "with open(\"posSerDict.json\",\"w+\") as f:\n",
    "    f.write(json.dumps(posSerDict))"
   ]
  },
  {
   "cell_type": "code",
   "execution_count": 39,
   "metadata": {},
   "outputs": [],
   "source": [
    "import json\n",
    "with open(\"posSerDict.json\") as f:\n",
    "    posSerDict = json.loads(f.read())"
   ]
  },
  {
   "cell_type": "code",
   "execution_count": 50,
   "metadata": {},
   "outputs": [
    {
     "data": {
      "text/plain": [
       "dict"
      ]
     },
     "execution_count": 50,
     "metadata": {},
     "output_type": "execute_result"
    }
   ],
   "source": [
    "type(posSerDict)"
   ]
  },
  {
   "cell_type": "code",
   "execution_count": 54,
   "metadata": {},
   "outputs": [
    {
     "data": {
      "text/plain": [
       "724"
      ]
     },
     "execution_count": 54,
     "metadata": {},
     "output_type": "execute_result"
    }
   ],
   "source": [
    "posSerDict[\"69:42:1\"] - posSerDict[\"52:29:1\"]"
   ]
  },
  {
   "cell_type": "code",
   "execution_count": 40,
   "metadata": {},
   "outputs": [],
   "source": [
    "posSer = [\n",
    "    # None\n",
    "]\n",
    "\n",
    "for k,v in posSerDict.items():\n",
    "    posSer.insert(v,k)"
   ]
  },
  {
   "cell_type": "code",
   "execution_count": 42,
   "metadata": {},
   "outputs": [],
   "source": [
    "import json\n",
    "with open(\"posOrd.json\",\"w+\") as f:\n",
    "    f.write(json.dumps(posSer))"
   ]
  },
  {
   "cell_type": "markdown",
   "metadata": {},
   "source": [
    "# lemma verb conc"
   ]
  },
  {
   "cell_type": "code",
   "execution_count": 22,
   "metadata": {},
   "outputs": [],
   "source": [
    "import requests\n",
    "from bs4 import BeautifulSoup\n",
    "import re\n",
    "# tbls = []\n",
    "vrbsAll = []\n",
    "for i in range(1,31):\n",
    "    lnk = f\"https://corpus.quran.com/verbs.jsp?page={i}\"\n",
    "    grabhtml = requests.get(lnk).text\n",
    "    soup = BeautifulSoup(\n",
    "            grabhtml,\n",
    "            'lxml' \n",
    "        )\n",
    "    tbl = soup.find_all(\n",
    "        \"table\",\n",
    "        {\"class\": \"verbTable\"}\n",
    "    )[0]\n",
    "    vrbs = tbl.find_all(\n",
    "        \"tr\",\n",
    "        {\"class\": None}\n",
    "    )\n",
    "\n",
    "    vrbsDctss = [\n",
    "        {\n",
    "            \"Verb\": vrbLs[0].text,\n",
    "            \"Root\": vrbLs[1].text.replace(\" \",\"\"),\n",
    "            \"Form\": vrbLs[2].text,\n",
    "            \"Frequency\": vrbLs[3].text,\n",
    "            \"Translation\": vrbLs[4].text,\n",
    "        } for vrbRw in vrbs \n",
    "        if (vrbLs := vrbRw.find_all(\"td\")) \n",
    "    ]\n",
    "    # tbls += tbl\n",
    "    vrbsAll += vrbsDctss"
   ]
  },
  {
   "cell_type": "code",
   "execution_count": 24,
   "metadata": {},
   "outputs": [
    {
     "data": {
      "text/plain": [
       "1475"
      ]
     },
     "execution_count": 24,
     "metadata": {},
     "output_type": "execute_result"
    }
   ],
   "source": [
    "# type(tbls)\n",
    "# tbls[3]\n",
    "# vrbsAll\n",
    "len(vrbsAll)"
   ]
  },
  {
   "cell_type": "code",
   "execution_count": 25,
   "metadata": {},
   "outputs": [],
   "source": [
    "import json\n",
    "with open('data/verbs.json', 'w+') as f:\n",
    "    f.write(json.dumps(vrbsAll))"
   ]
  },
  {
   "cell_type": "code",
   "execution_count": null,
   "metadata": {},
   "outputs": [],
   "source": [
    "import json\n",
    "with open('data/verbs.json') as f:\n",
    "    vrbsAll = json.loads(f.read())"
   ]
  },
  {
   "cell_type": "code",
   "execution_count": 27,
   "metadata": {},
   "outputs": [
    {
     "data": {
      "text/plain": [
       "1475"
      ]
     },
     "execution_count": 27,
     "metadata": {},
     "output_type": "execute_result"
    }
   ],
   "source": [
    "# type(tbls)\n",
    "# tbls[3]\n",
    "# vrbsAll\n",
    "len(vrbsAll)"
   ]
  },
  {
   "cell_type": "code",
   "execution_count": 30,
   "metadata": {},
   "outputs": [],
   "source": [
    "rootDcts = {}\n",
    "for vrbDct in vrbsAll:\n",
    "    rt = vrbDct[\"Root\"]\n",
    "    if rt not in rootDcts.keys():\n",
    "        rootDcts[rt] = {\n",
    "            vrbDct[\"Form\"]: {\n",
    "                \"Verb\": vrbLs[0].text,\n",
    "                \"Frequency\": vrbLs[3].text,\n",
    "                \"Translation\": vrbLs[4].text,\n",
    "            }\n",
    "        }\n",
    "    else:\n",
    "        rootDcts[rt][vrbDct[\"Form\"]] = {\n",
    "                \"Verb\": vrbLs[0].text,\n",
    "                \"Frequency\": vrbLs[3].text,\n",
    "                \"Translation\": vrbLs[4].text,\n",
    "            }"
   ]
  },
  {
   "cell_type": "code",
   "execution_count": null,
   "metadata": {},
   "outputs": [],
   "source": []
  },
  {
   "cell_type": "code",
   "execution_count": 31,
   "metadata": {},
   "outputs": [],
   "source": [
    "import json\n",
    "with open('data/roots.json', 'w+') as f:\n",
    "    f.write(json.dumps(rootDcts))"
   ]
  },
  {
   "cell_type": "code",
   "execution_count": 32,
   "metadata": {},
   "outputs": [],
   "source": [
    "import json\n",
    "with open('data/roots.json') as f:\n",
    "    rootDcts = json.loads(f.read())"
   ]
  },
  {
   "cell_type": "code",
   "execution_count": null,
   "metadata": {},
   "outputs": [],
   "source": [
    "rootDcts"
   ]
  },
  {
   "cell_type": "code",
   "execution_count": 36,
   "metadata": {},
   "outputs": [],
   "source": [
    "from qChronolyze import webGet"
   ]
  },
  {
   "cell_type": "code",
   "execution_count": null,
   "metadata": {},
   "outputs": [],
   "source": [
    "import json\n",
    "with open('data/test.json') as f:\n",
    "    isWorking = json.loads(f.read())"
   ]
  },
  {
   "cell_type": "code",
   "execution_count": null,
   "metadata": {},
   "outputs": [
    {
     "name": "stdout",
     "output_type": "stream",
     "text": [
      "1 2\n",
      "3 4\n"
     ]
    }
   ],
   "source": [
    "for i, j in [(1,2),(3,4)]:\n",
    "    print(i,j)"
   ]
  }
 ],
 "metadata": {
  "kernelspec": {
   "display_name": "mlCond",
   "language": "python",
   "name": "python3"
  },
  "language_info": {
   "codemirror_mode": {
    "name": "ipython",
    "version": 3
   },
   "file_extension": ".py",
   "mimetype": "text/x-python",
   "name": "python",
   "nbconvert_exporter": "python",
   "pygments_lexer": "ipython3",
   "version": "3.9.18"
  }
 },
 "nbformat": 4,
 "nbformat_minor": 2
}
