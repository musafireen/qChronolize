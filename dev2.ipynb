{
 "cells": [
  {
   "cell_type": "markdown",
   "metadata": {},
   "source": [
    "# save qchronolyze analysis to md"
   ]
  },
  {
   "cell_type": "code",
   "execution_count": 161,
   "metadata": {},
   "outputs": [],
   "source": [
    "from qChronolyze import *"
   ]
  },
  {
   "cell_type": "code",
   "execution_count": 1,
   "metadata": {},
   "outputs": [
    {
     "name": "stdout",
     "output_type": "stream",
     "text": [
      "{ll~ah\n"
     ]
    }
   ],
   "source": [
    "import csv\n",
    "with open('data/lemmata.tsv') as f:\n",
    "    lemmata = [row for row in csv.DictReader(f, delimiter='\\t') ]\n",
    "\n",
    "print(lemmata[1]['Buckwalter'])"
   ]
  },
  {
   "cell_type": "code",
   "execution_count": 5,
   "metadata": {},
   "outputs": [
    {
     "name": "stdout",
     "output_type": "stream",
     "text": [
      "file found for kwn\n",
      "loading data/roots/kwn.tsv\n",
      "Successfully loaded data from 'dat/roots/kwn.tsv'\n",
      "\n",
      "total 1390 instances found\n",
      "'sorter.json' found'\n",
      "last item in sorter: 110:3\n",
      "successfully loaded sorter of length 6236 from 'sorter.json'\n"
     ]
    }
   ],
   "source": [
    "dicti = {\n",
    "    \"kwn\":\"\"\n",
    "    # \"makaAn\": \"\"\n",
    "}\n",
    "\n",
    "from qChronoMd import qChronoMd\n",
    "\n",
    "qChronoMd(\n",
    "    dicti\n",
    "### enter pair of word/root and meaning filtering regex as key-value pair dictionary\n",
    "# {\n",
    "#    '$Tn':  # english word / transliterated root https://corpus.quran.com/java/buckwalter.jsp\n",
    "#     '',   # regex filter for meaning\n",
    "#     'jnn':\n",
    "#     'jinn'\n",
    "# },\n",
    "\n",
    "### tafsir reference language\n",
    "# 'Arabic',\n",
    "# /\n",
    "# '1',\n",
    "\n",
    "### presentation style\n",
    "# pres='plot',\n",
    "    ,\n",
    "    \"kwn\"\n",
    "    # \"makan\"\n",
    "    ,\n",
    "    \"ar-tafsir-al-tabari\"\n",
    "\n",
    ")"
   ]
  },
  {
   "cell_type": "code",
   "execution_count": null,
   "metadata": {},
   "outputs": [],
   "source": [
    "# dicti = {}\n",
    "\n",
    "# for datum in lemmata:\n",
    "#     if int(datum[\"Frequency\"]) < 6:\n",
    "#         if 'Proper noun' in datum[\"Part-of-speech\"]:\n",
    "#             # print(datum)\n",
    "#             dicti[datum[\"Buckwalter\"]] = ''\n",
    "# from qChronoMd import qChronoMd\n",
    "\n",
    "# qChronoMd(\n",
    "#     dicti\n",
    "# ### enter pair of word/root and meaning filtering regex as key-value pair dictionary\n",
    "# # {\n",
    "# #    '$Tn':  # english word / transliterated root https://corpus.quran.com/java/buckwalter.jsp\n",
    "# #     '',   # regex filter for meaning\n",
    "# #     'jnn':\n",
    "# #     'jinn'\n",
    "# # },\n",
    "\n",
    "# ### tafsir reference language\n",
    "# # 'Arabic',\n",
    "# # /\n",
    "# # '1',\n",
    "\n",
    "# ### presentation style\n",
    "# # pres='plot',\n",
    "#     ,\n",
    "#     \"frequency_under_6\"\n",
    "#     ,\n",
    "#     \"ar-tafsir-al-tabari\"\n",
    "\n",
    "# )"
   ]
  },
  {
   "cell_type": "markdown",
   "metadata": {},
   "source": [
    "# dicts"
   ]
  },
  {
   "cell_type": "code",
   "execution_count": 1,
   "metadata": {},
   "outputs": [],
   "source": [
    "angels = [\n",
    "        {'mlk':  # english word / transliterated root https://corpus.quran.com/java/buckwalter.jsp\n",
    "        '(?:angel|messenger)'   # regex filter for meaning\n",
    "        },\n",
    "        # # ''\n",
    "        {'jiboriyl':\"\"},\n",
    "        {'miykaY`l': \"\"},\n",
    "        {'ha`ruwt': \"harut\"},\n",
    "        {'maAruwt': \"marut\"},\n",
    "        {'zbn': ''},\n",
    "        {'mlA Elw': '(?:chief|assembly) (?:high|exalted)'},\n",
    "        {'jnd Alh/jnd rab~/jnd raHomaAn': '(?:host|troop|force) (?:Allah|God)/(?:host|troop|force) (?:Lord|lord)/(?:host|troop|force) (?:)'},\n",
    "        {'jnd smw': '(?:host|troop|force) (?:heaven|sky|skies)'},\n",
    "        {'mlk rsl jEl': '  '},\n",
    "        {'mlk rsl nzl': '  (?:have\\ssent\\sdown)'},\n",
    "        {'mlk rsl Sfw': '  '},\n",
    "        {'mlk laA ESy Amr': '   '},\n",
    "        {'Hml Er$': ' '},\n",
    "        {'mlk mdd': '(?:[Aa]ngel) '},\n",
    "        {'mlk qrb': ' (?:are\\snear)'},\n",
    "        {'mlk (viii)%20root%3AAx* rbb': '(?:[Aa]ngel)  (?:[Ll]ords)'},\n",
    "]\n",
    "\n",
    "evil_spirits = [\n",
    "        {'$Tn':\n",
    "        '(?:devil|[^d]evil|demon|shaitaan)'\n",
    "        },\n",
    "        {\"<iboliys\":\"\"},\n",
    "        {\"bls\":\"\"},\n",
    "        {'jin~':\n",
    "        '(?:[jJ]inn)'\n",
    "        },\n",
    "        {'jin~ap': '(?:[Jj]inn|mad)'},\n",
    "        {'jnn': '(?:^mad$|mad man|madman|surely mad)'},\n",
    "        {\"jaAn~\": \"(?:snake|jinn)\"},\n",
    "        {'Hyy':\n",
    "        'snake'\n",
    "        },\n",
    "        {'qrn':\n",
    "        'companion'\n",
    "        },\n",
    "        {'$Tn qrn': ' '},\n",
    "        {'jnn $Tn': 'jinn '},\n",
    "        {'mrd':\n",
    "        'rebellious'\n",
    "        },\n",
    "        {'Eiforiyt':\n",
    "        ''\n",
    "        },\n",
    "        {'$Tn mss': ' '},\n",
    "        {'jnd <iboliys': '(?:host|troop|force) (?:iblis|devil|satan)'},\n",
    "]\n",
    "\n",
    "\n",
    "magic = [\n",
    "\n",
    "        {'$Er': 'poetry'},\n",
    "        {'$Er': 'hair'},\n",
    "        {'$Er': 'Sirius'},\n",
    "        {'$Er': 'monument'},\n",
    "        {'$Er': '(?:symbol|rite)'},\n",
    "        {'$Er': 'poet(?!r)'},\n",
    "        {'pos%3AV%20(i)%20root%3A%24Er': ''},\n",
    "        {'pos%3AV%20(iv)%20root%3A%24Er': ''},\n",
    "        {'sHr': 'magic(?!i)'},\n",
    "        {'sHr': 'magician'},\n",
    "        {'sHr': '(?<!they )bewitched'},\n",
    "        {'sHr': '(?:they bewitch|you bewitch|delude)'},\n",
    "        {'baAbil': ''},\n",
    "        {'jbt': \"\"},\n",
    "        {\"nfv\": \"\"},\n",
    "        {'khn': ''},\n",
    "]\n",
    "\n",
    "ruh = [\n",
    "    {'rwH Ayd Amn': '  (?:faith)'},\n",
    "    {'ruwH Amn': '  '},\n",
    "    {'ruwH wHy': '  '},\n",
    "    {'ruwH Amr nzl': '  '},\n",
    "    {'ruwH Amr': '  '},\n",
    "    {'ruwH qds nzl vbt Amn': '    '},\n",
    "    {'ruwH qds Ayd': '  '},\n",
    "    {'ruwH Amn nzl': ' (?:[Tt]rust) '},\n",
    "    {'ruwH nzl': ' '},\n",
    "    {'ruwH nfx': ' (?:(?<!you\\s)breath)'},\n",
    "    {'ruwH': ''},\n",
    "]\n",
    "\n",
    "nafs = [\n",
    "        {'nfs':\n",
    "        '(?:soul|self)'\n",
    "        },\n",
    "]\n",
    "\n",
    "spirits = [\n",
    "    *ruh,\n",
    "\n",
    "        {\"nfx\": \"\"},\n",
    "        {\"Suwr\": \"\"},\n",
    "        {\"Swr\": \"\"},\n",
    "\n",
    "]\n",
    "\n",
    "spirituals = [\n",
    "        *angels,\n",
    "        *evil_spirits,\n",
    "        *ruh,\n",
    "]\n",
    "\n",
    "isa = [\n",
    "\n",
    "        {\"masiyH\":\"\"},\n",
    "        {\"EiysaY\": \"isa\"},\n",
    "        {\"maryam\": \"\"},\n",
    "        {\"yaHoyaY`\": \"yahya\"},\n",
    "        {\"zakariy~aA\": \"zakariya\"},\n",
    "        {\"EimoraAn\": \"imran\"},\n",
    "        {\"kalimap\": \"(?:word|.*)\"},\n",
    "        {\"kalaAm\": \"(?:word|.*)\"},\n",
    "        {\"Tayor\": \"(?:bird)\"},\n",
    "        {\"mahod\": \"bed\"},\n",
    "        {\"fTr\": \"\"},\n",
    "        {\"ftr\": \"\"},\n",
    "        {\"muwsaY\": \"musa\"},\n",
    "]\n",
    "\n",
    "idols = [\n",
    "        {\"wad~\": \"wadd\"},\n",
    "        {r\"{ll~a`t\": \"\"},\n",
    "        {r\"{loEuz~aY`\": \"\"},\n",
    "        {'manaw`p': \"\"},\n",
    "        {'baEol2': \"\"},\n",
    "        {'maAlik': \"malik\"},\n",
    "        {'suwaAE': \"\"},\n",
    "        {'yaguwv': \"\"},\n",
    "        {\"yaEuwq\": \"\"},\n",
    "        {\"nasor\": \"\"},\n",
    "        {\"TaAguwt\": \"\"},\n",
    "]\n",
    "\n",
    "shirk = [\n",
    "    \n",
    "    *idols,\n",
    "\n",
    "        {\"Alh dwn\": '(?:^((?!Allah).)*$) (?:other|esides|exclud|Us|instead)'},\n",
    "        {\"Alh Axr maEa\": '(?:^((?!Allah).)*$)  '},\n",
    "        {'Ebd dwn': '(?:worship|serv) (?:other|esides|exclud|Us|instead)'},\n",
    "        {'dEw maEa AHd': '  '},\n",
    "        {'dEw dwn': '(?:^((?!caller).)*$) (?:other|esides|exclud|Us|instead)'},\n",
    "        {\"(viii)%20root%3AAx* Alh\": ' (?:^((?!Allah).)*$)'},\n",
    "        {\"(viii)%20root%3AAx* dwn\": ' '},\n",
    "\n",
    "        {'(viii)%20root%3AAx* wld': '(?:^((?!we).)*$) '},\n",
    "        {'wld Alh': '(?:begot|beget) '},\n",
    "        {'wld sbH': ' '},\n",
    "        {'lam wld': ' (?:begot|beget)'},\n",
    "        {'Ax* SHb': ' (?:wife)'},\n",
    "        {'<an~aY wld': ' (?:son)'},\n",
    "        {'<an~aY SaAHibap': '  '},\n",
    "        {'Ax* Anv': ' '},\n",
    "        {'malak Anv': '(?:[Aa]ngel) '},\n",
    "        {'Ax* bny': ' (?:[Dd]aughter)'},\n",
    "        {'jEl bny': 'assign (?:[Dd]aughter)'},\n",
    "        {'xrq bny': ' (?:[Ss]on|[Ss]hild|[Dd]aughter)'},\n",
    "\n",
    "        {'$ariyk': ''},\n",
    "\n",
    "        {'sjd A^dam malak': '  (?:[Aa]ngel)'},\n",
    "\n",
    "        {'kwkb rAy': 'star '},\n",
    "        {'kwkb rab~ ha`*aA': '  '},\n",
    "        {'njm nZr': ' '},\n",
    "        {'$ms rab~ ha`*aA': '  '},\n",
    "        {'$ms sjd dwn': '  '},\n",
    "        {'$ms sjd laA Ebd': '   '},\n",
    "        {'qmr rab~ ha`*aA': '  '},\n",
    "\n",
    "        {'$Tn wly': ' (?:ally|allies|guardian|protector|friend)'},\n",
    "        {'$Tn Ebd laA': '  '},\n",
    "        {'$Tn Anv dEw': '  '},\n",
    "        {'$Tn qrn': ' '},\n",
    "\n",
    "        {'jnn dwn Ebd': '(?:jinn)  '},\n",
    "        {'jnn $rk': '(?:jinn) '},\n",
    "        \n",
    "        {'rhb rbb Ax*': '  (?:taken)'},\n",
    "        {'Hbr rbb Ax*': '  (?:taken)'},\n",
    "        {'mlk (viii)%20root%3AAx* rbb': '(?:[Aa]ngel)  (?:[Ll]ords)'},\n",
    "        {'nbA (viii)%20root%3AAx* rbb': '  (?:[Ll]ords)'},\n",
    "\n",
    "\n",
    "        {'jzA Ebd': ' '},\n",
    "\n",
    "]\n",
    "\n",
    "shirk2 = [\n",
    "    *evil_spirits,\n",
    "        {'kwkb': ''},\n",
    "        {'njm': ''},\n",
    "        {'$ms': ''},\n",
    "        {'qmr': ''},\n",
    "        {'pos%3AV%20(iv)%20root%3A%24rk': ''},\n",
    "        {'mu$orik': ''},\n",
    "        {\"<ila`h\": ''},\n",
    "        {\"'a`lihap\": ''},\n",
    "]\n",
    "\n",
    "rituals = [\n",
    "        {'wvn': 'idol'},\n",
    "        {'Snm': 'idol'},\n",
    "        {'nSb': '(?:altar|goal)'},\n",
    "        {'jEl nSb': 'assign '},\n",
    "\n",
    "        {'syb': ''},\n",
    "        {'wSl': 'Wasilah'},\n",
    "        {'bHr': 'Bahirah'},\n",
    "        {'Hmy': 'Ham'},\n",
    "        {'zlm': ''},\n",
    "        {'Hrm Anv': ' '},\n",
    "        {'xlS bTn *kr': '  '},\n",
    "\n",
    "        {'$Er': '[Ss]irius'},\n",
    "        {'$Er': '[Pp]oet(?!r)'},\n",
    "        {'$Er': '(?:[Pp]oetry)'},\n",
    "        {'$Er': '(?:[Hh]air)'},\n",
    "        {'$Er': '(?:[Ss]ymbol|rite)'},\n",
    "        {'$Er': '(?:[Mm]onument)'},\n",
    "        {'$Er': '(?:perceive|aware|realize)'},\n",
    "]\n",
    "\n",
    "places = [\n",
    "\n",
    "        {\"SafaA\": \"safa\"},\n",
    "        {\"marowap\": \"marwa\"},\n",
    "        {\"siyniyn\": \"sin\"},\n",
    "        {\"qurayo$\" : \"\"},\n",
    "        {\"tub~aE\" : \"tubba\"},\n",
    "        {\"saba<\" : \"saba\"},\n",
    "        {\"misor\" : \"\"},\n",
    "        {\"ruwm\" : \"rom\"},\n",
    "        {\"ramaDaAn\" : \"ramadan\"},\n",
    "        {\"EarafaAt\": \"arafa\"},\n",
    "        {\"bak~ap\": \"bakka\"},\n",
    "        {\"bador\": \"badr\"},\n",
    "        {\"yavorib\" : \"yathrib\"},\n",
    "        {\"makkap\" : \"makka\"},\n",
    "        {\"kaEobap\": \"ka'*ba\"},\n",
    "        {\"Hunayon\": \"hunayn\"},\n",
    "]\n",
    "\n",
    "animals = [\n",
    "\n",
    "        {\"nml\": \"ant\"},\n",
    "        {\"qrd\": \"(?:monkey|ape)\"},\n",
    "        {\"nHl\": \"bee\"},\n",
    "        {\"Tyr\": \"bird\"},\n",
    "        {\"TaA}ir\": \"\"},\n",
    "        {\"Ejl\": \"calf\"},\n",
    "        {\"jml\": \"camel\"},\n",
    "        {\"bEr\": \"camel\"},\n",
    "        {\"nwq\": \"camel\"},\n",
    "        {\"<ibil\": \"camel\"},\n",
    "        {\"hym\": \"camel\"},\n",
    "        {\"E$r\": \"camel\"},\n",
    "        {\"bqr\": \"(?:heifer|cow)\"},\n",
    "        {\"grb\": \"(?:raven|crow)\"},\n",
    "        {\"klb\": \"(?:dog|hound)\"},\n",
    "        {\"Hmr\": \"(?:donkey|ass)\"},\n",
    "        {\"fyl\": \"elephant\"},\n",
    "        {\"nEj\": \"ewe\"},\n",
    "        {\"Hwt\": \"fish\"},\n",
    "        {\"*bb\": \"(?:fly|flies)\"},\n",
    "        {\"DfdE\": \"frog\"},\n",
    "        {\"mEz\": \"goat\"},\n",
    "        {\"hdhd\": \"hoopoe\"},\n",
    "        {\"xyl\": \"(?:horse|cavalry)\"},\n",
    "        {\"jwd\": \"steed\"},\n",
    "        {\"qml\": \"lice\"},\n",
    "        {\"qsr\": \"lion\"},\n",
    "        {\"jrd\": \"locust\"},\n",
    "        {\"bED\": \"mosquito\"},\n",
    "        {\"fr$\": \"moth\"},\n",
    "        {\"bgl\": \"mule\"},\n",
    "        {\"xnzr\": \"(?:pig|swine)\"},\n",
    "        {\"slw\": \"quail\"},\n",
    "        {\"gnm\": \"sheep\"},\n",
    "        {\"vEb\": \"(?:serpent|snake)\"},\n",
    "        {\"Hyy\": \"(?:serpent|snake)\"},\n",
    "        {\"jaAn~\": \"(?:snake|serpent|jinn)\"},\n",
    "        {\"Enkb\": \"spider\"},\n",
    "        {\"*#b\": \"wolf\"},\n",
    "        {\"nEm\": \"(?:cattle|livestock)\"},\n",
    "        {\"bhm\": \"\"},\n",
    "        {\"dbb\": \"(?:creature|animal|beast)\"},\n",
    "]\n",
    "\n",
    "hindi = [\n",
    "        {\"msk\": \"musk\"},\n",
    "]\n",
    "\n",
    "geez = [\n",
    "\n",
    "        {\"Hwr\": \"disciple\"},\n",
    "        {\"zrb\": \"\"},\n",
    "]\n",
    "\n",
    "copt_gypt = [\n",
    "\n",
    "        {\"xtm\": \"seal\"},\n",
    "        {\"taAbuwt\": \"(?:ark|chest|.*)\"},\n",
    "        {\"Tgy\": \"(?:idol|deit|god|evil)\"},\n",
    "        {\"jbt\": \"(?:copt|gypsy|superstition)\"},\n",
    "]\n",
    "\n",
    "latin = [\n",
    "\n",
    "        {\"sij~iyl\": \"clay\"},\n",
    "        {\"sjl\": \"scroll\"},\n",
    "        {\"qnTr\": \"(?:centenarium|heap|wealth|store)\"},\n",
    "        {\"dnr\": \"(?:denarius|coin)\"},\n",
    "        {\"qmS\": \"shirt\"},\n",
    "        {\"qSr\": \"(?:castle|palace|fort)\"},\n",
    "        {\"SrT\": \"(?:path|way)\"},\n",
    "]\n",
    "\n",
    "greek = [\n",
    "\n",
    "        {\"qsTs\": \"balance\"},\n",
    "        {\"qrTs\": \"parchment\"},\n",
    "        {\"drhm\": \"dirham\"},\n",
    "        {\"qld\": \"key\"},\n",
    "        {\"qld\": \"garland\"},\n",
    "        {\"qlm\": \"(?:pen|reed|cane)\"},\n",
    "        {\"sTr\": \"(?:story|tale)\"},\n",
    "]\n",
    "\n",
    "syr_christ = [\n",
    "\n",
    "        {\"nHs\": \"(?:copper|bronze|brass|smoke)\"},\n",
    "        {\"krs\": \"throne\"},\n",
    "        {\"Abb\": \"(?:pasture|grass)\"},\n",
    "        {\"Ajr\": \"(?:reward)\"},\n",
    "        {\"sbl\": \"(?:way|path)\"},\n",
    "]\n",
    "\n",
    "aram_jew = [\n",
    "\n",
    "        {\"jlw\": \"exile\"},\n",
    "        {\"sbt\": \"(?:sabbath|rest)\"},\n",
    "        {\"sbT\": \"(?:tribe|descendants|scepter|rod|stick)\"},\n",
    "        {\"safarap\": \"scribe\"},\n",
    "        {\"sfr\": \"book\"},\n",
    "        {\"rbb\": \"(?:the rabbis|worshipper)\"},\n",
    "        {\"rib~iy~uwn\": \"(?:scholar)\"},\n",
    "        {\"bhm\": \"(?:beast|quadruped)\"},\n",
    "        {\"Sdq\": \"charity\"},\n",
    "]\n",
    "\n",
    "akkadian = [\n",
    "\n",
    "        {\"fxr\": \"pottery\"},\n",
    "        {\">asowaAq\": \"market\"},\n",
    "        {\"swq\": \"(?:leg|shin|stem)\"},\n",
    "        {\"frt\": \"(?:sweet|fresh)\"},\n",
    "        {\"swr\": \"(?:bracelet|fetter|chain)\"},\n",
    "        {\"k#s\": \"cup\"},\n",
    "        {\"sunodus\": \"silk\"},\n",
    "        {\"sTr\": \"(?:writ)\"},\n",
    "        {\"sTr\": \"(?:control)\"},\n",
    "]\n",
    "\n",
    "farsi = [\n",
    "\n",
    "        {\"fyl\": \"elephant\"},\n",
    "        {\"fxr\": \"boast\"},\n",
    "        {\"fwj\": \"(?:group|company|.*)\"},\n",
    "        {\"srj\": \"(?:lamp|.*)\"},\n",
    "        {\">abaAriyq\": \"(?:jug)\"},\n",
    "        {\"Efr\": \"strong\"},\n",
    "        {\"tan~uwr\": \"oven\"},\n",
    "        {\"jnh\": \"(?:blame|sin)\"},\n",
    "        {\"jnd\": \"(?:host|troop|army|force)\"},\n",
    "        {\"srd\": \"link\"},\n",
    "        {\"srdq\": \"wall\"},\n",
    "        {\"firodaws\": \"paradise\"},\n",
    "        {\"mjs\": \"mag\"},\n",
    "        {\"srbl\": \"(?:trouser|pants|garment)\"},\n",
    "        {\"kaAfuwr\": \"(?:camphor|kafur)\"},\n",
    "        {\"zanjabiyl\": \"(?:ginger|zanjabil)\"},\n",
    "        {\"barozax\": \"barrier\"},\n",
    "        {\"knz\": \"(?:treasure|hoard)\"},\n",
    "        {\"<isotibraq\": \"(?:brocade|silk)\"},\n",
    "        {\"Ebqr\": \"carpet\"},\n",
    "        {\"namaAriq\": \"cushion\"},\n",
    "        {\"Ark\": \"(?:couch|throne)\"},\n",
    "        {\"zmhr\": \"cold\"},\n",
    "        {\"m$j\": \"mix\"},\n",
    "        {\"mzj\": \"mix\"},\n",
    "        {\"wzr\": \"(?:minister|assist|bear|burden|refuge)\"},\n",
    "        {\"Er$\": \"(?:erect|construct|roof|throne|trellis)\"},\n",
    "        {\"dwl\": \"(?:circul|alter)\"},\n",
    "]\n",
    "\n",
    "\n",
    "nabis = [\n",
    "\n",
    "        {\"A^dam\": \"(?:Adam|)\"},\n",
    "        {\"nuwH\": \"(?:Nuh|)\"},\n",
    "        {\"<idoriys\": \"(?:Idris|)\"},\n",
    "        {\"huwd/Ewd\": \"(?:Hud|)/Aad\"},\n",
    "        {\"SaAliH/vamuwd\": \"(?:Salih)/Thamud\"},\n",
    "        {\"tub~aE\": \"Tubba\"},\n",
    "        {\">ayokap\": \"wood\"},\n",
    "        {\"ras~\": \"(?:rass|Raas)\"},\n",
    "        {\"Hijor\": \"(?:the Rocky Tract)\"},\n",
    "        {\"<iram\": \"(?:Aram|Iram)\"},\n",
    "        {\"<iboraAhiym\": \"(?:Ibrahim|)\"},\n",
    "        {\"luwT\": \"(?:Lut)\"},\n",
    "        {\"<isoma`Eiyl\": \"(?:Ishmael|)\"},\n",
    "        {\"<isoHaAq\": \"(?:Isaac|)\"},\n",
    "        {\"yaEquwb\": \"(?:Yaqub|)\"},\n",
    "        {\"yuwsuf\": \"(?:Yusuf|)\"},\n",
    "        {\">ay~uwb\": \"(?:Ayyub|)\"},\n",
    "        {\"$uEayb/madoyan\": \"(?:Shuaib|)/(?:Midian|Madyan)\"},\n",
    "        {\"muwsaY/firoEawon\": \"(?:Musa|)/(?:Pharaoh|Firaun)\"},\n",
    "        {\"ha`ruwn\": \"(?:Harun|)\"},\n",
    "        {\"TaAluwt/jaAluwt\": \"(?:Saul|Talut)/(?:Goliath|Jalut)\"},\n",
    "        {\"daAwud\": \"(?:Dawood|Dawud|)\"},\n",
    "        {\"sulaymaAn\": \"(?:Sulaiman|)\"},\n",
    "        {\"kifol\": \"(?:Kifl)\"},\n",
    "        {\"nuwn/yuwnus\": \"(?:Nun)/(?:Yunus)\"},\n",
    "        {\"<iloyaAs\": \"(?:Elijah|)\"},\n",
    "        {\"yasaE\": \"(?:Elisha)\"},\n",
    "        {\"qrn\": \"(?:Qarnain)\"},\n",
    "        {\"Euzayor\": \"(?:Uzair)\"},\n",
    "        {\"luqomaAn\": \"(?:Luqman)\"},\n",
    "        {\"zakariy~aA\": \"(?:Zakariya|)\"},\n",
    "        {\"yaHoyaY\": \"(?:Yahya)\"},\n",
    "        {\"maroyam\": \"(?:Mary)\"},\n",
    "        {\"EiysaY/Aibn maryam\": \"isa/son mary\"},\n",
    "        {\"muHam~ad\": \"(?:Muhammad|)\"},\n",
    "]\n",
    "\n",
    "islam_iman = [\n",
    "\n",
    "        {'pos%3AV%20(iv)%20root%3AAmn': ''},\n",
    "        {'pos%3AN%20(iv)%20root%3AAmn': '(?:believer|believing|who believe|\\(will\\) believe)'},\n",
    "        {'pos%3AN%20(iv)%20root%3AAmn': '(?:faith|belief)'},\n",
    "        {'pos%3AV%20(i)%20root%3AAmn': ''},\n",
    "        {'pos%3AADJ%20(i)%20root%3AAmn/pos%3AN%20(i)%20root%3AAmn': '[tT]rustworthy/[tT]rustworthy'},\n",
    "        {'pos%3AADJ%20(i)%20root%3AAmn/pos%3AN%20(i)%20root%3AAmn': '(safe|secure)/(safely|safe(?!ty)|secure)'},\n",
    "        {'pos%3AN%20(i)%20root%3AAmn': '(?:security)'},\n",
    "        {'pos%3AN%20(i)%20root%3AAmn': '(?:trust)'},\n",
    "        {'pos%3AN%20(i)%20root%3AAmn': 'place of safety'},\n",
    "        {'(viii)%20root%3AAmn': ''},\n",
    "\n",
    "        {'pos%3AV%20(iv)%20root%3Aslm': ''},\n",
    "        {'<isolaAm': ''},\n",
    "        {'musolim/musolimaAt/musolimap': '(?:submissive|submit|surrender|Muslim)/(?:submissive|surrender|submit|Muslim)/(?:submissive|submit|surrender|Muslim)'},\n",
    "        {'pos%3AV%20(ii)%20root%3Aslm': '(?:greet(?!ing)|submit|pay|save)'},\n",
    "        {'pos%3AADJ%20(ii)%20root%3Aslm': ''},\n",
    "        {'tasoliym': ''},\n",
    "        {'(x)%20root%3Aslm': ''},\n",
    "        {'sala`m': ''},\n",
    "        {'salam': '(?:\\[the\\] peace|the submission)'},\n",
    "        {'salom': '(?<!\\] )peace'},\n",
    "        {'silom': 'Islam'},\n",
    "        {'saliym': ''},\n",
    "]\n",
    "\n",
    "salah = [\n",
    "      {'Slw': ''},\n",
    "      {'(ii)%20root%3ASlw': ''},\n",
    "      {'(i)%20pos%3AN%20root%3ASlw': ''},\n",
    "      {'Salaw`p': ''},\n",
    "      {'qwm muSal~aY': '(?:standing\\splace) (?:place\\sof\\prayer)'},\n",
    "      {'muSal~iyn': ''},\n",
    "\n",
    "      {'tlw qwm': ' (?:standing) '},\n",
    "      {'tlw (i)%20pos%3AV%20root%3Aqwm': ' '},\n",
    "      {'tlw (iv)%20pos%3AV%20root%3Aqwm': ' '},\n",
    "      {'tlw (iv)%20pos%3AN%20root%3Aqwm': ' '},\n",
    "      \n",
    "      {'tlw Salaw`p': ' '},\n",
    "\n",
    "      {'Salaw`p qay~imap': ' '},\n",
    "      {'Slw qaA}im': ' '},\n",
    "\n",
    "      {'(i)%20pos%3AV%20root%3Aqwm Slw': ' (?:pray(?!er))'},\n",
    "      {'(i)%20pos%3AV%20root%3Aqwm Salaw`p': ' '},\n",
    "\n",
    "      {'(iv)%20root%3Aqwm Salaw`p': '(?:stablishment|stablishing|ncampment) '},\n",
    "      {'(iv)%20root%3Aqwm Salaw`p': '(?:who\\sestablish|enduring|lasting|establisher|established) '},\n",
    "      {'(iv)%20pos%3AV%20root%3Aqwm Salaw`p': ' '},\n",
    "\n",
    "      {'qDy Salaw`p': ' '},\n",
    "]\n",
    "\n",
    "mamluk_yaman = [\n",
    "      {'Asr': '(?:captive|prisoner)'},\n",
    "      {'Asr': '(?:form)'},\n",
    "      {'mlk ymn': ' '},\n",
    "      {'fty': '(?:boy|youth|young|servant)'},\n",
    "      {'fty': 'girl'},\n",
    "      {'Arb': '(?:use)'},\n",
    "      {'Arb': '(?:physical)'},\n",
    "      {'Amw': ''}\n",
    "]\n",
    "\n",
    "nisa = [\n",
    "      {'nsw': ''},\n",
    "      {'mrA': '(?:woman|women|wife)'},\n",
    "      {'Anv': ''},\n",
    "      {'wAd': ''},\n",
    "      {'HfZ frj': ' '},\n",
    "      {'xmr jyb': ' '},\n",
    "      {'bdw zyn': ' '},\n",
    "      {'nsw brj': ' displaying'},\n",
    "      {'nsw wDE vwb': '  '},\n",
    "      {'wDE vwb': ' '},\n",
    "      {'nsw lam HyD': '  '},\n",
    "      {'nsw HyD': ' '},\n",
    "      {'Ahl byt qrr': '  '},\n",
    "      {'Ahl brj': ' display(?!i)'},\n",
    "      {'Ahl brj': ' display$'},\n",
    "      {'brj': '(?:tower|constellation)'},\n",
    "      {'nsw msk byt mwt': '   '},\n",
    "      {'nsw fH$': ' '},\n",
    "      {'zny': ' '},\n",
    "      {'nsw Drb': ' '},\n",
    "      {'Amw': ''},\n",
    "      {'fty': 'girl'},\n",
    "      {'HSn nkH': '(?:married|he.*chaste) '},\n",
    "      {'HSn frj': ' '},\n",
    "      {'HSn': '(?:store|protect)'},\n",
    "      {'HSn qry': ' '},\n",
    "      {'HSn': 'fortress'},\n",
    "      {'HSn': 'ing.*chaste'},\n",
    "      {'HSn': 'chastity'},\n",
    "      {'HSn': '(?:married|he.*chaste)'},\n",
    "      {'nkH mtE': ' '},\n",
    "      {'nkH zwj': ' '},\n",
    "      {'nkH nsw': ' '},\n",
    "      {'nkH': ''},\n",
    "      {'bny': '[Dd]aughter'},\n",
    "]\n",
    "\n",
    "ahl_kitab = [\n",
    "      {'pos%3AV%20(iv)%20root%3AAty ktb': ' '},\n",
    "      {'(iv)%20root%3AAty ktb': ' '},\n",
    "      {'Ahl ktb': ' '},\n",
    "      {'<inojiyl': ''},\n",
    "      {'taworaY`p': ''},\n",
    "      {'zbr': ''},\n",
    "      {'SHf': ''},\n",
    "      {'sfr': 'book'},\n",
    "      {'lwH': 'scorching'},\n",
    "      {'lwH': '(?:[Tt]ablet|plank)'},\n",
    "]\n",
    "\n",
    "badr = [\n",
    "      {'Amn xrj byt frq krh': '    '},\n",
    "      {'Twf $wk': ' '},\n",
    "      {'mdd Alf mlk rdf': '   '},\n",
    "      {'nEs Amn g$w smw mwh vbt qdm': '      '},\n",
    "      {'ywm lqy jmE frq': '   '},\n",
    "      {'wHy mlk Drb Enq bnn': '    '},\n",
    "      {'Alh rmy qtl': '  '},\n",
    "      {'fAy qtl nSr': '  '},\n",
    "      {'bdr': 'Badr'},\n",
    "      {'xrj dyr bTr rAy': '   '},\n",
    "      {'$Tn nkS fAy': '  '},\n",
    "      {'rAy qll nwm': '  '},\n",
    "      {'rAy qll lqy': '  '},\n",
    "      {'Edw qSw dnw': '  '},\n",
    "]\n",
    "\n",
    "qaynuqa = [\n",
    "      {'nfq mrD grr dyn': '   '},\n",
    "      {'Ehd nqD mrr': '  '},\n",
    "      {'xwn xwf nb*': '  '},\n",
    "      {'$rd': ''},\n",
    "]\n",
    "\n",
    "najran = [\n",
    "      {'bhl': ''},\n",
    "]\n",
    "\n",
    "uhud = [\n",
    "      {'bwA qEd': ' '},\n",
    "      {'hmm Twf f$l': '  '},\n",
    "      {'mdd vlv Alf mlk': '   '},\n",
    "      {'mdd xms Alf mlk': '   '},\n",
    "      {'qTE kbt kfr': '  '},\n",
    "      {'Amn TwE kfr rdd xsr': '    '},\n",
    "      {'f$l ESy Srf blw': '   '},\n",
    "      {'SEd rsl Axr': '  '},\n",
    "      {'Znn jhl Amr naA $yA': '     '},\n",
    "      {'ywm lqy jmE wly': '   '},\n",
    "      {'ywm lqy jmE Swb': '   '},\n",
    "      {'nfq qtl tbE': '  '},\n",
    "      {'Axw qEd qtl': '  '},\n",
    "      {'nEs Amn g$w Twf': '   '},\n",
    "      {'End kfr qtl mwt maA': '    '},\n",
    "      {'lyn rHm': ' '},\n",
    "      {'gll nbA maA': '  '},\n",
    "      {'jwb rsl qrH': '  '},\n",
    "]\n",
    "\n",
    "\n",
    "bir_mauna = [\n",
    "\n",
    "]\n",
    "\n",
    "\n",
    "hamra = [\n",
    "\n",
    "]\n",
    "\n",
    "ahzab = [\n",
    "      {'jnd jyA lam rAy': '   '},\n",
    "      {'nfq mrD wEd grr': '   '},\n",
    "      {'Twf yavorib laA qwm': '   '},\n",
    "      {'A*n byt Ewr frr': '   '},\n",
    "      {'dxl sAl ftn Aty': '   '},\n",
    "      {'Ehd laA wly dbr': '   '},\n",
    "      {'Ewq Axw': '   '},\n",
    "      {'xwf slq lsn': '  '},\n",
    "      {'Hsb Hzb *hb': '  '},\n",
    "      {'Amn rAy Hzb wEd': '   '},\n",
    "      {'rdd kfr gyZ': '  '},\n",
    "]\n",
    "\n",
    "qurayza = [\n",
    "      {'SyS Ahl ktb qtl Asr': '    '},\n",
    "      {'wrv ArD dwr wTA': '   '},\n",
    "]\n",
    "\n",
    "fidak = [\n",
    "\n",
    "]\n",
    "\n",
    "nadir = [\n",
    "      {'HSn Ahl ktb H$r': '   '},\n",
    "      {'fyA Ahl qry rsl': '   '},\n",
    "      {'nfq Axw Ahl ktb': '   '},\n",
    "      {'jlw E*b dnw': '  '},\n",
    "]\n",
    "\n",
    "hudaybiya = [\n",
    "      {'byE $jr': ' '}\n",
    "]\n",
    "\n",
    "khaybar = [\n",
    "      {'wEd gnm': ' '},\n",
    "      {'gnm xlf tbE': '  '},\n",
    "]\n",
    "\n",
    "dhu_amr = [\n",
    "\n",
    "]\n",
    "\n",
    "dhat_riqa = [\n",
    "\n",
    "]\n",
    "\n",
    "kurz = [\n",
    "\n",
    "]\n",
    "\n",
    "mutah = [\n",
    "\n",
    "]\n",
    "\n",
    "hunayn = [\n",
    "\n",
    "]\n",
    "\n",
    "tabuk = [\n",
    "      {'nfr vql ArD': '  '},\n",
    "      {'bEd $qq tbE Hlf': '   '},\n",
    "      {'krh jhd': ' '},\n",
    "      {'A*n jhd': ' '},\n",
    "      {'A*n qEd': ' '},\n",
    "      {'xlf qEd': ' '},\n",
    "      {'E*r Erb': ' '},\n",
    "      {'Aty Hml dmE': '  '},\n",
    "      {'Erb nfq grm': '  '},\n",
    "      {'rDw maEa xlf': '  '},\n",
    "]\n",
    "\n",
    "dirar = [\n",
    "      {'sjd Drr': ' '},\n",
    "]\n",
    "\n",
    "sufyan = [\n",
    "\n",
    "]\n",
    "\n",
    "jhd = [\n",
    "    *badr,\n",
    "    *qaynuqa,\n",
    "    *najran,\n",
    "    *uhud,\n",
    "    *bir_mauna,\n",
    "    *hamra,\n",
    "    *ahzab,\n",
    "    *qurayza,\n",
    "    *fidak,\n",
    "    *nadir,\n",
    "    *hudaybiya,\n",
    "    *khaybar,\n",
    "    *dhu_amr,\n",
    "    *dhat_riqa,\n",
    "    *kurz,\n",
    "    *mutah,\n",
    "    *hunayn,\n",
    "    *tabuk,\n",
    "    *dirar,\n",
    "    *sufyan,\n",
    "]\n",
    "\n",
    "fadl = [\n",
    "        {'fDl EalaY': ' '},\n",
    "        {'fDl drj': ' '},\n",
    "        {'drj': '(?:[Dd]egree|[Rr]ank)'},\n",
    "        {'drj EalaY': ' '},\n",
    "        {'rfE drj': ' '},\n",
    "        {'sxr bED': ' '},\n",
    "]\n",
    "\n",
    "zann = [\n",
    "        {'Znn jhl': ' '},\n",
    "        {'Znn Amr naA': '  '},\n",
    "        {'Znn Hrm': ' '},\n",
    "        {'Znn tbE': ' '},\n",
    "        {'Znn $bh': ' '},\n",
    "        {'Znn Slb': ' '},\n",
    "        {'Znn EiysaY': ' '},\n",
    "        {'Znn masiyH': ' '},\n",
    "        {'Znn nfs xyr': '  '},\n",
    "        {'Znn Amn xyr': '  '},\n",
    "        {'Znn Afk': ' '},\n",
    "        {'Znn jnb': ' '},\n",
    "        {'Znn Avm': ' '},\n",
    "        {'Znn Alh swA': ' Allah '},\n",
    "        {'Znn swA': 'assum '},\n",
    "]"
   ]
  },
  {
   "cell_type": "markdown",
   "metadata": {},
   "source": [
    "# chronomd"
   ]
  },
  {
   "cell_type": "code",
   "execution_count": 2,
   "metadata": {},
   "outputs": [
    {
     "name": "stdout",
     "output_type": "stream",
     "text": [
      "file found for Znn\n",
      "loading data/roots/Z?nn.tsv\n",
      "Successfully loaded data from 'dat/roots/Z?nn.tsv'\n",
      "\n",
      "total 69 instances found\n",
      "'sorter.json' found'\n",
      "last item in sorter: 110:3\n",
      "successfully loaded sorter of length 6236 from 'sorter.json'\n",
      "\n",
      "query left at 53:23 : Znn ()\n"
     ]
    }
   ],
   "source": [
    "from qChronoMd import qChronoMd\n",
    "\n",
    "qChronoMd(\n",
    "    \n",
    "    ### enter pair of word/root and meaning filtering regex as key-value pair dictionary\n",
    "    [\n",
    "        # {'TwE': '(?<!be )[Oo]bey'},\n",
    "        # *spirituals,\n",
    "        # *shirk,\n",
    "        # *salah\n",
    "        # *mamluk_yaman\n",
    "        # *nisa\n",
    "        # *ahl_kitab\n",
    "        # *jhd\n",
    "        # *ruh\n",
    "        # *fadl\n",
    "        # *zann,\n",
    "        # {'firoEawn': ''},\n",
    "        # {'firoEawn Tgy': ' '},\n",
    "        # {'Tgy': ''},\n",
    "        \n",
    "    ],\n",
    "    \n",
    "    # 'zann',\n",
    "    # 'spirituals',\n",
    "    # 'firawn_taghut',\n",
    "    # 'fadl',\n",
    "    # 'ruh',\n",
    "    # 'jhd_qtl',\n",
    "    # 'ahl_kitab',\n",
    "    # 'firawn_taghut',\n",
    "    # 'nisa',\n",
    "    # 'mamluk_yaman',\n",
    "    # 'salah',\n",
    "    # 'taw3ah',\n",
    "    # 'shirk',\n",
    "    # 'iman_islam',\n",
    "    # \"anbiya\",\n",
    "    # \"hindi2\",\n",
    "    # \"habshi2\",\n",
    "    # \"jibti2\",\n",
    "    # \"latin2\",\n",
    "    # \"greek2\",\n",
    "    # \"syriac2\",\n",
    "    # \"aramaic2\",\n",
    "    # \"akkadian2\",\n",
    "    # \"farsi2\",\n",
    "    # \"a'jami_vocab\",\n",
    "    # \"haywan\",\n",
    "\n",
    "    \"ar-tafsir-al-tabari\",\n",
    "\n",
    "    ### tafsir reference language\n",
    "    # 'Arabic',\n",
    "    # /\n",
    "    # '1',\n",
    "\n",
    "    ### presentation style\n",
    "    # pres='plot',\n",
    "\n",
    "    )"
   ]
  },
  {
   "cell_type": "markdown",
   "metadata": {},
   "source": [
    "# chrono"
   ]
  },
  {
   "cell_type": "code",
   "execution_count": 49,
   "metadata": {},
   "outputs": [
    {
     "name": "stdout",
     "output_type": "stream",
     "text": [
      "table style choosen for presentation.\n",
      "arabic language choosen for reference.\n",
      "'sorter.json' found'\n",
      "last item in sorter: 110:3\n",
      "successfully loaded sorter of length 6236 from 'sorter.json'\n",
      "file found for Znn\n",
      "loading data/roots/Z?nn.tsv\n",
      "Successfully loaded data from 'dat/roots/Z?nn.tsv'\n",
      "file found for swA\n",
      "loading data/roots/swA?.tsv\n",
      "Successfully loaded data from 'dat/roots/swA?.tsv'\n",
      "\n",
      "total 2 instances found\n",
      "dataframe length: 2\n"
     ]
    },
    {
     "data": {
      "text/html": [
       "<style type=\"text/css\">\n",
       "#T_031c9_row0_col0, #T_031c9_row0_col1, #T_031c9_row0_col2, #T_031c9_row0_col3, #T_031c9_row0_col4, #T_031c9_row0_col5, #T_031c9_row0_col6, #T_031c9_row1_col0, #T_031c9_row1_col1, #T_031c9_row1_col2, #T_031c9_row1_col3, #T_031c9_row1_col4, #T_031c9_row1_col5, #T_031c9_row1_col6 {\n",
       "  background-color: rgb(100,70,20);\n",
       "  foreground-color: black;\n",
       "  color: black;\n",
       "  opacity: 1;\n",
       "}\n",
       "</style>\n",
       "<table id=\"T_031c9\">\n",
       "  <thead>\n",
       "    <tr>\n",
       "      <th class=\"blank level0\" >&nbsp;</th>\n",
       "      <th id=\"T_031c9_level0_col0\" class=\"col_heading level0 col0\" >verses_before</th>\n",
       "      <th id=\"T_031c9_level0_col1\" class=\"col_heading level0 col1\" >surah:ayah</th>\n",
       "      <th id=\"T_031c9_level0_col2\" class=\"col_heading level0 col2\" >position</th>\n",
       "      <th id=\"T_031c9_level0_col3\" class=\"col_heading level0 col3\" >word</th>\n",
       "      <th id=\"T_031c9_level0_col4\" class=\"col_heading level0 col4\" >meaning</th>\n",
       "      <th id=\"T_031c9_level0_col5\" class=\"col_heading level0 col5\" >ayah_link</th>\n",
       "      <th id=\"T_031c9_level0_col6\" class=\"col_heading level0 col6\" >query</th>\n",
       "    </tr>\n",
       "  </thead>\n",
       "  <tbody>\n",
       "    <tr>\n",
       "      <th id=\"T_031c9_level0_row0\" class=\"row_heading level0 row0\" >0</th>\n",
       "      <td id=\"T_031c9_row0_col0\" class=\"data row0 col0\" >5961</td>\n",
       "      <td id=\"T_031c9_row0_col1\" class=\"data row0 col1\" >48:6</td>\n",
       "      <td id=\"T_031c9_row0_col2\" class=\"data row0 col2\" >8</td>\n",
       "      <td id=\"T_031c9_row0_col3\" class=\"data row0 col3\" >ẓanna l-ẓānīna wasāat l-sawi l-sawi</td>\n",
       "      <td id=\"T_031c9_row0_col4\" class=\"data row0 col4\" >an assumption who assume and evil evil (of) evil</td>\n",
       "      <td id=\"T_031c9_row0_col5\" class=\"data row0 col5\" ><a style='background-color:rgb(220,220,250);font-size:18px;color:rgb(0,0,150);' href='https://quran.com/48:6/tafsirs/ar-tafsir-al-tabari'> الظَّانِّينَ بِاللَّهِ ظَنَّ السَّوْءِ عَلَيْهِمْ دَائِرَةُ السَّوْءِ</a></td>\n",
       "      <td id=\"T_031c9_row0_col6\" class=\"data row0 col6\" >Znn swA (assum )</td>\n",
       "    </tr>\n",
       "    <tr>\n",
       "      <th id=\"T_031c9_level0_row1\" class=\"row_heading level0 row1\" >1</th>\n",
       "      <td id=\"T_031c9_row1_col0\" class=\"data row1 col0\" >5967</td>\n",
       "      <td id=\"T_031c9_row1_col1\" class=\"data row1 col1\" >48:12</td>\n",
       "      <td id=\"T_031c9_row1_col2\" class=\"data row1 col2\" >15</td>\n",
       "      <td id=\"T_031c9_row1_col3\" class=\"data row1 col3\" >waẓanantum ẓanna l-sawi</td>\n",
       "      <td id=\"T_031c9_row1_col4\" class=\"data row1 col4\" >And you assumed an assumption evil</td>\n",
       "      <td id=\"T_031c9_row1_col5\" class=\"data row1 col5\" ><a style='background-color:rgb(220,220,250);font-size:18px;color:rgb(0,0,150);' href='https://quran.com/48:12/tafsirs/ar-tafsir-al-tabari'> وَظَنَنْتُمْ ظَنَّ السَّوْءِ وَكُنْتُمْ قَوْمًا بُورًا</a></td>\n",
       "      <td id=\"T_031c9_row1_col6\" class=\"data row1 col6\" >Znn swA (assum )</td>\n",
       "    </tr>\n",
       "  </tbody>\n",
       "</table>\n"
      ],
      "text/plain": [
       "<IPython.core.display.HTML object>"
      ]
     },
     "execution_count": 49,
     "metadata": {},
     "output_type": "execute_result"
    }
   ],
   "source": [
    "from qChronolyze import sortchron\n",
    "\n",
    "sortchron(\n",
    "    \n",
    "    ### enter pair of word/root and meaning filtering regex as key-value pair dictionary\n",
    "\n",
    "    [\n",
    "        # *shirk\n",
    "        # {'nEs Amn g$w Twf': '   '},\n",
    "        # {'nEs Amn g$w smw mwh vbt qdm': '      '},\n",
    "        # {'Amn rAy Hzb wEd': '   '},\n",
    "\n",
    "\n",
    "\n",
    "        # {'rfE smk': ' '},\n",
    "        # {'smw sbb': ' '},\n",
    "        # {'smw jnn': ' jinn'},\n",
    "        # {'smw nf*': ' '},\n",
    "        # {'smw $Tn': ' '},\n",
    "        # {'jnn $Tn': ' '},\n",
    "        # {'smw sbb qTE': '  '},\n",
    "        # {'smw qTE': ' '},\n",
    "    ],\n",
    "\n",
    "    ### tafsir reference language\n",
    "    # 'Arabic',\n",
    "    # /\n",
    "    '1',\n",
    "\n",
    "    ### presentation style\n",
    "    pres='table',\n",
    "\n",
    "    )"
   ]
  },
  {
   "cell_type": "code",
   "execution_count": 4,
   "metadata": {},
   "outputs": [
    {
     "data": {
      "text/plain": [
       "2"
      ]
     },
     "execution_count": 4,
     "metadata": {},
     "output_type": "execute_result"
    }
   ],
   "source": [
    "lis1 = ['ab','cd','e']\n",
    "max([len(s) for s in lis1])"
   ]
  },
  {
   "cell_type": "code",
   "execution_count": 25,
   "metadata": {},
   "outputs": [
    {
     "data": {
      "text/plain": [
       "'a'"
      ]
     },
     "execution_count": 25,
     "metadata": {},
     "output_type": "execute_result"
    }
   ],
   "source": [
    "strn = 'abc'\n",
    "strn[-len(strn)]"
   ]
  },
  {
   "cell_type": "code",
   "execution_count": 5,
   "metadata": {},
   "outputs": [
    {
     "name": "stdout",
     "output_type": "stream",
     "text": [
      "fT?raY?\n"
     ]
    }
   ],
   "source": [
    "# import os\n",
    "# 'ftr.tsv' in os.listdir(\"data/roots\")\n",
    "import re\n",
    "flnm = re.sub('([A-Z])','\\\\1?', rt)\n",
    "print(flnm)"
   ]
  },
  {
   "cell_type": "code",
   "execution_count": 5,
   "metadata": {},
   "outputs": [
    {
     "name": "stdout",
     "output_type": "stream",
     "text": [
      "surah:ayah\tposition\tword\tmeaning\tayah_link\n",
      "6:79\t5\tfaṭara\tcreated\t إِنِّي وَجَّهْتُ وَجْهِيَ لِلَّذِي فَطَرَ السَّمَاوَاتِ وَالْأَرْضَ حَنِيفًا\n",
      "11:51\t11\tfaṭaranī\tcreated me\t يَا قَوْمِ لَا أَسْأَلُكُمْ عَلَيْهِ أَجْرًا إِنْ أَجْرِيَ إِلَّا عَلَى الَّذِي فَطَرَنِي\n",
      "17:51\t12\tfaṭarakum\tcreated you\t فَسَيَقُولُونَ مَنْ يُعِيدُنَا قُلِ الَّذِي فَطَرَكُمْ أَوَّلَ مَرَّةٍ\n",
      "19:90\t3\tyatafaṭṭarna\tget torn\t تَكَادُ السَّمَاوَاتُ يَتَفَطَّرْنَ مِنْهُ وَتَنْشَقُّ الْأَرْضُ\n",
      "20:72\t10\tfaṭaranā\tcreated us\t قَالُوا لَنْ نُؤْثِرَكَ عَلَىٰ مَا جَاءَنَا مِنَ الْبَيِّنَاتِ وَالَّذِي فَطَرَنَا\n",
      "21:56\t8\tfaṭarahunna\tcreated them\t قَالَ بَلْ رَبُّكُمْ رَبُّ السَّمَاوَاتِ وَالْأَرْضِ الَّذِي فَطَرَهُنَّ\n",
      "30:30\t8\tfaṭara\tHe has created\t فِطْرَتَ اللَّهِ الَّتِي فَطَرَ النَّاسَ عَلَيْهَا لَا تَبْدِيلَ لِخَلْقِ اللَّهِ\n",
      "36:22\t6\tfaṭaranī\tcreated me\t وَمَا لِيَ لَا أَعْبُدُ الَّذِي فَطَرَنِي وَإِلَيْهِ تُرْجَعُونَ\n",
      "42:5\t3\tyatafaṭṭarna\tbreak up\t تَكَادُ السَّمَاوَاتُ يَتَفَطَّرْنَ مِنْ فَوْقِهِنَّ\n",
      "43:27\t3\tfaṭaranī\tcreated me\t إِلَّا الَّذِي فَطَرَنِي فَإِنَّهُ سَيَهْدِينِ\n",
      "82:1\t3\tinfaṭarat\t(is) cleft asunder\t إِذَا السَّمَاءُ انْفَطَرَتْ\n",
      "30:30\t5\tfiṭ'rata\tNature\t فِطْرَتَ اللَّهِ الَّتِي فَطَرَ النَّاسَ عَلَيْهَا لَا تَبْدِيلَ لِخَلْقِ اللَّهِ\n",
      "67:3\t18\tfuṭūrin\tflaw\t فَارْجِعِ الْبَصَرَ هَلْ تَرَىٰ مِنْ فُطُورٍ\n",
      "6:14\t6\tfāṭiri\tCreator\t قُلْ أَغَيْرَ اللَّهِ أَتَّخِذُ وَلِيًّا فَاطِرِ السَّمَاوَاتِ وَالْأَرْضِ\n",
      "12:101\t10\tfāṭira\tCreator\t فَاطِرَ السَّمَاوَاتِ وَالْأَرْضِ أَنْتَ وَلِيِّي فِي الدُّنْيَا وَالْآخِرَةِ\n",
      "14:10\t6\tfāṭiri\t(the) Creator\t قَالَتْ رُسُلُهُمْ أَفِي اللَّهِ شَكٌّ فَاطِرِ السَّمَاوَاتِ وَالْأَرْضِ\n",
      "35:1\t3\tfāṭiri\tOriginator\t الْحَمْدُ لِلَّهِ فَاطِرِ السَّمَاوَاتِ وَالْأَرْضِ جَاعِلِ الْمَلَائِكَةِ رُسُلًا\n",
      "39:46\t3\tfāṭira\tCreator\t قُلِ اللَّهُمَّ فَاطِرَ السَّمَاوَاتِ وَالْأَرْضِ عَالِمَ الْغَيْبِ وَالشَّهَادَةِ\n",
      "42:11\t1\tfāṭiru\t(The) Creator\t فَاطِرُ السَّمَاوَاتِ وَالْأَرْضِ جَعَلَ لَكُمْ مِنْ أَنْفُسِكُمْ أَزْوَاجًا\n",
      "73:18\t2\tmunfaṭirun\t(will) break apart\t السَّمَاءُ مُنْفَطِرٌ بِهِ كَانَ وَعْدُهُ مَفْعُولًا\n",
      "\n"
     ]
    }
   ],
   "source": [
    "with open('data/roots/fTr.tsv') as f:\n",
    "    strn = f.read()\n",
    "\n",
    "print(strn)"
   ]
  },
  {
   "cell_type": "code",
   "execution_count": 3,
   "metadata": {},
   "outputs": [
    {
     "data": {
      "text/plain": [
       "{'b', 'c'}"
      ]
     },
     "execution_count": 3,
     "metadata": {},
     "output_type": "execute_result"
    }
   ],
   "source": [
    "set1 = {\"a\",\"b\",\"c\"}\n",
    "\n",
    "set1.remove(\"a\")\n",
    "\n",
    "set1"
   ]
  },
  {
   "cell_type": "code",
   "execution_count": 4,
   "metadata": {},
   "outputs": [
    {
     "data": {
      "text/plain": [
       "['a (b)', 'c (d)']"
      ]
     },
     "execution_count": 4,
     "metadata": {},
     "output_type": "execute_result"
    }
   ],
   "source": [
    "[ f'{k} ({v})' for k, v in {\"a\":\"b\",\"c\":\"d\"}.items() ]\n",
    "# [ f'{k}' for k in {\"a\":\"b\",\"c\":\"d\"} ]"
   ]
  },
  {
   "cell_type": "code",
   "execution_count": 253,
   "metadata": {},
   "outputs": [
    {
     "data": {
      "text/plain": [
       "[{'a': 'b', 'c': 'd'}, {'a': 'e', 'c': 'f'}]"
      ]
     },
     "execution_count": 253,
     "metadata": {},
     "output_type": "execute_result"
    }
   ],
   "source": [
    "import pandas as pd\n",
    "\n",
    "df = pd.DataFrame([\n",
    "    {\"a\":\"b\",\"c\":\"d\"},\n",
    "    {\"a\":\"e\",\"c\":\"f\"}\n",
    "])\n",
    "\n",
    "df.to_dict(orient='records')\n",
    "# df"
   ]
  },
  {
   "cell_type": "markdown",
   "metadata": {},
   "source": [
    "# csv"
   ]
  },
  {
   "cell_type": "markdown",
   "metadata": {},
   "source": [
    "# md"
   ]
  },
  {
   "cell_type": "markdown",
   "metadata": {},
   "source": [
    "# obsidian edit"
   ]
  },
  {
   "cell_type": "code",
   "execution_count": null,
   "metadata": {},
   "outputs": [],
   "source": [
    "import re\n",
    "\n",
    "with open(\"/mnt/f/Documents/notes/Ref/iamb.mystery3.md\") as f:\n",
    "# with open(\"/mnt/f/Documents/notes/Ref/iamb.myst/096.html\") as f:\n",
    "    strn = f.read()\n",
    "\n",
    "# matches = re.findall(\"(\\d{1,3})\\:(\\d{1,3})\", strn)\n",
    "\n",
    "# matches\n",
    "\n",
    "# surAys = []\n",
    "\n",
    "\n",
    "rep = re.compile(\n",
    "        # '(?<=[\\n])§\\s*(\\d*)\\s*', \n",
    "        # '<div type=\"textpart\" subtype=\"section\" xml:base=\"urn:cts:greekLit:tlg2023.tlg006.1st1K-grc1:(\\d{1,})\" n=\"(\\d{1,})\">(.*?)</div>',\n",
    "        # '<div type=\"textpart\" subtype=\"section\" xml:base=\"urn:cts:greekLit:tlg2023.tlg006.1st1K-grc1:(\\d{1,})\" n=\"(\\d{1,})\">.*?</div>',\n",
    "        # '<div type=\"textpart\" subtype=\"(?:section|chapter)\" xml:base=\"urn:cts:greekLit:tlg2023.tlg006.1st1K-grc1(?:\\:(\\d{1,}))*\" n=\"(\\d{1,})\">',\n",
    "        '\\n#{1,2}\\s*[c]{0,1}(\\d{1,})\\.{0,1}(\\d{0,})',\n",
    "        # '\\n#{1,2}',\n",
    "        # '((?:SECTION|CHAP\\.) [0IVX]{1,})',\n",
    "        # '<div type=\"textpart\" subtype=\"chapter\" xml:base=\"urn:cts:greekLit:tlg2023.tlg006.1st1K-grc1\" n=\"(\\d{1,})\">(.*?)</div>',\n",
    "        # '<[^>]*?>',\n",
    "        # re.DOTALL\n",
    "    ).findall(\n",
    "    # ).sub(\n",
    "    # '## \\\\1\\n',\n",
    "        # '## \\\\1.\\\\2\\n\\\\3',\n",
    "        # '# c\\\\1\\n\\\\2',\n",
    "        # '',\n",
    "    strn\n",
    ")\n",
    "    # if len(refs) > 0:\n",
    "    #     ref = refs[0]\n",
    "    #     surAys.append(ref)\n",
    "\n",
    "print(len(rep))\n",
    "# print(rep)\n",
    "rep\n",
    "\n",
    "# with open(\"/mnt/f/Documents/notes/Ref/iamb.mystery3.md\", 'w') as f:\n",
    "#     # for surAy in surAys:\n",
    "#     f.write(rep)"
   ]
  },
  {
   "cell_type": "code",
   "execution_count": 167,
   "metadata": {},
   "outputs": [
    {
     "name": "stdout",
     "output_type": "stream",
     "text": [
      "141 141\n"
     ]
    }
   ],
   "source": [
    "import re\n",
    "\n",
    "with open(\"/mnt/f/Documents/notes/Ref/iamb.mystery3.md\") as f:\n",
    "    strn1 = f.read()\n",
    "\n",
    "matches1 = re.compile(\n",
    "    # '[#]{1,}\\s*[c]{0,1}\\d{1,}(?:\\.{0,1})\\d{0,}\\n'\n",
    "    # 'subtype=\"sec'\n",
    "    # '\\n#{1,2}\\s*[c]{0,1}(\\d{1,})\\.{0,1}(\\d{0,})\\n(.*?(?=\\n#|$))',\n",
    "    '\\n#{1,2}\\s*(\\d{1,})\\.(\\d{1,})(.*?(?=\\n#|$))',\n",
    "    re.DOTALL\n",
    ").findall(\n",
    "    strn1\n",
    ")\n",
    "\n",
    "\n",
    "with open(\"/mnt/f/Documents/notes/Ref/iamb.myst/096.html\") as f:\n",
    "    strn2 = f.read()\n",
    "\n",
    "matches2 = re.compile(\n",
    "    # '[#]{1,}\\s*[c]{0,1}\\d{1,}(?:\\.{0,1})\\d{0,}\\n'\n",
    "    # 'subtype=\"sec'\n",
    "    # '\\n#{1,2}\\s*[c]{0,1}(\\d{1,})\\.{0,1}(\\d{0,})\\n(.*?(?=\\n#|$))',\n",
    "    'CHAP\\.\\s[0IVX]*(.*?)(?=CHAP\\.\\s|$)',\n",
    "    re.DOTALL\n",
    ").findall(\n",
    "    strn2\n",
    ")\n",
    "\n",
    "# n = 94\n",
    "print(\n",
    "    len(matches1),\n",
    "    len(matches2)\n",
    "    #   +n\n",
    "      )\n",
    "\n",
    "# matches1\n",
    "strNew = ''\n",
    "for n in range(len(matches1)):\n",
    "    # if n == len(matches1)-1:\n",
    "        # print(\n",
    "        #     matches1[n],\n",
    "        #     matches2[n]\n",
    "        #     )\n",
    "    strNew += f'\\n\\n## {matches1[n][0]}.{matches1[n][1]}\\n{matches1[n][2]}\\n{matches2[n]}'\n",
    "\n",
    "# print(strNew)\n",
    "with open('/mnt/f/Documents/notes/Ref/iamb.myst4.md', 'w') as f:\n",
    "    f.write(strNew)"
   ]
  },
  {
   "cell_type": "code",
   "execution_count": 12,
   "metadata": {},
   "outputs": [
    {
     "data": {
      "text/plain": [
       "141"
      ]
     },
     "execution_count": 12,
     "metadata": {},
     "output_type": "execute_result"
    }
   ],
   "source": [
    "import re\n",
    "\n",
    "with open('/mnt/f/Documents/notes/Ref/iamb.MEg.md') as f:\n",
    "    strn1 = f.read()\n",
    "\n",
    "matches = re.compile(\n",
    "    '\\n##\\s\\d*\\.\\d*'\n",
    ").findall(\n",
    "    strn1\n",
    ")\n",
    "\n",
    "len(matches)"
   ]
  },
  {
   "cell_type": "code",
   "execution_count": 10,
   "metadata": {},
   "outputs": [
    {
     "name": "stdout",
     "output_type": "stream",
     "text": [
      "139\n"
     ]
    }
   ],
   "source": [
    "import re\n",
    "\n",
    "with open(\"/mnt/f/Documents/notes/Ref/iamb.MEg.md\") as f:\n",
    "    strn1 = f.read()\n",
    "\n",
    "matches = re.compile(\n",
    "    '(\\n##\\s\\d*\\.\\d*\\n)([^#a-zA-Z]*?(?=[a-zA-Z]))([^#]*(?=\\n#|$))',\n",
    "    re.DOTALL\n",
    ").findall(\n",
    "    strn1\n",
    ")\n",
    "\n",
    "print(\n",
    "    # matches\n",
    "    len(matches)\n",
    ")\n",
    "\n",
    "strnNew = ''\n",
    "\n",
    "for match in matches:\n",
    "    strnNew += match[0]\n",
    "    secs = re.compile(\n",
    "        # '[#]{1,}\\s*[c]{0,1}\\d{1,}(?:\\.{0,1})\\d{0,}\\n'\n",
    "        # 'subtype=\"sec'\n",
    "        # '\\n#{1,2}\\s*[c]{0,1}(\\d{1,})\\.{0,1}(\\d{0,})\\n(.*?(?=\\n#|$))',\n",
    "        '([^#\\.0-9a-zA-Z]{1,}\\.)',\n",
    "        re.DOTALL\n",
    "    ).findall(\n",
    "        match[1]\n",
    "    )\n",
    "\n",
    "    # print(secs)\n",
    "\n",
    "    matchUpd = ''\n",
    "    for n in range(len(secs)):\n",
    "        secu = secs[n].strip('\\n').strip(' ')\n",
    "        matchUpd += f'\\n\\n### {n+1}\\n\\n#### gr\\n\\n{secu}\\n\\n#### en\\n\\n#### sn\\n\\n{secu}\\n\\n#### ar\\n\\n{secu}\\n\\n'\n",
    "    \n",
    "    # print('--------------------', matchUpd)\n",
    "\n",
    "    strnNew += matchUpd\n",
    "\n",
    "    strnNew += match[2]\n",
    "# ).sub(\n",
    "#     '### \\n#### gr\\\\1\\n\\n#### en \\n\\n#### sn\\n\\n\\\\1\\n\\n#### ar\\n\\n\\\\1',\n",
    "#     strn1\n",
    "# )\n",
    "\n",
    "# matches1\n",
    "# strn1\n",
    "with open('/mnt/f/Documents/notes/Ref/iamb.MEg2.md', 'w') as f:\n",
    "    f.write(strnNew)"
   ]
  },
  {
   "cell_type": "code",
   "execution_count": 9,
   "metadata": {},
   "outputs": [],
   "source": [
    "strn1"
   ]
  },
  {
   "cell_type": "markdown",
   "metadata": {},
   "source": [
    "[notes/filename](/mnt/f/Documents/notes/001_eskaton/001_chhatak/mejo_mama/Ghulat/a'jamī/A'jamī_Foreign_words_vocab_in_quran.md)"
   ]
  },
  {
   "cell_type": "markdown",
   "metadata": {},
   "source": [
    "[notes/filename](/mnt/f/Documents/notes/001_eskaton/001_chhatak/mejo_mama/Ghulat/a'jamī/Farsi_persian_iranian.md)"
   ]
  },
  {
   "cell_type": "code",
   "execution_count": 15,
   "metadata": {},
   "outputs": [
    {
     "name": "stdout",
     "output_type": "stream",
     "text": [
      "'sorter.json' found'\n",
      "last item in sorter: 110:3\n",
      "successfully loaded sorter of length 6236 from 'sorter.json'\n",
      "142\n"
     ]
    }
   ],
   "source": [
    "# from qChronolyze import getSorter\n",
    "# sorter = getSorter()\n",
    "\n",
    "# import re\n",
    "\n",
    "# with open(\"/mnt/f/Documents/notes/001_eskaton/001_chhatak/mejo_mama/Ghulat/a'jamī/A'jamī_Foreign_words_vocab_in_quran.md\") as f:\n",
    "#     strn1 = f.read()\n",
    "# with open(\"data/compare/foreign.md\") as f:\n",
    "#     strn2 = f.read()\n",
    "\n",
    "# # matches = re.findall(\"(\\d{1,3})\\:(\\d{1,3})\", strn)\n",
    "\n",
    "# # matches\n",
    "    \n",
    "# # print(strn1)\n",
    "# # print(strn2)\n",
    "\n",
    "# surAys = []\n",
    "\n",
    "# for surAy in sorter:\n",
    "#     refs = re.compile('(?<=#\\s)'+surAy+'(?=[\\n$])', re.DOTALL).findall(strn1)\n",
    "#     if len(refs) > 0:\n",
    "#         ref = refs[0]\n",
    "#         surAys.append(ref)\n",
    "#     refs = re.compile('(?<=#\\s)'+surAy+'(?=[\\n$])', re.DOTALL).findall(strn2)\n",
    "#     if len(refs) > 0 and refs[0] not in surAys:\n",
    "#         ref = refs[0]\n",
    "#         surAys.append(ref)\n",
    "\n",
    "# print(len(surAys))\n",
    "\n",
    "# with open(\"data/compare/foreign_new.md\", 'a') as f:        \n",
    "#     for surAy in surAys:\n",
    "#         refs = re.compile(\"#\\s*\"+surAy+\"\\n.*?\\n(?=(?:#\\s\\d{1,3}\\:\\d{1,3}\\n|$))\", re.DOTALL).findall(strn1)\n",
    "#         if len(refs) > 0:\n",
    "#             f.write(refs[0])\n",
    "#         if len(refs) == 0:\n",
    "#             f.write(\n",
    "#                 '# '+surAy+'\\n'+\n",
    "#                 '![[Qsortedrukued#'+surAy+']]\\n'\n",
    "#             )"
   ]
  },
  {
   "cell_type": "code",
   "execution_count": null,
   "metadata": {},
   "outputs": [
    {
     "name": "stdout",
     "output_type": "stream",
     "text": [
      "'sorter.json' found'\n",
      "last item in sorter: 110:3\n",
      "successfully loaded sorter of length 6236 from 'sorter.json'\n"
     ]
    }
   ],
   "source": [
    "# from qChronolyze import getSorter\n",
    "# sorter = getSorter()\n",
    "\n",
    "# import re\n",
    "\n",
    "# with open(\"data/compare/foreign.txt\") as f:\n",
    "#     strn = f.read()\n",
    "\n",
    "# # matches = re.findall(\"(\\d{1,3})\\:(\\d{1,3})\", strn)\n",
    "\n",
    "# # matches\n",
    "\n",
    "# surAys = []\n",
    "\n",
    "# for surAy in sorter:\n",
    "#     refs = re.compile('(?<=[\\n\\^])'+surAy+'(?=[\\n$])', re.DOTALL).findall(strn)\n",
    "#     if len(refs) > 0:\n",
    "#         ref = refs[0]\n",
    "#         surAys.append(ref)\n",
    "\n",
    "# with open(\"data/compare/foreign.md\", 'a') as f:\n",
    "#     for surAy in surAys:\n",
    "#         f.write(\n",
    "#             '# '+surAy+'\\n'+\n",
    "#             '![[Qsortedrukued#'+surAy+']]\\n'\n",
    "#         )"
   ]
  },
  {
   "cell_type": "code",
   "execution_count": 7,
   "metadata": {},
   "outputs": [],
   "source": [
    "# import re\n",
    "\n",
    "# with open(\"data/ref/to.txt\") as f:\n",
    "#     strn = f.read()\n",
    "\n",
    "# matches = re.findall(\"(\\S*) verse (\\d{1,3})\", strn)\n",
    "\n",
    "# matches\n",
    "\n",
    "# with open(\"data/compare/foreign.txt\", 'a') as f:\n",
    "#     for match in matches:\n",
    "#         f.write(match[0]+':'+match[1]+'\\n')"
   ]
  },
  {
   "cell_type": "code",
   "execution_count": 189,
   "metadata": {},
   "outputs": [
    {
     "name": "stdout",
     "output_type": "stream",
     "text": [
      "'sorter.json' found'\n",
      "last item in sorter: 110:3\n",
      "successfully loaded sorter of length 6236 from 'sorter.json'\n",
      "45\n"
     ]
    }
   ],
   "source": [
    "# from qChronolyze import getSorter\n",
    "# sorter = getSorter()\n",
    "\n",
    "# import re\n",
    "# with open(\"/mnt/f/Documents/notes/001_eskaton/001_chhatak/mejo_mama/Ghulat/a'jamī/A'jamī_Foreign_words_vocab_in_quran.md\") as f:\n",
    "#     strn = f.read()\n",
    "\n",
    "# surAys = []\n",
    "\n",
    "# for surAy in sorter:\n",
    "#     refs = re.compile(\"#\\s*\"+surAy+\"\\n.*?\\n(?=(?:#\\s\\d{1,3}\\:\\d{1,3}\\n|$))\", re.DOTALL).findall(strn)\n",
    "#     if len(refs) > 0:\n",
    "#         ref = \"\\n\".join(refs)\n",
    "#         surAys.append(ref)\n",
    "\n",
    "# print(len(surAys))\n",
    "# surAys\n",
    "\n",
    "# with open(\"/mnt/f/Documents/notes/001_eskaton/001_chhatak/mejo_mama/Ghulat/a'jamī/A'jamī_Foreign_words_vocab_in_quran_new.md\", 'a') as f:\n",
    "#     for ref in surAys:\n",
    "#         f.write(ref+'\\n')"
   ]
  },
  {
   "cell_type": "code",
   "execution_count": null,
   "metadata": {},
   "outputs": [],
   "source": [
    "# import re\n",
    "# with open(\"/mnt/f/Documents/notes/001_eskaton/001_chhatak/mejo_mama/Ghulat/a'jamī/Farsi_persian_iranian.md\") as f:\n",
    "#     # matches = re.compile(r'\\[Q#s(\\d{1})#*(\\d{1})\\]').findall(f.read())\n",
    "#     # print(matches)\n",
    "#     matches = re.compile(r\"(?<=[\\n\\^])(?:!\\[\\[A'jamī_Foreign_words_vocab_in_quran.*\\]\\]|(?<=[\\n\\^])#\\s*.*?(?=[\\n$]))\").findall(f.read())\n",
    "#     # substr = re.compile(r'(?:\\[.*\\]|)').sub('', f.read())\n",
    "#     # print(substr)\n",
    "#     # re.findall\n",
    "# with open(\"/mnt/f/Documents/notes/001_eskaton/001_chhatak/mejo_mama/Ghulat/a'jamī/Farsi_persian_iranian_new.md\", 'a') as f:\n",
    "#     for match in matches:\n",
    "#         f.write(match+'\\n')\n",
    "# # matches"
   ]
  },
  {
   "cell_type": "code",
   "execution_count": 46,
   "metadata": {},
   "outputs": [],
   "source": [
    "# import re\n",
    "# with open('/mnt/f/Documents/notes/001_eskaton/001_chhatak/mejo_mama/Ghulat/umm_l_kitab.md') as f:\n",
    "#     # matches = re.compile(r'\\[Q#s(\\d{1})#*(\\d{1})\\]').findall(f.read())\n",
    "#     # print(matches)\n",
    "#     substr = re.compile(r'\\[Q#s(\\d{1,})#*(\\d{1,})\\]').sub('[Qsorted#\\\\1:\\\\2]', f.read())\n",
    "#     # print(substr)\n",
    "# with open('data/ref/test.md', 'w') as f:\n",
    "#     f.write(substr)"
   ]
  },
  {
   "cell_type": "code",
   "execution_count": null,
   "metadata": {},
   "outputs": [],
   "source": [
    "# import os\n",
    "# import re\n",
    "\n",
    "# def list_files_recursive(path='.'):\n",
    "# \tfor entry in os.listdir(path):\n",
    "# \t\tfull_path = os.path.join(path, entry)\n",
    "# \t\tif os.path.isdir(full_path):\n",
    "# \t\t\tlist_files_recursive(full_path)\n",
    "# \t\telse:\n",
    "# \t\t\t# print(full_path[-3:])\n",
    "# \t\t\tif full_path[-3:] == '.md':\n",
    "# \t\t\t    # print(full_path)\n",
    "# \t\t\t\twith open(full_path) as f:\n",
    "# \t\t\t\t\tstrng = f.read()\n",
    "# \t\t\t\t\tmatches = re.compile(r'\\[Q#s(\\d{1,})#*(\\d{1,})\\]').findall(strng)\n",
    "# \t\t\t\t\tif len(matches) > 0:\n",
    "# \t\t\t\t\t# if True:\n",
    "# \t\t\t\t\t\t# print(len(matches))\n",
    "# \t\t\t\t\t# print(matches)\n",
    "# \t\t\t\t\t\tsubstr = re.compile(r'\\[Q#s(\\d{1,})#*(\\d{1,})\\]').sub('[Qsorted#\\\\1:\\\\2]', strng)\n",
    "# \t\t\t\t\t\t# print(substr)\n",
    "# \t\t\t\t\t\twith open(full_path, 'w') as f:\n",
    "# \t\t\t\t\t\t\tf.write(substr)\n",
    "\n",
    "# # Specify the directory path you want to start from\n",
    "# directory_path = '/mnt/f/Documents/notes'\n",
    "# list_files_recursive(directory_path)\n"
   ]
  },
  {
   "cell_type": "markdown",
   "metadata": {},
   "source": [
    "# surayed"
   ]
  },
  {
   "cell_type": "code",
   "execution_count": 34,
   "metadata": {},
   "outputs": [
    {
     "name": "stdout",
     "output_type": "stream",
     "text": [
      "بِسْمِ ٱللَّهِ \n"
     ]
    }
   ],
   "source": [
    "with open('data/ref/uthmani-qurancom.md') as f:\n",
    "    qStr=f.read()\n",
    "print(qStr[55:70])"
   ]
  },
  {
   "cell_type": "code",
   "execution_count": 35,
   "metadata": {},
   "outputs": [],
   "source": [
    "import  re\n",
    "\n",
    "serial_ayah_pair = re.compile('#\\s*(\\d*)[\\n\\s]*(.*)(?=[\\n\\s]*[#]*)').findall(qStr)\n",
    "# re.compile('#\\s*(\\d*)').sub(qStr)"
   ]
  },
  {
   "cell_type": "code",
   "execution_count": 36,
   "metadata": {},
   "outputs": [],
   "source": [
    "import json\n",
    "with open('qdict.json') as f:\n",
    "    qDict = json.loads(f.read())"
   ]
  },
  {
   "cell_type": "code",
   "execution_count": 37,
   "metadata": {},
   "outputs": [
    {
     "data": {
      "text/plain": [
       "6236"
      ]
     },
     "execution_count": 37,
     "metadata": {},
     "output_type": "execute_result"
    }
   ],
   "source": [
    "len(serial_ayah_pair)"
   ]
  },
  {
   "cell_type": "code",
   "execution_count": 38,
   "metadata": {},
   "outputs": [
    {
     "data": {
      "text/plain": [
       "dict_keys(['1', '2', '3', '4', '5', '6', '7', '8', '9', '10', '11', '12', '13', '14', '15', '16', '17', '18', '19', '20', '21', '22', '23', '24', '25', '26', '27', '28', '29', '30', '31', '32', '33', '34', '35', '36', '37', '38', '39', '40', '41', '42', '43', '44', '45', '46', '47', '48', '49', '50', '51', '52', '53', '54', '55', '56', '57', '58', '59', '60', '61', '62', '63', '64', '65', '66', '67', '68', '69', '70', '71', '72', '73', '74', '75', '76', '77', '78', '79', '80', '81', '82', '83', '84', '85', '86', '87', '88', '89', '90', '91', '92', '93', '94', '95', '96', '97', '98', '99', '100', '101', '102', '103', '104', '105', '106', '107', '108', '109', '110', '111', '112', '113', '114'])"
      ]
     },
     "execution_count": 38,
     "metadata": {},
     "output_type": "execute_result"
    }
   ],
   "source": [
    "qDict.keys()"
   ]
  },
  {
   "cell_type": "code",
   "execution_count": 39,
   "metadata": {},
   "outputs": [],
   "source": [
    "sur = 1\n",
    "ay = 1\n",
    "# ser = 1\n",
    "no_ayah_pairs = {}\n",
    "\n",
    "for pair in serial_ayah_pair:\n",
    "    no_ayah_pairs[f'{sur}:{ay}'] = pair[1]\n",
    "    ay += 1\n",
    "    if ay > qDict[str(sur)]['verse_count']:\n",
    "        sur += 1\n",
    "        ay = 1"
   ]
  },
  {
   "cell_type": "code",
   "execution_count": 40,
   "metadata": {},
   "outputs": [
    {
     "name": "stdout",
     "output_type": "stream",
     "text": [
      "بِسْمِ ٱللَّهِ \n"
     ]
    }
   ],
   "source": [
    "with open('data/ref/uthmani-qurancom.md') as f:\n",
    "    qStr=f.read()\n",
    "print(qStr[55:70])"
   ]
  },
  {
   "cell_type": "code",
   "execution_count": 41,
   "metadata": {},
   "outputs": [],
   "source": [
    "saQstr = ''\n",
    "for suray, vrs in no_ayah_pairs.items():\n",
    "    if suray.split(':')[1] == \"1\":\n",
    "        sur = suray.split(':')[0]\n",
    "        # print(sur)\n",
    "        saQstr += f'# s{sur}\\n\\n' + f'{qDict[str(sur)][\"surah_name\"]}\\n\\n'\n",
    "    saQstr += f'### {suray}\\n\\n{vrs}\\n\\n'"
   ]
  },
  {
   "cell_type": "code",
   "execution_count": 42,
   "metadata": {},
   "outputs": [],
   "source": [
    "with open('data/ref/QSAed.md', 'w') as f:\n",
    "    f.write(saQstr)"
   ]
  },
  {
   "cell_type": "markdown",
   "metadata": {},
   "source": [
    "# rukued"
   ]
  },
  {
   "cell_type": "code",
   "execution_count": 43,
   "metadata": {},
   "outputs": [],
   "source": [
    "import re\n",
    "with open('rukus4.txt') as f:\n",
    "    rukuStr = f.read()\n",
    "\n",
    "rukus = rukuStr.split('\\n')"
   ]
  },
  {
   "cell_type": "code",
   "execution_count": 44,
   "metadata": {},
   "outputs": [
    {
     "data": {
      "text/plain": [
       "(554, '114:1:1-6')"
      ]
     },
     "execution_count": 44,
     "metadata": {},
     "output_type": "execute_result"
    }
   ],
   "source": [
    "len(rukus),  rukus[-1]"
   ]
  },
  {
   "cell_type": "code",
   "execution_count": 50,
   "metadata": {},
   "outputs": [],
   "source": [
    "with open('data/ref/QSAed.md') as f:\n",
    "    q = f.read()\n",
    "\n",
    "qRukued = q\n",
    "\n",
    "# count = 0\n",
    "import re\n",
    "for ruku in rukus:\n",
    "    surah = ruku.split(\":\")[0]\n",
    "    rukuno = ruku.split(\":\")[1]\n",
    "    rukuStartAyah = ruku.split(\":\")[2].split(\"-\")[0]\n",
    "    rukuEndAyah = ruku.split(\":\")[2].split(\"-\")[1]\n",
    "    surahAyah = f'### {surah}:{rukuStartAyah}'\n",
    "    # match = re.compile(surahAyah).search(q).group()\n",
    "    # match = re.search(surahAyah, q).group()\n",
    "    # match = re.findall(\n",
    "    #     surahAyah+'(?=[\\n$])', \n",
    "    #     q\n",
    "    # )\n",
    "    # count += len(match)\n",
    "    # print(match)\n",
    "    qRukued =  re.compile(\n",
    "        f'{surahAyah}(?=[\\n$])'\n",
    "    ).sub(\n",
    "        f'\\n## r{surah}.{rukuno}\\n'\n",
    "        + f'\\n[Q.{surah}.{rukuStartAyah}-{rukuEndAyah}]'\n",
    "        + f'(https://www.islamicstudies.info/tafheem.php?sura={surah}&verse={rukuStartAyah}&to={rukuEndAyah})\\n'\n",
    "        + f'\\n{surahAyah}',\n",
    "        qRukued\n",
    "    )\n",
    "# print(count)"
   ]
  },
  {
   "cell_type": "code",
   "execution_count": 51,
   "metadata": {},
   "outputs": [],
   "source": [
    "with open('data/ref/QRed.md', 'w') as f:\n",
    "    f.write(qRukued)"
   ]
  },
  {
   "cell_type": "markdown",
   "metadata": {},
   "source": [
    "# rsed"
   ]
  },
  {
   "cell_type": "code",
   "execution_count": 294,
   "metadata": {},
   "outputs": [
    {
     "name": "stdout",
     "output_type": "stream",
     "text": [
      "ِ ٱللَّهِ ٱلرَّحْمَـٰنِ ٱلرَّح\n"
     ]
    }
   ],
   "source": [
    "with open('data/ref/QRed.md') as f:\n",
    "    qStr=f.read()\n",
    "print(qStr[120:150])"
   ]
  },
  {
   "cell_type": "code",
   "execution_count": 56,
   "metadata": {},
   "outputs": [],
   "source": [
    "with open('sorter.json') as f:\n",
    "    sorter = json.loads(f.read())"
   ]
  },
  {
   "cell_type": "code",
   "execution_count": 298,
   "metadata": {},
   "outputs": [
    {
     "data": {
      "text/plain": [
       "'110:3'"
      ]
     },
     "execution_count": 298,
     "metadata": {},
     "output_type": "execute_result"
    }
   ],
   "source": [
    "sorter[-1]"
   ]
  },
  {
   "cell_type": "code",
   "execution_count": 295,
   "metadata": {},
   "outputs": [],
   "source": [
    "import  re\n",
    "\n",
    "no_ayah_pair = re.compile('###\\s*(\\d*\\:\\d*)[\\n\\s]*(.*)(?=[\\n\\s]*[#]*)').findall(qStr)"
   ]
  },
  {
   "cell_type": "code",
   "execution_count": 296,
   "metadata": {},
   "outputs": [
    {
     "data": {
      "text/plain": [
       "6236"
      ]
     },
     "execution_count": 296,
     "metadata": {},
     "output_type": "execute_result"
    }
   ],
   "source": [
    "len(no_ayah_pair)"
   ]
  },
  {
   "cell_type": "code",
   "execution_count": 297,
   "metadata": {},
   "outputs": [
    {
     "data": {
      "text/plain": [
       "('1:1', 'بِسْمِ ٱللَّهِ ٱلرَّحْمَـٰنِ ٱلرَّحِيمِ')"
      ]
     },
     "execution_count": 297,
     "metadata": {},
     "output_type": "execute_result"
    }
   ],
   "source": [
    "no_ayah_pair[0]"
   ]
  },
  {
   "cell_type": "code",
   "execution_count": 313,
   "metadata": {},
   "outputs": [],
   "source": [
    "with open('qDict.json') as f:\n",
    "    qSurList = list(json.loads(f.read()).keys())\n",
    "\n",
    "# print(qDict.keys())\n",
    "# print(qSurList)\n",
    "\n",
    "import re\n",
    "\n",
    "with open('rukus4.txt') as f:\n",
    "    rukuStr = f.read()\n",
    "\n",
    "surRukStrts = {}\n",
    "\n",
    "for sur in qSurList:\n",
    "    rukStrts = re.compile(\n",
    "            \"[\\n](?:\"+sur+r\"\\:\\d{1,2}\\:)(\\d{1,})(?:\\-\\d{1,3})\"\n",
    "            ).findall(\n",
    "                rukuStr\n",
    "    )\n",
    "    surRukStrts[sur] = rukStrts\n",
    "# rukuDict = {}"
   ]
  },
  {
   "cell_type": "code",
   "execution_count": null,
   "metadata": {},
   "outputs": [],
   "source": [
    "print(surRukStrts)"
   ]
  },
  {
   "cell_type": "code",
   "execution_count": 272,
   "metadata": {},
   "outputs": [
    {
     "name": "stdout",
     "output_type": "stream",
     "text": [
      "554\n"
     ]
    }
   ],
   "source": [
    "rukustrts = [ subrow for row in surRukStrts.values() for subrow in row ]\n",
    "print(len(rukustrts))"
   ]
  },
  {
   "cell_type": "code",
   "execution_count": 304,
   "metadata": {},
   "outputs": [
    {
     "data": {
      "text/plain": [
       "('1',)"
      ]
     },
     "execution_count": 304,
     "metadata": {},
     "output_type": "execute_result"
    }
   ],
   "source": [
    "import re\n",
    "re.search(\n",
    "    \"\\n(1)\\n\",\n",
    "    \"\\n1\\n\"\n",
    ").groups()"
   ]
  },
  {
   "cell_type": "code",
   "execution_count": null,
   "metadata": {},
   "outputs": [],
   "source": [
    "qRSed = ''\n",
    "import re\n",
    "for surAy in sorter:\n",
    "    sur = surAy.split(\":\")[0]\n",
    "    ay = surAy.split(\":\")[1]\n",
    "    if ay == \"1\":\n",
    "        qRSed += f'\\n# s{sur}\\n'\n",
    "    if ay in surRukStrts[sur]:\n",
    "        rukno = surRukStrts[sur].index(ay)+1\n",
    "        rukuStartAyah = ay\n",
    "        # rukuEndAyah = surRukStrts[sur][rukno] - 1\n",
    "        match = re.findall(\n",
    "            '\\n'+sur+'\\:\\d{1,}\\:'+ay+'-(\\d{1,})\\n',\n",
    "            rukuStr\n",
    "        )\n",
    "        # print(sur,ay,match)\n",
    "        rukuEndAyah = match[0]\n",
    "        qRSed += f'\\n## r{sur}.{str(rukno)}\\n' + f'\\n[Q.{sur}.{rukuStartAyah}-{rukuEndAyah}](https://www.islamicstudies.info/tafheem.php?sura={sur}&verse={rukuStartAyah}&to={rukuEndAyah})\\n'\n",
    "    qRSed += f'\\n### {surAy}\\n' + f'\\n{no_ayah_pairs[surAy]}\\n'"
   ]
  },
  {
   "cell_type": "code",
   "execution_count": 315,
   "metadata": {},
   "outputs": [],
   "source": [
    "with open('data/ref/Qrsed.md', 'w') as f:\n",
    "    f.write(qRSed)"
   ]
  }
 ],
 "metadata": {
  "kernelspec": {
   "display_name": "mlCond",
   "language": "python",
   "name": "python3"
  },
  "language_info": {
   "codemirror_mode": {
    "name": "ipython",
    "version": 3
   },
   "file_extension": ".py",
   "mimetype": "text/x-python",
   "name": "python",
   "nbconvert_exporter": "python",
   "pygments_lexer": "ipython3",
   "version": "3.9.18"
  }
 },
 "nbformat": 4,
 "nbformat_minor": 2
}
