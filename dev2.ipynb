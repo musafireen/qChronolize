{
 "cells": [
  {
   "cell_type": "markdown",
   "metadata": {},
   "source": [
    "# save qchronolyze analysis to md"
   ]
  },
  {
   "cell_type": "code",
   "execution_count": 161,
   "metadata": {},
   "outputs": [],
   "source": [
    "from qChronolyze import *"
   ]
  },
  {
   "cell_type": "code",
   "execution_count": 1,
   "metadata": {},
   "outputs": [
    {
     "name": "stdout",
     "output_type": "stream",
     "text": [
      "{ll~ah\n"
     ]
    }
   ],
   "source": [
    "import csv\n",
    "with open('data/lemmata.tsv') as f:\n",
    "    lemmata = [row for row in csv.DictReader(f, delimiter='\\t') ]\n",
    "\n",
    "print(lemmata[1]['Buckwalter'])"
   ]
  },
  {
   "cell_type": "code",
   "execution_count": 5,
   "metadata": {},
   "outputs": [
    {
     "name": "stdout",
     "output_type": "stream",
     "text": [
      "file found for kwn\n",
      "loading data/roots/kwn.tsv\n",
      "Successfully loaded data from 'dat/roots/kwn.tsv'\n",
      "\n",
      "total 1390 instances found\n",
      "'sorter.json' found'\n",
      "last item in sorter: 110:3\n",
      "successfully loaded sorter of length 6236 from 'sorter.json'\n"
     ]
    }
   ],
   "source": [
    "dicti = {\n",
    "    \"kwn\":\"\"\n",
    "    # \"makaAn\": \"\"\n",
    "}\n",
    "\n",
    "from qChronoMd import qChronoMd\n",
    "\n",
    "qChronoMd(\n",
    "    dicti\n",
    "### enter pair of word/root and meaning filtering regex as key-value pair dictionary\n",
    "# {\n",
    "#    '$Tn':  # english word / transliterated root https://corpus.quran.com/java/buckwalter.jsp\n",
    "#     '',   # regex filter for meaning\n",
    "#     'jnn':\n",
    "#     'jinn'\n",
    "# },\n",
    "\n",
    "### tafsir reference language\n",
    "# 'Arabic',\n",
    "# /\n",
    "# '1',\n",
    "\n",
    "### presentation style\n",
    "# pres='plot',\n",
    "    ,\n",
    "    \"kwn\"\n",
    "    # \"makan\"\n",
    "    ,\n",
    "    \"ar-tafsir-al-tabari\"\n",
    "\n",
    ")"
   ]
  },
  {
   "cell_type": "code",
   "execution_count": null,
   "metadata": {},
   "outputs": [],
   "source": [
    "# dicti = {}\n",
    "\n",
    "# for datum in lemmata:\n",
    "#     if int(datum[\"Frequency\"]) < 6:\n",
    "#         if 'Proper noun' in datum[\"Part-of-speech\"]:\n",
    "#             # print(datum)\n",
    "#             dicti[datum[\"Buckwalter\"]] = ''\n",
    "# from qChronoMd import qChronoMd\n",
    "\n",
    "# qChronoMd(\n",
    "#     dicti\n",
    "# ### enter pair of word/root and meaning filtering regex as key-value pair dictionary\n",
    "# # {\n",
    "# #    '$Tn':  # english word / transliterated root https://corpus.quran.com/java/buckwalter.jsp\n",
    "# #     '',   # regex filter for meaning\n",
    "# #     'jnn':\n",
    "# #     'jinn'\n",
    "# # },\n",
    "\n",
    "# ### tafsir reference language\n",
    "# # 'Arabic',\n",
    "# # /\n",
    "# # '1',\n",
    "\n",
    "# ### presentation style\n",
    "# # pres='plot',\n",
    "#     ,\n",
    "#     \"frequency_under_6\"\n",
    "#     ,\n",
    "#     \"ar-tafsir-al-tabari\"\n",
    "\n",
    "# )"
   ]
  },
  {
   "cell_type": "code",
   "execution_count": 1,
   "metadata": {},
   "outputs": [],
   "source": [
    "spirituals = [\n",
    "        {'mlk':  # english word / transliterated root https://corpus.quran.com/java/buckwalter.jsp\n",
    "        '(?:angel|messenger)'   # regex filter for meaning\n",
    "        },\n",
    "        # # ''\n",
    "        {'jiboriyl':\"\"},\n",
    "        {'miykaY`l': \"\"},\n",
    "        {'ha`ruwt': \"harut\"},\n",
    "        {'maAruwt': \"marut\"},\n",
    "        {'zbn': ''},\n",
    "\n",
    "        {'$Tn':\n",
    "        '(?:devil|[^d]evil|demon|shaitaan)'\n",
    "        },\n",
    "        {\"<iboliys\":\"\"},\n",
    "        {\"bls\":\"\"},\n",
    "        {'jin~':\n",
    "        '(?:[jJ]inn)'\n",
    "        },\n",
    "        {'jin~ap': '(?:[Jj]inn|mad)'},\n",
    "        {'jnn': '(?:^mad$|mad man|madman|surely mad)'},\n",
    "        {\"jaAn~\": \"(?:snake|jinn)\"},\n",
    "        {'Hyy':\n",
    "        'snake'\n",
    "        },\n",
    "        {'qrn':\n",
    "        'companion'\n",
    "        },\n",
    "        {'mrd':\n",
    "        'rebellious'\n",
    "        },\n",
    "        {'Eiforiyt':\n",
    "        ''\n",
    "        },\n",
    "]\n",
    "\n",
    "magic = [\n",
    "\n",
    "        {'$Er': 'poetry'},\n",
    "        {'$Er': 'hair'},\n",
    "        {'$Er': 'Sirius'},\n",
    "        {'$Er': 'monument'},\n",
    "        {'$Er': '(?:symbol|rite)'},\n",
    "        {'$Er': 'poet(?!r)'},\n",
    "        {'pos%3AV%20(i)%20root%3A%24Er': ''},\n",
    "        {'pos%3AV%20(iv)%20root%3A%24Er': ''},\n",
    "        {'sHr': 'magic(?!i)'},\n",
    "        {'sHr': 'magician'},\n",
    "        {'sHr': '(?<!they )bewitched'},\n",
    "        {'sHr': '(?:they bewitch|you bewitch|delude)'},\n",
    "        {'baAbil': ''},\n",
    "        {'jbt': \"\"},\n",
    "        {\"nfv\": \"\"},\n",
    "]\n",
    "\n",
    "spirits = [\n",
    "        {'nfs':\n",
    "        '(?:soul|self)'\n",
    "        },\n",
    "        {\"nfx\": \"\"},\n",
    "        {\"Suwr\": \"\"},\n",
    "        {\"Swr\": \"\"},\n",
    "        {'ruwH qds': ' '},\n",
    "        {'ruwH <amiyn': ' '},\n",
    "        {\"ruwH\": \"\"},\n",
    "\n",
    "]\n",
    "\n",
    "isa = [\n",
    "\n",
    "        {\"masiyH\":\"\"},\n",
    "        {\"EiysaY\": \"isa\"},\n",
    "        {\"maryam\": \"\"},\n",
    "        {\"yaHoyaY`\": \"yahya\"},\n",
    "        {\"zakariy~aA\": \"zakariya\"},\n",
    "        {\"EimoraAn\": \"imran\"},\n",
    "        {\"kalimap\": \"(?:word|.*)\"},\n",
    "        {\"kalaAm\": \"(?:word|.*)\"},\n",
    "        {\"Tayor\": \"(?:bird)\"},\n",
    "        {\"mahod\": \"bed\"},\n",
    "        {\"fTr\": \"\"},\n",
    "        {\"ftr\": \"\"},\n",
    "        {\"muwsaY\": \"musa\"},\n",
    "]\n",
    "\n",
    "idols = [\n",
    "        {\"wad~\": \"wadd\"},\n",
    "        {r\"{ll~a`t\": \"\"},\n",
    "        {r\"{loEuz~aY`\": \"\"},\n",
    "        {'manaw`p': \"\"},\n",
    "        {'baEol2': \"\"},\n",
    "        {'maAlik': \"malik\"},\n",
    "        {'suwaAE': \"\"},\n",
    "        {'yaguwv': \"\"},\n",
    "        {\"yaEuwq\": \"\"},\n",
    "        {\"nasor\": \"\"},\n",
    "        {\"TaAguwt\": \"\"},\n",
    "]\n",
    "\n",
    "shirk = [\n",
    "\n",
    "        {\"Alh dwn\": '(?:^((?!Allah).)*$) (?:other|esides|exclud|Us|instead)'},\n",
    "        {\"Alh Axr maEa\": '(?:^((?!Allah).)*$)  '},\n",
    "        {'Ebd dwn': '(?:worship|serv) (?:other|esides|exclud|Us|instead)'},\n",
    "        {'dEw maEa AHd': '  '},\n",
    "        {'dEw dwn': '(?:^((?!caller).)*$) (?:other|esides|exclud|Us|instead)'},\n",
    "        {\"(viii)%20root%3AAx* Alh\": ' (?:^((?!Allah).)*$)'},\n",
    "        {\"(viii)%20root%3AAx* dwn\": ' '},\n",
    "\n",
    "        {'(viii)%20root%3AAx* wld': '(?:^((?!we).)*$) '},\n",
    "        {'wld Alh': '(?:begot|beget) '},\n",
    "        {'wld sbH': ' '},\n",
    "        {'lam wld': ' (?:begot|beget)'},\n",
    "        {'Ax* SHb': ' (?:wife)'},\n",
    "        {'<an~aY wld': ' (?:son)'},\n",
    "        {'<an~aY SaAHibap': '  '},\n",
    "        {'Ax* Anv': ' '},\n",
    "        {'malak Anv': '(?:[Aa]ngel) '},\n",
    "        {'Ax* bny': ' (?:[Dd]aughter)'},\n",
    "        {'jEl bny': 'assign (?:[Dd]aughter)'},\n",
    "        {'xrq bny': ' (?:[Ss]on|[Ss]hild|[Dd]aughter)'},\n",
    "\n",
    "        {'$ariyk': ''},\n",
    "\n",
    "        {'sjd A^dam malak': '  (?:[Aa]ngel)'},\n",
    "\n",
    "        {'kwkb rAy': 'star '},\n",
    "        {'kwkb rab~ ha`*aA': '  '},\n",
    "        {'njm nZr': ' '},\n",
    "        {'$ms rab~ ha`*aA': '  '},\n",
    "        {'$ms sjd dwn': '  '},\n",
    "        {'$ms sjd laA Ebd': '   '},\n",
    "        {'qmr rab~ ha`*aA': '  '},\n",
    "\n",
    "        {'$Tn wly': ' (?:ally|allies|guardian|protector|friend)'},\n",
    "        {'$Tn Ebd laA': '  '},\n",
    "        {'$Tn Anv dEw': '  '},\n",
    "        {'jnn dwn Ebd': '(?:jinn)  '},\n",
    "        {'jnn $rk': '(?:jinn) '},\n",
    "\n",
    "]\n",
    "\n",
    "shirk2 = [\n",
    "        {'kwkb': ''},\n",
    "        {'njm': ''},\n",
    "        {'$ms': ''},\n",
    "        {'qmr': ''},\n",
    "        {'jin~': '(?:[Jj]inn)'},\n",
    "        {'jin~ap': '(?:[Jj]inn|[Mm]ad)'},\n",
    "        {'jaAn~': '(?:[Jj]inn|[Ss]nake)'},\n",
    "        {'jnn': '(?:^mad$|mad man|madman|surely mad)'},\n",
    "        {'$Tn': ''},\n",
    "        {'pos%3AV%20(iv)%20root%3A%24rk': ''},\n",
    "        {'mu$orik': ''},\n",
    "        {\"<ila`h\": ''},\n",
    "        {\"'a`lihap\": ''},\n",
    "]\n",
    "\n",
    "rituals = [\n",
    "        {'wvn': 'idol'},\n",
    "        {'Snm': 'idol'},\n",
    "        {'nSb': '(?:altar|goal)'},\n",
    "\n",
    "        {'syb': ''},\n",
    "        {'wSl': 'Wasilah'},\n",
    "        {'bHr': 'Bahirah'},\n",
    "        {'Hmy': 'Ham'},\n",
    "        {'zlm': ''},\n",
    "        {'Hrm Anv': ' '},\n",
    "        {'xlS bTn *kr': '  '},\n",
    "]\n",
    "\n",
    "places = [\n",
    "\n",
    "        {\"SafaA\": \"safa\"},\n",
    "        {\"marowap\": \"marwa\"},\n",
    "        {\"siyniyn\": \"sin\"},\n",
    "        {\"qurayo$\" : \"\"},\n",
    "        {\"tub~aE\" : \"tubba\"},\n",
    "        {\"saba<\" : \"saba\"},\n",
    "        {\"misor\" : \"\"},\n",
    "        {\"ruwm\" : \"rom\"},\n",
    "        {\"ramaDaAn\" : \"ramadan\"},\n",
    "        {\"EarafaAt\": \"arafa\"},\n",
    "        {\"bak~ap\": \"bakka\"},\n",
    "        {\"bador\": \"badr\"},\n",
    "        {\"yavorib\" : \"yathrib\"},\n",
    "        {\"makkap\" : \"makka\"},\n",
    "        {\"kaEobap\": \"ka'*ba\"},\n",
    "        {\"Hunayon\": \"hunayn\"},\n",
    "]\n",
    "\n",
    "animals = [\n",
    "\n",
    "        {\"nml\": \"ant\"},\n",
    "        {\"qrd\": \"(?:monkey|ape)\"},\n",
    "        {\"nHl\": \"bee\"},\n",
    "        {\"Tyr\": \"bird\"},\n",
    "        {\"TaA}ir\": \"\"},\n",
    "        {\"Ejl\": \"calf\"},\n",
    "        {\"jml\": \"camel\"},\n",
    "        {\"bEr\": \"camel\"},\n",
    "        {\"nwq\": \"camel\"},\n",
    "        {\"<ibil\": \"camel\"},\n",
    "        {\"hym\": \"camel\"},\n",
    "        {\"E$r\": \"camel\"},\n",
    "        {\"bqr\": \"(?:heifer|cow)\"},\n",
    "        {\"grb\": \"(?:raven|crow)\"},\n",
    "        {\"klb\": \"(?:dog|hound)\"},\n",
    "        {\"Hmr\": \"(?:donkey|ass)\"},\n",
    "        {\"fyl\": \"elephant\"},\n",
    "        {\"nEj\": \"ewe\"},\n",
    "        {\"Hwt\": \"fish\"},\n",
    "        {\"*bb\": \"(?:fly|flies)\"},\n",
    "        {\"DfdE\": \"frog\"},\n",
    "        {\"mEz\": \"goat\"},\n",
    "        {\"hdhd\": \"hoopoe\"},\n",
    "        {\"xyl\": \"(?:horse|cavalry)\"},\n",
    "        {\"jwd\": \"steed\"},\n",
    "        {\"qml\": \"lice\"},\n",
    "        {\"qsr\": \"lion\"},\n",
    "        {\"jrd\": \"locust\"},\n",
    "        {\"bED\": \"mosquito\"},\n",
    "        {\"fr$\": \"moth\"},\n",
    "        {\"bgl\": \"mule\"},\n",
    "        {\"xnzr\": \"(?:pig|swine)\"},\n",
    "        {\"slw\": \"quail\"},\n",
    "        {\"gnm\": \"sheep\"},\n",
    "        {\"vEb\": \"(?:serpent|snake)\"},\n",
    "        {\"Hyy\": \"(?:serpent|snake)\"},\n",
    "        {\"jaAn~\": \"(?:snake|serpent|jinn)\"},\n",
    "        {\"Enkb\": \"spider\"},\n",
    "        {\"*#b\": \"wolf\"},\n",
    "        {\"nEm\": \"(?:cattle|livestock)\"},\n",
    "        {\"bhm\": \"\"},\n",
    "        {\"dbb\": \"(?:creature|animal|beast)\"},\n",
    "]\n",
    "\n",
    "hindi = [\n",
    "        {\"msk\": \"musk\"},\n",
    "]\n",
    "\n",
    "geez = [\n",
    "\n",
    "        {\"Hwr\": \"disciple\"},\n",
    "        {\"zrb\": \"\"},\n",
    "]\n",
    "\n",
    "copt_gypt = [\n",
    "\n",
    "        {\"xtm\": \"seal\"},\n",
    "        {\"taAbuwt\": \"(?:ark|chest|.*)\"},\n",
    "        {\"Tgy\": \"(?:idol|deit|god|evil)\"},\n",
    "        {\"jbt\": \"(?:copt|gypsy|superstition)\"},\n",
    "]\n",
    "\n",
    "latin = [\n",
    "\n",
    "        {\"sij~iyl\": \"clay\"},\n",
    "        {\"sjl\": \"scroll\"},\n",
    "        {\"qnTr\": \"(?:centenarium|heap|wealth|store)\"},\n",
    "        {\"dnr\": \"(?:denarius|coin)\"},\n",
    "        {\"qmS\": \"shirt\"},\n",
    "        {\"qSr\": \"(?:castle|palace|fort)\"},\n",
    "        {\"SrT\": \"(?:path|way)\"},\n",
    "]\n",
    "\n",
    "greek = [\n",
    "\n",
    "        {\"qsTs\": \"balance\"},\n",
    "        {\"qrTs\": \"parchment\"},\n",
    "        {\"drhm\": \"dirham\"},\n",
    "        {\"qld\": \"key\"},\n",
    "        {\"qld\": \"garland\"},\n",
    "        {\"qlm\": \"(?:pen|reed|cane)\"},\n",
    "        {\"sTr\": \"(?:story|tale)\"},\n",
    "]\n",
    "\n",
    "syr_christ = [\n",
    "\n",
    "        {\"nHs\": \"(?:copper|bronze|brass|smoke)\"},\n",
    "        {\"krs\": \"throne\"},\n",
    "        {\"Abb\": \"(?:pasture|grass)\"},\n",
    "        {\"Ajr\": \"(?:reward)\"},\n",
    "        {\"sbl\": \"(?:way|path)\"},\n",
    "]\n",
    "\n",
    "aram_jew = [\n",
    "\n",
    "        {\"jlw\": \"exile\"},\n",
    "        {\"sbt\": \"(?:sabbath|rest)\"},\n",
    "        {\"sbT\": \"(?:tribe|descendants|scepter|rod|stick)\"},\n",
    "        {\"safarap\": \"scribe\"},\n",
    "        {\"sfr\": \"book\"},\n",
    "        {\"rbb\": \"(?:the rabbis|worshipper)\"},\n",
    "        {\"rib~iy~uwn\": \"(?:scholar)\"},\n",
    "        {\"bhm\": \"(?:beast|quadruped)\"},\n",
    "        {\"Sdq\": \"charity\"},\n",
    "]\n",
    "\n",
    "akkadian = [\n",
    "\n",
    "        {\"fxr\": \"pottery\"},\n",
    "        {\">asowaAq\": \"market\"},\n",
    "        {\"swq\": \"(?:leg|shin|stem)\"},\n",
    "        {\"frt\": \"(?:sweet|fresh)\"},\n",
    "        {\"swr\": \"(?:bracelet|fetter|chain)\"},\n",
    "        {\"k#s\": \"cup\"},\n",
    "        {\"sunodus\": \"silk\"},\n",
    "        {\"sTr\": \"(?:writ)\"},\n",
    "        {\"sTr\": \"(?:control)\"},\n",
    "]\n",
    "\n",
    "farsi = [\n",
    "\n",
    "        {\"fyl\": \"elephant\"},\n",
    "        {\"fxr\": \"boast\"},\n",
    "        {\"fwj\": \"(?:group|company|.*)\"},\n",
    "        {\"srj\": \"(?:lamp|.*)\"},\n",
    "        {\">abaAriyq\": \"(?:jug)\"},\n",
    "        {\"Efr\": \"strong\"},\n",
    "        {\"tan~uwr\": \"oven\"},\n",
    "        {\"jnh\": \"(?:blame|sin)\"},\n",
    "        {\"jnd\": \"(?:host|troop|army|force)\"},\n",
    "        {\"srd\": \"link\"},\n",
    "        {\"srdq\": \"wall\"},\n",
    "        {\"firodaws\": \"paradise\"},\n",
    "        {\"mjs\": \"mag\"},\n",
    "        {\"srbl\": \"(?:trouser|pants|garment)\"},\n",
    "        {\"kaAfuwr\": \"(?:camphor|kafur)\"},\n",
    "        {\"zanjabiyl\": \"(?:ginger|zanjabil)\"},\n",
    "        {\"barozax\": \"barrier\"},\n",
    "        {\"knz\": \"(?:treasure|hoard)\"},\n",
    "        {\"<isotibraq\": \"(?:brocade|silk)\"},\n",
    "        {\"Ebqr\": \"carpet\"},\n",
    "        {\"namaAriq\": \"cushion\"},\n",
    "        {\"Ark\": \"(?:couch|throne)\"},\n",
    "        {\"zmhr\": \"cold\"},\n",
    "        {\"m$j\": \"mix\"},\n",
    "        {\"mzj\": \"mix\"},\n",
    "        {\"wzr\": \"(?:minister|assist|bear|burden|refuge)\"},\n",
    "        {\"Er$\": \"(?:erect|construct|roof|throne|trellis)\"},\n",
    "        {\"dwl\": \"(?:circul|alter)\"},\n",
    "]\n",
    "\n",
    "\n",
    "nabis = [\n",
    "\n",
    "        {\"A^dam\": \"(?:Adam|)\"},\n",
    "        {\"nuwH\": \"(?:Nuh|)\"},\n",
    "        {\"<idoriys\": \"(?:Idris|)\"},\n",
    "        {\"huwd/Ewd\": \"(?:Hud|)/Aad\"},\n",
    "        {\"SaAliH/vamuwd\": \"(?:Salih)/Thamud\"},\n",
    "        {\"tub~aE\": \"Tubba\"},\n",
    "        {\">ayokap\": \"wood\"},\n",
    "        {\"ras~\": \"(?:rass|Raas)\"},\n",
    "        {\"Hijor\": \"(?:the Rocky Tract)\"},\n",
    "        {\"<iram\": \"(?:Aram|Iram)\"},\n",
    "        {\"<iboraAhiym\": \"(?:Ibrahim|)\"},\n",
    "        {\"luwT\": \"(?:Lut)\"},\n",
    "        {\"<isoma`Eiyl\": \"(?:Ishmael|)\"},\n",
    "        {\"<isoHaAq\": \"(?:Isaac|)\"},\n",
    "        {\"yaEquwb\": \"(?:Yaqub|)\"},\n",
    "        {\"yuwsuf\": \"(?:Yusuf|)\"},\n",
    "        {\">ay~uwb\": \"(?:Ayyub|)\"},\n",
    "        {\"$uEayb/madoyan\": \"(?:Shuaib|)/(?:Midian|Madyan)\"},\n",
    "        {\"muwsaY/firoEawon\": \"(?:Musa|)/(?:Pharaoh|Firaun)\"},\n",
    "        {\"ha`ruwn\": \"(?:Harun|)\"},\n",
    "        {\"TaAluwt/jaAluwt\": \"(?:Saul|Talut)/(?:Goliath|Jalut)\"},\n",
    "        {\"daAwud\": \"(?:Dawood|Dawud|)\"},\n",
    "        {\"sulaymaAn\": \"(?:Sulaiman|)\"},\n",
    "        {\"kifol\": \"(?:Kifl)\"},\n",
    "        {\"nuwn/yuwnus\": \"(?:Nun)/(?:Yunus)\"},\n",
    "        {\"<iloyaAs\": \"(?:Elijah|)\"},\n",
    "        {\"yasaE\": \"(?:Elisha)\"},\n",
    "        {\"qrn\": \"(?:Qarnain)\"},\n",
    "        {\"Euzayor\": \"(?:Uzair)\"},\n",
    "        {\"luqomaAn\": \"(?:Luqman)\"},\n",
    "        {\"zakariy~aA\": \"(?:Zakariya|)\"},\n",
    "        {\"yaHoyaY\": \"(?:Yahya)\"},\n",
    "        {\"maroyam\": \"(?:Mary)\"},\n",
    "        {\"EiysaY/Aibn maryam\": \"isa/son mary\"},\n",
    "        {\"muHam~ad\": \"(?:Muhammad|)\"},\n",
    "]\n",
    "\n",
    "islam_iman = [\n",
    "\n",
    "        {'pos%3AV%20(iv)%20root%3AAmn': ''},\n",
    "        {'pos%3AN%20(iv)%20root%3AAmn': '(?:believer|believing|who believe|\\(will\\) believe)'},\n",
    "        {'pos%3AN%20(iv)%20root%3AAmn': '(?:faith|belief)'},\n",
    "        {'pos%3AV%20(i)%20root%3AAmn': ''},\n",
    "        {'pos%3AADJ%20(i)%20root%3AAmn/pos%3AN%20(i)%20root%3AAmn': '[tT]rustworthy/[tT]rustworthy'},\n",
    "        {'pos%3AADJ%20(i)%20root%3AAmn/pos%3AN%20(i)%20root%3AAmn': '(safe|secure)/(safely|safe(?!ty)|secure)'},\n",
    "        {'pos%3AN%20(i)%20root%3AAmn': '(?:security)'},\n",
    "        {'pos%3AN%20(i)%20root%3AAmn': '(?:trust)'},\n",
    "        {'pos%3AN%20(i)%20root%3AAmn': 'place of safety'},\n",
    "        {'(viii)%20root%3AAmn': ''},\n",
    "\n",
    "        {'pos%3AV%20(iv)%20root%3Aslm': ''},\n",
    "        {'<isolaAm': ''},\n",
    "        {'musolim/musolimaAt/musolimap': '(?:submissive|submit|surrender|Muslim)/(?:submissive|surrender|submit|Muslim)/(?:submissive|submit|surrender|Muslim)'},\n",
    "        {'pos%3AV%20(ii)%20root%3Aslm': '(?:greet(?!ing)|submit|pay|save)'},\n",
    "        {'pos%3AADJ%20(ii)%20root%3Aslm': ''},\n",
    "        {'tasoliym': ''},\n",
    "        {'(x)%20root%3Aslm': ''},\n",
    "        {'sala`m': ''},\n",
    "        {'salam': '(?:\\[the\\] peace|the submission)'},\n",
    "        {'salom': '(?<!\\] )peace'},\n",
    "        {'silom': 'Islam'},\n",
    "        {'saliym': ''},\n",
    "]\n",
    "\n",
    "salah = [\n",
    "      {'Slw': ''},\n",
    "      {'(ii)%20root%3ASlw': ''},\n",
    "      {'(i)%20pos%3AN%20root%3ASlw': ''},\n",
    "      {'Salaw`p': ''},\n",
    "      {'qwm muSal~aY': '(?:standing\\splace) (?:place\\sof\\prayer)'},\n",
    "      {'muSal~iyn': ''},\n",
    "\n",
    "      {'tlw qwm': ' (?:standing) '},\n",
    "      {'tlw (i)%20pos%3AV%20root%3Aqwm': ' '},\n",
    "      {'tlw (iv)%20pos%3AV%20root%3Aqwm': ' '},\n",
    "      {'tlw (iv)%20pos%3AN%20root%3Aqwm': ' '},\n",
    "      \n",
    "      {'tlw Salaw`p': ' '},\n",
    "\n",
    "      {'Salaw`p qay~imap': ' '},\n",
    "      {'Slw qaA}im': ' '},\n",
    "\n",
    "      {'(i)%20pos%3AV%20root%3Aqwm Slw': ' (?:pray(?!er))'},\n",
    "      {'(i)%20pos%3AV%20root%3Aqwm Salaw`p': ' '},\n",
    "\n",
    "      {'(iv)%20root%3Aqwm Salaw`p': '(?:stablishment|stablishing|ncampment) '},\n",
    "      {'(iv)%20root%3Aqwm Salaw`p': '(?:who\\sestablish|enduring|lasting|establisher|established) '},\n",
    "      {'(iv)%20pos%3AV%20root%3Aqwm Salaw`p': ' '},\n",
    "\n",
    "      {'qDy Salaw`p': ' '},\n",
    "]\n",
    "\n",
    "mamluk_yaman = [\n",
    "      {'Asr': '(?:captive|prisoner)'},\n",
    "      {'Asr': '(?:form)'},\n",
    "      {'mlk ymn': ' '},\n",
    "      {'fty': '(?:boy|youth|young|servant)'},\n",
    "      {'fty': 'girl'},\n",
    "      {'Arb': '(?:use)'},\n",
    "      {'Arb': '(?:physical)'},\n",
    "      {'Amw': ''}\n",
    "]\n",
    "\n",
    "nisa = [\n",
    "      {'nsw': ''},\n",
    "      {'mrA': '(?:woman|women|wife)'},\n",
    "      {'Anv': ' '},\n",
    "      {'HfZ frj': ' '},\n",
    "      {'xmr jyb': ' '},\n",
    "      {'bdw zyn': ' '},\n",
    "      {'nsw brj': ' displaying'},\n",
    "      {'nsw wDE vwb': '  '},\n",
    "      {'wDE vwb': ' '},\n",
    "      {'nsw lam HyD': '  '},\n",
    "      {'nsw HyD': ' '},\n",
    "      {'Ahl brj': ' display(?!i)'},\n",
    "      {'Ahl brj': ' display$'},\n",
    "      {'qrr byt Ahl': '  '},\n",
    "      {'brj': '(?:tower|constellation)'},\n",
    "      {'nsw msk byt mwt': '   '},\n",
    "      {'nsw fH$': ' '},\n",
    "      {'zny': ' '},\n",
    "      {'nsw Drb': ' '},\n",
    "      {'Amw': ''},\n",
    "      {'fty': 'girl'},\n",
    "      {'HSn nkH': '(?:married|he.*chaste) '},\n",
    "      {'HSn frj': ' '},\n",
    "      {'HSn': '(?:store|protect)'},\n",
    "      {'HSn qry': ' '},\n",
    "      {'HSn': 'fortress'},\n",
    "      {'HSn': 'ing.*chaste'},\n",
    "      {'HSn': 'chastity'},\n",
    "      {'HSn': '(?:married|he.*chaste)'},\n",
    "      {'nkH mtE': ' '},\n",
    "      {'nkH zwj': ' '},\n",
    "      {'nkH nsw': ' '},\n",
    "]\n",
    "\n",
    "ahl_kitab = [\n",
    "      {'pos%3AV%20(iv)%20root%3AAty ktb': ' '},\n",
    "      {'(iv)%20root%3AAty ktb': ' '},\n",
    "      {'Ahl ktb': ' '},\n",
    "      {'<inojiyl': ''},\n",
    "      {'taworaY`p': ''},\n",
    "      {'zbr': ''},\n",
    "      {'SHf': ''},\n",
    "      {'sfr': 'book'},\n",
    "      {'lwH': 'scorching'},\n",
    "      {'lwH': '(?:[Tt]ablet|plank)'},\n",
    "]"
   ]
  },
  {
   "cell_type": "code",
   "execution_count": 3,
   "metadata": {},
   "outputs": [
    {
     "name": "stdout",
     "output_type": "stream",
     "text": [
      "proper data not found for Aty\n",
      "proper data not found for ktb\n",
      "writing ktb to 'data/roots/ktb.tsv'\n",
      "proper data not found for Aty\n",
      "file found for ktb\n",
      "loading data/roots/ktb.tsv\n",
      "Successfully loaded data from 'dat/roots/ktb.tsv'\n",
      "file found for Ahl\n",
      "loading data/roots/A?hl.tsv\n",
      "Successfully loaded data from 'dat/roots/A?hl.tsv'\n",
      "file found for ktb\n",
      "loading data/roots/ktb.tsv\n",
      "Successfully loaded data from 'dat/roots/ktb.tsv'\n",
      "proper data not found for <inojiyl\n",
      "writing <inojiyl to 'data/roots/<inojiyl.tsv'\n",
      "proper data not found for taworaY`p\n",
      "writing taworaY`p to 'data/roots/taworaY?`p.tsv'\n",
      "proper data not found for zbr\n",
      "writing zbr to 'data/roots/zbr.tsv'\n",
      "proper data not found for SHf\n",
      "writing SHf to 'data/roots/S?H?f.tsv'\n",
      "file found for sfr\n",
      "loading data/roots/sfr.tsv\n",
      "Successfully loaded data from 'dat/roots/sfr.tsv'\n",
      "proper data not found for lwH\n",
      "writing lwH to 'data/roots/lwH?.tsv'\n",
      "file found for lwH\n",
      "loading data/roots/lwH?.tsv\n",
      "Successfully loaded data from 'dat/roots/lwH?.tsv'\n",
      "\n",
      "total 224 instances found\n",
      "'sorter.json' found'\n",
      "last item in sorter: 110:3\n",
      "successfully loaded sorter of length 6236 from 'sorter.json'\n"
     ]
    }
   ],
   "source": [
    "from qChronoMd import qChronoMd\n",
    "\n",
    "qChronoMd(\n",
    "    \n",
    "    ### enter pair of word/root and meaning filtering regex as key-value pair dictionary\n",
    "    [\n",
    "        # *shirk,\n",
    "        # {'TwE': '(?<!be )[Oo]bey'},\n",
    "        # *salah\n",
    "        # *mamluk_yaman\n",
    "        # *nisa\n",
    "        # {'firoEawn': ''},\n",
    "        # {'firoEawn Tgy': ' '},\n",
    "        # {'Tgy': ''},\n",
    "        *ahl_kitab\n",
    "    ],\n",
    "    \n",
    "    'ahl_kitab',\n",
    "    # 'firawn_taghut',\n",
    "    # 'nisa',\n",
    "    # 'mamluk_yaman',\n",
    "    # 'salah',\n",
    "    # 'taw3ah',\n",
    "    # 'shirk',\n",
    "    # 'iman_islam',\n",
    "    # \"anbiya\",\n",
    "    # \"hindi2\",\n",
    "    # \"habshi2\",\n",
    "    # \"jibti2\",\n",
    "    # \"latin2\",\n",
    "    # \"greek2\",\n",
    "    # \"syriac2\",\n",
    "    # \"aramaic2\",\n",
    "    # \"akkadian2\",\n",
    "    # \"farsi2\",\n",
    "    # \"a'jami_vocab\",\n",
    "    # \"haywan\",\n",
    "\n",
    "    \"ar-tafsir-al-tabari\",\n",
    "\n",
    "    ### tafsir reference language\n",
    "    # 'Arabic',\n",
    "    # /\n",
    "    # '1',\n",
    "\n",
    "    ### presentation style\n",
    "    # pres='plot',\n",
    "\n",
    "    )"
   ]
  },
  {
   "cell_type": "code",
   "execution_count": 3,
   "metadata": {},
   "outputs": [
    {
     "name": "stdout",
     "output_type": "stream",
     "text": [
      "table style choosen for presentation.\n",
      "arabic language choosen for reference.\n",
      "'sorter.json' found'\n",
      "last item in sorter: 110:3\n",
      "successfully loaded sorter of length 6236 from 'sorter.json'\n",
      "file found for nEs\n",
      "loading data/roots/nE?s.tsv\n",
      "Successfully loaded data from 'dat/roots/nE?s.tsv'\n",
      "\n",
      "after nEs SUrahAyahAggSet:\n",
      " {'8:11', '3:154'} \n",
      " ['3:154', '8:11']\n",
      "file found for Amn\n",
      "loading data/roots/A?mn.tsv\n",
      "Successfully loaded data from 'dat/roots/A?mn.tsv'\n",
      "\n",
      "after Amn SUrahAyahAggSet:\n",
      " {'8:11', '3:154'} \n",
      " ['2:196', '2:239', '2:283', '3:75', '3:75', '4:91', '4:91', '7:97', '7:98', '7:99', '7:99', '12:11', '12:64', '12:64', '12:107', '16:45', '17:68', '17:69', '67:16', '67:17', '2:3', '2:4', '2:6', '2:8', '2:9', '2:13', '2:13', '2:13', '2:13', '2:14', '2:14', '2:25', '2:26', '2:41', '2:55', '2:62', '2:62', '2:75', '2:76', '2:76', '2:82', '2:85', '2:88', '2:91', '2:91', '2:100', '2:103', '2:104', '2:121', '2:126', '2:136', '2:137', '2:137', '2:153', '2:165', '2:172', '2:177', '2:178', '2:183', '2:186', '2:208', '2:212', '2:213', '2:214', '2:218', '2:221', '2:221', '2:228', '2:232', '2:249', '2:253', '2:254', '2:256', '2:257', '2:260', '2:264', '2:264', '2:267', '2:277', '2:278', '2:282', '2:285', '2:285', '3:7', '3:16', '3:52', '3:53', '3:57', '3:68', '3:72', '3:72', '3:73', '3:81', '3:84', '3:99', '3:100', '3:102', '3:110', '3:110', '3:114', '3:118', '3:119', '3:119', '3:130', '3:140', '3:141', '3:149', '3:156', '3:179', '3:179', '3:183', '3:193', '3:193', '3:199', '3:200', '4:19', '4:29', '4:38', '4:39', '4:43', '4:46', '4:47', '4:51', '4:51', '4:55', '4:57', '4:59', '4:59', '4:60', '4:65', '4:71', '4:76', '4:94', '4:122', '4:135', '4:136', '4:136', '4:137', '4:137', '4:144', '4:147', '4:150', '4:152', '4:155', '4:159', '4:162', '4:170', '4:171', '4:173', '4:175', '5:1', '5:2', '5:6', '5:8', '5:9', '5:11', '5:12', '5:35', '5:41', '5:41', '5:51', '5:53', '5:54', '5:55', '5:56', '5:57', '5:59', '5:61', '5:65', '5:69', '5:69', '5:81', '5:82', '5:82', '5:83', '5:84', '5:87', '5:90', '5:93', '5:93', '5:93', '5:94', '5:95', '5:101', '5:105', '5:106', '5:111', '5:111', '6:12', '6:20', '6:25', '6:48', '6:54', '6:82', '6:92', '6:92', '6:99', '6:109', '6:109', '6:110', '6:111', '6:113', '6:124', '6:125', '6:150', '6:154', '6:158', '7:27', '7:32', '7:42', '7:52', '7:75', '7:76', '7:86', '7:87', '7:87', '7:88', '7:96', '7:101', '7:121', '7:123', '7:126', '7:134', '7:146', '7:153', '7:156', '7:157', '7:158', '7:158', '7:185', '7:188', '7:203', '8:12', '8:15', '8:20', '8:24', '8:27', '8:29', '8:41', '8:45', '8:55', '8:72', '8:72', '8:74', '8:75', '9:18', '9:19', '9:20', '9:23', '9:28', '9:29', '9:34', '9:38', '9:44', '9:45', '9:61', '9:61', '9:61', '9:86', '9:88', '9:94', '9:99', '9:113', '9:119', '9:123', '9:124', '10:2', '10:4', '10:9', '10:13', '10:33', '10:40', '10:40', '10:51', '10:63', '10:74', '10:83', '10:84', '10:88', '10:90', '10:90', '10:96', '10:98', '10:98', '10:99', '10:100', '10:101', '10:103', '11:17', '11:17', '11:23', '11:29', '11:36', '11:36', '11:40', '11:40', '11:58', '11:66', '11:94', '11:121', '12:37', '12:57', '12:106', '12:111', '13:1', '13:28', '13:29', '13:31', '14:23', '14:27', '14:31', '15:13', '16:22', '16:60', '16:64', '16:72', '16:79', '16:99', '16:102', '16:104', '16:105', '17:10', '17:45', '17:90', '17:93', '17:94', '17:107', '17:107', '18:6', '18:13', '18:29', '18:30', '18:55', '18:88', '18:107', '19:39', '19:60', '19:73', '19:96', '20:16', '20:70', '20:71', '20:73', '20:82', '20:127', '21:6', '21:6', '21:30', '22:14', '22:17', '22:23', '22:38', '22:50', '22:54', '22:54', '22:56', '22:77', '23:44', '23:47', '23:58', '23:74', '23:109', '24:2', '24:19', '24:21', '24:27', '24:47', '24:55', '24:58', '24:62', '24:62', '25:70', '26:47', '26:49', '26:111', '26:201', '26:227', '27:4', '27:53', '27:81', '27:86', '28:3', '28:52', '28:53', '28:67', '28:80', '29:2', '29:7', '29:9', '29:10', '29:11', '29:12', '29:24', '29:26', '29:46', '29:47', '29:47', '29:51', '29:52', '29:56', '29:58', '29:67', '30:15', '30:37', '30:45', '30:53', '31:8', '32:15', '32:19', '33:9', '33:19', '33:41', '33:49', '33:53', '33:56', '33:69', '33:70', '34:4', '34:8', '34:21', '34:31', '34:37', '34:52', '35:7', '36:7', '36:10', '36:25', '36:47', '37:148', '38:24', '38:28', '39:10', '39:45', '39:52', '40:7', '40:7', '40:12', '40:25', '40:27', '40:30', '40:35', '40:38', '40:51', '40:58', '40:59', '40:84', '41:8', '41:18', '41:44', '41:44', '42:15', '42:18', '42:18', '42:22', '42:23', '42:26', '42:36', '42:45', '43:69', '43:88', '44:21', '45:6', '45:14', '45:21', '45:30', '46:10', '46:11', '46:17', '46:31', '47:2', '47:2', '47:3', '47:7', '47:11', '47:12', '47:20', '47:33', '47:36', '48:9', '48:13', '48:29', '49:1', '49:2', '49:6', '49:11', '49:12', '49:14', '49:14', '49:15', '52:21', '52:33', '53:27', '57:7', '57:7', '57:8', '57:8', '57:13', '57:16', '57:19', '57:21', '57:27', '57:28', '57:28', '58:4', '58:9', '58:10', '58:11', '58:11', '58:12', '58:22', '59:10', '59:18', '60:1', '60:1', '60:4', '60:10', '60:13', '61:2', '61:10', '61:11', '61:14', '61:14', '61:14', '62:9', '63:3', '63:9', '64:8', '64:9', '64:11', '64:14', '65:2', '65:10', '65:11', '65:11', '66:6', '66:8', '66:8', '66:11', '67:29', '69:33', '69:41', '72:2', '72:13', '72:13', '74:31', '77:50', '83:29', '83:34', '84:20', '84:25', '85:8', '85:11', '90:17', '95:6', '98:7', '103:3', '106:4', '2:283', '4:58', '8:27', '23:8', '70:32', '2:283', '33:72', '2:125', '4:83', '6:81', '6:82', '24:55', '3:154', '8:11', '7:68', '12:54', '26:107', '26:125', '26:143', '26:162', '26:178', '26:193', '27:39', '28:26', '44:18', '44:51', '81:21', '95:3', '9:6', '3:97', '14:35', '29:67', '41:40', '2:126', '28:57', '12:99', '15:46', '15:82', '26:146', '27:89', '28:31', '34:18', '34:37', '44:55', '48:27', '16:112', '70:28', '2:93', '2:108', '2:109', '2:143', '3:86', '3:90', '3:100', '3:106', '3:167', '3:173', '3:177', '3:193', '4:25', '5:5', '6:82', '6:158', '6:158', '8:2', '9:23', '9:66', '9:124', '9:124', '10:9', '10:98', '16:106', '16:106', '30:56', '32:29', '33:22', '40:10', '40:28', '40:85', '42:52', '48:4', '48:4', '49:7', '49:11', '49:14', '49:17', '52:21', '58:22', '59:9', '59:10', '60:10', '74:31', '2:8', '2:91', '2:93', '2:97', '2:223', '2:248', '2:278', '2:285', '3:28', '3:28', '3:49', '3:68', '3:110', '3:121', '3:122', '3:124', '3:139', '3:152', '3:160', '3:164', '3:166', '3:171', '3:175', '3:179', '4:84', '4:92', '4:92', '4:92', '4:92', '4:93', '4:94', '4:95', '4:103', '4:115', '4:124', '4:139', '4:141', '4:141', '4:144', '4:146', '4:146', '4:162', '4:162', '5:11', '5:23', '5:43', '5:54', '5:57', '5:88', '5:112', '6:27', '6:118', '7:2', '7:72', '7:75', '7:85', '7:132', '7:143', '8:1', '8:2', '8:4', '8:5', '8:17', '8:19', '8:62', '8:64', '8:65', '8:74', '9:10', '9:13', '9:16', '9:26', '9:51', '9:61', '9:62', '9:71', '9:72', '9:79', '9:105', '9:107', '9:111', '9:112', '9:122', '9:128', '10:57', '10:78', '10:87', '10:99', '10:103', '10:104', '11:53', '11:86', '11:120', '12:17', '12:103', '14:11', '14:41', '15:77', '15:88', '16:97', '17:9', '17:19', '17:82', '18:2', '18:80', '20:75', '20:112', '21:88', '21:94', '23:1', '23:38', '24:2', '24:3', '24:12', '24:17', '24:30', '24:31', '24:47', '24:51', '24:62', '26:3', '26:8', '26:51', '26:67', '26:102', '26:103', '26:114', '26:118', '26:121', '26:139', '26:158', '26:174', '26:190', '26:199', '26:215', '27:2', '27:77', '28:10', '28:47', '29:44', '30:4', '30:47', '32:18', '33:6', '33:6', '33:11', '33:22', '33:23', '33:25', '33:35', '33:36', '33:37', '33:43', '33:47', '33:50', '33:58', '33:59', '33:73', '34:20', '34:31', '34:41', '37:29', '37:111', '40:28', '40:40', '44:12', '45:3', '47:19', '48:4', '48:5', '48:12', '48:18', '48:20', '48:25', '48:26', '49:9', '49:10', '49:15', '51:35', '51:55', '57:8', '57:12', '58:10', '59:2', '60:11', '61:13', '63:8', '64:2', '64:13', '66:4', '71:28', '71:28', '74:31', '85:7', '85:10', '2:221', '9:14', '27:15', '37:81', '37:122', '37:132', '59:23', '5:5', '9:71', '9:72', '24:12', '24:31', '33:35', '33:49', '33:58', '33:73', '47:19', '48:5', '48:25', '57:12', '60:10', '60:10', '60:12', '71:28', '85:10', '4:25', '4:25', '24:23', '66:5', '2:221', '4:92', '4:92', '4:92', '33:36', '33:50']\n",
      "proper data not found for g$w\n",
      "writing g$w to 'data/roots/g$w.tsv'\n",
      "\n",
      "after g$w SUrahAyahAggSet:\n",
      " {'8:11', '3:154'} \n",
      " ['3:154', '14:50', '20:78', '20:78', '24:40', '29:55', '31:32', '33:19', '44:11', '53:16', '53:16', '91:4', '92:1', '8:11', '53:54', '53:54', '7:54', '10:27', '13:3', '36:9', '7:189', '11:5', '71:7', '2:7', '45:23', '7:41', '12:107', '88:1', '47:20']\n",
      "file found for Twf\n",
      "loading data/roots/T?wf.tsv\n",
      "Successfully loaded data from 'dat/roots/T?wf.tsv'\n",
      "\n",
      "after Twf SUrahAyahAggSet:\n",
      " {'3:154'} \n",
      " ['37:45', '43:71', '52:24', '55:44', '56:17', '68:19', '76:15', '76:19', '2:158', '22:29', '3:69', '3:72', '3:122', '3:154', '3:154', '4:81', '4:102', '4:102', '4:113', '6:156', '7:87', '7:87', '8:7', '9:66', '9:66', '9:83', '9:122', '28:4', '33:13', '49:9', '61:14', '61:14', '73:20', '24:2', '24:58', '7:133', '29:14', '2:125', '7:201', '22:26', '68:19']\n",
      "\n",
      "instLstFlt: [{'surah:ayah': '3:154', 'position': '8', 'word': 'nuʿāsan', 'meaning': 'slumber', 'ayah_link': ' ثُمَّ أَنْزَلَ عَلَيْكُمْ مِنْ بَعْدِ الْغَمِّ أَمَنَةً نُعَاسًا يَغْشَىٰ طَائِفَةً مِنْكُمْ'}, {'surah:ayah': '3:154', 'position': '7', 'word': 'amanatan', 'meaning': 'security ', 'ayah_link': ' ثُمَّ أَنْزَلَ عَلَيْكُمْ مِنْ بَعْدِ الْغَمِّ أَمَنَةً نُعَاسًا'}, {'surah:ayah': '3:154', 'position': '9', 'word': 'yaghshā', 'meaning': 'overcoming', 'ayah_link': ' ثُمَّ أَنْزَلَ عَلَيْكُمْ مِنْ بَعْدِ الْغَمِّ أَمَنَةً نُعَاسًا يَغْشَىٰ طَائِفَةً مِنْكُمْ'}, {'surah:ayah': '3:154', 'position': '10', 'word': 'ṭāifatan', 'meaning': 'a group', 'ayah_link': ' ثُمَّ أَنْزَلَ عَلَيْكُمْ مِنْ بَعْدِ الْغَمِّ أَمَنَةً نُعَاسًا يَغْشَىٰ طَائِفَةً مِنْكُمْ'}, {'surah:ayah': '3:154', 'position': '12', 'word': 'waṭāifatun', 'meaning': 'while a group', 'ayah_link': ' وَطَائِفَةٌ قَدْ أَهَمَّتْهُمْ أَنْفُسُهُمْ يَظُنُّونَ بِاللَّهِ غَيْرَ الْحَقِّ'}]\n",
      "\n",
      "instDictInc[surahAyah][\"word\"]:\n",
      " nuʿāsan\n",
      "\n",
      "instDictInc[surahAyah][\"word\"]:\n",
      " nuʿāsan amanatan\n",
      "\n",
      "instDictInc[surahAyah][\"word\"]:\n",
      " nuʿāsan amanatan yaghshā\n",
      "\n",
      "instDictInc[surahAyah][\"word\"]:\n",
      " nuʿāsan amanatan yaghshā ṭāifatan\n",
      "\n",
      "instDictInc[surahAyah][\"word\"]:\n",
      " nuʿāsan amanatan yaghshā ṭāifatan waṭāifatun\n",
      "\n",
      "total 1 instances found\n",
      "dataframe length: 1\n"
     ]
    },
    {
     "data": {
      "text/html": [
       "<style type=\"text/css\">\n",
       "#T_18cfd_row0_col0, #T_18cfd_row0_col1, #T_18cfd_row0_col2, #T_18cfd_row0_col3, #T_18cfd_row0_col4, #T_18cfd_row0_col5, #T_18cfd_row0_col6 {\n",
       "  background-color: rgb(100,70,20);\n",
       "  foreground-color: black;\n",
       "  color: black;\n",
       "  opacity: 1;\n",
       "}\n",
       "</style>\n",
       "<table id=\"T_18cfd\">\n",
       "  <thead>\n",
       "    <tr>\n",
       "      <th class=\"blank level0\" >&nbsp;</th>\n",
       "      <th id=\"T_18cfd_level0_col0\" class=\"col_heading level0 col0\" >verses_before</th>\n",
       "      <th id=\"T_18cfd_level0_col1\" class=\"col_heading level0 col1\" >surah:ayah</th>\n",
       "      <th id=\"T_18cfd_level0_col2\" class=\"col_heading level0 col2\" >position</th>\n",
       "      <th id=\"T_18cfd_level0_col3\" class=\"col_heading level0 col3\" >word</th>\n",
       "      <th id=\"T_18cfd_level0_col4\" class=\"col_heading level0 col4\" >meaning</th>\n",
       "      <th id=\"T_18cfd_level0_col5\" class=\"col_heading level0 col5\" >ayah_link</th>\n",
       "      <th id=\"T_18cfd_level0_col6\" class=\"col_heading level0 col6\" >query</th>\n",
       "    </tr>\n",
       "  </thead>\n",
       "  <tbody>\n",
       "    <tr>\n",
       "      <th id=\"T_18cfd_level0_row0\" class=\"row_heading level0 row0\" >0</th>\n",
       "      <td id=\"T_18cfd_row0_col0\" class=\"data row0 col0\" >5133</td>\n",
       "      <td id=\"T_18cfd_row0_col1\" class=\"data row0 col1\" >3:154</td>\n",
       "      <td id=\"T_18cfd_row0_col2\" class=\"data row0 col2\" >8</td>\n",
       "      <td id=\"T_18cfd_row0_col3\" class=\"data row0 col3\" >nuʿāsan amanatan yaghshā ṭāifatan waṭāifatun</td>\n",
       "      <td id=\"T_18cfd_row0_col4\" class=\"data row0 col4\" >slumber security  overcoming a group while a group</td>\n",
       "      <td id=\"T_18cfd_row0_col5\" class=\"data row0 col5\" ><a style='background-color:rgb(220,220,250);font-size:18px;color:rgb(0,0,150);' href='https://quran.com/3:154/tafsirs/ar-tafsir-al-tabari'> ثُمَّ أَنْزَلَ عَلَيْكُمْ مِنْ بَعْدِ الْغَمِّ أَمَنَةً نُعَاسًا يَغْشَىٰ طَائِفَةً مِنْكُمْ</a></td>\n",
       "      <td id=\"T_18cfd_row0_col6\" class=\"data row0 col6\" >nEs Amn g$w Twf (   )</td>\n",
       "    </tr>\n",
       "  </tbody>\n",
       "</table>\n"
      ],
      "text/plain": [
       "<IPython.core.display.HTML object>"
      ]
     },
     "execution_count": 3,
     "metadata": {},
     "output_type": "execute_result"
    }
   ],
   "source": [
    "from qChronolyze import sortchron\n",
    "\n",
    "sortchron(\n",
    "    \n",
    "    ### enter pair of word/root and meaning filtering regex as key-value pair dictionary\n",
    "\n",
    "    [\n",
    "        # *shirk\n",
    "        {'nEs Amn g$w Twf': '   '},\n",
    "        # {'nEs Amn g$w smw mwh vbt qdm': '      '},\n",
    "    ],\n",
    "\n",
    "    ### tafsir reference language\n",
    "    # 'Arabic',\n",
    "    # /\n",
    "    '1',\n",
    "\n",
    "    ### presentation style\n",
    "    pres='table',\n",
    "\n",
    "    )"
   ]
  },
  {
   "cell_type": "code",
   "execution_count": 4,
   "metadata": {},
   "outputs": [
    {
     "data": {
      "text/plain": [
       "2"
      ]
     },
     "execution_count": 4,
     "metadata": {},
     "output_type": "execute_result"
    }
   ],
   "source": [
    "lis1 = ['ab','cd','e']\n",
    "max([len(s) for s in lis1])"
   ]
  },
  {
   "cell_type": "code",
   "execution_count": 25,
   "metadata": {},
   "outputs": [
    {
     "data": {
      "text/plain": [
       "'a'"
      ]
     },
     "execution_count": 25,
     "metadata": {},
     "output_type": "execute_result"
    }
   ],
   "source": [
    "strn = 'abc'\n",
    "strn[-len(strn)]"
   ]
  },
  {
   "cell_type": "code",
   "execution_count": 5,
   "metadata": {},
   "outputs": [
    {
     "name": "stdout",
     "output_type": "stream",
     "text": [
      "fT?raY?\n"
     ]
    }
   ],
   "source": [
    "# import os\n",
    "# 'ftr.tsv' in os.listdir(\"data/roots\")\n",
    "import re\n",
    "flnm = re.sub('([A-Z])','\\\\1?', rt)\n",
    "print(flnm)"
   ]
  },
  {
   "cell_type": "code",
   "execution_count": 5,
   "metadata": {},
   "outputs": [
    {
     "name": "stdout",
     "output_type": "stream",
     "text": [
      "surah:ayah\tposition\tword\tmeaning\tayah_link\n",
      "6:79\t5\tfaṭara\tcreated\t إِنِّي وَجَّهْتُ وَجْهِيَ لِلَّذِي فَطَرَ السَّمَاوَاتِ وَالْأَرْضَ حَنِيفًا\n",
      "11:51\t11\tfaṭaranī\tcreated me\t يَا قَوْمِ لَا أَسْأَلُكُمْ عَلَيْهِ أَجْرًا إِنْ أَجْرِيَ إِلَّا عَلَى الَّذِي فَطَرَنِي\n",
      "17:51\t12\tfaṭarakum\tcreated you\t فَسَيَقُولُونَ مَنْ يُعِيدُنَا قُلِ الَّذِي فَطَرَكُمْ أَوَّلَ مَرَّةٍ\n",
      "19:90\t3\tyatafaṭṭarna\tget torn\t تَكَادُ السَّمَاوَاتُ يَتَفَطَّرْنَ مِنْهُ وَتَنْشَقُّ الْأَرْضُ\n",
      "20:72\t10\tfaṭaranā\tcreated us\t قَالُوا لَنْ نُؤْثِرَكَ عَلَىٰ مَا جَاءَنَا مِنَ الْبَيِّنَاتِ وَالَّذِي فَطَرَنَا\n",
      "21:56\t8\tfaṭarahunna\tcreated them\t قَالَ بَلْ رَبُّكُمْ رَبُّ السَّمَاوَاتِ وَالْأَرْضِ الَّذِي فَطَرَهُنَّ\n",
      "30:30\t8\tfaṭara\tHe has created\t فِطْرَتَ اللَّهِ الَّتِي فَطَرَ النَّاسَ عَلَيْهَا لَا تَبْدِيلَ لِخَلْقِ اللَّهِ\n",
      "36:22\t6\tfaṭaranī\tcreated me\t وَمَا لِيَ لَا أَعْبُدُ الَّذِي فَطَرَنِي وَإِلَيْهِ تُرْجَعُونَ\n",
      "42:5\t3\tyatafaṭṭarna\tbreak up\t تَكَادُ السَّمَاوَاتُ يَتَفَطَّرْنَ مِنْ فَوْقِهِنَّ\n",
      "43:27\t3\tfaṭaranī\tcreated me\t إِلَّا الَّذِي فَطَرَنِي فَإِنَّهُ سَيَهْدِينِ\n",
      "82:1\t3\tinfaṭarat\t(is) cleft asunder\t إِذَا السَّمَاءُ انْفَطَرَتْ\n",
      "30:30\t5\tfiṭ'rata\tNature\t فِطْرَتَ اللَّهِ الَّتِي فَطَرَ النَّاسَ عَلَيْهَا لَا تَبْدِيلَ لِخَلْقِ اللَّهِ\n",
      "67:3\t18\tfuṭūrin\tflaw\t فَارْجِعِ الْبَصَرَ هَلْ تَرَىٰ مِنْ فُطُورٍ\n",
      "6:14\t6\tfāṭiri\tCreator\t قُلْ أَغَيْرَ اللَّهِ أَتَّخِذُ وَلِيًّا فَاطِرِ السَّمَاوَاتِ وَالْأَرْضِ\n",
      "12:101\t10\tfāṭira\tCreator\t فَاطِرَ السَّمَاوَاتِ وَالْأَرْضِ أَنْتَ وَلِيِّي فِي الدُّنْيَا وَالْآخِرَةِ\n",
      "14:10\t6\tfāṭiri\t(the) Creator\t قَالَتْ رُسُلُهُمْ أَفِي اللَّهِ شَكٌّ فَاطِرِ السَّمَاوَاتِ وَالْأَرْضِ\n",
      "35:1\t3\tfāṭiri\tOriginator\t الْحَمْدُ لِلَّهِ فَاطِرِ السَّمَاوَاتِ وَالْأَرْضِ جَاعِلِ الْمَلَائِكَةِ رُسُلًا\n",
      "39:46\t3\tfāṭira\tCreator\t قُلِ اللَّهُمَّ فَاطِرَ السَّمَاوَاتِ وَالْأَرْضِ عَالِمَ الْغَيْبِ وَالشَّهَادَةِ\n",
      "42:11\t1\tfāṭiru\t(The) Creator\t فَاطِرُ السَّمَاوَاتِ وَالْأَرْضِ جَعَلَ لَكُمْ مِنْ أَنْفُسِكُمْ أَزْوَاجًا\n",
      "73:18\t2\tmunfaṭirun\t(will) break apart\t السَّمَاءُ مُنْفَطِرٌ بِهِ كَانَ وَعْدُهُ مَفْعُولًا\n",
      "\n"
     ]
    }
   ],
   "source": [
    "with open('data/roots/fTr.tsv') as f:\n",
    "    strn = f.read()\n",
    "\n",
    "print(strn)"
   ]
  },
  {
   "cell_type": "code",
   "execution_count": 3,
   "metadata": {},
   "outputs": [
    {
     "data": {
      "text/plain": [
       "{'b', 'c'}"
      ]
     },
     "execution_count": 3,
     "metadata": {},
     "output_type": "execute_result"
    }
   ],
   "source": [
    "set1 = {\"a\",\"b\",\"c\"}\n",
    "\n",
    "set1.remove(\"a\")\n",
    "\n",
    "set1"
   ]
  },
  {
   "cell_type": "code",
   "execution_count": 4,
   "metadata": {},
   "outputs": [
    {
     "data": {
      "text/plain": [
       "['a (b)', 'c (d)']"
      ]
     },
     "execution_count": 4,
     "metadata": {},
     "output_type": "execute_result"
    }
   ],
   "source": [
    "[ f'{k} ({v})' for k, v in {\"a\":\"b\",\"c\":\"d\"}.items() ]\n",
    "# [ f'{k}' for k in {\"a\":\"b\",\"c\":\"d\"} ]"
   ]
  },
  {
   "cell_type": "code",
   "execution_count": 253,
   "metadata": {},
   "outputs": [
    {
     "data": {
      "text/plain": [
       "[{'a': 'b', 'c': 'd'}, {'a': 'e', 'c': 'f'}]"
      ]
     },
     "execution_count": 253,
     "metadata": {},
     "output_type": "execute_result"
    }
   ],
   "source": [
    "import pandas as pd\n",
    "\n",
    "df = pd.DataFrame([\n",
    "    {\"a\":\"b\",\"c\":\"d\"},\n",
    "    {\"a\":\"e\",\"c\":\"f\"}\n",
    "])\n",
    "\n",
    "df.to_dict(orient='records')\n",
    "# df"
   ]
  },
  {
   "cell_type": "markdown",
   "metadata": {},
   "source": [
    "# csv"
   ]
  },
  {
   "cell_type": "markdown",
   "metadata": {},
   "source": [
    "# md"
   ]
  },
  {
   "cell_type": "markdown",
   "metadata": {},
   "source": [
    "# obsidian edit"
   ]
  },
  {
   "cell_type": "code",
   "execution_count": null,
   "metadata": {},
   "outputs": [],
   "source": [
    "import re\n",
    "\n",
    "with open(\"/mnt/f/Documents/notes/Ref/iamb.mystery3.md\") as f:\n",
    "# with open(\"/mnt/f/Documents/notes/Ref/iamb.myst/096.html\") as f:\n",
    "    strn = f.read()\n",
    "\n",
    "# matches = re.findall(\"(\\d{1,3})\\:(\\d{1,3})\", strn)\n",
    "\n",
    "# matches\n",
    "\n",
    "# surAys = []\n",
    "\n",
    "\n",
    "rep = re.compile(\n",
    "        # '(?<=[\\n])§\\s*(\\d*)\\s*', \n",
    "        # '<div type=\"textpart\" subtype=\"section\" xml:base=\"urn:cts:greekLit:tlg2023.tlg006.1st1K-grc1:(\\d{1,})\" n=\"(\\d{1,})\">(.*?)</div>',\n",
    "        # '<div type=\"textpart\" subtype=\"section\" xml:base=\"urn:cts:greekLit:tlg2023.tlg006.1st1K-grc1:(\\d{1,})\" n=\"(\\d{1,})\">.*?</div>',\n",
    "        # '<div type=\"textpart\" subtype=\"(?:section|chapter)\" xml:base=\"urn:cts:greekLit:tlg2023.tlg006.1st1K-grc1(?:\\:(\\d{1,}))*\" n=\"(\\d{1,})\">',\n",
    "        '\\n#{1,2}\\s*[c]{0,1}(\\d{1,})\\.{0,1}(\\d{0,})',\n",
    "        # '\\n#{1,2}',\n",
    "        # '((?:SECTION|CHAP\\.) [0IVX]{1,})',\n",
    "        # '<div type=\"textpart\" subtype=\"chapter\" xml:base=\"urn:cts:greekLit:tlg2023.tlg006.1st1K-grc1\" n=\"(\\d{1,})\">(.*?)</div>',\n",
    "        # '<[^>]*?>',\n",
    "        # re.DOTALL\n",
    "    ).findall(\n",
    "    # ).sub(\n",
    "    # '## \\\\1\\n',\n",
    "        # '## \\\\1.\\\\2\\n\\\\3',\n",
    "        # '# c\\\\1\\n\\\\2',\n",
    "        # '',\n",
    "    strn\n",
    ")\n",
    "    # if len(refs) > 0:\n",
    "    #     ref = refs[0]\n",
    "    #     surAys.append(ref)\n",
    "\n",
    "print(len(rep))\n",
    "# print(rep)\n",
    "rep\n",
    "\n",
    "# with open(\"/mnt/f/Documents/notes/Ref/iamb.mystery3.md\", 'w') as f:\n",
    "#     # for surAy in surAys:\n",
    "#     f.write(rep)"
   ]
  },
  {
   "cell_type": "code",
   "execution_count": 167,
   "metadata": {},
   "outputs": [
    {
     "name": "stdout",
     "output_type": "stream",
     "text": [
      "141 141\n"
     ]
    }
   ],
   "source": [
    "import re\n",
    "\n",
    "with open(\"/mnt/f/Documents/notes/Ref/iamb.mystery3.md\") as f:\n",
    "    strn1 = f.read()\n",
    "\n",
    "matches1 = re.compile(\n",
    "    # '[#]{1,}\\s*[c]{0,1}\\d{1,}(?:\\.{0,1})\\d{0,}\\n'\n",
    "    # 'subtype=\"sec'\n",
    "    # '\\n#{1,2}\\s*[c]{0,1}(\\d{1,})\\.{0,1}(\\d{0,})\\n(.*?(?=\\n#|$))',\n",
    "    '\\n#{1,2}\\s*(\\d{1,})\\.(\\d{1,})(.*?(?=\\n#|$))',\n",
    "    re.DOTALL\n",
    ").findall(\n",
    "    strn1\n",
    ")\n",
    "\n",
    "\n",
    "with open(\"/mnt/f/Documents/notes/Ref/iamb.myst/096.html\") as f:\n",
    "    strn2 = f.read()\n",
    "\n",
    "matches2 = re.compile(\n",
    "    # '[#]{1,}\\s*[c]{0,1}\\d{1,}(?:\\.{0,1})\\d{0,}\\n'\n",
    "    # 'subtype=\"sec'\n",
    "    # '\\n#{1,2}\\s*[c]{0,1}(\\d{1,})\\.{0,1}(\\d{0,})\\n(.*?(?=\\n#|$))',\n",
    "    'CHAP\\.\\s[0IVX]*(.*?)(?=CHAP\\.\\s|$)',\n",
    "    re.DOTALL\n",
    ").findall(\n",
    "    strn2\n",
    ")\n",
    "\n",
    "# n = 94\n",
    "print(\n",
    "    len(matches1),\n",
    "    len(matches2)\n",
    "    #   +n\n",
    "      )\n",
    "\n",
    "# matches1\n",
    "strNew = ''\n",
    "for n in range(len(matches1)):\n",
    "    # if n == len(matches1)-1:\n",
    "        # print(\n",
    "        #     matches1[n],\n",
    "        #     matches2[n]\n",
    "        #     )\n",
    "    strNew += f'\\n\\n## {matches1[n][0]}.{matches1[n][1]}\\n{matches1[n][2]}\\n{matches2[n]}'\n",
    "\n",
    "# print(strNew)\n",
    "with open('/mnt/f/Documents/notes/Ref/iamb.myst4.md', 'w') as f:\n",
    "    f.write(strNew)"
   ]
  },
  {
   "cell_type": "code",
   "execution_count": 12,
   "metadata": {},
   "outputs": [
    {
     "data": {
      "text/plain": [
       "141"
      ]
     },
     "execution_count": 12,
     "metadata": {},
     "output_type": "execute_result"
    }
   ],
   "source": [
    "import re\n",
    "\n",
    "with open('/mnt/f/Documents/notes/Ref/iamb.MEg.md') as f:\n",
    "    strn1 = f.read()\n",
    "\n",
    "matches = re.compile(\n",
    "    '\\n##\\s\\d*\\.\\d*'\n",
    ").findall(\n",
    "    strn1\n",
    ")\n",
    "\n",
    "len(matches)"
   ]
  },
  {
   "cell_type": "code",
   "execution_count": 10,
   "metadata": {},
   "outputs": [
    {
     "name": "stdout",
     "output_type": "stream",
     "text": [
      "139\n"
     ]
    }
   ],
   "source": [
    "import re\n",
    "\n",
    "with open(\"/mnt/f/Documents/notes/Ref/iamb.MEg.md\") as f:\n",
    "    strn1 = f.read()\n",
    "\n",
    "matches = re.compile(\n",
    "    '(\\n##\\s\\d*\\.\\d*\\n)([^#a-zA-Z]*?(?=[a-zA-Z]))([^#]*(?=\\n#|$))',\n",
    "    re.DOTALL\n",
    ").findall(\n",
    "    strn1\n",
    ")\n",
    "\n",
    "print(\n",
    "    # matches\n",
    "    len(matches)\n",
    ")\n",
    "\n",
    "strnNew = ''\n",
    "\n",
    "for match in matches:\n",
    "    strnNew += match[0]\n",
    "    secs = re.compile(\n",
    "        # '[#]{1,}\\s*[c]{0,1}\\d{1,}(?:\\.{0,1})\\d{0,}\\n'\n",
    "        # 'subtype=\"sec'\n",
    "        # '\\n#{1,2}\\s*[c]{0,1}(\\d{1,})\\.{0,1}(\\d{0,})\\n(.*?(?=\\n#|$))',\n",
    "        '([^#\\.0-9a-zA-Z]{1,}\\.)',\n",
    "        re.DOTALL\n",
    "    ).findall(\n",
    "        match[1]\n",
    "    )\n",
    "\n",
    "    # print(secs)\n",
    "\n",
    "    matchUpd = ''\n",
    "    for n in range(len(secs)):\n",
    "        secu = secs[n].strip('\\n').strip(' ')\n",
    "        matchUpd += f'\\n\\n### {n+1}\\n\\n#### gr\\n\\n{secu}\\n\\n#### en\\n\\n#### sn\\n\\n{secu}\\n\\n#### ar\\n\\n{secu}\\n\\n'\n",
    "    \n",
    "    # print('--------------------', matchUpd)\n",
    "\n",
    "    strnNew += matchUpd\n",
    "\n",
    "    strnNew += match[2]\n",
    "# ).sub(\n",
    "#     '### \\n#### gr\\\\1\\n\\n#### en \\n\\n#### sn\\n\\n\\\\1\\n\\n#### ar\\n\\n\\\\1',\n",
    "#     strn1\n",
    "# )\n",
    "\n",
    "# matches1\n",
    "# strn1\n",
    "with open('/mnt/f/Documents/notes/Ref/iamb.MEg2.md', 'w') as f:\n",
    "    f.write(strnNew)"
   ]
  },
  {
   "cell_type": "code",
   "execution_count": 9,
   "metadata": {},
   "outputs": [],
   "source": [
    "strn1"
   ]
  },
  {
   "cell_type": "markdown",
   "metadata": {},
   "source": [
    "[notes/filename](/mnt/f/Documents/notes/001_eskaton/001_chhatak/mejo_mama/Ghulat/a'jamī/A'jamī_Foreign_words_vocab_in_quran.md)"
   ]
  },
  {
   "cell_type": "markdown",
   "metadata": {},
   "source": [
    "[notes/filename](/mnt/f/Documents/notes/001_eskaton/001_chhatak/mejo_mama/Ghulat/a'jamī/Farsi_persian_iranian.md)"
   ]
  },
  {
   "cell_type": "code",
   "execution_count": 15,
   "metadata": {},
   "outputs": [
    {
     "name": "stdout",
     "output_type": "stream",
     "text": [
      "'sorter.json' found'\n",
      "last item in sorter: 110:3\n",
      "successfully loaded sorter of length 6236 from 'sorter.json'\n",
      "142\n"
     ]
    }
   ],
   "source": [
    "# from qChronolyze import getSorter\n",
    "# sorter = getSorter()\n",
    "\n",
    "# import re\n",
    "\n",
    "# with open(\"/mnt/f/Documents/notes/001_eskaton/001_chhatak/mejo_mama/Ghulat/a'jamī/A'jamī_Foreign_words_vocab_in_quran.md\") as f:\n",
    "#     strn1 = f.read()\n",
    "# with open(\"data/compare/foreign.md\") as f:\n",
    "#     strn2 = f.read()\n",
    "\n",
    "# # matches = re.findall(\"(\\d{1,3})\\:(\\d{1,3})\", strn)\n",
    "\n",
    "# # matches\n",
    "    \n",
    "# # print(strn1)\n",
    "# # print(strn2)\n",
    "\n",
    "# surAys = []\n",
    "\n",
    "# for surAy in sorter:\n",
    "#     refs = re.compile('(?<=#\\s)'+surAy+'(?=[\\n$])', re.DOTALL).findall(strn1)\n",
    "#     if len(refs) > 0:\n",
    "#         ref = refs[0]\n",
    "#         surAys.append(ref)\n",
    "#     refs = re.compile('(?<=#\\s)'+surAy+'(?=[\\n$])', re.DOTALL).findall(strn2)\n",
    "#     if len(refs) > 0 and refs[0] not in surAys:\n",
    "#         ref = refs[0]\n",
    "#         surAys.append(ref)\n",
    "\n",
    "# print(len(surAys))\n",
    "\n",
    "# with open(\"data/compare/foreign_new.md\", 'a') as f:        \n",
    "#     for surAy in surAys:\n",
    "#         refs = re.compile(\"#\\s*\"+surAy+\"\\n.*?\\n(?=(?:#\\s\\d{1,3}\\:\\d{1,3}\\n|$))\", re.DOTALL).findall(strn1)\n",
    "#         if len(refs) > 0:\n",
    "#             f.write(refs[0])\n",
    "#         if len(refs) == 0:\n",
    "#             f.write(\n",
    "#                 '# '+surAy+'\\n'+\n",
    "#                 '![[Qsortedrukued#'+surAy+']]\\n'\n",
    "#             )"
   ]
  },
  {
   "cell_type": "code",
   "execution_count": null,
   "metadata": {},
   "outputs": [
    {
     "name": "stdout",
     "output_type": "stream",
     "text": [
      "'sorter.json' found'\n",
      "last item in sorter: 110:3\n",
      "successfully loaded sorter of length 6236 from 'sorter.json'\n"
     ]
    }
   ],
   "source": [
    "# from qChronolyze import getSorter\n",
    "# sorter = getSorter()\n",
    "\n",
    "# import re\n",
    "\n",
    "# with open(\"data/compare/foreign.txt\") as f:\n",
    "#     strn = f.read()\n",
    "\n",
    "# # matches = re.findall(\"(\\d{1,3})\\:(\\d{1,3})\", strn)\n",
    "\n",
    "# # matches\n",
    "\n",
    "# surAys = []\n",
    "\n",
    "# for surAy in sorter:\n",
    "#     refs = re.compile('(?<=[\\n\\^])'+surAy+'(?=[\\n$])', re.DOTALL).findall(strn)\n",
    "#     if len(refs) > 0:\n",
    "#         ref = refs[0]\n",
    "#         surAys.append(ref)\n",
    "\n",
    "# with open(\"data/compare/foreign.md\", 'a') as f:\n",
    "#     for surAy in surAys:\n",
    "#         f.write(\n",
    "#             '# '+surAy+'\\n'+\n",
    "#             '![[Qsortedrukued#'+surAy+']]\\n'\n",
    "#         )"
   ]
  },
  {
   "cell_type": "code",
   "execution_count": 7,
   "metadata": {},
   "outputs": [],
   "source": [
    "# import re\n",
    "\n",
    "# with open(\"data/ref/to.txt\") as f:\n",
    "#     strn = f.read()\n",
    "\n",
    "# matches = re.findall(\"(\\S*) verse (\\d{1,3})\", strn)\n",
    "\n",
    "# matches\n",
    "\n",
    "# with open(\"data/compare/foreign.txt\", 'a') as f:\n",
    "#     for match in matches:\n",
    "#         f.write(match[0]+':'+match[1]+'\\n')"
   ]
  },
  {
   "cell_type": "code",
   "execution_count": 189,
   "metadata": {},
   "outputs": [
    {
     "name": "stdout",
     "output_type": "stream",
     "text": [
      "'sorter.json' found'\n",
      "last item in sorter: 110:3\n",
      "successfully loaded sorter of length 6236 from 'sorter.json'\n",
      "45\n"
     ]
    }
   ],
   "source": [
    "# from qChronolyze import getSorter\n",
    "# sorter = getSorter()\n",
    "\n",
    "# import re\n",
    "# with open(\"/mnt/f/Documents/notes/001_eskaton/001_chhatak/mejo_mama/Ghulat/a'jamī/A'jamī_Foreign_words_vocab_in_quran.md\") as f:\n",
    "#     strn = f.read()\n",
    "\n",
    "# surAys = []\n",
    "\n",
    "# for surAy in sorter:\n",
    "#     refs = re.compile(\"#\\s*\"+surAy+\"\\n.*?\\n(?=(?:#\\s\\d{1,3}\\:\\d{1,3}\\n|$))\", re.DOTALL).findall(strn)\n",
    "#     if len(refs) > 0:\n",
    "#         ref = \"\\n\".join(refs)\n",
    "#         surAys.append(ref)\n",
    "\n",
    "# print(len(surAys))\n",
    "# surAys\n",
    "\n",
    "# with open(\"/mnt/f/Documents/notes/001_eskaton/001_chhatak/mejo_mama/Ghulat/a'jamī/A'jamī_Foreign_words_vocab_in_quran_new.md\", 'a') as f:\n",
    "#     for ref in surAys:\n",
    "#         f.write(ref+'\\n')"
   ]
  },
  {
   "cell_type": "code",
   "execution_count": null,
   "metadata": {},
   "outputs": [],
   "source": [
    "# import re\n",
    "# with open(\"/mnt/f/Documents/notes/001_eskaton/001_chhatak/mejo_mama/Ghulat/a'jamī/Farsi_persian_iranian.md\") as f:\n",
    "#     # matches = re.compile(r'\\[Q#s(\\d{1})#*(\\d{1})\\]').findall(f.read())\n",
    "#     # print(matches)\n",
    "#     matches = re.compile(r\"(?<=[\\n\\^])(?:!\\[\\[A'jamī_Foreign_words_vocab_in_quran.*\\]\\]|(?<=[\\n\\^])#\\s*.*?(?=[\\n$]))\").findall(f.read())\n",
    "#     # substr = re.compile(r'(?:\\[.*\\]|)').sub('', f.read())\n",
    "#     # print(substr)\n",
    "#     # re.findall\n",
    "# with open(\"/mnt/f/Documents/notes/001_eskaton/001_chhatak/mejo_mama/Ghulat/a'jamī/Farsi_persian_iranian_new.md\", 'a') as f:\n",
    "#     for match in matches:\n",
    "#         f.write(match+'\\n')\n",
    "# # matches"
   ]
  },
  {
   "cell_type": "code",
   "execution_count": 46,
   "metadata": {},
   "outputs": [],
   "source": [
    "# import re\n",
    "# with open('/mnt/f/Documents/notes/001_eskaton/001_chhatak/mejo_mama/Ghulat/umm_l_kitab.md') as f:\n",
    "#     # matches = re.compile(r'\\[Q#s(\\d{1})#*(\\d{1})\\]').findall(f.read())\n",
    "#     # print(matches)\n",
    "#     substr = re.compile(r'\\[Q#s(\\d{1,})#*(\\d{1,})\\]').sub('[Qsorted#\\\\1:\\\\2]', f.read())\n",
    "#     # print(substr)\n",
    "# with open('data/ref/test.md', 'w') as f:\n",
    "#     f.write(substr)"
   ]
  },
  {
   "cell_type": "code",
   "execution_count": null,
   "metadata": {},
   "outputs": [],
   "source": [
    "# import os\n",
    "# import re\n",
    "\n",
    "# def list_files_recursive(path='.'):\n",
    "# \tfor entry in os.listdir(path):\n",
    "# \t\tfull_path = os.path.join(path, entry)\n",
    "# \t\tif os.path.isdir(full_path):\n",
    "# \t\t\tlist_files_recursive(full_path)\n",
    "# \t\telse:\n",
    "# \t\t\t# print(full_path[-3:])\n",
    "# \t\t\tif full_path[-3:] == '.md':\n",
    "# \t\t\t    # print(full_path)\n",
    "# \t\t\t\twith open(full_path) as f:\n",
    "# \t\t\t\t\tstrng = f.read()\n",
    "# \t\t\t\t\tmatches = re.compile(r'\\[Q#s(\\d{1,})#*(\\d{1,})\\]').findall(strng)\n",
    "# \t\t\t\t\tif len(matches) > 0:\n",
    "# \t\t\t\t\t# if True:\n",
    "# \t\t\t\t\t\t# print(len(matches))\n",
    "# \t\t\t\t\t# print(matches)\n",
    "# \t\t\t\t\t\tsubstr = re.compile(r'\\[Q#s(\\d{1,})#*(\\d{1,})\\]').sub('[Qsorted#\\\\1:\\\\2]', strng)\n",
    "# \t\t\t\t\t\t# print(substr)\n",
    "# \t\t\t\t\t\twith open(full_path, 'w') as f:\n",
    "# \t\t\t\t\t\t\tf.write(substr)\n",
    "\n",
    "# # Specify the directory path you want to start from\n",
    "# directory_path = '/mnt/f/Documents/notes'\n",
    "# list_files_recursive(directory_path)\n"
   ]
  },
  {
   "cell_type": "markdown",
   "metadata": {},
   "source": [
    "# surayed"
   ]
  },
  {
   "cell_type": "code",
   "execution_count": 34,
   "metadata": {},
   "outputs": [
    {
     "name": "stdout",
     "output_type": "stream",
     "text": [
      "بِسْمِ ٱللَّهِ \n"
     ]
    }
   ],
   "source": [
    "with open('data/ref/uthmani-qurancom.md') as f:\n",
    "    qStr=f.read()\n",
    "print(qStr[55:70])"
   ]
  },
  {
   "cell_type": "code",
   "execution_count": 35,
   "metadata": {},
   "outputs": [],
   "source": [
    "import  re\n",
    "\n",
    "serial_ayah_pair = re.compile('#\\s*(\\d*)[\\n\\s]*(.*)(?=[\\n\\s]*[#]*)').findall(qStr)\n",
    "# re.compile('#\\s*(\\d*)').sub(qStr)"
   ]
  },
  {
   "cell_type": "code",
   "execution_count": 36,
   "metadata": {},
   "outputs": [],
   "source": [
    "import json\n",
    "with open('qdict.json') as f:\n",
    "    qDict = json.loads(f.read())"
   ]
  },
  {
   "cell_type": "code",
   "execution_count": 37,
   "metadata": {},
   "outputs": [
    {
     "data": {
      "text/plain": [
       "6236"
      ]
     },
     "execution_count": 37,
     "metadata": {},
     "output_type": "execute_result"
    }
   ],
   "source": [
    "len(serial_ayah_pair)"
   ]
  },
  {
   "cell_type": "code",
   "execution_count": 38,
   "metadata": {},
   "outputs": [
    {
     "data": {
      "text/plain": [
       "dict_keys(['1', '2', '3', '4', '5', '6', '7', '8', '9', '10', '11', '12', '13', '14', '15', '16', '17', '18', '19', '20', '21', '22', '23', '24', '25', '26', '27', '28', '29', '30', '31', '32', '33', '34', '35', '36', '37', '38', '39', '40', '41', '42', '43', '44', '45', '46', '47', '48', '49', '50', '51', '52', '53', '54', '55', '56', '57', '58', '59', '60', '61', '62', '63', '64', '65', '66', '67', '68', '69', '70', '71', '72', '73', '74', '75', '76', '77', '78', '79', '80', '81', '82', '83', '84', '85', '86', '87', '88', '89', '90', '91', '92', '93', '94', '95', '96', '97', '98', '99', '100', '101', '102', '103', '104', '105', '106', '107', '108', '109', '110', '111', '112', '113', '114'])"
      ]
     },
     "execution_count": 38,
     "metadata": {},
     "output_type": "execute_result"
    }
   ],
   "source": [
    "qDict.keys()"
   ]
  },
  {
   "cell_type": "code",
   "execution_count": 39,
   "metadata": {},
   "outputs": [],
   "source": [
    "sur = 1\n",
    "ay = 1\n",
    "# ser = 1\n",
    "no_ayah_pairs = {}\n",
    "\n",
    "for pair in serial_ayah_pair:\n",
    "    no_ayah_pairs[f'{sur}:{ay}'] = pair[1]\n",
    "    ay += 1\n",
    "    if ay > qDict[str(sur)]['verse_count']:\n",
    "        sur += 1\n",
    "        ay = 1"
   ]
  },
  {
   "cell_type": "code",
   "execution_count": 40,
   "metadata": {},
   "outputs": [
    {
     "name": "stdout",
     "output_type": "stream",
     "text": [
      "بِسْمِ ٱللَّهِ \n"
     ]
    }
   ],
   "source": [
    "with open('data/ref/uthmani-qurancom.md') as f:\n",
    "    qStr=f.read()\n",
    "print(qStr[55:70])"
   ]
  },
  {
   "cell_type": "code",
   "execution_count": 41,
   "metadata": {},
   "outputs": [],
   "source": [
    "saQstr = ''\n",
    "for suray, vrs in no_ayah_pairs.items():\n",
    "    if suray.split(':')[1] == \"1\":\n",
    "        sur = suray.split(':')[0]\n",
    "        # print(sur)\n",
    "        saQstr += f'# s{sur}\\n\\n' + f'{qDict[str(sur)][\"surah_name\"]}\\n\\n'\n",
    "    saQstr += f'### {suray}\\n\\n{vrs}\\n\\n'"
   ]
  },
  {
   "cell_type": "code",
   "execution_count": 42,
   "metadata": {},
   "outputs": [],
   "source": [
    "with open('data/ref/QSAed.md', 'w') as f:\n",
    "    f.write(saQstr)"
   ]
  },
  {
   "cell_type": "markdown",
   "metadata": {},
   "source": [
    "# rukued"
   ]
  },
  {
   "cell_type": "code",
   "execution_count": 43,
   "metadata": {},
   "outputs": [],
   "source": [
    "import re\n",
    "with open('rukus4.txt') as f:\n",
    "    rukuStr = f.read()\n",
    "\n",
    "rukus = rukuStr.split('\\n')"
   ]
  },
  {
   "cell_type": "code",
   "execution_count": 44,
   "metadata": {},
   "outputs": [
    {
     "data": {
      "text/plain": [
       "(554, '114:1:1-6')"
      ]
     },
     "execution_count": 44,
     "metadata": {},
     "output_type": "execute_result"
    }
   ],
   "source": [
    "len(rukus),  rukus[-1]"
   ]
  },
  {
   "cell_type": "code",
   "execution_count": 50,
   "metadata": {},
   "outputs": [],
   "source": [
    "with open('data/ref/QSAed.md') as f:\n",
    "    q = f.read()\n",
    "\n",
    "qRukued = q\n",
    "\n",
    "# count = 0\n",
    "import re\n",
    "for ruku in rukus:\n",
    "    surah = ruku.split(\":\")[0]\n",
    "    rukuno = ruku.split(\":\")[1]\n",
    "    rukuStartAyah = ruku.split(\":\")[2].split(\"-\")[0]\n",
    "    rukuEndAyah = ruku.split(\":\")[2].split(\"-\")[1]\n",
    "    surahAyah = f'### {surah}:{rukuStartAyah}'\n",
    "    # match = re.compile(surahAyah).search(q).group()\n",
    "    # match = re.search(surahAyah, q).group()\n",
    "    # match = re.findall(\n",
    "    #     surahAyah+'(?=[\\n$])', \n",
    "    #     q\n",
    "    # )\n",
    "    # count += len(match)\n",
    "    # print(match)\n",
    "    qRukued =  re.compile(\n",
    "        f'{surahAyah}(?=[\\n$])'\n",
    "    ).sub(\n",
    "        f'\\n## r{surah}.{rukuno}\\n'\n",
    "        + f'\\n[Q.{surah}.{rukuStartAyah}-{rukuEndAyah}]'\n",
    "        + f'(https://www.islamicstudies.info/tafheem.php?sura={surah}&verse={rukuStartAyah}&to={rukuEndAyah})\\n'\n",
    "        + f'\\n{surahAyah}',\n",
    "        qRukued\n",
    "    )\n",
    "# print(count)"
   ]
  },
  {
   "cell_type": "code",
   "execution_count": 51,
   "metadata": {},
   "outputs": [],
   "source": [
    "with open('data/ref/QRed.md', 'w') as f:\n",
    "    f.write(qRukued)"
   ]
  },
  {
   "cell_type": "markdown",
   "metadata": {},
   "source": [
    "# rsed"
   ]
  },
  {
   "cell_type": "code",
   "execution_count": 294,
   "metadata": {},
   "outputs": [
    {
     "name": "stdout",
     "output_type": "stream",
     "text": [
      "ِ ٱللَّهِ ٱلرَّحْمَـٰنِ ٱلرَّح\n"
     ]
    }
   ],
   "source": [
    "with open('data/ref/QRed.md') as f:\n",
    "    qStr=f.read()\n",
    "print(qStr[120:150])"
   ]
  },
  {
   "cell_type": "code",
   "execution_count": 56,
   "metadata": {},
   "outputs": [],
   "source": [
    "with open('sorter.json') as f:\n",
    "    sorter = json.loads(f.read())"
   ]
  },
  {
   "cell_type": "code",
   "execution_count": 298,
   "metadata": {},
   "outputs": [
    {
     "data": {
      "text/plain": [
       "'110:3'"
      ]
     },
     "execution_count": 298,
     "metadata": {},
     "output_type": "execute_result"
    }
   ],
   "source": [
    "sorter[-1]"
   ]
  },
  {
   "cell_type": "code",
   "execution_count": 295,
   "metadata": {},
   "outputs": [],
   "source": [
    "import  re\n",
    "\n",
    "no_ayah_pair = re.compile('###\\s*(\\d*\\:\\d*)[\\n\\s]*(.*)(?=[\\n\\s]*[#]*)').findall(qStr)"
   ]
  },
  {
   "cell_type": "code",
   "execution_count": 296,
   "metadata": {},
   "outputs": [
    {
     "data": {
      "text/plain": [
       "6236"
      ]
     },
     "execution_count": 296,
     "metadata": {},
     "output_type": "execute_result"
    }
   ],
   "source": [
    "len(no_ayah_pair)"
   ]
  },
  {
   "cell_type": "code",
   "execution_count": 297,
   "metadata": {},
   "outputs": [
    {
     "data": {
      "text/plain": [
       "('1:1', 'بِسْمِ ٱللَّهِ ٱلرَّحْمَـٰنِ ٱلرَّحِيمِ')"
      ]
     },
     "execution_count": 297,
     "metadata": {},
     "output_type": "execute_result"
    }
   ],
   "source": [
    "no_ayah_pair[0]"
   ]
  },
  {
   "cell_type": "code",
   "execution_count": 313,
   "metadata": {},
   "outputs": [],
   "source": [
    "with open('qDict.json') as f:\n",
    "    qSurList = list(json.loads(f.read()).keys())\n",
    "\n",
    "# print(qDict.keys())\n",
    "# print(qSurList)\n",
    "\n",
    "import re\n",
    "\n",
    "with open('rukus4.txt') as f:\n",
    "    rukuStr = f.read()\n",
    "\n",
    "surRukStrts = {}\n",
    "\n",
    "for sur in qSurList:\n",
    "    rukStrts = re.compile(\n",
    "            \"[\\n](?:\"+sur+r\"\\:\\d{1,2}\\:)(\\d{1,})(?:\\-\\d{1,3})\"\n",
    "            ).findall(\n",
    "                rukuStr\n",
    "    )\n",
    "    surRukStrts[sur] = rukStrts\n",
    "# rukuDict = {}"
   ]
  },
  {
   "cell_type": "code",
   "execution_count": null,
   "metadata": {},
   "outputs": [],
   "source": [
    "print(surRukStrts)"
   ]
  },
  {
   "cell_type": "code",
   "execution_count": 272,
   "metadata": {},
   "outputs": [
    {
     "name": "stdout",
     "output_type": "stream",
     "text": [
      "554\n"
     ]
    }
   ],
   "source": [
    "rukustrts = [ subrow for row in surRukStrts.values() for subrow in row ]\n",
    "print(len(rukustrts))"
   ]
  },
  {
   "cell_type": "code",
   "execution_count": 304,
   "metadata": {},
   "outputs": [
    {
     "data": {
      "text/plain": [
       "('1',)"
      ]
     },
     "execution_count": 304,
     "metadata": {},
     "output_type": "execute_result"
    }
   ],
   "source": [
    "import re\n",
    "re.search(\n",
    "    \"\\n(1)\\n\",\n",
    "    \"\\n1\\n\"\n",
    ").groups()"
   ]
  },
  {
   "cell_type": "code",
   "execution_count": null,
   "metadata": {},
   "outputs": [],
   "source": [
    "qRSed = ''\n",
    "import re\n",
    "for surAy in sorter:\n",
    "    sur = surAy.split(\":\")[0]\n",
    "    ay = surAy.split(\":\")[1]\n",
    "    if ay == \"1\":\n",
    "        qRSed += f'\\n# s{sur}\\n'\n",
    "    if ay in surRukStrts[sur]:\n",
    "        rukno = surRukStrts[sur].index(ay)+1\n",
    "        rukuStartAyah = ay\n",
    "        # rukuEndAyah = surRukStrts[sur][rukno] - 1\n",
    "        match = re.findall(\n",
    "            '\\n'+sur+'\\:\\d{1,}\\:'+ay+'-(\\d{1,})\\n',\n",
    "            rukuStr\n",
    "        )\n",
    "        # print(sur,ay,match)\n",
    "        rukuEndAyah = match[0]\n",
    "        qRSed += f'\\n## r{sur}.{str(rukno)}\\n' + f'\\n[Q.{sur}.{rukuStartAyah}-{rukuEndAyah}](https://www.islamicstudies.info/tafheem.php?sura={sur}&verse={rukuStartAyah}&to={rukuEndAyah})\\n'\n",
    "    qRSed += f'\\n### {surAy}\\n' + f'\\n{no_ayah_pairs[surAy]}\\n'"
   ]
  },
  {
   "cell_type": "code",
   "execution_count": 315,
   "metadata": {},
   "outputs": [],
   "source": [
    "with open('data/ref/Qrsed.md', 'w') as f:\n",
    "    f.write(qRSed)"
   ]
  }
 ],
 "metadata": {
  "kernelspec": {
   "display_name": "mlCond",
   "language": "python",
   "name": "python3"
  },
  "language_info": {
   "codemirror_mode": {
    "name": "ipython",
    "version": 3
   },
   "file_extension": ".py",
   "mimetype": "text/x-python",
   "name": "python",
   "nbconvert_exporter": "python",
   "pygments_lexer": "ipython3",
   "version": "3.9.18"
  }
 },
 "nbformat": 4,
 "nbformat_minor": 2
}
