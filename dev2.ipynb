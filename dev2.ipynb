{
 "cells": [
  {
   "cell_type": "markdown",
   "metadata": {},
   "source": [
    "# md"
   ]
  },
  {
   "cell_type": "code",
   "execution_count": null,
   "metadata": {},
   "outputs": [
    {
     "name": "stdout",
     "output_type": "stream",
     "text": [
      "بِسْمِ ٱللَّهِ \n"
     ]
    }
   ],
   "source": [
    "with open('data/ref/uthmani-qurancom.md') as f:\n",
    "    qStr=f.read()\n",
    "print(qStr[55:70])"
   ]
  },
  {
   "cell_type": "code",
   "execution_count": null,
   "metadata": {},
   "outputs": [],
   "source": [
    "import  re\n",
    "\n",
    "serial_ayah_pair = re.compile('#\\s*(\\d*)[\\n\\s]*(.*)(?=[\\n\\s]*[#]*)').findall(qStr)\n",
    "# re.compile('#\\s*(\\d*)').sub(qStr)"
   ]
  },
  {
   "cell_type": "code",
   "execution_count": null,
   "metadata": {},
   "outputs": [],
   "source": [
    "import json\n",
    "with open('qdict.json') as f:\n",
    "    qDict = json.loads(f.read())"
   ]
  },
  {
   "cell_type": "code",
   "execution_count": null,
   "metadata": {},
   "outputs": [
    {
     "data": {
      "text/plain": [
       "6236"
      ]
     },
     "metadata": {},
     "output_type": "display_data"
    }
   ],
   "source": [
    "len(serial_ayah_pair)"
   ]
  },
  {
   "cell_type": "code",
   "execution_count": null,
   "metadata": {},
   "outputs": [
    {
     "data": {
      "text/plain": [
       "dict_keys(['1', '2', '3', '4', '5', '6', '7', '8', '9', '10', '11', '12', '13', '14', '15', '16', '17', '18', '19', '20', '21', '22', '23', '24', '25', '26', '27', '28', '29', '30', '31', '32', '33', '34', '35', '36', '37', '38', '39', '40', '41', '42', '43', '44', '45', '46', '47', '48', '49', '50', '51', '52', '53', '54', '55', '56', '57', '58', '59', '60', '61', '62', '63', '64', '65', '66', '67', '68', '69', '70', '71', '72', '73', '74', '75', '76', '77', '78', '79', '80', '81', '82', '83', '84', '85', '86', '87', '88', '89', '90', '91', '92', '93', '94', '95', '96', '97', '98', '99', '100', '101', '102', '103', '104', '105', '106', '107', '108', '109', '110', '111', '112', '113', '114'])"
      ]
     },
     "metadata": {},
     "output_type": "display_data"
    }
   ],
   "source": [
    "qDict.keys()"
   ]
  },
  {
   "cell_type": "code",
   "execution_count": null,
   "metadata": {},
   "outputs": [],
   "source": [
    "sur = 1\n",
    "ay = 1\n",
    "# ser = 1\n",
    "no_ayah_pairs = {}\n",
    "\n",
    "for pair in serial_ayah_pair:\n",
    "    no_ayah_pairs[f'{sur}:{ay}'] = pair[1]\n",
    "    ay += 1\n",
    "    if ay > qDict[str(sur)]['verse_count']:\n",
    "        sur += 1\n",
    "        ay = 1"
   ]
  },
  {
   "cell_type": "code",
   "execution_count": null,
   "metadata": {},
   "outputs": [
    {
     "data": {
      "text/plain": [
       "6236"
      ]
     },
     "metadata": {},
     "output_type": "display_data"
    }
   ],
   "source": [
    "len(no_ayah_pairs)"
   ]
  },
  {
   "cell_type": "code",
   "execution_count": null,
   "metadata": {},
   "outputs": [],
   "source": [
    "with open('sorter.json') as f:\n",
    "    sorter = json.loads(f.read())"
   ]
  },
  {
   "cell_type": "code",
   "execution_count": null,
   "metadata": {},
   "outputs": [
    {
     "data": {
      "text/plain": [
       "'110:3'"
      ]
     },
     "metadata": {},
     "output_type": "display_data"
    }
   ],
   "source": [
    "sorter[-1]"
   ]
  },
  {
   "cell_type": "code",
   "execution_count": null,
   "metadata": {},
   "outputs": [],
   "source": [
    "sortedAyVrs = {}\n",
    "for suray in sorter:\n",
    "    sortedAyVrs[suray] = no_ayah_pairs[suray]"
   ]
  },
  {
   "cell_type": "code",
   "execution_count": null,
   "metadata": {},
   "outputs": [],
   "source": [
    "sortedQstr = ''\n",
    "sur=sorter[0].split(':')[0]\n",
    "for suray, vrs in sortedAyVrs.items():\n",
    "    if suray.split(':')[1] == \"1\":\n",
    "        sur = suray.split(':')[0]\n",
    "        # print(sur)\n",
    "        sortedQstr += f'# s{sur}\\n\\n' + f'{qDict[str(sur)][\"surah_name\"]}\\n\\n'\n",
    "    sortedQstr += f'## {suray}\\n\\n{vrs}\\n\\n'"
   ]
  },
  {
   "cell_type": "code",
   "execution_count": null,
   "metadata": {},
   "outputs": [
    {
     "data": {
      "text/plain": [
       "'# s96\\n\\nThe Clot\\n\\n## '"
      ]
     },
     "metadata": {},
     "output_type": "display_data"
    }
   ],
   "source": [
    "sortedQstr[:20]"
   ]
  },
  {
   "cell_type": "code",
   "execution_count": null,
   "metadata": {},
   "outputs": [],
   "source": [
    "with open('data/ref/Qsorted.md', 'w') as f:\n",
    "    f.write(sortedQstr)"
   ]
  },
  {
   "cell_type": "markdown",
   "metadata": {},
   "source": [
    "# obsidian edit"
   ]
  },
  {
   "cell_type": "code",
   "execution_count": null,
   "metadata": {},
   "outputs": [],
   "source": [
    "import re\n",
    "with open('/mnt/f/Documents/notes/001_eskaton/001_chhatak/mejo_mama/Ghulat/umm_l_kitab.md') as f:\n",
    "    # matches = re.compile(r'\\[Q#s(\\d{1})#*(\\d{1})\\]').findall(f.read())\n",
    "    # print(matches)\n",
    "    substr = re.compile(r'\\[Q#s(\\d{1,})#*(\\d{1,})\\]').sub('[Qsorted#\\\\1:\\\\2]', f.read())\n",
    "    # print(substr)\n",
    "with open('data/ref/test.md', 'w') as f:\n",
    "    f.write(substr)"
   ]
  },
  {
   "cell_type": "code",
   "execution_count": null,
   "metadata": {},
   "outputs": [],
   "source": [
    "import os\n",
    "import re\n",
    "\n",
    "def list_files_recursive(path='.'):\n",
    "\tfor entry in os.listdir(path):\n",
    "\t\tfull_path = os.path.join(path, entry)\n",
    "\t\tif os.path.isdir(full_path):\n",
    "\t\t\tlist_files_recursive(full_path)\n",
    "\t\telse:\n",
    "\t\t\t# print(full_path[-3:])\n",
    "\t\t\tif full_path[-3:] == '.md':\n",
    "\t\t\t    # print(full_path)\n",
    "\t\t\t\twith open(full_path) as f:\n",
    "\t\t\t\t\tstrng = f.read()\n",
    "\t\t\t\t\tmatches = re.compile(r'\\[Q#s(\\d{1,})#*(\\d{1,})\\]').findall(strng)\n",
    "\t\t\t\t\tif len(matches) > 0:\n",
    "\t\t\t\t\t# if True:\n",
    "\t\t\t\t\t\t# print(len(matches))\n",
    "\t\t\t\t\t# print(matches)\n",
    "\t\t\t\t\t\tsubstr = re.compile(r'\\[Q#s(\\d{1,})#*(\\d{1,})\\]').sub('[Qsorted#\\\\1:\\\\2]', strng)\n",
    "\t\t\t\t\t\t# print(substr)\n",
    "\t\t\t\t\t\twith open(full_path, 'w') as f:\n",
    "\t\t\t\t\t\t\tf.write(substr)\n",
    "\n",
    "# Specify the directory path you want to start from\n",
    "directory_path = '/mnt/f/Documents/notes'\n",
    "list_files_recursive(directory_path)\n"
   ]
  }
 ],
 "metadata": {
  "language_info": {
   "name": "python"
  }
 },
 "nbformat": 4,
 "nbformat_minor": 2
}
