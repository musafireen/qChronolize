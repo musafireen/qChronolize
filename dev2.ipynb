{
 "cells": [
  {
   "cell_type": "markdown",
   "metadata": {},
   "source": [
    "# chrono"
   ]
  },
  {
   "cell_type": "code",
   "execution_count": 1,
   "metadata": {},
   "outputs": [
    {
     "name": "stdout",
     "output_type": "stream",
     "text": [
      "table style choosen for presentation.\n",
      "arabic language choosen for reference.\n",
      "'sorter.json' found'\n",
      "last item in sorter: 110:3\n",
      "successfully loaded sorter of length 6236 from 'sorter.json'\n",
      "proper data not found for isa\n",
      "\n",
      "total 25 instances found\n",
      "dataframe length: 25\n"
     ]
    },
    {
     "data": {
      "text/html": [
       "<style type=\"text/css\">\n",
       "#T_c7b06_row0_col0, #T_c7b06_row0_col1, #T_c7b06_row0_col2, #T_c7b06_row0_col3, #T_c7b06_row0_col4, #T_c7b06_row0_col5, #T_c7b06_row0_col6, #T_c7b06_row1_col0, #T_c7b06_row1_col1, #T_c7b06_row1_col2, #T_c7b06_row1_col3, #T_c7b06_row1_col4, #T_c7b06_row1_col5, #T_c7b06_row1_col6, #T_c7b06_row2_col0, #T_c7b06_row2_col1, #T_c7b06_row2_col2, #T_c7b06_row2_col3, #T_c7b06_row2_col4, #T_c7b06_row2_col5, #T_c7b06_row2_col6, #T_c7b06_row3_col0, #T_c7b06_row3_col1, #T_c7b06_row3_col2, #T_c7b06_row3_col3, #T_c7b06_row3_col4, #T_c7b06_row3_col5, #T_c7b06_row3_col6, #T_c7b06_row4_col0, #T_c7b06_row4_col1, #T_c7b06_row4_col2, #T_c7b06_row4_col3, #T_c7b06_row4_col4, #T_c7b06_row4_col5, #T_c7b06_row4_col6, #T_c7b06_row5_col0, #T_c7b06_row5_col1, #T_c7b06_row5_col2, #T_c7b06_row5_col3, #T_c7b06_row5_col4, #T_c7b06_row5_col5, #T_c7b06_row5_col6, #T_c7b06_row6_col0, #T_c7b06_row6_col1, #T_c7b06_row6_col2, #T_c7b06_row6_col3, #T_c7b06_row6_col4, #T_c7b06_row6_col5, #T_c7b06_row6_col6, #T_c7b06_row7_col0, #T_c7b06_row7_col1, #T_c7b06_row7_col2, #T_c7b06_row7_col3, #T_c7b06_row7_col4, #T_c7b06_row7_col5, #T_c7b06_row7_col6, #T_c7b06_row8_col0, #T_c7b06_row8_col1, #T_c7b06_row8_col2, #T_c7b06_row8_col3, #T_c7b06_row8_col4, #T_c7b06_row8_col5, #T_c7b06_row8_col6, #T_c7b06_row9_col0, #T_c7b06_row9_col1, #T_c7b06_row9_col2, #T_c7b06_row9_col3, #T_c7b06_row9_col4, #T_c7b06_row9_col5, #T_c7b06_row9_col6, #T_c7b06_row10_col0, #T_c7b06_row10_col1, #T_c7b06_row10_col2, #T_c7b06_row10_col3, #T_c7b06_row10_col4, #T_c7b06_row10_col5, #T_c7b06_row10_col6, #T_c7b06_row11_col0, #T_c7b06_row11_col1, #T_c7b06_row11_col2, #T_c7b06_row11_col3, #T_c7b06_row11_col4, #T_c7b06_row11_col5, #T_c7b06_row11_col6, #T_c7b06_row12_col0, #T_c7b06_row12_col1, #T_c7b06_row12_col2, #T_c7b06_row12_col3, #T_c7b06_row12_col4, #T_c7b06_row12_col5, #T_c7b06_row12_col6, #T_c7b06_row13_col0, #T_c7b06_row13_col1, #T_c7b06_row13_col2, #T_c7b06_row13_col3, #T_c7b06_row13_col4, #T_c7b06_row13_col5, #T_c7b06_row13_col6, #T_c7b06_row14_col0, #T_c7b06_row14_col1, #T_c7b06_row14_col2, #T_c7b06_row14_col3, #T_c7b06_row14_col4, #T_c7b06_row14_col5, #T_c7b06_row14_col6, #T_c7b06_row15_col0, #T_c7b06_row15_col1, #T_c7b06_row15_col2, #T_c7b06_row15_col3, #T_c7b06_row15_col4, #T_c7b06_row15_col5, #T_c7b06_row15_col6, #T_c7b06_row16_col0, #T_c7b06_row16_col1, #T_c7b06_row16_col2, #T_c7b06_row16_col3, #T_c7b06_row16_col4, #T_c7b06_row16_col5, #T_c7b06_row16_col6, #T_c7b06_row17_col0, #T_c7b06_row17_col1, #T_c7b06_row17_col2, #T_c7b06_row17_col3, #T_c7b06_row17_col4, #T_c7b06_row17_col5, #T_c7b06_row17_col6, #T_c7b06_row18_col0, #T_c7b06_row18_col1, #T_c7b06_row18_col2, #T_c7b06_row18_col3, #T_c7b06_row18_col4, #T_c7b06_row18_col5, #T_c7b06_row18_col6, #T_c7b06_row19_col0, #T_c7b06_row19_col1, #T_c7b06_row19_col2, #T_c7b06_row19_col3, #T_c7b06_row19_col4, #T_c7b06_row19_col5, #T_c7b06_row19_col6, #T_c7b06_row20_col0, #T_c7b06_row20_col1, #T_c7b06_row20_col2, #T_c7b06_row20_col3, #T_c7b06_row20_col4, #T_c7b06_row20_col5, #T_c7b06_row20_col6, #T_c7b06_row21_col0, #T_c7b06_row21_col1, #T_c7b06_row21_col2, #T_c7b06_row21_col3, #T_c7b06_row21_col4, #T_c7b06_row21_col5, #T_c7b06_row21_col6, #T_c7b06_row22_col0, #T_c7b06_row22_col1, #T_c7b06_row22_col2, #T_c7b06_row22_col3, #T_c7b06_row22_col4, #T_c7b06_row22_col5, #T_c7b06_row22_col6, #T_c7b06_row23_col0, #T_c7b06_row23_col1, #T_c7b06_row23_col2, #T_c7b06_row23_col3, #T_c7b06_row23_col4, #T_c7b06_row23_col5, #T_c7b06_row23_col6, #T_c7b06_row24_col0, #T_c7b06_row24_col1, #T_c7b06_row24_col2, #T_c7b06_row24_col3, #T_c7b06_row24_col4, #T_c7b06_row24_col5, #T_c7b06_row24_col6 {\n",
       "  background-color: rgb(100,70,20);\n",
       "  foreground-color: black;\n",
       "  color: black;\n",
       "  opacity: 1;\n",
       "}\n",
       "</style>\n",
       "<table id=\"T_c7b06\">\n",
       "  <thead>\n",
       "    <tr>\n",
       "      <th class=\"blank level0\" >&nbsp;</th>\n",
       "      <th id=\"T_c7b06_level0_col0\" class=\"col_heading level0 col0\" >verses_before</th>\n",
       "      <th id=\"T_c7b06_level0_col1\" class=\"col_heading level0 col1\" >surah:ayah</th>\n",
       "      <th id=\"T_c7b06_level0_col2\" class=\"col_heading level0 col2\" >position</th>\n",
       "      <th id=\"T_c7b06_level0_col3\" class=\"col_heading level0 col3\" >word</th>\n",
       "      <th id=\"T_c7b06_level0_col4\" class=\"col_heading level0 col4\" >meaning</th>\n",
       "      <th id=\"T_c7b06_level0_col5\" class=\"col_heading level0 col5\" >ayah_link</th>\n",
       "      <th id=\"T_c7b06_level0_col6\" class=\"col_heading level0 col6\" >query</th>\n",
       "    </tr>\n",
       "  </thead>\n",
       "  <tbody>\n",
       "    <tr>\n",
       "      <th id=\"T_c7b06_level0_row0\" class=\"row_heading level0 row0\" >0</th>\n",
       "      <td id=\"T_c7b06_row0_col0\" class=\"data row0 col0\" >1255</td>\n",
       "      <td id=\"T_c7b06_row0_col1\" class=\"data row0 col1\" >19:34</td>\n",
       "      <td id=\"T_c7b06_row0_col2\" class=\"data row0 col2\" >2</td>\n",
       "      <td id=\"T_c7b06_row0_col3\" class=\"data row0 col3\" >ʿīsā</td>\n",
       "      <td id=\"T_c7b06_row0_col4\" class=\"data row0 col4\" >(was) Isa</td>\n",
       "      <td id=\"T_c7b06_row0_col5\" class=\"data row0 col5\" ><a style='background-color:rgb(220,220,250);font-size:18px;color:rgb(0,0,150);' href='https://quran.com/19:34/tafsirs/ar-tafsir-al-tabari'> ذَٰلِكَ عِيسَى ابْنُ مَرْيَمَ قَوْلَ الْحَقِّ الَّذِي فِيهِ يَمْتَرُونَ</a></td>\n",
       "      <td id=\"T_c7b06_row0_col6\" class=\"data row0 col6\" > (Isa)</td>\n",
       "    </tr>\n",
       "    <tr>\n",
       "      <th id=\"T_c7b06_level0_row1\" class=\"row_heading level0 row1\" >1</th>\n",
       "      <td id=\"T_c7b06_row1_col0\" class=\"data row1 col0\" >2554</td>\n",
       "      <td id=\"T_c7b06_row1_col1\" class=\"data row1 col1\" >6:85</td>\n",
       "      <td id=\"T_c7b06_row1_col2\" class=\"data row1 col2\" >3</td>\n",
       "      <td id=\"T_c7b06_row1_col3\" class=\"data row1 col3\" >waʿīsā</td>\n",
       "      <td id=\"T_c7b06_row1_col4\" class=\"data row1 col4\" >and Isa</td>\n",
       "      <td id=\"T_c7b06_row1_col5\" class=\"data row1 col5\" ><a style='background-color:rgb(220,220,250);font-size:18px;color:rgb(0,0,150);' href='https://quran.com/6:85/tafsirs/ar-tafsir-al-tabari'> وَزَكَرِيَّا وَيَحْيَىٰ وَعِيسَىٰ وَإِلْيَاسَ كُلٌّ مِنَ الصَّالِحِينَ</a></td>\n",
       "      <td id=\"T_c7b06_row1_col6\" class=\"data row1 col6\" > (Isa)</td>\n",
       "    </tr>\n",
       "    <tr>\n",
       "      <th id=\"T_c7b06_level0_row2\" class=\"row_heading level0 row2\" >2</th>\n",
       "      <td id=\"T_c7b06_row2_col0\" class=\"data row2 col0\" >3120</td>\n",
       "      <td id=\"T_c7b06_row2_col1\" class=\"data row2 col1\" >42:13</td>\n",
       "      <td id=\"T_c7b06_row2_col2\" class=\"data row2 col2\" >17</td>\n",
       "      <td id=\"T_c7b06_row2_col3\" class=\"data row2 col3\" >waʿīsā</td>\n",
       "      <td id=\"T_c7b06_row2_col4\" class=\"data row2 col4\" >and Isa</td>\n",
       "      <td id=\"T_c7b06_row2_col5\" class=\"data row2 col5\" ><a style='background-color:rgb(220,220,250);font-size:18px;color:rgb(0,0,150);' href='https://quran.com/42:13/tafsirs/ar-tafsir-al-tabari'> وَمَا وَصَّيْنَا بِهِ إِبْرَاهِيمَ وَمُوسَىٰ وَعِيسَىٰ</a></td>\n",
       "      <td id=\"T_c7b06_row2_col6\" class=\"data row2 col6\" > (Isa)</td>\n",
       "    </tr>\n",
       "    <tr>\n",
       "      <th id=\"T_c7b06_level0_row3\" class=\"row_heading level0 row3\" >3</th>\n",
       "      <td id=\"T_c7b06_row3_col0\" class=\"data row3 col0\" >3218</td>\n",
       "      <td id=\"T_c7b06_row3_col1\" class=\"data row3 col1\" >43:63</td>\n",
       "      <td id=\"T_c7b06_row3_col2\" class=\"data row3 col2\" >3</td>\n",
       "      <td id=\"T_c7b06_row3_col3\" class=\"data row3 col3\" >ʿīsā</td>\n",
       "      <td id=\"T_c7b06_row3_col4\" class=\"data row3 col4\" >Isa</td>\n",
       "      <td id=\"T_c7b06_row3_col5\" class=\"data row3 col5\" ><a style='background-color:rgb(220,220,250);font-size:18px;color:rgb(0,0,150);' href='https://quran.com/43:63/tafsirs/ar-tafsir-al-tabari'> وَلَمَّا جَاءَ عِيسَىٰ بِالْبَيِّنَاتِ قَالَ قَدْ جِئْتُكُمْ بِالْحِكْمَةِ</a></td>\n",
       "      <td id=\"T_c7b06_row3_col6\" class=\"data row3 col6\" > (Isa)</td>\n",
       "    </tr>\n",
       "    <tr>\n",
       "      <th id=\"T_c7b06_level0_row4\" class=\"row_heading level0 row4\" >4</th>\n",
       "      <td id=\"T_c7b06_row4_col0\" class=\"data row4 col0\" >4713</td>\n",
       "      <td id=\"T_c7b06_row4_col1\" class=\"data row4 col1\" >2:87</td>\n",
       "      <td id=\"T_c7b06_row4_col2\" class=\"data row4 col2\" >10</td>\n",
       "      <td id=\"T_c7b06_row4_col3\" class=\"data row4 col3\" >ʿīsā</td>\n",
       "      <td id=\"T_c7b06_row4_col4\" class=\"data row4 col4\" >Isa</td>\n",
       "      <td id=\"T_c7b06_row4_col5\" class=\"data row4 col5\" ><a style='background-color:rgb(220,220,250);font-size:18px;color:rgb(0,0,150);' href='https://quran.com/2:87/tafsirs/ar-tafsir-al-tabari'> وَآتَيْنَا عِيسَى ابْنَ مَرْيَمَ الْبَيِّنَاتِ وَأَيَّدْنَاهُ بِرُوحِ الْقُدُسِ</a></td>\n",
       "      <td id=\"T_c7b06_row4_col6\" class=\"data row4 col6\" > (Isa)</td>\n",
       "    </tr>\n",
       "    <tr>\n",
       "      <th id=\"T_c7b06_level0_row5\" class=\"row_heading level0 row5\" >5</th>\n",
       "      <td id=\"T_c7b06_row5_col0\" class=\"data row5 col0\" >4762</td>\n",
       "      <td id=\"T_c7b06_row5_col1\" class=\"data row5 col1\" >2:136</td>\n",
       "      <td id=\"T_c7b06_row5_col2\" class=\"data row5 col2\" >18</td>\n",
       "      <td id=\"T_c7b06_row5_col3\" class=\"data row5 col3\" >waʿīsā</td>\n",
       "      <td id=\"T_c7b06_row5_col4\" class=\"data row5 col4\" >and Isa</td>\n",
       "      <td id=\"T_c7b06_row5_col5\" class=\"data row5 col5\" ><a style='background-color:rgb(220,220,250);font-size:18px;color:rgb(0,0,150);' href='https://quran.com/2:136/tafsirs/ar-tafsir-al-tabari'> وَمَا أُوتِيَ مُوسَىٰ وَعِيسَىٰ وَمَا أُوتِيَ النَّبِيُّونَ مِنْ رَبِّهِمْ</a></td>\n",
       "      <td id=\"T_c7b06_row5_col6\" class=\"data row5 col6\" > (Isa)</td>\n",
       "    </tr>\n",
       "    <tr>\n",
       "      <th id=\"T_c7b06_level0_row6\" class=\"row_heading level0 row6\" >6</th>\n",
       "      <td id=\"T_c7b06_row6_col0\" class=\"data row6 col0\" >4879</td>\n",
       "      <td id=\"T_c7b06_row6_col1\" class=\"data row6 col1\" >2:253</td>\n",
       "      <td id=\"T_c7b06_row6_col2\" class=\"data row6 col2\" >15</td>\n",
       "      <td id=\"T_c7b06_row6_col3\" class=\"data row6 col3\" >ʿīsā</td>\n",
       "      <td id=\"T_c7b06_row6_col4\" class=\"data row6 col4\" >Isa</td>\n",
       "      <td id=\"T_c7b06_row6_col5\" class=\"data row6 col5\" ><a style='background-color:rgb(220,220,250);font-size:18px;color:rgb(0,0,150);' href='https://quran.com/2:253/tafsirs/ar-tafsir-al-tabari'> وَآتَيْنَا عِيسَى ابْنَ مَرْيَمَ الْبَيِّنَاتِ وَأَيَّدْنَاهُ بِرُوحِ الْقُدُسِ</a></td>\n",
       "      <td id=\"T_c7b06_row6_col6\" class=\"data row6 col6\" > (Isa)</td>\n",
       "    </tr>\n",
       "    <tr>\n",
       "      <th id=\"T_c7b06_level0_row7\" class=\"row_heading level0 row7\" >7</th>\n",
       "      <td id=\"T_c7b06_row7_col0\" class=\"data row7 col0\" >5024</td>\n",
       "      <td id=\"T_c7b06_row7_col1\" class=\"data row7 col1\" >3:45</td>\n",
       "      <td id=\"T_c7b06_row7_col2\" class=\"data row7 col2\" >12</td>\n",
       "      <td id=\"T_c7b06_row7_col3\" class=\"data row7 col3\" >ʿīsā</td>\n",
       "      <td id=\"T_c7b06_row7_col4\" class=\"data row7 col4\" >Isa</td>\n",
       "      <td id=\"T_c7b06_row7_col5\" class=\"data row7 col5\" ><a style='background-color:rgb(220,220,250);font-size:18px;color:rgb(0,0,150);' href='https://quran.com/3:45/tafsirs/ar-tafsir-al-tabari'> إِنَّ اللَّهَ يُبَشِّرُكِ بِكَلِمَةٍ مِنْهُ اسْمُهُ الْمَسِيحُ عِيسَى ابْنُ مَرْيَمَ</a></td>\n",
       "      <td id=\"T_c7b06_row7_col6\" class=\"data row7 col6\" > (Isa)</td>\n",
       "    </tr>\n",
       "    <tr>\n",
       "      <th id=\"T_c7b06_level0_row8\" class=\"row_heading level0 row8\" >8</th>\n",
       "      <td id=\"T_c7b06_row8_col0\" class=\"data row8 col0\" >5031</td>\n",
       "      <td id=\"T_c7b06_row8_col1\" class=\"data row8 col1\" >3:52</td>\n",
       "      <td id=\"T_c7b06_row8_col2\" class=\"data row8 col2\" >3</td>\n",
       "      <td id=\"T_c7b06_row8_col3\" class=\"data row8 col3\" >ʿīsā</td>\n",
       "      <td id=\"T_c7b06_row8_col4\" class=\"data row8 col4\" >Isa</td>\n",
       "      <td id=\"T_c7b06_row8_col5\" class=\"data row8 col5\" ><a style='background-color:rgb(220,220,250);font-size:18px;color:rgb(0,0,150);' href='https://quran.com/3:52/tafsirs/ar-tafsir-al-tabari'> فَلَمَّا أَحَسَّ عِيسَىٰ مِنْهُمُ الْكُفْرَ قَالَ مَنْ أَنْصَارِي إِلَى اللَّهِ</a></td>\n",
       "      <td id=\"T_c7b06_row8_col6\" class=\"data row8 col6\" > (Isa)</td>\n",
       "    </tr>\n",
       "    <tr>\n",
       "      <th id=\"T_c7b06_level0_row9\" class=\"row_heading level0 row9\" >9</th>\n",
       "      <td id=\"T_c7b06_row9_col0\" class=\"data row9 col0\" >5034</td>\n",
       "      <td id=\"T_c7b06_row9_col1\" class=\"data row9 col1\" >3:55</td>\n",
       "      <td id=\"T_c7b06_row9_col2\" class=\"data row9 col2\" >4</td>\n",
       "      <td id=\"T_c7b06_row9_col3\" class=\"data row9 col3\" >yāʿīsā</td>\n",
       "      <td id=\"T_c7b06_row9_col4\" class=\"data row9 col4\" >O Isa</td>\n",
       "      <td id=\"T_c7b06_row9_col5\" class=\"data row9 col5\" ><a style='background-color:rgb(220,220,250);font-size:18px;color:rgb(0,0,150);' href='https://quran.com/3:55/tafsirs/ar-tafsir-al-tabari'> إِذْ قَالَ اللَّهُ يَا عِيسَىٰ إِنِّي مُتَوَفِّيكَ وَرَافِعُكَ إِلَيَّ</a></td>\n",
       "      <td id=\"T_c7b06_row9_col6\" class=\"data row9 col6\" > (Isa)</td>\n",
       "    </tr>\n",
       "    <tr>\n",
       "      <th id=\"T_c7b06_level0_row10\" class=\"row_heading level0 row10\" >10</th>\n",
       "      <td id=\"T_c7b06_row10_col0\" class=\"data row10 col0\" >5038</td>\n",
       "      <td id=\"T_c7b06_row10_col1\" class=\"data row10 col1\" >3:59</td>\n",
       "      <td id=\"T_c7b06_row10_col2\" class=\"data row10 col2\" >3</td>\n",
       "      <td id=\"T_c7b06_row10_col3\" class=\"data row10 col3\" >ʿīsā</td>\n",
       "      <td id=\"T_c7b06_row10_col4\" class=\"data row10 col4\" >(of) Isa</td>\n",
       "      <td id=\"T_c7b06_row10_col5\" class=\"data row10 col5\" ><a style='background-color:rgb(220,220,250);font-size:18px;color:rgb(0,0,150);' href='https://quran.com/3:59/tafsirs/ar-tafsir-al-tabari'> إِنَّ مَثَلَ عِيسَىٰ عِنْدَ اللَّهِ كَمَثَلِ آدَمَ خَلَقَهُ مِنْ تُرَابٍ</a></td>\n",
       "      <td id=\"T_c7b06_row10_col6\" class=\"data row10 col6\" > (Isa)</td>\n",
       "    </tr>\n",
       "    <tr>\n",
       "      <th id=\"T_c7b06_level0_row11\" class=\"row_heading level0 row11\" >11</th>\n",
       "      <td id=\"T_c7b06_row11_col0\" class=\"data row11 col0\" >5063</td>\n",
       "      <td id=\"T_c7b06_row11_col1\" class=\"data row11 col1\" >3:84</td>\n",
       "      <td id=\"T_c7b06_row11_col2\" class=\"data row11 col2\" >18</td>\n",
       "      <td id=\"T_c7b06_row11_col3\" class=\"data row11 col3\" >waʿīsā</td>\n",
       "      <td id=\"T_c7b06_row11_col4\" class=\"data row11 col4\" >and Isa</td>\n",
       "      <td id=\"T_c7b06_row11_col5\" class=\"data row11 col5\" ><a style='background-color:rgb(220,220,250);font-size:18px;color:rgb(0,0,150);' href='https://quran.com/3:84/tafsirs/ar-tafsir-al-tabari'> وَمَا أُوتِيَ مُوسَىٰ وَعِيسَىٰ وَالنَّبِيُّونَ مِنْ رَبِّهِمْ</a></td>\n",
       "      <td id=\"T_c7b06_row11_col6\" class=\"data row11 col6\" > (Isa)</td>\n",
       "    </tr>\n",
       "    <tr>\n",
       "      <th id=\"T_c7b06_level0_row12\" class=\"row_heading level0 row12\" >12</th>\n",
       "      <td id=\"T_c7b06_row12_col0\" class=\"data row12 col0\" >5186</td>\n",
       "      <td id=\"T_c7b06_row12_col1\" class=\"data row12 col1\" >33:7</td>\n",
       "      <td id=\"T_c7b06_row12_col2\" class=\"data row12 col2\" >11</td>\n",
       "      <td id=\"T_c7b06_row12_col3\" class=\"data row12 col3\" >waʿīsā</td>\n",
       "      <td id=\"T_c7b06_row12_col4\" class=\"data row12 col4\" >and Isa</td>\n",
       "      <td id=\"T_c7b06_row12_col5\" class=\"data row12 col5\" ><a style='background-color:rgb(220,220,250);font-size:18px;color:rgb(0,0,150);' href='https://quran.com/33:7/tafsirs/ar-tafsir-al-tabari'> وَمِنْكَ وَمِنْ نُوحٍ وَإِبْرَاهِيمَ وَمُوسَىٰ وَعِيسَى ابْنِ مَرْيَمَ</a></td>\n",
       "      <td id=\"T_c7b06_row12_col6\" class=\"data row12 col6\" > (Isa)</td>\n",
       "    </tr>\n",
       "    <tr>\n",
       "      <th id=\"T_c7b06_level0_row13\" class=\"row_heading level0 row13\" >13</th>\n",
       "      <td id=\"T_c7b06_row13_col0\" class=\"data row13 col0\" >5422</td>\n",
       "      <td id=\"T_c7b06_row13_col1\" class=\"data row13 col1\" >4:157</td>\n",
       "      <td id=\"T_c7b06_row13_col2\" class=\"data row13 col2\" >5</td>\n",
       "      <td id=\"T_c7b06_row13_col3\" class=\"data row13 col3\" >ʿīsā</td>\n",
       "      <td id=\"T_c7b06_row13_col4\" class=\"data row13 col4\" >Isa</td>\n",
       "      <td id=\"T_c7b06_row13_col5\" class=\"data row13 col5\" ><a style='background-color:rgb(220,220,250);font-size:18px;color:rgb(0,0,150);' href='https://quran.com/4:157/tafsirs/ar-tafsir-al-tabari'> وَقَوْلِهِمْ إِنَّا قَتَلْنَا الْمَسِيحَ عِيسَى ابْنَ مَرْيَمَ رَسُولَ اللَّهِ</a></td>\n",
       "      <td id=\"T_c7b06_row13_col6\" class=\"data row13 col6\" > (Isa)</td>\n",
       "    </tr>\n",
       "    <tr>\n",
       "      <th id=\"T_c7b06_level0_row14\" class=\"row_heading level0 row14\" >14</th>\n",
       "      <td id=\"T_c7b06_row14_col0\" class=\"data row14 col0\" >5428</td>\n",
       "      <td id=\"T_c7b06_row14_col1\" class=\"data row14 col1\" >4:163</td>\n",
       "      <td id=\"T_c7b06_row14_col2\" class=\"data row14 col2\" >18</td>\n",
       "      <td id=\"T_c7b06_row14_col3\" class=\"data row14 col3\" >waʿīsā</td>\n",
       "      <td id=\"T_c7b06_row14_col4\" class=\"data row14 col4\" >and Isa</td>\n",
       "      <td id=\"T_c7b06_row14_col5\" class=\"data row14 col5\" ><a style='background-color:rgb(220,220,250);font-size:18px;color:rgb(0,0,150);' href='https://quran.com/4:163/tafsirs/ar-tafsir-al-tabari'> وَأَوْحَيْنَا إِلَىٰ إِبْرَاهِيمَ وَإِسْمَاعِيلَ وَإِسْحَاقَ وَيَعْقُوبَ وَالْأَسْبَاطِ وَعِيسَىٰ وَأَيُّوبَ وَيُونُسَ وَهَارُونَ وَسُلَيْمَانَ</a></td>\n",
       "      <td id=\"T_c7b06_row14_col6\" class=\"data row14 col6\" > (Isa)</td>\n",
       "    </tr>\n",
       "    <tr>\n",
       "      <th id=\"T_c7b06_level0_row15\" class=\"row_heading level0 row15\" >15</th>\n",
       "      <td id=\"T_c7b06_row15_col0\" class=\"data row15 col0\" >5436</td>\n",
       "      <td id=\"T_c7b06_row15_col1\" class=\"data row15 col1\" >4:171</td>\n",
       "      <td id=\"T_c7b06_row15_col2\" class=\"data row15 col2\" >15</td>\n",
       "      <td id=\"T_c7b06_row15_col3\" class=\"data row15 col3\" >ʿīsā</td>\n",
       "      <td id=\"T_c7b06_row15_col4\" class=\"data row15 col4\" >Isa</td>\n",
       "      <td id=\"T_c7b06_row15_col5\" class=\"data row15 col5\" ><a style='background-color:rgb(220,220,250);font-size:18px;color:rgb(0,0,150);' href='https://quran.com/4:171/tafsirs/ar-tafsir-al-tabari'> إِنَّمَا الْمَسِيحُ عِيسَى ابْنُ مَرْيَمَ رَسُولُ اللَّهِ وَكَلِمَتُهُ أَلْقَاهَا إِلَىٰ مَرْيَمَ</a></td>\n",
       "      <td id=\"T_c7b06_row15_col6\" class=\"data row15 col6\" > (Isa)</td>\n",
       "    </tr>\n",
       "    <tr>\n",
       "      <th id=\"T_c7b06_level0_row16\" class=\"row_heading level0 row16\" >16</th>\n",
       "      <td id=\"T_c7b06_row16_col0\" class=\"data row16 col0\" >5476</td>\n",
       "      <td id=\"T_c7b06_row16_col1\" class=\"data row16 col1\" >57:27</td>\n",
       "      <td id=\"T_c7b06_row16_col2\" class=\"data row16 col2\" >7</td>\n",
       "      <td id=\"T_c7b06_row16_col3\" class=\"data row16 col3\" >biʿīsā</td>\n",
       "      <td id=\"T_c7b06_row16_col4\" class=\"data row16 col4\" >with Isa</td>\n",
       "      <td id=\"T_c7b06_row16_col5\" class=\"data row16 col5\" ><a style='background-color:rgb(220,220,250);font-size:18px;color:rgb(0,0,150);' href='https://quran.com/57:27/tafsirs/ar-tafsir-al-tabari'> وَقَفَّيْنَا بِعِيسَى ابْنِ مَرْيَمَ وَآتَيْنَاهُ الْإِنْجِيلَ</a></td>\n",
       "      <td id=\"T_c7b06_row16_col6\" class=\"data row16 col6\" > (Isa)</td>\n",
       "    </tr>\n",
       "    <tr>\n",
       "      <th id=\"T_c7b06_level0_row17\" class=\"row_heading level0 row17\" >17</th>\n",
       "      <td id=\"T_c7b06_row17_col0\" class=\"data row17 col0\" >5936</td>\n",
       "      <td id=\"T_c7b06_row17_col1\" class=\"data row17 col1\" >61:6</td>\n",
       "      <td id=\"T_c7b06_row17_col2\" class=\"data row17 col2\" >3</td>\n",
       "      <td id=\"T_c7b06_row17_col3\" class=\"data row17 col3\" >ʿīsā</td>\n",
       "      <td id=\"T_c7b06_row17_col4\" class=\"data row17 col4\" >Isa</td>\n",
       "      <td id=\"T_c7b06_row17_col5\" class=\"data row17 col5\" ><a style='background-color:rgb(220,220,250);font-size:18px;color:rgb(0,0,150);' href='https://quran.com/61:6/tafsirs/ar-tafsir-al-tabari'> وَإِذْ قَالَ عِيسَى ابْنُ مَرْيَمَ يَا بَنِي إِسْرَائِيلَ إِنِّي رَسُولُ اللَّهِ إِلَيْكُمْ</a></td>\n",
       "      <td id=\"T_c7b06_row17_col6\" class=\"data row17 col6\" > (Isa)</td>\n",
       "    </tr>\n",
       "    <tr>\n",
       "      <th id=\"T_c7b06_level0_row18\" class=\"row_heading level0 row18\" >18</th>\n",
       "      <td id=\"T_c7b06_row18_col0\" class=\"data row18 col0\" >5944</td>\n",
       "      <td id=\"T_c7b06_row18_col1\" class=\"data row18 col1\" >61:14</td>\n",
       "      <td id=\"T_c7b06_row18_col2\" class=\"data row18 col2\" >9</td>\n",
       "      <td id=\"T_c7b06_row18_col3\" class=\"data row18 col3\" >ʿīsā</td>\n",
       "      <td id=\"T_c7b06_row18_col4\" class=\"data row18 col4\" >Isa</td>\n",
       "      <td id=\"T_c7b06_row18_col5\" class=\"data row18 col5\" ><a style='background-color:rgb(220,220,250);font-size:18px;color:rgb(0,0,150);' href='https://quran.com/61:14/tafsirs/ar-tafsir-al-tabari'> كَمَا قَالَ عِيسَى ابْنُ مَرْيَمَ لِلْحَوَارِيِّينَ مَنْ أَنْصَارِي إِلَى اللَّهِ</a></td>\n",
       "      <td id=\"T_c7b06_row18_col6\" class=\"data row18 col6\" > (Isa)</td>\n",
       "    </tr>\n",
       "    <tr>\n",
       "      <th id=\"T_c7b06_level0_row19\" class=\"row_heading level0 row19\" >19</th>\n",
       "      <td id=\"T_c7b06_row19_col0\" class=\"data row19 col0\" >6029</td>\n",
       "      <td id=\"T_c7b06_row19_col1\" class=\"data row19 col1\" >5:46</td>\n",
       "      <td id=\"T_c7b06_row19_col2\" class=\"data row19 col2\" >4</td>\n",
       "      <td id=\"T_c7b06_row19_col3\" class=\"data row19 col3\" >biʿīsā</td>\n",
       "      <td id=\"T_c7b06_row19_col4\" class=\"data row19 col4\" >Isa</td>\n",
       "      <td id=\"T_c7b06_row19_col5\" class=\"data row19 col5\" ><a style='background-color:rgb(220,220,250);font-size:18px;color:rgb(0,0,150);' href='https://quran.com/5:46/tafsirs/ar-tafsir-al-tabari'> وَقَفَّيْنَا عَلَىٰ آثَارِهِمْ بِعِيسَى ابْنِ مَرْيَمَ مُصَدِّقًا لِمَا بَيْنَ يَدَيْهِ</a></td>\n",
       "      <td id=\"T_c7b06_row19_col6\" class=\"data row19 col6\" > (Isa)</td>\n",
       "    </tr>\n",
       "    <tr>\n",
       "      <th id=\"T_c7b06_level0_row20\" class=\"row_heading level0 row20\" >20</th>\n",
       "      <td id=\"T_c7b06_row20_col0\" class=\"data row20 col0\" >6061</td>\n",
       "      <td id=\"T_c7b06_row20_col1\" class=\"data row20 col1\" >5:78</td>\n",
       "      <td id=\"T_c7b06_row20_col2\" class=\"data row20 col2\" >10</td>\n",
       "      <td id=\"T_c7b06_row20_col3\" class=\"data row20 col3\" >waʿīsā</td>\n",
       "      <td id=\"T_c7b06_row20_col4\" class=\"data row20 col4\" >and Isa</td>\n",
       "      <td id=\"T_c7b06_row20_col5\" class=\"data row20 col5\" ><a style='background-color:rgb(220,220,250);font-size:18px;color:rgb(0,0,150);' href='https://quran.com/5:78/tafsirs/ar-tafsir-al-tabari'> لُعِنَ الَّذِينَ كَفَرُوا مِنْ بَنِي إِسْرَائِيلَ عَلَىٰ لِسَانِ دَاوُودَ وَعِيسَى ابْنِ مَرْيَمَ</a></td>\n",
       "      <td id=\"T_c7b06_row20_col6\" class=\"data row20 col6\" > (Isa)</td>\n",
       "    </tr>\n",
       "    <tr>\n",
       "      <th id=\"T_c7b06_level0_row21\" class=\"row_heading level0 row21\" >21</th>\n",
       "      <td id=\"T_c7b06_row21_col0\" class=\"data row21 col0\" >6093</td>\n",
       "      <td id=\"T_c7b06_row21_col1\" class=\"data row21 col1\" >5:110</td>\n",
       "      <td id=\"T_c7b06_row21_col2\" class=\"data row21 col2\" >4</td>\n",
       "      <td id=\"T_c7b06_row21_col3\" class=\"data row21 col3\" >yāʿīsā</td>\n",
       "      <td id=\"T_c7b06_row21_col4\" class=\"data row21 col4\" >O Isa</td>\n",
       "      <td id=\"T_c7b06_row21_col5\" class=\"data row21 col5\" ><a style='background-color:rgb(220,220,250);font-size:18px;color:rgb(0,0,150);' href='https://quran.com/5:110/tafsirs/ar-tafsir-al-tabari'> إِذْ قَالَ اللَّهُ يَا عِيسَى ابْنَ مَرْيَمَ اذْكُرْ نِعْمَتِي عَلَيْكَ وَعَلَىٰ وَالِدَتِكَ</a></td>\n",
       "      <td id=\"T_c7b06_row21_col6\" class=\"data row21 col6\" > (Isa)</td>\n",
       "    </tr>\n",
       "    <tr>\n",
       "      <th id=\"T_c7b06_level0_row22\" class=\"row_heading level0 row22\" >22</th>\n",
       "      <td id=\"T_c7b06_row22_col0\" class=\"data row22 col0\" >6095</td>\n",
       "      <td id=\"T_c7b06_row22_col1\" class=\"data row22 col1\" >5:112</td>\n",
       "      <td id=\"T_c7b06_row22_col2\" class=\"data row22 col2\" >4</td>\n",
       "      <td id=\"T_c7b06_row22_col3\" class=\"data row22 col3\" >yāʿīsā</td>\n",
       "      <td id=\"T_c7b06_row22_col4\" class=\"data row22 col4\" >O Isa</td>\n",
       "      <td id=\"T_c7b06_row22_col5\" class=\"data row22 col5\" ><a style='background-color:rgb(220,220,250);font-size:18px;color:rgb(0,0,150);' href='https://quran.com/5:112/tafsirs/ar-tafsir-al-tabari'> إِذْ قَالَ الْحَوَارِيُّونَ يَا عِيسَى ابْنَ مَرْيَمَ هَلْ يَسْتَطِيعُ رَبُّكَ أَنْ يُنَزِّلَ عَلَيْنَا مَائِدَةً مِنَ السَّمَاءِ</a></td>\n",
       "      <td id=\"T_c7b06_row22_col6\" class=\"data row22 col6\" > (Isa)</td>\n",
       "    </tr>\n",
       "    <tr>\n",
       "      <th id=\"T_c7b06_level0_row23\" class=\"row_heading level0 row23\" >23</th>\n",
       "      <td id=\"T_c7b06_row23_col0\" class=\"data row23 col0\" >6097</td>\n",
       "      <td id=\"T_c7b06_row23_col1\" class=\"data row23 col1\" >5:114</td>\n",
       "      <td id=\"T_c7b06_row23_col2\" class=\"data row23 col2\" >2</td>\n",
       "      <td id=\"T_c7b06_row23_col3\" class=\"data row23 col3\" >ʿīsā</td>\n",
       "      <td id=\"T_c7b06_row23_col4\" class=\"data row23 col4\" >Isa</td>\n",
       "      <td id=\"T_c7b06_row23_col5\" class=\"data row23 col5\" ><a style='background-color:rgb(220,220,250);font-size:18px;color:rgb(0,0,150);' href='https://quran.com/5:114/tafsirs/ar-tafsir-al-tabari'> قَالَ عِيسَى ابْنُ مَرْيَمَ اللَّهُمَّ رَبَّنَا أَنْزِلْ عَلَيْنَا مَائِدَةً مِنَ السَّمَاءِ</a></td>\n",
       "      <td id=\"T_c7b06_row23_col6\" class=\"data row23 col6\" > (Isa)</td>\n",
       "    </tr>\n",
       "    <tr>\n",
       "      <th id=\"T_c7b06_level0_row24\" class=\"row_heading level0 row24\" >24</th>\n",
       "      <td id=\"T_c7b06_row24_col0\" class=\"data row24 col0\" >6099</td>\n",
       "      <td id=\"T_c7b06_row24_col1\" class=\"data row24 col1\" >5:116</td>\n",
       "      <td id=\"T_c7b06_row24_col2\" class=\"data row24 col2\" >4</td>\n",
       "      <td id=\"T_c7b06_row24_col3\" class=\"data row24 col3\" >yāʿīsā</td>\n",
       "      <td id=\"T_c7b06_row24_col4\" class=\"data row24 col4\" >O Isa</td>\n",
       "      <td id=\"T_c7b06_row24_col5\" class=\"data row24 col5\" ><a style='background-color:rgb(220,220,250);font-size:18px;color:rgb(0,0,150);' href='https://quran.com/5:116/tafsirs/ar-tafsir-al-tabari'> وَإِذْ قَالَ اللَّهُ يَا عِيسَى ابْنَ مَرْيَمَ أَأَنْتَ قُلْتَ لِلنَّاسِ اتَّخِذُونِي وَأُمِّيَ إِلَٰهَيْنِ مِنْ دُونِ اللَّهِ</a></td>\n",
       "      <td id=\"T_c7b06_row24_col6\" class=\"data row24 col6\" > (Isa)</td>\n",
       "    </tr>\n",
       "  </tbody>\n",
       "</table>\n"
      ],
      "text/plain": [
       "<IPython.core.display.HTML object>"
      ]
     },
     "execution_count": 1,
     "metadata": {},
     "output_type": "execute_result"
    }
   ],
   "source": [
    "from qChronolyze import sortchron\n",
    "\n",
    "sortchron(\n",
    "    \n",
    "    ### enter pair of word/root and meaning filtering regex as key-value pair dictionary\n",
    "\n",
    "    [\n",
    "        # *shirk\n",
    "        # {'nEs Amn g$w Twf': '   '},\n",
    "        # {'nEs Amn g$w smw mwh vbt qdm': '      '},\n",
    "        # {'Amn rAy Hzb wEd': '   '},\n",
    "\n",
    "        # *salah,\n",
    "\n",
    "        {'': 'Isa'},\n",
    "        # {'qrb': ''},\n",
    "        \n",
    "        # {'zlf lyl Slw': '  '},\n",
    "\n",
    "        # {\n",
    "        #     'Aibon/wld maroyam': '/ ',\n",
    "        #     'EiysaY': '',\n",
    "        # },\n",
    "        # {\n",
    "        #     'Aibon maroyam': ' ',\n",
    "        #     'EiysaY': '',\n",
    "        # },\n",
    "        # {'rfE smk': ' '},\n",
    "        # {'0rfE smk': ' '},\n",
    "        # {'0smk rfE': ' '},\n",
    "        # {'smk': ''},\n",
    "        # {'rfE': ''},\n",
    "        # {'smw sbb': ' '},\n",
    "        # {'smw jnn': ' jinn'},\n",
    "        # {'smw nf*': ' '},\n",
    "        # {'smw $Tn': ' '},\n",
    "        # {'jnn $Tn': ' '},\n",
    "        # {'smw sbb qTE': '  '},\n",
    "        # {'smw qTE': ' '},\n",
    "    ],\n",
    "\n",
    "    ### tafsir reference language\n",
    "    # 'Arabic',\n",
    "    # /\n",
    "    '1',\n",
    "\n",
    "    ### presentation style\n",
    "    pres='table',\n",
    "\n",
    "    )"
   ]
  },
  {
   "cell_type": "code",
   "execution_count": 4,
   "metadata": {},
   "outputs": [
    {
     "data": {
      "text/plain": [
       "2"
      ]
     },
     "execution_count": 4,
     "metadata": {},
     "output_type": "execute_result"
    }
   ],
   "source": [
    "lis1 = ['ab','cd','e']\n",
    "max([len(s) for s in lis1])"
   ]
  },
  {
   "cell_type": "code",
   "execution_count": 25,
   "metadata": {},
   "outputs": [
    {
     "data": {
      "text/plain": [
       "'a'"
      ]
     },
     "execution_count": 25,
     "metadata": {},
     "output_type": "execute_result"
    }
   ],
   "source": [
    "strn = 'abc'\n",
    "strn[-len(strn)]"
   ]
  },
  {
   "cell_type": "code",
   "execution_count": 5,
   "metadata": {},
   "outputs": [
    {
     "name": "stdout",
     "output_type": "stream",
     "text": [
      "fT?raY?\n"
     ]
    }
   ],
   "source": [
    "# import os\n",
    "# 'ftr.tsv' in os.listdir(\"data/roots\")\n",
    "import re\n",
    "flnm = re.sub('([A-Z])','\\\\1?', rt)\n",
    "print(flnm)"
   ]
  },
  {
   "cell_type": "code",
   "execution_count": 5,
   "metadata": {},
   "outputs": [
    {
     "name": "stdout",
     "output_type": "stream",
     "text": [
      "surah:ayah\tposition\tword\tmeaning\tayah_link\n",
      "6:79\t5\tfaṭara\tcreated\t إِنِّي وَجَّهْتُ وَجْهِيَ لِلَّذِي فَطَرَ السَّمَاوَاتِ وَالْأَرْضَ حَنِيفًا\n",
      "11:51\t11\tfaṭaranī\tcreated me\t يَا قَوْمِ لَا أَسْأَلُكُمْ عَلَيْهِ أَجْرًا إِنْ أَجْرِيَ إِلَّا عَلَى الَّذِي فَطَرَنِي\n",
      "17:51\t12\tfaṭarakum\tcreated you\t فَسَيَقُولُونَ مَنْ يُعِيدُنَا قُلِ الَّذِي فَطَرَكُمْ أَوَّلَ مَرَّةٍ\n",
      "19:90\t3\tyatafaṭṭarna\tget torn\t تَكَادُ السَّمَاوَاتُ يَتَفَطَّرْنَ مِنْهُ وَتَنْشَقُّ الْأَرْضُ\n",
      "20:72\t10\tfaṭaranā\tcreated us\t قَالُوا لَنْ نُؤْثِرَكَ عَلَىٰ مَا جَاءَنَا مِنَ الْبَيِّنَاتِ وَالَّذِي فَطَرَنَا\n",
      "21:56\t8\tfaṭarahunna\tcreated them\t قَالَ بَلْ رَبُّكُمْ رَبُّ السَّمَاوَاتِ وَالْأَرْضِ الَّذِي فَطَرَهُنَّ\n",
      "30:30\t8\tfaṭara\tHe has created\t فِطْرَتَ اللَّهِ الَّتِي فَطَرَ النَّاسَ عَلَيْهَا لَا تَبْدِيلَ لِخَلْقِ اللَّهِ\n",
      "36:22\t6\tfaṭaranī\tcreated me\t وَمَا لِيَ لَا أَعْبُدُ الَّذِي فَطَرَنِي وَإِلَيْهِ تُرْجَعُونَ\n",
      "42:5\t3\tyatafaṭṭarna\tbreak up\t تَكَادُ السَّمَاوَاتُ يَتَفَطَّرْنَ مِنْ فَوْقِهِنَّ\n",
      "43:27\t3\tfaṭaranī\tcreated me\t إِلَّا الَّذِي فَطَرَنِي فَإِنَّهُ سَيَهْدِينِ\n",
      "82:1\t3\tinfaṭarat\t(is) cleft asunder\t إِذَا السَّمَاءُ انْفَطَرَتْ\n",
      "30:30\t5\tfiṭ'rata\tNature\t فِطْرَتَ اللَّهِ الَّتِي فَطَرَ النَّاسَ عَلَيْهَا لَا تَبْدِيلَ لِخَلْقِ اللَّهِ\n",
      "67:3\t18\tfuṭūrin\tflaw\t فَارْجِعِ الْبَصَرَ هَلْ تَرَىٰ مِنْ فُطُورٍ\n",
      "6:14\t6\tfāṭiri\tCreator\t قُلْ أَغَيْرَ اللَّهِ أَتَّخِذُ وَلِيًّا فَاطِرِ السَّمَاوَاتِ وَالْأَرْضِ\n",
      "12:101\t10\tfāṭira\tCreator\t فَاطِرَ السَّمَاوَاتِ وَالْأَرْضِ أَنْتَ وَلِيِّي فِي الدُّنْيَا وَالْآخِرَةِ\n",
      "14:10\t6\tfāṭiri\t(the) Creator\t قَالَتْ رُسُلُهُمْ أَفِي اللَّهِ شَكٌّ فَاطِرِ السَّمَاوَاتِ وَالْأَرْضِ\n",
      "35:1\t3\tfāṭiri\tOriginator\t الْحَمْدُ لِلَّهِ فَاطِرِ السَّمَاوَاتِ وَالْأَرْضِ جَاعِلِ الْمَلَائِكَةِ رُسُلًا\n",
      "39:46\t3\tfāṭira\tCreator\t قُلِ اللَّهُمَّ فَاطِرَ السَّمَاوَاتِ وَالْأَرْضِ عَالِمَ الْغَيْبِ وَالشَّهَادَةِ\n",
      "42:11\t1\tfāṭiru\t(The) Creator\t فَاطِرُ السَّمَاوَاتِ وَالْأَرْضِ جَعَلَ لَكُمْ مِنْ أَنْفُسِكُمْ أَزْوَاجًا\n",
      "73:18\t2\tmunfaṭirun\t(will) break apart\t السَّمَاءُ مُنْفَطِرٌ بِهِ كَانَ وَعْدُهُ مَفْعُولًا\n",
      "\n"
     ]
    }
   ],
   "source": [
    "with open('data/roots/fTr.tsv') as f:\n",
    "    strn = f.read()\n",
    "\n",
    "print(strn)"
   ]
  },
  {
   "cell_type": "code",
   "execution_count": 3,
   "metadata": {},
   "outputs": [
    {
     "data": {
      "text/plain": [
       "{'b', 'c'}"
      ]
     },
     "execution_count": 3,
     "metadata": {},
     "output_type": "execute_result"
    }
   ],
   "source": [
    "set1 = {\"a\",\"b\",\"c\"}\n",
    "\n",
    "set1.remove(\"a\")\n",
    "\n",
    "set1"
   ]
  },
  {
   "cell_type": "code",
   "execution_count": 4,
   "metadata": {},
   "outputs": [
    {
     "data": {
      "text/plain": [
       "['a (b)', 'c (d)']"
      ]
     },
     "execution_count": 4,
     "metadata": {},
     "output_type": "execute_result"
    }
   ],
   "source": [
    "[ f'{k} ({v})' for k, v in {\"a\":\"b\",\"c\":\"d\"}.items() ]\n",
    "# [ f'{k}' for k in {\"a\":\"b\",\"c\":\"d\"} ]"
   ]
  },
  {
   "cell_type": "code",
   "execution_count": 253,
   "metadata": {},
   "outputs": [
    {
     "data": {
      "text/plain": [
       "[{'a': 'b', 'c': 'd'}, {'a': 'e', 'c': 'f'}]"
      ]
     },
     "execution_count": 253,
     "metadata": {},
     "output_type": "execute_result"
    }
   ],
   "source": [
    "import pandas as pd\n",
    "\n",
    "df = pd.DataFrame([\n",
    "    {\"a\":\"b\",\"c\":\"d\"},\n",
    "    {\"a\":\"e\",\"c\":\"f\"}\n",
    "])\n",
    "\n",
    "df.to_dict(orient='records')\n",
    "# df"
   ]
  },
  {
   "cell_type": "markdown",
   "metadata": {},
   "source": [
    "# csv"
   ]
  },
  {
   "cell_type": "markdown",
   "metadata": {},
   "source": [
    "# md"
   ]
  },
  {
   "cell_type": "markdown",
   "metadata": {},
   "source": [
    "## edit md"
   ]
  },
  {
   "cell_type": "code",
   "execution_count": 1,
   "metadata": {},
   "outputs": [],
   "source": [
    "with open(\"/mnt/f/Documents/notes/001_eskaton/001_chhatak/mejo_mama/Ghulat/shirk/shirk4.md\") as f:\n",
    "# with open(\"/mnt/f/Documents/notes/Ref/iamb.myst/096.html\") as f:\n",
    "    strn = f.read()"
   ]
  },
  {
   "cell_type": "code",
   "execution_count": 5,
   "metadata": {},
   "outputs": [],
   "source": [
    "import re\n",
    "strnN = re.sub(\n",
    "    \"## [^\\u0621-\\u064A\\n]*\\n\",\n",
    "    \"\",\n",
    "    strn\n",
    ")"
   ]
  },
  {
   "cell_type": "code",
   "execution_count": 6,
   "metadata": {},
   "outputs": [],
   "source": [
    "with open(\"/mnt/f/Documents/notes/001_eskaton/001_chhatak/mejo_mama/Ghulat/shirk/shirk4.md\", 'w') as f:\n",
    "# with open(\"/mnt/f/Documents/notes/Ref/iamb.myst/096.html\") as f:\n",
    "    f.write(strnN)"
   ]
  },
  {
   "cell_type": "markdown",
   "metadata": {},
   "source": [
    "# obsidian edit"
   ]
  },
  {
   "cell_type": "code",
   "execution_count": null,
   "metadata": {},
   "outputs": [],
   "source": [
    "import re\n",
    "\n",
    "with open(\"/mnt/f/Documents/notes/Ref/iamb.mystery3.md\") as f:\n",
    "# with open(\"/mnt/f/Documents/notes/Ref/iamb.myst/096.html\") as f:\n",
    "    strn = f.read()\n",
    "\n",
    "# matches = re.findall(\"(\\d{1,3})\\:(\\d{1,3})\", strn)\n",
    "\n",
    "# matches\n",
    "\n",
    "# surAys = []\n",
    "\n",
    "\n",
    "rep = re.compile(\n",
    "        # '(?<=[\\n])§\\s*(\\d*)\\s*', \n",
    "        # '<div type=\"textpart\" subtype=\"section\" xml:base=\"urn:cts:greekLit:tlg2023.tlg006.1st1K-grc1:(\\d{1,})\" n=\"(\\d{1,})\">(.*?)</div>',\n",
    "        # '<div type=\"textpart\" subtype=\"section\" xml:base=\"urn:cts:greekLit:tlg2023.tlg006.1st1K-grc1:(\\d{1,})\" n=\"(\\d{1,})\">.*?</div>',\n",
    "        # '<div type=\"textpart\" subtype=\"(?:section|chapter)\" xml:base=\"urn:cts:greekLit:tlg2023.tlg006.1st1K-grc1(?:\\:(\\d{1,}))*\" n=\"(\\d{1,})\">',\n",
    "        '\\n#{1,2}\\s*[c]{0,1}(\\d{1,})\\.{0,1}(\\d{0,})',\n",
    "        # '\\n#{1,2}',\n",
    "        # '((?:SECTION|CHAP\\.) [0IVX]{1,})',\n",
    "        # '<div type=\"textpart\" subtype=\"chapter\" xml:base=\"urn:cts:greekLit:tlg2023.tlg006.1st1K-grc1\" n=\"(\\d{1,})\">(.*?)</div>',\n",
    "        # '<[^>]*?>',\n",
    "        # re.DOTALL\n",
    "    ).findall(\n",
    "    # ).sub(\n",
    "    # '## \\\\1\\n',\n",
    "        # '## \\\\1.\\\\2\\n\\\\3',\n",
    "        # '# c\\\\1\\n\\\\2',\n",
    "        # '',\n",
    "    strn\n",
    ")\n",
    "    # if len(refs) > 0:\n",
    "    #     ref = refs[0]\n",
    "    #     surAys.append(ref)\n",
    "\n",
    "print(len(rep))\n",
    "# print(rep)\n",
    "rep\n",
    "\n",
    "# with open(\"/mnt/f/Documents/notes/Ref/iamb.mystery3.md\", 'w') as f:\n",
    "#     # for surAy in surAys:\n",
    "#     f.write(rep)"
   ]
  },
  {
   "cell_type": "code",
   "execution_count": 167,
   "metadata": {},
   "outputs": [
    {
     "name": "stdout",
     "output_type": "stream",
     "text": [
      "141 141\n"
     ]
    }
   ],
   "source": [
    "import re\n",
    "\n",
    "with open(\"/mnt/f/Documents/notes/Ref/iamb.mystery3.md\") as f:\n",
    "    strn1 = f.read()\n",
    "\n",
    "matches1 = re.compile(\n",
    "    # '[#]{1,}\\s*[c]{0,1}\\d{1,}(?:\\.{0,1})\\d{0,}\\n'\n",
    "    # 'subtype=\"sec'\n",
    "    # '\\n#{1,2}\\s*[c]{0,1}(\\d{1,})\\.{0,1}(\\d{0,})\\n(.*?(?=\\n#|$))',\n",
    "    '\\n#{1,2}\\s*(\\d{1,})\\.(\\d{1,})(.*?(?=\\n#|$))',\n",
    "    re.DOTALL\n",
    ").findall(\n",
    "    strn1\n",
    ")\n",
    "\n",
    "\n",
    "with open(\"/mnt/f/Documents/notes/Ref/iamb.myst/096.html\") as f:\n",
    "    strn2 = f.read()\n",
    "\n",
    "matches2 = re.compile(\n",
    "    # '[#]{1,}\\s*[c]{0,1}\\d{1,}(?:\\.{0,1})\\d{0,}\\n'\n",
    "    # 'subtype=\"sec'\n",
    "    # '\\n#{1,2}\\s*[c]{0,1}(\\d{1,})\\.{0,1}(\\d{0,})\\n(.*?(?=\\n#|$))',\n",
    "    'CHAP\\.\\s[0IVX]*(.*?)(?=CHAP\\.\\s|$)',\n",
    "    re.DOTALL\n",
    ").findall(\n",
    "    strn2\n",
    ")\n",
    "\n",
    "# n = 94\n",
    "print(\n",
    "    len(matches1),\n",
    "    len(matches2)\n",
    "    #   +n\n",
    "      )\n",
    "\n",
    "# matches1\n",
    "strNew = ''\n",
    "for n in range(len(matches1)):\n",
    "    # if n == len(matches1)-1:\n",
    "        # print(\n",
    "        #     matches1[n],\n",
    "        #     matches2[n]\n",
    "        #     )\n",
    "    strNew += f'\\n\\n## {matches1[n][0]}.{matches1[n][1]}\\n{matches1[n][2]}\\n{matches2[n]}'\n",
    "\n",
    "# print(strNew)\n",
    "with open('/mnt/f/Documents/notes/Ref/iamb.myst4.md', 'w') as f:\n",
    "    f.write(strNew)"
   ]
  },
  {
   "cell_type": "code",
   "execution_count": 12,
   "metadata": {},
   "outputs": [
    {
     "data": {
      "text/plain": [
       "141"
      ]
     },
     "execution_count": 12,
     "metadata": {},
     "output_type": "execute_result"
    }
   ],
   "source": [
    "import re\n",
    "\n",
    "with open('/mnt/f/Documents/notes/Ref/iamb.MEg.md') as f:\n",
    "    strn1 = f.read()\n",
    "\n",
    "matches = re.compile(\n",
    "    '\\n##\\s\\d*\\.\\d*'\n",
    ").findall(\n",
    "    strn1\n",
    ")\n",
    "\n",
    "len(matches)"
   ]
  },
  {
   "cell_type": "code",
   "execution_count": 10,
   "metadata": {},
   "outputs": [
    {
     "name": "stdout",
     "output_type": "stream",
     "text": [
      "139\n"
     ]
    }
   ],
   "source": [
    "import re\n",
    "\n",
    "with open(\"/mnt/f/Documents/notes/Ref/iamb.MEg.md\") as f:\n",
    "    strn1 = f.read()\n",
    "\n",
    "matches = re.compile(\n",
    "    '(\\n##\\s\\d*\\.\\d*\\n)([^#a-zA-Z]*?(?=[a-zA-Z]))([^#]*(?=\\n#|$))',\n",
    "    re.DOTALL\n",
    ").findall(\n",
    "    strn1\n",
    ")\n",
    "\n",
    "print(\n",
    "    # matches\n",
    "    len(matches)\n",
    ")\n",
    "\n",
    "strnNew = ''\n",
    "\n",
    "for match in matches:\n",
    "    strnNew += match[0]\n",
    "    secs = re.compile(\n",
    "        # '[#]{1,}\\s*[c]{0,1}\\d{1,}(?:\\.{0,1})\\d{0,}\\n'\n",
    "        # 'subtype=\"sec'\n",
    "        # '\\n#{1,2}\\s*[c]{0,1}(\\d{1,})\\.{0,1}(\\d{0,})\\n(.*?(?=\\n#|$))',\n",
    "        '([^#\\.0-9a-zA-Z]{1,}\\.)',\n",
    "        re.DOTALL\n",
    "    ).findall(\n",
    "        match[1]\n",
    "    )\n",
    "\n",
    "    # print(secs)\n",
    "\n",
    "    matchUpd = ''\n",
    "    for n in range(len(secs)):\n",
    "        secu = secs[n].strip('\\n').strip(' ')\n",
    "        matchUpd += f'\\n\\n### {n+1}\\n\\n#### gr\\n\\n{secu}\\n\\n#### en\\n\\n#### sn\\n\\n{secu}\\n\\n#### ar\\n\\n{secu}\\n\\n'\n",
    "    \n",
    "    # print('--------------------', matchUpd)\n",
    "\n",
    "    strnNew += matchUpd\n",
    "\n",
    "    strnNew += match[2]\n",
    "# ).sub(\n",
    "#     '### \\n#### gr\\\\1\\n\\n#### en \\n\\n#### sn\\n\\n\\\\1\\n\\n#### ar\\n\\n\\\\1',\n",
    "#     strn1\n",
    "# )\n",
    "\n",
    "# matches1\n",
    "# strn1\n",
    "with open('/mnt/f/Documents/notes/Ref/iamb.MEg2.md', 'w') as f:\n",
    "    f.write(strnNew)"
   ]
  },
  {
   "cell_type": "code",
   "execution_count": 9,
   "metadata": {},
   "outputs": [],
   "source": [
    "strn1"
   ]
  },
  {
   "cell_type": "markdown",
   "metadata": {},
   "source": [
    "[notes/filename](/mnt/f/Documents/notes/001_eskaton/001_chhatak/mejo_mama/Ghulat/a'jamī/A'jamī_Foreign_words_vocab_in_quran.md)"
   ]
  },
  {
   "cell_type": "markdown",
   "metadata": {},
   "source": [
    "[notes/filename](/mnt/f/Documents/notes/001_eskaton/001_chhatak/mejo_mama/Ghulat/a'jamī/Farsi_persian_iranian.md)"
   ]
  },
  {
   "cell_type": "code",
   "execution_count": 15,
   "metadata": {},
   "outputs": [
    {
     "name": "stdout",
     "output_type": "stream",
     "text": [
      "'sorter.json' found'\n",
      "last item in sorter: 110:3\n",
      "successfully loaded sorter of length 6236 from 'sorter.json'\n",
      "142\n"
     ]
    }
   ],
   "source": [
    "# from qChronolyze import getSorter\n",
    "# sorter = getSorter()\n",
    "\n",
    "# import re\n",
    "\n",
    "# with open(\"/mnt/f/Documents/notes/001_eskaton/001_chhatak/mejo_mama/Ghulat/a'jamī/A'jamī_Foreign_words_vocab_in_quran.md\") as f:\n",
    "#     strn1 = f.read()\n",
    "# with open(\"data/compare/foreign.md\") as f:\n",
    "#     strn2 = f.read()\n",
    "\n",
    "# # matches = re.findall(\"(\\d{1,3})\\:(\\d{1,3})\", strn)\n",
    "\n",
    "# # matches\n",
    "    \n",
    "# # print(strn1)\n",
    "# # print(strn2)\n",
    "\n",
    "# surAys = []\n",
    "\n",
    "# for surAy in sorter:\n",
    "#     refs = re.compile('(?<=#\\s)'+surAy+'(?=[\\n$])', re.DOTALL).findall(strn1)\n",
    "#     if len(refs) > 0:\n",
    "#         ref = refs[0]\n",
    "#         surAys.append(ref)\n",
    "#     refs = re.compile('(?<=#\\s)'+surAy+'(?=[\\n$])', re.DOTALL).findall(strn2)\n",
    "#     if len(refs) > 0 and refs[0] not in surAys:\n",
    "#         ref = refs[0]\n",
    "#         surAys.append(ref)\n",
    "\n",
    "# print(len(surAys))\n",
    "\n",
    "# with open(\"data/compare/foreign_new.md\", 'a') as f:        \n",
    "#     for surAy in surAys:\n",
    "#         refs = re.compile(\"#\\s*\"+surAy+\"\\n.*?\\n(?=(?:#\\s\\d{1,3}\\:\\d{1,3}\\n|$))\", re.DOTALL).findall(strn1)\n",
    "#         if len(refs) > 0:\n",
    "#             f.write(refs[0])\n",
    "#         if len(refs) == 0:\n",
    "#             f.write(\n",
    "#                 '# '+surAy+'\\n'+\n",
    "#                 '![[Qsortedrukued#'+surAy+']]\\n'\n",
    "#             )"
   ]
  },
  {
   "cell_type": "code",
   "execution_count": null,
   "metadata": {},
   "outputs": [
    {
     "name": "stdout",
     "output_type": "stream",
     "text": [
      "'sorter.json' found'\n",
      "last item in sorter: 110:3\n",
      "successfully loaded sorter of length 6236 from 'sorter.json'\n"
     ]
    }
   ],
   "source": [
    "# from qChronolyze import getSorter\n",
    "# sorter = getSorter()\n",
    "\n",
    "# import re\n",
    "\n",
    "# with open(\"data/compare/foreign.txt\") as f:\n",
    "#     strn = f.read()\n",
    "\n",
    "# # matches = re.findall(\"(\\d{1,3})\\:(\\d{1,3})\", strn)\n",
    "\n",
    "# # matches\n",
    "\n",
    "# surAys = []\n",
    "\n",
    "# for surAy in sorter:\n",
    "#     refs = re.compile('(?<=[\\n\\^])'+surAy+'(?=[\\n$])', re.DOTALL).findall(strn)\n",
    "#     if len(refs) > 0:\n",
    "#         ref = refs[0]\n",
    "#         surAys.append(ref)\n",
    "\n",
    "# with open(\"data/compare/foreign.md\", 'a') as f:\n",
    "#     for surAy in surAys:\n",
    "#         f.write(\n",
    "#             '# '+surAy+'\\n'+\n",
    "#             '![[Qsortedrukued#'+surAy+']]\\n'\n",
    "#         )"
   ]
  },
  {
   "cell_type": "code",
   "execution_count": 7,
   "metadata": {},
   "outputs": [],
   "source": [
    "# import re\n",
    "\n",
    "# with open(\"data/ref/to.txt\") as f:\n",
    "#     strn = f.read()\n",
    "\n",
    "# matches = re.findall(\"(\\S*) verse (\\d{1,3})\", strn)\n",
    "\n",
    "# matches\n",
    "\n",
    "# with open(\"data/compare/foreign.txt\", 'a') as f:\n",
    "#     for match in matches:\n",
    "#         f.write(match[0]+':'+match[1]+'\\n')"
   ]
  },
  {
   "cell_type": "code",
   "execution_count": 189,
   "metadata": {},
   "outputs": [
    {
     "name": "stdout",
     "output_type": "stream",
     "text": [
      "'sorter.json' found'\n",
      "last item in sorter: 110:3\n",
      "successfully loaded sorter of length 6236 from 'sorter.json'\n",
      "45\n"
     ]
    }
   ],
   "source": [
    "# from qChronolyze import getSorter\n",
    "# sorter = getSorter()\n",
    "\n",
    "# import re\n",
    "# with open(\"/mnt/f/Documents/notes/001_eskaton/001_chhatak/mejo_mama/Ghulat/a'jamī/A'jamī_Foreign_words_vocab_in_quran.md\") as f:\n",
    "#     strn = f.read()\n",
    "\n",
    "# surAys = []\n",
    "\n",
    "# for surAy in sorter:\n",
    "#     refs = re.compile(\"#\\s*\"+surAy+\"\\n.*?\\n(?=(?:#\\s\\d{1,3}\\:\\d{1,3}\\n|$))\", re.DOTALL).findall(strn)\n",
    "#     if len(refs) > 0:\n",
    "#         ref = \"\\n\".join(refs)\n",
    "#         surAys.append(ref)\n",
    "\n",
    "# print(len(surAys))\n",
    "# surAys\n",
    "\n",
    "# with open(\"/mnt/f/Documents/notes/001_eskaton/001_chhatak/mejo_mama/Ghulat/a'jamī/A'jamī_Foreign_words_vocab_in_quran_new.md\", 'a') as f:\n",
    "#     for ref in surAys:\n",
    "#         f.write(ref+'\\n')"
   ]
  },
  {
   "cell_type": "code",
   "execution_count": null,
   "metadata": {},
   "outputs": [],
   "source": [
    "# import re\n",
    "# with open(\"/mnt/f/Documents/notes/001_eskaton/001_chhatak/mejo_mama/Ghulat/a'jamī/Farsi_persian_iranian.md\") as f:\n",
    "#     # matches = re.compile(r'\\[Q#s(\\d{1})#*(\\d{1})\\]').findall(f.read())\n",
    "#     # print(matches)\n",
    "#     matches = re.compile(r\"(?<=[\\n\\^])(?:!\\[\\[A'jamī_Foreign_words_vocab_in_quran.*\\]\\]|(?<=[\\n\\^])#\\s*.*?(?=[\\n$]))\").findall(f.read())\n",
    "#     # substr = re.compile(r'(?:\\[.*\\]|)').sub('', f.read())\n",
    "#     # print(substr)\n",
    "#     # re.findall\n",
    "# with open(\"/mnt/f/Documents/notes/001_eskaton/001_chhatak/mejo_mama/Ghulat/a'jamī/Farsi_persian_iranian_new.md\", 'a') as f:\n",
    "#     for match in matches:\n",
    "#         f.write(match+'\\n')\n",
    "# # matches"
   ]
  },
  {
   "cell_type": "code",
   "execution_count": 46,
   "metadata": {},
   "outputs": [],
   "source": [
    "# import re\n",
    "# with open('/mnt/f/Documents/notes/001_eskaton/001_chhatak/mejo_mama/Ghulat/umm_l_kitab.md') as f:\n",
    "#     # matches = re.compile(r'\\[Q#s(\\d{1})#*(\\d{1})\\]').findall(f.read())\n",
    "#     # print(matches)\n",
    "#     substr = re.compile(r'\\[Q#s(\\d{1,})#*(\\d{1,})\\]').sub('[Qsorted#\\\\1:\\\\2]', f.read())\n",
    "#     # print(substr)\n",
    "# with open('data/ref/test.md', 'w') as f:\n",
    "#     f.write(substr)"
   ]
  },
  {
   "cell_type": "code",
   "execution_count": null,
   "metadata": {},
   "outputs": [],
   "source": [
    "# import os\n",
    "# import re\n",
    "\n",
    "# def list_files_recursive(path='.'):\n",
    "# \tfor entry in os.listdir(path):\n",
    "# \t\tfull_path = os.path.join(path, entry)\n",
    "# \t\tif os.path.isdir(full_path):\n",
    "# \t\t\tlist_files_recursive(full_path)\n",
    "# \t\telse:\n",
    "# \t\t\t# print(full_path[-3:])\n",
    "# \t\t\tif full_path[-3:] == '.md':\n",
    "# \t\t\t    # print(full_path)\n",
    "# \t\t\t\twith open(full_path) as f:\n",
    "# \t\t\t\t\tstrng = f.read()\n",
    "# \t\t\t\t\tmatches = re.compile(r'\\[Q#s(\\d{1,})#*(\\d{1,})\\]').findall(strng)\n",
    "# \t\t\t\t\tif len(matches) > 0:\n",
    "# \t\t\t\t\t# if True:\n",
    "# \t\t\t\t\t\t# print(len(matches))\n",
    "# \t\t\t\t\t# print(matches)\n",
    "# \t\t\t\t\t\tsubstr = re.compile(r'\\[Q#s(\\d{1,})#*(\\d{1,})\\]').sub('[Qsorted#\\\\1:\\\\2]', strng)\n",
    "# \t\t\t\t\t\t# print(substr)\n",
    "# \t\t\t\t\t\twith open(full_path, 'w') as f:\n",
    "# \t\t\t\t\t\t\tf.write(substr)\n",
    "\n",
    "# # Specify the directory path you want to start from\n",
    "# directory_path = '/mnt/f/Documents/notes'\n",
    "# list_files_recursive(directory_path)\n"
   ]
  },
  {
   "cell_type": "markdown",
   "metadata": {},
   "source": [
    "# surayed"
   ]
  },
  {
   "cell_type": "code",
   "execution_count": 34,
   "metadata": {},
   "outputs": [
    {
     "name": "stdout",
     "output_type": "stream",
     "text": [
      "بِسْمِ ٱللَّهِ \n"
     ]
    }
   ],
   "source": [
    "with open('data/ref/uthmani-qurancom.md') as f:\n",
    "    qStr=f.read()\n",
    "print(qStr[55:70])"
   ]
  },
  {
   "cell_type": "code",
   "execution_count": 35,
   "metadata": {},
   "outputs": [],
   "source": [
    "import  re\n",
    "\n",
    "serial_ayah_pair = re.compile('#\\s*(\\d*)[\\n\\s]*(.*)(?=[\\n\\s]*[#]*)').findall(qStr)\n",
    "# re.compile('#\\s*(\\d*)').sub(qStr)"
   ]
  },
  {
   "cell_type": "code",
   "execution_count": 36,
   "metadata": {},
   "outputs": [],
   "source": [
    "import json\n",
    "with open('qdict.json') as f:\n",
    "    qDict = json.loads(f.read())"
   ]
  },
  {
   "cell_type": "code",
   "execution_count": 37,
   "metadata": {},
   "outputs": [
    {
     "data": {
      "text/plain": [
       "6236"
      ]
     },
     "execution_count": 37,
     "metadata": {},
     "output_type": "execute_result"
    }
   ],
   "source": [
    "len(serial_ayah_pair)"
   ]
  },
  {
   "cell_type": "code",
   "execution_count": 38,
   "metadata": {},
   "outputs": [
    {
     "data": {
      "text/plain": [
       "dict_keys(['1', '2', '3', '4', '5', '6', '7', '8', '9', '10', '11', '12', '13', '14', '15', '16', '17', '18', '19', '20', '21', '22', '23', '24', '25', '26', '27', '28', '29', '30', '31', '32', '33', '34', '35', '36', '37', '38', '39', '40', '41', '42', '43', '44', '45', '46', '47', '48', '49', '50', '51', '52', '53', '54', '55', '56', '57', '58', '59', '60', '61', '62', '63', '64', '65', '66', '67', '68', '69', '70', '71', '72', '73', '74', '75', '76', '77', '78', '79', '80', '81', '82', '83', '84', '85', '86', '87', '88', '89', '90', '91', '92', '93', '94', '95', '96', '97', '98', '99', '100', '101', '102', '103', '104', '105', '106', '107', '108', '109', '110', '111', '112', '113', '114'])"
      ]
     },
     "execution_count": 38,
     "metadata": {},
     "output_type": "execute_result"
    }
   ],
   "source": [
    "qDict.keys()"
   ]
  },
  {
   "cell_type": "code",
   "execution_count": 39,
   "metadata": {},
   "outputs": [],
   "source": [
    "sur = 1\n",
    "ay = 1\n",
    "# ser = 1\n",
    "no_ayah_pairs = {}\n",
    "\n",
    "for pair in serial_ayah_pair:\n",
    "    no_ayah_pairs[f'{sur}:{ay}'] = pair[1]\n",
    "    ay += 1\n",
    "    if ay > qDict[str(sur)]['verse_count']:\n",
    "        sur += 1\n",
    "        ay = 1"
   ]
  },
  {
   "cell_type": "code",
   "execution_count": 40,
   "metadata": {},
   "outputs": [
    {
     "name": "stdout",
     "output_type": "stream",
     "text": [
      "بِسْمِ ٱللَّهِ \n"
     ]
    }
   ],
   "source": [
    "with open('data/ref/uthmani-qurancom.md') as f:\n",
    "    qStr=f.read()\n",
    "print(qStr[55:70])"
   ]
  },
  {
   "cell_type": "code",
   "execution_count": 41,
   "metadata": {},
   "outputs": [],
   "source": [
    "saQstr = ''\n",
    "for suray, vrs in no_ayah_pairs.items():\n",
    "    if suray.split(':')[1] == \"1\":\n",
    "        sur = suray.split(':')[0]\n",
    "        # print(sur)\n",
    "        saQstr += f'# s{sur}\\n\\n' + f'{qDict[str(sur)][\"surah_name\"]}\\n\\n'\n",
    "    saQstr += f'### {suray}\\n\\n{vrs}\\n\\n'"
   ]
  },
  {
   "cell_type": "code",
   "execution_count": 42,
   "metadata": {},
   "outputs": [],
   "source": [
    "with open('data/ref/QSAed.md', 'w') as f:\n",
    "    f.write(saQstr)"
   ]
  },
  {
   "cell_type": "markdown",
   "metadata": {},
   "source": [
    "# rukued"
   ]
  },
  {
   "cell_type": "code",
   "execution_count": 43,
   "metadata": {},
   "outputs": [],
   "source": [
    "import re\n",
    "with open('rukus4.txt') as f:\n",
    "    rukuStr = f.read()\n",
    "\n",
    "rukus = rukuStr.split('\\n')"
   ]
  },
  {
   "cell_type": "code",
   "execution_count": 44,
   "metadata": {},
   "outputs": [
    {
     "data": {
      "text/plain": [
       "(554, '114:1:1-6')"
      ]
     },
     "execution_count": 44,
     "metadata": {},
     "output_type": "execute_result"
    }
   ],
   "source": [
    "len(rukus),  rukus[-1]"
   ]
  },
  {
   "cell_type": "code",
   "execution_count": 50,
   "metadata": {},
   "outputs": [],
   "source": [
    "with open('data/ref/QSAed.md') as f:\n",
    "    q = f.read()\n",
    "\n",
    "qRukued = q\n",
    "\n",
    "# count = 0\n",
    "import re\n",
    "for ruku in rukus:\n",
    "    surah = ruku.split(\":\")[0]\n",
    "    rukuno = ruku.split(\":\")[1]\n",
    "    rukuStartAyah = ruku.split(\":\")[2].split(\"-\")[0]\n",
    "    rukuEndAyah = ruku.split(\":\")[2].split(\"-\")[1]\n",
    "    surahAyah = f'### {surah}:{rukuStartAyah}'\n",
    "    # match = re.compile(surahAyah).search(q).group()\n",
    "    # match = re.search(surahAyah, q).group()\n",
    "    # match = re.findall(\n",
    "    #     surahAyah+'(?=[\\n$])', \n",
    "    #     q\n",
    "    # )\n",
    "    # count += len(match)\n",
    "    # print(match)\n",
    "    qRukued =  re.compile(\n",
    "        f'{surahAyah}(?=[\\n$])'\n",
    "    ).sub(\n",
    "        f'\\n## r{surah}.{rukuno}\\n'\n",
    "        + f'\\n[Q.{surah}.{rukuStartAyah}-{rukuEndAyah}]'\n",
    "        + f'(https://www.islamicstudies.info/tafheem.php?sura={surah}&verse={rukuStartAyah}&to={rukuEndAyah})\\n'\n",
    "        + f'\\n{surahAyah}',\n",
    "        qRukued\n",
    "    )\n",
    "# print(count)"
   ]
  },
  {
   "cell_type": "code",
   "execution_count": 51,
   "metadata": {},
   "outputs": [],
   "source": [
    "with open('data/ref/QRed.md', 'w') as f:\n",
    "    f.write(qRukued)"
   ]
  },
  {
   "cell_type": "markdown",
   "metadata": {},
   "source": [
    "# rsed"
   ]
  },
  {
   "cell_type": "code",
   "execution_count": 294,
   "metadata": {},
   "outputs": [
    {
     "name": "stdout",
     "output_type": "stream",
     "text": [
      "ِ ٱللَّهِ ٱلرَّحْمَـٰنِ ٱلرَّح\n"
     ]
    }
   ],
   "source": [
    "with open('data/ref/QRed.md') as f:\n",
    "    qStr=f.read()\n",
    "print(qStr[120:150])"
   ]
  },
  {
   "cell_type": "code",
   "execution_count": 56,
   "metadata": {},
   "outputs": [],
   "source": [
    "with open('sorter.json') as f:\n",
    "    sorter = json.loads(f.read())"
   ]
  },
  {
   "cell_type": "code",
   "execution_count": 298,
   "metadata": {},
   "outputs": [
    {
     "data": {
      "text/plain": [
       "'110:3'"
      ]
     },
     "execution_count": 298,
     "metadata": {},
     "output_type": "execute_result"
    }
   ],
   "source": [
    "sorter[-1]"
   ]
  },
  {
   "cell_type": "code",
   "execution_count": 295,
   "metadata": {},
   "outputs": [],
   "source": [
    "import  re\n",
    "\n",
    "no_ayah_pair = re.compile('###\\s*(\\d*\\:\\d*)[\\n\\s]*(.*)(?=[\\n\\s]*[#]*)').findall(qStr)"
   ]
  },
  {
   "cell_type": "code",
   "execution_count": 296,
   "metadata": {},
   "outputs": [
    {
     "data": {
      "text/plain": [
       "6236"
      ]
     },
     "execution_count": 296,
     "metadata": {},
     "output_type": "execute_result"
    }
   ],
   "source": [
    "len(no_ayah_pair)"
   ]
  },
  {
   "cell_type": "code",
   "execution_count": 297,
   "metadata": {},
   "outputs": [
    {
     "data": {
      "text/plain": [
       "('1:1', 'بِسْمِ ٱللَّهِ ٱلرَّحْمَـٰنِ ٱلرَّحِيمِ')"
      ]
     },
     "execution_count": 297,
     "metadata": {},
     "output_type": "execute_result"
    }
   ],
   "source": [
    "no_ayah_pair[0]"
   ]
  },
  {
   "cell_type": "code",
   "execution_count": 313,
   "metadata": {},
   "outputs": [],
   "source": [
    "with open('qDict.json') as f:\n",
    "    qSurList = list(json.loads(f.read()).keys())\n",
    "\n",
    "# print(qDict.keys())\n",
    "# print(qSurList)\n",
    "\n",
    "import re\n",
    "\n",
    "with open('rukus4.txt') as f:\n",
    "    rukuStr = f.read()\n",
    "\n",
    "surRukStrts = {}\n",
    "\n",
    "for sur in qSurList:\n",
    "    rukStrts = re.compile(\n",
    "            \"[\\n](?:\"+sur+r\"\\:\\d{1,2}\\:)(\\d{1,})(?:\\-\\d{1,3})\"\n",
    "            ).findall(\n",
    "                rukuStr\n",
    "    )\n",
    "    surRukStrts[sur] = rukStrts\n",
    "# rukuDict = {}"
   ]
  },
  {
   "cell_type": "code",
   "execution_count": null,
   "metadata": {},
   "outputs": [],
   "source": [
    "print(surRukStrts)"
   ]
  },
  {
   "cell_type": "code",
   "execution_count": 272,
   "metadata": {},
   "outputs": [
    {
     "name": "stdout",
     "output_type": "stream",
     "text": [
      "554\n"
     ]
    }
   ],
   "source": [
    "rukustrts = [ subrow for row in surRukStrts.values() for subrow in row ]\n",
    "print(len(rukustrts))"
   ]
  },
  {
   "cell_type": "code",
   "execution_count": 304,
   "metadata": {},
   "outputs": [
    {
     "data": {
      "text/plain": [
       "('1',)"
      ]
     },
     "execution_count": 304,
     "metadata": {},
     "output_type": "execute_result"
    }
   ],
   "source": [
    "import re\n",
    "re.search(\n",
    "    \"\\n(1)\\n\",\n",
    "    \"\\n1\\n\"\n",
    ").groups()"
   ]
  },
  {
   "cell_type": "code",
   "execution_count": null,
   "metadata": {},
   "outputs": [],
   "source": [
    "qRSed = ''\n",
    "import re\n",
    "for surAy in sorter:\n",
    "    sur = surAy.split(\":\")[0]\n",
    "    ay = surAy.split(\":\")[1]\n",
    "    if ay == \"1\":\n",
    "        qRSed += f'\\n# s{sur}\\n'\n",
    "    if ay in surRukStrts[sur]:\n",
    "        rukno = surRukStrts[sur].index(ay)+1\n",
    "        rukuStartAyah = ay\n",
    "        # rukuEndAyah = surRukStrts[sur][rukno] - 1\n",
    "        match = re.findall(\n",
    "            '\\n'+sur+'\\:\\d{1,}\\:'+ay+'-(\\d{1,})\\n',\n",
    "            rukuStr\n",
    "        )\n",
    "        # print(sur,ay,match)\n",
    "        rukuEndAyah = match[0]\n",
    "        qRSed += f'\\n## r{sur}.{str(rukno)}\\n' + f'\\n[Q.{sur}.{rukuStartAyah}-{rukuEndAyah}](https://www.islamicstudies.info/tafheem.php?sura={sur}&verse={rukuStartAyah}&to={rukuEndAyah})\\n'\n",
    "    qRSed += f'\\n### {surAy}\\n' + f'\\n{no_ayah_pairs[surAy]}\\n'"
   ]
  },
  {
   "cell_type": "code",
   "execution_count": 315,
   "metadata": {},
   "outputs": [],
   "source": [
    "with open('data/ref/Qrsed.md', 'w') as f:\n",
    "    f.write(qRSed)"
   ]
  },
  {
   "cell_type": "markdown",
   "metadata": {},
   "source": [
    "# qTf"
   ]
  },
  {
   "cell_type": "code",
   "execution_count": 1,
   "metadata": {},
   "outputs": [],
   "source": [
    "with open(\"data/ref/Qrsi.md\") as f:\n",
    "    qTx = f.read()"
   ]
  },
  {
   "cell_type": "code",
   "execution_count": 4,
   "metadata": {},
   "outputs": [],
   "source": [
    "import re\n",
    "\n",
    "qTfTx = re.sub(\n",
    "    \"\\n### (\\d*:\\d*)\\n\",\n",
    "    \"\\n### \\\\1\\n[[tfTb#\\\\1]]\\n[[tfKthE#\\\\1]]\\n[[tfKhtB#\\\\1]]\\n\",\n",
    "    qTx\n",
    ")"
   ]
  },
  {
   "cell_type": "code",
   "execution_count": 5,
   "metadata": {},
   "outputs": [],
   "source": [
    "with open(\"data/ref/Qtf.md\", \"w+\") as f:\n",
    "    f.write(qTfTx)"
   ]
  },
  {
   "cell_type": "markdown",
   "metadata": {},
   "source": [
    "# regex"
   ]
  },
  {
   "cell_type": "code",
   "execution_count": 30,
   "metadata": {},
   "outputs": [
    {
     "data": {
      "text/plain": [
       "['[', ']']"
      ]
     },
     "execution_count": 30,
     "metadata": {},
     "output_type": "execute_result"
    }
   ],
   "source": [
    "list('[]')"
   ]
  },
  {
   "cell_type": "code",
   "execution_count": 39,
   "metadata": {},
   "outputs": [
    {
     "name": "stdout",
     "output_type": "stream",
     "text": [
      "{'surah': '96', 'exception': []}\n",
      "# 96\n",
      "1\n",
      "The Clot\n",
      "\n",
      "{'surah': '68', 'exception': [{'ayah_range': '17-33', 'before': '2:1'}, {'ayah_range': '48-50', 'before': '2:1'}]}\n",
      "{'ayah_range': '17-33', 'before': '2:1'}\n",
      "{'ayah_range': '48-50', 'before': '2:1'}\n",
      "# 68\n",
      "2\n",
      "The Pen\n",
      "exceptions: ayah_range: 17-33, before: 2:1, \n",
      "exceptions: ayah_range: 48-50, before: 2:1, \n",
      "\n",
      "{'surah': '73', 'exception': [{'ayah_range': '10-11', 'before': '2:1'}, {'ayah_range': '20', 'before': '2:1'}]}\n",
      "{'ayah_range': '10-11', 'before': '2:1'}\n",
      "{'ayah_range': '20', 'before': '2:1'}\n",
      "# 73\n",
      "3\n",
      "The Enshrouded One\n",
      "exceptions: ayah_range: 10-11, before: 2:1, \n",
      "exceptions: ayah_range: 20, before: 2:1, \n",
      "\n",
      "{'surah': '74', 'exception': []}\n",
      "# 74\n",
      "4\n",
      "The Cloaked One\n",
      "\n",
      "{'surah': '1', 'exception': []}\n",
      "# 1\n",
      "5\n",
      "The Opening\n",
      "\n",
      "{'surah': '111', 'exception': []}\n",
      "# 111\n",
      "6\n",
      "The Palm Fibre\n",
      "\n",
      "{'surah': '81', 'exception': []}\n",
      "# 81\n",
      "7\n",
      "The Overthrowing\n",
      "\n",
      "{'surah': '87', 'exception': []}\n",
      "# 87\n",
      "8\n",
      "The Most High\n",
      "\n",
      "{'surah': '92', 'exception': []}\n",
      "# 92\n",
      "9\n",
      "The Night\n",
      "\n",
      "{'surah': '89', 'exception': []}\n",
      "# 89\n",
      "10\n",
      "The Dawn\n",
      "\n",
      "{'surah': '93', 'exception': []}\n",
      "# 93\n",
      "11\n",
      "The Morning Hours\n",
      "\n",
      "{'surah': '94', 'exception': []}\n",
      "# 94\n",
      "12\n",
      "The Consolation\n",
      "\n",
      "{'surah': '103', 'exception': []}\n",
      "# 103\n",
      "13\n",
      "The Declining Day, Epoch\n",
      "\n",
      "{'surah': '100', 'exception': []}\n",
      "# 100\n",
      "14\n",
      "The Chargers\n",
      "\n",
      "{'surah': '108', 'exception': []}\n",
      "# 108\n",
      "15\n",
      "Abundance\n",
      "\n",
      "{'surah': '102', 'exception': []}\n",
      "# 102\n",
      "16\n",
      "Competition\n",
      "\n",
      "{'surah': '107', 'exception': [{'ayah_range': '4-7', 'before': '2:1'}]}\n",
      "{'ayah_range': '4-7', 'before': '2:1'}\n",
      "# 107\n",
      "17\n",
      "Almsgiving\n",
      "exceptions: ayah_range: 4-7, before: 2:1, \n",
      "\n",
      "{'surah': '109', 'exception': []}\n",
      "# 109\n",
      "18\n",
      "The Disbelievers\n",
      "\n",
      "{'surah': '105', 'exception': []}\n",
      "# 105\n",
      "19\n",
      "The Elephant\n",
      "\n",
      "{'surah': '113', 'exception': []}\n",
      "# 113\n",
      "20\n",
      "The Dawn\n",
      "\n",
      "{'surah': '114', 'exception': []}\n",
      "# 114\n",
      "21\n",
      "Mankind\n",
      "\n",
      "{'surah': '112', 'exception': []}\n",
      "# 112\n",
      "22\n",
      "Sincerity\n",
      "\n",
      "{'surah': '53', 'exception': [{'ayah_range': '32', 'before': '2:1'}]}\n",
      "{'ayah_range': '32', 'before': '2:1'}\n",
      "# 53\n",
      "23\n",
      "The Star\n",
      "exceptions: ayah_range: 32, before: 2:1, \n",
      "\n",
      "{'surah': '80', 'exception': []}\n",
      "# 80\n",
      "24\n",
      "He frowned\n",
      "\n",
      "{'surah': '97', 'exception': []}\n",
      "# 97\n",
      "25\n",
      "The Power, Fate\n",
      "\n",
      "{'surah': '91', 'exception': []}\n",
      "# 91\n",
      "26\n",
      "The Sun\n",
      "\n",
      "{'surah': '85', 'exception': []}\n",
      "# 85\n",
      "27\n",
      "The Constellations\n",
      "\n",
      "{'surah': '95', 'exception': []}\n",
      "# 95\n",
      "28\n",
      "The Fig\n",
      "\n",
      "{'surah': '106', 'exception': []}\n",
      "# 106\n",
      "29\n",
      "Quraysh\n",
      "\n",
      "{'surah': '101', 'exception': []}\n",
      "# 101\n",
      "30\n",
      "The Calamity\n",
      "\n",
      "{'surah': '75', 'exception': []}\n",
      "# 75\n",
      "31\n",
      "The Resurrection\n",
      "\n",
      "{'surah': '104', 'exception': []}\n",
      "# 104\n",
      "32\n",
      "The Traducer\n",
      "\n",
      "{'surah': '77', 'exception': [{'ayah_range': '48', 'before': '2:1'}]}\n",
      "{'ayah_range': '48', 'before': '2:1'}\n",
      "# 77\n",
      "33\n",
      "The Emissaries\n",
      "exceptions: ayah_range: 48, before: 2:1, \n",
      "\n",
      "{'surah': '50', 'exception': [{'ayah_range': '38', 'before': '2:1'}]}\n",
      "{'ayah_range': '38', 'before': '2:1'}\n",
      "# 50\n",
      "34\n",
      "The letter Qaaf\n",
      "exceptions: ayah_range: 38, before: 2:1, \n",
      "\n",
      "{'surah': '90', 'exception': []}\n",
      "# 90\n",
      "35\n",
      "The City\n",
      "\n",
      "{'surah': '86', 'exception': []}\n",
      "# 86\n",
      "36\n",
      "The Morning Star\n",
      "\n",
      "{'surah': '54', 'exception': [{'ayah_range': '44-46', 'before': '2:1'}]}\n",
      "{'ayah_range': '44-46', 'before': '2:1'}\n",
      "# 54\n",
      "37\n",
      "The Moon\n",
      "exceptions: ayah_range: 44-46, before: 2:1, \n",
      "\n",
      "{'surah': '38', 'exception': []}\n",
      "# 38\n",
      "38\n",
      "The letter Saad\n",
      "\n",
      "{'surah': '7', 'exception': [{'ayah_range': '163-170', 'before': '2:1'}]}\n",
      "{'ayah_range': '163-170', 'before': '2:1'}\n",
      "# 7\n",
      "39\n",
      "The Heights\n",
      "exceptions: ayah_range: 163-170, before: 2:1, \n",
      "\n",
      "{'surah': '72', 'exception': []}\n",
      "# 72\n",
      "40\n",
      "The Jinn\n",
      "\n",
      "{'surah': '36', 'exception': [{'ayah_range': '45', 'before': '2:1'}]}\n",
      "{'ayah_range': '45', 'before': '2:1'}\n",
      "# 36\n",
      "41\n",
      "Yaseen\n",
      "exceptions: ayah_range: 45, before: 2:1, \n",
      "\n",
      "{'surah': '25', 'exception': [{'ayah_range': '68-70', 'before': '2:1'}]}\n",
      "{'ayah_range': '68-70', 'before': '2:1'}\n",
      "# 25\n",
      "42\n",
      "The Criterion\n",
      "exceptions: ayah_range: 68-70, before: 2:1, \n",
      "\n",
      "{'surah': '35', 'exception': []}\n",
      "# 35\n",
      "43\n",
      "The Originator\n",
      "\n",
      "{'surah': '19', 'exception': [{'ayah_range': '58', 'before': '2:1'}, {'ayah_range': '71', 'before': '2:1'}]}\n",
      "{'ayah_range': '58', 'before': '2:1'}\n",
      "{'ayah_range': '71', 'before': '2:1'}\n",
      "# 19\n",
      "44\n",
      "Mary\n",
      "exceptions: ayah_range: 58, before: 2:1, \n",
      "exceptions: ayah_range: 71, before: 2:1, \n",
      "\n",
      "{'surah': '20', 'exception': [{'ayah_range': '130-131', 'before': '2:1'}]}\n",
      "{'ayah_range': '130-131', 'before': '2:1'}\n",
      "# 20\n",
      "45\n",
      "Taa-Haa\n",
      "exceptions: ayah_range: 130-131, before: 2:1, \n",
      "\n",
      "{'surah': '56', 'exception': [{'ayah_range': '81-82', 'before': '2:1'}]}\n",
      "{'ayah_range': '81-82', 'before': '2:1'}\n",
      "# 56\n",
      "46\n",
      "The Inevitable\n",
      "exceptions: ayah_range: 81-82, before: 2:1, \n",
      "\n",
      "{'surah': '26', 'exception': [{'ayah_range': '197', 'before': '2:1'}, {'ayah_range': '224-227', 'before': '2:1'}]}\n",
      "{'ayah_range': '197', 'before': '2:1'}\n",
      "{'ayah_range': '224-227', 'before': '2:1'}\n",
      "# 26\n",
      "47\n",
      "The Poets\n",
      "exceptions: ayah_range: 197, before: 2:1, \n",
      "exceptions: ayah_range: 224-227, before: 2:1, \n",
      "\n",
      "{'surah': '27', 'exception': []}\n",
      "# 27\n",
      "48\n",
      "The Ant\n",
      "\n",
      "{'surah': '28', 'exception': [{'ayah_range': '52-55', 'before': '2:1'}, {'ayah_range': '85', 'after': '83:36'}]}\n",
      "{'ayah_range': '52-55', 'before': '2:1'}\n",
      "{'ayah_range': '85', 'after': '83:36'}\n",
      "# 28\n",
      "49\n",
      "The Stories\n",
      "exceptions: ayah_range: 52-55, before: 2:1, \n",
      "exceptions: ayah_range: 85, after: 83:36, \n",
      "\n",
      "{'surah': '17', 'exception': [{'ayah_range': '26', 'before': '2:1'}, {'ayah_range': '32-33', 'before': '2:1'}, {'ayah_range': '57', 'before': '2:1'}, {'ayah_range': '73-80', 'before': '2:1'}]}\n",
      "{'ayah_range': '26', 'before': '2:1'}\n",
      "{'ayah_range': '32-33', 'before': '2:1'}\n",
      "{'ayah_range': '57', 'before': '2:1'}\n",
      "{'ayah_range': '73-80', 'before': '2:1'}\n",
      "# 17\n",
      "50\n",
      "The Night Journey\n",
      "exceptions: ayah_range: 26, before: 2:1, \n",
      "exceptions: ayah_range: 32-33, before: 2:1, \n",
      "exceptions: ayah_range: 57, before: 2:1, \n",
      "exceptions: ayah_range: 73-80, before: 2:1, \n",
      "\n",
      "{'surah': '10', 'exception': [{'ayah_range': '40', 'before': '2:1'}, {'ayah_range': '94-96', 'before': '2:1'}]}\n",
      "{'ayah_range': '40', 'before': '2:1'}\n",
      "{'ayah_range': '94-96', 'before': '2:1'}\n",
      "# 10\n",
      "51\n",
      "Jonas\n",
      "exceptions: ayah_range: 40, before: 2:1, \n",
      "exceptions: ayah_range: 94-96, before: 2:1, \n",
      "\n",
      "{'surah': '11', 'exception': [{'ayah_range': '12', 'before': '2:1'}, {'ayah_range': '17', 'before': '2:1'}, {'ayah_range': '114', 'before': '2:1'}]}\n",
      "{'ayah_range': '12', 'before': '2:1'}\n",
      "{'ayah_range': '17', 'before': '2:1'}\n",
      "{'ayah_range': '114', 'before': '2:1'}\n",
      "# 11\n",
      "52\n",
      "Hud\n",
      "exceptions: ayah_range: 12, before: 2:1, \n",
      "exceptions: ayah_range: 17, before: 2:1, \n",
      "exceptions: ayah_range: 114, before: 2:1, \n",
      "\n",
      "{'surah': '12', 'exception': [{'ayah_range': '1-3', 'before': '2:1'}, {'ayah_range': '7', 'before': '2:1'}]}\n",
      "{'ayah_range': '1-3', 'before': '2:1'}\n",
      "{'ayah_range': '7', 'before': '2:1'}\n",
      "# 12\n",
      "53\n",
      "Joseph\n",
      "exceptions: ayah_range: 1-3, before: 2:1, \n",
      "exceptions: ayah_range: 7, before: 2:1, \n",
      "\n",
      "{'surah': '15', 'exception': [{'ayah_range': '87', 'before': '2:1'}]}\n",
      "{'ayah_range': '87', 'before': '2:1'}\n",
      "# 15\n",
      "54\n",
      "The Rock\n",
      "exceptions: ayah_range: 87, before: 2:1, \n",
      "\n",
      "{'surah': '6', 'exception': [{'ayah_range': '20', 'before': '2:1'}, {'ayah_range': '23', 'before': '2:1'}, {'ayah_range': '91', 'before': '2:1'}, {'ayah_range': '93', 'before': '2:1'}, {'ayah_range': '114', 'before': '2:1'}, {'ayah_range': '151-153', 'before': '2:1'}]}\n",
      "{'ayah_range': '20', 'before': '2:1'}\n",
      "{'ayah_range': '23', 'before': '2:1'}\n",
      "{'ayah_range': '91', 'before': '2:1'}\n",
      "{'ayah_range': '93', 'before': '2:1'}\n",
      "{'ayah_range': '114', 'before': '2:1'}\n",
      "{'ayah_range': '151-153', 'before': '2:1'}\n",
      "# 6\n",
      "55\n",
      "The Cattle\n",
      "exceptions: ayah_range: 20, before: 2:1, \n",
      "exceptions: ayah_range: 23, before: 2:1, \n",
      "exceptions: ayah_range: 91, before: 2:1, \n",
      "exceptions: ayah_range: 93, before: 2:1, \n",
      "exceptions: ayah_range: 114, before: 2:1, \n",
      "exceptions: ayah_range: 151-153, before: 2:1, \n",
      "\n",
      "{'surah': '37', 'exception': []}\n",
      "# 37\n",
      "56\n",
      "Those drawn up in Ranks\n",
      "\n",
      "{'surah': '31', 'exception': [{'ayah_range': '27-29', 'before': '2:1'}]}\n",
      "{'ayah_range': '27-29', 'before': '2:1'}\n",
      "# 31\n",
      "57\n",
      "Luqman\n",
      "exceptions: ayah_range: 27-29, before: 2:1, \n",
      "\n",
      "{'surah': '34', 'exception': []}\n",
      "# 34\n",
      "58\n",
      "Sheba\n",
      "\n",
      "{'surah': '39', 'exception': []}\n",
      "# 39\n",
      "59\n",
      "The Groups\n",
      "\n",
      "{'surah': '40', 'exception': [{'ayah_range': '56-57', 'before': '2:1'}]}\n",
      "{'ayah_range': '56-57', 'before': '2:1'}\n",
      "# 40\n",
      "60\n",
      "The Forgiver\n",
      "exceptions: ayah_range: 56-57, before: 2:1, \n",
      "\n",
      "{'surah': '41', 'exception': []}\n",
      "# 41\n",
      "61\n",
      "Explained in detail\n",
      "\n",
      "{'surah': '42', 'exception': [{'ayah_range': '23-25', 'before': '2:1'}, {'ayah_range': '27', 'before': '2:1'}]}\n",
      "{'ayah_range': '23-25', 'before': '2:1'}\n",
      "{'ayah_range': '27', 'before': '2:1'}\n",
      "# 42\n",
      "62\n",
      "Consultation\n",
      "exceptions: ayah_range: 23-25, before: 2:1, \n",
      "exceptions: ayah_range: 27, before: 2:1, \n",
      "\n",
      "{'surah': '43', 'exception': [{'ayah_range': '54', 'before': '2:1'}]}\n",
      "{'ayah_range': '54', 'before': '2:1'}\n",
      "# 43\n",
      "63\n",
      "Ornaments of gold\n",
      "exceptions: ayah_range: 54, before: 2:1, \n",
      "\n",
      "{'surah': '44', 'exception': []}\n",
      "# 44\n",
      "64\n",
      "The Smoke\n",
      "\n",
      "{'surah': '45', 'exception': [{'ayah_range': '14', 'before': '2:1'}]}\n",
      "{'ayah_range': '14', 'before': '2:1'}\n",
      "# 45\n",
      "65\n",
      "Crouching\n",
      "exceptions: ayah_range: 14, before: 2:1, \n",
      "\n",
      "{'surah': '46', 'exception': [{'ayah_range': '10', 'before': '2:1'}, {'ayah_range': '15', 'before': '2:1'}, {'ayah_range': '35', 'before': '2:1'}]}\n",
      "{'ayah_range': '10', 'before': '2:1'}\n",
      "{'ayah_range': '15', 'before': '2:1'}\n",
      "{'ayah_range': '35', 'before': '2:1'}\n",
      "# 46\n",
      "66\n",
      "The Dunes\n",
      "exceptions: ayah_range: 10, before: 2:1, \n",
      "exceptions: ayah_range: 15, before: 2:1, \n",
      "exceptions: ayah_range: 35, before: 2:1, \n",
      "\n",
      "{'surah': '51', 'exception': []}\n",
      "# 51\n",
      "67\n",
      "The Winnowing Winds\n",
      "\n",
      "{'surah': '88', 'exception': []}\n",
      "# 88\n",
      "68\n",
      "The Overwhelming\n",
      "\n",
      "{'surah': '18', 'exception': [{'ayah_range': '28', 'before': '2:1'}, {'ayah_range': '83-101', 'before': '2:1'}]}\n",
      "{'ayah_range': '28', 'before': '2:1'}\n",
      "{'ayah_range': '83-101', 'before': '2:1'}\n",
      "# 18\n",
      "69\n",
      "The Cave\n",
      "exceptions: ayah_range: 28, before: 2:1, \n",
      "exceptions: ayah_range: 83-101, before: 2:1, \n",
      "\n",
      "{'surah': '16', 'exception': [{'ayah_range': '126-128', 'before': '2:1'}]}\n",
      "{'ayah_range': '126-128', 'before': '2:1'}\n",
      "# 16\n",
      "70\n",
      "The Bee\n",
      "exceptions: ayah_range: 126-128, before: 2:1, \n",
      "\n",
      "{'surah': '71', 'exception': []}\n",
      "# 71\n",
      "71\n",
      "Noah\n",
      "\n",
      "{'surah': '14', 'exception': [{'ayah_range': '28-29', 'before': '2:1'}]}\n",
      "{'ayah_range': '28-29', 'before': '2:1'}\n",
      "# 14\n",
      "72\n",
      "Abraham\n",
      "exceptions: ayah_range: 28-29, before: 2:1, \n",
      "\n",
      "{'surah': '21', 'exception': []}\n",
      "# 21\n",
      "73\n",
      "The Prophets\n",
      "\n",
      "{'surah': '23', 'exception': []}\n",
      "# 23\n",
      "74\n",
      "The Believers\n",
      "\n",
      "{'surah': '32', 'exception': [{'ayah_range': '16-20', 'before': '2:1'}]}\n",
      "{'ayah_range': '16-20', 'before': '2:1'}\n",
      "# 32\n",
      "75\n",
      "The Prostration\n",
      "exceptions: ayah_range: 16-20, before: 2:1, \n",
      "\n",
      "{'surah': '52', 'exception': []}\n",
      "# 52\n",
      "76\n",
      "The Mount\n",
      "\n",
      "{'surah': '67', 'exception': []}\n",
      "# 67\n",
      "77\n",
      "The Sovereignty\n",
      "\n",
      "{'surah': '69', 'exception': []}\n",
      "# 69\n",
      "78\n",
      "The Reality\n",
      "\n",
      "{'surah': '70', 'exception': []}\n",
      "# 70\n",
      "79\n",
      "The Ascending Stairways\n",
      "\n",
      "{'surah': '78', 'exception': []}\n",
      "# 78\n",
      "80\n",
      "The Announcement\n",
      "\n",
      "{'surah': '79', 'exception': []}\n",
      "# 79\n",
      "81\n",
      "Those who drag forth\n",
      "\n",
      "{'surah': '82', 'exception': []}\n",
      "# 82\n",
      "82\n",
      "The Cleaving\n",
      "\n",
      "{'surah': '84', 'exception': []}\n",
      "# 84\n",
      "83\n",
      "The Splitting Open\n",
      "\n",
      "{'surah': '30', 'exception': [{'ayah_range': '17', 'before': '2:1'}]}\n",
      "{'ayah_range': '17', 'before': '2:1'}\n",
      "# 30\n",
      "84\n",
      "The Romans\n",
      "exceptions: ayah_range: 17, before: 2:1, \n",
      "\n",
      "{'surah': '29', 'exception': [{'ayah_range': '1-11', 'before': '2:1'}]}\n",
      "{'ayah_range': '1-11', 'before': '2:1'}\n",
      "# 29\n",
      "85\n",
      "The Spider\n",
      "exceptions: ayah_range: 1-11, before: 2:1, \n",
      "\n",
      "{'surah': '83', 'exception': []}\n",
      "# 83\n",
      "86\n",
      "Defrauding\n",
      "\n",
      "{'surah': '2', 'exception': [{'ayah_range': '281', 'before': '110:1'}]}\n",
      "{'ayah_range': '281', 'before': '110:1'}\n",
      "# 2\n",
      "87\n",
      "The Cow\n",
      "exceptions: ayah_range: 281, before: 110:1, \n",
      "\n",
      "{'surah': '8', 'exception': [{'ayah_range': '30-36', 'after': '83:36'}]}\n",
      "{'ayah_range': '30-36', 'after': '83:36'}\n",
      "# 8\n",
      "88\n",
      "The Spoils of War\n",
      "exceptions: ayah_range: 30-36, after: 83:36, \n",
      "\n",
      "{'surah': '3', 'exception': []}\n",
      "# 3\n",
      "89\n",
      "The Family of Imraan\n",
      "\n",
      "{'surah': '33', 'exception': []}\n",
      "# 33\n",
      "90\n",
      "The Clans\n",
      "\n",
      "{'surah': '60', 'exception': []}\n",
      "# 60\n",
      "91\n",
      "She that is to be examined\n",
      "\n",
      "{'surah': '4', 'exception': []}\n",
      "# 4\n",
      "92\n",
      "The Women\n",
      "\n",
      "{'surah': '99', 'exception': []}\n",
      "# 99\n",
      "93\n",
      "The Earthquake\n",
      "\n",
      "{'surah': '57', 'exception': []}\n",
      "# 57\n",
      "94\n",
      "The Iron\n",
      "\n",
      "{'surah': '47', 'exception': [{'ayah_range': '13', 'after': '83:36'}]}\n",
      "{'ayah_range': '13', 'after': '83:36'}\n",
      "# 47\n",
      "95\n",
      "Muhammad\n",
      "exceptions: ayah_range: 13, after: 83:36, \n",
      "\n",
      "{'surah': '13', 'exception': []}\n",
      "# 13\n",
      "96\n",
      "The Thunder\n",
      "\n",
      "{'surah': '55', 'exception': []}\n",
      "# 55\n",
      "97\n",
      "The Beneficent\n",
      "\n",
      "{'surah': '76', 'exception': []}\n",
      "# 76\n",
      "98\n",
      "Man\n",
      "\n",
      "{'surah': '65', 'exception': []}\n",
      "# 65\n",
      "99\n",
      "Divorce\n",
      "\n",
      "{'surah': '98', 'exception': []}\n",
      "# 98\n",
      "100\n",
      "The Evidence\n",
      "\n",
      "{'surah': '59', 'exception': []}\n",
      "# 59\n",
      "101\n",
      "The Exile\n",
      "\n",
      "{'surah': '24', 'exception': []}\n",
      "# 24\n",
      "102\n",
      "The Light\n",
      "\n",
      "{'surah': '22', 'exception': [{'ayah_range': '52-55', 'before': '2:1'}]}\n",
      "{'ayah_range': '52-55', 'before': '2:1'}\n",
      "# 22\n",
      "103\n",
      "The Pilgrimage\n",
      "exceptions: ayah_range: 52-55, before: 2:1, \n",
      "\n",
      "{'surah': '63', 'exception': []}\n",
      "# 63\n",
      "104\n",
      "The Hypocrites\n",
      "\n",
      "{'surah': '58', 'exception': []}\n",
      "# 58\n",
      "105\n",
      "The Pleading Woman\n",
      "\n",
      "{'surah': '49', 'exception': []}\n",
      "# 49\n",
      "106\n",
      "The Inner Apartments\n",
      "\n",
      "{'surah': '66', 'exception': []}\n",
      "# 66\n",
      "107\n",
      "The Prohibition\n",
      "\n",
      "{'surah': '64', 'exception': []}\n",
      "# 64\n",
      "108\n",
      "Mutual Disillusion\n",
      "\n",
      "{'surah': '61', 'exception': []}\n",
      "# 61\n",
      "109\n",
      "The Ranks\n",
      "\n",
      "{'surah': '62', 'exception': []}\n",
      "# 62\n",
      "110\n",
      "Friday\n",
      "\n",
      "{'surah': '48', 'exception': []}\n",
      "# 48\n",
      "111\n",
      "The Victory\n",
      "\n",
      "{'surah': '5', 'exception': [{'ayah_range': '3', 'after': '9:129'}]}\n",
      "{'ayah_range': '3', 'after': '9:129'}\n",
      "# 5\n",
      "112\n",
      "The Table\n",
      "exceptions: ayah_range: 3, after: 9:129, \n",
      "\n",
      "{'surah': '9', 'exception': [{'ayah_range': '128-129', 'after': '83:36'}]}\n",
      "{'ayah_range': '128-129', 'after': '83:36'}\n",
      "# 9\n",
      "113\n",
      "The Repentance\n",
      "exceptions: ayah_range: 128-129, after: 83:36, \n",
      "\n",
      "{'surah': '110', 'exception': []}\n",
      "# 110\n",
      "114\n",
      "Divine Support\n",
      "\n"
     ]
    }
   ],
   "source": [
    "import json\n",
    "import csv\n",
    "with open('qdict.json') as f:\n",
    "    qJ = f.read()\n",
    "    qD = json.loads(qJ)\n",
    "with open('surOrd.tsv') as f2:\n",
    "    # qJ = f2.read()\n",
    "    # qD = json.loads(qJ)\n",
    "    surRws = [ {\"surah\": surRow[\"surah\"], \"exception\": json.loads(surRow[\"exception\"])} for surRow in csv.DictReader(f2, delimiter='\\t')]\n",
    "# print(surRws)\n",
    "ord = 0\n",
    "for surRow in surRws:\n",
    "    print(surRow)\n",
    "    ord += 1\n",
    "    with open('/mnt/f/Documents/notes/001_eskaton/001_chhatak/mejo_mama/Ghulat/surord.md', 'a+') as f3:\n",
    "        toAppend = f'# {surRow[\"surah\"]}\\n{ord}\\n{qD[surRow[\"surah\"]][\"surah_name\"]}\\n'\n",
    "        for exc in surRow[\"exception\"]:\n",
    "            print(exc)\n",
    "            # excD = json.loads(exc)\n",
    "            # for k,v in excD.items():\n",
    "            toAppend+= f'exceptions: '\n",
    "            for k,v in exc.items():\n",
    "                toAppend+= f'{k}: {v}, '\n",
    "                # toAppend+= f'{exc}\\n'\n",
    "            toAppend+= f'\\n'\n",
    "        print(toAppend)\n",
    "        f3.write(toAppend)"
   ]
  },
  {
   "cell_type": "code",
   "execution_count": null,
   "metadata": {},
   "outputs": [],
   "source": [
    "\n",
    "with open('data/ref/vars.py') as f:\n",
    "    txt = f.read()\n",
    "# txt\n",
    "import re\n",
    "# optSts = re.sub(\n",
    "optSts = re.findall(\n",
    "    # '\\{[\\n\\s]*[\\'\\\"]([^\\s]*\\s[^\\s]*)[\\'\\\"][\\n\\s]*\\:[\\n\\s]*[\\'\\\"][\\'\\\"]\\}'\n",
    "    # '\\{[\\n\\s\\t\\r]*[\\'\\\"]([^\\'\\\"]{0,}?)[\\'\\\"][\\n\\s\\t\\r]*\\:[\\n\\s\\t\\r]*[\\'\\\"]([^\\'\\\"]{0,}?)[\\'\\\"][\\n\\s\\t\\r]*\\}',\n",
    "    '(?<![\\w\\\"])\\{.*?(?<![\\w])\\}(?![\\w])',\n",
    "    # '\\{[\\n\\s]*[\\'\\\"]([^\\'\\\"\\n\\:]]*)[\\'\\\"][\\n\\s]*\\:[\\n\\s]*[\\'\\\"]([^\\'\\\"\\n\\:]]*)[\\'\\\"]\\}',\n",
    "    # '[\\n    \\\\1,\\n  ]',\n",
    "    # '[\\n    {\\n      \"strL\": [\\n        { \"\\\\1\" : \"\\\\2\", },\\n      ],\\n      \"vrsDis\" : 0,\\n    },\\n  ]',\n",
    "    txt,\n",
    "    re.DOTALL,\n",
    ")\n",
    "# print(optSts)\n",
    "for optSt in optSts:\n",
    "    repOpt = '[' \n",
    "    combs = re.findall(\n",
    "        '[\\'\\\"]([^\\'\\\"]*?)[\\'\\\"][\\n\\s]*\\:(?![\\w])[\\n\\s]*[\\'\\\"]([^\\'\\\"]*?)[\\'\\\"]',\n",
    "        optSt\n",
    "    )\n",
    "    # if len(combs)>1:\n",
    "    #     # print(len(combs))\n",
    "    #     print(combs)\n",
    "    isInteresting = False\n",
    "    for comb in combs:\n",
    "        isInteresting = False\n",
    "        repOpt += '\\n    {\\n      \\\"vrsDis\\\": 0,\\n      \\\"strL\\\": ['\n",
    "        if len(comb) != 2:\n",
    "            print('something wrong:', comb)\n",
    "        if len(comb) == 2:\n",
    "            strL = comb[0].split('  ')\n",
    "            fltL = comb[1].split('  ')\n",
    "            # isInteresting = len(strL) > 1\n",
    "            isInteresting = 'jnh' in comb[0]\n",
    "            if isInteresting:\n",
    "                # print(comb)\n",
    "                print(strL,fltL)\n",
    "            if len(strL) != len(fltL):\n",
    "                print('number of strings and filters not equal: ', strL, fltL)\n",
    "            for i in range(len(strL)):\n",
    "                strEx = strL[i]\n",
    "                forms = re.findall('\\(([ivx]*)\\)%20',strEx)\n",
    "                form = None if len(forms) == 0 else forms[0]\n",
    "                poSps = re.findall('pos%3A([A-Z]*?)%20',strEx)\n",
    "                poSp = None if len(poSps) == 0 else poSps[0]\n",
    "                strTyps = re.findall('(root|lem|stem)%3A',strEx)\n",
    "                strTyp = None if len(strTyps) == 0 else strTyps[0]\n",
    "                strDct = {\n",
    "                    \"strTyp\": {\n",
    "                        \"remov\": f\"{strTyp}%3A\",\n",
    "                        \"val\": strTyp,\n",
    "                    },\n",
    "                    \"frm\": {\n",
    "                        \"remov\": f\"\\({form}\\)%20\",\n",
    "                        \"val\": form,\n",
    "                    },\n",
    "                    \"poSp\": {\n",
    "                        \"remov\": f\"pos%3A{poSp}%20\",\n",
    "                        \"val\": poSp,\n",
    "                    },\n",
    "                }\n",
    "                str = strEx\n",
    "                repOpt+= '\\n        {'\n",
    "                repOptEx = ''\n",
    "                for k,v in strDct.items():\n",
    "                    if v[\"val\"] != None:\n",
    "                        str = re.sub(v[\"remov\"],'',str)\n",
    "                        repOptEx+= ' \\\"' + k + '\\\": \\\"'+ v[\"val\"] + '\\\", ' \n",
    "                repOpt+= ' \\\"stri\\\": \\\"'+ str + '\\\",'\n",
    "                repOpt+= ' \\\"flt\\\": \\\"'+ fltL[i] + '\\\",'\n",
    "                repOpt+= repOptEx\n",
    "                repOpt+= '},'\n",
    "            repOpt += '\\n      ],\\n    },'\n",
    "    repOpt += '\\n  ]'\n",
    "    if isInteresting:\n",
    "        print(optSt,repOpt)\n",
    "    txt = re.sub(\n",
    "        re.escape(optSt),\n",
    "        repOpt,\n",
    "        txt,\n",
    "        re.DOTALL\n",
    "    )\n",
    "\n",
    "\n",
    "# 'nfr' in txtr\n",
    "with open('data/ref/vars2.py', 'w+') as f:\n",
    "    f.write(txt)"
   ]
  },
  {
   "cell_type": "markdown",
   "metadata": {},
   "source": [
    "# posDistDic"
   ]
  },
  {
   "cell_type": "code",
   "execution_count": 292,
   "metadata": {},
   "outputs": [],
   "source": [
    "with open(\"data/ref/Qrsd.md\") as f:\n",
    "    qTxt = f.read()\n",
    "\n",
    "import re\n",
    "ayLs = re.findall(\n",
    "    \"### (\\d*):(\\d*)\\n([^#]*)\",\n",
    "    qTxt,\n",
    "    re.DOTALL\n",
    ")"
   ]
  },
  {
   "cell_type": "code",
   "execution_count": 293,
   "metadata": {},
   "outputs": [
    {
     "data": {
      "text/plain": [
       "6236"
      ]
     },
     "execution_count": 293,
     "metadata": {},
     "output_type": "execute_result"
    }
   ],
   "source": [
    "len(ayLs)"
   ]
  },
  {
   "cell_type": "code",
   "execution_count": 294,
   "metadata": {},
   "outputs": [],
   "source": [
    "ayDict = {f\"{r[0]}:{r[1]}\": r[2].strip('\\n').strip('\\s') for r in ayLs}"
   ]
  },
  {
   "cell_type": "code",
   "execution_count": 454,
   "metadata": {},
   "outputs": [
    {
     "data": {
      "text/plain": [
       "'ٍ'"
      ]
     },
     "execution_count": 454,
     "metadata": {},
     "output_type": "execute_result"
    }
   ],
   "source": [
    "\"ٍ\""
   ]
  },
  {
   "cell_type": "code",
   "execution_count": 455,
   "metadata": {},
   "outputs": [],
   "source": [
    "arbVwlsDict = {\n",
    "        \"a\": \"َ\",\n",
    "        \"u\": \"ُ\",\n",
    "        \"i\": \"ِ\",\n",
    "        \"~\": \"ّ\",\n",
    "        \"o\": \"ْ\",\n",
    "        \"^\": \"ٓ\",\n",
    "        \"#\": \"ٔ\",\n",
    "        \"`\": \"ٰ\",\n",
    "        \"F\": \"ً\",\n",
    "        \"N\": \"ٌ\",\n",
    "        \"K\": \"ٍ\",\n",
    "}\n",
    "\n",
    "arbConsD = {\n",
    "        \"'\": \"ء\",\n",
    "        \">\": \"أ\",\n",
    "        \"&\": \"ؤ\",\n",
    "        \"<\": \"إ\",\n",
    "        \"}\": \"ئ\",\n",
    "        \"A\": \"ا\",\n",
    "        \"b\": \"ب\",\n",
    "        \"p\": \"ة\",\n",
    "        \"t\": \"ت\",\n",
    "        \"v\": \"ث\",\n",
    "        \"j\": \"ج\",\n",
    "        \"H\": \"ح\",\n",
    "        \"x\": \"خ\",\n",
    "        \"d\": \"د\",\n",
    "        \"*\": \"ذ\",\n",
    "        \"r\": \"ر\",\n",
    "        \"z\": \"ز\",\n",
    "        \"s\": \"س\",\n",
    "        \"$\": \"ش\",\n",
    "        \"S\": \"ص\",\n",
    "        \"D\": \"ض\",\n",
    "        \"T\": \"ط\",\n",
    "        \"Z\": \"ظ\",\n",
    "        \"E\": \"ع\",\n",
    "        \"g\": \"غ\",\n",
    "        \"_\": \"ـ\",\n",
    "        \"f\": \"ف\",\n",
    "        \"q\": \"ق\",\n",
    "        \"k\": \"ك\",\n",
    "        \"l\": \"ل\",\n",
    "        \"m\": \"م\",\n",
    "        \"n\": \"ن\",\n",
    "        \"h\": \"ه\",\n",
    "        \"w\": \"و\",\n",
    "        \"Y\": \"ى\",\n",
    "        \"y\": \"ي\",\n",
    "        \"{\": \"ٱ\",\n",
    "        \":\": \"ۜ\",\n",
    "        \"@\": \"۟\",\n",
    "        '\"': \"۠\",\n",
    "        \"[\": \"ۢ\",\n",
    "        \";\": \"ۣ\",\n",
    "        \",\": \"ۥ\",\n",
    "        \".\": \"ۦ\",\n",
    "        \"!\": \"ۨ\",\n",
    "        \"-\": \"۪\",\n",
    "        \"+\": \"۫\",\n",
    "        \"%\": \"۬\",\n",
    "        \"]\": \"ۭ\",\n",
    "    }\n",
    "\n",
    "arbCharD = {\n",
    "    **arbVwlsDict,\n",
    "    **arbConsD,\n",
    "}"
   ]
  },
  {
   "cell_type": "code",
   "execution_count": 313,
   "metadata": {},
   "outputs": [
    {
     "data": {
      "text/plain": [
       "(11, 49, 60)"
      ]
     },
     "execution_count": 313,
     "metadata": {},
     "output_type": "execute_result"
    }
   ],
   "source": [
    "len(arbVwlsDict), len(arbConsD), len(arbCharD)"
   ]
  },
  {
   "cell_type": "code",
   "execution_count": 296,
   "metadata": {},
   "outputs": [],
   "source": [
    "arbChars = arbCharD.values()"
   ]
  },
  {
   "cell_type": "code",
   "execution_count": 297,
   "metadata": {},
   "outputs": [],
   "source": [
    "allowedChars = [*arbChars, 'آ', '~', ' ', 'ً', 'ۧ']"
   ]
  },
  {
   "cell_type": "code",
   "execution_count": 298,
   "metadata": {},
   "outputs": [],
   "source": [
    "othChars = []"
   ]
  },
  {
   "cell_type": "code",
   "execution_count": 299,
   "metadata": {},
   "outputs": [],
   "source": [
    "for char in \"\".join(ayDict.values()):\n",
    "    if char not in allowedChars and char not in othChars:\n",
    "        othChars.append(char)"
   ]
  },
  {
   "cell_type": "code",
   "execution_count": 300,
   "metadata": {},
   "outputs": [],
   "source": [
    "othCharsSet = set(othChars)"
   ]
  },
  {
   "cell_type": "code",
   "execution_count": 301,
   "metadata": {},
   "outputs": [
    {
     "data": {
      "text/plain": [
       "{'ۖ', 'ۗ', 'ۘ', 'ۙ', 'ۚ', 'ۛ', '۞', '۩'}"
      ]
     },
     "execution_count": 301,
     "metadata": {},
     "output_type": "execute_result"
    }
   ],
   "source": [
    "othCharsSet"
   ]
  },
  {
   "cell_type": "code",
   "execution_count": 302,
   "metadata": {},
   "outputs": [],
   "source": [
    "import re\n",
    "ayDictSpStrp = {k:re.sub(f\"[^{''.join(allowedChars)} ]\",\"\",v) for k,v in ayDict.items()}"
   ]
  },
  {
   "cell_type": "code",
   "execution_count": 307,
   "metadata": {},
   "outputs": [
    {
     "data": {
      "text/plain": [
       "'ً'"
      ]
     },
     "execution_count": 307,
     "metadata": {},
     "output_type": "execute_result"
    }
   ],
   "source": [
    "# list(ayDictSpStrp.values())[0]\n",
    "ayDictSpStrp[\"18:50\"][-2]"
   ]
  },
  {
   "cell_type": "code",
   "execution_count": 287,
   "metadata": {},
   "outputs": [],
   "source": [
    "posDic = {}\n",
    "wrdLs = []\n",
    "for ayNo, ay in ayDictSpStrp.items():\n",
    "    pos = 0\n",
    "    for wrd in ay.split(' '):\n",
    "        if wrd not in ['','\\n']:\n",
    "            pos += 1\n",
    "            posDic[f\"{ayNo}:{pos}\"] = wrd\n",
    "            # print(wrd)\n",
    "            # wrdLs.append(wrd)"
   ]
  },
  {
   "cell_type": "code",
   "execution_count": null,
   "metadata": {},
   "outputs": [],
   "source": [
    "stri = \"وَإِذْ قُلْنَا لِلْمَلَـٰٓئِكَةِ ٱسْجُدُوا۟ لِـَٔادَمَ فَسَجَدُوٓا۟ إِلَّآ إِبْلِيسَ كَانَ مِنَ ٱلْجِنِّ فَفَسَقَ عَنْ أَمْرِ رَبِّهِۦٓ ۗ أَفَتَتَّخِذُونَهُۥ وَذُرِّيَّتَهُۥٓ أَوْلِيَآءَ مِن دُونِى وَهُمْ لَكُمْ عَدُوٌّۢ ۚ بِئْسَ لِلظَّـٰلِمِينَ بَدَلًا\""
   ]
  },
  {
   "cell_type": "code",
   "execution_count": 291,
   "metadata": {},
   "outputs": [
    {
     "data": {
      "text/plain": [
       "'ا'"
      ]
     },
     "execution_count": 291,
     "metadata": {},
     "output_type": "execute_result"
    }
   ],
   "source": [
    "stri[-1]"
   ]
  },
  {
   "cell_type": "code",
   "execution_count": 288,
   "metadata": {},
   "outputs": [
    {
     "data": {
      "text/plain": [
       "77438"
      ]
     },
     "execution_count": 288,
     "metadata": {},
     "output_type": "execute_result"
    }
   ],
   "source": [
    "len(posDic)\n",
    "# len(wrdLs)\n",
    "# wrdLs[0:100]"
   ]
  },
  {
   "cell_type": "code",
   "execution_count": 289,
   "metadata": {},
   "outputs": [],
   "source": [
    "import json\n",
    "with open(\"posDict.json\",\"w+\") as f:\n",
    "    f.write(json.dumps(posDic))"
   ]
  },
  {
   "cell_type": "code",
   "execution_count": 23,
   "metadata": {},
   "outputs": [],
   "source": [
    "import json\n",
    "with open(\"posDict.json\") as f:\n",
    "    posDic2 = json.loads(f.read())"
   ]
  },
  {
   "cell_type": "code",
   "execution_count": 24,
   "metadata": {},
   "outputs": [
    {
     "data": {
      "text/plain": [
       "77438"
      ]
     },
     "execution_count": 24,
     "metadata": {},
     "output_type": "execute_result"
    }
   ],
   "source": [
    "len(posDic2)"
   ]
  },
  {
   "cell_type": "code",
   "execution_count": 25,
   "metadata": {},
   "outputs": [],
   "source": [
    "posSerDict = {list(posDic.keys())[i] : i for i in range(len(posDic))}"
   ]
  },
  {
   "cell_type": "code",
   "execution_count": 26,
   "metadata": {},
   "outputs": [],
   "source": [
    "import json\n",
    "with open(\"posSerDict.json\",\"w+\") as f:\n",
    "    f.write(json.dumps(posSerDict))"
   ]
  },
  {
   "cell_type": "code",
   "execution_count": 27,
   "metadata": {},
   "outputs": [],
   "source": [
    "import json\n",
    "with open(\"posSerDict.json\") as f:\n",
    "    posSerDict = json.loads(f.read())"
   ]
  },
  {
   "cell_type": "code",
   "execution_count": 28,
   "metadata": {},
   "outputs": [
    {
     "data": {
      "text/plain": [
       "77438"
      ]
     },
     "execution_count": 28,
     "metadata": {},
     "output_type": "execute_result"
    }
   ],
   "source": [
    "type(posSerDict)\n",
    "len(posSerDict)"
   ]
  },
  {
   "cell_type": "code",
   "execution_count": 29,
   "metadata": {},
   "outputs": [
    {
     "data": {
      "text/plain": [
       "700"
      ]
     },
     "execution_count": 29,
     "metadata": {},
     "output_type": "execute_result"
    }
   ],
   "source": [
    "posSerDict[\"69:42:1\"] - posSerDict[\"52:29:1\"]"
   ]
  },
  {
   "cell_type": "code",
   "execution_count": 31,
   "metadata": {},
   "outputs": [],
   "source": [
    "posSer = [\n",
    "    # None\n",
    "]\n",
    "\n",
    "for k,v in posSerDict.items():\n",
    "    posSer.insert(v,k)"
   ]
  },
  {
   "cell_type": "code",
   "execution_count": 32,
   "metadata": {},
   "outputs": [],
   "source": [
    "import json\n",
    "with open(\"posOrd.json\",\"w+\") as f:\n",
    "    f.write(json.dumps(posSer))"
   ]
  },
  {
   "cell_type": "markdown",
   "metadata": {},
   "source": [
    "# lemma verb conc"
   ]
  },
  {
   "cell_type": "code",
   "execution_count": 22,
   "metadata": {},
   "outputs": [],
   "source": [
    "import requests\n",
    "from bs4 import BeautifulSoup\n",
    "import re\n",
    "# tbls = []\n",
    "vrbsAll = []\n",
    "for i in range(1,31):\n",
    "    lnk = f\"https://corpus.quran.com/verbs.jsp?page={i}\"\n",
    "    grabhtml = requests.get(lnk).text\n",
    "    soup = BeautifulSoup(\n",
    "            grabhtml,\n",
    "            'lxml' \n",
    "        )\n",
    "    tbl = soup.find_all(\n",
    "        \"table\",\n",
    "        {\"class\": \"verbTable\"}\n",
    "    )[0]\n",
    "    vrbs = tbl.find_all(\n",
    "        \"tr\",\n",
    "        {\"class\": None}\n",
    "    )\n",
    "\n",
    "    vrbsDctss = [\n",
    "        {\n",
    "            \"Verb\": vrbLs[0].text,\n",
    "            \"Root\": vrbLs[1].text.replace(\" \",\"\"),\n",
    "            \"Form\": vrbLs[2].text,\n",
    "            \"Frequency\": vrbLs[3].text,\n",
    "            \"Translation\": vrbLs[4].text,\n",
    "        } for vrbRw in vrbs \n",
    "        if (vrbLs := vrbRw.find_all(\"td\")) \n",
    "    ]\n",
    "    # tbls += tbl\n",
    "    vrbsAll += vrbsDctss"
   ]
  },
  {
   "cell_type": "code",
   "execution_count": 24,
   "metadata": {},
   "outputs": [
    {
     "data": {
      "text/plain": [
       "1475"
      ]
     },
     "execution_count": 24,
     "metadata": {},
     "output_type": "execute_result"
    }
   ],
   "source": [
    "# type(tbls)\n",
    "# tbls[3]\n",
    "# vrbsAll\n",
    "len(vrbsAll)"
   ]
  },
  {
   "cell_type": "code",
   "execution_count": 25,
   "metadata": {},
   "outputs": [],
   "source": [
    "import json\n",
    "with open('data/verbs.json', 'w+') as f:\n",
    "    f.write(json.dumps(vrbsAll))"
   ]
  },
  {
   "cell_type": "code",
   "execution_count": null,
   "metadata": {},
   "outputs": [],
   "source": [
    "import json\n",
    "with open('data/verbs.json') as f:\n",
    "    vrbsAll = json.loads(f.read())"
   ]
  },
  {
   "cell_type": "code",
   "execution_count": 27,
   "metadata": {},
   "outputs": [
    {
     "data": {
      "text/plain": [
       "1475"
      ]
     },
     "execution_count": 27,
     "metadata": {},
     "output_type": "execute_result"
    }
   ],
   "source": [
    "# type(tbls)\n",
    "# tbls[3]\n",
    "# vrbsAll\n",
    "len(vrbsAll)"
   ]
  },
  {
   "cell_type": "code",
   "execution_count": 30,
   "metadata": {},
   "outputs": [],
   "source": [
    "rootDcts = {}\n",
    "for vrbDct in vrbsAll:\n",
    "    rt = vrbDct[\"Root\"]\n",
    "    if rt not in rootDcts.keys():\n",
    "        rootDcts[rt] = {\n",
    "            vrbDct[\"Form\"]: {\n",
    "                \"Verb\": vrbLs[0].text,\n",
    "                \"Frequency\": vrbLs[3].text,\n",
    "                \"Translation\": vrbLs[4].text,\n",
    "            }\n",
    "        }\n",
    "    else:\n",
    "        rootDcts[rt][vrbDct[\"Form\"]] = {\n",
    "                \"Verb\": vrbLs[0].text,\n",
    "                \"Frequency\": vrbLs[3].text,\n",
    "                \"Translation\": vrbLs[4].text,\n",
    "            }"
   ]
  },
  {
   "cell_type": "code",
   "execution_count": null,
   "metadata": {},
   "outputs": [],
   "source": []
  },
  {
   "cell_type": "code",
   "execution_count": 31,
   "metadata": {},
   "outputs": [],
   "source": [
    "import json\n",
    "with open('data/roots.json', 'w+') as f:\n",
    "    f.write(json.dumps(rootDcts))"
   ]
  },
  {
   "cell_type": "code",
   "execution_count": 32,
   "metadata": {},
   "outputs": [],
   "source": [
    "import json\n",
    "with open('data/roots.json') as f:\n",
    "    rootDcts = json.loads(f.read())"
   ]
  },
  {
   "cell_type": "code",
   "execution_count": null,
   "metadata": {},
   "outputs": [],
   "source": [
    "rootDcts"
   ]
  },
  {
   "cell_type": "code",
   "execution_count": 36,
   "metadata": {},
   "outputs": [],
   "source": [
    "from qChronolyze import webGet"
   ]
  },
  {
   "cell_type": "code",
   "execution_count": null,
   "metadata": {},
   "outputs": [],
   "source": [
    "import json\n",
    "with open('data/test.json') as f:\n",
    "    isWorking = json.loads(f.read())"
   ]
  },
  {
   "cell_type": "code",
   "execution_count": null,
   "metadata": {},
   "outputs": [
    {
     "name": "stdout",
     "output_type": "stream",
     "text": [
      "1 2\n",
      "3 4\n"
     ]
    }
   ],
   "source": [
    "for i, j in [(1,2),(3,4)]:\n",
    "    print(i,j)"
   ]
  },
  {
   "cell_type": "markdown",
   "metadata": {},
   "source": [
    "# json vs tsv speed"
   ]
  },
  {
   "cell_type": "code",
   "execution_count": 62,
   "metadata": {},
   "outputs": [],
   "source": [
    "# from qChronolyze import\n",
    "\n",
    "class row2DictCl:\n",
    "    def __init__(\n",
    "            self,surah_ayah='',position='',string='',meaning='',\n",
    "            # ayah_link='',\n",
    "            query=''\n",
    "        ):\n",
    "        self.surah_ayah = surah_ayah\n",
    "        self.position = position\n",
    "        self.string = string\n",
    "        self.meaning = meaning\n",
    "        # self.ayah_link = ayah_link\n",
    "        self.query = query"
   ]
  },
  {
   "cell_type": "code",
   "execution_count": 2,
   "metadata": {},
   "outputs": [],
   "source": [
    "def tblUp(tblCumul,tblAgg,instDct,stri,lnk\n",
    "            #   frm='',ptSp=''\n",
    "                ):\n",
    "        # for tbl in tbls:\n",
    "        #     # print(tbl)\n",
    "        #     tblAgg += tbl\n",
    "\n",
    "        # print(len(tblAgg))\n",
    "        \n",
    "        # print(f\"number of instances of {stri} in {lnk} before Adam filter: {len(tblAgg)}\")\n",
    "\n",
    "        if len(tblAgg) > 0:\n",
    "        # if len(tbls) > 0:\n",
    "            # print(f\"1st row of Table aggregate for {lnk} for {rt} is: {tblAgg[0].find_all('td')}\")\n",
    "            print(tblAgg[0].find_all('td')[1])\n",
    "            if 'adam' in tblAgg[0].find_all('td')[1].get_text().lower():\n",
    "            # if 'adam' in tbls[0].find_all('td')[1].get_text().lower():\n",
    "                if stri.lower() != 'adam' and stri != 'A^dam':\n",
    "                    # print(\"no results\")\n",
    "                    tblAgg = []\n",
    "                    # tbls = []\n",
    "\n",
    "        # print(f\"number of instances of {stri} in {lnk} after Adam filter: {len(tblAgg)}\")\n",
    "        # print(tblAgg)\n",
    "\n",
    "        tblCumul += tblAgg\n",
    "        # tblCumul += tbls\n",
    "\n",
    "        print(\"length of tblCumul: \", len(tblCumul))\n",
    "        # print(f\"total number of instances so far of {rt} without removing duplicates: {len(tblCumul)}\")\n",
    "\n",
    "        for rw in tblCumul:\n",
    "            row = [ fld.get_text() for fld in rw.find_all(\"td\") ]\n",
    "            # row = []\n",
    "            # for fld in rw:\n",
    "            #   row.append(fld.get_text())\n",
    "        \n",
    "            # print(row)\n",
    "            pos = row[0].split(' ')[0].strip('()')\n",
    "            # print(pos)\n",
    "            if pos not in instDct:\n",
    "                # print(posSplit)\n",
    "                posSplit = pos.split(':')\n",
    "                # print(posSplit)\n",
    "                # instLst.append({\n",
    "                instDct[pos] = row2DictCl(\n",
    "                    f'{posSplit[0]}:{posSplit[1]}', \n",
    "                    posSplit[2], \n",
    "                    row[0].split(' ')[1], \n",
    "                    row[1], \n",
    "                    # row[2], \n",
    "                )\n",
    "                # instDct[pos] = {\n",
    "                #         \"surah_ayah\": f'{posSplit[0]}:{posSplit[1]}',\n",
    "                #         #   \"position\": int(posSplit[2]), \n",
    "                #         \"position\": posSplit[2], \n",
    "                #         \"string\": row[0].split(' ')[1], \n",
    "                #         \"meaning\": row[1],\n",
    "                #         # \"form\": frm,\n",
    "                #         # \"p-o-s\": ptSp,\n",
    "                #         \"ayah_link\": row[2]\n",
    "                #     }\n",
    "                # # })\n",
    "        \n",
    "                # poss.add(pos)\n",
    "            else:\n",
    "                # if instDct[pos][\"form\"] == '' and frm != '':\n",
    "                #     instDct[pos][\"form\"] = frm\n",
    "                # if instDct[pos][\"p-o-s\"] == '' and ptSp != '':\n",
    "                #     instDct[pos][\"p-o-s\"] = ptSp\n",
    "                pass\n",
    "\n",
    "            # print(f\"number of unique instances upto {lnk}: {len(poss)} or {len(instLst)}\")\n",
    "            \n",
    "        print(len(tblCumul), len(instDct))\n",
    "        # print(tblAgg)\n",
    "\n",
    "        return tblCumul, instDct"
   ]
  },
  {
   "cell_type": "code",
   "execution_count": 3,
   "metadata": {},
   "outputs": [],
   "source": [
    "def webGet(stri,lnks,poSp,frm):\n",
    "    # import html2text\n",
    "    # import json\n",
    "    import requests\n",
    "    from bs4 import BeautifulSoup\n",
    "    import re\n",
    "\n",
    "    def getTbl(grabhtmlPara):\n",
    "        soup = BeautifulSoup(\n",
    "            grabhtmlPara,\n",
    "            'lxml' \n",
    "        )\n",
    "\n",
    "        tblsRet = soup.find_all(\n",
    "            \"table\",\n",
    "            {\"class\":\"taf\"}\n",
    "        )\n",
    "\n",
    "        return tblsRet\n",
    "\n",
    "\n",
    "    # poss = set()\n",
    "    instDct={}\n",
    "    tblCumul = []\n",
    "    # tblAgg = []\n",
    "    print(f\"proper data not found for {stri}\")\n",
    "\n",
    "\n",
    "    for lnk in lnks:\n",
    "        print('\\ngetting for link: ', lnk, '\\n')\n",
    "        if lnk == f'https://corpus.quran.com/qurandictionary.jsp?q={stri}':\n",
    "            grabhtml = requests.get(lnk).text\n",
    "            # print(type(grabhtml))\n",
    "\n",
    "            import re\n",
    "\n",
    "            headTbls = re.findall('(<h4 class=\"dxe\">.*?(?=<h4))',grabhtml,re.DOTALL)\n",
    "\n",
    "            # print(len(headTbls))\n",
    "\n",
    "            for headTbl in headTbls:\n",
    "                tblAgg = []\n",
    "                soup = BeautifulSoup(\n",
    "                    headTbl,\n",
    "                    'lxml',\n",
    "                    # 'html.parser',\n",
    "                )\n",
    "                head4 = soup.find_all(\n",
    "                    \"h4\",\n",
    "                    {\"class\":\"dxe\"}\n",
    "                )[0]\n",
    "\n",
    "                # if len(tblsRet) > 0:\n",
    "                    # print(len(tblsRet) > 0)\n",
    "                    # print(len(tblsRet))\n",
    "                    # if len(tblsRet) == len(head4s):\n",
    "                    # print(len(tblsRet) == len(head4s))\n",
    "                # for i in range(len(head4s)):\n",
    "                    # print(head4s[i].text)\n",
    "\n",
    "                tblGrm = head4.text.split('-')[0]\n",
    "                tblForms = re.findall('\\(form (.*?)\\)', tblGrm)\n",
    "                if len(tblForms) == 0:\n",
    "                    tblForm = 'All'\n",
    "                else:\n",
    "                    # print(tempForms[0])\n",
    "                    tblForm = tblForms[0]\n",
    "                tblPoSps = re.findall(f'(^[^\\(\\)]*?(?=\\s*$|\\s*\\())', tblGrm)\n",
    "                if len(tblPoSps) == 0:\n",
    "                    tblPoSp = 'All'\n",
    "                else:\n",
    "                    # print(tempPtSps[0])\n",
    "                    tblPoSp = tblPoSps[0]\n",
    "\n",
    "                if tblForm == 'All':\n",
    "                    if tblPoSp != 'All':\n",
    "                        tblForm = 'I'\n",
    "                print(\n",
    "                    # grm, \n",
    "                    tblForm, \n",
    "                    tblPoSp\n",
    "                )\n",
    "\n",
    "                tbls = soup.find_all(\n",
    "                    \"table\",\n",
    "                    {\"class\":\"taf\"}\n",
    "                )\n",
    "\n",
    "                # tblAgg = [ tbl for tbl in tbls ]\n",
    "\n",
    "                # print(tblsRet)\n",
    "                for tbl in tbls:\n",
    "                    if tblPoSp == poSp and tblForm == frm:\n",
    "                        tblAgg += tbl\n",
    "                print(\"tblAgg length\", len(tblAgg))\n",
    "                tblCumul,instDct = tblUp(tblCumul,tblAgg,instDct,\n",
    "                                        #  tempForm,tempPtSp\n",
    "                                        stri,lnk\n",
    "                                            )\n",
    "\n",
    "\n",
    "        else:\n",
    "            pgs = []\n",
    "            tblAgg = []\n",
    "            grabhtml = requests.get(f\"{lnk}\").text\n",
    "            tbls = getTbl(grabhtml)\n",
    "            if 'Results' in grabhtml:\n",
    "                matches = re.findall(\">[\\n\\s]*Results[\\s\\n]*<b>\\d*</b>[\\s\\n]*to[\\s\\n]*<b>\\d*</b>[\\s\\n]*of[\\s\\n]*<b>(\\d*)</b>\", grabhtml, re.DOTALL)\n",
    "                # print('\\nmatches: ', matches)\n",
    "                if len(matches) > 0:\n",
    "                    pgFlt = int(matches[0])/50\n",
    "                    pgCount = int(pgFlt) + 1 if int(matches[0]) % 50 != 0 else int(pgFlt)\n",
    "                    # print(f\"page count in {lnk} is: {pgCount}\")\n",
    "                    # print(type(pgCount), pgCount)\n",
    "                    pgs = list(map(lambda x : f'&page={x}', list(range(2,pgCount+1))))\n",
    "\n",
    "                for pg in pgs:\n",
    "                    print(f'\\nin pg {pg}')\n",
    "                    grabhtml = requests.get(f\"{lnk}{pg}\").text\n",
    "                    tbls += getTbl(grabhtml)\n",
    "                    # print(f\"length of grabhtml is: {len(grabhtmlNew)}\")\n",
    "                    # grabhtml += grabhtmlNew\n",
    "                    # print(f\"length of grabhtml after adding is: {len(grabhtml)}\")\n",
    "                \n",
    "            for tbl in tbls:\n",
    "                tblAgg += tbl\n",
    "                \n",
    "            print(\"length of tblAgg: \", len(tblAgg))\n",
    "            \n",
    "            tblCumul,instDct = tblUp(tblCumul,tblAgg,instDct,stri,lnk)\n",
    "\n",
    "        # print(f\"\\nnumber of tables found in {lnk} for {rt} is: {len(tbls)}\")\n",
    "        # print(f\"{tbls}\\n\")\n",
    "        return instDct"
   ]
  },
  {
   "cell_type": "code",
   "execution_count": null,
   "metadata": {},
   "outputs": [],
   "source": [
    "data = webGet(\"laA\",[\"https://corpus.quran.com/search.jsp?q=stem:laA\"],\"All\",\"All\")"
   ]
  },
  {
   "cell_type": "code",
   "execution_count": null,
   "metadata": {},
   "outputs": [],
   "source": [
    "data"
   ]
  },
  {
   "cell_type": "code",
   "execution_count": 6,
   "metadata": {},
   "outputs": [],
   "source": [
    "import time"
   ]
  },
  {
   "cell_type": "code",
   "execution_count": 46,
   "metadata": {},
   "outputs": [],
   "source": [
    "def fileWriteJson(filepath,instDct):\n",
    "    # list_header = ['surah_ayah', 'position', 'string', 'meaning', 'ayah_link'\n",
    "    #             #    'form', 'p-o-s', \n",
    "    #     ]\n",
    "    # print(f\"writing {stri} to '{filepath}'\")\n",
    "        # print(f\"writing {stri} to '{filepath}'\")\n",
    "    import json\n",
    "        # import csv\n",
    "        # writer = csv.DictWriter(f, delimiter='\\t', fieldnames=list_header)\n",
    "        # writer.writeheader()\n",
    "        # for datum in instLst:\n",
    "        # for k, datum in instDct.items():\n",
    "        # for datum in instDct.values():\n",
    "    \n",
    "    instLs = [row[:4] for datum in instDct.values() if (row := list(datum.__dict__.values())) ]\n",
    "            # writer.writerow({\n",
    "            #     # list_header[0] : datum['surah_ayah'],\n",
    "            #     # list_header[1] : datum['position'],\n",
    "            #     # list_header[2] : datum['string'],\n",
    "            #     # list_header[3] : datum['meaning'],\n",
    "            #     # list_header[4] : datum['ayah_link'],\n",
    "            #     list_header[0] : datum.surah_ayah,\n",
    "            #     list_header[1] : datum.position,\n",
    "            #     list_header[2] : datum.string,\n",
    "            #     list_header[3] : datum.meaning,\n",
    "            #     list_header[4] : datum.ayah_link,\n",
    "            #     # list_header[4] : datum['form'],\n",
    "            #     # list_header[5] : datum['p-o-s'],\n",
    "            # })\n",
    "    with open(f'{filepath}', 'w+') as f:\n",
    "        f.write(json.dumps(instLs))\n",
    "    \n",
    "    # return instDct\n"
   ]
  },
  {
   "cell_type": "code",
   "execution_count": 63,
   "metadata": {},
   "outputs": [],
   "source": [
    "def fileWriteTsv(filepath,instDct):\n",
    "    list_header = ['surah_ayah', 'position', 'string', 'meaning', \n",
    "                #    'ayah_link'\n",
    "                #    'form', 'p-o-s', \n",
    "        ]\n",
    "    # print(f\"writing {stri} to '{filepath}'\")\n",
    "    with open(f'{filepath}', 'w+') as f:\n",
    "        # print(f\"writing {stri} to '{filepath}'\")\n",
    "        import csv\n",
    "        writer = csv.DictWriter(f, delimiter='\\t', fieldnames=list_header)\n",
    "        writer.writeheader()\n",
    "        # for datum in instLst:\n",
    "        # for k, datum in instDct.items():\n",
    "        for datum in instDct.values():\n",
    "            writer.writerow({\n",
    "                # list_header[0] : datum['surah_ayah'],\n",
    "                # list_header[1] : datum['position'],\n",
    "                # list_header[2] : datum['string'],\n",
    "                # list_header[3] : datum['meaning'],\n",
    "                # list_header[4] : datum['ayah_link'],\n",
    "                list_header[0] : datum.surah_ayah,\n",
    "                list_header[1] : datum.position,\n",
    "                list_header[2] : datum.string,\n",
    "                list_header[3] : datum.meaning,\n",
    "                # list_header[4] : datum.ayah_link,\n",
    "                # list_header[4] : datum['form'],\n",
    "                # list_header[5] : datum['p-o-s'],\n",
    "            })\n",
    "    \n",
    "    # return instDct\n"
   ]
  },
  {
   "cell_type": "code",
   "execution_count": 64,
   "metadata": {},
   "outputs": [],
   "source": [
    "timeBegin = time.time()\n",
    "fileWriteJson(\"test1.json\",data1)\n",
    "timeEnd = time.time()\n",
    "timeTakenJsonWrite = timeBegin-timeEnd"
   ]
  },
  {
   "cell_type": "code",
   "execution_count": 65,
   "metadata": {},
   "outputs": [],
   "source": [
    "timeBegin = time.time()\n",
    "fileWriteTsv(\"test1.tsv\",data1)\n",
    "timeEnd = time.time()\n",
    "timeTakenTsvWrite = timeBegin-timeEnd"
   ]
  },
  {
   "cell_type": "code",
   "execution_count": 66,
   "metadata": {},
   "outputs": [
    {
     "name": "stdout",
     "output_type": "stream",
     "text": [
      "for writing TSV is faster than json by: -69.59960800783985 %\n"
     ]
    }
   ],
   "source": [
    "print(\"for writing TSV is faster than json by:\", (timeTakenJsonWrite-timeTakenTsvWrite)/timeTakenJsonWrite*100, \"%\" )"
   ]
  },
  {
   "cell_type": "code",
   "execution_count": 74,
   "metadata": {},
   "outputs": [],
   "source": [
    "def fileReadJson(filepath):\n",
    "        list_header = ['surah_ayah', 'position', 'string', 'meaning', \n",
    "                    #    'ayah_link'\n",
    "                #    'form', 'p-o-s', \n",
    "        ]\n",
    "\n",
    "        row_width = len(list_header)\n",
    "\n",
    "        import json\n",
    "        # print(f\"file found for {stri}\")\n",
    "        instDct = {}\n",
    "        # try:\n",
    "        with open(filepath) as f:\n",
    "            # print(f\"loading {filepath}\")\n",
    "            instTbl = json.loads(f.read())\n",
    "        print(len(instTbl))\n",
    "            # instLst = [row for row in csv.DictReader(f, delimiter='\\t') ]\n",
    "        for row in instTbl:\n",
    "            surAyPos = f'{row[0]}:{row[1]}'\n",
    "            # print('for ', surAyPos)\n",
    "            # surAyPos = f'{row[\"surah_ayah\"]}:{row[\"position\"]}'\n",
    "            dicti = {\n",
    "                list_header[i]: row[i]\n",
    "                for i in range(row_width)\n",
    "            }\n",
    "            # instDct[surAyPos] = row\n",
    "            instDct[surAyPos] = row2DictCl(**dicti)\n",
    "            # print(instDct[surAyPos].__dict__)\n",
    "\n",
    "        print(f\"Successfully loaded data from '{filepath}: lenght {len(instDct)}'\")\n",
    "            # propDat = True\n",
    "        # except:\n",
    "        #     # propDat = False\n",
    "        #     instDct = {}\n",
    "        #     print(f\"couldn't load data from '{filepath}': lenght {len(instDct)}\")\n",
    "        \n",
    "        return instDct\n"
   ]
  },
  {
   "cell_type": "code",
   "execution_count": 70,
   "metadata": {},
   "outputs": [],
   "source": [
    "def fileReadTsv(filepath):\n",
    "        import csv\n",
    "        # print(f\"file found for {stri}\")\n",
    "        instDct = {}\n",
    "        # try:\n",
    "        with open(filepath) as f:\n",
    "            print(f\"loading {filepath}\")\n",
    "            instTbl = csv.DictReader(f, delimiter='\\t')\n",
    "\n",
    "            # print(len(instTbl))\n",
    "            # instLst = [row for row in csv.DictReader(f, delimiter='\\t') ]\n",
    "            for row in instTbl:\n",
    "                surAyPos = f'{row[\"surah_ayah\"]}:{row[\"position\"]}'\n",
    "                # print('for ', surAyPos)\n",
    "                # surAyPos = f'{row[\"surah_ayah\"]}:{row[\"position\"]}'\n",
    "\n",
    "                # instDct[surAyPos] = row\n",
    "                instDct[surAyPos] = row2DictCl(**row)\n",
    "                # print(instDct[surAyPos].__dict__)\n",
    "\n",
    "            print(f\"Successfully loaded data from '{filepath}: lenght {len(instDct)}'\")\n",
    "            # propDat = True\n",
    "        # except:\n",
    "        #     # propDat = False\n",
    "        #     instDct = {}\n",
    "            # print(f\"couldn't load data from '{filepath}': lenght {len(instDct)}\")\n",
    "        \n",
    "        return instDct\n"
   ]
  },
  {
   "cell_type": "code",
   "execution_count": 78,
   "metadata": {},
   "outputs": [
    {
     "name": "stdout",
     "output_type": "stream",
     "text": [
      "1689\n",
      "Successfully loaded data from 'test1.json: lenght 1689'\n"
     ]
    }
   ],
   "source": [
    "timeBegin = time.time()\n",
    "data1 = fileReadJson(\"test1.json\")\n",
    "timeEnd = time.time()\n",
    "timeTakenJsonRead = timeBegin-timeEnd"
   ]
  },
  {
   "cell_type": "code",
   "execution_count": 79,
   "metadata": {},
   "outputs": [
    {
     "name": "stdout",
     "output_type": "stream",
     "text": [
      "loading test1.tsv\n",
      "Successfully loaded data from 'test1.tsv: lenght 1689'\n"
     ]
    }
   ],
   "source": [
    "timeBegin = time.time()\n",
    "data2 = fileReadTsv(\"test1.tsv\")\n",
    "timeEnd = time.time()\n",
    "timeTakenTsvRead = timeBegin-timeEnd"
   ]
  },
  {
   "cell_type": "code",
   "execution_count": 80,
   "metadata": {},
   "outputs": [
    {
     "name": "stdout",
     "output_type": "stream",
     "text": [
      "for reading TSV is faster than json by: -19.43990106514541 %\n"
     ]
    }
   ],
   "source": [
    "print(\"for reading TSV is faster than json by:\", (timeTakenJsonRead-timeTakenTsvRead)/timeTakenJsonRead*100, \"%\" )"
   ]
  },
  {
   "cell_type": "code",
   "execution_count": 81,
   "metadata": {},
   "outputs": [
    {
     "name": "stdout",
     "output_type": "stream",
     "text": [
      "data1 lenghth == data2 lenght  True\n"
     ]
    }
   ],
   "source": [
    "lenData1 = len(data1)\n",
    "isEqualData = lenData1 == len(data2)\n",
    "print(\"data1 lenghth == data2 lenght \", isEqualData)\n",
    "\n",
    "if isEqualData:\n",
    "    # for i in range(lenData1):\n",
    "    data1Keys = list(data1.keys())\n",
    "    data1Values = list(data1.values())\n",
    "    data2Keys = list(data1.keys())\n",
    "    data2Values = list(data1.values())\n",
    "    for i in range(lenData1):\n",
    "        if data1Keys[i] != data2Keys[i]:\n",
    "            print(f\"for {i} data1 key is {data1Keys[i]} and data2 key is {data2Keys[i]}\")\n",
    "        else:\n",
    "            if data1Values[i].__dict__ != data2Values[i].__dict__:\n",
    "                print(f\"for {i} data1 value is {data1Values[i]} and data2 Value is {data2Values[i]}\")"
   ]
  },
  {
   "cell_type": "code",
   "execution_count": null,
   "metadata": {},
   "outputs": [],
   "source": [
    "data2"
   ]
  },
  {
   "cell_type": "markdown",
   "metadata": {},
   "source": [
    "# download lems, roots"
   ]
  },
  {
   "cell_type": "code",
   "execution_count": 121,
   "metadata": {},
   "outputs": [],
   "source": [
    "class strPthLnkCl():\n",
    "    def __init__(\n",
    "        self,\n",
    "        stri='',\n",
    "        strTyp='stem',\n",
    "        poSp='All',\n",
    "        frm='All',\n",
    "        pthLnks=[]\n",
    "        # ayah_link='',\n",
    "        # query=''\n",
    "    ):\n",
    "        self.stri = stri\n",
    "        self.strTyp = strTyp\n",
    "        self.poSp = poSp\n",
    "        self.frm = frm\n",
    "        self.pthLnks = pthLnks\n",
    "        # self.ayah_link = ayah_link\n",
    "        # self.query = query\n",
    "    "
   ]
  },
  {
   "cell_type": "code",
   "execution_count": 124,
   "metadata": {},
   "outputs": [
    {
     "name": "stdout",
     "output_type": "stream",
     "text": [
      "loading posPthLnksOld\n",
      "Successfully loaded data from 'data/posPthLnks.tsv': lenght 0'\n"
     ]
    }
   ],
   "source": [
    "import csv\n",
    "posPthLnksOld = {}\n",
    "with open('data/posPthLnks.tsv') as f:\n",
    "    print(f\"loading posPthLnksOld\")\n",
    "    posPthLnksOldTbl = csv.DictReader(f, delimiter='\\t')\n",
    "    posPthLnksOld = { \n",
    "        posPthLnks[\"surah_ayah_position\"] : {\n",
    "            # \"meaning\": posPthLnks[\"meaning\"],\n",
    "            \"string_paths_links\": [ strPthLnkCl(**posPthLnks[\"string_paths_links\"]) ]\n",
    "        } for posPthLnks in posPthLnksOldTbl \n",
    "    }\n",
    "    # posPthLnksOld = { posPthLnks[\"surah_ayah_position\"] : list(posPthLnks.values())[1:] for posPthLnks in posPthLnksOldTbl }\n",
    "    # for row in posPthLnksOldTbl:\n",
    "    #     surAyPos = f'{row[\"surah_ayah\"]}:{row[\"position\"]}'\n",
    "    #     # print('for ', surAyPos)\n",
    "    #     # surAyPos = f'{row[\"surah_ayah\"]}:{row[\"position\"]}'\n",
    "\n",
    "    #     # instDct[surAyPos] = row\n",
    "    #     instDct[surAyPos] = row2DictCl(**row)\n",
    "    #     # print(instDct[surAyPos].__dict__)\n",
    "\n",
    "    print(f\"Successfully loaded data from 'data/posPthLnks.tsv': lenght {len(posPthLnksOld)}'\")\n",
    "posPthLnksOldKeys = list(posPthLnksOld.keys())"
   ]
  },
  {
   "cell_type": "code",
   "execution_count": 91,
   "metadata": {},
   "outputs": [
    {
     "data": {
      "text/plain": [
       "{}"
      ]
     },
     "execution_count": 91,
     "metadata": {},
     "output_type": "execute_result"
    }
   ],
   "source": [
    "posPthLnksOld"
   ]
  },
  {
   "cell_type": "code",
   "execution_count": 494,
   "metadata": {},
   "outputs": [],
   "source": [
    "import json\n",
    "with open('posSerDict.json') as f:\n",
    "    posOrd = json.loads(f.read())\n",
    "poss = list(posOrd.keys())"
   ]
  },
  {
   "cell_type": "code",
   "execution_count": 495,
   "metadata": {},
   "outputs": [
    {
     "data": {
      "text/plain": [
       "77438"
      ]
     },
     "execution_count": 495,
     "metadata": {},
     "output_type": "execute_result"
    }
   ],
   "source": [
    "len(poss)"
   ]
  },
  {
   "cell_type": "code",
   "execution_count": null,
   "metadata": {},
   "outputs": [],
   "source": [
    "import time"
   ]
  },
  {
   "cell_type": "code",
   "execution_count": null,
   "metadata": {},
   "outputs": [],
   "source": [
    "# list_header = [\"surah_ayah_position\"]\n",
    "# import csv\n",
    "# start_time=time.time()\n",
    "# for pos in poss:\n",
    "#     # with open('data/posPthLnks.tsv', 'w+') as f:\n",
    "#     with open('data/posPthLnks.tsv', 'a') as f:\n",
    "#         # print(f\"writing {stri} to '{filepath}'\")\n",
    "#         writer = csv.DictWriter(f, delimiter='\\t', fieldnames=list_header)\n",
    "#         # writer.writeheader()\n",
    "#         # for datum in instLst:\n",
    "#         # for k, datum in instDct.items():\n",
    "#         # for pos, datum in posPthLnksNew.items():\n",
    "#         if pos not in posPthLnksOld.keys():\n",
    "#             writer.writerow({\n",
    "#                 list_header[0] : pos,\n",
    "#                 # list_header[1] : datum.stri,\n",
    "#                 # list_header[2] : datum.flt,\n",
    "#                 # list_header[3] : datum.strTyp,\n",
    "#                 # list_header[4] : datum.poSp,\n",
    "#                 # list_header[5] : datum.frm,\n",
    "#                 # list_header[6] : datum.lnkPths,\n",
    "#             })\n",
    "# end_time=time.time()"
   ]
  },
  {
   "cell_type": "code",
   "execution_count": null,
   "metadata": {},
   "outputs": [],
   "source": [
    "from bs4 import BeautifulSoup\n",
    "import requests\n",
    "lnkQry='blz'\n",
    "pos='1:1:3'\n",
    "lnk = f\"https://corpus.quran.com/qurandictionary.jsp?q={lnkQry}#({pos})\"\n",
    "grabhtml = requests.get(lnk).text\n",
    "soup = BeautifulSoup(\n",
    "    grabhtml,\n",
    "    'lxml',\n",
    "    # 'html.parser',\n",
    ")\n",
    "\n",
    "contnt = soup.select(\n",
    "    \"table.taf\"\n",
    "    # \"ul\",\n",
    "    # {\"class\":\"also\"}\n",
    ")\n",
    "# contnt = soup.find(\n",
    "#     \"div\",\n",
    "#     {\"class\": \"content\"}\n",
    "# )"
   ]
  },
  {
   "cell_type": "code",
   "execution_count": 456,
   "metadata": {},
   "outputs": [
    {
     "data": {
      "text/plain": [
       "\"\\n\\n\\nThe Quranic Arabic Corpus - Quran Dictionary\\n\\n\\n\\n\\n\\n\\n\\n\\n\\n\\xa0\\nQur'an\\r\\n\\t\\t| Word by Word | Audio\\r\\n\\t\\t| Prayer Times\\n\\n\\n\\n\\n\\n__\\n Sign In\\nSearch \\n\\n\\n\\n\\xa0\\n\\n\\n\\n\\n__\\n\\nQuran Dictionary - ر ح م\\n\\n\\n\\n\\nWord by WordQuran DictionaryVerb ConcordanceLemma FrequencyMorphological SearchEnglish TranslationSyntactic TreebankOntology of ConceptsDocumentationQuranic GrammarMessage BoardResourcesFeedbackJava API\\n\\n__\\n\\n\\n\\nأ ب ت ث ج ح خ د ذ ر ز س ش ص ض ط ظ ع غ ف ق ك ل م ن ه و ي\\n\\n\\nر أ سر أ فر أ ير ب بر ب حر ب صر ب طر ب عر ب ور ت عر ت قر ت لر ج جر ج زر ج سر ج عر ج فر ج لر ج مر ج ور ح بر ح قر ح لر ح مر خ ور د أر د در د فر د مر د ير ذ لر ز قر س خر س سر س لر س ور ش در ص در ص صر ض عر ض ور ط بر ع بر ع در ع ير غ بر غ در غ مر ف تر ف ثر ف در ف ر فر ف عر ف قر ق بر ق در ق قر ق مر ق ير ك بر ك در ك زر ك سر ك ضر ك عر ك مر ك نر م حر م در م زر م مر م نر م ير ه بر ه طر ه قر ه نر ه ور و حر و در و ضر و عر و غر ي بر ي شر ي عر ي ن\\xa0Go\\n\\nThe triliteral root rā ḥā mīm (ر ح م) occurs 339 times in the Quran, in nine derived forms:28 times as the form I verb raḥima (رَّحِمَ)12 times as the noun arḥām (أَرْحَام)four times as the noun arḥam (أَرْحَم)once as the noun ruḥ'm (رُحْم)57 times as the nominal raḥmān (رَّحْمَٰن)114 times as the noun raḥmat (رَحْمَة)116 times as the nominal raḥīm (رَّحِيم)once as the noun marḥamat (مَرْحَمَة)six times as the active participle rāḥimīn (رَّٰحِمِين)The translations below are brief glosses intended as a guide to meaning. An Arabic word may have a range of meanings depending on context. Click on a word for more linguistic information, or to suggestion a correction.\\nVerb (form I) - to have mercy(2:286:43) wa-ir'ḥamnāand have mercy on us وَاعْفُ عَنَّا وَاغْفِرْ لَنَا وَارْحَمْنَا(3:132:5) tur'ḥamūnareceive mercy وَأَطِيعُوا اللَّهَ وَالرَّسُولَ لَعَلَّكُمْ تُرْحَمُونَ(6:16:6) raḥimahuHe had Mercy on him مَنْ يُصْرَفْ عَنْهُ يَوْمَئِذٍ فَقَدْ رَحِمَهُ وَذَٰلِكَ الْفَوْزُ الْمُبِينُ(6:155:8) tur'ḥamūnareceive mercy وَهَٰذَا كِتَابٌ أَنْزَلْنَاهُ مُبَارَكٌ فَاتَّبِعُوهُ وَاتَّقُوا لَعَلَّكُمْ تُرْحَمُونَ(7:23:9) watarḥamnāand have mercy (on) us وَإِنْ لَمْ تَغْفِرْ لَنَا وَتَرْحَمْنَا لَنَكُونَنَّ مِنَ الْخَاسِرِينَ(7:63:13) tur'ḥamūnareceive mercy أَوَعَجِبْتُمْ أَنْ جَاءَكُمْ ذِكْرٌ مِنْ رَبِّكُمْ عَلَىٰ رَجُلٍ مِنْكُمْ لِيُنْذِرَكُمْ وَلِتَتَّقُوا وَلَعَلَّكُمْ تُرْحَمُونَ(7:149:12) yarḥamnāhas Mercy on us قَالُوا لَئِنْ لَمْ يَرْحَمْنَا رَبُّنَا وَيَغْفِرْ لَنَا لَنَكُونَنَّ مِنَ الْخَاسِرِينَ(7:155:38) wa-ir'ḥamnāand have mercy upon us أَنْتَ وَلِيُّنَا فَاغْفِرْ لَنَا وَارْحَمْنَا وَأَنْتَ خَيْرُ الْغَافِرِينَ(7:204:8) tur'ḥamūnareceive mercy وَإِذَا قُرِئَ الْقُرْآنُ فَاسْتَمِعُوا لَهُ وَأَنْصِتُوا لَعَلَّكُمْ تُرْحَمُونَ(9:71:19) sayarḥamuhumuAllah will have mercy on them أُولَٰئِكَ سَيَرْحَمُهُمُ اللَّهُ إِنَّ اللَّهَ عَزِيزٌ حَكِيمٌ(11:43:17) raḥimaHe has mercy قَالَ لَا عَاصِمَ الْيَوْمَ مِنْ أَمْرِ اللَّهِ إِلَّا مَنْ رَحِمَ(11:47:16) watarḥamnīand You have mercy on me وَإِلَّا تَغْفِرْ لِي وَتَرْحَمْنِي أَكُنْ مِنَ الْخَاسِرِينَ(11:119:3) raḥimayour Lord has bestowed Mercy إِلَّا مَنْ رَحِمَ رَبُّكَ وَلِذَٰلِكَ خَلَقَهُمْ(12:53:10) raḥimabestows Mercy إِنَّ النَّفْسَ لَأَمَّارَةٌ بِالسُّوءِ إِلَّا مَا رَحِمَ رَبِّي(17:8:4) yarḥamakum(may) have mercy upon you عَسَىٰ رَبُّكُمْ أَنْ يَرْحَمَكُمْ وَإِنْ عُدْتُمْ عُدْنَا(17:24:9) ir'ḥamhumāHave mercy on both of them وَقُلْ رَبِّ ارْحَمْهُمَا كَمَا رَبَّيَانِي صَغِيرًا(17:54:6) yarḥamkumHe will have mercy on you رَبُّكُمْ أَعْلَمُ بِكُمْ إِنْ يَشَأْ يَرْحَمْكُمْ أَوْ إِنْ يَشَأْ يُعَذِّبْكُمْ(23:75:2) raḥim'nāhumWe had mercy on them وَلَوْ رَحِمْنَاهُمْ وَكَشَفْنَا مَا بِهِمْ مِنْ ضُرٍّ لَلَجُّوا فِي طُغْيَانِهِمْ(23:109:11) wa-ir'ḥamnāand have mercy on us يَقُولُونَ رَبَّنَا آمَنَّا فَاغْفِرْ لَنَا وَارْحَمْنَا وَأَنْتَ خَيْرُ الرَّاحِمِينَ(23:118:4) wa-ir'ḥamand have mercy وَقُلْ رَبِّ اغْفِرْ وَارْحَمْ وَأَنْتَ خَيْرُ الرَّاحِمِينَ(24:56:8) tur'ḥamūnareceive mercy وَأَقِيمُوا الصَّلَاةَ وَآتُوا الزَّكَاةَ وَأَطِيعُوا الرَّسُولَ لَعَلَّكُمْ تُرْحَمُونَ(27:46:12) tur'ḥamūnareceive mercy لَوْلَا تَسْتَغْفِرُونَ اللَّهَ لَعَلَّكُمْ تُرْحَمُونَ(29:21:4) wayarḥamuand has mercy يُعَذِّبُ مَنْ يَشَاءُ وَيَرْحَمُ مَنْ يَشَاءُ وَإِلَيْهِ تُقْلَبُونَ(36:45:11) tur'ḥamūnareceive mercy وَإِذَا قِيلَ لَهُمُ اتَّقُوا مَا بَيْنَ أَيْدِيكُمْ وَمَا خَلْفَكُمْ لَعَلَّكُمْ تُرْحَمُونَ(40:9:8) raḥim'tahuYou have bestowed mercy on him وَقِهِمُ السَّيِّئَاتِ وَمَنْ تَقِ السَّيِّئَاتِ يَوْمَئِذٍ فَقَدْ رَحِمْتَهُ(44:42:3) raḥimaAllah has mercy إِلَّا مَنْ رَحِمَ اللَّهُ إِنَّهُ هُوَ الْعَزِيزُ الرَّحِيمُ(49:10:10) tur'ḥamūnareceive mercy فَأَصْلِحُوا بَيْنَ أَخَوَيْكُمْ وَاتَّقُوا اللَّهَ لَعَلَّكُمْ تُرْحَمُونَ(67:28:9) raḥimanāhas mercy upon us قُلْ أَرَأَيْتُمْ إِنْ أَهْلَكَنِيَ اللَّهُ وَمَنْ مَعِيَ أَوْ رَحِمَنَا فَمَنْ يُجِيرُ الْكَافِرِينَ مِنْ عَذَابٍ أَلِيمٍNoun(2:228:15) arḥāmihinnatheir wombs وَلَا يَحِلُّ لَهُنَّ أَنْ يَكْتُمْنَ مَا خَلَقَ اللَّهُ فِي أَرْحَامِهِنَّ(3:6:5) l-arḥāmithe wombs هُوَ الَّذِي يُصَوِّرُكُمْ فِي الْأَرْحَامِ كَيْفَ يَشَاءُ(4:1:23) wal-arḥāmaand the wombs وَاتَّقُوا اللَّهَ الَّذِي تَسَاءَلُونَ بِهِ وَالْأَرْحَامَ(6:143:17) arḥāmu(the) wombs أَمَّا اشْتَمَلَتْ عَلَيْهِ أَرْحَامُ الْأُنْثَيَيْنِ نَبِّئُونِي بِعِلْمٍ إِنْ كُنْتُمْ صَادِقِينَ(6:144:15) arḥāmu(the) wombs أَمَّا اشْتَمَلَتْ عَلَيْهِ أَرْحَامُ الْأُنْثَيَيْنِ أَمْ كُنْتُمْ شُهَدَاءَ إِذْ وَصَّاكُمُ اللَّهُ بِهَٰذَا(8:75:11) l-arḥāmi(of) blood relationship وَأُولُو الْأَرْحَامِ بَعْضُهُمْ أَوْلَىٰ بِبَعْضٍ فِي كِتَابِ اللَّهِ(13:8:9) l-arḥāmuthe womb اللَّهُ يَعْلَمُ مَا تَحْمِلُ كُلُّ أُنْثَىٰ وَمَا تَغِيضُ الْأَرْحَامُ وَمَا تَزْدَادُ(22:5:29) l-arḥāmithe wombs وَنُقِرُّ فِي الْأَرْحَامِ مَا نَشَاءُ إِلَىٰ أَجَلٍ مُسَمًّى(31:34:11) l-arḥāmithe wombs إِنَّ اللَّهَ عِنْدَهُ عِلْمُ السَّاعَةِ وَيُنَزِّلُ الْغَيْثَ وَيَعْلَمُ مَا فِي الْأَرْحَامِ(33:6:9) l-arḥāmi(of) relationships وَأُولُو الْأَرْحَامِ بَعْضُهُمْ أَوْلَىٰ بِبَعْضٍ فِي كِتَابِ اللَّهِ مِنَ الْمُؤْمِنِينَ وَالْمُهَاجِرِينَ(47:22:10) arḥāmakumyour ties of kinship فَهَلْ عَسَيْتُمْ إِنْ تَوَلَّيْتُمْ أَنْ تُفْسِدُوا فِي الْأَرْضِ وَتُقَطِّعُوا أَرْحَامَكُمْ(60:3:3) arḥāmukumyour relatives لَنْ تَنْفَعَكُمْ أَرْحَامُكُمْ وَلَا أَوْلَادُكُمْ يَوْمَ الْقِيَامَةِ يَفْصِلُ بَيْنَكُمْNoun(7:151:10) arḥamu(are) the Most Merciful وَأَدْخِلْنَا فِي رَحْمَتِكَ وَأَنْتَ أَرْحَمُ الرَّاحِمِينَ(12:64:16) arḥamu(is the) Most Merciful فَاللَّهُ خَيْرٌ حَافِظًا وَهُوَ أَرْحَمُ الرَّاحِمِينَ(12:92:10) arḥamu(is) the Most Merciful قَالَ لَا تَثْرِيبَ عَلَيْكُمُ الْيَوْمَ يَغْفِرُ اللَّهُ لَكُمْ وَهُوَ أَرْحَمُ الرَّاحِمِينَ(21:83:9) arḥamu(are) Most Merciful وَأَيُّوبَ إِذْ نَادَىٰ رَبَّهُ أَنِّي مَسَّنِيَ الضُّرُّ وَأَنْتَ أَرْحَمُ الرَّاحِمِينَNoun(18:81:9) ruḥ'man(in) affection فَأَرَدْنَا أَنْ يُبْدِلَهُمَا رَبُّهُمَا خَيْرًا مِنْهُ زَكَاةً وَأَقْرَبَ رُحْمًاNominal(1) Noun(2:163:8) l-raḥmānuthe Most Gracious وَإِلَٰهُكُمْ إِلَٰهٌ وَاحِدٌ لَا إِلَٰهَ إِلَّا هُوَ الرَّحْمَٰنُ الرَّحِيمُ(13:30:17) bil-raḥmāniin the Most Gracious لِتَتْلُوَ عَلَيْهِمُ الَّذِي أَوْحَيْنَا إِلَيْكَ وَهُمْ يَكْفُرُونَ بِالرَّحْمَٰنِ(17:110:6) l-raḥmānathe Most Gracious قُلِ ادْعُوا اللَّهَ أَوِ ادْعُوا الرَّحْمَٰنَ(19:18:4) bil-raḥmāniwith the Most Gracious قَالَتْ إِنِّي أَعُوذُ بِالرَّحْمَٰنِ مِنْكَ إِنْ كُنْتَ تَقِيًّا(19:26:13) lilrraḥmānito the Most Gracious إِنِّي نَذَرْتُ لِلرَّحْمَٰنِ صَوْمًا فَلَنْ أُكَلِّمَ الْيَوْمَ إِنْسِيًّا(19:44:8) lilrraḥmānito the Most Gracious يَا أَبَتِ لَا تَعْبُدِ الشَّيْطَانَ إِنَّ الشَّيْطَانَ كَانَ لِلرَّحْمَٰنِ عَصِيًّا(19:45:8) l-raḥmānithe Most Gracious يَا أَبَتِ إِنِّي أَخَافُ أَنْ يَمَسَّكَ عَذَابٌ مِنَ الرَّحْمَٰنِ فَتَكُونَ لِلشَّيْطَانِ وَلِيًّا(19:61:5) l-raḥmānuthe Most Gracious جَنَّاتِ عَدْنٍ الَّتِي وَعَدَ الرَّحْمَٰنُ عِبَادَهُ بِالْغَيْبِ(19:69:9) l-raḥmānithe Most Gracious ثُمَّ لَنَنْزِعَنَّ مِنْ كُلِّ شِيعَةٍ أَيُّهُمْ أَشَدُّ عَلَى الرَّحْمَٰنِ عِتِيًّا(19:75:8) l-raḥmānuthe Most Gracious قُلْ مَنْ كَانَ فِي الضَّلَالَةِ فَلْيَمْدُدْ لَهُ الرَّحْمَٰنُ مَدًّا(19:78:6) l-raḥmānithe Most Gracious أَطَّلَعَ الْغَيْبَ أَمِ اتَّخَذَ عِنْدَ الرَّحْمَٰنِ عَهْدًا(19:85:5) l-raḥmānithe Most Gracious يَوْمَ نَحْشُرُ الْمُتَّقِينَ إِلَى الرَّحْمَٰنِ وَفْدًا(19:87:8) l-raḥmānithe Most Gracious لَا يَمْلِكُونَ الشَّفَاعَةَ إِلَّا مَنِ اتَّخَذَ عِنْدَ الرَّحْمَٰنِ عَهْدًا(19:88:3) l-raḥmānuthe Most Gracious وَقَالُوا اتَّخَذَ الرَّحْمَٰنُ وَلَدًا(19:91:3) lilrraḥmānito the Most Gracious أَنْ دَعَوْا لِلرَّحْمَٰنِ وَلَدًا(19:92:3) lilrraḥmānifor the Most Gracious وَمَا يَنْبَغِي لِلرَّحْمَٰنِ أَنْ يَتَّخِذَ وَلَدًا(19:93:9) l-raḥmāni(to) the Most Gracious إِنْ كُلُّ مَنْ فِي السَّمَاوَاتِ وَالْأَرْضِ إِلَّا آتِي الرَّحْمَٰنِ عَبْدًا(19:96:8) l-raḥmānuthe Most Gracious إِنَّ الَّذِينَ آمَنُوا وَعَمِلُوا الصَّالِحَاتِ سَيَجْعَلُ لَهُمُ الرَّحْمَٰنُ وُدًّا(20:108:9) lilrraḥmānifor the Most Gracious وَخَشَعَتِ الْأَصْوَاتُ لِلرَّحْمَٰنِ فَلَا تَسْمَعُ إِلَّا هَمْسًا(20:109:9) l-raḥmānuthe Most Gracious يَوْمَئِذٍ لَا تَنْفَعُ الشَّفَاعَةُ إِلَّا مَنْ أَذِنَ لَهُ الرَّحْمَٰنُ وَرَضِيَ لَهُ قَوْلًا(21:26:3) l-raḥmānuthe Most Gracious وَقَالُوا اتَّخَذَ الرَّحْمَٰنُ وَلَدًا سُبْحَانَهُ بَلْ عِبَادٌ مُكْرَمُونَ(21:36:15) l-raḥmāni(of) the Most Gracious أَهَٰذَا الَّذِي يَذْكُرُ آلِهَتَكُمْ وَهُمْ بِذِكْرِ الرَّحْمَٰنِ هُمْ كَافِرُونَ(21:42:7) l-raḥmānithe Most Gracious قُلْ مَنْ يَكْلَؤُكُمْ بِاللَّيْلِ وَالنَّهَارِ مِنَ الرَّحْمَٰنِ(25:26:4) lilrraḥmānifor the Most Gracious الْمُلْكُ يَوْمَئِذٍ الْحَقُّ لِلرَّحْمَٰنِ وَكَانَ يَوْمًا عَلَى الْكَافِرِينَ عَسِيرًا(25:60:5) lilrraḥmānito the Most Gracious وَإِذَا قِيلَ لَهُمُ اسْجُدُوا لِلرَّحْمَٰنِ(25:60:8) l-raḥmānu(is) the Most Gracious قَالُوا وَمَا الرَّحْمَٰنُ أَنَسْجُدُ لِمَا تَأْمُرُنَا وَزَادَهُمْ نُفُورًا(26:5:6) l-raḥmānithe Most Gracious وَمَا يَأْتِيهِمْ مِنْ ذِكْرٍ مِنَ الرَّحْمَٰنِ مُحْدَثٍ إِلَّا كَانُوا عَنْهُ مُعْرِضِينَ(36:11:7) l-raḥmānathe Most Gracious إِنَّمَا تُنْذِرُ مَنِ اتَّبَعَ الذِّكْرَ وَخَشِيَ الرَّحْمَٰنَ بِالْغَيْبِ(36:15:9) l-raḥmānuthe Most Gracious قَالُوا مَا أَنْتُمْ إِلَّا بَشَرٌ مِثْلُنَا وَمَا أَنْزَلَ الرَّحْمَٰنُ مِنْ شَيْءٍ(36:23:7) l-raḥmānuthe Most Gracious إِنْ يُرِدْنِ الرَّحْمَٰنُ بِضُرٍّ لَا تُغْنِ عَنِّي شَفَاعَتُهُمْ شَيْئًا(36:52:10) l-raḥmānuthe Most Gracious هَٰذَا مَا وَعَدَ الرَّحْمَٰنُ وَصَدَقَ الْمُرْسَلُونَ(41:2:3) l-raḥmānithe Most Gracious تَنْزِيلٌ مِنَ الرَّحْمَٰنِ الرَّحِيمِ(43:17:6) lilrraḥmānifor the Most Gracious وَإِذَا بُشِّرَ أَحَدُهُمْ بِمَا ضَرَبَ لِلرَّحْمَٰنِ مَثَلًا ظَلَّ وَجْهُهُ مُسْوَدًّا(43:20:4) l-raḥmānuthe Most Gracious وَقَالُوا لَوْ شَاءَ الرَّحْمَٰنُ مَا عَبَدْنَاهُمْ(43:33:10) bil-raḥmāniin the Most Gracious لَجَعَلْنَا لِمَنْ يَكْفُرُ بِالرَّحْمَٰنِ لِبُيُوتِهِمْ سُقُفًا مِنْ فِضَّةٍ(43:45:11) l-raḥmānithe Most Gracious أَجَعَلْنَا مِنْ دُونِ الرَّحْمَٰنِ آلِهَةً يُعْبَدُونَ(43:81:4) lilrraḥmānithe Most Gracious قُلْ إِنْ كَانَ لِلرَّحْمَٰنِ وَلَدٌ فَأَنَا أَوَّلُ الْعَابِدِينَ(50:33:3) l-raḥmānathe Most Gracious مَنْ خَشِيَ الرَّحْمَٰنَ بِالْغَيْبِ وَجَاءَ بِقَلْبٍ مُنِيبٍ(59:22:12) l-raḥmānu(is) the Most Gracious عَالِمُ الْغَيْبِ وَالشَّهَادَةِ هُوَ الرَّحْمَٰنُ الرَّحِيمُ(67:3:10) l-raḥmāni(of) the Most Gracious مَا تَرَىٰ فِي خَلْقِ الرَّحْمَٰنِ مِنْ تَفَاوُتٍ(67:19:11) l-raḥmānuthe Most Gracious مَا يُمْسِكُهُنَّ إِلَّا الرَّحْمَٰنُ إِنَّهُ بِكُلِّ شَيْءٍ بَصِيرٌ(67:20:10) l-raḥmānithe Most Gracious أَمَّنْ هَٰذَا الَّذِي هُوَ جُنْدٌ لَكُمْ يَنْصُرُكُمْ مِنْ دُونِ الرَّحْمَٰنِ(67:29:3) l-raḥmānu(is) the Most Gracious قُلْ هُوَ الرَّحْمَٰنُ آمَنَّا بِهِ وَعَلَيْهِ تَوَكَّلْنَا(78:37:6) l-raḥmānithe Most Gracious رَبِّ السَّمَاوَاتِ وَالْأَرْضِ وَمَا بَيْنَهُمَا الرَّحْمَٰنِ(78:38:12) l-raḥmānuthe Most Gracious لَا يَتَكَلَّمُونَ إِلَّا مَنْ أَذِنَ لَهُ الرَّحْمَٰنُ وَقَالَ صَوَابًا(2) Adjective(1:1:3) l-raḥmānithe Most Gracious بِسْمِ اللَّهِ الرَّحْمَٰنِ الرَّحِيمِ(1:3:1) al-raḥmāniThe Most Gracious الرَّحْمَٰنِ الرَّحِيمِ(19:58:26) l-raḥmāni(of) the Most Gracious إِذَا تُتْلَىٰ عَلَيْهِمْ آيَاتُ الرَّحْمَٰنِ خَرُّوا سُجَّدًا وَبُكِيًّا(20:5:1) al-raḥmānuThe Most Gracious الرَّحْمَٰنُ عَلَى الْعَرْشِ اسْتَوَىٰ(20:90:13) l-raḥmānu(is) the Most Gracious وَإِنَّ رَبَّكُمُ الرَّحْمَٰنُ فَاتَّبِعُونِي وَأَطِيعُوا أَمْرِي(21:112:6) l-raḥmānu(is) the Most Gracious قَالَ رَبِّ احْكُمْ بِالْحَقِّ وَرَبُّنَا الرَّحْمَٰنُ الْمُسْتَعَانُ عَلَىٰ مَا تَصِفُونَ(25:59:14) l-raḥmānuthe Most Gracious ثُمَّ اسْتَوَىٰ عَلَى الْعَرْشِ الرَّحْمَٰنُ فَاسْأَلْ بِهِ خَبِيرًا(25:63:2) l-raḥmāni(of) the Most Gracious وَعِبَادُ الرَّحْمَٰنِ الَّذِينَ يَمْشُونَ عَلَى الْأَرْضِ هَوْنًا(27:30:7) l-raḥmānithe Most Gracious إِنَّهُ مِنْ سُلَيْمَانَ وَإِنَّهُ بِسْمِ اللَّهِ الرَّحْمَٰنِ الرَّحِيمِ(43:19:6) l-raḥmāni(of) the Most Gracious وَجَعَلُوا الْمَلَائِكَةَ الَّذِينَ هُمْ عِبَادُ الرَّحْمَٰنِ إِنَاثًا(43:36:5) l-raḥmāni(of) the Most Gracious وَمَنْ يَعْشُ عَنْ ذِكْرِ الرَّحْمَٰنِ نُقَيِّضْ لَهُ شَيْطَانًا فَهُوَ لَهُ قَرِينٌ(55:1:1) al-raḥmānuThe Most Gracious الرَّحْمَٰنُNoun(2:64:10) waraḥmatuhuand His Mercy فَلَوْلَا فَضْلُ اللَّهِ عَلَيْكُمْ وَرَحْمَتُهُ لَكُنْتُمْ مِنَ الْخَاسِرِينَ(2:105:19) biraḥmatihifor His Mercy وَاللَّهُ يَخْتَصُّ بِرَحْمَتِهِ مَنْ يَشَاءُ وَاللَّهُ ذُو الْفَضْلِ الْعَظِيمِ(2:157:6) waraḥmatunand Mercy أُولَٰئِكَ عَلَيْهِمْ صَلَوَاتٌ مِنْ رَبِّهِمْ وَرَحْمَةٌ(2:178:30) waraḥmatunand mercy ذَٰلِكَ تَخْفِيفٌ مِنْ رَبِّكُمْ وَرَحْمَةٌ(2:218:12) raḥmata(for) Mercy أُولَٰئِكَ يَرْجُونَ رَحْمَتَ اللَّهِ وَاللَّهُ غَفُورٌ رَحِيمٌ(3:8:12) raḥmatanmercy رَبَّنَا لَا تُزِغْ قُلُوبَنَا بَعْدَ إِذْ هَدَيْتَنَا وَهَبْ لَنَا مِنْ لَدُنْكَ رَحْمَةً(3:74:2) biraḥmatihifor His Mercy يَخْتَصُّ بِرَحْمَتِهِ مَنْ يَشَاءُ وَاللَّهُ ذُو الْفَضْلِ الْعَظِيمِ(3:107:6) raḥmati(the) Mercy وَأَمَّا الَّذِينَ ابْيَضَّتْ وُجُوهُهُمْ فَفِي رَحْمَةِ اللَّهِ(3:157:11) waraḥmatunand Mercy لَمَغْفِرَةٌ مِنَ اللَّهِ وَرَحْمَةٌ خَيْرٌ مِمَّا يَجْمَعُونَ(3:159:2) raḥmatin(of) Mercy فَبِمَا رَحْمَةٍ مِنَ اللَّهِ لِنْتَ لَهُمْ(4:83:26) waraḥmatuhuand His Mercy وَلَوْلَا فَضْلُ اللَّهِ عَلَيْكُمْ وَرَحْمَتُهُ لَاتَّبَعْتُمُ الشَّيْطَانَ إِلَّا قَلِيلًا(4:96:4) waraḥmatanand mercy دَرَجَاتٍ مِنْهُ وَمَغْفِرَةً وَرَحْمَةً وَكَانَ اللَّهُ غَفُورًا رَحِيمًا(4:113:5) waraḥmatuhuand His Mercy  وَلَوْلَا فَضْلُ اللَّهِ عَلَيْكَ وَرَحْمَتُهُ لَهَمَّتْ طَائِفَةٌ مِنْهُمْ أَنْ يُضِلُّوكَ(4:175:9) raḥmatinMercy فَأَمَّا الَّذِينَ آمَنُوا بِاللَّهِ وَاعْتَصَمُوا بِهِ فَسَيُدْخِلُهُمْ فِي رَحْمَةٍ مِنْهُ(6:12:12) l-raḥmatathe Mercy كَتَبَ عَلَىٰ نَفْسِهِ الرَّحْمَةَ لَيَجْمَعَنَّكُمْ إِلَىٰ يَوْمِ الْقِيَامَةِ لَا رَيْبَ فِيهِ(6:54:13) l-raḥmatathe Mercy فَقُلْ سَلَامٌ عَلَيْكُمْ كَتَبَ رَبُّكُمْ عَلَىٰ نَفْسِهِ الرَّحْمَةَ(6:133:4) l-raḥmati(of) mercy وَرَبُّكَ الْغَنِيُّ ذُو الرَّحْمَةِ(6:147:6) raḥmatin(of) Mercy فَإِنْ كَذَّبُوكَ فَقُلْ رَبُّكُمْ ذُو رَحْمَةٍ وَاسِعَةٍ(6:154:13) waraḥmatanand mercy وَهُدًى وَرَحْمَةً لَعَلَّهُمْ بِلِقَاءِ رَبِّهِمْ يُؤْمِنُونَ(6:157:17) waraḥmatunand a Mercy فَقَدْ جَاءَكُمْ بَيِّنَةٌ مِنْ رَبِّكُمْ وَهُدًى وَرَحْمَةٌ(7:49:7) biraḥmatinMercy أَهَٰؤُلَاءِ الَّذِينَ أَقْسَمْتُمْ لَا يَنَالُهُمُ اللَّهُ بِرَحْمَةٍ(7:52:8) waraḥmatanand mercy وَلَقَدْ جِئْنَاهُمْ بِكِتَابٍ فَصَّلْنَاهُ عَلَىٰ عِلْمٍ هُدًى وَرَحْمَةً لِقَوْمٍ يُؤْمِنُونَ(7:56:11) raḥmata(the) Mercy إِنَّ رَحْمَتَ اللَّهِ قَرِيبٌ مِنَ الْمُحْسِنِينَ(7:57:8) raḥmatihiHis Mercy وَهُوَ الَّذِي يُرْسِلُ الرِّيَاحَ بُشْرًا بَيْنَ يَدَيْ رَحْمَتِهِ(7:72:4) biraḥmatinby Mercy فَأَنْجَيْنَاهُ وَالَّذِينَ مَعَهُ بِرَحْمَةٍ مِنَّا(7:151:8) raḥmatikaYour Mercy قَالَ رَبِّ اغْفِرْ لِي وَلِأَخِي وَأَدْخِلْنَا فِي رَحْمَتِكَ(7:154:11) waraḥmatunand mercy وَفِي نُسْخَتِهَا هُدًى وَرَحْمَةٌ لِلَّذِينَ هُمْ لِرَبِّهِمْ يَرْهَبُونَ(7:156:18) waraḥmatībut My Mercy قَالَ عَذَابِي أُصِيبُ بِهِ مَنْ أَشَاءُ وَرَحْمَتِي وَسِعَتْ كُلَّ شَيْءٍ(7:203:21) waraḥmatunand mercy هَٰذَا بَصَائِرُ مِنْ رَبِّكُمْ وَهُدًى وَرَحْمَةٌ لِقَوْمٍ يُؤْمِنُونَ(9:21:3) biraḥmatinof Mercy يُبَشِّرُهُمْ رَبُّهُمْ بِرَحْمَةٍ مِنْهُ وَرِضْوَانٍ وَجَنَّاتٍ لَهُمْ فِيهَا نَعِيمٌ مُقِيمٌ(9:61:16) waraḥmatunand (is) a mercy يُؤْمِنُ بِاللَّهِ وَيُؤْمِنُ لِلْمُؤْمِنِينَ وَرَحْمَةٌ لِلَّذِينَ آمَنُوا مِنْكُمْ(9:99:23) raḥmatihiHis Mercy سَيُدْخِلُهُمُ اللَّهُ فِي رَحْمَتِهِ إِنَّ اللَّهَ غَفُورٌ رَحِيمٌ(10:21:4) raḥmatanmercy وَإِذَا أَذَقْنَا النَّاسَ رَحْمَةً مِنْ بَعْدِ ضَرَّاءَ مَسَّتْهُمْ إِذَا لَهُمْ مَكْرٌ فِي آيَاتِنَا(10:57:13) waraḥmatunand mercy وَشِفَاءٌ لِمَا فِي الصُّدُورِ وَهُدًى وَرَحْمَةٌ لِلْمُؤْمِنِينَ(10:58:4) wabiraḥmatihiand in His Mercy قُلْ بِفَضْلِ اللَّهِ وَبِرَحْمَتِهِ فَبِذَٰلِكَ فَلْيَفْرَحُوا(10:86:2) biraḥmatikaby Your Mercy وَنَجِّنَا بِرَحْمَتِكَ مِنَ الْقَوْمِ الْكَافِرِينَ(11:9:5) raḥmatan(of) Mercy from Us وَلَئِنْ أَذَقْنَا الْإِنْسَانَ مِنَّا رَحْمَةً ثُمَّ نَزَعْنَاهَا مِنْهُ إِنَّهُ لَيَئُوسٌ كَفُورٌ(11:17:15) waraḥmatanand (as) mercy وَمِنْ قَبْلِهِ كِتَابُ مُوسَىٰ إِمَامًا وَرَحْمَةً(11:28:11) raḥmatanmercy قَالَ يَا قَوْمِ أَرَأَيْتُمْ إِنْ كُنْتُ عَلَىٰ بَيِّنَةٍ مِنْ رَبِّي وَآتَانِي رَحْمَةً مِنْ عِنْدِهِ(11:58:9) biraḥmatinby a Mercy وَلَمَّا جَاءَ أَمْرُنَا نَجَّيْنَا هُودًا وَالَّذِينَ آمَنُوا مَعَهُ بِرَحْمَةٍ مِنَّا(11:63:12) raḥmatana Mercy قَالَ يَا قَوْمِ أَرَأَيْتُمْ إِنْ كُنْتُ عَلَىٰ بَيِّنَةٍ مِنْ رَبِّي وَآتَانِي مِنْهُ رَحْمَةً(11:66:9) biraḥmatinby a Mercy فَلَمَّا جَاءَ أَمْرُنَا نَجَّيْنَا صَالِحًا وَالَّذِينَ آمَنُوا مَعَهُ بِرَحْمَةٍ مِنَّا(11:73:6) raḥmatuThe Mercy of Allah رَحْمَتُ اللَّهِ وَبَرَكَاتُهُ عَلَيْكُمْ أَهْلَ الْبَيْتِ إِنَّهُ حَمِيدٌ مَجِيدٌ(11:94:9) biraḥmatinby a Mercy وَلَمَّا جَاءَ أَمْرُنَا نَجَّيْنَا شُعَيْبًا وَالَّذِينَ آمَنُوا مَعَهُ بِرَحْمَةٍ مِنَّا(12:56:11) biraḥmatināOur Mercy نُصِيبُ بِرَحْمَتِنَا مَنْ نَشَاءُ وَلَا نُضِيعُ أَجْرَ الْمُحْسِنِينَ(12:111:21) waraḥmatanand mercy وَلَٰكِنْ تَصْدِيقَ الَّذِي بَيْنَ يَدَيْهِ وَتَفْصِيلَ كُلِّ شَيْءٍ وَهُدًى وَرَحْمَةً لِقَوْمٍ يُؤْمِنُونَ(15:56:5) raḥmati(the) Mercy قَالَ وَمَنْ يَقْنَطُ مِنْ رَحْمَةِ رَبِّهِ إِلَّا الضَّالُّونَ(16:64:12) waraḥmatanand mercy إِلَّا لِتُبَيِّنَ لَهُمُ الَّذِي اخْتَلَفُوا فِيهِ وَهُدًى وَرَحْمَةً لِقَوْمٍ يُؤْمِنُونَ(16:89:22) waraḥmatanand mercy وَنَزَّلْنَا عَلَيْكَ الْكِتَابَ تِبْيَانًا لِكُلِّ شَيْءٍ وَهُدًى وَرَحْمَةً وَبُشْرَىٰ لِلْمُسْلِمِينَ(17:24:6) l-raḥmati[the] mercy وَاخْفِضْ لَهُمَا جَنَاحَ الذُّلِّ مِنَ الرَّحْمَةِ(17:28:5) raḥmatinmercy وَإِمَّا تُعْرِضَنَّ عَنْهُمُ ابْتِغَاءَ رَحْمَةٍ مِنْ رَبِّكَ تَرْجُوهَا فَقُلْ لَهُمْ قَوْلًا مَيْسُورًا(17:57:11) raḥmatahu(for) His mercy يَبْتَغُونَ إِلَىٰ رَبِّهِمُ الْوَسِيلَةَ أَيُّهُمْ أَقْرَبُ وَيَرْجُونَ رَحْمَتَهُ(17:82:7) waraḥmatunand a mercy وَنُنَزِّلُ مِنَ الْقُرْآنِ مَا هُوَ شِفَاءٌ وَرَحْمَةٌ لِلْمُؤْمِنِينَ(17:87:2) raḥmatana mercy إِلَّا رَحْمَةً مِنْ رَبِّكَ إِنَّ فَضْلَهُ كَانَ عَلَيْكَ كَبِيرًا(17:100:6) raḥmati(of) the Mercy قُلْ لَوْ أَنْتُمْ تَمْلِكُونَ خَزَائِنَ رَحْمَةِ رَبِّي إِذًا لَأَمْسَكْتُمْ خَشْيَةَ الْإِنْفَاقِ(18:10:11) raḥmatanMercy رَبَّنَا آتِنَا مِنْ لَدُنْكَ رَحْمَةً وَهَيِّئْ لَنَا مِنْ أَمْرِنَا رَشَدًا(18:16:14) raḥmatihiHis Mercy فَأْوُوا إِلَى الْكَهْفِ يَنْشُرْ لَكُمْ رَبُّكُمْ مِنْ رَحْمَتِهِ(18:58:4) l-raḥmati(of) the Mercy وَرَبُّكَ الْغَفُورُ ذُو الرَّحْمَةِ(18:65:6) raḥmatanmercy فَوَجَدَا عَبْدًا مِنْ عِبَادِنَا آتَيْنَاهُ رَحْمَةً مِنْ عِنْدِنَا(18:82:22) raḥmatan(as) a mercy فَأَرَادَ رَبُّكَ أَنْ يَبْلُغَا أَشُدَّهُمَا وَيَسْتَخْرِجَا كَنْزَهُمَا رَحْمَةً مِنْ رَبِّكَ(18:98:3) raḥmatun(is) a mercy قَالَ هَٰذَا رَحْمَةٌ مِنْ رَبِّي فَإِذَا جَاءَ وَعْدُ رَبِّي جَعَلَهُ دَكَّاءَ(19:2:2) raḥmati(of the) Mercy ذِكْرُ رَحْمَتِ رَبِّكَ عَبْدَهُ زَكَرِيَّا(19:21:11) waraḥmatanand a Mercy وَلِنَجْعَلَهُ آيَةً لِلنَّاسِ وَرَحْمَةً مِنَّا وَكَانَ أَمْرًا مَقْضِيًّا(19:50:4) raḥmatināOur Mercy وَوَهَبْنَا لَهُمْ مِنْ رَحْمَتِنَا وَجَعَلْنَا لَهُمْ لِسَانَ صِدْقٍ عَلِيًّا(19:53:4) raḥmatināOur Mercy وَوَهَبْنَا لَهُ مِنْ رَحْمَتِنَا أَخَاهُ هَارُونَ نَبِيًّا(21:75:3) raḥmatināOur Mercy وَأَدْخَلْنَاهُ فِي رَحْمَتِنَا إِنَّهُ مِنَ الصَّالِحِينَ(21:84:12) raḥmatan(as) Mercy وَآتَيْنَاهُ أَهْلَهُ وَمِثْلَهُمْ مَعَهُمْ رَحْمَةً مِنْ عِنْدِنَا وَذِكْرَىٰ لِلْعَابِدِينَ(21:86:3) raḥmatināOur Mercy وَأَدْخَلْنَاهُمْ فِي رَحْمَتِنَا إِنَّهُمْ مِنَ الصَّالِحِينَ(21:107:4) raḥmatan(as) a mercy وَمَا أَرْسَلْنَاكَ إِلَّا رَحْمَةً لِلْعَالَمِينَ(24:10:5) waraḥmatuhuand His Mercy  وَلَوْلَا فَضْلُ اللَّهِ عَلَيْكُمْ وَرَحْمَتُهُ وَأَنَّ اللَّهَ تَوَّابٌ حَكِيمٌ(24:14:5) waraḥmatuhuand His Mercy وَلَوْلَا فَضْلُ اللَّهِ عَلَيْكُمْ وَرَحْمَتُهُ فِي الدُّنْيَا وَالْآخِرَةِ لَمَسَّكُمْ فِي مَا أَفَضْتُمْ فِيهِ عَذَابٌ عَظِيمٌ(24:20:5) waraḥmatuhuand His Mercy وَلَوْلَا فَضْلُ اللَّهِ عَلَيْكُمْ وَرَحْمَتُهُ وَأَنَّ اللَّهَ رَءُوفٌ رَحِيمٌ(24:21:20) waraḥmatuhuand His Mercy وَلَوْلَا فَضْلُ اللَّهِ عَلَيْكُمْ وَرَحْمَتُهُ مَا زَكَىٰ مِنْكُمْ مِنْ أَحَدٍ أَبَدًا(25:48:8) raḥmatihiHis Mercy وَهُوَ الَّذِي أَرْسَلَ الرِّيَاحَ بُشْرًا بَيْنَ يَدَيْ رَحْمَتِهِ(27:19:21) biraḥmatikaby Your Mercy وَأَدْخِلْنِي بِرَحْمَتِكَ فِي عِبَادِكَ الصَّالِحِينَ(27:63:13) raḥmatihiHis Mercy وَمَنْ يُرْسِلُ الرِّيَاحَ بُشْرًا بَيْنَ يَدَيْ رَحْمَتِهِ(27:77:3) waraḥmatunand a mercy وَإِنَّهُ لَهُدًى وَرَحْمَةٌ لِلْمُؤْمِنِينَ(28:43:14) waraḥmatanand mercy بَصَائِرَ لِلنَّاسِ وَهُدًى وَرَحْمَةً لَعَلَّهُمْ يَتَذَكَّرُونَ(28:46:8) raḥmatan(as) a mercy وَمَا كُنْتَ بِجَانِبِ الطُّورِ إِذْ نَادَيْنَا وَلَٰكِنْ رَحْمَةً مِنْ رَبِّكَ(28:73:2) raḥmatihiHis Mercy وَمِنْ رَحْمَتِهِ جَعَلَ لَكُمُ اللَّيْلَ وَالنَّهَارَ لِتَسْكُنُوا فِيهِ وَلِتَبْتَغُوا مِنْ فَضْلِهِ(28:86:9) raḥmatan(as) a mercy وَمَا كُنْتَ تَرْجُو أَنْ يُلْقَىٰ إِلَيْكَ الْكِتَابُ إِلَّا رَحْمَةً مِنْ رَبِّكَ(29:23:9) raḥmatīMy Mercy وَالَّذِينَ كَفَرُوا بِآيَاتِ اللَّهِ وَلِقَائِهِ أُولَٰئِكَ يَئِسُوا مِنْ رَحْمَتِي(29:51:12) laraḥmatansurely is a mercy إِنَّ فِي ذَٰلِكَ لَرَحْمَةً وَذِكْرَىٰ لِقَوْمٍ يُؤْمِنُونَ(30:21:14) waraḥmatanand mercy وَمِنْ آيَاتِهِ أَنْ خَلَقَ لَكُمْ مِنْ أَنْفُسِكُمْ أَزْوَاجًا لِتَسْكُنُوا إِلَيْهَا وَجَعَلَ بَيْنَكُمْ مَوَدَّةً وَرَحْمَةً(30:33:13) raḥmatanMercy ثُمَّ إِذَا أَذَاقَهُمْ مِنْهُ رَحْمَةً إِذَا فَرِيقٌ مِنْهُمْ بِرَبِّهِمْ يُشْرِكُونَ(30:36:4) raḥmatanmercy وَإِذَا أَذَقْنَا النَّاسَ رَحْمَةً فَرِحُوا بِهَا(30:46:9) raḥmatihiHis Mercy وَمِنْ آيَاتِهِ أَنْ يُرْسِلَ الرِّيَاحَ مُبَشِّرَاتٍ وَلِيُذِيقَكُمْ مِنْ رَحْمَتِهِ(30:50:4) raḥmati(of the) Mercy فَانْظُرْ إِلَىٰ آثَارِ رَحْمَتِ اللَّهِ كَيْفَ يُحْيِي الْأَرْضَ بَعْدَ مَوْتِهَا(31:3:2) waraḥmatanand a mercy هُدًى وَرَحْمَةً لِلْمُحْسِنِينَ(33:17:15) raḥmatana mercy قُلْ مَنْ ذَا الَّذِي يَعْصِمُكُمْ مِنَ اللَّهِ إِنْ أَرَادَ بِكُمْ سُوءًا أَوْ أَرَادَ بِكُمْ رَحْمَةً(35:2:6) raḥmatinMercy مَا يَفْتَحِ اللَّهُ لِلنَّاسِ مِنْ رَحْمَةٍ فَلَا مُمْسِكَ لَهَا(36:44:2) raḥmatan(by) Mercy إِلَّا رَحْمَةً مِنَّا وَمَتَاعًا إِلَىٰ حِينٍ(38:9:4) raḥmati(of the) Mercy أَمْ عِنْدَهُمْ خَزَائِنُ رَحْمَةِ رَبِّكَ الْعَزِيزِ الْوَهَّابِ(38:43:6) raḥmatana Mercy وَوَهَبْنَا لَهُ أَهْلَهُ وَمِثْلَهُمْ مَعَهُمْ رَحْمَةً مِنَّا(39:9:11) raḥmata(for the) Mercy يَحْذَرُ الْآخِرَةَ وَيَرْجُو رَحْمَةَ رَبِّهِ(39:38:26) biraḥmatinmercy أَوْ أَرَادَنِي بِرَحْمَةٍ هَلْ هُنَّ مُمْسِكَاتُ رَحْمَتِهِ(39:38:30) raḥmatihi(of) His mercy أَوْ أَرَادَنِي بِرَحْمَةٍ هَلْ هُنَّ مُمْسِكَاتُ رَحْمَتِهِ(39:53:10) raḥmati(the) Mercy قُلْ يَا عِبَادِيَ الَّذِينَ أَسْرَفُوا عَلَىٰ أَنْفُسِهِمْ لَا تَقْنَطُوا مِنْ رَحْمَةِ اللَّهِ(40:7:18) raḥmatan(by Your) Mercy رَبَّنَا وَسِعْتَ كُلَّ شَيْءٍ رَحْمَةً وَعِلْمًا(41:50:3) raḥmatanmercy وَلَئِنْ أَذَقْنَاهُ رَحْمَةً مِنَّا مِنْ بَعْدِ ضَرَّاءَ مَسَّتْهُ لَيَقُولَنَّ هَٰذَا لِي(42:8:12) raḥmatihiHis Mercy وَلَٰكِنْ يُدْخِلُ مَنْ يَشَاءُ فِي رَحْمَتِهِ(42:28:10) raḥmatahuHis mercy وَهُوَ الَّذِي يُنَزِّلُ الْغَيْثَ مِنْ بَعْدِ مَا قَنَطُوا وَيَنْشُرُ رَحْمَتَهُ(42:48:16) raḥmatanMercy وَإِنَّا إِذَا أَذَقْنَا الْإِنْسَانَ مِنَّا رَحْمَةً فَرِحَ بِهَا(43:32:3) raḥmata(the) Mercy أَهُمْ يَقْسِمُونَ رَحْمَتَ رَبِّكَ(43:32:21) waraḥmatuBut (the) Mercy وَرَحْمَتُ رَبِّكَ خَيْرٌ مِمَّا يَجْمَعُونَ(44:6:1) raḥmatanAs Mercy رَحْمَةً مِنْ رَبِّكَ إِنَّهُ هُوَ السَّمِيعُ الْعَلِيمُ(45:20:5) waraḥmatunand mercy هَٰذَا بَصَائِرُ لِلنَّاسِ وَهُدًى وَرَحْمَةٌ لِقَوْمٍ يُوقِنُونَ(45:30:9) raḥmatihiHis mercy فَأَمَّا الَّذِينَ آمَنُوا وَعَمِلُوا الصَّالِحَاتِ فَيُدْخِلُهُمْ رَبُّهُمْ فِي رَحْمَتِهِ(46:12:6) waraḥmatanand a mercy وَمِنْ قَبْلِهِ كِتَابُ مُوسَىٰ إِمَامًا وَرَحْمَةً(48:25:30) raḥmatihiHis Mercy لِيُدْخِلَ اللَّهُ فِي رَحْمَتِهِ مَنْ يَشَاءُ(57:13:23) l-raḥmatu(is) mercy بَاطِنُهُ فِيهِ الرَّحْمَةُ وَظَاهِرُهُ مِنْ قِبَلِهِ الْعَذَابُ(57:27:18) waraḥmatanand mercy وَجَعَلْنَا فِي قُلُوبِ الَّذِينَ اتَّبَعُوهُ رَأْفَةً وَرَحْمَةً(57:28:11) raḥmatihiHis Mercy اتَّقُوا اللَّهَ وَآمِنُوا بِرَسُولِهِ يُؤْتِكُمْ كِفْلَيْنِ مِنْ رَحْمَتِهِ(76:31:5) raḥmatihiHis mercy يُدْخِلُ مَنْ يَشَاءُ فِي رَحْمَتِهِ وَالظَّالِمِينَ أَعَدَّ لَهُمْ عَذَابًا أَلِيمًاNominal(1) Adjective(1:1:4) l-raḥīmithe Most Merciful بِسْمِ اللَّهِ الرَّحْمَٰنِ الرَّحِيمِ(1:3:2) l-raḥīmithe Most Merciful الرَّحْمَٰنِ الرَّحِيمِ(2:37:11) l-raḥīmuthe Most Merciful فَتَلَقَّىٰ آدَمُ مِنْ رَبِّهِ كَلِمَاتٍ فَتَابَ عَلَيْهِ إِنَّهُ هُوَ التَّوَّابُ الرَّحِيمُ(2:54:26) l-raḥīmuthe Most Merciful ذَٰلِكُمْ خَيْرٌ لَكُمْ عِنْدَ بَارِئِكُمْ فَتَابَ عَلَيْكُمْ إِنَّهُ هُوَ التَّوَّابُ الرَّحِيمُ(2:128:17) l-raḥīmuthe Most Merciful وَأَرِنَا مَنَاسِكَنَا وَتُبْ عَلَيْنَا إِنَّكَ أَنْتَ التَّوَّابُ الرَّحِيمُ(2:143:45) raḥīmunMost Merciful وَمَا كَانَ اللَّهُ لِيُضِيعَ إِيمَانَكُمْ إِنَّ اللَّهَ بِالنَّاسِ لَرَءُوفٌ رَحِيمٌ(2:160:11) l-raḥīmuthe Most Merciful فَأُولَٰئِكَ أَتُوبُ عَلَيْهِمْ وَأَنَا التَّوَّابُ الرَّحِيمُ(2:163:9) l-raḥīmuthe Most Merciful وَإِلَٰهُكُمْ إِلَٰهٌ وَاحِدٌ لَا إِلَٰهَ إِلَّا هُوَ الرَّحْمَٰنُ الرَّحِيمُ(2:173:25) raḥīmunMost Merciful فَمَنِ اضْطُرَّ غَيْرَ بَاغٍ وَلَا عَادٍ فَلَا إِثْمَ عَلَيْهِ إِنَّ اللَّهَ غَفُورٌ رَحِيمٌ(2:182:16) raḥīmunAll-Merciful فَلَا إِثْمَ عَلَيْهِ إِنَّ اللَّهَ غَفُورٌ رَحِيمٌ(2:192:6) raḥīmunMost Merciful فَإِنِ انْتَهَوْا فَإِنَّ اللَّهَ غَفُورٌ رَحِيمٌ(2:199:12) raḥīmunMost Merciful وَاسْتَغْفِرُوا اللَّهَ إِنَّ اللَّهَ غَفُورٌ رَحِيمٌ(2:218:16) raḥīmunMost Merciful أُولَٰئِكَ يَرْجُونَ رَحْمَتَ اللَّهِ وَاللَّهُ غَفُورٌ رَحِيمٌ(2:226:13) raḥīmunMost Merciful فَإِنْ فَاءُوا فَإِنَّ اللَّهَ غَفُورٌ رَحِيمٌ(3:31:14) raḥīmunMost Merciful يُحْبِبْكُمُ اللَّهُ وَيَغْفِرْ لَكُمْ ذُنُوبَكُمْ وَاللَّهُ غَفُورٌ رَحِيمٌ(3:89:11) raḥīmunMost Merciful إِلَّا الَّذِينَ تَابُوا مِنْ بَعْدِ ذَٰلِكَ وَأَصْلَحُوا فَإِنَّ اللَّهَ غَفُورٌ رَحِيمٌ(3:129:16) raḥīmunMost Merciful يَغْفِرُ لِمَنْ يَشَاءُ وَيُعَذِّبُ مَنْ يَشَاءُ وَاللَّهُ غَفُورٌ رَحِيمٌ(4:16:14) raḥīmanMost-Merciful إِنَّ اللَّهَ كَانَ تَوَّابًا رَحِيمًا(4:23:54) raḥīmanMost-Merciful إِلَّا مَا قَدْ سَلَفَ إِنَّ اللَّهَ كَانَ غَفُورًا رَحِيمًا(4:25:58) raḥīmunMost Merciful وَأَنْ تَصْبِرُوا خَيْرٌ لَكُمْ وَاللَّهُ غَفُورٌ رَحِيمٌ(4:64:23) raḥīmanMost Merciful لَوَجَدُوا اللَّهَ تَوَّابًا رَحِيمًا(4:96:8) raḥīmanMost Merciful دَرَجَاتٍ مِنْهُ وَمَغْفِرَةً وَرَحْمَةً وَكَانَ اللَّهُ غَفُورًا رَحِيمًا(4:100:31) raḥīmanMost Merciful ثُمَّ يُدْرِكْهُ الْمَوْتُ فَقَدْ وَقَعَ أَجْرُهُ عَلَى اللَّهِ وَكَانَ اللَّهُ غَفُورًا رَحِيمًا(4:106:7) raḥīmanMost Merciful وَاسْتَغْفِرِ اللَّهَ إِنَّ اللَّهَ كَانَ غَفُورًا رَحِيمًا(4:110:13) raḥīmanMost Merciful وَمَنْ يَعْمَلْ سُوءًا أَوْ يَظْلِمْ نَفْسَهُ ثُمَّ يَسْتَغْفِرِ اللَّهَ يَجِدِ اللَّهَ غَفُورًا رَحِيمًا(4:129:22) raḥīmanMost Merciful وَإِنْ تُصْلِحُوا وَتَتَّقُوا فَإِنَّ اللَّهَ كَانَ غَفُورًا رَحِيمًا(4:152:17) raḥīmanMost Merciful أُولَٰئِكَ سَوْفَ يُؤْتِيهِمْ أُجُورَهُمْ وَكَانَ اللَّهُ غَفُورًا رَحِيمًا(5:3:61) raḥīmunMost Merciful فَمَنِ اضْطُرَّ فِي مَخْمَصَةٍ غَيْرَ مُتَجَانِفٍ لِإِثْمٍ فَإِنَّ اللَّهَ غَفُورٌ رَحِيمٌ(5:34:13) raḥīmunMost Merciful إِلَّا الَّذِينَ تَابُوا مِنْ قَبْلِ أَنْ تَقْدِرُوا عَلَيْهِمْ فَاعْلَمُوا أَنَّ اللَّهَ غَفُورٌ رَحِيمٌ(5:39:14) raḥīmunMost Merciful فَمَنْ تَابَ مِنْ بَعْدِ ظُلْمِهِ وَأَصْلَحَ فَإِنَّ اللَّهَ يَتُوبُ عَلَيْهِ إِنَّ اللَّهَ غَفُورٌ رَحِيمٌ(5:74:8) raḥīmunMost Merciful أَفَلَا يَتُوبُونَ إِلَى اللَّهِ وَيَسْتَغْفِرُونَهُ وَاللَّهُ غَفُورٌ رَحِيمٌ(5:98:9) raḥīmunMost Merciful اعْلَمُوا أَنَّ اللَّهَ شَدِيدُ الْعِقَابِ وَأَنَّ اللَّهَ غَفُورٌ رَحِيمٌ(6:54:27) raḥīmunMost Merciful أَنَّهُ مَنْ عَمِلَ مِنْكُمْ سُوءًا بِجَهَالَةٍ ثُمَّ تَابَ مِنْ بَعْدِهِ وَأَصْلَحَ فَأَنَّهُ غَفُورٌ رَحِيمٌ(6:145:39) raḥīmunMost Merciful فَمَنِ اضْطُرَّ غَيْرَ بَاغٍ وَلَا عَادٍ فَإِنَّ رَبَّكَ غَفُورٌ رَحِيمٌ(6:165:21) raḥīmunMost Merciful إِنَّ رَبَّكَ سَرِيعُ الْعِقَابِ وَإِنَّهُ لَغَفُورٌ رَحِيمٌ(7:153:14) raḥīmunMost Merciful وَالَّذِينَ عَمِلُوا السَّيِّئَاتِ ثُمَّ تَابُوا مِنْ بَعْدِهَا وَآمَنُوا إِنَّ رَبَّكَ مِنْ بَعْدِهَا لَغَفُورٌ رَحِيمٌ(7:167:19) raḥīmunMost Merciful إِنَّ رَبَّكَ لَسَرِيعُ الْعِقَابِ وَإِنَّهُ لَغَفُورٌ رَحِيمٌ(8:69:11) raḥīmunMost Merciful فَكُلُوا مِمَّا غَنِمْتُمْ حَلَالًا طَيِّبًا وَاتَّقُوا اللَّهَ إِنَّ اللَّهَ غَفُورٌ رَحِيمٌ(8:70:24) raḥīmunMost Merciful يُؤْتِكُمْ خَيْرًا مِمَّا أُخِذَ مِنْكُمْ وَيَغْفِرْ لَكُمْ وَاللَّهُ غَفُورٌ رَحِيمٌ(9:5:26) raḥīmunMost Merciful فَإِنْ تَابُوا وَأَقَامُوا الصَّلَاةَ وَآتَوُا الزَّكَاةَ فَخَلُّوا سَبِيلَهُمْ إِنَّ اللَّهَ غَفُورٌ رَحِيمٌ(9:27:12) raḥīmunMost Merciful ثُمَّ يَتُوبُ اللَّهُ مِنْ بَعْدِ ذَٰلِكَ عَلَىٰ مَنْ يَشَاءُ وَاللَّهُ غَفُورٌ رَحِيمٌ(9:91:26) raḥīmunMost Merciful مَا عَلَى الْمُحْسِنِينَ مِنْ سَبِيلٍ وَاللَّهُ غَفُورٌ رَحِيمٌ(9:99:27) raḥīmunMost Merciful سَيُدْخِلُهُمُ اللَّهُ فِي رَحْمَتِهِ إِنَّ اللَّهَ غَفُورٌ رَحِيمٌ(9:102:17) raḥīmunMost Merciful عَسَى اللَّهُ أَنْ يَتُوبَ عَلَيْهِمْ إِنَّ اللَّهَ غَفُورٌ رَحِيمٌ(9:104:16) l-raḥīmuthe Most Merciful أَلَمْ يَعْلَمُوا أَنَّ اللَّهَ هُوَ يَقْبَلُ التَّوْبَةَ عَنْ عِبَادِهِ وَيَأْخُذُ الصَّدَقَاتِ وَأَنَّ اللَّهَ هُوَ التَّوَّابُ الرَّحِيمُ(9:117:27) raḥīmunMost Merciful ثُمَّ تَابَ عَلَيْهِمْ إِنَّهُ بِهِمْ رَءُوفٌ رَحِيمٌ(9:118:31) l-raḥīmuthe Most Merciful ثُمَّ تَابَ عَلَيْهِمْ لِيَتُوبُوا إِنَّ اللَّهَ هُوَ التَّوَّابُ الرَّحِيمُ(9:128:14) raḥīmun(and) merciful حَرِيصٌ عَلَيْكُمْ بِالْمُؤْمِنِينَ رَءُوفٌ رَحِيمٌ(10:107:24) l-raḥīmuthe Most Merciful يُصِيبُ بِهِ مَنْ يَشَاءُ مِنْ عِبَادِهِ وَهُوَ الْغَفُورُ الرَّحِيمُ(11:41:11) raḥīmunMost Merciful بِسْمِ اللَّهِ مَجْرَاهَا وَمُرْسَاهَا إِنَّ رَبِّي لَغَفُورٌ رَحِيمٌ(11:90:8) raḥīmun(is) Most Merciful وَاسْتَغْفِرُوا رَبَّكُمْ ثُمَّ تُوبُوا إِلَيْهِ إِنَّ رَبِّي رَحِيمٌ وَدُودٌ(12:53:15) raḥīmunMost Merciful إِنَّ النَّفْسَ لَأَمَّارَةٌ بِالسُّوءِ إِلَّا مَا رَحِمَ رَبِّي إِنَّ رَبِّي غَفُورٌ رَحِيمٌ(12:98:9) l-raḥīmuthe Most Merciful قَالَ سَوْفَ أَسْتَغْفِرُ لَكُمْ رَبِّي إِنَّهُ هُوَ الْغَفُورُ الرَّحِيمُ(14:36:15) raḥīmunMost Merciful فَمَنْ تَبِعَنِي فَإِنَّهُ مِنِّي وَمَنْ عَصَانِي فَإِنَّكَ غَفُورٌ رَحِيمٌ(15:49:6) l-raḥīmuthe Most Merciful نَبِّئْ عِبَادِي أَنِّي أَنَا الْغَفُورُ الرَّحِيمُ(16:7:14) raḥīmunMost Merciful لَمْ تَكُونُوا بَالِغِيهِ إِلَّا بِشِقِّ الْأَنْفُسِ إِنَّ رَبَّكُمْ لَرَءُوفٌ رَحِيمٌ(16:18:10) raḥīmunMost Merciful وَإِنْ تَعُدُّوا نِعْمَةَ اللَّهِ لَا تُحْصُوهَا إِنَّ اللَّهَ لَغَفُورٌ رَحِيمٌ(16:47:8) raḥīmunMost Merciful أَوْ يَأْخُذَهُمْ عَلَىٰ تَخَوُّفٍ فَإِنَّ رَبَّكُمْ لَرَءُوفٌ رَحِيمٌ(16:110:18) raḥīmunMost Merciful ثُمَّ جَاهَدُوا وَصَبَرُوا إِنَّ رَبَّكَ مِنْ بَعْدِهَا لَغَفُورٌ رَحِيمٌ(16:115:22) raḥīmunMost Merciful فَمَنِ اضْطُرَّ غَيْرَ بَاغٍ وَلَا عَادٍ فَإِنَّ اللَّهَ غَفُورٌ رَحِيمٌ(16:119:19) raḥīmunMost Merciful إِنَّ رَبَّكَ مِنْ بَعْدِهَا لَغَفُورٌ رَحِيمٌ(22:65:27) raḥīmunMost Merciful إِنَّ اللَّهَ بِالنَّاسِ لَرَءُوفٌ رَحِيمٌ(24:5:11) raḥīmunMost Merciful إِلَّا الَّذِينَ تَابُوا مِنْ بَعْدِ ذَٰلِكَ وَأَصْلَحُوا فَإِنَّ اللَّهَ غَفُورٌ رَحِيمٌ(24:20:9) raḥīmunMost Merciful وَلَوْلَا فَضْلُ اللَّهِ عَلَيْكُمْ وَرَحْمَتُهُ وَأَنَّ اللَّهَ رَءُوفٌ رَحِيمٌ(24:22:26) raḥīmunMost Merciful أَلَا تُحِبُّونَ أَنْ يَغْفِرَ اللَّهُ لَكُمْ وَاللَّهُ غَفُورٌ رَحِيمٌ(24:33:48) raḥīmunMost Merciful وَمَنْ يُكْرِهْهُنَّ فَإِنَّ اللَّهَ مِنْ بَعْدِ إِكْرَاهِهِنَّ غَفُورٌ رَحِيمٌ(24:62:39) raḥīmunMost Merciful فَأْذَنْ لِمَنْ شِئْتَ مِنْهُمْ وَاسْتَغْفِرْ لَهُمُ اللَّهَ إِنَّ اللَّهَ غَفُورٌ رَحِيمٌ(25:6:12) raḥīmanMost Merciful قُلْ أَنْزَلَهُ الَّذِي يَعْلَمُ السِّرَّ فِي السَّمَاوَاتِ وَالْأَرْضِ إِنَّهُ كَانَ غَفُورًا رَحِيمًا(25:70:16) raḥīmanMost Merciful فَأُولَٰئِكَ يُبَدِّلُ اللَّهُ سَيِّئَاتِهِمْ حَسَنَاتٍ وَكَانَ اللَّهُ غَفُورًا رَحِيمًا(26:9:5) l-raḥīmuthe Most Merciful وَإِنَّ رَبَّكَ لَهُوَ الْعَزِيزُ الرَّحِيمُ(26:68:5) l-raḥīmuthe Most Merciful وَإِنَّ رَبَّكَ لَهُوَ الْعَزِيزُ الرَّحِيمُ(26:104:5) l-raḥīmuthe Most Merciful وَإِنَّ رَبَّكَ لَهُوَ الْعَزِيزُ الرَّحِيمُ(26:122:5) l-raḥīmuthe Most Merciful وَإِنَّ رَبَّكَ لَهُوَ الْعَزِيزُ الرَّحِيمُ(26:140:5) l-raḥīmuthe Most Merciful وَإِنَّ رَبَّكَ لَهُوَ الْعَزِيزُ الرَّحِيمُ(26:159:5) l-raḥīmuthe Most Merciful وَإِنَّ رَبَّكَ لَهُوَ الْعَزِيزُ الرَّحِيمُ(26:175:5) l-raḥīmuthe Most Merciful وَإِنَّ رَبَّكَ لَهُوَ الْعَزِيزُ الرَّحِيمُ(26:191:5) l-raḥīmuthe Most Merciful وَإِنَّ رَبَّكَ لَهُوَ الْعَزِيزُ الرَّحِيمُ(26:217:4) l-raḥīmithe Most Merciful وَتَوَكَّلْ عَلَى الْعَزِيزِ الرَّحِيمِ(27:11:11) raḥīmunMost Merciful إِلَّا مَنْ ظَلَمَ ثُمَّ بَدَّلَ حُسْنًا بَعْدَ سُوءٍ فَإِنِّي غَفُورٌ رَحِيمٌ(27:30:8) l-raḥīmithe Most Merciful إِنَّهُ مِنْ سُلَيْمَانَ وَإِنَّهُ بِسْمِ اللَّهِ الرَّحْمَٰنِ الرَّحِيمِ(28:16:13) l-raḥīmuthe Most Merciful قَالَ رَبِّ إِنِّي ظَلَمْتُ نَفْسِي فَاغْفِرْ لِي فَغَفَرَ لَهُ إِنَّهُ هُوَ الْغَفُورُ الرَّحِيمُ(30:5:8) l-raḥīmuthe Most Merciful بِنَصْرِ اللَّهِ يَنْصُرُ مَنْ يَشَاءُ وَهُوَ الْعَزِيزُ الرَّحِيمُ(32:6:6) l-raḥīmuthe Most Merciful ذَٰلِكَ عَالِمُ الْغَيْبِ وَالشَّهَادَةِ الْعَزِيزُ الرَّحِيمُ(33:5:28) raḥīmanMost Merciful وَلَٰكِنْ مَا تَعَمَّدَتْ قُلُوبُكُمْ وَكَانَ اللَّهُ غَفُورًا رَحِيمًا(33:24:16) raḥīmanMost Merciful وَيُعَذِّبَ الْمُنَافِقِينَ إِنْ شَاءَ أَوْ يَتُوبَ عَلَيْهِمْ إِنَّ اللَّهَ كَانَ غَفُورًا رَحِيمًا(33:43:13) raḥīmanMerciful لِيُخْرِجَكُمْ مِنَ الظُّلُمَاتِ إِلَى النُّورِ وَكَانَ بِالْمُؤْمِنِينَ رَحِيمًا(33:50:61) raḥīmanMost Merciful لِكَيْلَا يَكُونَ عَلَيْكَ حَرَجٌ وَكَانَ اللَّهُ غَفُورًا رَحِيمًا(33:59:21) raḥīmanMost Merciful ذَٰلِكَ أَدْنَىٰ أَنْ يُعْرَفْنَ فَلَا يُؤْذَيْنَ وَكَانَ اللَّهُ غَفُورًا رَحِيمًا(33:73:15) raḥīmanMost Merciful وَيَتُوبَ اللَّهُ عَلَى الْمُؤْمِنِينَ وَالْمُؤْمِنَاتِ وَكَانَ اللَّهُ غَفُورًا رَحِيمًا(36:5:3) l-raḥīmithe Most Merciful تَنْزِيلَ الْعَزِيزِ الرَّحِيمِ(36:58:5) raḥīminMost Merciful سَلَامٌ قَوْلًا مِنْ رَبٍّ رَحِيمٍ(39:53:20) l-raḥīmuthe Most Merciful إِنَّ اللَّهَ يَغْفِرُ الذُّنُوبَ جَمِيعًا إِنَّهُ هُوَ الْغَفُورُ الرَّحِيمُ(41:2:4) l-raḥīmithe Most Merciful تَنْزِيلٌ مِنَ الرَّحْمَٰنِ الرَّحِيمِ(41:32:4) raḥīmin(the) Most Merciful نُزُلًا مِنْ غَفُورٍ رَحِيمٍ(42:5:19) l-raḥīmuthe Most Merciful أَلَا إِنَّ اللَّهَ هُوَ الْغَفُورُ الرَّحِيمُ(44:42:8) l-raḥīmuthe Most Merciful إِلَّا مَنْ رَحِمَ اللَّهُ إِنَّهُ هُوَ الْعَزِيزُ الرَّحِيمُ(46:8:25) l-raḥīmuthe Most Merciful كَفَىٰ بِهِ شَهِيدًا بَيْنِي وَبَيْنَكُمْ وَهُوَ الْغَفُورُ الرَّحِيمُ(48:14:14) raḥīmanMost Merciful يَغْفِرُ لِمَنْ يَشَاءُ وَيُعَذِّبُ مَنْ يَشَاءُ وَكَانَ اللَّهُ غَفُورًا رَحِيمًا(48:29:9) ruḥamāuand merciful مُحَمَّدٌ رَسُولُ اللَّهِ وَالَّذِينَ مَعَهُ أَشِدَّاءُ عَلَى الْكُفَّارِ رُحَمَاءُ بَيْنَهُمْ(49:5:12) raḥīmunMost Merciful وَلَوْ أَنَّهُمْ صَبَرُوا حَتَّىٰ تَخْرُجَ إِلَيْهِمْ لَكَانَ خَيْرًا لَهُمْ وَاللَّهُ غَفُورٌ رَحِيمٌ(49:12:31) raḥīmunMost Merciful وَاتَّقُوا اللَّهَ إِنَّ اللَّهَ تَوَّابٌ رَحِيمٌ(49:14:27) raḥīmunMost Merciful لَا يَلِتْكُمْ مِنْ أَعْمَالِكُمْ شَيْئًا إِنَّ اللَّهَ غَفُورٌ رَحِيمٌ(52:28:9) l-raḥīmuthe Most Merciful إِنَّا كُنَّا مِنْ قَبْلُ نَدْعُوهُ إِنَّهُ هُوَ الْبَرُّ الرَّحِيمُ(57:9:17) raḥīmun(the) Most Merciful لِيُخْرِجَكُمْ مِنَ الظُّلُمَاتِ إِلَى النُّورِ وَإِنَّ اللَّهَ بِكُمْ لَرَءُوفٌ رَحِيمٌ(57:28:21) raḥīmunMost Merciful وَيَجْعَلْ لَكُمْ نُورًا تَمْشُونَ بِهِ وَيَغْفِرْ لَكُمْ وَاللَّهُ غَفُورٌ رَحِيمٌ(58:12:22) raḥīmunMost Merciful ذَٰلِكَ خَيْرٌ لَكُمْ وَأَطْهَرُ فَإِنْ لَمْ تَجِدُوا فَإِنَّ اللَّهَ غَفُورٌ رَحِيمٌ(59:10:23) raḥīmunMost Merciful وَلَا تَجْعَلْ فِي قُلُوبِنَا غِلًّا لِلَّذِينَ آمَنُوا رَبَّنَا إِنَّكَ رَءُوفٌ رَحِيمٌ(59:22:13) l-raḥīmuthe Most Merciful عَالِمُ الْغَيْبِ وَالشَّهَادَةِ هُوَ الرَّحْمَٰنُ الرَّحِيمُ(60:7:15) raḥīmunMost Merciful وَاللَّهُ قَدِيرٌ وَاللَّهُ غَفُورٌ رَحِيمٌ(60:12:38) raḥīmunMost Merciful فَبَايِعْهُنَّ وَاسْتَغْفِرْ لَهُنَّ اللَّهَ إِنَّ اللَّهَ غَفُورٌ رَحِيمٌ(64:14:18) raḥīmunMost Merciful وَإِنْ تَعْفُوا وَتَصْفَحُوا وَتَغْفِرُوا فَإِنَّ اللَّهَ غَفُورٌ رَحِيمٌ(66:1:14) raḥīmunMost Merciful تَبْتَغِي مَرْضَاتَ أَزْوَاجِكَ وَاللَّهُ غَفُورٌ رَحِيمٌ(2) Noun(4:29:23) raḥīmanMost Merciful وَلَا تَقْتُلُوا أَنْفُسَكُمْ إِنَّ اللَّهَ كَانَ بِكُمْ رَحِيمًا(17:66:14) raḥīmanEver Merciful رَبُّكُمُ الَّذِي يُزْجِي لَكُمُ الْفُلْكَ فِي الْبَحْرِ لِتَبْتَغُوا مِنْ فَضْلِهِ إِنَّهُ كَانَ بِكُمْ رَحِيمًا(34:2:17) l-raḥīmu(is) the Most Merciful وَمَا يَنْزِلُ مِنَ السَّمَاءِ وَمَا يَعْرُجُ فِيهَا وَهُوَ الرَّحِيمُ الْغَفُورُ(73:20:78) raḥīmunMost Merciful وَاسْتَغْفِرُوا اللَّهَ إِنَّ اللَّهَ غَفُورٌ رَحِيمٌNoun(90:17:9) bil-marḥamatito compassion وَتَوَاصَوْا بِالصَّبْرِ وَتَوَاصَوْا بِالْمَرْحَمَةِActive participle(7:151:11) l-rāḥimīna(of) the merciful وَأَدْخِلْنَا فِي رَحْمَتِكَ وَأَنْتَ أَرْحَمُ الرَّاحِمِينَ(12:64:17) l-rāḥimīna(of) the merciful فَاللَّهُ خَيْرٌ حَافِظًا وَهُوَ أَرْحَمُ الرَّاحِمِينَ(12:92:11) l-rāḥimīna(of) those who show mercy قَالَ لَا تَثْرِيبَ عَلَيْكُمُ الْيَوْمَ يَغْفِرُ اللَّهُ لَكُمْ وَهُوَ أَرْحَمُ الرَّاحِمِينَ(21:83:10) l-rāḥimīna(of) the Merciful وَأَيُّوبَ إِذْ نَادَىٰ رَبَّهُ أَنِّي مَسَّنِيَ الضُّرُّ وَأَنْتَ أَرْحَمُ الرَّاحِمِينَ(23:109:14) l-rāḥimīna(of) those who show mercy رَبَّنَا آمَنَّا فَاغْفِرْ لَنَا وَارْحَمْنَا وَأَنْتَ خَيْرُ الرَّاحِمِينَ(23:118:7) l-rāḥimīna(of) those who show mercy وَقُلْ رَبِّ اغْفِرْ وَارْحَمْ وَأَنْتَ خَيْرُ الرَّاحِمِينَ\\nSee AlsoLane's Lexicon  - Classical Arabic dictionary\\n ر ج م | ر ج و | ر ح ب | ر ح ق | ر ح ل | ر ح م | ر خ و | ر د أ | ر د د | ر د ف | ر د م \\n\\n\\n\\n\\n\\nLanguage Research Group\\nUniversity of Leeds\\n\\n__\\n\\nCopyright © Kais Dukes, 2009-2017. Maintained by the quran.com team. This is an open source project.\\nThe Quranic Arabic Corpus is available under the GNU public license with terms of use.\\n\\n\\n\\n\\n\\n\\n\\n\""
      ]
     },
     "execution_count": 456,
     "metadata": {},
     "output_type": "execute_result"
    }
   ],
   "source": [
    "soup.text"
   ]
  },
  {
   "cell_type": "code",
   "execution_count": 457,
   "metadata": {},
   "outputs": [],
   "source": [
    "import re\n",
    "lnkQrys = re.findall(\n",
    "    # 'href=\"qurandictionary.jsp?q=([^#]*(?=#))',\n",
    "    'qurandictionary.jsp\\?q=([^#]*(?=#))',\n",
    "    # 'qurandictionary.jsp\\?q=([^#]*?(?=#))',\n",
    "    # grabhtml\n",
    "    soup.text\n",
    ")"
   ]
  },
  {
   "cell_type": "code",
   "execution_count": 347,
   "metadata": {},
   "outputs": [
    {
     "data": {
      "text/plain": [
       "[]"
      ]
     },
     "execution_count": 347,
     "metadata": {},
     "output_type": "execute_result"
    }
   ],
   "source": [
    "lnkQrys"
   ]
  },
  {
   "cell_type": "code",
   "execution_count": 479,
   "metadata": {},
   "outputs": [
    {
     "data": {
      "text/plain": [
       "'ādama'"
      ]
     },
     "execution_count": 479,
     "metadata": {},
     "output_type": "execute_result"
    }
   ],
   "source": [
    "# type(grabhtml)\n",
    "list(list(list(contnt[0].children)[0].children)[0])[2].text"
   ]
  },
  {
   "cell_type": "code",
   "execution_count": null,
   "metadata": {},
   "outputs": [],
   "source": [
    "posRow = soup.find(\n",
    "    # \"a\",\n",
    "    string=f\"({pos})\"\n",
    "    # id=f\"({pos})\"\n",
    ")\n",
    "posRows = soup.find_all(\n",
    "    # \"h4\",\n",
    "    {\"id\":\"(1:1:1)\"}\n",
    ")\n",
    "\n",
    "if len(posRows) > 0:\n",
    "    posRow = posRows[0]"
   ]
  },
  {
   "cell_type": "code",
   "execution_count": 232,
   "metadata": {},
   "outputs": [
    {
     "data": {
      "text/plain": [
       "'(1:1:3)'"
      ]
     },
     "execution_count": 232,
     "metadata": {},
     "output_type": "execute_result"
    }
   ],
   "source": [
    "posRow"
   ]
  },
  {
   "cell_type": "code",
   "execution_count": 478,
   "metadata": {},
   "outputs": [],
   "source": [
    "# stemLs = soup.find(\n",
    "stemLs = soup.select(\n",
    "    \"ul.also>li, h4.dxe, table.taf\"\n",
    "    # \"ul\",\n",
    "    # {\"class\":\"also\"}\n",
    ")"
   ]
  },
  {
   "cell_type": "code",
   "execution_count": 489,
   "metadata": {},
   "outputs": [
    {
     "data": {
      "text/plain": [
       "'<li>28 times as the form I verb <i class=\"ab\">raḥima</i> (<span class=\"at\">رَّحِمَ</span>)</li>'"
      ]
     },
     "execution_count": 489,
     "metadata": {},
     "output_type": "execute_result"
    }
   ],
   "source": [
    "str(stemLs[0])"
   ]
  },
  {
   "cell_type": "code",
   "execution_count": 461,
   "metadata": {},
   "outputs": [
    {
     "data": {
      "text/plain": [
       "2"
      ]
     },
     "execution_count": 461,
     "metadata": {},
     "output_type": "execute_result"
    }
   ],
   "source": [
    "len(stemLs)"
   ]
  },
  {
   "cell_type": "code",
   "execution_count": 205,
   "metadata": {},
   "outputs": [],
   "source": [
    "tblReq = posRow.parent.parent.parent.parent.parent.parent"
   ]
  },
  {
   "cell_type": "code",
   "execution_count": 206,
   "metadata": {},
   "outputs": [
    {
     "data": {
      "text/plain": [
       "<td class=\"contentCell\" colspan=\"2\">\n",
       "<div class=\"content\">\n",
       "<div class=\"sectionArea\">\n",
       "<a href=\"?q=A\">أ</a> <a href=\"?q=b\">ب</a> <a href=\"?q=t\">ت</a> <a href=\"?q=v\">ث</a> <a href=\"?q=j\">ج</a> <a href=\"?q=H\">ح</a> <a href=\"?q=x\">خ</a> <a href=\"?q=d\">د</a> <a href=\"?q=*\">ذ</a> <a class=\"selected\" href=\"?q=r\">ر</a> <a href=\"?q=z\">ز</a> <a href=\"?q=s\">س</a> <a href=\"?q=$\">ش</a> <a href=\"?q=S\">ص</a> <a href=\"?q=D\">ض</a> <a href=\"?q=T\">ط</a> <a href=\"?q=Z\">ظ</a> <a href=\"?q=E\">ع</a> <a href=\"?q=g\">غ</a> <a href=\"?q=f\">ف</a> <a href=\"?q=q\">ق</a> <a href=\"?q=k\">ك</a> <a href=\"?q=l\">ل</a> <a href=\"?q=m\">م</a> <a href=\"?q=n\">ن</a> <a href=\"?q=h\">ه</a> <a href=\"?q=w\">و</a> <a href=\"?q=y\">ي</a>\n",
       "</div>\n",
       "<div class=\"entryArea\">\n",
       "<select id=\"entryList\" name=\"entryList\"><option value=\"rAs\">ر أ س</option><option value=\"rAf\">ر أ ف</option><option value=\"rAy\">ر أ ي</option><option value=\"rbb\">ر ب ب</option><option value=\"rbH\">ر ب ح</option><option value=\"rbS\">ر ب ص</option><option value=\"rbT\">ر ب ط</option><option value=\"rbE\">ر ب ع</option><option value=\"rbw\">ر ب و</option><option value=\"rtE\">ر ت ع</option><option value=\"rtq\">ر ت ق</option><option value=\"rtl\">ر ت ل</option><option value=\"rjj\">ر ج ج</option><option value=\"rjz\">ر ج ز</option><option value=\"rjs\">ر ج س</option><option value=\"rjE\">ر ج ع</option><option value=\"rjf\">ر ج ف</option><option value=\"rjl\">ر ج ل</option><option value=\"rjm\">ر ج م</option><option value=\"rjw\">ر ج و</option><option value=\"rHb\">ر ح ب</option><option value=\"rHq\">ر ح ق</option><option value=\"rHl\">ر ح ل</option><option selected=\"selected\" value=\"rHm\">ر ح م</option><option value=\"rxw\">ر خ و</option><option value=\"rdA\">ر د أ</option><option value=\"rdd\">ر د د</option><option value=\"rdf\">ر د ف</option><option value=\"rdm\">ر د م</option><option value=\"rdy\">ر د ي</option><option value=\"r*l\">ر ذ ل</option><option value=\"rzq\">ر ز ق</option><option value=\"rsx\">ر س خ</option><option value=\"rss\">ر س س</option><option value=\"rsl\">ر س ل</option><option value=\"rsw\">ر س و</option><option value=\"r%24d\">ر ش د</option><option value=\"rSd\">ر ص د</option><option value=\"rSS\">ر ص ص</option><option value=\"rDE\">ر ض ع</option><option value=\"rDw\">ر ض و</option><option value=\"rTb\">ر ط ب</option><option value=\"rEb\">ر ع ب</option><option value=\"rEd\">ر ع د</option><option value=\"rEy\">ر ع ي</option><option value=\"rgb\">ر غ ب</option><option value=\"rgd\">ر غ د</option><option value=\"rgm\">ر غ م</option><option value=\"rft\">ر ف ت</option><option value=\"rfv\">ر ف ث</option><option value=\"rfd\">ر ف د</option><option value=\"rfrf\">ر ف ر ف</option><option value=\"rfE\">ر ف ع</option><option value=\"rfq\">ر ف ق</option><option value=\"rqb\">ر ق ب</option><option value=\"rqd\">ر ق د</option><option value=\"rqq\">ر ق ق</option><option value=\"rqm\">ر ق م</option><option value=\"rqy\">ر ق ي</option><option value=\"rkb\">ر ك ب</option><option value=\"rkd\">ر ك د</option><option value=\"rkz\">ر ك ز</option><option value=\"rks\">ر ك س</option><option value=\"rkD\">ر ك ض</option><option value=\"rkE\">ر ك ع</option><option value=\"rkm\">ر ك م</option><option value=\"rkn\">ر ك ن</option><option value=\"rmH\">ر م ح</option><option value=\"rmd\">ر م د</option><option value=\"rmz\">ر م ز</option><option value=\"rmm\">ر م م</option><option value=\"rmn\">ر م ن</option><option value=\"rmy\">ر م ي</option><option value=\"rhb\">ر ه ب</option><option value=\"rhT\">ر ه ط</option><option value=\"rhq\">ر ه ق</option><option value=\"rhn\">ر ه ن</option><option value=\"rhw\">ر ه و</option><option value=\"rwH\">ر و ح</option><option value=\"rwd\">ر و د</option><option value=\"rwD\">ر و ض</option><option value=\"rwE\">ر و ع</option><option value=\"rwg\">ر و غ</option><option value=\"ryb\">ر ي ب</option><option value=\"ry%24\">ر ي ش</option><option value=\"ryE\">ر ي ع</option><option value=\"ryn\">ر ي ن</option></select> <button class=\"navEntry\" onclick=\"navigateDictionary();\" type=\"button\">Go</button>\n",
       "</div>\n",
       "<p class=\"dsm\">The triliteral root <i class=\"ab\">rā ḥā mīm</i> (<span class=\"at\">ر ح م</span>) occurs 339 times in the Quran, in nine derived forms:</p><ul class=\"also\"><li>28 times as the form I verb <i class=\"ab\">raḥima</i> (<span class=\"at\">رَّحِمَ</span>)</li><li>12 times as the noun <i class=\"ab\">arḥām</i> (<span class=\"at\">أَرْحَام</span>)</li><li>four times as the noun <i class=\"ab\">arḥam</i> (<span class=\"at\">أَرْحَم</span>)</li><li>once as the noun <i class=\"ab\">ruḥ'm</i> (<span class=\"at\">رُحْم</span>)</li><li>57 times as the nominal <i class=\"ab\">raḥmān</i> (<span class=\"at\">رَّحْمَٰن</span>)</li><li>114 times as the noun <i class=\"ab\">raḥmat</i> (<span class=\"at\">رَحْمَة</span>)</li><li>116 times as the nominal <i class=\"ab\">raḥīm</i> (<span class=\"at\">رَّحِيم</span>)</li><li>once as the noun <i class=\"ab\">marḥamat</i> (<span class=\"at\">مَرْحَمَة</span>)</li><li>six times as the active participle <i class=\"ab\">rāḥimīn</i> (<span class=\"at\">رَّٰحِمِين</span>)</li></ul><p>The translations below are brief glosses intended as a guide to meaning. An Arabic word may have a <a href=\"/faq.jsp#translation\">range of meanings</a> depending on context. Click on a word for more linguistic information, or to suggestion a correction.</p>\n",
       "<h4 class=\"dxe\">Verb (form I) - to have mercy</h4><table border=\"0\" cellpadding=\"0\" cellspacing=\"0\" class=\"taf\"><tr><td class=\"c1\"><span class=\"l\">(2:286:43)</span> <i class=\"ab\">wa-ir'ḥamnā</i></td><td class=\"c2\"><a href=\"wordmorphology.jsp?location=(2:286:43)\" name=\"(2:286:43)\">and have mercy on us</a></td><td class=\"c3\"> وَاعْفُ عَنَّا وَاغْفِرْ لَنَا <span class=\"auu\">وَارْحَمْنَا</span></td></tr><tr><td class=\"c1\"><span class=\"l\">(3:132:5)</span> <i class=\"ab\">tur'ḥamūna</i></td><td class=\"c2\"><a href=\"wordmorphology.jsp?location=(3:132:5)\" name=\"(3:132:5)\">receive mercy</a></td><td class=\"c3\"> وَأَطِيعُوا اللَّهَ وَالرَّسُولَ لَعَلَّكُمْ <span class=\"auu\">تُرْحَمُونَ</span></td></tr><tr><td class=\"c1\"><span class=\"l\">(6:16:6)</span> <i class=\"ab\">raḥimahu</i></td><td class=\"c2\"><a href=\"wordmorphology.jsp?location=(6:16:6)\" name=\"(6:16:6)\">He had Mercy on him</a></td><td class=\"c3\"> مَنْ يُصْرَفْ عَنْهُ يَوْمَئِذٍ فَقَدْ <span class=\"auu\">رَحِمَهُ</span> وَذَٰلِكَ الْفَوْزُ الْمُبِينُ</td></tr><tr><td class=\"c1\"><span class=\"l\">(6:155:8)</span> <i class=\"ab\">tur'ḥamūna</i></td><td class=\"c2\"><a href=\"wordmorphology.jsp?location=(6:155:8)\" name=\"(6:155:8)\">receive mercy</a></td><td class=\"c3\"> وَهَٰذَا كِتَابٌ أَنْزَلْنَاهُ مُبَارَكٌ فَاتَّبِعُوهُ وَاتَّقُوا لَعَلَّكُمْ <span class=\"auu\">تُرْحَمُونَ</span></td></tr><tr><td class=\"c1\"><span class=\"l\">(7:23:9)</span> <i class=\"ab\">watarḥamnā</i></td><td class=\"c2\"><a href=\"wordmorphology.jsp?location=(7:23:9)\" name=\"(7:23:9)\">and have mercy (on) us</a></td><td class=\"c3\"> وَإِنْ لَمْ تَغْفِرْ لَنَا <span class=\"auu\">وَتَرْحَمْنَا</span> لَنَكُونَنَّ مِنَ الْخَاسِرِينَ</td></tr><tr><td class=\"c1\"><span class=\"l\">(7:63:13)</span> <i class=\"ab\">tur'ḥamūna</i></td><td class=\"c2\"><a href=\"wordmorphology.jsp?location=(7:63:13)\" name=\"(7:63:13)\">receive mercy</a></td><td class=\"c3\"> أَوَعَجِبْتُمْ أَنْ جَاءَكُمْ ذِكْرٌ مِنْ رَبِّكُمْ عَلَىٰ رَجُلٍ مِنْكُمْ لِيُنْذِرَكُمْ وَلِتَتَّقُوا وَلَعَلَّكُمْ <span class=\"auu\">تُرْحَمُونَ</span></td></tr><tr><td class=\"c1\"><span class=\"l\">(7:149:12)</span> <i class=\"ab\">yarḥamnā</i></td><td class=\"c2\"><a href=\"wordmorphology.jsp?location=(7:149:12)\" name=\"(7:149:12)\">has Mercy on us</a></td><td class=\"c3\"> قَالُوا لَئِنْ لَمْ <span class=\"auu\">يَرْحَمْنَا</span> رَبُّنَا وَيَغْفِرْ لَنَا لَنَكُونَنَّ مِنَ الْخَاسِرِينَ</td></tr><tr><td class=\"c1\"><span class=\"l\">(7:155:38)</span> <i class=\"ab\">wa-ir'ḥamnā</i></td><td class=\"c2\"><a href=\"wordmorphology.jsp?location=(7:155:38)\" name=\"(7:155:38)\">and have mercy upon us</a></td><td class=\"c3\"> أَنْتَ وَلِيُّنَا فَاغْفِرْ لَنَا <span class=\"auu\">وَارْحَمْنَا</span> وَأَنْتَ خَيْرُ الْغَافِرِينَ</td></tr><tr><td class=\"c1\"><span class=\"l\">(7:204:8)</span> <i class=\"ab\">tur'ḥamūna</i></td><td class=\"c2\"><a href=\"wordmorphology.jsp?location=(7:204:8)\" name=\"(7:204:8)\">receive mercy</a></td><td class=\"c3\"> وَإِذَا قُرِئَ الْقُرْآنُ فَاسْتَمِعُوا لَهُ وَأَنْصِتُوا لَعَلَّكُمْ <span class=\"auu\">تُرْحَمُونَ</span></td></tr><tr><td class=\"c1\"><span class=\"l\">(9:71:19)</span> <i class=\"ab\">sayarḥamuhumu</i></td><td class=\"c2\"><a href=\"wordmorphology.jsp?location=(9:71:19)\" name=\"(9:71:19)\">Allah will have mercy on them</a></td><td class=\"c3\"> أُولَٰئِكَ <span class=\"auu\">سَيَرْحَمُهُمُ</span> اللَّهُ إِنَّ اللَّهَ عَزِيزٌ حَكِيمٌ</td></tr><tr><td class=\"c1\"><span class=\"l\">(11:43:17)</span> <i class=\"ab\">raḥima</i></td><td class=\"c2\"><a href=\"wordmorphology.jsp?location=(11:43:17)\" name=\"(11:43:17)\">He has mercy</a></td><td class=\"c3\"> قَالَ لَا عَاصِمَ الْيَوْمَ مِنْ أَمْرِ اللَّهِ إِلَّا مَنْ <span class=\"auu\">رَحِمَ</span></td></tr><tr><td class=\"c1\"><span class=\"l\">(11:47:16)</span> <i class=\"ab\">watarḥamnī</i></td><td class=\"c2\"><a href=\"wordmorphology.jsp?location=(11:47:16)\" name=\"(11:47:16)\">and You have mercy on me</a></td><td class=\"c3\"> وَإِلَّا تَغْفِرْ لِي <span class=\"auu\">وَتَرْحَمْنِي</span> أَكُنْ مِنَ الْخَاسِرِينَ</td></tr><tr><td class=\"c1\"><span class=\"l\">(11:119:3)</span> <i class=\"ab\">raḥima</i></td><td class=\"c2\"><a href=\"wordmorphology.jsp?location=(11:119:3)\" name=\"(11:119:3)\">your Lord has bestowed Mercy</a></td><td class=\"c3\"> إِلَّا مَنْ <span class=\"auu\">رَحِمَ</span> رَبُّكَ وَلِذَٰلِكَ خَلَقَهُمْ</td></tr><tr><td class=\"c1\"><span class=\"l\">(12:53:10)</span> <i class=\"ab\">raḥima</i></td><td class=\"c2\"><a href=\"wordmorphology.jsp?location=(12:53:10)\" name=\"(12:53:10)\">bestows Mercy</a></td><td class=\"c3\"> إِنَّ النَّفْسَ لَأَمَّارَةٌ بِالسُّوءِ إِلَّا مَا <span class=\"auu\">رَحِمَ</span> رَبِّي</td></tr><tr><td class=\"c1\"><span class=\"l\">(17:8:4)</span> <i class=\"ab\">yarḥamakum</i></td><td class=\"c2\"><a href=\"wordmorphology.jsp?location=(17:8:4)\" name=\"(17:8:4)\">(may) have mercy upon you</a></td><td class=\"c3\"> عَسَىٰ رَبُّكُمْ أَنْ <span class=\"auu\">يَرْحَمَكُمْ</span> وَإِنْ عُدْتُمْ عُدْنَا</td></tr><tr><td class=\"c1\"><span class=\"l\">(17:24:9)</span> <i class=\"ab\">ir'ḥamhumā</i></td><td class=\"c2\"><a href=\"wordmorphology.jsp?location=(17:24:9)\" name=\"(17:24:9)\">Have mercy on both of them</a></td><td class=\"c3\"> وَقُلْ رَبِّ <span class=\"auu\">ارْحَمْهُمَا</span> كَمَا رَبَّيَانِي صَغِيرًا</td></tr><tr><td class=\"c1\"><span class=\"l\">(17:54:6)</span> <i class=\"ab\">yarḥamkum</i></td><td class=\"c2\"><a href=\"wordmorphology.jsp?location=(17:54:6)\" name=\"(17:54:6)\">He will have mercy on you</a></td><td class=\"c3\"> رَبُّكُمْ أَعْلَمُ بِكُمْ إِنْ يَشَأْ <span class=\"auu\">يَرْحَمْكُمْ</span> أَوْ إِنْ يَشَأْ يُعَذِّبْكُمْ</td></tr><tr><td class=\"c1\"><span class=\"l\">(23:75:2)</span> <i class=\"ab\">raḥim'nāhum</i></td><td class=\"c2\"><a href=\"wordmorphology.jsp?location=(23:75:2)\" name=\"(23:75:2)\">We had mercy on them</a></td><td class=\"c3\"> وَلَوْ <span class=\"auu\">رَحِمْنَاهُمْ</span> وَكَشَفْنَا مَا بِهِمْ مِنْ ضُرٍّ لَلَجُّوا فِي طُغْيَانِهِمْ</td></tr><tr><td class=\"c1\"><span class=\"l\">(23:109:11)</span> <i class=\"ab\">wa-ir'ḥamnā</i></td><td class=\"c2\"><a href=\"wordmorphology.jsp?location=(23:109:11)\" name=\"(23:109:11)\">and have mercy on us</a></td><td class=\"c3\"> يَقُولُونَ رَبَّنَا آمَنَّا فَاغْفِرْ لَنَا <span class=\"auu\">وَارْحَمْنَا</span> وَأَنْتَ خَيْرُ الرَّاحِمِينَ</td></tr><tr><td class=\"c1\"><span class=\"l\">(23:118:4)</span> <i class=\"ab\">wa-ir'ḥam</i></td><td class=\"c2\"><a href=\"wordmorphology.jsp?location=(23:118:4)\" name=\"(23:118:4)\">and have mercy</a></td><td class=\"c3\"> وَقُلْ رَبِّ اغْفِرْ <span class=\"auu\">وَارْحَمْ</span> وَأَنْتَ خَيْرُ الرَّاحِمِينَ</td></tr><tr><td class=\"c1\"><span class=\"l\">(24:56:8)</span> <i class=\"ab\">tur'ḥamūna</i></td><td class=\"c2\"><a href=\"wordmorphology.jsp?location=(24:56:8)\" name=\"(24:56:8)\">receive mercy</a></td><td class=\"c3\"> وَأَقِيمُوا الصَّلَاةَ وَآتُوا الزَّكَاةَ وَأَطِيعُوا الرَّسُولَ لَعَلَّكُمْ <span class=\"auu\">تُرْحَمُونَ</span></td></tr><tr><td class=\"c1\"><span class=\"l\">(27:46:12)</span> <i class=\"ab\">tur'ḥamūna</i></td><td class=\"c2\"><a href=\"wordmorphology.jsp?location=(27:46:12)\" name=\"(27:46:12)\">receive mercy</a></td><td class=\"c3\"> لَوْلَا تَسْتَغْفِرُونَ اللَّهَ لَعَلَّكُمْ <span class=\"auu\">تُرْحَمُونَ</span></td></tr><tr><td class=\"c1\"><span class=\"l\">(29:21:4)</span> <i class=\"ab\">wayarḥamu</i></td><td class=\"c2\"><a href=\"wordmorphology.jsp?location=(29:21:4)\" name=\"(29:21:4)\">and has mercy</a></td><td class=\"c3\"> يُعَذِّبُ مَنْ يَشَاءُ <span class=\"auu\">وَيَرْحَمُ</span> مَنْ يَشَاءُ وَإِلَيْهِ تُقْلَبُونَ</td></tr><tr><td class=\"c1\"><span class=\"l\">(36:45:11)</span> <i class=\"ab\">tur'ḥamūna</i></td><td class=\"c2\"><a href=\"wordmorphology.jsp?location=(36:45:11)\" name=\"(36:45:11)\">receive mercy</a></td><td class=\"c3\"> وَإِذَا قِيلَ لَهُمُ اتَّقُوا مَا بَيْنَ أَيْدِيكُمْ وَمَا خَلْفَكُمْ لَعَلَّكُمْ <span class=\"auu\">تُرْحَمُونَ</span></td></tr><tr><td class=\"c1\"><span class=\"l\">(40:9:8)</span> <i class=\"ab\">raḥim'tahu</i></td><td class=\"c2\"><a href=\"wordmorphology.jsp?location=(40:9:8)\" name=\"(40:9:8)\">You have bestowed mercy on him</a></td><td class=\"c3\"> وَقِهِمُ السَّيِّئَاتِ وَمَنْ تَقِ السَّيِّئَاتِ يَوْمَئِذٍ فَقَدْ <span class=\"auu\">رَحِمْتَهُ</span></td></tr><tr><td class=\"c1\"><span class=\"l\">(44:42:3)</span> <i class=\"ab\">raḥima</i></td><td class=\"c2\"><a href=\"wordmorphology.jsp?location=(44:42:3)\" name=\"(44:42:3)\">Allah has mercy</a></td><td class=\"c3\"> إِلَّا مَنْ <span class=\"auu\">رَحِمَ</span> اللَّهُ إِنَّهُ هُوَ الْعَزِيزُ الرَّحِيمُ</td></tr><tr><td class=\"c1\"><span class=\"l\">(49:10:10)</span> <i class=\"ab\">tur'ḥamūna</i></td><td class=\"c2\"><a href=\"wordmorphology.jsp?location=(49:10:10)\" name=\"(49:10:10)\">receive mercy</a></td><td class=\"c3\"> فَأَصْلِحُوا بَيْنَ أَخَوَيْكُمْ وَاتَّقُوا اللَّهَ لَعَلَّكُمْ <span class=\"auu\">تُرْحَمُونَ</span></td></tr><tr><td class=\"c1\"><span class=\"l\">(67:28:9)</span> <i class=\"ab\">raḥimanā</i></td><td class=\"c2\"><a href=\"wordmorphology.jsp?location=(67:28:9)\" name=\"(67:28:9)\">has mercy upon us</a></td><td class=\"c3\"> قُلْ أَرَأَيْتُمْ إِنْ أَهْلَكَنِيَ اللَّهُ وَمَنْ مَعِيَ أَوْ <span class=\"auu\">رَحِمَنَا</span> فَمَنْ يُجِيرُ الْكَافِرِينَ مِنْ عَذَابٍ أَلِيمٍ</td></tr></table><h4 class=\"dxe\">Noun</h4><table border=\"0\" cellpadding=\"0\" cellspacing=\"0\" class=\"taf\"><tr><td class=\"c1\"><span class=\"l\">(2:228:15)</span> <i class=\"ab\">arḥāmihinna</i></td><td class=\"c2\"><a href=\"wordmorphology.jsp?location=(2:228:15)\" name=\"(2:228:15)\">their wombs</a></td><td class=\"c3\"> وَلَا يَحِلُّ لَهُنَّ أَنْ يَكْتُمْنَ مَا خَلَقَ اللَّهُ فِي <span class=\"auu\">أَرْحَامِهِنَّ</span></td></tr><tr><td class=\"c1\"><span class=\"l\">(3:6:5)</span> <i class=\"ab\">l-arḥāmi</i></td><td class=\"c2\"><a href=\"wordmorphology.jsp?location=(3:6:5)\" name=\"(3:6:5)\">the wombs</a></td><td class=\"c3\"> هُوَ الَّذِي يُصَوِّرُكُمْ فِي <span class=\"auu\">الْأَرْحَامِ</span> كَيْفَ يَشَاءُ</td></tr><tr><td class=\"c1\"><span class=\"l\">(4:1:23)</span> <i class=\"ab\">wal-arḥāma</i></td><td class=\"c2\"><a href=\"wordmorphology.jsp?location=(4:1:23)\" name=\"(4:1:23)\">and the wombs</a></td><td class=\"c3\"> وَاتَّقُوا اللَّهَ الَّذِي تَسَاءَلُونَ بِهِ <span class=\"auu\">وَالْأَرْحَامَ</span></td></tr><tr><td class=\"c1\"><span class=\"l\">(6:143:17)</span> <i class=\"ab\">arḥāmu</i></td><td class=\"c2\"><a href=\"wordmorphology.jsp?location=(6:143:17)\" name=\"(6:143:17)\">(the) wombs</a></td><td class=\"c3\"> أَمَّا اشْتَمَلَتْ عَلَيْهِ <span class=\"auu\">أَرْحَامُ</span> الْأُنْثَيَيْنِ نَبِّئُونِي بِعِلْمٍ إِنْ كُنْتُمْ صَادِقِينَ</td></tr><tr><td class=\"c1\"><span class=\"l\">(6:144:15)</span> <i class=\"ab\">arḥāmu</i></td><td class=\"c2\"><a href=\"wordmorphology.jsp?location=(6:144:15)\" name=\"(6:144:15)\">(the) wombs</a></td><td class=\"c3\"> أَمَّا اشْتَمَلَتْ عَلَيْهِ <span class=\"auu\">أَرْحَامُ</span> الْأُنْثَيَيْنِ أَمْ كُنْتُمْ شُهَدَاءَ إِذْ وَصَّاكُمُ اللَّهُ بِهَٰذَا</td></tr><tr><td class=\"c1\"><span class=\"l\">(8:75:11)</span> <i class=\"ab\">l-arḥāmi</i></td><td class=\"c2\"><a href=\"wordmorphology.jsp?location=(8:75:11)\" name=\"(8:75:11)\">(of) blood relationship</a></td><td class=\"c3\"> وَأُولُو <span class=\"auu\">الْأَرْحَامِ</span> بَعْضُهُمْ أَوْلَىٰ بِبَعْضٍ فِي كِتَابِ اللَّهِ</td></tr><tr><td class=\"c1\"><span class=\"l\">(13:8:9)</span> <i class=\"ab\">l-arḥāmu</i></td><td class=\"c2\"><a href=\"wordmorphology.jsp?location=(13:8:9)\" name=\"(13:8:9)\">the womb</a></td><td class=\"c3\"> اللَّهُ يَعْلَمُ مَا تَحْمِلُ كُلُّ أُنْثَىٰ وَمَا تَغِيضُ <span class=\"auu\">الْأَرْحَامُ</span> وَمَا تَزْدَادُ</td></tr><tr><td class=\"c1\"><span class=\"l\">(22:5:29)</span> <i class=\"ab\">l-arḥāmi</i></td><td class=\"c2\"><a href=\"wordmorphology.jsp?location=(22:5:29)\" name=\"(22:5:29)\">the wombs</a></td><td class=\"c3\"> وَنُقِرُّ فِي <span class=\"auu\">الْأَرْحَامِ</span> مَا نَشَاءُ إِلَىٰ أَجَلٍ مُسَمًّى</td></tr><tr><td class=\"c1\"><span class=\"l\">(31:34:11)</span> <i class=\"ab\">l-arḥāmi</i></td><td class=\"c2\"><a href=\"wordmorphology.jsp?location=(31:34:11)\" name=\"(31:34:11)\">the wombs</a></td><td class=\"c3\"> إِنَّ اللَّهَ عِنْدَهُ عِلْمُ السَّاعَةِ وَيُنَزِّلُ الْغَيْثَ وَيَعْلَمُ مَا فِي <span class=\"auu\">الْأَرْحَامِ</span></td></tr><tr><td class=\"c1\"><span class=\"l\">(33:6:9)</span> <i class=\"ab\">l-arḥāmi</i></td><td class=\"c2\"><a href=\"wordmorphology.jsp?location=(33:6:9)\" name=\"(33:6:9)\">(of) relationships</a></td><td class=\"c3\"> وَأُولُو <span class=\"auu\">الْأَرْحَامِ</span> بَعْضُهُمْ أَوْلَىٰ بِبَعْضٍ فِي كِتَابِ اللَّهِ مِنَ الْمُؤْمِنِينَ وَالْمُهَاجِرِينَ</td></tr><tr><td class=\"c1\"><span class=\"l\">(47:22:10)</span> <i class=\"ab\">arḥāmakum</i></td><td class=\"c2\"><a href=\"wordmorphology.jsp?location=(47:22:10)\" name=\"(47:22:10)\">your ties of kinship</a></td><td class=\"c3\"> فَهَلْ عَسَيْتُمْ إِنْ تَوَلَّيْتُمْ أَنْ تُفْسِدُوا فِي الْأَرْضِ وَتُقَطِّعُوا <span class=\"auu\">أَرْحَامَكُمْ</span></td></tr><tr><td class=\"c1\"><span class=\"l\">(60:3:3)</span> <i class=\"ab\">arḥāmukum</i></td><td class=\"c2\"><a href=\"wordmorphology.jsp?location=(60:3:3)\" name=\"(60:3:3)\">your relatives</a></td><td class=\"c3\"> لَنْ تَنْفَعَكُمْ <span class=\"auu\">أَرْحَامُكُمْ</span> وَلَا أَوْلَادُكُمْ يَوْمَ الْقِيَامَةِ يَفْصِلُ بَيْنَكُمْ</td></tr></table><h4 class=\"dxe\">Noun</h4><table border=\"0\" cellpadding=\"0\" cellspacing=\"0\" class=\"taf\"><tr><td class=\"c1\"><span class=\"l\">(7:151:10)</span> <i class=\"ab\">arḥamu</i></td><td class=\"c2\"><a href=\"wordmorphology.jsp?location=(7:151:10)\" name=\"(7:151:10)\">(are) the Most Merciful</a></td><td class=\"c3\"> وَأَدْخِلْنَا فِي رَحْمَتِكَ وَأَنْتَ <span class=\"auu\">أَرْحَمُ</span> الرَّاحِمِينَ</td></tr><tr><td class=\"c1\"><span class=\"l\">(12:64:16)</span> <i class=\"ab\">arḥamu</i></td><td class=\"c2\"><a href=\"wordmorphology.jsp?location=(12:64:16)\" name=\"(12:64:16)\">(is the) Most Merciful</a></td><td class=\"c3\"> فَاللَّهُ خَيْرٌ حَافِظًا وَهُوَ <span class=\"auu\">أَرْحَمُ</span> الرَّاحِمِينَ</td></tr><tr><td class=\"c1\"><span class=\"l\">(12:92:10)</span> <i class=\"ab\">arḥamu</i></td><td class=\"c2\"><a href=\"wordmorphology.jsp?location=(12:92:10)\" name=\"(12:92:10)\">(is) the Most Merciful</a></td><td class=\"c3\"> قَالَ لَا تَثْرِيبَ عَلَيْكُمُ الْيَوْمَ يَغْفِرُ اللَّهُ لَكُمْ وَهُوَ <span class=\"auu\">أَرْحَمُ</span> الرَّاحِمِينَ</td></tr><tr><td class=\"c1\"><span class=\"l\">(21:83:9)</span> <i class=\"ab\">arḥamu</i></td><td class=\"c2\"><a href=\"wordmorphology.jsp?location=(21:83:9)\" name=\"(21:83:9)\">(are) Most Merciful</a></td><td class=\"c3\"> وَأَيُّوبَ إِذْ نَادَىٰ رَبَّهُ أَنِّي مَسَّنِيَ الضُّرُّ وَأَنْتَ <span class=\"auu\">أَرْحَمُ</span> الرَّاحِمِينَ</td></tr></table><h4 class=\"dxe\">Noun</h4><table border=\"0\" cellpadding=\"0\" cellspacing=\"0\" class=\"taf\"><tr><td class=\"c1\"><span class=\"l\">(18:81:9)</span> <i class=\"ab\">ruḥ'man</i></td><td class=\"c2\"><a href=\"wordmorphology.jsp?location=(18:81:9)\" name=\"(18:81:9)\">(in) affection</a></td><td class=\"c3\"> فَأَرَدْنَا أَنْ يُبْدِلَهُمَا رَبُّهُمَا خَيْرًا مِنْهُ زَكَاةً وَأَقْرَبَ <span class=\"auu\">رُحْمًا</span></td></tr></table><h4 class=\"dxe\">Nominal</h4><p class=\"dxt\" style=\"margin-top:0\">(1) Noun</p><table border=\"0\" cellpadding=\"0\" cellspacing=\"0\" class=\"taf\"><tr><td class=\"c1\"><span class=\"l\">(2:163:8)</span> <i class=\"ab\">l-raḥmānu</i></td><td class=\"c2\"><a href=\"wordmorphology.jsp?location=(2:163:8)\" name=\"(2:163:8)\">the Most Gracious</a></td><td class=\"c3\"> وَإِلَٰهُكُمْ إِلَٰهٌ وَاحِدٌ لَا إِلَٰهَ إِلَّا هُوَ <span class=\"auu\">الرَّحْمَٰنُ</span> الرَّحِيمُ</td></tr><tr><td class=\"c1\"><span class=\"l\">(13:30:17)</span> <i class=\"ab\">bil-raḥmāni</i></td><td class=\"c2\"><a href=\"wordmorphology.jsp?location=(13:30:17)\" name=\"(13:30:17)\">in the Most Gracious</a></td><td class=\"c3\"> لِتَتْلُوَ عَلَيْهِمُ الَّذِي أَوْحَيْنَا إِلَيْكَ وَهُمْ يَكْفُرُونَ <span class=\"auu\">بِالرَّحْمَٰنِ</span></td></tr><tr><td class=\"c1\"><span class=\"l\">(17:110:6)</span> <i class=\"ab\">l-raḥmāna</i></td><td class=\"c2\"><a href=\"wordmorphology.jsp?location=(17:110:6)\" name=\"(17:110:6)\">the Most Gracious</a></td><td class=\"c3\"> قُلِ ادْعُوا اللَّهَ أَوِ ادْعُوا <span class=\"auu\">الرَّحْمَٰنَ</span></td></tr><tr><td class=\"c1\"><span class=\"l\">(19:18:4)</span> <i class=\"ab\">bil-raḥmāni</i></td><td class=\"c2\"><a href=\"wordmorphology.jsp?location=(19:18:4)\" name=\"(19:18:4)\">with the Most Gracious</a></td><td class=\"c3\"> قَالَتْ إِنِّي أَعُوذُ <span class=\"auu\">بِالرَّحْمَٰنِ</span> مِنْكَ إِنْ كُنْتَ تَقِيًّا</td></tr><tr><td class=\"c1\"><span class=\"l\">(19:26:13)</span> <i class=\"ab\">lilrraḥmāni</i></td><td class=\"c2\"><a href=\"wordmorphology.jsp?location=(19:26:13)\" name=\"(19:26:13)\">to the Most Gracious</a></td><td class=\"c3\"> إِنِّي نَذَرْتُ <span class=\"auu\">لِلرَّحْمَٰنِ</span> صَوْمًا فَلَنْ أُكَلِّمَ الْيَوْمَ إِنْسِيًّا</td></tr><tr><td class=\"c1\"><span class=\"l\">(19:44:8)</span> <i class=\"ab\">lilrraḥmāni</i></td><td class=\"c2\"><a href=\"wordmorphology.jsp?location=(19:44:8)\" name=\"(19:44:8)\">to the Most Gracious</a></td><td class=\"c3\"> يَا أَبَتِ لَا تَعْبُدِ الشَّيْطَانَ إِنَّ الشَّيْطَانَ كَانَ <span class=\"auu\">لِلرَّحْمَٰنِ</span> عَصِيًّا</td></tr><tr><td class=\"c1\"><span class=\"l\">(19:45:8)</span> <i class=\"ab\">l-raḥmāni</i></td><td class=\"c2\"><a href=\"wordmorphology.jsp?location=(19:45:8)\" name=\"(19:45:8)\">the Most Gracious</a></td><td class=\"c3\"> يَا أَبَتِ إِنِّي أَخَافُ أَنْ يَمَسَّكَ عَذَابٌ مِنَ <span class=\"auu\">الرَّحْمَٰنِ</span> فَتَكُونَ لِلشَّيْطَانِ وَلِيًّا</td></tr><tr><td class=\"c1\"><span class=\"l\">(19:61:5)</span> <i class=\"ab\">l-raḥmānu</i></td><td class=\"c2\"><a href=\"wordmorphology.jsp?location=(19:61:5)\" name=\"(19:61:5)\">the Most Gracious</a></td><td class=\"c3\"> جَنَّاتِ عَدْنٍ الَّتِي وَعَدَ <span class=\"auu\">الرَّحْمَٰنُ</span> عِبَادَهُ بِالْغَيْبِ</td></tr><tr><td class=\"c1\"><span class=\"l\">(19:69:9)</span> <i class=\"ab\">l-raḥmāni</i></td><td class=\"c2\"><a href=\"wordmorphology.jsp?location=(19:69:9)\" name=\"(19:69:9)\">the Most Gracious</a></td><td class=\"c3\"> ثُمَّ لَنَنْزِعَنَّ مِنْ كُلِّ شِيعَةٍ أَيُّهُمْ أَشَدُّ عَلَى <span class=\"auu\">الرَّحْمَٰنِ</span> عِتِيًّا</td></tr><tr><td class=\"c1\"><span class=\"l\">(19:75:8)</span> <i class=\"ab\">l-raḥmānu</i></td><td class=\"c2\"><a href=\"wordmorphology.jsp?location=(19:75:8)\" name=\"(19:75:8)\">the Most Gracious</a></td><td class=\"c3\"> قُلْ مَنْ كَانَ فِي الضَّلَالَةِ فَلْيَمْدُدْ لَهُ <span class=\"auu\">الرَّحْمَٰنُ</span> مَدًّا</td></tr><tr><td class=\"c1\"><span class=\"l\">(19:78:6)</span> <i class=\"ab\">l-raḥmāni</i></td><td class=\"c2\"><a href=\"wordmorphology.jsp?location=(19:78:6)\" name=\"(19:78:6)\">the Most Gracious</a></td><td class=\"c3\"> أَطَّلَعَ الْغَيْبَ أَمِ اتَّخَذَ عِنْدَ <span class=\"auu\">الرَّحْمَٰنِ</span> عَهْدًا</td></tr><tr><td class=\"c1\"><span class=\"l\">(19:85:5)</span> <i class=\"ab\">l-raḥmāni</i></td><td class=\"c2\"><a href=\"wordmorphology.jsp?location=(19:85:5)\" name=\"(19:85:5)\">the Most Gracious</a></td><td class=\"c3\"> يَوْمَ نَحْشُرُ الْمُتَّقِينَ إِلَى <span class=\"auu\">الرَّحْمَٰنِ</span> وَفْدًا</td></tr><tr><td class=\"c1\"><span class=\"l\">(19:87:8)</span> <i class=\"ab\">l-raḥmāni</i></td><td class=\"c2\"><a href=\"wordmorphology.jsp?location=(19:87:8)\" name=\"(19:87:8)\">the Most Gracious</a></td><td class=\"c3\"> لَا يَمْلِكُونَ الشَّفَاعَةَ إِلَّا مَنِ اتَّخَذَ عِنْدَ <span class=\"auu\">الرَّحْمَٰنِ</span> عَهْدًا</td></tr><tr><td class=\"c1\"><span class=\"l\">(19:88:3)</span> <i class=\"ab\">l-raḥmānu</i></td><td class=\"c2\"><a href=\"wordmorphology.jsp?location=(19:88:3)\" name=\"(19:88:3)\">the Most Gracious</a></td><td class=\"c3\"> وَقَالُوا اتَّخَذَ <span class=\"auu\">الرَّحْمَٰنُ</span> وَلَدًا</td></tr><tr><td class=\"c1\"><span class=\"l\">(19:91:3)</span> <i class=\"ab\">lilrraḥmāni</i></td><td class=\"c2\"><a href=\"wordmorphology.jsp?location=(19:91:3)\" name=\"(19:91:3)\">to the Most Gracious</a></td><td class=\"c3\"> أَنْ دَعَوْا <span class=\"auu\">لِلرَّحْمَٰنِ</span> وَلَدًا</td></tr><tr><td class=\"c1\"><span class=\"l\">(19:92:3)</span> <i class=\"ab\">lilrraḥmāni</i></td><td class=\"c2\"><a href=\"wordmorphology.jsp?location=(19:92:3)\" name=\"(19:92:3)\">for the Most Gracious</a></td><td class=\"c3\"> وَمَا يَنْبَغِي <span class=\"auu\">لِلرَّحْمَٰنِ</span> أَنْ يَتَّخِذَ وَلَدًا</td></tr><tr><td class=\"c1\"><span class=\"l\">(19:93:9)</span> <i class=\"ab\">l-raḥmāni</i></td><td class=\"c2\"><a href=\"wordmorphology.jsp?location=(19:93:9)\" name=\"(19:93:9)\">(to) the Most Gracious</a></td><td class=\"c3\"> إِنْ كُلُّ مَنْ فِي السَّمَاوَاتِ وَالْأَرْضِ إِلَّا آتِي <span class=\"auu\">الرَّحْمَٰنِ</span> عَبْدًا</td></tr><tr><td class=\"c1\"><span class=\"l\">(19:96:8)</span> <i class=\"ab\">l-raḥmānu</i></td><td class=\"c2\"><a href=\"wordmorphology.jsp?location=(19:96:8)\" name=\"(19:96:8)\">the Most Gracious</a></td><td class=\"c3\"> إِنَّ الَّذِينَ آمَنُوا وَعَمِلُوا الصَّالِحَاتِ سَيَجْعَلُ لَهُمُ <span class=\"auu\">الرَّحْمَٰنُ</span> وُدًّا</td></tr><tr><td class=\"c1\"><span class=\"l\">(20:108:9)</span> <i class=\"ab\">lilrraḥmāni</i></td><td class=\"c2\"><a href=\"wordmorphology.jsp?location=(20:108:9)\" name=\"(20:108:9)\">for the Most Gracious</a></td><td class=\"c3\"> وَخَشَعَتِ الْأَصْوَاتُ <span class=\"auu\">لِلرَّحْمَٰنِ</span> فَلَا تَسْمَعُ إِلَّا هَمْسًا</td></tr><tr><td class=\"c1\"><span class=\"l\">(20:109:9)</span> <i class=\"ab\">l-raḥmānu</i></td><td class=\"c2\"><a href=\"wordmorphology.jsp?location=(20:109:9)\" name=\"(20:109:9)\">the Most Gracious</a></td><td class=\"c3\"> يَوْمَئِذٍ لَا تَنْفَعُ الشَّفَاعَةُ إِلَّا مَنْ أَذِنَ لَهُ <span class=\"auu\">الرَّحْمَٰنُ</span> وَرَضِيَ لَهُ قَوْلًا</td></tr><tr><td class=\"c1\"><span class=\"l\">(21:26:3)</span> <i class=\"ab\">l-raḥmānu</i></td><td class=\"c2\"><a href=\"wordmorphology.jsp?location=(21:26:3)\" name=\"(21:26:3)\">the Most Gracious</a></td><td class=\"c3\"> وَقَالُوا اتَّخَذَ <span class=\"auu\">الرَّحْمَٰنُ</span> وَلَدًا سُبْحَانَهُ بَلْ عِبَادٌ مُكْرَمُونَ</td></tr><tr><td class=\"c1\"><span class=\"l\">(21:36:15)</span> <i class=\"ab\">l-raḥmāni</i></td><td class=\"c2\"><a href=\"wordmorphology.jsp?location=(21:36:15)\" name=\"(21:36:15)\">(of) the Most Gracious</a></td><td class=\"c3\"> أَهَٰذَا الَّذِي يَذْكُرُ آلِهَتَكُمْ وَهُمْ بِذِكْرِ <span class=\"auu\">الرَّحْمَٰنِ</span> هُمْ كَافِرُونَ</td></tr><tr><td class=\"c1\"><span class=\"l\">(21:42:7)</span> <i class=\"ab\">l-raḥmāni</i></td><td class=\"c2\"><a href=\"wordmorphology.jsp?location=(21:42:7)\" name=\"(21:42:7)\">the Most Gracious</a></td><td class=\"c3\"> قُلْ مَنْ يَكْلَؤُكُمْ بِاللَّيْلِ وَالنَّهَارِ مِنَ <span class=\"auu\">الرَّحْمَٰنِ</span></td></tr><tr><td class=\"c1\"><span class=\"l\">(25:26:4)</span> <i class=\"ab\">lilrraḥmāni</i></td><td class=\"c2\"><a href=\"wordmorphology.jsp?location=(25:26:4)\" name=\"(25:26:4)\">for the Most Gracious</a></td><td class=\"c3\"> الْمُلْكُ يَوْمَئِذٍ الْحَقُّ <span class=\"auu\">لِلرَّحْمَٰنِ</span> وَكَانَ يَوْمًا عَلَى الْكَافِرِينَ عَسِيرًا</td></tr><tr><td class=\"c1\"><span class=\"l\">(25:60:5)</span> <i class=\"ab\">lilrraḥmāni</i></td><td class=\"c2\"><a href=\"wordmorphology.jsp?location=(25:60:5)\" name=\"(25:60:5)\">to the Most Gracious</a></td><td class=\"c3\"> وَإِذَا قِيلَ لَهُمُ اسْجُدُوا <span class=\"auu\">لِلرَّحْمَٰنِ</span></td></tr><tr><td class=\"c1\"><span class=\"l\">(25:60:8)</span> <i class=\"ab\">l-raḥmānu</i></td><td class=\"c2\"><a href=\"wordmorphology.jsp?location=(25:60:8)\" name=\"(25:60:8)\">(is) the Most Gracious</a></td><td class=\"c3\"> قَالُوا وَمَا <span class=\"auu\">الرَّحْمَٰنُ</span> أَنَسْجُدُ لِمَا تَأْمُرُنَا وَزَادَهُمْ نُفُورًا</td></tr><tr><td class=\"c1\"><span class=\"l\">(26:5:6)</span> <i class=\"ab\">l-raḥmāni</i></td><td class=\"c2\"><a href=\"wordmorphology.jsp?location=(26:5:6)\" name=\"(26:5:6)\">the Most Gracious</a></td><td class=\"c3\"> وَمَا يَأْتِيهِمْ مِنْ ذِكْرٍ مِنَ <span class=\"auu\">الرَّحْمَٰنِ</span> مُحْدَثٍ إِلَّا كَانُوا عَنْهُ مُعْرِضِينَ</td></tr><tr><td class=\"c1\"><span class=\"l\">(36:11:7)</span> <i class=\"ab\">l-raḥmāna</i></td><td class=\"c2\"><a href=\"wordmorphology.jsp?location=(36:11:7)\" name=\"(36:11:7)\">the Most Gracious</a></td><td class=\"c3\"> إِنَّمَا تُنْذِرُ مَنِ اتَّبَعَ الذِّكْرَ وَخَشِيَ <span class=\"auu\">الرَّحْمَٰنَ</span> بِالْغَيْبِ</td></tr><tr><td class=\"c1\"><span class=\"l\">(36:15:9)</span> <i class=\"ab\">l-raḥmānu</i></td><td class=\"c2\"><a href=\"wordmorphology.jsp?location=(36:15:9)\" name=\"(36:15:9)\">the Most Gracious</a></td><td class=\"c3\"> قَالُوا مَا أَنْتُمْ إِلَّا بَشَرٌ مِثْلُنَا وَمَا أَنْزَلَ <span class=\"auu\">الرَّحْمَٰنُ</span> مِنْ شَيْءٍ</td></tr><tr><td class=\"c1\"><span class=\"l\">(36:23:7)</span> <i class=\"ab\">l-raḥmānu</i></td><td class=\"c2\"><a href=\"wordmorphology.jsp?location=(36:23:7)\" name=\"(36:23:7)\">the Most Gracious</a></td><td class=\"c3\"> إِنْ يُرِدْنِ <span class=\"auu\">الرَّحْمَٰنُ</span> بِضُرٍّ لَا تُغْنِ عَنِّي شَفَاعَتُهُمْ شَيْئًا</td></tr><tr><td class=\"c1\"><span class=\"l\">(36:52:10)</span> <i class=\"ab\">l-raḥmānu</i></td><td class=\"c2\"><a href=\"wordmorphology.jsp?location=(36:52:10)\" name=\"(36:52:10)\">the Most Gracious</a></td><td class=\"c3\"> هَٰذَا مَا وَعَدَ <span class=\"auu\">الرَّحْمَٰنُ</span> وَصَدَقَ الْمُرْسَلُونَ</td></tr><tr><td class=\"c1\"><span class=\"l\">(41:2:3)</span> <i class=\"ab\">l-raḥmāni</i></td><td class=\"c2\"><a href=\"wordmorphology.jsp?location=(41:2:3)\" name=\"(41:2:3)\">the Most Gracious</a></td><td class=\"c3\"> تَنْزِيلٌ مِنَ <span class=\"auu\">الرَّحْمَٰنِ</span> الرَّحِيمِ</td></tr><tr><td class=\"c1\"><span class=\"l\">(43:17:6)</span> <i class=\"ab\">lilrraḥmāni</i></td><td class=\"c2\"><a href=\"wordmorphology.jsp?location=(43:17:6)\" name=\"(43:17:6)\">for the Most Gracious</a></td><td class=\"c3\"> وَإِذَا بُشِّرَ أَحَدُهُمْ بِمَا ضَرَبَ <span class=\"auu\">لِلرَّحْمَٰنِ</span> مَثَلًا ظَلَّ وَجْهُهُ مُسْوَدًّا</td></tr><tr><td class=\"c1\"><span class=\"l\">(43:20:4)</span> <i class=\"ab\">l-raḥmānu</i></td><td class=\"c2\"><a href=\"wordmorphology.jsp?location=(43:20:4)\" name=\"(43:20:4)\">the Most Gracious</a></td><td class=\"c3\"> وَقَالُوا لَوْ شَاءَ <span class=\"auu\">الرَّحْمَٰنُ</span> مَا عَبَدْنَاهُمْ</td></tr><tr><td class=\"c1\"><span class=\"l\">(43:33:10)</span> <i class=\"ab\">bil-raḥmāni</i></td><td class=\"c2\"><a href=\"wordmorphology.jsp?location=(43:33:10)\" name=\"(43:33:10)\">in the Most Gracious</a></td><td class=\"c3\"> لَجَعَلْنَا لِمَنْ يَكْفُرُ <span class=\"auu\">بِالرَّحْمَٰنِ</span> لِبُيُوتِهِمْ سُقُفًا مِنْ فِضَّةٍ</td></tr><tr><td class=\"c1\"><span class=\"l\">(43:45:11)</span> <i class=\"ab\">l-raḥmāni</i></td><td class=\"c2\"><a href=\"wordmorphology.jsp?location=(43:45:11)\" name=\"(43:45:11)\">the Most Gracious</a></td><td class=\"c3\"> أَجَعَلْنَا مِنْ دُونِ <span class=\"auu\">الرَّحْمَٰنِ</span> آلِهَةً يُعْبَدُونَ</td></tr><tr><td class=\"c1\"><span class=\"l\">(43:81:4)</span> <i class=\"ab\">lilrraḥmāni</i></td><td class=\"c2\"><a href=\"wordmorphology.jsp?location=(43:81:4)\" name=\"(43:81:4)\">the Most Gracious</a></td><td class=\"c3\"> قُلْ إِنْ كَانَ <span class=\"auu\">لِلرَّحْمَٰنِ</span> وَلَدٌ فَأَنَا أَوَّلُ الْعَابِدِينَ</td></tr><tr><td class=\"c1\"><span class=\"l\">(50:33:3)</span> <i class=\"ab\">l-raḥmāna</i></td><td class=\"c2\"><a href=\"wordmorphology.jsp?location=(50:33:3)\" name=\"(50:33:3)\">the Most Gracious</a></td><td class=\"c3\"> مَنْ خَشِيَ <span class=\"auu\">الرَّحْمَٰنَ</span> بِالْغَيْبِ وَجَاءَ بِقَلْبٍ مُنِيبٍ</td></tr><tr><td class=\"c1\"><span class=\"l\">(59:22:12)</span> <i class=\"ab\">l-raḥmānu</i></td><td class=\"c2\"><a href=\"wordmorphology.jsp?location=(59:22:12)\" name=\"(59:22:12)\">(is) the Most Gracious</a></td><td class=\"c3\"> عَالِمُ الْغَيْبِ وَالشَّهَادَةِ هُوَ <span class=\"auu\">الرَّحْمَٰنُ</span> الرَّحِيمُ</td></tr><tr><td class=\"c1\"><span class=\"l\">(67:3:10)</span> <i class=\"ab\">l-raḥmāni</i></td><td class=\"c2\"><a href=\"wordmorphology.jsp?location=(67:3:10)\" name=\"(67:3:10)\">(of) the Most Gracious</a></td><td class=\"c3\"> مَا تَرَىٰ فِي خَلْقِ <span class=\"auu\">الرَّحْمَٰنِ</span> مِنْ تَفَاوُتٍ</td></tr><tr><td class=\"c1\"><span class=\"l\">(67:19:11)</span> <i class=\"ab\">l-raḥmānu</i></td><td class=\"c2\"><a href=\"wordmorphology.jsp?location=(67:19:11)\" name=\"(67:19:11)\">the Most Gracious</a></td><td class=\"c3\"> مَا يُمْسِكُهُنَّ إِلَّا <span class=\"auu\">الرَّحْمَٰنُ</span> إِنَّهُ بِكُلِّ شَيْءٍ بَصِيرٌ</td></tr><tr><td class=\"c1\"><span class=\"l\">(67:20:10)</span> <i class=\"ab\">l-raḥmāni</i></td><td class=\"c2\"><a href=\"wordmorphology.jsp?location=(67:20:10)\" name=\"(67:20:10)\">the Most Gracious</a></td><td class=\"c3\"> أَمَّنْ هَٰذَا الَّذِي هُوَ جُنْدٌ لَكُمْ يَنْصُرُكُمْ مِنْ دُونِ <span class=\"auu\">الرَّحْمَٰنِ</span></td></tr><tr><td class=\"c1\"><span class=\"l\">(67:29:3)</span> <i class=\"ab\">l-raḥmānu</i></td><td class=\"c2\"><a href=\"wordmorphology.jsp?location=(67:29:3)\" name=\"(67:29:3)\">(is) the Most Gracious</a></td><td class=\"c3\"> قُلْ هُوَ <span class=\"auu\">الرَّحْمَٰنُ</span> آمَنَّا بِهِ وَعَلَيْهِ تَوَكَّلْنَا</td></tr><tr><td class=\"c1\"><span class=\"l\">(78:37:6)</span> <i class=\"ab\">l-raḥmāni</i></td><td class=\"c2\"><a href=\"wordmorphology.jsp?location=(78:37:6)\" name=\"(78:37:6)\">the Most Gracious</a></td><td class=\"c3\"> رَبِّ السَّمَاوَاتِ وَالْأَرْضِ وَمَا بَيْنَهُمَا <span class=\"auu\">الرَّحْمَٰنِ</span></td></tr><tr><td class=\"c1\"><span class=\"l\">(78:38:12)</span> <i class=\"ab\">l-raḥmānu</i></td><td class=\"c2\"><a href=\"wordmorphology.jsp?location=(78:38:12)\" name=\"(78:38:12)\">the Most Gracious</a></td><td class=\"c3\"> لَا يَتَكَلَّمُونَ إِلَّا مَنْ أَذِنَ لَهُ <span class=\"auu\">الرَّحْمَٰنُ</span> وَقَالَ صَوَابًا</td></tr></table><p class=\"dxt\">(2) Adjective</p><table border=\"0\" cellpadding=\"0\" cellspacing=\"0\" class=\"taf\"><tr><td class=\"c1\"><span class=\"l\">(1:1:3)</span> <i class=\"ab\">l-raḥmāni</i></td><td class=\"c2\"><a href=\"wordmorphology.jsp?location=(1:1:3)\" name=\"(1:1:3)\">the Most Gracious</a></td><td class=\"c3\"> بِسْمِ اللَّهِ <span class=\"auu\">الرَّحْمَٰنِ</span> الرَّحِيمِ</td></tr><tr><td class=\"c1\"><span class=\"l\">(1:3:1)</span> <i class=\"ab\">al-raḥmāni</i></td><td class=\"c2\"><a href=\"wordmorphology.jsp?location=(1:3:1)\" name=\"(1:3:1)\">The Most Gracious</a></td><td class=\"c3\"> <span class=\"auu\">الرَّحْمَٰنِ</span> الرَّحِيمِ</td></tr><tr><td class=\"c1\"><span class=\"l\">(19:58:26)</span> <i class=\"ab\">l-raḥmāni</i></td><td class=\"c2\"><a href=\"wordmorphology.jsp?location=(19:58:26)\" name=\"(19:58:26)\">(of) the Most Gracious</a></td><td class=\"c3\"> إِذَا تُتْلَىٰ عَلَيْهِمْ آيَاتُ <span class=\"auu\">الرَّحْمَٰنِ</span> خَرُّوا سُجَّدًا وَبُكِيًّا</td></tr><tr><td class=\"c1\"><span class=\"l\">(20:5:1)</span> <i class=\"ab\">al-raḥmānu</i></td><td class=\"c2\"><a href=\"wordmorphology.jsp?location=(20:5:1)\" name=\"(20:5:1)\">The Most Gracious</a></td><td class=\"c3\"> <span class=\"auu\">الرَّحْمَٰنُ</span> عَلَى الْعَرْشِ اسْتَوَىٰ</td></tr><tr><td class=\"c1\"><span class=\"l\">(20:90:13)</span> <i class=\"ab\">l-raḥmānu</i></td><td class=\"c2\"><a href=\"wordmorphology.jsp?location=(20:90:13)\" name=\"(20:90:13)\">(is) the Most Gracious</a></td><td class=\"c3\"> وَإِنَّ رَبَّكُمُ <span class=\"auu\">الرَّحْمَٰنُ</span> فَاتَّبِعُونِي وَأَطِيعُوا أَمْرِي</td></tr><tr><td class=\"c1\"><span class=\"l\">(21:112:6)</span> <i class=\"ab\">l-raḥmānu</i></td><td class=\"c2\"><a href=\"wordmorphology.jsp?location=(21:112:6)\" name=\"(21:112:6)\">(is) the Most Gracious</a></td><td class=\"c3\"> قَالَ رَبِّ احْكُمْ بِالْحَقِّ وَرَبُّنَا <span class=\"auu\">الرَّحْمَٰنُ</span> الْمُسْتَعَانُ عَلَىٰ مَا تَصِفُونَ</td></tr><tr><td class=\"c1\"><span class=\"l\">(25:59:14)</span> <i class=\"ab\">l-raḥmānu</i></td><td class=\"c2\"><a href=\"wordmorphology.jsp?location=(25:59:14)\" name=\"(25:59:14)\">the Most Gracious</a></td><td class=\"c3\"> ثُمَّ اسْتَوَىٰ عَلَى الْعَرْشِ <span class=\"auu\">الرَّحْمَٰنُ</span> فَاسْأَلْ بِهِ خَبِيرًا</td></tr><tr><td class=\"c1\"><span class=\"l\">(25:63:2)</span> <i class=\"ab\">l-raḥmāni</i></td><td class=\"c2\"><a href=\"wordmorphology.jsp?location=(25:63:2)\" name=\"(25:63:2)\">(of) the Most Gracious</a></td><td class=\"c3\"> وَعِبَادُ <span class=\"auu\">الرَّحْمَٰنِ</span> الَّذِينَ يَمْشُونَ عَلَى الْأَرْضِ هَوْنًا</td></tr><tr><td class=\"c1\"><span class=\"l\">(27:30:7)</span> <i class=\"ab\">l-raḥmāni</i></td><td class=\"c2\"><a href=\"wordmorphology.jsp?location=(27:30:7)\" name=\"(27:30:7)\">the Most Gracious</a></td><td class=\"c3\"> إِنَّهُ مِنْ سُلَيْمَانَ وَإِنَّهُ بِسْمِ اللَّهِ <span class=\"auu\">الرَّحْمَٰنِ</span> الرَّحِيمِ</td></tr><tr><td class=\"c1\"><span class=\"l\">(43:19:6)</span> <i class=\"ab\">l-raḥmāni</i></td><td class=\"c2\"><a href=\"wordmorphology.jsp?location=(43:19:6)\" name=\"(43:19:6)\">(of) the Most Gracious</a></td><td class=\"c3\"> وَجَعَلُوا الْمَلَائِكَةَ الَّذِينَ هُمْ عِبَادُ <span class=\"auu\">الرَّحْمَٰنِ</span> إِنَاثًا</td></tr><tr><td class=\"c1\"><span class=\"l\">(43:36:5)</span> <i class=\"ab\">l-raḥmāni</i></td><td class=\"c2\"><a href=\"wordmorphology.jsp?location=(43:36:5)\" name=\"(43:36:5)\">(of) the Most Gracious</a></td><td class=\"c3\"> وَمَنْ يَعْشُ عَنْ ذِكْرِ <span class=\"auu\">الرَّحْمَٰنِ</span> نُقَيِّضْ لَهُ شَيْطَانًا فَهُوَ لَهُ قَرِينٌ</td></tr><tr><td class=\"c1\"><span class=\"l\">(55:1:1)</span> <i class=\"ab\">al-raḥmānu</i></td><td class=\"c2\"><a href=\"wordmorphology.jsp?location=(55:1:1)\" name=\"(55:1:1)\">The Most Gracious</a></td><td class=\"c3\"> <span class=\"auu\">الرَّحْمَٰنُ</span></td></tr></table><h4 class=\"dxe\">Noun</h4><table border=\"0\" cellpadding=\"0\" cellspacing=\"0\" class=\"taf\"><tr><td class=\"c1\"><span class=\"l\">(2:64:10)</span> <i class=\"ab\">waraḥmatuhu</i></td><td class=\"c2\"><a href=\"wordmorphology.jsp?location=(2:64:10)\" name=\"(2:64:10)\">and His Mercy</a></td><td class=\"c3\"> فَلَوْلَا فَضْلُ اللَّهِ عَلَيْكُمْ <span class=\"auu\">وَرَحْمَتُهُ</span> لَكُنْتُمْ مِنَ الْخَاسِرِينَ</td></tr><tr><td class=\"c1\"><span class=\"l\">(2:105:19)</span> <i class=\"ab\">biraḥmatihi</i></td><td class=\"c2\"><a href=\"wordmorphology.jsp?location=(2:105:19)\" name=\"(2:105:19)\">for His Mercy</a></td><td class=\"c3\"> وَاللَّهُ يَخْتَصُّ <span class=\"auu\">بِرَحْمَتِهِ</span> مَنْ يَشَاءُ وَاللَّهُ ذُو الْفَضْلِ الْعَظِيمِ</td></tr><tr><td class=\"c1\"><span class=\"l\">(2:157:6)</span> <i class=\"ab\">waraḥmatun</i></td><td class=\"c2\"><a href=\"wordmorphology.jsp?location=(2:157:6)\" name=\"(2:157:6)\">and Mercy</a></td><td class=\"c3\"> أُولَٰئِكَ عَلَيْهِمْ صَلَوَاتٌ مِنْ رَبِّهِمْ <span class=\"auu\">وَرَحْمَةٌ</span></td></tr><tr><td class=\"c1\"><span class=\"l\">(2:178:30)</span> <i class=\"ab\">waraḥmatun</i></td><td class=\"c2\"><a href=\"wordmorphology.jsp?location=(2:178:30)\" name=\"(2:178:30)\">and mercy</a></td><td class=\"c3\"> ذَٰلِكَ تَخْفِيفٌ مِنْ رَبِّكُمْ <span class=\"auu\">وَرَحْمَةٌ</span></td></tr><tr><td class=\"c1\"><span class=\"l\">(2:218:12)</span> <i class=\"ab\">raḥmata</i></td><td class=\"c2\"><a href=\"wordmorphology.jsp?location=(2:218:12)\" name=\"(2:218:12)\">(for) Mercy</a></td><td class=\"c3\"> أُولَٰئِكَ يَرْجُونَ <span class=\"auu\">رَحْمَتَ</span> اللَّهِ وَاللَّهُ غَفُورٌ رَحِيمٌ</td></tr><tr><td class=\"c1\"><span class=\"l\">(3:8:12)</span> <i class=\"ab\">raḥmatan</i></td><td class=\"c2\"><a href=\"wordmorphology.jsp?location=(3:8:12)\" name=\"(3:8:12)\">mercy</a></td><td class=\"c3\"> رَبَّنَا لَا تُزِغْ قُلُوبَنَا بَعْدَ إِذْ هَدَيْتَنَا وَهَبْ لَنَا مِنْ لَدُنْكَ <span class=\"auu\">رَحْمَةً</span></td></tr><tr><td class=\"c1\"><span class=\"l\">(3:74:2)</span> <i class=\"ab\">biraḥmatihi</i></td><td class=\"c2\"><a href=\"wordmorphology.jsp?location=(3:74:2)\" name=\"(3:74:2)\">for His Mercy</a></td><td class=\"c3\"> يَخْتَصُّ <span class=\"auu\">بِرَحْمَتِهِ</span> مَنْ يَشَاءُ وَاللَّهُ ذُو الْفَضْلِ الْعَظِيمِ</td></tr><tr><td class=\"c1\"><span class=\"l\">(3:107:6)</span> <i class=\"ab\">raḥmati</i></td><td class=\"c2\"><a href=\"wordmorphology.jsp?location=(3:107:6)\" name=\"(3:107:6)\">(the) Mercy</a></td><td class=\"c3\"> وَأَمَّا الَّذِينَ ابْيَضَّتْ وُجُوهُهُمْ فَفِي <span class=\"auu\">رَحْمَةِ</span> اللَّهِ</td></tr><tr><td class=\"c1\"><span class=\"l\">(3:157:11)</span> <i class=\"ab\">waraḥmatun</i></td><td class=\"c2\"><a href=\"wordmorphology.jsp?location=(3:157:11)\" name=\"(3:157:11)\">and Mercy</a></td><td class=\"c3\"> لَمَغْفِرَةٌ مِنَ اللَّهِ <span class=\"auu\">وَرَحْمَةٌ</span> خَيْرٌ مِمَّا يَجْمَعُونَ</td></tr><tr><td class=\"c1\"><span class=\"l\">(3:159:2)</span> <i class=\"ab\">raḥmatin</i></td><td class=\"c2\"><a href=\"wordmorphology.jsp?location=(3:159:2)\" name=\"(3:159:2)\">(of) Mercy</a></td><td class=\"c3\"> فَبِمَا <span class=\"auu\">رَحْمَةٍ</span> مِنَ اللَّهِ لِنْتَ لَهُمْ</td></tr><tr><td class=\"c1\"><span class=\"l\">(4:83:26)</span> <i class=\"ab\">waraḥmatuhu</i></td><td class=\"c2\"><a href=\"wordmorphology.jsp?location=(4:83:26)\" name=\"(4:83:26)\">and His Mercy</a></td><td class=\"c3\"> وَلَوْلَا فَضْلُ اللَّهِ عَلَيْكُمْ <span class=\"auu\">وَرَحْمَتُهُ</span> لَاتَّبَعْتُمُ الشَّيْطَانَ إِلَّا قَلِيلًا</td></tr><tr><td class=\"c1\"><span class=\"l\">(4:96:4)</span> <i class=\"ab\">waraḥmatan</i></td><td class=\"c2\"><a href=\"wordmorphology.jsp?location=(4:96:4)\" name=\"(4:96:4)\">and mercy</a></td><td class=\"c3\"> دَرَجَاتٍ مِنْهُ وَمَغْفِرَةً <span class=\"auu\">وَرَحْمَةً</span> وَكَانَ اللَّهُ غَفُورًا رَحِيمًا</td></tr><tr><td class=\"c1\"><span class=\"l\">(4:113:5)</span> <i class=\"ab\">waraḥmatuhu</i></td><td class=\"c2\"><a href=\"wordmorphology.jsp?location=(4:113:5)\" name=\"(4:113:5)\">and His Mercy </a></td><td class=\"c3\"> وَلَوْلَا فَضْلُ اللَّهِ عَلَيْكَ <span class=\"auu\">وَرَحْمَتُهُ</span> لَهَمَّتْ طَائِفَةٌ مِنْهُمْ أَنْ يُضِلُّوكَ</td></tr><tr><td class=\"c1\"><span class=\"l\">(4:175:9)</span> <i class=\"ab\">raḥmatin</i></td><td class=\"c2\"><a href=\"wordmorphology.jsp?location=(4:175:9)\" name=\"(4:175:9)\">Mercy</a></td><td class=\"c3\"> فَأَمَّا الَّذِينَ آمَنُوا بِاللَّهِ وَاعْتَصَمُوا بِهِ فَسَيُدْخِلُهُمْ فِي <span class=\"auu\">رَحْمَةٍ</span> مِنْهُ</td></tr><tr><td class=\"c1\"><span class=\"l\">(6:12:12)</span> <i class=\"ab\">l-raḥmata</i></td><td class=\"c2\"><a href=\"wordmorphology.jsp?location=(6:12:12)\" name=\"(6:12:12)\">the Mercy</a></td><td class=\"c3\"> كَتَبَ عَلَىٰ نَفْسِهِ <span class=\"auu\">الرَّحْمَةَ</span> لَيَجْمَعَنَّكُمْ إِلَىٰ يَوْمِ الْقِيَامَةِ لَا رَيْبَ فِيهِ</td></tr><tr><td class=\"c1\"><span class=\"l\">(6:54:13)</span> <i class=\"ab\">l-raḥmata</i></td><td class=\"c2\"><a href=\"wordmorphology.jsp?location=(6:54:13)\" name=\"(6:54:13)\">the Mercy</a></td><td class=\"c3\"> فَقُلْ سَلَامٌ عَلَيْكُمْ كَتَبَ رَبُّكُمْ عَلَىٰ نَفْسِهِ <span class=\"auu\">الرَّحْمَةَ</span></td></tr><tr><td class=\"c1\"><span class=\"l\">(6:133:4)</span> <i class=\"ab\">l-raḥmati</i></td><td class=\"c2\"><a href=\"wordmorphology.jsp?location=(6:133:4)\" name=\"(6:133:4)\">(of) mercy</a></td><td class=\"c3\"> وَرَبُّكَ الْغَنِيُّ ذُو <span class=\"auu\">الرَّحْمَةِ</span></td></tr><tr><td class=\"c1\"><span class=\"l\">(6:147:6)</span> <i class=\"ab\">raḥmatin</i></td><td class=\"c2\"><a href=\"wordmorphology.jsp?location=(6:147:6)\" name=\"(6:147:6)\">(of) Mercy</a></td><td class=\"c3\"> فَإِنْ كَذَّبُوكَ فَقُلْ رَبُّكُمْ ذُو <span class=\"auu\">رَحْمَةٍ</span> وَاسِعَةٍ</td></tr><tr><td class=\"c1\"><span class=\"l\">(6:154:13)</span> <i class=\"ab\">waraḥmatan</i></td><td class=\"c2\"><a href=\"wordmorphology.jsp?location=(6:154:13)\" name=\"(6:154:13)\">and mercy</a></td><td class=\"c3\"> وَهُدًى <span class=\"auu\">وَرَحْمَةً</span> لَعَلَّهُمْ بِلِقَاءِ رَبِّهِمْ يُؤْمِنُونَ</td></tr><tr><td class=\"c1\"><span class=\"l\">(6:157:17)</span> <i class=\"ab\">waraḥmatun</i></td><td class=\"c2\"><a href=\"wordmorphology.jsp?location=(6:157:17)\" name=\"(6:157:17)\">and a Mercy</a></td><td class=\"c3\"> فَقَدْ جَاءَكُمْ بَيِّنَةٌ مِنْ رَبِّكُمْ وَهُدًى <span class=\"auu\">وَرَحْمَةٌ</span></td></tr><tr><td class=\"c1\"><span class=\"l\">(7:49:7)</span> <i class=\"ab\">biraḥmatin</i></td><td class=\"c2\"><a href=\"wordmorphology.jsp?location=(7:49:7)\" name=\"(7:49:7)\">Mercy</a></td><td class=\"c3\"> أَهَٰؤُلَاءِ الَّذِينَ أَقْسَمْتُمْ لَا يَنَالُهُمُ اللَّهُ <span class=\"auu\">بِرَحْمَةٍ</span></td></tr><tr><td class=\"c1\"><span class=\"l\">(7:52:8)</span> <i class=\"ab\">waraḥmatan</i></td><td class=\"c2\"><a href=\"wordmorphology.jsp?location=(7:52:8)\" name=\"(7:52:8)\">and mercy</a></td><td class=\"c3\"> وَلَقَدْ جِئْنَاهُمْ بِكِتَابٍ فَصَّلْنَاهُ عَلَىٰ عِلْمٍ هُدًى <span class=\"auu\">وَرَحْمَةً</span> لِقَوْمٍ يُؤْمِنُونَ</td></tr><tr><td class=\"c1\"><span class=\"l\">(7:56:11)</span> <i class=\"ab\">raḥmata</i></td><td class=\"c2\"><a href=\"wordmorphology.jsp?location=(7:56:11)\" name=\"(7:56:11)\">(the) Mercy</a></td><td class=\"c3\"> إِنَّ <span class=\"auu\">رَحْمَتَ</span> اللَّهِ قَرِيبٌ مِنَ الْمُحْسِنِينَ</td></tr><tr><td class=\"c1\"><span class=\"l\">(7:57:8)</span> <i class=\"ab\">raḥmatihi</i></td><td class=\"c2\"><a href=\"wordmorphology.jsp?location=(7:57:8)\" name=\"(7:57:8)\">His Mercy</a></td><td class=\"c3\"> وَهُوَ الَّذِي يُرْسِلُ الرِّيَاحَ بُشْرًا بَيْنَ يَدَيْ <span class=\"auu\">رَحْمَتِهِ</span></td></tr><tr><td class=\"c1\"><span class=\"l\">(7:72:4)</span> <i class=\"ab\">biraḥmatin</i></td><td class=\"c2\"><a href=\"wordmorphology.jsp?location=(7:72:4)\" name=\"(7:72:4)\">by Mercy</a></td><td class=\"c3\"> فَأَنْجَيْنَاهُ وَالَّذِينَ مَعَهُ <span class=\"auu\">بِرَحْمَةٍ</span> مِنَّا</td></tr><tr><td class=\"c1\"><span class=\"l\">(7:151:8)</span> <i class=\"ab\">raḥmatika</i></td><td class=\"c2\"><a href=\"wordmorphology.jsp?location=(7:151:8)\" name=\"(7:151:8)\">Your Mercy</a></td><td class=\"c3\"> قَالَ رَبِّ اغْفِرْ لِي وَلِأَخِي وَأَدْخِلْنَا فِي <span class=\"auu\">رَحْمَتِكَ</span></td></tr><tr><td class=\"c1\"><span class=\"l\">(7:154:11)</span> <i class=\"ab\">waraḥmatun</i></td><td class=\"c2\"><a href=\"wordmorphology.jsp?location=(7:154:11)\" name=\"(7:154:11)\">and mercy</a></td><td class=\"c3\"> وَفِي نُسْخَتِهَا هُدًى <span class=\"auu\">وَرَحْمَةٌ</span> لِلَّذِينَ هُمْ لِرَبِّهِمْ يَرْهَبُونَ</td></tr><tr><td class=\"c1\"><span class=\"l\">(7:156:18)</span> <i class=\"ab\">waraḥmatī</i></td><td class=\"c2\"><a href=\"wordmorphology.jsp?location=(7:156:18)\" name=\"(7:156:18)\">but My Mercy</a></td><td class=\"c3\"> قَالَ عَذَابِي أُصِيبُ بِهِ مَنْ أَشَاءُ <span class=\"auu\">وَرَحْمَتِي</span> وَسِعَتْ كُلَّ شَيْءٍ</td></tr><tr><td class=\"c1\"><span class=\"l\">(7:203:21)</span> <i class=\"ab\">waraḥmatun</i></td><td class=\"c2\"><a href=\"wordmorphology.jsp?location=(7:203:21)\" name=\"(7:203:21)\">and mercy</a></td><td class=\"c3\"> هَٰذَا بَصَائِرُ مِنْ رَبِّكُمْ وَهُدًى <span class=\"auu\">وَرَحْمَةٌ</span> لِقَوْمٍ يُؤْمِنُونَ</td></tr><tr><td class=\"c1\"><span class=\"l\">(9:21:3)</span> <i class=\"ab\">biraḥmatin</i></td><td class=\"c2\"><a href=\"wordmorphology.jsp?location=(9:21:3)\" name=\"(9:21:3)\">of Mercy</a></td><td class=\"c3\"> يُبَشِّرُهُمْ رَبُّهُمْ <span class=\"auu\">بِرَحْمَةٍ</span> مِنْهُ وَرِضْوَانٍ وَجَنَّاتٍ لَهُمْ فِيهَا نَعِيمٌ مُقِيمٌ</td></tr><tr><td class=\"c1\"><span class=\"l\">(9:61:16)</span> <i class=\"ab\">waraḥmatun</i></td><td class=\"c2\"><a href=\"wordmorphology.jsp?location=(9:61:16)\" name=\"(9:61:16)\">and (is) a mercy</a></td><td class=\"c3\"> يُؤْمِنُ بِاللَّهِ وَيُؤْمِنُ لِلْمُؤْمِنِينَ <span class=\"auu\">وَرَحْمَةٌ</span> لِلَّذِينَ آمَنُوا مِنْكُمْ</td></tr><tr><td class=\"c1\"><span class=\"l\">(9:99:23)</span> <i class=\"ab\">raḥmatihi</i></td><td class=\"c2\"><a href=\"wordmorphology.jsp?location=(9:99:23)\" name=\"(9:99:23)\">His Mercy</a></td><td class=\"c3\"> سَيُدْخِلُهُمُ اللَّهُ فِي <span class=\"auu\">رَحْمَتِهِ</span> إِنَّ اللَّهَ غَفُورٌ رَحِيمٌ</td></tr><tr><td class=\"c1\"><span class=\"l\">(10:21:4)</span> <i class=\"ab\">raḥmatan</i></td><td class=\"c2\"><a href=\"wordmorphology.jsp?location=(10:21:4)\" name=\"(10:21:4)\">mercy</a></td><td class=\"c3\"> وَإِذَا أَذَقْنَا النَّاسَ <span class=\"auu\">رَحْمَةً</span> مِنْ بَعْدِ ضَرَّاءَ مَسَّتْهُمْ إِذَا لَهُمْ مَكْرٌ فِي آيَاتِنَا</td></tr><tr><td class=\"c1\"><span class=\"l\">(10:57:13)</span> <i class=\"ab\">waraḥmatun</i></td><td class=\"c2\"><a href=\"wordmorphology.jsp?location=(10:57:13)\" name=\"(10:57:13)\">and mercy</a></td><td class=\"c3\"> وَشِفَاءٌ لِمَا فِي الصُّدُورِ وَهُدًى <span class=\"auu\">وَرَحْمَةٌ</span> لِلْمُؤْمِنِينَ</td></tr><tr><td class=\"c1\"><span class=\"l\">(10:58:4)</span> <i class=\"ab\">wabiraḥmatihi</i></td><td class=\"c2\"><a href=\"wordmorphology.jsp?location=(10:58:4)\" name=\"(10:58:4)\">and in His Mercy</a></td><td class=\"c3\"> قُلْ بِفَضْلِ اللَّهِ <span class=\"auu\">وَبِرَحْمَتِهِ</span> فَبِذَٰلِكَ فَلْيَفْرَحُوا</td></tr><tr><td class=\"c1\"><span class=\"l\">(10:86:2)</span> <i class=\"ab\">biraḥmatika</i></td><td class=\"c2\"><a href=\"wordmorphology.jsp?location=(10:86:2)\" name=\"(10:86:2)\">by Your Mercy</a></td><td class=\"c3\"> وَنَجِّنَا <span class=\"auu\">بِرَحْمَتِكَ</span> مِنَ الْقَوْمِ الْكَافِرِينَ</td></tr><tr><td class=\"c1\"><span class=\"l\">(11:9:5)</span> <i class=\"ab\">raḥmatan</i></td><td class=\"c2\"><a href=\"wordmorphology.jsp?location=(11:9:5)\" name=\"(11:9:5)\">(of) Mercy from Us</a></td><td class=\"c3\"> وَلَئِنْ أَذَقْنَا الْإِنْسَانَ مِنَّا <span class=\"auu\">رَحْمَةً</span> ثُمَّ نَزَعْنَاهَا مِنْهُ إِنَّهُ لَيَئُوسٌ كَفُورٌ</td></tr><tr><td class=\"c1\"><span class=\"l\">(11:17:15)</span> <i class=\"ab\">waraḥmatan</i></td><td class=\"c2\"><a href=\"wordmorphology.jsp?location=(11:17:15)\" name=\"(11:17:15)\">and (as) mercy</a></td><td class=\"c3\"> وَمِنْ قَبْلِهِ كِتَابُ مُوسَىٰ إِمَامًا <span class=\"auu\">وَرَحْمَةً</span></td></tr><tr><td class=\"c1\"><span class=\"l\">(11:28:11)</span> <i class=\"ab\">raḥmatan</i></td><td class=\"c2\"><a href=\"wordmorphology.jsp?location=(11:28:11)\" name=\"(11:28:11)\">mercy</a></td><td class=\"c3\"> قَالَ يَا قَوْمِ أَرَأَيْتُمْ إِنْ كُنْتُ عَلَىٰ بَيِّنَةٍ مِنْ رَبِّي وَآتَانِي <span class=\"auu\">رَحْمَةً</span> مِنْ عِنْدِهِ</td></tr><tr><td class=\"c1\"><span class=\"l\">(11:58:9)</span> <i class=\"ab\">biraḥmatin</i></td><td class=\"c2\"><a href=\"wordmorphology.jsp?location=(11:58:9)\" name=\"(11:58:9)\">by a Mercy</a></td><td class=\"c3\"> وَلَمَّا جَاءَ أَمْرُنَا نَجَّيْنَا هُودًا وَالَّذِينَ آمَنُوا مَعَهُ <span class=\"auu\">بِرَحْمَةٍ</span> مِنَّا</td></tr><tr><td class=\"c1\"><span class=\"l\">(11:63:12)</span> <i class=\"ab\">raḥmatan</i></td><td class=\"c2\"><a href=\"wordmorphology.jsp?location=(11:63:12)\" name=\"(11:63:12)\">a Mercy</a></td><td class=\"c3\"> قَالَ يَا قَوْمِ أَرَأَيْتُمْ إِنْ كُنْتُ عَلَىٰ بَيِّنَةٍ مِنْ رَبِّي وَآتَانِي مِنْهُ <span class=\"auu\">رَحْمَةً</span></td></tr><tr><td class=\"c1\"><span class=\"l\">(11:66:9)</span> <i class=\"ab\">biraḥmatin</i></td><td class=\"c2\"><a href=\"wordmorphology.jsp?location=(11:66:9)\" name=\"(11:66:9)\">by a Mercy</a></td><td class=\"c3\"> فَلَمَّا جَاءَ أَمْرُنَا نَجَّيْنَا صَالِحًا وَالَّذِينَ آمَنُوا مَعَهُ <span class=\"auu\">بِرَحْمَةٍ</span> مِنَّا</td></tr><tr><td class=\"c1\"><span class=\"l\">(11:73:6)</span> <i class=\"ab\">raḥmatu</i></td><td class=\"c2\"><a href=\"wordmorphology.jsp?location=(11:73:6)\" name=\"(11:73:6)\">The Mercy of Allah</a></td><td class=\"c3\"> <span class=\"auu\">رَحْمَتُ</span> اللَّهِ وَبَرَكَاتُهُ عَلَيْكُمْ أَهْلَ الْبَيْتِ إِنَّهُ حَمِيدٌ مَجِيدٌ</td></tr><tr><td class=\"c1\"><span class=\"l\">(11:94:9)</span> <i class=\"ab\">biraḥmatin</i></td><td class=\"c2\"><a href=\"wordmorphology.jsp?location=(11:94:9)\" name=\"(11:94:9)\">by a Mercy</a></td><td class=\"c3\"> وَلَمَّا جَاءَ أَمْرُنَا نَجَّيْنَا شُعَيْبًا وَالَّذِينَ آمَنُوا مَعَهُ <span class=\"auu\">بِرَحْمَةٍ</span> مِنَّا</td></tr><tr><td class=\"c1\"><span class=\"l\">(12:56:11)</span> <i class=\"ab\">biraḥmatinā</i></td><td class=\"c2\"><a href=\"wordmorphology.jsp?location=(12:56:11)\" name=\"(12:56:11)\">Our Mercy</a></td><td class=\"c3\"> نُصِيبُ <span class=\"auu\">بِرَحْمَتِنَا</span> مَنْ نَشَاءُ وَلَا نُضِيعُ أَجْرَ الْمُحْسِنِينَ</td></tr><tr><td class=\"c1\"><span class=\"l\">(12:111:21)</span> <i class=\"ab\">waraḥmatan</i></td><td class=\"c2\"><a href=\"wordmorphology.jsp?location=(12:111:21)\" name=\"(12:111:21)\">and mercy</a></td><td class=\"c3\"> وَلَٰكِنْ تَصْدِيقَ الَّذِي بَيْنَ يَدَيْهِ وَتَفْصِيلَ كُلِّ شَيْءٍ وَهُدًى <span class=\"auu\">وَرَحْمَةً</span> لِقَوْمٍ يُؤْمِنُونَ</td></tr><tr><td class=\"c1\"><span class=\"l\">(15:56:5)</span> <i class=\"ab\">raḥmati</i></td><td class=\"c2\"><a href=\"wordmorphology.jsp?location=(15:56:5)\" name=\"(15:56:5)\">(the) Mercy</a></td><td class=\"c3\"> قَالَ وَمَنْ يَقْنَطُ مِنْ <span class=\"auu\">رَحْمَةِ</span> رَبِّهِ إِلَّا الضَّالُّونَ</td></tr><tr><td class=\"c1\"><span class=\"l\">(16:64:12)</span> <i class=\"ab\">waraḥmatan</i></td><td class=\"c2\"><a href=\"wordmorphology.jsp?location=(16:64:12)\" name=\"(16:64:12)\">and mercy</a></td><td class=\"c3\"> إِلَّا لِتُبَيِّنَ لَهُمُ الَّذِي اخْتَلَفُوا فِيهِ وَهُدًى <span class=\"auu\">وَرَحْمَةً</span> لِقَوْمٍ يُؤْمِنُونَ</td></tr><tr><td class=\"c1\"><span class=\"l\">(16:89:22)</span> <i class=\"ab\">waraḥmatan</i></td><td class=\"c2\"><a href=\"wordmorphology.jsp?location=(16:89:22)\" name=\"(16:89:22)\">and mercy</a></td><td class=\"c3\"> وَنَزَّلْنَا عَلَيْكَ الْكِتَابَ تِبْيَانًا لِكُلِّ شَيْءٍ وَهُدًى <span class=\"auu\">وَرَحْمَةً</span> وَبُشْرَىٰ لِلْمُسْلِمِينَ</td></tr><tr><td class=\"c1\"><span class=\"l\">(17:24:6)</span> <i class=\"ab\">l-raḥmati</i></td><td class=\"c2\"><a href=\"wordmorphology.jsp?location=(17:24:6)\" name=\"(17:24:6)\">[the] mercy</a></td><td class=\"c3\"> وَاخْفِضْ لَهُمَا جَنَاحَ الذُّلِّ مِنَ <span class=\"auu\">الرَّحْمَةِ</span></td></tr><tr><td class=\"c1\"><span class=\"l\">(17:28:5)</span> <i class=\"ab\">raḥmatin</i></td><td class=\"c2\"><a href=\"wordmorphology.jsp?location=(17:28:5)\" name=\"(17:28:5)\">mercy</a></td><td class=\"c3\"> وَإِمَّا تُعْرِضَنَّ عَنْهُمُ ابْتِغَاءَ <span class=\"auu\">رَحْمَةٍ</span> مِنْ رَبِّكَ تَرْجُوهَا فَقُلْ لَهُمْ قَوْلًا مَيْسُورًا</td></tr><tr><td class=\"c1\"><span class=\"l\">(17:57:11)</span> <i class=\"ab\">raḥmatahu</i></td><td class=\"c2\"><a href=\"wordmorphology.jsp?location=(17:57:11)\" name=\"(17:57:11)\">(for) His mercy</a></td><td class=\"c3\"> يَبْتَغُونَ إِلَىٰ رَبِّهِمُ الْوَسِيلَةَ أَيُّهُمْ أَقْرَبُ وَيَرْجُونَ <span class=\"auu\">رَحْمَتَهُ</span></td></tr><tr><td class=\"c1\"><span class=\"l\">(17:82:7)</span> <i class=\"ab\">waraḥmatun</i></td><td class=\"c2\"><a href=\"wordmorphology.jsp?location=(17:82:7)\" name=\"(17:82:7)\">and a mercy</a></td><td class=\"c3\"> وَنُنَزِّلُ مِنَ الْقُرْآنِ مَا هُوَ شِفَاءٌ <span class=\"auu\">وَرَحْمَةٌ</span> لِلْمُؤْمِنِينَ</td></tr><tr><td class=\"c1\"><span class=\"l\">(17:87:2)</span> <i class=\"ab\">raḥmatan</i></td><td class=\"c2\"><a href=\"wordmorphology.jsp?location=(17:87:2)\" name=\"(17:87:2)\">a mercy</a></td><td class=\"c3\"> إِلَّا <span class=\"auu\">رَحْمَةً</span> مِنْ رَبِّكَ إِنَّ فَضْلَهُ كَانَ عَلَيْكَ كَبِيرًا</td></tr><tr><td class=\"c1\"><span class=\"l\">(17:100:6)</span> <i class=\"ab\">raḥmati</i></td><td class=\"c2\"><a href=\"wordmorphology.jsp?location=(17:100:6)\" name=\"(17:100:6)\">(of) the Mercy</a></td><td class=\"c3\"> قُلْ لَوْ أَنْتُمْ تَمْلِكُونَ خَزَائِنَ <span class=\"auu\">رَحْمَةِ</span> رَبِّي إِذًا لَأَمْسَكْتُمْ خَشْيَةَ الْإِنْفَاقِ</td></tr><tr><td class=\"c1\"><span class=\"l\">(18:10:11)</span> <i class=\"ab\">raḥmatan</i></td><td class=\"c2\"><a href=\"wordmorphology.jsp?location=(18:10:11)\" name=\"(18:10:11)\">Mercy</a></td><td class=\"c3\"> رَبَّنَا آتِنَا مِنْ لَدُنْكَ <span class=\"auu\">رَحْمَةً</span> وَهَيِّئْ لَنَا مِنْ أَمْرِنَا رَشَدًا</td></tr><tr><td class=\"c1\"><span class=\"l\">(18:16:14)</span> <i class=\"ab\">raḥmatihi</i></td><td class=\"c2\"><a href=\"wordmorphology.jsp?location=(18:16:14)\" name=\"(18:16:14)\">His Mercy</a></td><td class=\"c3\"> فَأْوُوا إِلَى الْكَهْفِ يَنْشُرْ لَكُمْ رَبُّكُمْ مِنْ <span class=\"auu\">رَحْمَتِهِ</span></td></tr><tr><td class=\"c1\"><span class=\"l\">(18:58:4)</span> <i class=\"ab\">l-raḥmati</i></td><td class=\"c2\"><a href=\"wordmorphology.jsp?location=(18:58:4)\" name=\"(18:58:4)\">(of) the Mercy</a></td><td class=\"c3\"> وَرَبُّكَ الْغَفُورُ ذُو <span class=\"auu\">الرَّحْمَةِ</span></td></tr><tr><td class=\"c1\"><span class=\"l\">(18:65:6)</span> <i class=\"ab\">raḥmatan</i></td><td class=\"c2\"><a href=\"wordmorphology.jsp?location=(18:65:6)\" name=\"(18:65:6)\">mercy</a></td><td class=\"c3\"> فَوَجَدَا عَبْدًا مِنْ عِبَادِنَا آتَيْنَاهُ <span class=\"auu\">رَحْمَةً</span> مِنْ عِنْدِنَا</td></tr><tr><td class=\"c1\"><span class=\"l\">(18:82:22)</span> <i class=\"ab\">raḥmatan</i></td><td class=\"c2\"><a href=\"wordmorphology.jsp?location=(18:82:22)\" name=\"(18:82:22)\">(as) a mercy</a></td><td class=\"c3\"> فَأَرَادَ رَبُّكَ أَنْ يَبْلُغَا أَشُدَّهُمَا وَيَسْتَخْرِجَا كَنْزَهُمَا <span class=\"auu\">رَحْمَةً</span> مِنْ رَبِّكَ</td></tr><tr><td class=\"c1\"><span class=\"l\">(18:98:3)</span> <i class=\"ab\">raḥmatun</i></td><td class=\"c2\"><a href=\"wordmorphology.jsp?location=(18:98:3)\" name=\"(18:98:3)\">(is) a mercy</a></td><td class=\"c3\"> قَالَ هَٰذَا <span class=\"auu\">رَحْمَةٌ</span> مِنْ رَبِّي فَإِذَا جَاءَ وَعْدُ رَبِّي جَعَلَهُ دَكَّاءَ</td></tr><tr><td class=\"c1\"><span class=\"l\">(19:2:2)</span> <i class=\"ab\">raḥmati</i></td><td class=\"c2\"><a href=\"wordmorphology.jsp?location=(19:2:2)\" name=\"(19:2:2)\">(of the) Mercy</a></td><td class=\"c3\"> ذِكْرُ <span class=\"auu\">رَحْمَتِ</span> رَبِّكَ عَبْدَهُ زَكَرِيَّا</td></tr><tr><td class=\"c1\"><span class=\"l\">(19:21:11)</span> <i class=\"ab\">waraḥmatan</i></td><td class=\"c2\"><a href=\"wordmorphology.jsp?location=(19:21:11)\" name=\"(19:21:11)\">and a Mercy</a></td><td class=\"c3\"> وَلِنَجْعَلَهُ آيَةً لِلنَّاسِ <span class=\"auu\">وَرَحْمَةً</span> مِنَّا وَكَانَ أَمْرًا مَقْضِيًّا</td></tr><tr><td class=\"c1\"><span class=\"l\">(19:50:4)</span> <i class=\"ab\">raḥmatinā</i></td><td class=\"c2\"><a href=\"wordmorphology.jsp?location=(19:50:4)\" name=\"(19:50:4)\">Our Mercy</a></td><td class=\"c3\"> وَوَهَبْنَا لَهُمْ مِنْ <span class=\"auu\">رَحْمَتِنَا</span> وَجَعَلْنَا لَهُمْ لِسَانَ صِدْقٍ عَلِيًّا</td></tr><tr><td class=\"c1\"><span class=\"l\">(19:53:4)</span> <i class=\"ab\">raḥmatinā</i></td><td class=\"c2\"><a href=\"wordmorphology.jsp?location=(19:53:4)\" name=\"(19:53:4)\">Our Mercy</a></td><td class=\"c3\"> وَوَهَبْنَا لَهُ مِنْ <span class=\"auu\">رَحْمَتِنَا</span> أَخَاهُ هَارُونَ نَبِيًّا</td></tr><tr><td class=\"c1\"><span class=\"l\">(21:75:3)</span> <i class=\"ab\">raḥmatinā</i></td><td class=\"c2\"><a href=\"wordmorphology.jsp?location=(21:75:3)\" name=\"(21:75:3)\">Our Mercy</a></td><td class=\"c3\"> وَأَدْخَلْنَاهُ فِي <span class=\"auu\">رَحْمَتِنَا</span> إِنَّهُ مِنَ الصَّالِحِينَ</td></tr><tr><td class=\"c1\"><span class=\"l\">(21:84:12)</span> <i class=\"ab\">raḥmatan</i></td><td class=\"c2\"><a href=\"wordmorphology.jsp?location=(21:84:12)\" name=\"(21:84:12)\">(as) Mercy</a></td><td class=\"c3\"> وَآتَيْنَاهُ أَهْلَهُ وَمِثْلَهُمْ مَعَهُمْ <span class=\"auu\">رَحْمَةً</span> مِنْ عِنْدِنَا وَذِكْرَىٰ لِلْعَابِدِينَ</td></tr><tr><td class=\"c1\"><span class=\"l\">(21:86:3)</span> <i class=\"ab\">raḥmatinā</i></td><td class=\"c2\"><a href=\"wordmorphology.jsp?location=(21:86:3)\" name=\"(21:86:3)\">Our Mercy</a></td><td class=\"c3\"> وَأَدْخَلْنَاهُمْ فِي <span class=\"auu\">رَحْمَتِنَا</span> إِنَّهُمْ مِنَ الصَّالِحِينَ</td></tr><tr><td class=\"c1\"><span class=\"l\">(21:107:4)</span> <i class=\"ab\">raḥmatan</i></td><td class=\"c2\"><a href=\"wordmorphology.jsp?location=(21:107:4)\" name=\"(21:107:4)\">(as) a mercy</a></td><td class=\"c3\"> وَمَا أَرْسَلْنَاكَ إِلَّا <span class=\"auu\">رَحْمَةً</span> لِلْعَالَمِينَ</td></tr><tr><td class=\"c1\"><span class=\"l\">(24:10:5)</span> <i class=\"ab\">waraḥmatuhu</i></td><td class=\"c2\"><a href=\"wordmorphology.jsp?location=(24:10:5)\" name=\"(24:10:5)\">and His Mercy </a></td><td class=\"c3\"> وَلَوْلَا فَضْلُ اللَّهِ عَلَيْكُمْ <span class=\"auu\">وَرَحْمَتُهُ</span> وَأَنَّ اللَّهَ تَوَّابٌ حَكِيمٌ</td></tr><tr><td class=\"c1\"><span class=\"l\">(24:14:5)</span> <i class=\"ab\">waraḥmatuhu</i></td><td class=\"c2\"><a href=\"wordmorphology.jsp?location=(24:14:5)\" name=\"(24:14:5)\">and His Mercy</a></td><td class=\"c3\"> وَلَوْلَا فَضْلُ اللَّهِ عَلَيْكُمْ <span class=\"auu\">وَرَحْمَتُهُ</span> فِي الدُّنْيَا وَالْآخِرَةِ لَمَسَّكُمْ فِي مَا أَفَضْتُمْ فِيهِ عَذَابٌ عَظِيمٌ</td></tr><tr><td class=\"c1\"><span class=\"l\">(24:20:5)</span> <i class=\"ab\">waraḥmatuhu</i></td><td class=\"c2\"><a href=\"wordmorphology.jsp?location=(24:20:5)\" name=\"(24:20:5)\">and His Mercy</a></td><td class=\"c3\"> وَلَوْلَا فَضْلُ اللَّهِ عَلَيْكُمْ <span class=\"auu\">وَرَحْمَتُهُ</span> وَأَنَّ اللَّهَ رَءُوفٌ رَحِيمٌ</td></tr><tr><td class=\"c1\"><span class=\"l\">(24:21:20)</span> <i class=\"ab\">waraḥmatuhu</i></td><td class=\"c2\"><a href=\"wordmorphology.jsp?location=(24:21:20)\" name=\"(24:21:20)\">and His Mercy</a></td><td class=\"c3\"> وَلَوْلَا فَضْلُ اللَّهِ عَلَيْكُمْ <span class=\"auu\">وَرَحْمَتُهُ</span> مَا زَكَىٰ مِنْكُمْ مِنْ أَحَدٍ أَبَدًا</td></tr><tr><td class=\"c1\"><span class=\"l\">(25:48:8)</span> <i class=\"ab\">raḥmatihi</i></td><td class=\"c2\"><a href=\"wordmorphology.jsp?location=(25:48:8)\" name=\"(25:48:8)\">His Mercy</a></td><td class=\"c3\"> وَهُوَ الَّذِي أَرْسَلَ الرِّيَاحَ بُشْرًا بَيْنَ يَدَيْ <span class=\"auu\">رَحْمَتِهِ</span></td></tr><tr><td class=\"c1\"><span class=\"l\">(27:19:21)</span> <i class=\"ab\">biraḥmatika</i></td><td class=\"c2\"><a href=\"wordmorphology.jsp?location=(27:19:21)\" name=\"(27:19:21)\">by Your Mercy</a></td><td class=\"c3\"> وَأَدْخِلْنِي <span class=\"auu\">بِرَحْمَتِكَ</span> فِي عِبَادِكَ الصَّالِحِينَ</td></tr><tr><td class=\"c1\"><span class=\"l\">(27:63:13)</span> <i class=\"ab\">raḥmatihi</i></td><td class=\"c2\"><a href=\"wordmorphology.jsp?location=(27:63:13)\" name=\"(27:63:13)\">His Mercy</a></td><td class=\"c3\"> وَمَنْ يُرْسِلُ الرِّيَاحَ بُشْرًا بَيْنَ يَدَيْ <span class=\"auu\">رَحْمَتِهِ</span></td></tr><tr><td class=\"c1\"><span class=\"l\">(27:77:3)</span> <i class=\"ab\">waraḥmatun</i></td><td class=\"c2\"><a href=\"wordmorphology.jsp?location=(27:77:3)\" name=\"(27:77:3)\">and a mercy</a></td><td class=\"c3\"> وَإِنَّهُ لَهُدًى <span class=\"auu\">وَرَحْمَةٌ</span> لِلْمُؤْمِنِينَ</td></tr><tr><td class=\"c1\"><span class=\"l\">(28:43:14)</span> <i class=\"ab\">waraḥmatan</i></td><td class=\"c2\"><a href=\"wordmorphology.jsp?location=(28:43:14)\" name=\"(28:43:14)\">and mercy</a></td><td class=\"c3\"> بَصَائِرَ لِلنَّاسِ وَهُدًى <span class=\"auu\">وَرَحْمَةً</span> لَعَلَّهُمْ يَتَذَكَّرُونَ</td></tr><tr><td class=\"c1\"><span class=\"l\">(28:46:8)</span> <i class=\"ab\">raḥmatan</i></td><td class=\"c2\"><a href=\"wordmorphology.jsp?location=(28:46:8)\" name=\"(28:46:8)\">(as) a mercy</a></td><td class=\"c3\"> وَمَا كُنْتَ بِجَانِبِ الطُّورِ إِذْ نَادَيْنَا وَلَٰكِنْ <span class=\"auu\">رَحْمَةً</span> مِنْ رَبِّكَ</td></tr><tr><td class=\"c1\"><span class=\"l\">(28:73:2)</span> <i class=\"ab\">raḥmatihi</i></td><td class=\"c2\"><a href=\"wordmorphology.jsp?location=(28:73:2)\" name=\"(28:73:2)\">His Mercy</a></td><td class=\"c3\"> وَمِنْ <span class=\"auu\">رَحْمَتِهِ</span> جَعَلَ لَكُمُ اللَّيْلَ وَالنَّهَارَ لِتَسْكُنُوا فِيهِ وَلِتَبْتَغُوا مِنْ فَضْلِهِ</td></tr><tr><td class=\"c1\"><span class=\"l\">(28:86:9)</span> <i class=\"ab\">raḥmatan</i></td><td class=\"c2\"><a href=\"wordmorphology.jsp?location=(28:86:9)\" name=\"(28:86:9)\">(as) a mercy</a></td><td class=\"c3\"> وَمَا كُنْتَ تَرْجُو أَنْ يُلْقَىٰ إِلَيْكَ الْكِتَابُ إِلَّا <span class=\"auu\">رَحْمَةً</span> مِنْ رَبِّكَ</td></tr><tr><td class=\"c1\"><span class=\"l\">(29:23:9)</span> <i class=\"ab\">raḥmatī</i></td><td class=\"c2\"><a href=\"wordmorphology.jsp?location=(29:23:9)\" name=\"(29:23:9)\">My Mercy</a></td><td class=\"c3\"> وَالَّذِينَ كَفَرُوا بِآيَاتِ اللَّهِ وَلِقَائِهِ أُولَٰئِكَ يَئِسُوا مِنْ <span class=\"auu\">رَحْمَتِي</span></td></tr><tr><td class=\"c1\"><span class=\"l\">(29:51:12)</span> <i class=\"ab\">laraḥmatan</i></td><td class=\"c2\"><a href=\"wordmorphology.jsp?location=(29:51:12)\" name=\"(29:51:12)\">surely is a mercy</a></td><td class=\"c3\"> إِنَّ فِي ذَٰلِكَ <span class=\"auu\">لَرَحْمَةً</span> وَذِكْرَىٰ لِقَوْمٍ يُؤْمِنُونَ</td></tr><tr><td class=\"c1\"><span class=\"l\">(30:21:14)</span> <i class=\"ab\">waraḥmatan</i></td><td class=\"c2\"><a href=\"wordmorphology.jsp?location=(30:21:14)\" name=\"(30:21:14)\">and mercy</a></td><td class=\"c3\"> وَمِنْ آيَاتِهِ أَنْ خَلَقَ لَكُمْ مِنْ أَنْفُسِكُمْ أَزْوَاجًا لِتَسْكُنُوا إِلَيْهَا وَجَعَلَ بَيْنَكُمْ مَوَدَّةً <span class=\"auu\">وَرَحْمَةً</span></td></tr><tr><td class=\"c1\"><span class=\"l\">(30:33:13)</span> <i class=\"ab\">raḥmatan</i></td><td class=\"c2\"><a href=\"wordmorphology.jsp?location=(30:33:13)\" name=\"(30:33:13)\">Mercy</a></td><td class=\"c3\"> ثُمَّ إِذَا أَذَاقَهُمْ مِنْهُ <span class=\"auu\">رَحْمَةً</span> إِذَا فَرِيقٌ مِنْهُمْ بِرَبِّهِمْ يُشْرِكُونَ</td></tr><tr><td class=\"c1\"><span class=\"l\">(30:36:4)</span> <i class=\"ab\">raḥmatan</i></td><td class=\"c2\"><a href=\"wordmorphology.jsp?location=(30:36:4)\" name=\"(30:36:4)\">mercy</a></td><td class=\"c3\"> وَإِذَا أَذَقْنَا النَّاسَ <span class=\"auu\">رَحْمَةً</span> فَرِحُوا بِهَا</td></tr><tr><td class=\"c1\"><span class=\"l\">(30:46:9)</span> <i class=\"ab\">raḥmatihi</i></td><td class=\"c2\"><a href=\"wordmorphology.jsp?location=(30:46:9)\" name=\"(30:46:9)\">His Mercy</a></td><td class=\"c3\"> وَمِنْ آيَاتِهِ أَنْ يُرْسِلَ الرِّيَاحَ مُبَشِّرَاتٍ وَلِيُذِيقَكُمْ مِنْ <span class=\"auu\">رَحْمَتِهِ</span></td></tr><tr><td class=\"c1\"><span class=\"l\">(30:50:4)</span> <i class=\"ab\">raḥmati</i></td><td class=\"c2\"><a href=\"wordmorphology.jsp?location=(30:50:4)\" name=\"(30:50:4)\">(of the) Mercy</a></td><td class=\"c3\"> فَانْظُرْ إِلَىٰ آثَارِ <span class=\"auu\">رَحْمَتِ</span> اللَّهِ كَيْفَ يُحْيِي الْأَرْضَ بَعْدَ مَوْتِهَا</td></tr><tr><td class=\"c1\"><span class=\"l\">(31:3:2)</span> <i class=\"ab\">waraḥmatan</i></td><td class=\"c2\"><a href=\"wordmorphology.jsp?location=(31:3:2)\" name=\"(31:3:2)\">and a mercy</a></td><td class=\"c3\"> هُدًى <span class=\"auu\">وَرَحْمَةً</span> لِلْمُحْسِنِينَ</td></tr><tr><td class=\"c1\"><span class=\"l\">(33:17:15)</span> <i class=\"ab\">raḥmatan</i></td><td class=\"c2\"><a href=\"wordmorphology.jsp?location=(33:17:15)\" name=\"(33:17:15)\">a mercy</a></td><td class=\"c3\"> قُلْ مَنْ ذَا الَّذِي يَعْصِمُكُمْ مِنَ اللَّهِ إِنْ أَرَادَ بِكُمْ سُوءًا أَوْ أَرَادَ بِكُمْ <span class=\"auu\">رَحْمَةً</span></td></tr><tr><td class=\"c1\"><span class=\"l\">(35:2:6)</span> <i class=\"ab\">raḥmatin</i></td><td class=\"c2\"><a href=\"wordmorphology.jsp?location=(35:2:6)\" name=\"(35:2:6)\">Mercy</a></td><td class=\"c3\"> مَا يَفْتَحِ اللَّهُ لِلنَّاسِ مِنْ <span class=\"auu\">رَحْمَةٍ</span> فَلَا مُمْسِكَ لَهَا</td></tr><tr><td class=\"c1\"><span class=\"l\">(36:44:2)</span> <i class=\"ab\">raḥmatan</i></td><td class=\"c2\"><a href=\"wordmorphology.jsp?location=(36:44:2)\" name=\"(36:44:2)\">(by) Mercy</a></td><td class=\"c3\"> إِلَّا <span class=\"auu\">رَحْمَةً</span> مِنَّا وَمَتَاعًا إِلَىٰ حِينٍ</td></tr><tr><td class=\"c1\"><span class=\"l\">(38:9:4)</span> <i class=\"ab\">raḥmati</i></td><td class=\"c2\"><a href=\"wordmorphology.jsp?location=(38:9:4)\" name=\"(38:9:4)\">(of the) Mercy</a></td><td class=\"c3\"> أَمْ عِنْدَهُمْ خَزَائِنُ <span class=\"auu\">رَحْمَةِ</span> رَبِّكَ الْعَزِيزِ الْوَهَّابِ</td></tr><tr><td class=\"c1\"><span class=\"l\">(38:43:6)</span> <i class=\"ab\">raḥmatan</i></td><td class=\"c2\"><a href=\"wordmorphology.jsp?location=(38:43:6)\" name=\"(38:43:6)\">a Mercy</a></td><td class=\"c3\"> وَوَهَبْنَا لَهُ أَهْلَهُ وَمِثْلَهُمْ مَعَهُمْ <span class=\"auu\">رَحْمَةً</span> مِنَّا</td></tr><tr><td class=\"c1\"><span class=\"l\">(39:9:11)</span> <i class=\"ab\">raḥmata</i></td><td class=\"c2\"><a href=\"wordmorphology.jsp?location=(39:9:11)\" name=\"(39:9:11)\">(for the) Mercy</a></td><td class=\"c3\"> يَحْذَرُ الْآخِرَةَ وَيَرْجُو <span class=\"auu\">رَحْمَةَ</span> رَبِّهِ</td></tr><tr><td class=\"c1\"><span class=\"l\">(39:38:26)</span> <i class=\"ab\">biraḥmatin</i></td><td class=\"c2\"><a href=\"wordmorphology.jsp?location=(39:38:26)\" name=\"(39:38:26)\">mercy</a></td><td class=\"c3\"> أَوْ أَرَادَنِي <span class=\"auu\">بِرَحْمَةٍ</span> هَلْ هُنَّ مُمْسِكَاتُ رَحْمَتِهِ</td></tr><tr><td class=\"c1\"><span class=\"l\">(39:38:30)</span> <i class=\"ab\">raḥmatihi</i></td><td class=\"c2\"><a href=\"wordmorphology.jsp?location=(39:38:30)\" name=\"(39:38:30)\">(of) His mercy</a></td><td class=\"c3\"> أَوْ أَرَادَنِي بِرَحْمَةٍ هَلْ هُنَّ مُمْسِكَاتُ <span class=\"auu\">رَحْمَتِهِ</span></td></tr><tr><td class=\"c1\"><span class=\"l\">(39:53:10)</span> <i class=\"ab\">raḥmati</i></td><td class=\"c2\"><a href=\"wordmorphology.jsp?location=(39:53:10)\" name=\"(39:53:10)\">(the) Mercy</a></td><td class=\"c3\"> قُلْ يَا عِبَادِيَ الَّذِينَ أَسْرَفُوا عَلَىٰ أَنْفُسِهِمْ لَا تَقْنَطُوا مِنْ <span class=\"auu\">رَحْمَةِ</span> اللَّهِ</td></tr><tr><td class=\"c1\"><span class=\"l\">(40:7:18)</span> <i class=\"ab\">raḥmatan</i></td><td class=\"c2\"><a href=\"wordmorphology.jsp?location=(40:7:18)\" name=\"(40:7:18)\">(by Your) Mercy</a></td><td class=\"c3\"> رَبَّنَا وَسِعْتَ كُلَّ شَيْءٍ <span class=\"auu\">رَحْمَةً</span> وَعِلْمًا</td></tr><tr><td class=\"c1\"><span class=\"l\">(41:50:3)</span> <i class=\"ab\">raḥmatan</i></td><td class=\"c2\"><a href=\"wordmorphology.jsp?location=(41:50:3)\" name=\"(41:50:3)\">mercy</a></td><td class=\"c3\"> وَلَئِنْ أَذَقْنَاهُ <span class=\"auu\">رَحْمَةً</span> مِنَّا مِنْ بَعْدِ ضَرَّاءَ مَسَّتْهُ لَيَقُولَنَّ هَٰذَا لِي</td></tr><tr><td class=\"c1\"><span class=\"l\">(42:8:12)</span> <i class=\"ab\">raḥmatihi</i></td><td class=\"c2\"><a href=\"wordmorphology.jsp?location=(42:8:12)\" name=\"(42:8:12)\">His Mercy</a></td><td class=\"c3\"> وَلَٰكِنْ يُدْخِلُ مَنْ يَشَاءُ فِي <span class=\"auu\">رَحْمَتِهِ</span></td></tr><tr><td class=\"c1\"><span class=\"l\">(42:28:10)</span> <i class=\"ab\">raḥmatahu</i></td><td class=\"c2\"><a href=\"wordmorphology.jsp?location=(42:28:10)\" name=\"(42:28:10)\">His mercy</a></td><td class=\"c3\"> وَهُوَ الَّذِي يُنَزِّلُ الْغَيْثَ مِنْ بَعْدِ مَا قَنَطُوا وَيَنْشُرُ <span class=\"auu\">رَحْمَتَهُ</span></td></tr><tr><td class=\"c1\"><span class=\"l\">(42:48:16)</span> <i class=\"ab\">raḥmatan</i></td><td class=\"c2\"><a href=\"wordmorphology.jsp?location=(42:48:16)\" name=\"(42:48:16)\">Mercy</a></td><td class=\"c3\"> وَإِنَّا إِذَا أَذَقْنَا الْإِنْسَانَ مِنَّا <span class=\"auu\">رَحْمَةً</span> فَرِحَ بِهَا</td></tr><tr><td class=\"c1\"><span class=\"l\">(43:32:3)</span> <i class=\"ab\">raḥmata</i></td><td class=\"c2\"><a href=\"wordmorphology.jsp?location=(43:32:3)\" name=\"(43:32:3)\">(the) Mercy</a></td><td class=\"c3\"> أَهُمْ يَقْسِمُونَ <span class=\"auu\">رَحْمَتَ</span> رَبِّكَ</td></tr><tr><td class=\"c1\"><span class=\"l\">(43:32:21)</span> <i class=\"ab\">waraḥmatu</i></td><td class=\"c2\"><a href=\"wordmorphology.jsp?location=(43:32:21)\" name=\"(43:32:21)\">But (the) Mercy</a></td><td class=\"c3\"> <span class=\"auu\">وَرَحْمَتُ</span> رَبِّكَ خَيْرٌ مِمَّا يَجْمَعُونَ</td></tr><tr><td class=\"c1\"><span class=\"l\">(44:6:1)</span> <i class=\"ab\">raḥmatan</i></td><td class=\"c2\"><a href=\"wordmorphology.jsp?location=(44:6:1)\" name=\"(44:6:1)\">As Mercy</a></td><td class=\"c3\"> <span class=\"auu\">رَحْمَةً</span> مِنْ رَبِّكَ إِنَّهُ هُوَ السَّمِيعُ الْعَلِيمُ</td></tr><tr><td class=\"c1\"><span class=\"l\">(45:20:5)</span> <i class=\"ab\">waraḥmatun</i></td><td class=\"c2\"><a href=\"wordmorphology.jsp?location=(45:20:5)\" name=\"(45:20:5)\">and mercy</a></td><td class=\"c3\"> هَٰذَا بَصَائِرُ لِلنَّاسِ وَهُدًى <span class=\"auu\">وَرَحْمَةٌ</span> لِقَوْمٍ يُوقِنُونَ</td></tr><tr><td class=\"c1\"><span class=\"l\">(45:30:9)</span> <i class=\"ab\">raḥmatihi</i></td><td class=\"c2\"><a href=\"wordmorphology.jsp?location=(45:30:9)\" name=\"(45:30:9)\">His mercy</a></td><td class=\"c3\"> فَأَمَّا الَّذِينَ آمَنُوا وَعَمِلُوا الصَّالِحَاتِ فَيُدْخِلُهُمْ رَبُّهُمْ فِي <span class=\"auu\">رَحْمَتِهِ</span></td></tr><tr><td class=\"c1\"><span class=\"l\">(46:12:6)</span> <i class=\"ab\">waraḥmatan</i></td><td class=\"c2\"><a href=\"wordmorphology.jsp?location=(46:12:6)\" name=\"(46:12:6)\">and a mercy</a></td><td class=\"c3\"> وَمِنْ قَبْلِهِ كِتَابُ مُوسَىٰ إِمَامًا <span class=\"auu\">وَرَحْمَةً</span></td></tr><tr><td class=\"c1\"><span class=\"l\">(48:25:30)</span> <i class=\"ab\">raḥmatihi</i></td><td class=\"c2\"><a href=\"wordmorphology.jsp?location=(48:25:30)\" name=\"(48:25:30)\">His Mercy</a></td><td class=\"c3\"> لِيُدْخِلَ اللَّهُ فِي <span class=\"auu\">رَحْمَتِهِ</span> مَنْ يَشَاءُ</td></tr><tr><td class=\"c1\"><span class=\"l\">(57:13:23)</span> <i class=\"ab\">l-raḥmatu</i></td><td class=\"c2\"><a href=\"wordmorphology.jsp?location=(57:13:23)\" name=\"(57:13:23)\">(is) mercy</a></td><td class=\"c3\"> بَاطِنُهُ فِيهِ <span class=\"auu\">الرَّحْمَةُ</span> وَظَاهِرُهُ مِنْ قِبَلِهِ الْعَذَابُ</td></tr><tr><td class=\"c1\"><span class=\"l\">(57:27:18)</span> <i class=\"ab\">waraḥmatan</i></td><td class=\"c2\"><a href=\"wordmorphology.jsp?location=(57:27:18)\" name=\"(57:27:18)\">and mercy</a></td><td class=\"c3\"> وَجَعَلْنَا فِي قُلُوبِ الَّذِينَ اتَّبَعُوهُ رَأْفَةً <span class=\"auu\">وَرَحْمَةً</span></td></tr><tr><td class=\"c1\"><span class=\"l\">(57:28:11)</span> <i class=\"ab\">raḥmatihi</i></td><td class=\"c2\"><a href=\"wordmorphology.jsp?location=(57:28:11)\" name=\"(57:28:11)\">His Mercy</a></td><td class=\"c3\"> اتَّقُوا اللَّهَ وَآمِنُوا بِرَسُولِهِ يُؤْتِكُمْ كِفْلَيْنِ مِنْ <span class=\"auu\">رَحْمَتِهِ</span></td></tr><tr><td class=\"c1\"><span class=\"l\">(76:31:5)</span> <i class=\"ab\">raḥmatihi</i></td><td class=\"c2\"><a href=\"wordmorphology.jsp?location=(76:31:5)\" name=\"(76:31:5)\">His mercy</a></td><td class=\"c3\"> يُدْخِلُ مَنْ يَشَاءُ فِي <span class=\"auu\">رَحْمَتِهِ</span> وَالظَّالِمِينَ أَعَدَّ لَهُمْ عَذَابًا أَلِيمًا</td></tr></table><h4 class=\"dxe\">Nominal</h4><p class=\"dxt\" style=\"margin-top:0\">(1) Adjective</p><table border=\"0\" cellpadding=\"0\" cellspacing=\"0\" class=\"taf\"><tr><td class=\"c1\"><span class=\"l\">(1:1:4)</span> <i class=\"ab\">l-raḥīmi</i></td><td class=\"c2\"><a href=\"wordmorphology.jsp?location=(1:1:4)\" name=\"(1:1:4)\">the Most Merciful</a></td><td class=\"c3\"> بِسْمِ اللَّهِ الرَّحْمَٰنِ <span class=\"auu\">الرَّحِيمِ</span></td></tr><tr><td class=\"c1\"><span class=\"l\">(1:3:2)</span> <i class=\"ab\">l-raḥīmi</i></td><td class=\"c2\"><a href=\"wordmorphology.jsp?location=(1:3:2)\" name=\"(1:3:2)\">the Most Merciful</a></td><td class=\"c3\"> الرَّحْمَٰنِ <span class=\"auu\">الرَّحِيمِ</span></td></tr><tr><td class=\"c1\"><span class=\"l\">(2:37:11)</span> <i class=\"ab\">l-raḥīmu</i></td><td class=\"c2\"><a href=\"wordmorphology.jsp?location=(2:37:11)\" name=\"(2:37:11)\">the Most Merciful</a></td><td class=\"c3\"> فَتَلَقَّىٰ آدَمُ مِنْ رَبِّهِ كَلِمَاتٍ فَتَابَ عَلَيْهِ إِنَّهُ هُوَ التَّوَّابُ <span class=\"auu\">الرَّحِيمُ</span></td></tr><tr><td class=\"c1\"><span class=\"l\">(2:54:26)</span> <i class=\"ab\">l-raḥīmu</i></td><td class=\"c2\"><a href=\"wordmorphology.jsp?location=(2:54:26)\" name=\"(2:54:26)\">the Most Merciful</a></td><td class=\"c3\"> ذَٰلِكُمْ خَيْرٌ لَكُمْ عِنْدَ بَارِئِكُمْ فَتَابَ عَلَيْكُمْ إِنَّهُ هُوَ التَّوَّابُ <span class=\"auu\">الرَّحِيمُ</span></td></tr><tr><td class=\"c1\"><span class=\"l\">(2:128:17)</span> <i class=\"ab\">l-raḥīmu</i></td><td class=\"c2\"><a href=\"wordmorphology.jsp?location=(2:128:17)\" name=\"(2:128:17)\">the Most Merciful</a></td><td class=\"c3\"> وَأَرِنَا مَنَاسِكَنَا وَتُبْ عَلَيْنَا إِنَّكَ أَنْتَ التَّوَّابُ <span class=\"auu\">الرَّحِيمُ</span></td></tr><tr><td class=\"c1\"><span class=\"l\">(2:143:45)</span> <i class=\"ab\">raḥīmun</i></td><td class=\"c2\"><a href=\"wordmorphology.jsp?location=(2:143:45)\" name=\"(2:143:45)\">Most Merciful</a></td><td class=\"c3\"> وَمَا كَانَ اللَّهُ لِيُضِيعَ إِيمَانَكُمْ إِنَّ اللَّهَ بِالنَّاسِ لَرَءُوفٌ <span class=\"auu\">رَحِيمٌ</span></td></tr><tr><td class=\"c1\"><span class=\"l\">(2:160:11)</span> <i class=\"ab\">l-raḥīmu</i></td><td class=\"c2\"><a href=\"wordmorphology.jsp?location=(2:160:11)\" name=\"(2:160:11)\">the Most Merciful</a></td><td class=\"c3\"> فَأُولَٰئِكَ أَتُوبُ عَلَيْهِمْ وَأَنَا التَّوَّابُ <span class=\"auu\">الرَّحِيمُ</span></td></tr><tr><td class=\"c1\"><span class=\"l\">(2:163:9)</span> <i class=\"ab\">l-raḥīmu</i></td><td class=\"c2\"><a href=\"wordmorphology.jsp?location=(2:163:9)\" name=\"(2:163:9)\">the Most Merciful</a></td><td class=\"c3\"> وَإِلَٰهُكُمْ إِلَٰهٌ وَاحِدٌ لَا إِلَٰهَ إِلَّا هُوَ الرَّحْمَٰنُ <span class=\"auu\">الرَّحِيمُ</span></td></tr><tr><td class=\"c1\"><span class=\"l\">(2:173:25)</span> <i class=\"ab\">raḥīmun</i></td><td class=\"c2\"><a href=\"wordmorphology.jsp?location=(2:173:25)\" name=\"(2:173:25)\">Most Merciful</a></td><td class=\"c3\"> فَمَنِ اضْطُرَّ غَيْرَ بَاغٍ وَلَا عَادٍ فَلَا إِثْمَ عَلَيْهِ إِنَّ اللَّهَ غَفُورٌ <span class=\"auu\">رَحِيمٌ</span></td></tr><tr><td class=\"c1\"><span class=\"l\">(2:182:16)</span> <i class=\"ab\">raḥīmun</i></td><td class=\"c2\"><a href=\"wordmorphology.jsp?location=(2:182:16)\" name=\"(2:182:16)\">All-Merciful</a></td><td class=\"c3\"> فَلَا إِثْمَ عَلَيْهِ إِنَّ اللَّهَ غَفُورٌ <span class=\"auu\">رَحِيمٌ</span></td></tr><tr><td class=\"c1\"><span class=\"l\">(2:192:6)</span> <i class=\"ab\">raḥīmun</i></td><td class=\"c2\"><a href=\"wordmorphology.jsp?location=(2:192:6)\" name=\"(2:192:6)\">Most Merciful</a></td><td class=\"c3\"> فَإِنِ انْتَهَوْا فَإِنَّ اللَّهَ غَفُورٌ <span class=\"auu\">رَحِيمٌ</span></td></tr><tr><td class=\"c1\"><span class=\"l\">(2:199:12)</span> <i class=\"ab\">raḥīmun</i></td><td class=\"c2\"><a href=\"wordmorphology.jsp?location=(2:199:12)\" name=\"(2:199:12)\">Most Merciful</a></td><td class=\"c3\"> وَاسْتَغْفِرُوا اللَّهَ إِنَّ اللَّهَ غَفُورٌ <span class=\"auu\">رَحِيمٌ</span></td></tr><tr><td class=\"c1\"><span class=\"l\">(2:218:16)</span> <i class=\"ab\">raḥīmun</i></td><td class=\"c2\"><a href=\"wordmorphology.jsp?location=(2:218:16)\" name=\"(2:218:16)\">Most Merciful</a></td><td class=\"c3\"> أُولَٰئِكَ يَرْجُونَ رَحْمَتَ اللَّهِ وَاللَّهُ غَفُورٌ <span class=\"auu\">رَحِيمٌ</span></td></tr><tr><td class=\"c1\"><span class=\"l\">(2:226:13)</span> <i class=\"ab\">raḥīmun</i></td><td class=\"c2\"><a href=\"wordmorphology.jsp?location=(2:226:13)\" name=\"(2:226:13)\">Most Merciful</a></td><td class=\"c3\"> فَإِنْ فَاءُوا فَإِنَّ اللَّهَ غَفُورٌ <span class=\"auu\">رَحِيمٌ</span></td></tr><tr><td class=\"c1\"><span class=\"l\">(3:31:14)</span> <i class=\"ab\">raḥīmun</i></td><td class=\"c2\"><a href=\"wordmorphology.jsp?location=(3:31:14)\" name=\"(3:31:14)\">Most Merciful</a></td><td class=\"c3\"> يُحْبِبْكُمُ اللَّهُ وَيَغْفِرْ لَكُمْ ذُنُوبَكُمْ وَاللَّهُ غَفُورٌ <span class=\"auu\">رَحِيمٌ</span></td></tr><tr><td class=\"c1\"><span class=\"l\">(3:89:11)</span> <i class=\"ab\">raḥīmun</i></td><td class=\"c2\"><a href=\"wordmorphology.jsp?location=(3:89:11)\" name=\"(3:89:11)\">Most Merciful</a></td><td class=\"c3\"> إِلَّا الَّذِينَ تَابُوا مِنْ بَعْدِ ذَٰلِكَ وَأَصْلَحُوا فَإِنَّ اللَّهَ غَفُورٌ <span class=\"auu\">رَحِيمٌ</span></td></tr><tr><td class=\"c1\"><span class=\"l\">(3:129:16)</span> <i class=\"ab\">raḥīmun</i></td><td class=\"c2\"><a href=\"wordmorphology.jsp?location=(3:129:16)\" name=\"(3:129:16)\">Most Merciful</a></td><td class=\"c3\"> يَغْفِرُ لِمَنْ يَشَاءُ وَيُعَذِّبُ مَنْ يَشَاءُ وَاللَّهُ غَفُورٌ <span class=\"auu\">رَحِيمٌ</span></td></tr><tr><td class=\"c1\"><span class=\"l\">(4:16:14)</span> <i class=\"ab\">raḥīman</i></td><td class=\"c2\"><a href=\"wordmorphology.jsp?location=(4:16:14)\" name=\"(4:16:14)\">Most-Merciful</a></td><td class=\"c3\"> إِنَّ اللَّهَ كَانَ تَوَّابًا <span class=\"auu\">رَحِيمًا</span></td></tr><tr><td class=\"c1\"><span class=\"l\">(4:23:54)</span> <i class=\"ab\">raḥīman</i></td><td class=\"c2\"><a href=\"wordmorphology.jsp?location=(4:23:54)\" name=\"(4:23:54)\">Most-Merciful</a></td><td class=\"c3\"> إِلَّا مَا قَدْ سَلَفَ إِنَّ اللَّهَ كَانَ غَفُورًا <span class=\"auu\">رَحِيمًا</span></td></tr><tr><td class=\"c1\"><span class=\"l\">(4:25:58)</span> <i class=\"ab\">raḥīmun</i></td><td class=\"c2\"><a href=\"wordmorphology.jsp?location=(4:25:58)\" name=\"(4:25:58)\">Most Merciful</a></td><td class=\"c3\"> وَأَنْ تَصْبِرُوا خَيْرٌ لَكُمْ وَاللَّهُ غَفُورٌ <span class=\"auu\">رَحِيمٌ</span></td></tr><tr><td class=\"c1\"><span class=\"l\">(4:64:23)</span> <i class=\"ab\">raḥīman</i></td><td class=\"c2\"><a href=\"wordmorphology.jsp?location=(4:64:23)\" name=\"(4:64:23)\">Most Merciful</a></td><td class=\"c3\"> لَوَجَدُوا اللَّهَ تَوَّابًا <span class=\"auu\">رَحِيمًا</span></td></tr><tr><td class=\"c1\"><span class=\"l\">(4:96:8)</span> <i class=\"ab\">raḥīman</i></td><td class=\"c2\"><a href=\"wordmorphology.jsp?location=(4:96:8)\" name=\"(4:96:8)\">Most Merciful</a></td><td class=\"c3\"> دَرَجَاتٍ مِنْهُ وَمَغْفِرَةً وَرَحْمَةً وَكَانَ اللَّهُ غَفُورًا <span class=\"auu\">رَحِيمًا</span></td></tr><tr><td class=\"c1\"><span class=\"l\">(4:100:31)</span> <i class=\"ab\">raḥīman</i></td><td class=\"c2\"><a href=\"wordmorphology.jsp?location=(4:100:31)\" name=\"(4:100:31)\">Most Merciful</a></td><td class=\"c3\"> ثُمَّ يُدْرِكْهُ الْمَوْتُ فَقَدْ وَقَعَ أَجْرُهُ عَلَى اللَّهِ وَكَانَ اللَّهُ غَفُورًا <span class=\"auu\">رَحِيمًا</span></td></tr><tr><td class=\"c1\"><span class=\"l\">(4:106:7)</span> <i class=\"ab\">raḥīman</i></td><td class=\"c2\"><a href=\"wordmorphology.jsp?location=(4:106:7)\" name=\"(4:106:7)\">Most Merciful</a></td><td class=\"c3\"> وَاسْتَغْفِرِ اللَّهَ إِنَّ اللَّهَ كَانَ غَفُورًا <span class=\"auu\">رَحِيمًا</span></td></tr><tr><td class=\"c1\"><span class=\"l\">(4:110:13)</span> <i class=\"ab\">raḥīman</i></td><td class=\"c2\"><a href=\"wordmorphology.jsp?location=(4:110:13)\" name=\"(4:110:13)\">Most Merciful</a></td><td class=\"c3\"> وَمَنْ يَعْمَلْ سُوءًا أَوْ يَظْلِمْ نَفْسَهُ ثُمَّ يَسْتَغْفِرِ اللَّهَ يَجِدِ اللَّهَ غَفُورًا <span class=\"auu\">رَحِيمًا</span></td></tr><tr><td class=\"c1\"><span class=\"l\">(4:129:22)</span> <i class=\"ab\">raḥīman</i></td><td class=\"c2\"><a href=\"wordmorphology.jsp?location=(4:129:22)\" name=\"(4:129:22)\">Most Merciful</a></td><td class=\"c3\"> وَإِنْ تُصْلِحُوا وَتَتَّقُوا فَإِنَّ اللَّهَ كَانَ غَفُورًا <span class=\"auu\">رَحِيمًا</span></td></tr><tr><td class=\"c1\"><span class=\"l\">(4:152:17)</span> <i class=\"ab\">raḥīman</i></td><td class=\"c2\"><a href=\"wordmorphology.jsp?location=(4:152:17)\" name=\"(4:152:17)\">Most Merciful</a></td><td class=\"c3\"> أُولَٰئِكَ سَوْفَ يُؤْتِيهِمْ أُجُورَهُمْ وَكَانَ اللَّهُ غَفُورًا <span class=\"auu\">رَحِيمًا</span></td></tr><tr><td class=\"c1\"><span class=\"l\">(5:3:61)</span> <i class=\"ab\">raḥīmun</i></td><td class=\"c2\"><a href=\"wordmorphology.jsp?location=(5:3:61)\" name=\"(5:3:61)\">Most Merciful</a></td><td class=\"c3\"> فَمَنِ اضْطُرَّ فِي مَخْمَصَةٍ غَيْرَ مُتَجَانِفٍ لِإِثْمٍ فَإِنَّ اللَّهَ غَفُورٌ <span class=\"auu\">رَحِيمٌ</span></td></tr><tr><td class=\"c1\"><span class=\"l\">(5:34:13)</span> <i class=\"ab\">raḥīmun</i></td><td class=\"c2\"><a href=\"wordmorphology.jsp?location=(5:34:13)\" name=\"(5:34:13)\">Most Merciful</a></td><td class=\"c3\"> إِلَّا الَّذِينَ تَابُوا مِنْ قَبْلِ أَنْ تَقْدِرُوا عَلَيْهِمْ فَاعْلَمُوا أَنَّ اللَّهَ غَفُورٌ <span class=\"auu\">رَحِيمٌ</span></td></tr><tr><td class=\"c1\"><span class=\"l\">(5:39:14)</span> <i class=\"ab\">raḥīmun</i></td><td class=\"c2\"><a href=\"wordmorphology.jsp?location=(5:39:14)\" name=\"(5:39:14)\">Most Merciful</a></td><td class=\"c3\"> فَمَنْ تَابَ مِنْ بَعْدِ ظُلْمِهِ وَأَصْلَحَ فَإِنَّ اللَّهَ يَتُوبُ عَلَيْهِ إِنَّ اللَّهَ غَفُورٌ <span class=\"auu\">رَحِيمٌ</span></td></tr><tr><td class=\"c1\"><span class=\"l\">(5:74:8)</span> <i class=\"ab\">raḥīmun</i></td><td class=\"c2\"><a href=\"wordmorphology.jsp?location=(5:74:8)\" name=\"(5:74:8)\">Most Merciful</a></td><td class=\"c3\"> أَفَلَا يَتُوبُونَ إِلَى اللَّهِ وَيَسْتَغْفِرُونَهُ وَاللَّهُ غَفُورٌ <span class=\"auu\">رَحِيمٌ</span></td></tr><tr><td class=\"c1\"><span class=\"l\">(5:98:9)</span> <i class=\"ab\">raḥīmun</i></td><td class=\"c2\"><a href=\"wordmorphology.jsp?location=(5:98:9)\" name=\"(5:98:9)\">Most Merciful</a></td><td class=\"c3\"> اعْلَمُوا أَنَّ اللَّهَ شَدِيدُ الْعِقَابِ وَأَنَّ اللَّهَ غَفُورٌ <span class=\"auu\">رَحِيمٌ</span></td></tr><tr><td class=\"c1\"><span class=\"l\">(6:54:27)</span> <i class=\"ab\">raḥīmun</i></td><td class=\"c2\"><a href=\"wordmorphology.jsp?location=(6:54:27)\" name=\"(6:54:27)\">Most Merciful</a></td><td class=\"c3\"> أَنَّهُ مَنْ عَمِلَ مِنْكُمْ سُوءًا بِجَهَالَةٍ ثُمَّ تَابَ مِنْ بَعْدِهِ وَأَصْلَحَ فَأَنَّهُ غَفُورٌ <span class=\"auu\">رَحِيمٌ</span></td></tr><tr><td class=\"c1\"><span class=\"l\">(6:145:39)</span> <i class=\"ab\">raḥīmun</i></td><td class=\"c2\"><a href=\"wordmorphology.jsp?location=(6:145:39)\" name=\"(6:145:39)\">Most Merciful</a></td><td class=\"c3\"> فَمَنِ اضْطُرَّ غَيْرَ بَاغٍ وَلَا عَادٍ فَإِنَّ رَبَّكَ غَفُورٌ <span class=\"auu\">رَحِيمٌ</span></td></tr><tr><td class=\"c1\"><span class=\"l\">(6:165:21)</span> <i class=\"ab\">raḥīmun</i></td><td class=\"c2\"><a href=\"wordmorphology.jsp?location=(6:165:21)\" name=\"(6:165:21)\">Most Merciful</a></td><td class=\"c3\"> إِنَّ رَبَّكَ سَرِيعُ الْعِقَابِ وَإِنَّهُ لَغَفُورٌ <span class=\"auu\">رَحِيمٌ</span></td></tr><tr><td class=\"c1\"><span class=\"l\">(7:153:14)</span> <i class=\"ab\">raḥīmun</i></td><td class=\"c2\"><a href=\"wordmorphology.jsp?location=(7:153:14)\" name=\"(7:153:14)\">Most Merciful</a></td><td class=\"c3\"> وَالَّذِينَ عَمِلُوا السَّيِّئَاتِ ثُمَّ تَابُوا مِنْ بَعْدِهَا وَآمَنُوا إِنَّ رَبَّكَ مِنْ بَعْدِهَا لَغَفُورٌ <span class=\"auu\">رَحِيمٌ</span></td></tr><tr><td class=\"c1\"><span class=\"l\">(7:167:19)</span> <i class=\"ab\">raḥīmun</i></td><td class=\"c2\"><a href=\"wordmorphology.jsp?location=(7:167:19)\" name=\"(7:167:19)\">Most Merciful</a></td><td class=\"c3\"> إِنَّ رَبَّكَ لَسَرِيعُ الْعِقَابِ وَإِنَّهُ لَغَفُورٌ <span class=\"auu\">رَحِيمٌ</span></td></tr><tr><td class=\"c1\"><span class=\"l\">(8:69:11)</span> <i class=\"ab\">raḥīmun</i></td><td class=\"c2\"><a href=\"wordmorphology.jsp?location=(8:69:11)\" name=\"(8:69:11)\">Most Merciful</a></td><td class=\"c3\"> فَكُلُوا مِمَّا غَنِمْتُمْ حَلَالًا طَيِّبًا وَاتَّقُوا اللَّهَ إِنَّ اللَّهَ غَفُورٌ <span class=\"auu\">رَحِيمٌ</span></td></tr><tr><td class=\"c1\"><span class=\"l\">(8:70:24)</span> <i class=\"ab\">raḥīmun</i></td><td class=\"c2\"><a href=\"wordmorphology.jsp?location=(8:70:24)\" name=\"(8:70:24)\">Most Merciful</a></td><td class=\"c3\"> يُؤْتِكُمْ خَيْرًا مِمَّا أُخِذَ مِنْكُمْ وَيَغْفِرْ لَكُمْ وَاللَّهُ غَفُورٌ <span class=\"auu\">رَحِيمٌ</span></td></tr><tr><td class=\"c1\"><span class=\"l\">(9:5:26)</span> <i class=\"ab\">raḥīmun</i></td><td class=\"c2\"><a href=\"wordmorphology.jsp?location=(9:5:26)\" name=\"(9:5:26)\">Most Merciful</a></td><td class=\"c3\"> فَإِنْ تَابُوا وَأَقَامُوا الصَّلَاةَ وَآتَوُا الزَّكَاةَ فَخَلُّوا سَبِيلَهُمْ إِنَّ اللَّهَ غَفُورٌ <span class=\"auu\">رَحِيمٌ</span></td></tr><tr><td class=\"c1\"><span class=\"l\">(9:27:12)</span> <i class=\"ab\">raḥīmun</i></td><td class=\"c2\"><a href=\"wordmorphology.jsp?location=(9:27:12)\" name=\"(9:27:12)\">Most Merciful</a></td><td class=\"c3\"> ثُمَّ يَتُوبُ اللَّهُ مِنْ بَعْدِ ذَٰلِكَ عَلَىٰ مَنْ يَشَاءُ وَاللَّهُ غَفُورٌ <span class=\"auu\">رَحِيمٌ</span></td></tr><tr><td class=\"c1\"><span class=\"l\">(9:91:26)</span> <i class=\"ab\">raḥīmun</i></td><td class=\"c2\"><a href=\"wordmorphology.jsp?location=(9:91:26)\" name=\"(9:91:26)\">Most Merciful</a></td><td class=\"c3\"> مَا عَلَى الْمُحْسِنِينَ مِنْ سَبِيلٍ وَاللَّهُ غَفُورٌ <span class=\"auu\">رَحِيمٌ</span></td></tr><tr><td class=\"c1\"><span class=\"l\">(9:99:27)</span> <i class=\"ab\">raḥīmun</i></td><td class=\"c2\"><a href=\"wordmorphology.jsp?location=(9:99:27)\" name=\"(9:99:27)\">Most Merciful</a></td><td class=\"c3\"> سَيُدْخِلُهُمُ اللَّهُ فِي رَحْمَتِهِ إِنَّ اللَّهَ غَفُورٌ <span class=\"auu\">رَحِيمٌ</span></td></tr><tr><td class=\"c1\"><span class=\"l\">(9:102:17)</span> <i class=\"ab\">raḥīmun</i></td><td class=\"c2\"><a href=\"wordmorphology.jsp?location=(9:102:17)\" name=\"(9:102:17)\">Most Merciful</a></td><td class=\"c3\"> عَسَى اللَّهُ أَنْ يَتُوبَ عَلَيْهِمْ إِنَّ اللَّهَ غَفُورٌ <span class=\"auu\">رَحِيمٌ</span></td></tr><tr><td class=\"c1\"><span class=\"l\">(9:104:16)</span> <i class=\"ab\">l-raḥīmu</i></td><td class=\"c2\"><a href=\"wordmorphology.jsp?location=(9:104:16)\" name=\"(9:104:16)\">the Most Merciful</a></td><td class=\"c3\"> أَلَمْ يَعْلَمُوا أَنَّ اللَّهَ هُوَ يَقْبَلُ التَّوْبَةَ عَنْ عِبَادِهِ وَيَأْخُذُ الصَّدَقَاتِ وَأَنَّ اللَّهَ هُوَ التَّوَّابُ <span class=\"auu\">الرَّحِيمُ</span></td></tr><tr><td class=\"c1\"><span class=\"l\">(9:117:27)</span> <i class=\"ab\">raḥīmun</i></td><td class=\"c2\"><a href=\"wordmorphology.jsp?location=(9:117:27)\" name=\"(9:117:27)\">Most Merciful</a></td><td class=\"c3\"> ثُمَّ تَابَ عَلَيْهِمْ إِنَّهُ بِهِمْ رَءُوفٌ <span class=\"auu\">رَحِيمٌ</span></td></tr><tr><td class=\"c1\"><span class=\"l\">(9:118:31)</span> <i class=\"ab\">l-raḥīmu</i></td><td class=\"c2\"><a href=\"wordmorphology.jsp?location=(9:118:31)\" name=\"(9:118:31)\">the Most Merciful</a></td><td class=\"c3\"> ثُمَّ تَابَ عَلَيْهِمْ لِيَتُوبُوا إِنَّ اللَّهَ هُوَ التَّوَّابُ <span class=\"auu\">الرَّحِيمُ</span></td></tr><tr><td class=\"c1\"><span class=\"l\">(9:128:14)</span> <i class=\"ab\">raḥīmun</i></td><td class=\"c2\"><a href=\"wordmorphology.jsp?location=(9:128:14)\" name=\"(9:128:14)\">(and) merciful</a></td><td class=\"c3\"> حَرِيصٌ عَلَيْكُمْ بِالْمُؤْمِنِينَ رَءُوفٌ <span class=\"auu\">رَحِيمٌ</span></td></tr><tr><td class=\"c1\"><span class=\"l\">(10:107:24)</span> <i class=\"ab\">l-raḥīmu</i></td><td class=\"c2\"><a href=\"wordmorphology.jsp?location=(10:107:24)\" name=\"(10:107:24)\">the Most Merciful</a></td><td class=\"c3\"> يُصِيبُ بِهِ مَنْ يَشَاءُ مِنْ عِبَادِهِ وَهُوَ الْغَفُورُ <span class=\"auu\">الرَّحِيمُ</span></td></tr><tr><td class=\"c1\"><span class=\"l\">(11:41:11)</span> <i class=\"ab\">raḥīmun</i></td><td class=\"c2\"><a href=\"wordmorphology.jsp?location=(11:41:11)\" name=\"(11:41:11)\">Most Merciful</a></td><td class=\"c3\"> بِسْمِ اللَّهِ مَجْرَاهَا وَمُرْسَاهَا إِنَّ رَبِّي لَغَفُورٌ <span class=\"auu\">رَحِيمٌ</span></td></tr><tr><td class=\"c1\"><span class=\"l\">(11:90:8)</span> <i class=\"ab\">raḥīmun</i></td><td class=\"c2\"><a href=\"wordmorphology.jsp?location=(11:90:8)\" name=\"(11:90:8)\">(is) Most Merciful</a></td><td class=\"c3\"> وَاسْتَغْفِرُوا رَبَّكُمْ ثُمَّ تُوبُوا إِلَيْهِ إِنَّ رَبِّي <span class=\"auu\">رَحِيمٌ</span> وَدُودٌ</td></tr><tr><td class=\"c1\"><span class=\"l\">(12:53:15)</span> <i class=\"ab\">raḥīmun</i></td><td class=\"c2\"><a href=\"wordmorphology.jsp?location=(12:53:15)\" name=\"(12:53:15)\">Most Merciful</a></td><td class=\"c3\"> إِنَّ النَّفْسَ لَأَمَّارَةٌ بِالسُّوءِ إِلَّا مَا رَحِمَ رَبِّي إِنَّ رَبِّي غَفُورٌ <span class=\"auu\">رَحِيمٌ</span></td></tr><tr><td class=\"c1\"><span class=\"l\">(12:98:9)</span> <i class=\"ab\">l-raḥīmu</i></td><td class=\"c2\"><a href=\"wordmorphology.jsp?location=(12:98:9)\" name=\"(12:98:9)\">the Most Merciful</a></td><td class=\"c3\"> قَالَ سَوْفَ أَسْتَغْفِرُ لَكُمْ رَبِّي إِنَّهُ هُوَ الْغَفُورُ <span class=\"auu\">الرَّحِيمُ</span></td></tr><tr><td class=\"c1\"><span class=\"l\">(14:36:15)</span> <i class=\"ab\">raḥīmun</i></td><td class=\"c2\"><a href=\"wordmorphology.jsp?location=(14:36:15)\" name=\"(14:36:15)\">Most Merciful</a></td><td class=\"c3\"> فَمَنْ تَبِعَنِي فَإِنَّهُ مِنِّي وَمَنْ عَصَانِي فَإِنَّكَ غَفُورٌ <span class=\"auu\">رَحِيمٌ</span></td></tr><tr><td class=\"c1\"><span class=\"l\">(15:49:6)</span> <i class=\"ab\">l-raḥīmu</i></td><td class=\"c2\"><a href=\"wordmorphology.jsp?location=(15:49:6)\" name=\"(15:49:6)\">the Most Merciful</a></td><td class=\"c3\"> نَبِّئْ عِبَادِي أَنِّي أَنَا الْغَفُورُ <span class=\"auu\">الرَّحِيمُ</span></td></tr><tr><td class=\"c1\"><span class=\"l\">(16:7:14)</span> <i class=\"ab\">raḥīmun</i></td><td class=\"c2\"><a href=\"wordmorphology.jsp?location=(16:7:14)\" name=\"(16:7:14)\">Most Merciful</a></td><td class=\"c3\"> لَمْ تَكُونُوا بَالِغِيهِ إِلَّا بِشِقِّ الْأَنْفُسِ إِنَّ رَبَّكُمْ لَرَءُوفٌ <span class=\"auu\">رَحِيمٌ</span></td></tr><tr><td class=\"c1\"><span class=\"l\">(16:18:10)</span> <i class=\"ab\">raḥīmun</i></td><td class=\"c2\"><a href=\"wordmorphology.jsp?location=(16:18:10)\" name=\"(16:18:10)\">Most Merciful</a></td><td class=\"c3\"> وَإِنْ تَعُدُّوا نِعْمَةَ اللَّهِ لَا تُحْصُوهَا إِنَّ اللَّهَ لَغَفُورٌ <span class=\"auu\">رَحِيمٌ</span></td></tr><tr><td class=\"c1\"><span class=\"l\">(16:47:8)</span> <i class=\"ab\">raḥīmun</i></td><td class=\"c2\"><a href=\"wordmorphology.jsp?location=(16:47:8)\" name=\"(16:47:8)\">Most Merciful</a></td><td class=\"c3\"> أَوْ يَأْخُذَهُمْ عَلَىٰ تَخَوُّفٍ فَإِنَّ رَبَّكُمْ لَرَءُوفٌ <span class=\"auu\">رَحِيمٌ</span></td></tr><tr><td class=\"c1\"><span class=\"l\">(16:110:18)</span> <i class=\"ab\">raḥīmun</i></td><td class=\"c2\"><a href=\"wordmorphology.jsp?location=(16:110:18)\" name=\"(16:110:18)\">Most Merciful</a></td><td class=\"c3\"> ثُمَّ جَاهَدُوا وَصَبَرُوا إِنَّ رَبَّكَ مِنْ بَعْدِهَا لَغَفُورٌ <span class=\"auu\">رَحِيمٌ</span></td></tr><tr><td class=\"c1\"><span class=\"l\">(16:115:22)</span> <i class=\"ab\">raḥīmun</i></td><td class=\"c2\"><a href=\"wordmorphology.jsp?location=(16:115:22)\" name=\"(16:115:22)\">Most Merciful</a></td><td class=\"c3\"> فَمَنِ اضْطُرَّ غَيْرَ بَاغٍ وَلَا عَادٍ فَإِنَّ اللَّهَ غَفُورٌ <span class=\"auu\">رَحِيمٌ</span></td></tr><tr><td class=\"c1\"><span class=\"l\">(16:119:19)</span> <i class=\"ab\">raḥīmun</i></td><td class=\"c2\"><a href=\"wordmorphology.jsp?location=(16:119:19)\" name=\"(16:119:19)\">Most Merciful</a></td><td class=\"c3\"> إِنَّ رَبَّكَ مِنْ بَعْدِهَا لَغَفُورٌ <span class=\"auu\">رَحِيمٌ</span></td></tr><tr><td class=\"c1\"><span class=\"l\">(22:65:27)</span> <i class=\"ab\">raḥīmun</i></td><td class=\"c2\"><a href=\"wordmorphology.jsp?location=(22:65:27)\" name=\"(22:65:27)\">Most Merciful</a></td><td class=\"c3\"> إِنَّ اللَّهَ بِالنَّاسِ لَرَءُوفٌ <span class=\"auu\">رَحِيمٌ</span></td></tr><tr><td class=\"c1\"><span class=\"l\">(24:5:11)</span> <i class=\"ab\">raḥīmun</i></td><td class=\"c2\"><a href=\"wordmorphology.jsp?location=(24:5:11)\" name=\"(24:5:11)\">Most Merciful</a></td><td class=\"c3\"> إِلَّا الَّذِينَ تَابُوا مِنْ بَعْدِ ذَٰلِكَ وَأَصْلَحُوا فَإِنَّ اللَّهَ غَفُورٌ <span class=\"auu\">رَحِيمٌ</span></td></tr><tr><td class=\"c1\"><span class=\"l\">(24:20:9)</span> <i class=\"ab\">raḥīmun</i></td><td class=\"c2\"><a href=\"wordmorphology.jsp?location=(24:20:9)\" name=\"(24:20:9)\">Most Merciful</a></td><td class=\"c3\"> وَلَوْلَا فَضْلُ اللَّهِ عَلَيْكُمْ وَرَحْمَتُهُ وَأَنَّ اللَّهَ رَءُوفٌ <span class=\"auu\">رَحِيمٌ</span></td></tr><tr><td class=\"c1\"><span class=\"l\">(24:22:26)</span> <i class=\"ab\">raḥīmun</i></td><td class=\"c2\"><a href=\"wordmorphology.jsp?location=(24:22:26)\" name=\"(24:22:26)\">Most Merciful</a></td><td class=\"c3\"> أَلَا تُحِبُّونَ أَنْ يَغْفِرَ اللَّهُ لَكُمْ وَاللَّهُ غَفُورٌ <span class=\"auu\">رَحِيمٌ</span></td></tr><tr><td class=\"c1\"><span class=\"l\">(24:33:48)</span> <i class=\"ab\">raḥīmun</i></td><td class=\"c2\"><a href=\"wordmorphology.jsp?location=(24:33:48)\" name=\"(24:33:48)\">Most Merciful</a></td><td class=\"c3\"> وَمَنْ يُكْرِهْهُنَّ فَإِنَّ اللَّهَ مِنْ بَعْدِ إِكْرَاهِهِنَّ غَفُورٌ <span class=\"auu\">رَحِيمٌ</span></td></tr><tr><td class=\"c1\"><span class=\"l\">(24:62:39)</span> <i class=\"ab\">raḥīmun</i></td><td class=\"c2\"><a href=\"wordmorphology.jsp?location=(24:62:39)\" name=\"(24:62:39)\">Most Merciful</a></td><td class=\"c3\"> فَأْذَنْ لِمَنْ شِئْتَ مِنْهُمْ وَاسْتَغْفِرْ لَهُمُ اللَّهَ إِنَّ اللَّهَ غَفُورٌ <span class=\"auu\">رَحِيمٌ</span></td></tr><tr><td class=\"c1\"><span class=\"l\">(25:6:12)</span> <i class=\"ab\">raḥīman</i></td><td class=\"c2\"><a href=\"wordmorphology.jsp?location=(25:6:12)\" name=\"(25:6:12)\">Most Merciful</a></td><td class=\"c3\"> قُلْ أَنْزَلَهُ الَّذِي يَعْلَمُ السِّرَّ فِي السَّمَاوَاتِ وَالْأَرْضِ إِنَّهُ كَانَ غَفُورًا <span class=\"auu\">رَحِيمًا</span></td></tr><tr><td class=\"c1\"><span class=\"l\">(25:70:16)</span> <i class=\"ab\">raḥīman</i></td><td class=\"c2\"><a href=\"wordmorphology.jsp?location=(25:70:16)\" name=\"(25:70:16)\">Most Merciful</a></td><td class=\"c3\"> فَأُولَٰئِكَ يُبَدِّلُ اللَّهُ سَيِّئَاتِهِمْ حَسَنَاتٍ وَكَانَ اللَّهُ غَفُورًا <span class=\"auu\">رَحِيمًا</span></td></tr><tr><td class=\"c1\"><span class=\"l\">(26:9:5)</span> <i class=\"ab\">l-raḥīmu</i></td><td class=\"c2\"><a href=\"wordmorphology.jsp?location=(26:9:5)\" name=\"(26:9:5)\">the Most Merciful</a></td><td class=\"c3\"> وَإِنَّ رَبَّكَ لَهُوَ الْعَزِيزُ <span class=\"auu\">الرَّحِيمُ</span></td></tr><tr><td class=\"c1\"><span class=\"l\">(26:68:5)</span> <i class=\"ab\">l-raḥīmu</i></td><td class=\"c2\"><a href=\"wordmorphology.jsp?location=(26:68:5)\" name=\"(26:68:5)\">the Most Merciful</a></td><td class=\"c3\"> وَإِنَّ رَبَّكَ لَهُوَ الْعَزِيزُ <span class=\"auu\">الرَّحِيمُ</span></td></tr><tr><td class=\"c1\"><span class=\"l\">(26:104:5)</span> <i class=\"ab\">l-raḥīmu</i></td><td class=\"c2\"><a href=\"wordmorphology.jsp?location=(26:104:5)\" name=\"(26:104:5)\">the Most Merciful</a></td><td class=\"c3\"> وَإِنَّ رَبَّكَ لَهُوَ الْعَزِيزُ <span class=\"auu\">الرَّحِيمُ</span></td></tr><tr><td class=\"c1\"><span class=\"l\">(26:122:5)</span> <i class=\"ab\">l-raḥīmu</i></td><td class=\"c2\"><a href=\"wordmorphology.jsp?location=(26:122:5)\" name=\"(26:122:5)\">the Most Merciful</a></td><td class=\"c3\"> وَإِنَّ رَبَّكَ لَهُوَ الْعَزِيزُ <span class=\"auu\">الرَّحِيمُ</span></td></tr><tr><td class=\"c1\"><span class=\"l\">(26:140:5)</span> <i class=\"ab\">l-raḥīmu</i></td><td class=\"c2\"><a href=\"wordmorphology.jsp?location=(26:140:5)\" name=\"(26:140:5)\">the Most Merciful</a></td><td class=\"c3\"> وَإِنَّ رَبَّكَ لَهُوَ الْعَزِيزُ <span class=\"auu\">الرَّحِيمُ</span></td></tr><tr><td class=\"c1\"><span class=\"l\">(26:159:5)</span> <i class=\"ab\">l-raḥīmu</i></td><td class=\"c2\"><a href=\"wordmorphology.jsp?location=(26:159:5)\" name=\"(26:159:5)\">the Most Merciful</a></td><td class=\"c3\"> وَإِنَّ رَبَّكَ لَهُوَ الْعَزِيزُ <span class=\"auu\">الرَّحِيمُ</span></td></tr><tr><td class=\"c1\"><span class=\"l\">(26:175:5)</span> <i class=\"ab\">l-raḥīmu</i></td><td class=\"c2\"><a href=\"wordmorphology.jsp?location=(26:175:5)\" name=\"(26:175:5)\">the Most Merciful</a></td><td class=\"c3\"> وَإِنَّ رَبَّكَ لَهُوَ الْعَزِيزُ <span class=\"auu\">الرَّحِيمُ</span></td></tr><tr><td class=\"c1\"><span class=\"l\">(26:191:5)</span> <i class=\"ab\">l-raḥīmu</i></td><td class=\"c2\"><a href=\"wordmorphology.jsp?location=(26:191:5)\" name=\"(26:191:5)\">the Most Merciful</a></td><td class=\"c3\"> وَإِنَّ رَبَّكَ لَهُوَ الْعَزِيزُ <span class=\"auu\">الرَّحِيمُ</span></td></tr><tr><td class=\"c1\"><span class=\"l\">(26:217:4)</span> <i class=\"ab\">l-raḥīmi</i></td><td class=\"c2\"><a href=\"wordmorphology.jsp?location=(26:217:4)\" name=\"(26:217:4)\">the Most Merciful</a></td><td class=\"c3\"> وَتَوَكَّلْ عَلَى الْعَزِيزِ <span class=\"auu\">الرَّحِيمِ</span></td></tr><tr><td class=\"c1\"><span class=\"l\">(27:11:11)</span> <i class=\"ab\">raḥīmun</i></td><td class=\"c2\"><a href=\"wordmorphology.jsp?location=(27:11:11)\" name=\"(27:11:11)\">Most Merciful</a></td><td class=\"c3\"> إِلَّا مَنْ ظَلَمَ ثُمَّ بَدَّلَ حُسْنًا بَعْدَ سُوءٍ فَإِنِّي غَفُورٌ <span class=\"auu\">رَحِيمٌ</span></td></tr><tr><td class=\"c1\"><span class=\"l\">(27:30:8)</span> <i class=\"ab\">l-raḥīmi</i></td><td class=\"c2\"><a href=\"wordmorphology.jsp?location=(27:30:8)\" name=\"(27:30:8)\">the Most Merciful</a></td><td class=\"c3\"> إِنَّهُ مِنْ سُلَيْمَانَ وَإِنَّهُ بِسْمِ اللَّهِ الرَّحْمَٰنِ <span class=\"auu\">الرَّحِيمِ</span></td></tr><tr><td class=\"c1\"><span class=\"l\">(28:16:13)</span> <i class=\"ab\">l-raḥīmu</i></td><td class=\"c2\"><a href=\"wordmorphology.jsp?location=(28:16:13)\" name=\"(28:16:13)\">the Most Merciful</a></td><td class=\"c3\"> قَالَ رَبِّ إِنِّي ظَلَمْتُ نَفْسِي فَاغْفِرْ لِي فَغَفَرَ لَهُ إِنَّهُ هُوَ الْغَفُورُ <span class=\"auu\">الرَّحِيمُ</span></td></tr><tr><td class=\"c1\"><span class=\"l\">(30:5:8)</span> <i class=\"ab\">l-raḥīmu</i></td><td class=\"c2\"><a href=\"wordmorphology.jsp?location=(30:5:8)\" name=\"(30:5:8)\">the Most Merciful</a></td><td class=\"c3\"> بِنَصْرِ اللَّهِ يَنْصُرُ مَنْ يَشَاءُ وَهُوَ الْعَزِيزُ <span class=\"auu\">الرَّحِيمُ</span></td></tr><tr><td class=\"c1\"><span class=\"l\">(32:6:6)</span> <i class=\"ab\">l-raḥīmu</i></td><td class=\"c2\"><a href=\"wordmorphology.jsp?location=(32:6:6)\" name=\"(32:6:6)\">the Most Merciful</a></td><td class=\"c3\"> ذَٰلِكَ عَالِمُ الْغَيْبِ وَالشَّهَادَةِ الْعَزِيزُ <span class=\"auu\">الرَّحِيمُ</span></td></tr><tr><td class=\"c1\"><span class=\"l\">(33:5:28)</span> <i class=\"ab\">raḥīman</i></td><td class=\"c2\"><a href=\"wordmorphology.jsp?location=(33:5:28)\" name=\"(33:5:28)\">Most Merciful</a></td><td class=\"c3\"> وَلَٰكِنْ مَا تَعَمَّدَتْ قُلُوبُكُمْ وَكَانَ اللَّهُ غَفُورًا <span class=\"auu\">رَحِيمًا</span></td></tr><tr><td class=\"c1\"><span class=\"l\">(33:24:16)</span> <i class=\"ab\">raḥīman</i></td><td class=\"c2\"><a href=\"wordmorphology.jsp?location=(33:24:16)\" name=\"(33:24:16)\">Most Merciful</a></td><td class=\"c3\"> وَيُعَذِّبَ الْمُنَافِقِينَ إِنْ شَاءَ أَوْ يَتُوبَ عَلَيْهِمْ إِنَّ اللَّهَ كَانَ غَفُورًا <span class=\"auu\">رَحِيمًا</span></td></tr><tr><td class=\"c1\"><span class=\"l\">(33:43:13)</span> <i class=\"ab\">raḥīman</i></td><td class=\"c2\"><a href=\"wordmorphology.jsp?location=(33:43:13)\" name=\"(33:43:13)\">Merciful</a></td><td class=\"c3\"> لِيُخْرِجَكُمْ مِنَ الظُّلُمَاتِ إِلَى النُّورِ وَكَانَ بِالْمُؤْمِنِينَ <span class=\"auu\">رَحِيمًا</span></td></tr><tr><td class=\"c1\"><span class=\"l\">(33:50:61)</span> <i class=\"ab\">raḥīman</i></td><td class=\"c2\"><a href=\"wordmorphology.jsp?location=(33:50:61)\" name=\"(33:50:61)\">Most Merciful</a></td><td class=\"c3\"> لِكَيْلَا يَكُونَ عَلَيْكَ حَرَجٌ وَكَانَ اللَّهُ غَفُورًا <span class=\"auu\">رَحِيمًا</span></td></tr><tr><td class=\"c1\"><span class=\"l\">(33:59:21)</span> <i class=\"ab\">raḥīman</i></td><td class=\"c2\"><a href=\"wordmorphology.jsp?location=(33:59:21)\" name=\"(33:59:21)\">Most Merciful</a></td><td class=\"c3\"> ذَٰلِكَ أَدْنَىٰ أَنْ يُعْرَفْنَ فَلَا يُؤْذَيْنَ وَكَانَ اللَّهُ غَفُورًا <span class=\"auu\">رَحِيمًا</span></td></tr><tr><td class=\"c1\"><span class=\"l\">(33:73:15)</span> <i class=\"ab\">raḥīman</i></td><td class=\"c2\"><a href=\"wordmorphology.jsp?location=(33:73:15)\" name=\"(33:73:15)\">Most Merciful</a></td><td class=\"c3\"> وَيَتُوبَ اللَّهُ عَلَى الْمُؤْمِنِينَ وَالْمُؤْمِنَاتِ وَكَانَ اللَّهُ غَفُورًا <span class=\"auu\">رَحِيمًا</span></td></tr><tr><td class=\"c1\"><span class=\"l\">(36:5:3)</span> <i class=\"ab\">l-raḥīmi</i></td><td class=\"c2\"><a href=\"wordmorphology.jsp?location=(36:5:3)\" name=\"(36:5:3)\">the Most Merciful</a></td><td class=\"c3\"> تَنْزِيلَ الْعَزِيزِ <span class=\"auu\">الرَّحِيمِ</span></td></tr><tr><td class=\"c1\"><span class=\"l\">(36:58:5)</span> <i class=\"ab\">raḥīmin</i></td><td class=\"c2\"><a href=\"wordmorphology.jsp?location=(36:58:5)\" name=\"(36:58:5)\">Most Merciful</a></td><td class=\"c3\"> سَلَامٌ قَوْلًا مِنْ رَبٍّ <span class=\"auu\">رَحِيمٍ</span></td></tr><tr><td class=\"c1\"><span class=\"l\">(39:53:20)</span> <i class=\"ab\">l-raḥīmu</i></td><td class=\"c2\"><a href=\"wordmorphology.jsp?location=(39:53:20)\" name=\"(39:53:20)\">the Most Merciful</a></td><td class=\"c3\"> إِنَّ اللَّهَ يَغْفِرُ الذُّنُوبَ جَمِيعًا إِنَّهُ هُوَ الْغَفُورُ <span class=\"auu\">الرَّحِيمُ</span></td></tr><tr><td class=\"c1\"><span class=\"l\">(41:2:4)</span> <i class=\"ab\">l-raḥīmi</i></td><td class=\"c2\"><a href=\"wordmorphology.jsp?location=(41:2:4)\" name=\"(41:2:4)\">the Most Merciful</a></td><td class=\"c3\"> تَنْزِيلٌ مِنَ الرَّحْمَٰنِ <span class=\"auu\">الرَّحِيمِ</span></td></tr><tr><td class=\"c1\"><span class=\"l\">(41:32:4)</span> <i class=\"ab\">raḥīmin</i></td><td class=\"c2\"><a href=\"wordmorphology.jsp?location=(41:32:4)\" name=\"(41:32:4)\">(the) Most Merciful</a></td><td class=\"c3\"> نُزُلًا مِنْ غَفُورٍ <span class=\"auu\">رَحِيمٍ</span></td></tr><tr><td class=\"c1\"><span class=\"l\">(42:5:19)</span> <i class=\"ab\">l-raḥīmu</i></td><td class=\"c2\"><a href=\"wordmorphology.jsp?location=(42:5:19)\" name=\"(42:5:19)\">the Most Merciful</a></td><td class=\"c3\"> أَلَا إِنَّ اللَّهَ هُوَ الْغَفُورُ <span class=\"auu\">الرَّحِيمُ</span></td></tr><tr><td class=\"c1\"><span class=\"l\">(44:42:8)</span> <i class=\"ab\">l-raḥīmu</i></td><td class=\"c2\"><a href=\"wordmorphology.jsp?location=(44:42:8)\" name=\"(44:42:8)\">the Most Merciful</a></td><td class=\"c3\"> إِلَّا مَنْ رَحِمَ اللَّهُ إِنَّهُ هُوَ الْعَزِيزُ <span class=\"auu\">الرَّحِيمُ</span></td></tr><tr><td class=\"c1\"><span class=\"l\">(46:8:25)</span> <i class=\"ab\">l-raḥīmu</i></td><td class=\"c2\"><a href=\"wordmorphology.jsp?location=(46:8:25)\" name=\"(46:8:25)\">the Most Merciful</a></td><td class=\"c3\"> كَفَىٰ بِهِ شَهِيدًا بَيْنِي وَبَيْنَكُمْ وَهُوَ الْغَفُورُ <span class=\"auu\">الرَّحِيمُ</span></td></tr><tr><td class=\"c1\"><span class=\"l\">(48:14:14)</span> <i class=\"ab\">raḥīman</i></td><td class=\"c2\"><a href=\"wordmorphology.jsp?location=(48:14:14)\" name=\"(48:14:14)\">Most Merciful</a></td><td class=\"c3\"> يَغْفِرُ لِمَنْ يَشَاءُ وَيُعَذِّبُ مَنْ يَشَاءُ وَكَانَ اللَّهُ غَفُورًا <span class=\"auu\">رَحِيمًا</span></td></tr><tr><td class=\"c1\"><span class=\"l\">(48:29:9)</span> <i class=\"ab\">ruḥamāu</i></td><td class=\"c2\"><a href=\"wordmorphology.jsp?location=(48:29:9)\" name=\"(48:29:9)\">and merciful</a></td><td class=\"c3\"> مُحَمَّدٌ رَسُولُ اللَّهِ وَالَّذِينَ مَعَهُ أَشِدَّاءُ عَلَى الْكُفَّارِ <span class=\"auu\">رُحَمَاءُ</span> بَيْنَهُمْ</td></tr><tr><td class=\"c1\"><span class=\"l\">(49:5:12)</span> <i class=\"ab\">raḥīmun</i></td><td class=\"c2\"><a href=\"wordmorphology.jsp?location=(49:5:12)\" name=\"(49:5:12)\">Most Merciful</a></td><td class=\"c3\"> وَلَوْ أَنَّهُمْ صَبَرُوا حَتَّىٰ تَخْرُجَ إِلَيْهِمْ لَكَانَ خَيْرًا لَهُمْ وَاللَّهُ غَفُورٌ <span class=\"auu\">رَحِيمٌ</span></td></tr><tr><td class=\"c1\"><span class=\"l\">(49:12:31)</span> <i class=\"ab\">raḥīmun</i></td><td class=\"c2\"><a href=\"wordmorphology.jsp?location=(49:12:31)\" name=\"(49:12:31)\">Most Merciful</a></td><td class=\"c3\"> وَاتَّقُوا اللَّهَ إِنَّ اللَّهَ تَوَّابٌ <span class=\"auu\">رَحِيمٌ</span></td></tr><tr><td class=\"c1\"><span class=\"l\">(49:14:27)</span> <i class=\"ab\">raḥīmun</i></td><td class=\"c2\"><a href=\"wordmorphology.jsp?location=(49:14:27)\" name=\"(49:14:27)\">Most Merciful</a></td><td class=\"c3\"> لَا يَلِتْكُمْ مِنْ أَعْمَالِكُمْ شَيْئًا إِنَّ اللَّهَ غَفُورٌ <span class=\"auu\">رَحِيمٌ</span></td></tr><tr><td class=\"c1\"><span class=\"l\">(52:28:9)</span> <i class=\"ab\">l-raḥīmu</i></td><td class=\"c2\"><a href=\"wordmorphology.jsp?location=(52:28:9)\" name=\"(52:28:9)\">the Most Merciful</a></td><td class=\"c3\"> إِنَّا كُنَّا مِنْ قَبْلُ نَدْعُوهُ إِنَّهُ هُوَ الْبَرُّ <span class=\"auu\">الرَّحِيمُ</span></td></tr><tr><td class=\"c1\"><span class=\"l\">(57:9:17)</span> <i class=\"ab\">raḥīmun</i></td><td class=\"c2\"><a href=\"wordmorphology.jsp?location=(57:9:17)\" name=\"(57:9:17)\">(the) Most Merciful</a></td><td class=\"c3\"> لِيُخْرِجَكُمْ مِنَ الظُّلُمَاتِ إِلَى النُّورِ وَإِنَّ اللَّهَ بِكُمْ لَرَءُوفٌ <span class=\"auu\">رَحِيمٌ</span></td></tr><tr><td class=\"c1\"><span class=\"l\">(57:28:21)</span> <i class=\"ab\">raḥīmun</i></td><td class=\"c2\"><a href=\"wordmorphology.jsp?location=(57:28:21)\" name=\"(57:28:21)\">Most Merciful</a></td><td class=\"c3\"> وَيَجْعَلْ لَكُمْ نُورًا تَمْشُونَ بِهِ وَيَغْفِرْ لَكُمْ وَاللَّهُ غَفُورٌ <span class=\"auu\">رَحِيمٌ</span></td></tr><tr><td class=\"c1\"><span class=\"l\">(58:12:22)</span> <i class=\"ab\">raḥīmun</i></td><td class=\"c2\"><a href=\"wordmorphology.jsp?location=(58:12:22)\" name=\"(58:12:22)\">Most Merciful</a></td><td class=\"c3\"> ذَٰلِكَ خَيْرٌ لَكُمْ وَأَطْهَرُ فَإِنْ لَمْ تَجِدُوا فَإِنَّ اللَّهَ غَفُورٌ <span class=\"auu\">رَحِيمٌ</span></td></tr><tr><td class=\"c1\"><span class=\"l\">(59:10:23)</span> <i class=\"ab\">raḥīmun</i></td><td class=\"c2\"><a href=\"wordmorphology.jsp?location=(59:10:23)\" name=\"(59:10:23)\">Most Merciful</a></td><td class=\"c3\"> وَلَا تَجْعَلْ فِي قُلُوبِنَا غِلًّا لِلَّذِينَ آمَنُوا رَبَّنَا إِنَّكَ رَءُوفٌ <span class=\"auu\">رَحِيمٌ</span></td></tr><tr><td class=\"c1\"><span class=\"l\">(59:22:13)</span> <i class=\"ab\">l-raḥīmu</i></td><td class=\"c2\"><a href=\"wordmorphology.jsp?location=(59:22:13)\" name=\"(59:22:13)\">the Most Merciful</a></td><td class=\"c3\"> عَالِمُ الْغَيْبِ وَالشَّهَادَةِ هُوَ الرَّحْمَٰنُ <span class=\"auu\">الرَّحِيمُ</span></td></tr><tr><td class=\"c1\"><span class=\"l\">(60:7:15)</span> <i class=\"ab\">raḥīmun</i></td><td class=\"c2\"><a href=\"wordmorphology.jsp?location=(60:7:15)\" name=\"(60:7:15)\">Most Merciful</a></td><td class=\"c3\"> وَاللَّهُ قَدِيرٌ وَاللَّهُ غَفُورٌ <span class=\"auu\">رَحِيمٌ</span></td></tr><tr><td class=\"c1\"><span class=\"l\">(60:12:38)</span> <i class=\"ab\">raḥīmun</i></td><td class=\"c2\"><a href=\"wordmorphology.jsp?location=(60:12:38)\" name=\"(60:12:38)\">Most Merciful</a></td><td class=\"c3\"> فَبَايِعْهُنَّ وَاسْتَغْفِرْ لَهُنَّ اللَّهَ إِنَّ اللَّهَ غَفُورٌ <span class=\"auu\">رَحِيمٌ</span></td></tr><tr><td class=\"c1\"><span class=\"l\">(64:14:18)</span> <i class=\"ab\">raḥīmun</i></td><td class=\"c2\"><a href=\"wordmorphology.jsp?location=(64:14:18)\" name=\"(64:14:18)\">Most Merciful</a></td><td class=\"c3\"> وَإِنْ تَعْفُوا وَتَصْفَحُوا وَتَغْفِرُوا فَإِنَّ اللَّهَ غَفُورٌ <span class=\"auu\">رَحِيمٌ</span></td></tr><tr><td class=\"c1\"><span class=\"l\">(66:1:14)</span> <i class=\"ab\">raḥīmun</i></td><td class=\"c2\"><a href=\"wordmorphology.jsp?location=(66:1:14)\" name=\"(66:1:14)\">Most Merciful</a></td><td class=\"c3\"> تَبْتَغِي مَرْضَاتَ أَزْوَاجِكَ وَاللَّهُ غَفُورٌ <span class=\"auu\">رَحِيمٌ</span></td></tr></table><p class=\"dxt\">(2) Noun</p><table border=\"0\" cellpadding=\"0\" cellspacing=\"0\" class=\"taf\"><tr><td class=\"c1\"><span class=\"l\">(4:29:23)</span> <i class=\"ab\">raḥīman</i></td><td class=\"c2\"><a href=\"wordmorphology.jsp?location=(4:29:23)\" name=\"(4:29:23)\">Most Merciful</a></td><td class=\"c3\"> وَلَا تَقْتُلُوا أَنْفُسَكُمْ إِنَّ اللَّهَ كَانَ بِكُمْ <span class=\"auu\">رَحِيمًا</span></td></tr><tr><td class=\"c1\"><span class=\"l\">(17:66:14)</span> <i class=\"ab\">raḥīman</i></td><td class=\"c2\"><a href=\"wordmorphology.jsp?location=(17:66:14)\" name=\"(17:66:14)\">Ever Merciful</a></td><td class=\"c3\"> رَبُّكُمُ الَّذِي يُزْجِي لَكُمُ الْفُلْكَ فِي الْبَحْرِ لِتَبْتَغُوا مِنْ فَضْلِهِ إِنَّهُ كَانَ بِكُمْ <span class=\"auu\">رَحِيمًا</span></td></tr><tr><td class=\"c1\"><span class=\"l\">(34:2:17)</span> <i class=\"ab\">l-raḥīmu</i></td><td class=\"c2\"><a href=\"wordmorphology.jsp?location=(34:2:17)\" name=\"(34:2:17)\">(is) the Most Merciful</a></td><td class=\"c3\"> وَمَا يَنْزِلُ مِنَ السَّمَاءِ وَمَا يَعْرُجُ فِيهَا وَهُوَ <span class=\"auu\">الرَّحِيمُ</span> الْغَفُورُ</td></tr><tr><td class=\"c1\"><span class=\"l\">(73:20:78)</span> <i class=\"ab\">raḥīmun</i></td><td class=\"c2\"><a href=\"wordmorphology.jsp?location=(73:20:78)\" name=\"(73:20:78)\">Most Merciful</a></td><td class=\"c3\"> وَاسْتَغْفِرُوا اللَّهَ إِنَّ اللَّهَ غَفُورٌ <span class=\"auu\">رَحِيمٌ</span></td></tr></table><h4 class=\"dxe\">Noun</h4><table border=\"0\" cellpadding=\"0\" cellspacing=\"0\" class=\"taf\"><tr><td class=\"c1\"><span class=\"l\">(90:17:9)</span> <i class=\"ab\">bil-marḥamati</i></td><td class=\"c2\"><a href=\"wordmorphology.jsp?location=(90:17:9)\" name=\"(90:17:9)\">to compassion</a></td><td class=\"c3\"> وَتَوَاصَوْا بِالصَّبْرِ وَتَوَاصَوْا <span class=\"auu\">بِالْمَرْحَمَةِ</span></td></tr></table><h4 class=\"dxe\">Active participle</h4><table border=\"0\" cellpadding=\"0\" cellspacing=\"0\" class=\"taf\"><tr><td class=\"c1\"><span class=\"l\">(7:151:11)</span> <i class=\"ab\">l-rāḥimīna</i></td><td class=\"c2\"><a href=\"wordmorphology.jsp?location=(7:151:11)\" name=\"(7:151:11)\">(of) the merciful</a></td><td class=\"c3\"> وَأَدْخِلْنَا فِي رَحْمَتِكَ وَأَنْتَ أَرْحَمُ <span class=\"auu\">الرَّاحِمِينَ</span></td></tr><tr><td class=\"c1\"><span class=\"l\">(12:64:17)</span> <i class=\"ab\">l-rāḥimīna</i></td><td class=\"c2\"><a href=\"wordmorphology.jsp?location=(12:64:17)\" name=\"(12:64:17)\">(of) the merciful</a></td><td class=\"c3\"> فَاللَّهُ خَيْرٌ حَافِظًا وَهُوَ أَرْحَمُ <span class=\"auu\">الرَّاحِمِينَ</span></td></tr><tr><td class=\"c1\"><span class=\"l\">(12:92:11)</span> <i class=\"ab\">l-rāḥimīna</i></td><td class=\"c2\"><a href=\"wordmorphology.jsp?location=(12:92:11)\" name=\"(12:92:11)\">(of) those who show mercy</a></td><td class=\"c3\"> قَالَ لَا تَثْرِيبَ عَلَيْكُمُ الْيَوْمَ يَغْفِرُ اللَّهُ لَكُمْ وَهُوَ أَرْحَمُ <span class=\"auu\">الرَّاحِمِينَ</span></td></tr><tr><td class=\"c1\"><span class=\"l\">(21:83:10)</span> <i class=\"ab\">l-rāḥimīna</i></td><td class=\"c2\"><a href=\"wordmorphology.jsp?location=(21:83:10)\" name=\"(21:83:10)\">(of) the Merciful</a></td><td class=\"c3\"> وَأَيُّوبَ إِذْ نَادَىٰ رَبَّهُ أَنِّي مَسَّنِيَ الضُّرُّ وَأَنْتَ أَرْحَمُ <span class=\"auu\">الرَّاحِمِينَ</span></td></tr><tr><td class=\"c1\"><span class=\"l\">(23:109:14)</span> <i class=\"ab\">l-rāḥimīna</i></td><td class=\"c2\"><a href=\"wordmorphology.jsp?location=(23:109:14)\" name=\"(23:109:14)\">(of) those who show mercy</a></td><td class=\"c3\"> رَبَّنَا آمَنَّا فَاغْفِرْ لَنَا وَارْحَمْنَا وَأَنْتَ خَيْرُ <span class=\"auu\">الرَّاحِمِينَ</span></td></tr><tr><td class=\"c1\"><span class=\"l\">(23:118:7)</span> <i class=\"ab\">l-rāḥimīna</i></td><td class=\"c2\"><a href=\"wordmorphology.jsp?location=(23:118:7)\" name=\"(23:118:7)\">(of) those who show mercy</a></td><td class=\"c3\"> وَقُلْ رَبِّ اغْفِرْ وَارْحَمْ وَأَنْتَ خَيْرُ <span class=\"auu\">الرَّاحِمِينَ</span></td></tr></table>\n",
       "<h4>See Also</h4><ul class=\"also\"><li><a href=\"http://www.tyndalearchive.com/tabs/lane\" target=\"blank\">Lane's Lexicon</a> <img src=\"/images/link.gif\"/> - Classical Arabic dictionary</li></ul>\n",
       "<div class=\"navigationPane\"><a href=\"?q=rHl\"><img src=\"/images/nav-previous.png\"/></a> <a href=\"?q=rjm\">ر ج م</a> | <a href=\"?q=rjw\">ر ج و</a> | <a href=\"?q=rHb\">ر ح ب</a> | <a href=\"?q=rHq\">ر ح ق</a> | <a href=\"?q=rHl\">ر ح ل</a> | <b>ر ح م</b> | <a href=\"?q=rxw\">ر خ و</a> | <a href=\"?q=rdA\">ر د أ</a> | <a href=\"?q=rdd\">ر د د</a> | <a href=\"?q=rdf\">ر د ف</a> | <a href=\"?q=rdm\">ر د م</a> <a href=\"?q=rxw\"><img src=\"/images/nav-next.png\"/></a></div>\n",
       "</div>\n",
       "</td>"
      ]
     },
     "execution_count": 206,
     "metadata": {},
     "output_type": "execute_result"
    }
   ],
   "source": [
    "tblReq"
   ]
  },
  {
   "cell_type": "code",
   "execution_count": null,
   "metadata": {},
   "outputs": [
    {
     "data": {
      "text/plain": [
       "<h4 class=\"dxe\">Verb (form I) - to have mercy</h4>"
      ]
     },
     "execution_count": 204,
     "metadata": {},
     "output_type": "execute_result"
    }
   ],
   "source": [
    "# soup = BeautifulSoup(\n",
    "#     tblReq,\n",
    "#     'lxml',\n",
    "#     # 'html.parser',\n",
    "# )\n",
    "head4 = tblReq.find_all(\n",
    "    \"h4\",\n",
    "    {\"class\":\"dxe\"}\n",
    ")[0]\n",
    "\n",
    "head4"
   ]
  },
  {
   "cell_type": "code",
   "execution_count": null,
   "metadata": {},
   "outputs": [],
   "source": [
    "def find_grm(pos,soup):\n",
    "    posRow = soup.find(\n",
    "        # \"h4\",\n",
    "        string=f\"({pos})\"\n",
    "    )\n",
    "    \n",
    "    tblReq = posRow.parent.parent.parent.parent\n",
    "\n",
    "    headReq = tblReq.find_all(\n",
    "        \"h4\",\n",
    "        {\"class\":\"dxe\"}\n",
    "    )[0]\n",
    "    tblInfo = headReq.text.split('-')\n",
    "    tblGrm = tblInfo[0]\n",
    "    tblMean = None if ( len(tblInfo) < 1 ) else tblInfo[1]\n",
    "    tblForms = re.findall('\\(form (.*?)\\)', tblGrm)\n",
    "    if len(tblForms) == 0:\n",
    "        tblForm = 'All'\n",
    "    else:\n",
    "        # print(tempForms[0])\n",
    "        tblForm = tblForms[0]\n",
    "    tblPoSps = re.findall(f'(^[^\\(\\)]*?(?=\\s*$|\\s*\\())', tblGrm)\n",
    "    if len(tblPoSps) == 0:\n",
    "        tblPoSp = 'All'\n",
    "    else:\n",
    "        # print(tempPtSps[0])\n",
    "        tblPoSp = tblPoSps[0]\n",
    "\n",
    "    if tblForm == 'All':\n",
    "        if tblPoSp != 'All':\n",
    "            tblForm = 'I'"
   ]
  },
  {
   "cell_type": "code",
   "execution_count": null,
   "metadata": {},
   "outputs": [],
   "source": [
    "def tbling(soup,pos,lnkQry):\n",
    "    headTbls = re.findall('(<h4 class=\"dxe\">.*?(?=<h4))',grabhtml,re.DOTALL)\n",
    "\n",
    "    # print(len(headTbls))\n",
    "\n",
    "    for headTbl in headTbls:\n",
    "        tblAgg = []\n",
    "        soup = BeautifulSoup(\n",
    "            headTbl,\n",
    "            'lxml',\n",
    "            # 'html.parser',\n",
    "        )\n",
    "        head4 = soup.find_all(\n",
    "            \"h4\",\n",
    "            {\"class\":\"dxe\"}\n",
    "        )[0]\n",
    "\n",
    "        # if len(tblsRet) > 0:\n",
    "            # print(len(tblsRet) > 0)\n",
    "            # print(len(tblsRet))\n",
    "            # if len(tblsRet) == len(head4s):\n",
    "            # print(len(tblsRet) == len(head4s))\n",
    "        # for i in range(len(head4s)):\n",
    "            # print(head4s[i].text)\n",
    "\n",
    "        tblGrm = head4.text.split('-')[0]\n",
    "        tblForms = re.findall('\\(form (.*?)\\)', tblGrm)\n",
    "        if len(tblForms) == 0:\n",
    "            tblForm = 'All'\n",
    "        else:\n",
    "            # print(tempForms[0])\n",
    "            tblForm = tblForms[0]\n",
    "        tblPoSps = re.findall(f'(^[^\\(\\)]*?(?=\\s*$|\\s*\\())', tblGrm)\n",
    "        if len(tblPoSps) == 0:\n",
    "            tblPoSp = 'All'\n",
    "        else:\n",
    "            # print(tempPtSps[0])\n",
    "            tblPoSp = tblPoSps[0]\n",
    "\n",
    "        if tblForm == 'All':\n",
    "            if tblPoSp != 'All':\n",
    "                tblForm = 'I'\n",
    "        print(\n",
    "            # grm, \n",
    "            tblForm, \n",
    "            tblPoSp\n",
    "        )\n",
    "\n",
    "        tbls = soup.find_all(\n",
    "            \"table\",\n",
    "            {\"class\":\"taf\"}\n",
    "        )\n",
    "\n",
    "        # tblAgg = [ tbl for tbl in tbls ]\n",
    "\n",
    "        # print(tblsRet)\n",
    "        for tbl in tbls:\n",
    "            if tblPoSp == poSp and tblForm == frm:\n",
    "                tblAgg += tbl\n",
    "        print(\"tblAgg length\", len(tblAgg))\n",
    "        tblCumul,instDct = tblUp(tblCumul,tblAgg,instDct,\n",
    "                                #  tempForm,tempPtSp\n",
    "                                stri,lnk\n",
    "                                    )\n"
   ]
  },
  {
   "cell_type": "markdown",
   "metadata": {},
   "source": [
    "# html"
   ]
  },
  {
   "cell_type": "code",
   "execution_count": 485,
   "metadata": {},
   "outputs": [],
   "source": [
    "def recFinished(pos,lnkQry=''):\n",
    "    flPth = f'data/htmlCompleted.tsv'\n",
    "    import csv\n",
    "    list_header=[\"position\",\"link_query\"]\n",
    "    # print('entered recFinished')\n",
    "    with open(flPth) as f:\n",
    "        finishedOld = csv.DictReader(f, delimiter='\\t')\n",
    "        areHeaders = len(finishedOld.fieldnames) > 0\n",
    "        finisheds = [finished[list_header[0]] for finished in finishedOld]\n",
    "        # print('read for ', pos)\n",
    "    with open(flPth,'a+') as f:\n",
    "        writer = csv.DictWriter(f, delimiter='\\t', fieldnames=list_header)\n",
    "        # if len(finisheds)==0:\n",
    "        if not areHeaders:\n",
    "            writer.writeheader()\n",
    "        if pos not in finisheds:\n",
    "            writer.writerow({\n",
    "                list_header[0] : pos,\n",
    "                list_header[1]: lnkQry\n",
    "            })\n",
    "            # print(\"finished:\", pos)\n",
    "        else:\n",
    "            # print(pos, \"already in htmlCompleted\")\n",
    "            pass"
   ]
  },
  {
   "cell_type": "code",
   "execution_count": 486,
   "metadata": {},
   "outputs": [],
   "source": [
    "def recError(pos,lnkQry=''):\n",
    "    flPth = f'data/htmlError.tsv'\n",
    "    import csv\n",
    "    list_header=[\"position\",\"link_query\"]\n",
    "    with open(flPth) as f:\n",
    "        # print(f\"loading posPthLnksOld\")\n",
    "        errRecOld = csv.DictReader(f, delimiter='\\t')\n",
    "        areHeaders = len(errRecOld.fieldnames) > 0\n",
    "        errs = [err[list_header[0]] for err in errRecOld]\n",
    "    with open(flPth,'a+') as f:\n",
    "        writer = csv.DictWriter(f, delimiter='\\t', fieldnames=list_header)\n",
    "        # if len(errs)==0:\n",
    "        if not areHeaders:\n",
    "            writer.writeheader()\n",
    "        if pos not in errs:\n",
    "            writer.writerow({\n",
    "                list_header[0] : pos,\n",
    "                list_header[1]: lnkQry\n",
    "            })\n",
    "            # print(\"error:\", pos)\n",
    "        else:\n",
    "            pass\n",
    "            # print(pos, \"still in htmlError\")\n",
    "        from pathlib import Path\n",
    "        import os\n",
    "        qrFlPth = f'data/html/{lnkQry}.html'\n",
    "        if Path(qrFlPth).is_file():\n",
    "            os.remove(qrFlPth)"
   ]
  },
  {
   "cell_type": "code",
   "execution_count": 487,
   "metadata": {},
   "outputs": [],
   "source": [
    "def writeHtml(contnt,lnkQry):\n",
    "    # print('entered writing')\n",
    "    from pathlib import Path\n",
    "    flPth = f'data/html/{lnkQry}.html'\n",
    "    if not Path(flPth).is_file():\n",
    "        # print(flPth, 'not present')\n",
    "        with open(flPth, 'w+') as f:\n",
    "            # f.write(\"\\n\".join(contnt))\n",
    "            f.write(contnt)\n",
    "            print(\"wrote\", pos, lnkQry)\n",
    "    else:\n",
    "        pass\n",
    "        # print('already', lnkQry)"
   ]
  },
  {
   "cell_type": "code",
   "execution_count": 488,
   "metadata": {},
   "outputs": [],
   "source": [
    "import csv\n",
    "flPth='data/htmlError.tsv'\n",
    "list_header=[\"position\",\"link_query\"]\n",
    "with open(flPth) as f:\n",
    "    errorsOld = csv.DictReader(f, delimiter='\\t')\n",
    "    errors = [error[list_header[0]] for error in errorsOld]\n",
    "    # print(finishedOld.fieldnames)\n",
    "    "
   ]
  },
  {
   "cell_type": "code",
   "execution_count": 489,
   "metadata": {},
   "outputs": [],
   "source": [
    "flPth='data/htmlCompleted.tsv'\n",
    "list_header=[\"position\",\"link_query\"]\n",
    "with open(flPth) as f:\n",
    "    finishedOld = csv.DictReader(f, delimiter='\\t')\n",
    "    finisheds = [finished[list_header[0]] for finished in finishedOld]\n",
    "    # print(finishedOld.fieldnames)\n",
    "    "
   ]
  },
  {
   "cell_type": "code",
   "execution_count": 490,
   "metadata": {},
   "outputs": [
    {
     "data": {
      "text/plain": [
       "(53932, 77438, 0)"
      ]
     },
     "execution_count": 490,
     "metadata": {},
     "output_type": "execute_result"
    }
   ],
   "source": [
    "len(finisheds), len(poss), len(errors)"
   ]
  },
  {
   "cell_type": "code",
   "execution_count": 496,
   "metadata": {},
   "outputs": [],
   "source": [
    "left = [pos for pos in poss if (pos not in finisheds and pos not in errors)]"
   ]
  },
  {
   "cell_type": "code",
   "execution_count": 497,
   "metadata": {},
   "outputs": [
    {
     "data": {
      "text/plain": [
       "23506"
      ]
     },
     "execution_count": 497,
     "metadata": {},
     "output_type": "execute_result"
    }
   ],
   "source": [
    "len(left)"
   ]
  },
  {
   "cell_type": "code",
   "execution_count": 498,
   "metadata": {},
   "outputs": [
    {
     "data": {
      "text/plain": [
       "'96:2:3'"
      ]
     },
     "execution_count": 498,
     "metadata": {},
     "output_type": "execute_result"
    }
   ],
   "source": [
    "left[0]"
   ]
  },
  {
   "cell_type": "code",
   "execution_count": 527,
   "metadata": {},
   "outputs": [],
   "source": [
    "def posGet(pos,lnkQry=None,strlnks=[]):\n",
    "    import requests\n",
    "    from bs4 import BeautifulSoup\n",
    "    # for pos in poss:\n",
    "    # if pos == \"1:1:1\":\n",
    "    if pos not in finisheds:\n",
    "        if lnkQry == None:\n",
    "            wrdLnk = f\"https://corpus.quran.com/wordmorphology.jsp?location=({pos})\"\n",
    "            grabhtml = requests.get(wrdLnk).text\n",
    "            # print(type(grabhtml))\n",
    "\n",
    "            import re\n",
    "\n",
    "            soup = BeautifulSoup(\n",
    "                grabhtml,\n",
    "                'lxml',\n",
    "                # 'html.parser',\n",
    "            )\n",
    "            # tknCells = soup.find_all(\n",
    "            #     \"td\",\n",
    "            #     {\"class\":\"tokenCell\"}\n",
    "            # )\n",
    "\n",
    "            # if len(tknCells) > 0:\n",
    "            #     tknCell = tknCells[0]\n",
    "            #     tknCell.find_all(\n",
    "            #         \"a\"\n",
    "            #     )\n",
    "\n",
    "            lnkQrys = re.findall(\n",
    "                'qurandictionary.jsp\\?q=([^#]*(?=#))',\n",
    "                # soup.text\n",
    "                grabhtml\n",
    "            )\n",
    "\n",
    "            if len(lnkQrys) == 0:\n",
    "                # print(\"string not found for\", pos)\n",
    "                recError(pos,)\n",
    "                # print('failed while lnkQrys length')\n",
    "            else:\n",
    "                lnkQry = lnkQrys[0]\n",
    "                strlnks = [f\"https://corpus.quran.com/qurandictionary.jsp?q={lnkQry}\"]\n",
    "                \n",
    "    if strlnks != [] and lnkQry != None:\n",
    "        contntLs = []\n",
    "        for strlnk in strlnks:\n",
    "            # strlnk = f\"https://corpus.quran.com/qurandictionary.jsp?q={lnkQry}#({pos})\"\n",
    "            grabhtml = requests.get(strlnk).text\n",
    "            soup = BeautifulSoup(\n",
    "                grabhtml,\n",
    "                'lxml',\n",
    "                # 'html.parser',\n",
    "            )\n",
    "            tbls = soup.select(\n",
    "                \"table.taf\"\n",
    "                # \"ul\",\n",
    "                # {\"class\":\"also\"}\n",
    "            )\n",
    "\n",
    "            if len(tbls)>0:\n",
    "                firstTbl= tbls[0]\n",
    "                firstRow = list(list(list(firstTbl.children)[0].children)[0])[2].text\n",
    "\n",
    "                if firstRow != 'ādama':\n",
    "                    contnt = soup.select(\n",
    "                        \"ul.also>li, h4.dxe, table.taf\"\n",
    "                        # \"ul\",\n",
    "                        # {\"class\":\"also\"}\n",
    "                    )\n",
    "\n",
    "                    contntLs += [ str(cont) for cont in contnt ]\n",
    "\n",
    "        \n",
    "        if len(contntLs) == 0 or contnt == None:\n",
    "            recError(pos,lnkQry)\n",
    "            # print('failed while content lenght')\n",
    "        else:\n",
    "            try:\n",
    "                contntHtml = \"\\n\".join(contntLs)\n",
    "                writeHtml(contntHtml,lnkQry)\n",
    "                recFinished(pos,lnkQry)\n",
    "            except:\n",
    "                recError(pos,lnkQry)\n",
    "                # print('failed while writing')\n",
    "        # poSp, frm = find_grm(pos,soup)\n",
    "\n",
    "        # tbling(soup,pos,lnkQry)"
   ]
  },
  {
   "cell_type": "code",
   "execution_count": 244,
   "metadata": {},
   "outputs": [
    {
     "data": {
      "text/plain": [
       "'96:1:1'"
      ]
     },
     "execution_count": 244,
     "metadata": {},
     "output_type": "execute_result"
    }
   ],
   "source": [
    "poss[0]"
   ]
  },
  {
   "cell_type": "code",
   "execution_count": 48,
   "metadata": {},
   "outputs": [
    {
     "name": "stdout",
     "output_type": "stream",
     "text": [
      "wrote 64:9:7 gbn\n",
      "wrote 61:8:2 TfA\n",
      "wrote 5:1:16 Syd\n",
      "wrote 5:26:7 tyh\n",
      "wrote 5:31:4 bHv\n",
      "wrote 5:33:22 nfy\n",
      "wrote 5:48:29 nhj\n",
      "wrote 5:83:11 dmE\n",
      "wrote 5:94:11 rmH\n",
      "wrote 5:103:7 syb\n",
      "wrote 9:8:8 All\n",
      "wrote 9:24:13 ksd\n",
      "wrote 9:28:6 njs\n",
      "wrote 9:30:14 DhA\n",
      "wrote 9:35:7 kwy\n",
      "wrote 9:35:9 jbh\n",
      "wrote 9:57:11 jmH\n",
      "wrote 9:108:6 Ass\n",
      "wrote 9:109:16 jrf\n",
      "wrote 5:3:12 xnq\n",
      "wrote 5:3:13 wq*\n",
      "wrote 5:3:15 nTH\n",
      "wrote 5:3:21 *kw\n"
     ]
    }
   ],
   "source": [
    "# for pos in [\"1:1:1\"]:\n",
    "for pos in left:\n",
    "    # print(pos)\n",
    "    posGet(pos)"
   ]
  },
  {
   "cell_type": "code",
   "execution_count": null,
   "metadata": {},
   "outputs": [],
   "source": [
    "list_header = [\"surah_ayah_position\",\"meaning\",\"string_paths_links\"]\n",
    "import csv\n",
    "start_time=time.time()\n",
    "# for pos in poss:\n",
    "with open('data/posPthLnks.tsv', 'a') as f:\n",
    "    # with open('data/posPthLnks.tsv', 'w+') as f:\n",
    "        # print(f\"writing {stri} to '{filepath}'\")\n",
    "    writer = csv.DictWriter(f, delimiter='\\t', fieldnames=list_header)\n",
    "    writer.writeheader()\n",
    "        # for datum in instLst:\n",
    "        # for k, datum in instDct.items():\n",
    "    # for pos, datum in posPthLnksNew.items():\n",
    "    for pos in poss:\n",
    "        if pos not in posPthLnksOld.keys():\n",
    "            writer.writerow({\n",
    "                list_header[0] : pos,\n",
    "                # list_header[1] : datum.stri,\n",
    "                # list_header[2] : datum.flt,\n",
    "                # list_header[3] : datum.strTyp,\n",
    "                # list_header[4] : datum.poSp,\n",
    "                # list_header[5] : datum.frm,\n",
    "                # list_header[6] : datum.lnkPths,\n",
    "            })\n",
    "end_time=time.time()"
   ]
  },
  {
   "cell_type": "code",
   "execution_count": 104,
   "metadata": {},
   "outputs": [
    {
     "name": "stdout",
     "output_type": "stream",
     "text": [
      "time_taken:  0.09699058532714844\n"
     ]
    }
   ],
   "source": [
    "time_taken = end_time-start_time\n",
    "print(f\"time_taken: \", time_taken)"
   ]
  },
  {
   "cell_type": "markdown",
   "metadata": {},
   "source": [
    "# stats"
   ]
  },
  {
   "cell_type": "markdown",
   "metadata": {},
   "source": [
    "# error lem"
   ]
  },
  {
   "cell_type": "code",
   "execution_count": null,
   "metadata": {},
   "outputs": [],
   "source": []
  },
  {
   "cell_type": "markdown",
   "metadata": {},
   "source": [
    "# html completed"
   ]
  },
  {
   "cell_type": "code",
   "execution_count": null,
   "metadata": {},
   "outputs": [],
   "source": [
    "flPth='data/htmlCompleted.tsv'\n",
    "list_header=[\"position\",\"link_query\"]\n",
    "with open(flPth) as f:\n",
    "    finishedOld = csv.DictReader(f, delimiter='\\t')\n",
    "    finisheds = [finished[list_header[0]] for finished in finishedOld]\n",
    "    # print(finishedOld.fieldnames)\n",
    "    "
   ]
  },
  {
   "cell_type": "markdown",
   "metadata": {},
   "source": [
    "# rename buckwalter to arabic"
   ]
  },
  {
   "cell_type": "code",
   "execution_count": 433,
   "metadata": {},
   "outputs": [],
   "source": [
    "flPth='data/html'\n",
    "import os\n",
    "subdirs = ['root','lem','stem']\n",
    "flNms = [flnm for flnm in os.listdir(flPth) if flnm not in subdirs]"
   ]
  },
  {
   "cell_type": "code",
   "execution_count": 80,
   "metadata": {},
   "outputs": [
    {
     "data": {
      "text/plain": [
       "1523"
      ]
     },
     "execution_count": 80,
     "metadata": {},
     "output_type": "execute_result"
    }
   ],
   "source": [
    "len(flNms)"
   ]
  },
  {
   "cell_type": "code",
   "execution_count": 71,
   "metadata": {},
   "outputs": [],
   "source": [
    "from urllib.parse import quote"
   ]
  },
  {
   "cell_type": "code",
   "execution_count": 136,
   "metadata": {},
   "outputs": [
    {
     "data": {
      "text/plain": [
       "True"
      ]
     },
     "execution_count": 136,
     "metadata": {},
     "output_type": "execute_result"
    }
   ],
   "source": [
    "'~' in arbCharD.keys()"
   ]
  },
  {
   "cell_type": "code",
   "execution_count": 137,
   "metadata": {},
   "outputs": [],
   "source": [
    "arbCharDLeft = arbCharD.copy()"
   ]
  },
  {
   "cell_type": "code",
   "execution_count": 138,
   "metadata": {},
   "outputs": [],
   "source": [
    "uriQuoteDict = {}\n",
    "for bkw in arbCharD.keys():\n",
    "    # print(quote(bkw))\n",
    "    if quote(bkw) == bkw:\n",
    "        arbCharDLeft.pop(bkw)\n",
    "    if quote(bkw) != bkw:\n",
    "        uriQuoteDict[quote(bkw)] = bkw"
   ]
  },
  {
   "cell_type": "code",
   "execution_count": 143,
   "metadata": {},
   "outputs": [
    {
     "data": {
      "text/plain": [
       "(True, '~')"
      ]
     },
     "execution_count": 143,
     "metadata": {},
     "output_type": "execute_result"
    }
   ],
   "source": [
    "# quote('%7E') == '%7E'\n",
    "quote('~') == '~', quote('~')"
   ]
  },
  {
   "cell_type": "code",
   "execution_count": 194,
   "metadata": {},
   "outputs": [],
   "source": [
    "uriQuoteDict[\"%7E\"] = '~'"
   ]
  },
  {
   "cell_type": "code",
   "execution_count": 196,
   "metadata": {},
   "outputs": [
    {
     "data": {
      "text/plain": [
       "(True, True)"
      ]
     },
     "execution_count": 196,
     "metadata": {},
     "output_type": "execute_result"
    }
   ],
   "source": [
    "'%7E'in uriQuoteDict.keys(), '~' in uriQuoteDict.values()"
   ]
  },
  {
   "cell_type": "code",
   "execution_count": 195,
   "metadata": {},
   "outputs": [],
   "source": [
    "# uriQuoteDict\n",
    "uriQuoteLs = uriQuoteDict.keys()"
   ]
  },
  {
   "cell_type": "code",
   "execution_count": 139,
   "metadata": {},
   "outputs": [
    {
     "name": "stdout",
     "output_type": "stream",
     "text": [
      "{'%27': \"'\", '%3E': '>', '%26': '&', '%3C': '<', '%7D': '}', '%2A': '*', '%24': '$', '%5E': '^', '%23': '#', '%60': '`', '%7B': '{', '%3A': ':', '%40': '@', '%22': '\"', '%5B': '[', '%3B': ';', '%2C': ',', '%21': '!', '%2B': '+', '%25': '%', '%5D': ']'}\n"
     ]
    },
    {
     "data": {
      "text/plain": [
       "(None, 21, 21)"
      ]
     },
     "execution_count": 139,
     "metadata": {},
     "output_type": "execute_result"
    }
   ],
   "source": [
    "print(uriQuoteDict), len(arbCharDLeft), len(uriQuoteDict)"
   ]
  },
  {
   "cell_type": "code",
   "execution_count": null,
   "metadata": {},
   "outputs": [],
   "source": [
    "print(arbCharD)"
   ]
  },
  {
   "cell_type": "code",
   "execution_count": null,
   "metadata": {},
   "outputs": [
    {
     "data": {
      "text/plain": [
       "('$Am', '$Am.html')"
      ]
     },
     "execution_count": 85,
     "metadata": {},
     "output_type": "execute_result"
    }
   ],
   "source": [
    "# flNm = flNms[0]\n",
    "# flNm.replace('.html',''), flNm"
   ]
  },
  {
   "cell_type": "code",
   "execution_count": 102,
   "metadata": {},
   "outputs": [],
   "source": [
    "renameLfts = set(flNms)"
   ]
  },
  {
   "cell_type": "code",
   "execution_count": 107,
   "metadata": {},
   "outputs": [],
   "source": [
    "for flNm in flNms:\n",
    "    if flNm[0] in arbChars:\n",
    "        arbStr = flNm.replace('.html','')\n",
    "        os.rename(os.path.join(flPth,flNm),os.path.join(\"data/htmlArb\",f\"{arbStr}.html\"))\n",
    "        renameLfts.remove(flNm)\n"
   ]
  },
  {
   "cell_type": "code",
   "execution_count": 122,
   "metadata": {},
   "outputs": [
    {
     "name": "stdout",
     "output_type": "stream",
     "text": [
      "bkwStr %3Cil%7EaA\n",
      "bkwStr replace <il~aA\n",
      "arbstr إِلَّا\n",
      "bkwStr %3Eam%7EaA\n",
      "bkwStr replace >am~aA\n",
      "arbstr أَمَّا\n",
      "bkwStr %7Bl%7Ea*iY\n",
      "bkwStr replace {l~a*iY\n",
      "arbstr ٱلَّذِى\n"
     ]
    }
   ],
   "source": [
    "for flNm in flNms:\n",
    "    if flNm[0] not in arbChars:\n",
    "        try:\n",
    "            bkwStr = flNm.replace('.html','')\n",
    "            print(\"bkwStr\",bkwStr)\n",
    "            for uriQuote in uriQuoteLs:\n",
    "                if uriQuote in bkwStr:\n",
    "                    bkwStr = bkwStr.replace(uriQuote, uriQuoteDict[uriQuote])\n",
    "            print(\"bkwStr replace\",bkwStr)\n",
    "            arbStr = ''\n",
    "            for bkwChr in bkwStr:\n",
    "                arbStr += arbCharD[bkwChr]\n",
    "            print(\"arbstr\",arbStr,'\\n')\n",
    "            os.rename(os.path.join(flPth,flNm),os.path.join(\"data/htmlArb\",f\"{arbStr}.html\"))\n",
    "            renameLfts.remove(flNm)\n",
    "        except:\n",
    "            # renameLfts.add(flNm)\n",
    "            pass"
   ]
  },
  {
   "cell_type": "code",
   "execution_count": 108,
   "metadata": {},
   "outputs": [
    {
     "data": {
      "text/plain": [
       "4"
      ]
     },
     "execution_count": 108,
     "metadata": {},
     "output_type": "execute_result"
    }
   ],
   "source": [
    "len(renameLfts)"
   ]
  },
  {
   "cell_type": "markdown",
   "metadata": {},
   "source": [
    "# sep files by string type"
   ]
  },
  {
   "cell_type": "code",
   "execution_count": null,
   "metadata": {},
   "outputs": [],
   "source": [
    "flPth='data/html'\n",
    "import os\n",
    "subdirs = ['root','lem','stem']\n",
    "flNms = [flnm for flnm in os.listdir(flPth) if flnm not in subdirs]\n",
    "for flNm in flNms:\n",
    "    stri = flNm.replace('.html','')\n",
    "    strTyp = 'root'\n",
    "    for char in stri:\n",
    "        if char in arbVwlsDict.values():\n",
    "            strTyp = 'lem'\n",
    "            break\n",
    "    os.rename(os.path.join(flPth,flNm),os.path.join(f\"{flPth}/{strTyp}\",f\"{stri}.html\"))"
   ]
  },
  {
   "cell_type": "markdown",
   "metadata": {},
   "source": [
    "# posStr"
   ]
  },
  {
   "cell_type": "code",
   "execution_count": 426,
   "metadata": {},
   "outputs": [],
   "source": [
    "flPth='data/htmlCompleted.tsv'\n",
    "list_header=[\"position\",\"link_query\"]\n",
    "with open(flPth) as f:\n",
    "    finishedOld = csv.DictReader(f, delimiter='\\t')\n",
    "    posStriFinishedDict1 = {finished[list_header[0]] : finished[list_header[1]]  for finished in finishedOld}\n",
    "    # print(finishedOld.fieldnames)\n",
    "    "
   ]
  },
  {
   "cell_type": "code",
   "execution_count": 427,
   "metadata": {},
   "outputs": [],
   "source": [
    "posStriFinishedDict = {}\n",
    "for pos, stri in posStriFinishedDict1.items():\n",
    "    if pos in posDic:\n",
    "        if stri[0] not in arbChars:\n",
    "            try:\n",
    "                # bkwStr = flNm.replace('.html','')\n",
    "                # print(\"stri\",stri)\n",
    "                for uriQuote in uriQuoteLs:\n",
    "                    if uriQuote in stri:\n",
    "                        stri = stri.replace(uriQuote, uriQuoteDict[uriQuote])\n",
    "                # print(\"bkwStr replace\",bkwStr)\n",
    "                arbStr = ''\n",
    "                for striChr in stri:\n",
    "                    arbStr += arbCharD[striChr]\n",
    "                # isLem = False\n",
    "                # for arbChr in arbStr:\n",
    "                #     if arbChr in arbVwlsDict.values():\n",
    "                #         isLem = True\n",
    "                # strTyp = \"lem\" if isLem else \"root\"\n",
    "                posStriFinishedDict[pos] = arbStr\n",
    "                # posStriFinishedDict[pos] = [\n",
    "                #     {\n",
    "                #         \"strTyp\": strTyp,\n",
    "                #         \"stri\": arbStr\n",
    "                #     }\n",
    "\n",
    "                # ]\n",
    "                # print(\"arbstr\",arbStr,'\\n')\n",
    "                # os.rename(os.path.join(flPth,flNm),os.path.join(\"data/htmlArb\",f\"{arbStr}.html\"))\n",
    "                # renameLfts.remove(flNm)\n",
    "            except:\n",
    "                # renameLfts.add(flNm)\n",
    "                print(stri)\n",
    "                # pass"
   ]
  },
  {
   "cell_type": "code",
   "execution_count": 428,
   "metadata": {},
   "outputs": [
    {
     "data": {
      "text/plain": [
       "(53932, 58505)"
      ]
     },
     "execution_count": 428,
     "metadata": {},
     "output_type": "execute_result"
    }
   ],
   "source": [
    "len(posStriFinishedDict), len(posStriFinishedDict1)"
   ]
  },
  {
   "cell_type": "code",
   "execution_count": 429,
   "metadata": {},
   "outputs": [],
   "source": [
    "import csv\n",
    "flPth='data/htmlCompleted.tsv'\n",
    "list_header=[\"position\",\"link_query\"]\n",
    "with open(flPth, 'w+') as f:\n",
    "    writer = csv.DictWriter(f, delimiter='\\t', fieldnames=list_header)\n",
    "    writer.writeheader()\n",
    "    # for datum in instLst:\n",
    "    # for k, datum in instDct.items():\n",
    "    for k,v in posStriFinishedDict.items():\n",
    "        writer.writerow({\n",
    "            list_header[0] : k,\n",
    "            list_header[1] : v,\n",
    "        })\n",
    "    "
   ]
  },
  {
   "cell_type": "code",
   "execution_count": 371,
   "metadata": {},
   "outputs": [],
   "source": [
    "posFinishedDict = posStriFinishedDict.keys()"
   ]
  },
  {
   "cell_type": "code",
   "execution_count": 372,
   "metadata": {},
   "outputs": [
    {
     "data": {
      "text/plain": [
       "53932"
      ]
     },
     "execution_count": 372,
     "metadata": {},
     "output_type": "execute_result"
    }
   ],
   "source": [
    "len(posStriFinishedDict)"
   ]
  },
  {
   "cell_type": "code",
   "execution_count": 316,
   "metadata": {},
   "outputs": [
    {
     "data": {
      "text/plain": [
       "'ٱقْرَأْ'"
      ]
     },
     "execution_count": 316,
     "metadata": {},
     "output_type": "execute_result"
    }
   ],
   "source": [
    "posDic[\"96:1:\"]"
   ]
  },
  {
   "cell_type": "code",
   "execution_count": null,
   "metadata": {},
   "outputs": [],
   "source": [
    "# arbCharD"
   ]
  },
  {
   "cell_type": "code",
   "execution_count": 384,
   "metadata": {},
   "outputs": [
    {
     "data": {
      "text/plain": [
       "('96:1:1', 'قرا')"
      ]
     },
     "execution_count": 384,
     "metadata": {},
     "output_type": "execute_result"
    }
   ],
   "source": [
    "list(posStriFinishedDict.items())[0]"
   ]
  },
  {
   "cell_type": "code",
   "execution_count": null,
   "metadata": {},
   "outputs": [],
   "source": []
  },
  {
   "cell_type": "code",
   "execution_count": 202,
   "metadata": {},
   "outputs": [
    {
     "data": {
      "text/plain": [
       "(77438, '96:1:1')"
      ]
     },
     "execution_count": 202,
     "metadata": {},
     "output_type": "execute_result"
    }
   ],
   "source": [
    "len(posSer), posSer[0]"
   ]
  },
  {
   "cell_type": "code",
   "execution_count": 373,
   "metadata": {},
   "outputs": [],
   "source": [
    "posStrFirstDict = {}\n",
    "strPosDict = {}\n",
    "for pos in posSer:\n",
    "    if pos in posFinishedDict:\n",
    "        stri = posStriFinishedDict[pos]\n",
    "        if stri not in strPosDict:\n",
    "            strPosDict[stri] = pos\n",
    "            posStrFirstDict[pos] = stri"
   ]
  },
  {
   "cell_type": "code",
   "execution_count": 374,
   "metadata": {},
   "outputs": [
    {
     "data": {
      "text/plain": [
       "(1664,)"
      ]
     },
     "execution_count": 374,
     "metadata": {},
     "output_type": "execute_result"
    }
   ],
   "source": [
    "len(posStrFirstDict), \n",
    "# posStrFirstDict"
   ]
  },
  {
   "cell_type": "code",
   "execution_count": 375,
   "metadata": {},
   "outputs": [],
   "source": [
    "surStriFirstsDIct = {}\n",
    "\n",
    "for pos, stri in posStrFirstDict.items():\n",
    "    sur = pos.split(':')[0]\n",
    "    if sur not in surStriFirstsDIct:\n",
    "        surStriFirstsDIct[sur] = {pos : stri}\n",
    "    else:\n",
    "        surStriFirstsDIct[sur][pos] = stri"
   ]
  },
  {
   "cell_type": "code",
   "execution_count": 376,
   "metadata": {},
   "outputs": [
    {
     "data": {
      "text/plain": [
       "105"
      ]
     },
     "execution_count": 376,
     "metadata": {},
     "output_type": "execute_result"
    }
   ],
   "source": [
    "len(surStriFirstsDIct)"
   ]
  },
  {
   "cell_type": "code",
   "execution_count": 377,
   "metadata": {},
   "outputs": [],
   "source": [
    "import json\n",
    "with open('surah_strings_firsts', 'w+') as f:\n",
    "    f.write(json.dumps(surStriFirstsDIct))"
   ]
  },
  {
   "cell_type": "code",
   "execution_count": 378,
   "metadata": {},
   "outputs": [],
   "source": [
    "import json\n",
    "with open('surah_strings_firsts') as f:\n",
    "    surStriFirstsDIct = json.loads(f.read())"
   ]
  },
  {
   "cell_type": "code",
   "execution_count": 379,
   "metadata": {},
   "outputs": [],
   "source": [
    "with open('qdict.json') as f:\n",
    "    qDict = json.loads(f.read())"
   ]
  },
  {
   "cell_type": "code",
   "execution_count": 380,
   "metadata": {},
   "outputs": [
    {
     "data": {
      "text/plain": [
       "(114, 105)"
      ]
     },
     "execution_count": 380,
     "metadata": {},
     "output_type": "execute_result"
    }
   ],
   "source": [
    "len(qDict), len(surStriFirstsDIct)"
   ]
  },
  {
   "cell_type": "code",
   "execution_count": 381,
   "metadata": {},
   "outputs": [
    {
     "data": {
      "text/plain": [
       "['48', '57', '62', '65', '82', '98', '99', '109', '110']"
      ]
     },
     "execution_count": 381,
     "metadata": {},
     "output_type": "execute_result"
    }
   ],
   "source": [
    "[sur for sur in qDict.keys() if sur not in surStriFirstsDIct.keys()]"
   ]
  },
  {
   "cell_type": "code",
   "execution_count": 212,
   "metadata": {},
   "outputs": [
    {
     "name": "stdout",
     "output_type": "stream",
     "text": [
      "96\n",
      "{'96:1:1': 'قرا', '96:1:2': 'سمو', '96:1:3': 'ربب', '96:1:4': 'ٱلَّذِى', '96:1:5': 'خلق', '96:2:2': 'انس', '96:2:4': 'علق', '96:3:3': 'كرم', '96:4:2': 'علم', '96:4:3': 'قلم', '96:6:4': 'طغي', '96:7:2': 'راي', '96:7:3': 'غني', '96:8:2': 'إِلَىٰ', '96:8:4': 'رجع', '96:9:3': 'نهي', '96:10:1': 'عبد', '96:10:2': 'إِذَا', '96:10:3': 'صلو', '96:11:3': 'كون', '96:11:5': 'هدي', '96:12:2': 'امر', '96:12:3': 'وقي', '96:13:3': 'كذب', '96:13:4': 'ولي', '96:14:4': 'اله', '96:15:5': 'سفع', '96:15:6': 'نصي', '96:16:3': 'خطا', '96:17:1': 'دعو', '96:17:2': 'ندو', '96:18:2': 'زبن', '96:19:3': 'طوع', '96:19:4': 'سجد', '96:19:5': 'قرب'}\n",
      "\n",
      "\n",
      "68\n",
      "{'68:1:4': 'سطر', '68:2:3': 'نعم', '68:2:5': 'جنن', '68:3:3': 'اجر', '68:3:4': 'غير', '68:3:5': 'منن', '68:4:4': 'عظم', '68:5:1': 'بصر', '68:6:2': 'فتن', '68:7:6': 'ضلل', '68:7:8': 'سبل', '68:9:1': 'ودد', '68:9:3': 'دهن', '68:10:3': 'كلل', '68:10:4': 'حلف', '68:10:5': 'مهن', '68:11:1': 'همز', '68:11:2': 'مشي', '68:11:3': 'نمم', '68:12:1': 'منع', '68:12:2': 'خير', '68:12:3': 'عدو', '68:12:4': 'اثم', '68:13:1': 'عتل', '68:13:2': 'بعد', '68:13:4': 'زنم', '68:14:4': 'مول', '68:14:5': 'بني', '68:15:2': 'تلو', '68:15:4': 'ايي', '68:15:5': 'قول', '68:15:7': 'اول', '68:16:1': 'وسم', '68:16:3': 'خرطم', '68:34:3': 'عند', '68:35:1': 'جعل', '68:35:2': 'سلم', '68:35:3': 'جرم', '68:36:3': 'كيف', '68:36:4': 'حكم', '68:37:1': 'أَم', '68:37:3': 'كتب', '68:37:5': 'درس', '68:39:3': 'يمن', '68:39:5': 'بلغ', '68:39:7': 'يوم', '68:39:8': 'قوم', '68:40:1': 'سال', '68:40:4': 'زعم', '68:41:3': 'شرك', '68:41:4': 'اتي', '68:41:8': 'صدق', '68:42:2': 'كشف', '68:42:4': 'سوق', '68:43:1': 'خشع', '68:43:3': 'رهق', '68:43:4': 'ذلل', '68:44:1': 'وذر', '68:44:5': 'حدث', '68:44:6': 'درج', '68:44:8': 'حيث', '68:45:1': 'ملو', '68:45:4': 'كيد', '68:45:5': 'متن', '68:46:6': 'غرم', '68:46:7': 'ثقل', '68:47:3': 'غيب', '68:51:2': 'كود', '68:51:4': 'كفر', '68:51:5': 'زلق', '68:51:8': 'سمع', '68:51:9': 'ذكر', '68:52:3': 'إِلَّا', '68:17:9': 'صرم', '68:25:3': 'حرد'}\n",
      "\n",
      "\n",
      "73\n",
      "{'73:1:2': 'زمل', '73:2:2': 'ليل', '73:2:4': 'قلل', '73:3:1': 'نصف', '73:3:3': 'نقص', '73:4:2': 'زيد', '73:4:4': 'رتل', '73:5:2': 'لقي', '73:6:2': 'نشا', '73:6:5': 'شدد', '73:6:6': 'وطا', '73:7:4': 'نهر', '73:7:5': 'سبح', '73:7:6': 'طول', '73:8:4': 'بتل', '73:9:2': 'شرق', '73:9:3': 'غرب', '73:9:8': 'اخذ', '73:9:9': 'وكل', '73:12:3': 'نكل', '73:12:4': 'جحم', '73:13:1': 'طعم', '73:13:3': 'غصص', '73:13:4': 'عذب', '73:13:5': 'الم', '73:14:2': 'رجف', '73:14:3': 'ارض', '73:14:4': 'جبل', '73:14:7': 'كثب', '73:14:8': 'هيل', '73:15:2': 'رسل', '73:15:5': 'شهد', '73:16:1': 'عصي', '73:16:6': 'وبل', '73:17:7': 'ولد', '73:17:8': 'شيب', '73:18:2': 'فطر', '73:18:5': 'وعد', '73:18:6': 'فعل', '73:19:5': 'شيا'}\n",
      "\n",
      "\n",
      "74\n",
      "{'74:1:2': 'دثر', '74:2:2': 'نذر', '74:3:2': 'كبر', '74:4:1': 'ثوب', '74:4:2': 'طهر', '74:5:1': 'رجز', '74:5:2': 'هجر', '74:6:3': 'كثر', '74:7:2': 'صبر', '74:8:2': 'نقر', '74:9:4': 'عسر', '74:10:4': 'يسر', '74:11:4': 'وحد', '74:12:4': 'مدد', '74:14:1': 'مهد', '74:15:2': 'طمع', '74:17:2': 'صعد', '74:18:2': 'فكر', '74:18:3': 'قدر', '74:19:1': 'قتل', '74:21:2': 'نظر', '74:22:2': 'عبس', '74:22:3': 'بسر', '74:23:2': 'دبر', '74:24:5': 'سحر', '74:24:6': 'اثر', '74:25:5': 'بشر', '74:26:1': 'صلي', '74:27:2': 'دري', '74:28:2': 'بقي', '74:29:1': 'لوح', '74:30:2': 'تسع', '74:30:3': 'عشر', '74:31:3': 'صحب', '74:31:4': 'نور', '74:31:6': 'ملك', '74:31:9': 'عدد', '74:31:14': 'يقن', '74:31:20': 'امن', '74:31:23': 'ريب', '74:31:31': 'قلب', '74:31:32': 'مرض', '74:31:35': 'رود', '74:31:38': 'مثل', '74:31:49': 'جند', '74:32:2': 'قمر', '74:33:2': 'إِذ', '74:34:1': 'صبح', '74:34:3': 'سفر', '74:35:2': 'احد', '74:37:5': 'قدم', '74:37:7': 'اخر', '74:38:2': 'نفس', '74:38:4': 'كسب', '74:38:5': 'رهن', '74:42:2': 'سلك', '74:44:4': 'سكن', '74:45:2': 'خوض', '74:46:4': 'دين', '74:48:2': 'نفع', '74:48:3': 'شفع', '74:49:5': 'عرض', '74:50:2': 'حمر', '74:50:3': 'نفر', '74:51:1': 'فرر', '74:51:3': 'قسر', '74:52:4': 'مرا', '74:52:8': 'صحف', '74:52:9': 'نشر', '74:53:4': 'خوف', '74:56:8': 'اهل', '74:56:11': 'غفر'}\n",
      "\n",
      "\n",
      "1\n",
      "{'1:1:3': 'رحم', '1:2:1': 'حمد', '1:5:4': 'عون', '1:6:2': 'صرط', '1:7:6': 'غضب'}\n",
      "\n",
      "\n",
      "111\n",
      "{'111:1:1': 'تبب', '111:1:2': 'يدي', '111:1:3': 'ابو', '111:1:4': 'لهب', '111:4:2': 'حمل', '111:4:3': 'حطب', '111:5:2': 'جيد', '111:5:3': 'حبل', '111:5:5': 'مسد'}\n",
      "\n",
      "\n",
      "81\n",
      "{'81:1:2': 'شمس', '81:1:3': 'كور', '81:2:2': 'نجم', '81:2:3': 'كدر', '81:3:3': 'سير', '81:4:3': 'عطل', '81:5:2': 'وحش', '81:5:3': 'حشر', '81:6:2': 'بحر', '81:6:3': 'سجر', '81:7:3': 'زوج', '81:8:2': 'واد', '81:9:2': 'ذنب', '81:11:3': 'كشط', '81:12:3': 'سعر', '81:13:3': 'زلف', '81:14:4': 'حضر', '81:15:2': 'قسم', '81:15:3': 'خنس', '81:16:1': 'جري', '81:16:2': 'كنس', '81:17:3': 'عسعس', '81:20:2': 'قوي', '81:20:5': 'عرش', '81:20:6': 'مكن', '81:23:3': 'افق', '81:23:4': 'بين', '81:24:5': 'ضنن', '81:25:4': 'شطن', '81:25:5': 'رجم', '81:26:2': 'ذهب'}\n",
      "\n",
      "\n",
      "87\n",
      "{'87:1:4': 'علو', '87:2:3': 'سوي', '87:4:2': 'خرج', '87:4:3': 'رعي', '87:5:2': 'غثو', '87:5:3': 'حوي', '87:6:3': 'نسي', '87:7:7': 'جهر', '87:7:9': 'خفي', '87:10:3': 'خشي', '87:11:1': 'جنب', '87:11:2': 'شقو', '87:13:3': 'موت', '87:13:6': 'حيي', '87:14:2': 'فلح', '87:14:4': 'زكو', '87:16:4': 'دنو', '87:19:2': 'إِبْرَاهِيم'}\n",
      "\n",
      "\n",
      "92\n",
      "{'92:1:3': 'غشو', '92:2:3': 'جلو', '92:3:4': 'انث', '92:4:2': 'سعي', '92:4:3': 'شتت', '92:5:1': 'أَمَّا', '92:5:3': 'عطو', '92:6:2': 'حسن', '92:8:3': 'بخل', '92:11:6': 'ردي', '92:14:3': 'لظي', '92:19:6': 'جزي', '92:20:2': 'بغي', '92:20:3': 'وجه', '92:21:2': 'رضو'}\n",
      "\n",
      "\n",
      "89\n",
      "{'89:1:1': 'فجر', '89:3:2': 'وتر', '89:4:3': 'سري', '89:5:6': 'حجر', '89:6:6': 'عود', '89:7:1': 'إِرَم', '89:7:3': 'عمد', '89:8:6': 'بلد', '89:9:3': 'جوب', '89:9:4': 'صخر', '89:9:5': 'ودي', '89:10:3': 'وتد', '89:12:3': 'فسد', '89:13:1': 'صبب', '89:13:4': 'سوط', '89:14:3': 'رصد', '89:15:5': 'بلو', '89:16:7': 'رزق', '89:16:10': 'هون', '89:17:5': 'يتم', '89:18:2': 'حضض', '89:19:1': 'اكل', '89:19:2': 'ورث', '89:19:4': 'لمم', '89:20:1': 'حبب', '89:20:4': 'جمم', '89:21:3': 'دكك', '89:22:1': 'جيا', '89:22:4': 'صفف', '89:23:7': 'اني', '89:26:2': 'وثق', '89:27:3': 'طمن', '89:29:1': 'دخل'}\n",
      "\n",
      "\n",
      "93\n",
      "{'93:1:1': 'ضحو', '93:2:3': 'سجو', '93:3:2': 'ودع', '93:3:5': 'قلي', '93:6:2': 'وجد', '93:6:4': 'اوي', '93:8:2': 'عيل', '93:9:4': 'قهر'}\n",
      "\n",
      "\n",
      "94\n",
      "{'94:1:2': 'شرح', '94:1:4': 'صدر', '94:2:1': 'وضع', '94:2:3': 'وزر', '94:3:2': 'نقض', '94:3:3': 'ظهر', '94:4:1': 'رفع', '94:7:2': 'فرغ', '94:7:3': 'نصب', '94:8:3': 'رغب'}\n",
      "\n",
      "\n",
      "103\n",
      "{'103:1:1': 'عصر', '103:2:4': 'خسر', '103:3:4': 'عمل', '103:3:5': 'صلح', '103:3:6': 'وصي', '103:3:7': 'حقق'}\n",
      "\n",
      "\n",
      "100\n",
      "{'100:1:2': 'ضبح', '100:2:1': 'وري', '100:2:2': 'قدح', '100:4:1': 'ثور', '100:4:3': 'نقع', '100:5:1': 'وسط', '100:5:3': 'جمع', '100:6:4': 'كند', '100:9:4': 'بعثر', '100:9:7': 'قبر', '100:10:1': 'حصل', '100:11:5': 'خبر'}\n",
      "\n",
      "\n",
      "108\n",
      "{'108:2:3': 'نحر', '108:3:2': 'شنا', '108:3:4': 'بتر'}\n",
      "\n",
      "\n",
      "102\n",
      "{'102:1:1': 'لهو', '102:2:2': 'زور', '102:7:3': 'عين'}\n",
      "\n",
      "\n",
      "107\n",
      "{'107:2:3': 'دعع', '107:7:2': 'معن'}\n",
      "\n",
      "\n",
      "105\n",
      "{'105:1:7': 'فيل', '105:3:3': 'طير', '105:3:4': 'ابل', '105:4:1': 'رمي', '105:4:4': 'سجل', '105:5:2': 'عصف'}\n",
      "\n",
      "\n",
      "113\n",
      "{'113:1:2': 'عوذ', '113:1:4': 'فلق', '113:2:2': 'شرر', '113:3:3': 'غسق', '113:3:5': 'وقب', '113:4:3': 'نفث', '113:4:5': 'عقد', '113:5:3': 'حسد'}\n",
      "\n",
      "\n",
      "114\n",
      "{'114:1:4': 'نوس', '114:4:3': 'وسوس'}\n",
      "\n",
      "\n",
      "112\n",
      "{'112:2:2': 'صمد', '112:4:4': 'كفا'}\n",
      "\n",
      "\n",
      "53\n",
      "{'53:1:3': 'هوي', '53:2:5': 'غوي', '53:3:2': 'نطق', '53:4:4': 'وحي', '53:6:2': 'مرر', '53:8:3': 'دلو', '53:9:2': 'قوب', '53:9:3': 'قوس', '53:11:3': 'فاد', '53:12:1': 'مري', '53:13:3': 'نزل', '53:14:2': 'سدر', '53:17:2': 'زيغ', '53:20:2': 'ثلث', '53:22:2': 'إِذيا', '53:22:4': 'ضيز', '53:23:13': 'سلط', '53:23:15': 'تبع', '53:23:17': 'ظنن', '53:24:4': 'مني', '53:26:14': 'اذن', '53:31:10': 'سوا', '53:34:3': 'كدي', '53:36:3': 'نبا', '53:37:3': 'وفي', '53:39:2': 'ليس', '53:43:3': 'ضحك', '53:43:4': 'بكي', '53:46:2': 'نطف', '53:48:4': 'قني', '53:49:4': 'شعر', '53:50:2': 'هلك', '53:52:4': 'قبل', '53:52:8': 'ظلم', '53:53:1': 'افك', '53:55:2': 'الو', '53:57:1': 'ازف', '53:58:4': 'دون', '53:59:4': 'عجب', '53:61:2': 'سمد'}\n",
      "\n",
      "\n",
      "80\n",
      "{'80:2:3': 'عمي', '80:6:3': 'صدي', '80:16:2': 'برر', '80:23:3': 'قضي', '80:25:3': 'موه', '80:26:2': 'شقق', '80:27:1': 'نبت', '80:28:1': 'عنب', '80:28:2': 'قضب', '80:29:1': 'زيت', '80:29:2': 'نخل', '80:30:1': 'حدق', '80:30:2': 'غلب', '80:31:1': 'فكه', '80:31:2': 'ابب', '80:32:1': 'متع', '80:33:3': 'صخخ', '80:34:5': 'اخو', '80:35:1': 'امم', '80:37:5': 'شان', '80:40:4': 'غبر', '80:41:2': 'قتر'}\n",
      "\n",
      "\n",
      "97\n",
      "{'97:3:5': 'الف', '97:3:6': 'شهر', '97:4:3': 'روح', '97:5:4': 'طلع'}\n",
      "\n",
      "\n",
      "91\n",
      "{'91:6:3': 'طحو', '91:8:1': 'لهم', '91:10:2': 'خيب', '91:10:4': 'دسو', '91:12:2': 'بعث', '91:13:5': 'نوق', '91:13:7': 'سقي', '91:14:2': 'عقر', '91:14:3': 'دمدم', '91:15:3': 'عقب'}\n",
      "\n",
      "\n",
      "85\n",
      "{'85:1:3': 'برج', '85:4:3': 'خدد', '85:5:3': 'وقد', '85:6:4': 'قعد', '85:8:2': 'نقم', '85:8:8': 'عزز', '85:10:8': 'توب', '85:10:14': 'حرق', '85:11:10': 'تحت', '85:11:13': 'فوز', '85:12:2': 'بطش', '85:13:3': 'بدا', '85:15:3': 'مجد', '85:20:4': 'حوط', '85:22:3': 'حفظ'}\n",
      "\n",
      "\n",
      "95\n",
      "{'95:1:1': 'تين', '95:2:1': 'طور', '95:5:2': 'ردد', '95:5:3': 'سفل'}\n",
      "\n",
      "\n",
      "106\n",
      "{'106:2:2': 'رحل', '106:2:3': 'شتو', '106:2:4': 'صيف', '106:3:4': 'بيت', '106:4:4': 'جوع'}\n",
      "\n",
      "\n",
      "101\n",
      "{'101:1:1': 'قرع', '101:4:4': 'فرش', '101:4:5': 'بثث', '101:5:3': 'عهن', '101:5:4': 'نفش', '101:6:4': 'وزن', '101:7:3': 'عيش', '101:8:3': 'خفف', '101:11:2': 'حمي'}\n",
      "\n",
      "\n",
      "75\n",
      "{'75:2:4': 'لوم', '75:3:1': 'حسب', '75:4:6': 'بنن', '75:7:2': 'برق', '75:8:1': 'خسف', '75:12:4': 'قرر', '75:15:3': 'عذر', '75:16:2': 'حرك', '75:16:4': 'لسن', '75:16:5': 'عجل', '75:22:3': 'نضر', '75:25:5': 'فقر', '75:26:4': 'ترق', '75:27:3': 'رقي', '75:28:3': 'فرق', '75:29:1': 'لفف', '75:33:5': 'مطو', '75:36:4': 'ترك', '75:36:5': 'سدي'}\n",
      "\n",
      "\n",
      "104\n",
      "{'104:1:4': 'لمز', '104:3:4': 'خلد', '104:4:2': 'نبذ', '104:4:4': 'حطم', '104:8:3': 'وصد'}\n",
      "\n",
      "\n",
      "77\n",
      "{'77:1:2': 'عرف', '77:7:3': 'وقع', '77:8:3': 'طمس', '77:9:3': 'فرج', '77:10:3': 'نسف', '77:11:3': 'وقت', '77:12:3': 'اجل', '77:13:2': 'فصل', '77:25:4': 'كفت', '77:27:3': 'رسو', '77:27:4': 'شمخ', '77:27:7': 'فرت', '77:29:1': 'طلق', '77:30:3': 'ظلل', '77:30:6': 'شعب', '77:32:4': 'قصر', '77:33:2': 'جمل', '77:33:3': 'صفر', '77:42:3': 'شهو', '77:43:2': 'شرب', '77:43:3': 'هنا'}\n",
      "\n",
      "\n",
      "50\n",
      "{'50:3:4': 'ترب', '50:5:9': 'مرج', '50:6:5': 'فوق', '50:6:8': 'زين', '50:7:11': 'بهج', '50:8:5': 'نوب', '50:9:5': 'برك', '50:9:10': 'حصد', '50:10:2': 'بسق', '50:10:5': 'نضد', '50:12:6': 'رسس', '50:15:1': 'عيي', '50:15:7': 'لبس', '50:15:10': 'جدد', '50:16:14': 'ورد', '50:17:7': 'شمل', '50:18:2': 'لفظ', '50:18:7': 'رقب', '50:18:8': 'عتد', '50:19:2': 'سكر', '50:19:9': 'حيد', '50:20:1': 'نفخ', '50:20:3': 'صور', '50:22:4': 'غفل', '50:22:9': 'غطو', '50:22:12': 'حدد', '50:23:2': 'قرن', '50:28:3': 'خصم', '50:29:2': 'بدل', '50:30:5': 'ملا', '50:32:5': 'اوب', '50:36:10': 'نقب', '50:36:15': 'حيص', '50:42:3': 'صيح', '50:43:6': 'صير', '50:44:5': 'سرع', '50:45:8': 'جبر'}\n",
      "\n",
      "\n",
      "90\n",
      "{'90:2:2': 'حلل', '90:4:5': 'كبد', '90:6:4': 'لبد', '90:9:2': 'شفه', '90:10:2': 'نجد', '90:11:2': 'قحم', '90:13:1': 'فكك', '90:14:6': 'سغب', '90:19:6': 'شام'}\n",
      "\n",
      "\n",
      "86\n",
      "{'86:1:2': 'طرق', '86:3:2': 'ثقب', '86:6:4': 'دفق', '86:7:4': 'صلب', '86:9:3': 'سرر', '86:10:6': 'نصر', '86:12:3': 'صدع', '86:14:3': 'هزل', '86:17:1': 'مهل'}\n",
      "\n",
      "\n",
      "54\n",
      "{'54:1:2': 'سوع', '54:4:7': 'زجر', '54:6:8': 'نكر', '54:7:5': 'جدث', '54:7:7': 'جرد', '54:8:1': 'هطع', '54:11:1': 'فتح', '54:11:2': 'بوب', '54:11:5': 'همر', '54:13:5': 'دسر', '54:19:5': 'صرصر', '54:19:8': 'نحس', '54:20:1': 'نزع', '54:20:4': 'عجز', '54:20:6': 'قعر', '54:25:9': 'اشر', '54:26:2': 'غدو', '54:31:7': 'هشم', '54:31:8': 'حظر', '54:34:4': 'حصب', '54:34:8': 'نجو', '54:35:7': 'شكر', '54:37:4': 'ضيف', '54:37:7': 'ذوق', '54:38:3': 'بكر', '54:43:7': 'برا', '54:43:9': 'زبر', '54:48:2': 'سحب', '54:48:8': 'مسس', '54:50:5': 'لمح', '54:51:3': 'شيع', '54:53:2': 'صغر', '54:46:5': 'دهي'}\n",
      "\n",
      "\n",
      "38\n",
      "{'38:3:8': 'لوت', '38:3:9': 'حين', '38:3:10': 'نوص', '38:7:5': 'ملل', '38:8:9': 'شكك', '38:9:3': 'خزن', '38:9:7': 'وهب', '38:10:10': 'سبب', '38:11:4': 'هزم', '38:11:6': 'حزب', '38:16:5': 'قطط', '38:17:9': 'ايد', '38:18:2': 'سخر', '38:18:6': 'عشو', '38:20:6': 'خطب', '38:21:6': 'سور', '38:21:7': 'حرب', '38:22:5': 'فزع', '38:22:12': 'بعض', '38:22:19': 'شطط', '38:23:7': 'نعج', '38:23:12': 'كفل', '38:24:11': 'خلط', '38:24:30': 'خرر', '38:24:31': 'ركع', '38:26:4': 'خلف', '38:27:7': 'بطل', '38:29:9': 'لبب', '38:31:5': 'صفن', '38:31:6': 'جود', '38:32:11': 'حجب', '38:33:3': 'طفق', '38:33:4': 'مسح', '38:33:6': 'عنق', '38:34:6': 'كرس', '38:34:7': 'جسد', '38:36:6': 'رخو', '38:36:8': 'صوب', '38:37:4': 'غوص', '38:38:4': 'صفد', '38:39:5': 'مسك', '38:42:1': 'ركض', '38:42:2': 'رجل', '38:42:4': 'غسل', '38:42:5': 'برد', '38:44:3': 'ضغث', '38:44:4': 'ضرب', '38:44:7': 'حنث', '38:45:4': 'إِسْحَاق', '38:46:2': 'خلص', '38:46:5': 'دور', '38:47:4': 'صفو', '38:48:2': 'إِسْمَاعِيل', '38:48:3': 'ٱلْيَسَعَ', '38:51:1': 'وكا', '38:52:3': 'طرف', '38:54:7': 'نفد', '38:56:3': 'باس', '38:57:3': 'حمم', '38:58:3': 'شكل', '38:59:2': 'فوج', '38:59:6': 'رحب', '38:61:9': 'ضعف', '38:71:9': 'طين', '38:74:2': 'إِبْلِيس', '38:78:3': 'لعن', '38:86:10': 'كلف'}\n",
      "\n",
      "\n",
      "7\n",
      "{'7:2:8': 'حرج', '7:4:3': 'قري', '7:4:10': 'قيل', '7:7:1': 'قصص', '7:11:9': 'آدَم', '7:13:2': 'هبط', '7:18:4': 'ذام', '7:18:5': 'دحر', '7:19:13': 'شجر', '7:20:4': 'بدو', '7:21:5': 'نصح', '7:22:1': 'دلل', '7:22:2': 'غرر', '7:22:10': 'خصف', '7:22:13': 'ورق', '7:26:9': 'ريش', '7:28:3': 'فحش', '7:29:4': 'قسط', '7:31:11': 'سرف', '7:32:3': 'حرم', '7:32:9': 'طيب', '7:33:10': 'بطن', '7:35:18': 'حزن', '7:37:4': 'فري', '7:37:12': 'نيل', '7:38:6': 'خلو', '7:38:21': 'درك', '7:39:9': 'فضل', '7:40:16': 'ولج', '7:40:19': 'سمم', '7:40:20': 'خيط', '7:42:9': 'وسع', '7:43:6': 'غلل', '7:45:2': 'صدد', '7:45:7': 'عوج', '7:46:8': 'سوم', '7:47:2': 'صرف', '7:50:7': 'فيض', '7:51:5': 'لعب', '7:51:19': 'جحد', '7:54:9': 'ستت', '7:54:18': 'طلب', '7:54:19': 'حثث', '7:55:3': 'ضرع', '7:57:24': 'ثمر', '7:58:8': 'خبث', '7:58:12': 'نكد', '7:64:6': 'فلك', '7:64:7': 'غرق', '7:65:4': 'هود', '7:66:10': 'سفه', '7:69:22': 'بسط', '7:71:7': 'رجس', '7:71:9': 'جدل', '7:72:6': 'قطع', '7:74:8': 'بوا', '7:74:13': 'سهل', '7:74:15': 'نحت', '7:74:22': 'عثو', '7:77:3': 'عتو', '7:78:6': 'جثم', '7:80:8': 'سبق', '7:81:7': 'نسو', '7:84:1': 'مطر', '7:85:20': 'كيل', '7:85:23': 'بخس', '7:87:3': 'طوف', '7:88:21': 'كره', '7:93:12': 'اسو', '7:94:11': 'ضرر', '7:95:7': 'عفو', '7:95:15': 'بغت', '7:97:9': 'نوم', '7:99:2': 'مكر', '7:100:14': 'طبع', '7:102:5': 'عهد', '7:102:9': 'فسق', '7:105:18': 'إِسْرَائِيل', '7:107:2': 'عصو', '7:107:5': 'ثعب', '7:108:5': 'بيض', '7:111:2': 'رجو', '7:111:6': 'مدن', '7:115:3': 'إِمَّا', '7:116:8': 'رهب', '7:117:9': 'لقف', '7:129:2': 'اذي', '7:129:12': 'عسي', '7:130:5': 'سنو', '7:133:5': 'قمل', '7:133:6': 'ضفدع', '7:133:7': 'دمو', '7:135:11': 'نكث', '7:136:5': 'يمم', '7:137:12': 'تمم', '7:137:13': 'كلم', '7:137:21': 'دمر', '7:137:24': 'صنع', '7:138:1': 'جوز', '7:138:8': 'عكف', '7:138:10': 'صنم', '7:138:23': 'جهل', '7:139:3': 'تبر', '7:142:10': 'ربع', '7:143:32': 'صعق', '7:145:8': 'وعظ', '7:146:20': 'رشد', '7:147:6': 'حبط', '7:148:7': 'حلي', '7:148:11': 'خور', '7:149:2': 'سقط', '7:150:7': 'اسف', '7:150:19': 'راس', '7:150:21': 'جرر', '7:150:32': 'شمت', '7:154:2': 'سكت', '7:154:9': 'نسخ', '7:155:4': 'سبع', '7:157:26': 'اصر', '7:157:34': 'عزر', '7:159:8': 'عدل', '7:160:2': 'ثني', '7:160:4': 'سبط', '7:160:16': 'بجس', '7:160:28': 'غمم', '7:160:32': 'سلو', '7:161:12': 'حطط', '7:171:2': 'نتق', '7:172:9': 'ذرر', '7:175:7': 'سلخ', '7:176:13': 'كلب', '7:176:17': 'لهث', '7:179:2': 'ذرا', '7:179:11': 'فقه', '7:180:8': 'لحد', '7:186:10': 'عمه', '7:187:26': 'حفو', '7:193:12': 'صمت', '7:200:2': 'نزغ', '7:203:7': 'جبي', '7:204:6': 'نصت', '7:205:12': 'اصل', '7:166:10': 'قرد'}\n",
      "\n",
      "\n",
      "72\n",
      "{'72:8:2': 'لمس', '72:8:6': 'حرس', '72:8:8': 'شهب', '72:11:9': 'قدد', '72:12:11': 'هرب', '72:14:9': 'حري', '72:16:7': 'غدق', '72:22:4': 'جور', '72:23:16': 'ابد', '72:25:11': 'امد', '72:28:10': 'حصي'}\n",
      "\n",
      "\n",
      "36\n",
      "{'36:8:8': 'ذقن', '36:8:10': 'قمح', '36:9:5': 'سدد', '36:20:3': 'قصو', '36:23:15': 'نقذ', '36:29:8': 'خمد', '36:30:1': 'حسر', '36:30:11': 'هزا', '36:39:6': 'عرجن', '36:41:8': 'شحن', '36:42:6': 'ركب', '36:43:5': 'صرخ', '36:47:4': 'نفق', '36:51:10': 'نسل', '36:52:6': 'رقد', '36:55:6': 'شغل', '36:56:6': 'ارك', '36:59:1': 'ميز', '36:62:8': 'عقل', '36:65:2': 'ختم', '36:65:4': 'فوه', '36:67:3': 'مسخ', '36:67:8': 'مضي', '36:68:2': 'عمر', '36:68:3': 'نكس', '36:76:9': 'علن', '36:78:11': 'رمم', '36:80:6': 'خضر'}\n",
      "\n",
      "\n",
      "25\n",
      "{'25:8:4': 'كنز', '25:12:8': 'غيظ', '25:12:9': 'زفر', '25:13:5': 'ضيق', '25:13:9': 'ثبر', '25:18:21': 'بور', '25:23:8': 'هبو', '25:23:9': 'نثر', '25:27:2': 'عضض', '25:28:5': 'فلن', '25:28:6': 'خلل', '25:29:11': 'خذل', '25:31:8': 'كفي', '25:32:11': 'ثبت', '25:33:8': 'فسر', '25:46:2': 'قبض', '25:47:8': 'سبت', '25:50:5': 'ابي', '25:52:4': 'جهد', '25:53:9': 'ملح', '25:53:10': 'اجج', '25:54:8': 'نسب', '25:54:9': 'صهر', '25:61:9': 'سرج', '25:72:7': 'لغو', '25:73:9': 'صمم', '25:75:3': 'غرف', '25:77:3': 'عبا', '25:77:12': 'لزم', '25:68:17': 'زني'}\n",
      "\n",
      "\n",
      "35\n",
      "{'35:1:10': 'جنح', '35:12:7': 'سوغ', '35:12:15': 'لحم', '35:12:16': 'طرو', '35:12:23': 'مخر', '35:13:28': 'قطمر', '35:21:4': 'حرر', '35:27:13': 'لون', '35:27:22': 'سود', '35:28:3': 'دبب', '35:29:14': 'تجر', '35:32:12': 'قصد', '35:33:10': 'لالا', '35:35:14': 'لغب', '35:39:18': 'مقت', '35:41:7': 'زول', '35:41:18': 'حلم', '35:43:7': 'حيق', '35:43:15': 'سنن', '35:43:26': 'حول'}\n",
      "\n",
      "\n",
      "19\n",
      "{'19:4:4': 'وهن', '19:4:7': 'شعل', '19:5:12': 'لدن', '19:7:4': 'غلم', '19:12:7': 'صبو', '19:13:1': 'حنن', '19:23:2': 'مخض', '19:23:4': 'جذع', '19:25:1': 'هزز', '19:25:7': 'رطب', '19:25:8': 'جني', '19:26:14': 'صوم', '19:29:1': 'شور', '19:31:10': 'دوم', '19:48:1': 'عزل', '19:59:5': 'ضيع', '19:68:8': 'جثو', '19:74:8': 'اثث', '19:80:5': 'فرد', '19:82:6': 'ضدد', '19:83:8': 'ازز', '19:85:6': 'وفد', '19:89:4': 'ادد', '19:90:9': 'هدد', '19:97:10': 'لدد', '19:98:7': 'حسس', '19:98:14': 'ركز', '19:71:8': 'حتم'}\n",
      "\n",
      "\n",
      "20\n",
      "{'20:6:12': 'ثري', '20:10:6': 'مكث', '20:10:13': 'قبس', '20:12:4': 'خلع', '20:12:5': 'نعل', '20:12:8': 'قدس', '20:12:9': 'طوي', '20:18:6': 'هشش', '20:18:9': 'غنم', '20:18:12': 'ارب', '20:22:1': 'ضمم', '20:31:3': 'ازر', '20:39:2': 'قذف', '20:39:10': 'سحل', '20:40:25': 'لبث', '20:42:6': 'وني', '20:44:4': 'لين', '20:45:6': 'فرط', '20:51:3': 'بول', '20:55:7': 'تور', '20:61:10': 'سحت', '20:66:7': 'خيل', '20:67:1': 'وجس', '20:77:13': 'يبس', '20:85:9': 'سمر', '20:91:3': 'برح', '20:94:5': 'لحي', '20:96:14': 'سول', '20:102:8': 'زرق', '20:103:1': 'خفت', '20:106:2': 'قوع', '20:106:3': 'صفصف', '20:107:6': 'امت', '20:108:8': 'صوت', '20:108:13': 'همس', '20:111:1': 'عنو', '20:112:11': 'هضم', '20:113:4': 'عرب', '20:115:11': 'عزم', '20:118:7': 'عري', '20:119:3': 'ظما', '20:124:8': 'ضنك', '20:134:19': 'خزي', '20:135:3': 'ربص', '20:131:10': 'زهر'}\n",
      "\n",
      "\n",
      "56\n",
      "{'56:3:1': 'خفض', '56:4:2': 'رجج', '56:5:1': 'بسس', '56:13:1': 'ثلل', '56:15:3': 'وضن', '56:18:1': 'كوب', '56:18:2': 'أَبَارِيق', '56:18:3': 'كاس', '56:19:5': 'نزف', '56:22:1': 'حور', '56:23:3': 'كنن', '56:28:3': 'خضد', '56:29:1': 'طلح', '56:31:2': 'سكب', '56:45:5': 'ترف', '56:46:2': 'صرر', '56:52:5': 'زقم', '56:55:3': 'هيم', '56:63:3': 'حرث', '56:64:2': 'زرع', '56:69:4': 'مزن', '56:83:4': 'حلق'}\n",
      "\n",
      "\n",
      "26\n",
      "{'26:3:2': 'بخع', '26:4:11': 'خضع', '26:18:3': 'ربو', '26:29:8': 'سجن', '26:50:3': 'ضير', '26:54:3': 'شرذم', '26:56:3': 'حذر', '26:63:12': 'طود', '26:80:4': 'شفي', '26:83:5': 'لحق', '26:91:1': 'برز', '26:94:1': 'كبكب', '26:102:4': 'كرر', '26:111:5': 'رذل', '26:114:3': 'طرد', '26:128:3': 'ريع', '26:128:5': 'عبث', '26:149:5': 'فره', '26:157:3': 'ندم', '26:182:2': 'قسطس', '26:187:3': 'كسف', '26:198:5': 'عجم'}\n",
      "\n",
      "\n",
      "27\n",
      "{'27:12:4': 'جيب', '27:17:9': 'وزع', '27:18:6': 'نمل', '27:19:1': 'بسم', '27:20:1': 'فقد', '27:20:8': 'هدهد', '27:21:5': 'ذبح', '27:25:6': 'خبا', '27:32:4': 'فتي', '27:36:16': 'فرح', '27:39:2': 'عفر', '27:44:4': 'صرح', '27:44:8': 'لجج', '27:44:15': 'مرد', '27:48:5': 'رهط', '27:52:3': 'خوي', '27:61:14': 'حجز', '27:64:15': 'هات', '27:64:16': 'برهن', '27:72:5': 'ردف', '27:87:18': 'دخر', '27:88:4': 'جمد', '27:88:12': 'تقن', '27:90:4': 'كبب'}\n",
      "\n",
      "\n",
      "28\n",
      "{'28:7:6': 'رضع', '28:8:1': 'لقط', '28:10:12': 'ربط', '28:15:18': 'غوث', '28:15:26': 'وكز', '28:18:9': 'أَمْس', '28:23:15': 'ذود', '28:23:26': 'شيخ', '28:27:5': 'نكح', '28:27:12': 'ثمن', '28:27:13': 'حجج', '28:29:23': 'جذو', '28:30:5': 'شطا', '28:30:9': 'بقع', '28:34:4': 'فصح', '28:34:9': 'ردا', '28:35:3': 'عضد', '28:35:9': 'وصل', '28:42:10': 'قبح', '28:45:9': 'ثوي', '28:57:6': 'خطف', '28:58:5': 'بطر', '28:71:8': 'سرمد', '28:71:17': 'ضوا', '28:76:15': 'نوا', '28:76:16': 'عصب', '28:79:19': 'حظظ', '28:81:9': 'فاي', '28:85:3': 'فرض', '28:54:7': 'درا'}\n",
      "\n",
      "\n",
      "17\n",
      "{'17:5:12': 'جوس', '17:8:11': 'حصر', '17:12:5': 'محو', '17:18:17': 'ذمم', '17:23:15': 'كلو', '17:23:19': 'افف', '17:27:2': 'بذر', '17:31:5': 'ملق', '17:36:2': 'قفو', '17:37:5': 'مرح', '17:37:8': 'خرق', '17:45:12': 'ستر', '17:46:9': 'وقر', '17:49:5': 'رفت', '17:51:15': 'نغض', '17:62:12': 'حنك', '17:63:10': 'وفر', '17:64:1': 'فزز', '17:64:6': 'جلب', '17:66:3': 'زجو', '17:69:10': 'قصف', '17:71:15': 'فتل', '17:81:4': 'زهق', '17:83:6': 'ناي', '17:83:12': 'ياس', '17:90:10': 'نبع', '17:93:6': 'زخرف', '17:97:20': 'بكم', '17:97:25': 'خبو', '17:57:7': 'وسل', '17:78:3': 'دلك', '17:79:3': 'هجد'}\n",
      "\n",
      "\n",
      "10\n",
      "{'10:22:22': 'موج', '10:27:14': 'عصم', '10:28:11': 'زيل', '10:30:6': 'سلف', '10:54:9': 'فدي', '10:61:22': 'عزب', '10:66:25': 'خرص', '10:78:3': 'لفت', '10:87:8': 'مصر', '10:92:3': 'بدن', '10:105:5': 'حنف'}\n",
      "\n",
      "\n",
      "11\n",
      "{'11:8:10': 'حبس', '11:10:13': 'فخر', '11:23:6': 'خبت', '11:31:17': 'زري', '11:40:5': 'فور', '11:44:3': 'بلع', '11:44:6': 'قلع', '11:44:7': 'غيض', '11:52:10': 'درر', '11:54:4': 'عرو', '11:58:14': 'غلظ', '11:69:15': 'حنذ', '11:72:7': 'بعل', '11:74:5': 'روع', '11:75:4': 'اوه', '11:77:9': 'ذرع', '11:78:3': 'هرع', '11:80:10': 'ركن', '11:88:29': 'وفق', '11:99:8': 'رفد', '11:105:10': 'سعد', '11:106:9': 'شهق', '11:108:18': 'جذذ'}\n",
      "\n",
      "\n",
      "12\n",
      "{'12:4:10': 'كوكب', '12:9:4': 'طرح', '12:10:10': 'جبب', '12:12:4': 'رتع', '12:13:10': 'ذاب', '12:18:3': 'قمص', '12:18:18': 'وصف', '12:19:12': 'بضع', '12:20:1': 'شري', '12:20:4': 'درهم', '12:20:9': 'زهد', '12:23:8': 'غلق', '12:23:11': 'هيت', '12:24:2': 'همم', '12:25:7': 'لفو', '12:30:12': 'شغف', '12:31:23': 'حوش', '12:36:10': 'خمر', '12:36:18': 'خبز', '12:43:6': 'بقر', '12:43:7': 'سمن', '12:43:10': 'عجف', '12:43:12': 'سنبل', '12:43:24': 'عبر', '12:47:5': 'داب', '12:48:15': 'حصن', '12:49:6': 'عوم', '12:49:8': 'غيث', '12:51:21': 'حصحص', '12:52:5': 'خون', '12:59:2': 'جهز', '12:65:16': 'مير', '12:65:22': 'بعر', '12:68:16': 'حوج', '12:70:13': 'عير', '12:70:15': 'سرق', '12:72:3': 'صوع', '12:76:2': 'وعي', '12:84:12': 'كظم', '12:85:3': 'فتا', '12:85:8': 'حرض', '12:86:3': 'شكو', '12:92:3': 'ثرب', '12:94:12': 'فند', '12:100:40': 'لطف', '12:103:5': 'حرص'}\n",
      "\n",
      "\n",
      "15\n",
      "{'15:3:5': 'امل', '15:14:9': 'عرج', '15:22:3': 'لقح', '15:26:5': 'صلصل', '15:26:7': 'حما', '15:44:7': 'جزا', '15:52:9': 'وجل', '15:55:7': 'قنط', '15:68:6': 'فضح', '15:85:12': 'صفح', '15:91:4': 'عضو'}\n",
      "\n",
      "\n",
      "6\n",
      "{'6:7:6': 'قرطس', '6:27:4': 'وقف', '6:43:7': 'قسو', '6:44:20': 'بلس', '6:46:23': 'صدف', '6:60:7': 'جرح', '6:64:7': 'كرب', '6:70:13': 'بسل', '6:71:23': 'حير', '6:74:5': 'آزَر', '6:76:11': 'افل', '6:77:4': 'بزغ', '6:85:4': 'إِلْيَاس', '6:90:6': 'قدو', '6:94:10': 'خول', '6:95:5': 'نوي', '6:99:23': 'قنو', '6:99:29': 'رمن', '6:99:30': 'شبه', '6:99:38': 'ينع', '6:101:1': 'بدع', '6:113:1': 'صغو', '6:113:9': 'قرف', '6:142:11': 'خطو', '6:143:4': 'ضان', '6:143:7': 'معز', '6:145:18': 'سفح', '6:145:21': 'خنزر', '6:145:26': 'هلل', '6:146:7': 'ظفر', '6:146:13': 'شحم', '6:162:4': 'نسك'}\n",
      "\n",
      "\n",
      "37\n",
      "{'37:9:4': 'وصب', '37:11:12': 'لزب', '37:46:2': 'لذذ', '37:47:3': 'غول', '37:67:5': 'شوب', '37:89:3': 'سقم', '37:91:1': 'روغ', '37:94:3': 'زفف', '37:103:3': 'تلل', '37:103:4': 'جبن', '37:140:2': 'ابق', '37:141:1': 'سهم', '37:141:4': 'دحض', '37:142:1': 'لقم', '37:142:2': 'حوت', '37:147:3': 'ماي', '37:177:3': 'سوح'}\n",
      "\n",
      "\n",
      "31\n",
      "{'31:10:11': 'ميد', '31:16:8': 'خردل', '31:18:2': 'صعر', '31:19:4': 'غضض', '31:20:13': 'سبغ', '31:32:21': 'ختر'}\n",
      "\n",
      "\n",
      "34\n",
      "{'34:7:10': 'مزق', '34:11:6': 'سرد', '34:12:7': 'سيل', '34:12:10': 'قطر', '34:13:8': 'جفن', '34:14:13': 'نسا', '34:16:5': 'عرم', '34:16:11': 'خمط', '34:16:12': 'اثل', '34:28:4': 'كفف', '34:33:17': 'ندد', '34:51:6': 'فوت', '34:52:6': 'نوش'}\n",
      "\n",
      "\n",
      "39\n",
      "{'39:9:3': 'قنت', '39:21:20': 'هيج', '39:23:8': 'قشعر', '39:23:10': 'جلد', '39:29:7': 'شكس', '39:45:5': 'شمز', '39:63:2': 'قلد', '39:71:6': 'زمر', '39:75:3': 'حفف'}\n",
      "\n",
      "\n",
      "40\n",
      "{'40:18:7': 'حنجر', '40:28:7': 'كتم', '40:44:5': 'فوض', '40:67:14': 'طفل', '40:71:5': 'سلسل'}\n",
      "\n",
      "\n",
      "41\n",
      "{'41:10:10': 'قوت', '41:11:6': 'دخن', '41:24:7': 'عتب', '41:25:1': 'قيض', '41:34:6': 'دفع', '41:38:12': 'سام', '41:47:10': 'كمم'}\n",
      "\n",
      "\n",
      "42\n",
      "{'42:13:1': 'شرع', '42:18:9': 'شفق', '42:22:14': 'روض', '42:33:6': 'ركد', '42:34:2': 'وبق', '42:47:16': 'لجا', '42:50:8': 'عقم'}\n",
      "\n",
      "\n",
      "43\n",
      "{'43:33:12': 'سقف', '43:33:14': 'فضض', '43:70:5': 'حبر', '43:75:2': 'فتر', '43:79:2': 'برم'}\n",
      "\n",
      "\n",
      "44\n",
      "{'44:18:2': 'ادي', '44:24:3': 'رهو', '44:45:2': 'غلي', '44:53:4': 'إِسْتَبْرَق'}\n",
      "\n",
      "\n",
      "45\n",
      "{'45:24:12': 'دهر'}\n",
      "\n",
      "\n",
      "46\n",
      "{'46:21:7': 'حقف'}\n",
      "\n",
      "\n",
      "51\n",
      "{'51:1:1': 'ذرو', '51:7:3': 'حبك', '51:11:4': 'غمر', '51:11:5': 'سهو', '51:17:6': 'هجع', '51:29:5': 'صكك'}\n",
      "\n",
      "\n",
      "88\n",
      "{'88:20:4': 'سطح'}\n",
      "\n",
      "\n",
      "18\n",
      "{'18:8:6': 'جرز', '18:9:5': 'كهف', '18:9:6': 'رقم', '18:10:12': 'هيا', '18:16:19': 'رفق', '18:17:12': 'قرض', '18:17:17': 'فجو', '18:18:2': 'يقظ', '18:18:22': 'رعب', '18:21:2': 'عثر', '18:22:6': 'خمس', '18:22:7': 'سدس', '18:29:17': 'سردق', '18:29:23': 'شوي', '18:35:10': 'بيد', '18:41:4': 'غور', '18:47:9': 'غدر', '18:58:19': 'وال', '18:60:13': 'حقب', '18:61:11': 'سرب', '18:71:6': 'سفن', '18:77:14': 'جدر', '18:77:17': 'قضض', '18:79:10': 'عيب', '18:79:17': 'غصب', '18:95:12': 'ردم'}\n",
      "\n",
      "\n",
      "16\n",
      "{'16:5:5': 'دفا', '16:6:7': 'سرح', '16:7:13': 'راف', '16:8:2': 'بغل', '16:25:3': 'كمل', '16:48:9': 'فيا', '16:53:12': 'جار', '16:59:13': 'دسس', '16:66:12': 'فرث', '16:66:14': 'لبن', '16:68:4': 'نحل', '16:72:12': 'حفد', '16:79:7': 'جوو', '16:80:15': 'ظعن', '16:80:19': 'صوف', '16:80:20': 'وبر', '16:81:14': 'سربل', '16:91:10': 'وكد', '16:92:5': 'غزل', '16:94:6': 'زلل', '16:112:10': 'رغد'}\n",
      "\n",
      "\n",
      "71\n",
      "{'71:7:7': 'صبع', '71:15:8': 'طبق', '71:20:4': 'فجج', '71:23:13': 'نسر'}\n",
      "\n",
      "\n",
      "14\n",
      "{'14:17:1': 'جرع', '14:18:6': 'رمد', '14:21:28': 'جزع', '14:24:13': 'فرع', '14:26:6': 'جثث', '14:31:18': 'بيع', '14:42:11': 'شخص', '14:43:2': 'قنع'}\n",
      "\n",
      "\n",
      "21\n",
      "{'21:11:2': 'قصم', '21:18:6': 'دمغ', '21:30:9': 'رتق', '21:30:10': 'فتق', '21:40:4': 'بهت', '21:42:3': 'كلا', '21:46:3': 'نفح', '21:72:5': 'نفل', '21:79:1': 'فهم', '21:87:2': 'نون', '21:96:9': 'حدب'}\n",
      "\n",
      "\n",
      "23\n",
      "{'23:12:5': 'سلل', '23:14:7': 'مضغ', '23:14:11': 'كسو', '23:20:8': 'صبغ', '23:66:9': 'نكص', '23:74:8': 'نكب', '23:76:5': 'كين', '23:104:1': 'لفح', '23:104:6': 'كلح', '23:108:2': 'خسا'}\n",
      "\n",
      "\n",
      "52\n",
      "{'52:3:2': 'رقق', '52:9:2': 'مور', '52:21:10': 'الت', '52:29:6': 'كهن', '52:44:9': 'ركم'}\n",
      "\n",
      "\n",
      "67\n",
      "{'67:11:3': 'سحق'}\n",
      "\n",
      "\n",
      "69\n",
      "{'69:7:7': 'حسم', '69:7:11': 'صرع', '69:16:5': 'وهي', '69:23:1': 'قطف', '69:46:4': 'وتن'}\n",
      "\n",
      "\n",
      "70\n",
      "{'70:19:4': 'هلع', '70:37:5': 'عزو', '70:43:9': 'وفض'}\n",
      "\n",
      "\n",
      "78\n",
      "{'78:13:3': 'وهج', '78:14:5': 'ثجج', '78:33:1': 'كعب', '78:34:2': 'دهق'}\n",
      "\n",
      "\n",
      "79\n",
      "{'79:2:1': 'نشط', '79:8:3': 'وجف', '79:10:5': 'حفر', '79:11:4': 'نخر', '79:14:3': 'سهر', '79:28:2': 'سمك', '79:29:1': 'غطش', '79:30:4': 'دحو', '79:34:3': 'طمم'}\n",
      "\n",
      "\n",
      "84\n",
      "{'84:6:4': 'كدح', '84:17:3': 'وسق'}\n",
      "\n",
      "\n",
      "30\n",
      "{'30:48:15': 'ودق', '30:17:4': 'مسو'}\n",
      "\n",
      "\n",
      "29\n",
      "{'29:17:6': 'وثن', '29:41:9': 'عنكب', '29:48:9': 'خطط'}\n",
      "\n",
      "\n",
      "83\n",
      "{'83:1:2': 'طفف', '83:14:3': 'رين', '83:25:3': 'رحق', '83:27:1': 'مزج', '83:27:3': 'سنم', '83:30:4': 'غمز'}\n",
      "\n",
      "\n",
      "8\n",
      "{'8:35:7': 'مكو', '8:7:12': 'شوك', '8:11:3': 'نعس', '8:15:8': 'زحف', '8:16:9': 'حوز', '8:43:10': 'فشل', '8:57:5': 'شرد', '8:67:9': 'ثخن'}\n",
      "\n",
      "\n",
      "9\n",
      "{'9:128:9': 'عنت', '9:8:8': 'الل', '9:24:13': 'كسد', '9:25:5': 'وطن', '9:28:6': 'نجس', '9:30:14': 'ضها', '9:35:7': 'كوي', '9:35:9': 'جبه', '9:46:11': 'ثبط', '9:57:11': 'جمح', '9:108:6': 'اسس', '9:109:16': 'جرف', '9:109:17': 'هور', '9:120:27': 'خمص'}\n",
      "\n",
      "\n",
      "32\n",
      "{'32:16:1': 'جفو', '32:16:4': 'ضجع'}\n",
      "\n",
      "\n",
      "2\n",
      "{'2:9:1': 'خدع', '2:16:7': 'ربح', '2:19:7': 'رعد', '2:30:16': 'سفك', '2:61:18': 'بقل', '2:61:19': 'قثا', '2:61:20': 'فوم', '2:61:21': 'عدس', '2:61:22': 'بصل', '2:62:7': 'صبا', '2:69:15': 'فقع', '2:71:15': 'وشي', '2:75:13': 'حرف', '2:85:17': 'اسر', '2:88:3': 'غلف', '2:96:17': 'زحزح', '2:105:18': 'خصص', '2:114:13': 'خرب', '2:144:12': 'شطر', '2:171:6': 'نعق', '2:182:5': 'جنف', '2:184:16': 'طوق', '2:187:5': 'رفث', '2:191:3': 'ثقف', '2:197:22': 'زود', '2:214:16': 'زلزل', '2:221:6': 'امو', '2:222:3': 'حيض', '2:232:7': 'عضل', '2:247:35': 'جسم', '2:255:10': 'وسن', '2:255:46': 'اود', '2:256:20': 'فصم', '2:259:42': 'سنه', '2:259:53': 'نشز', '2:264:27': 'صلد', '2:265:23': 'طلل', '2:267:23': 'غمض', '2:273:16': 'عفف', '2:273:22': 'لحف', '2:275:10': 'خبط', '2:276:1': 'محق'}\n",
      "\n",
      "\n",
      "3\n",
      "{'3:7:32': 'رسخ', '3:14:8': 'قنطر', '3:41:14': 'رمز', '3:46:5': 'كهل', '3:49:25': 'كمه', '3:49:26': 'برص', '3:49:35': 'ذخر', '3:61:20': 'بهل', '3:75:14': 'دنر', '3:78:4': 'لوي', '3:103:22': 'شفو', '3:118:11': 'خبل', '3:118:17': 'بغض', '3:127:7': 'كبت', '3:140:3': 'قرح', '3:140:11': 'دول', '3:141:1': 'محص', '3:156:16': 'غزو', '3:159:9': 'فظظ', '3:162:7': 'سخط'}\n",
      "\n",
      "\n",
      "33\n",
      "{'33:4:8': 'جوف', '33:13:18': 'عور', '33:18:4': 'عوق', '33:19:1': 'شحح', '33:19:19': 'سلق', '33:23:12': 'نحب', '33:26:8': 'صيص', '33:37:30': 'وطر', '33:50:18': 'عمم', '33:60:12': 'غرو'}\n",
      "\n",
      "\n",
      "60\n",
      "{'60:10:8': 'محن'}\n",
      "\n",
      "\n",
      "4\n",
      "{'4:2:15': 'حوب', '4:3:28': 'عول', '4:6:17': 'بدر', '4:21:4': 'فضو', '4:25:34': 'خدن', '4:27:11': 'ميل', '4:43:31': 'غوط', '4:46:17': 'طعن', '4:51:10': 'جبت', '4:56:9': 'نضج', '4:71:7': 'ثبي', '4:72:4': 'بطا', '4:78:9': 'شيد', '4:83:8': 'ذيع', '4:83:20': 'نبط', '4:88:7': 'ركس', '4:100:9': 'رغم', '4:102:12': 'سلح', '4:119:4': 'بتك', '4:141:20': 'حوذ', '4:142:12': 'كسل', '4:143:1': 'ذبذب', '4:171:4': 'غلو', '4:172:2': 'نكف'}\n",
      "\n",
      "\n",
      "47\n",
      "{'47:8:3': 'تعس', '47:15:11': 'اسن', '47:15:25': 'عسل', '47:15:44': 'معي', '47:16:16': 'انف', '47:18:10': 'شرط', '47:24:7': 'قفل', '47:29:11': 'ضغن', '47:30:8': 'لحن'}\n",
      "\n",
      "\n",
      "13\n",
      "{'13:4:10': 'صنو', '13:13:19': 'محل', '13:17:10': 'زبد', '13:17:31': 'جفا'}\n",
      "\n",
      "\n",
      "55\n",
      "{'55:10:3': 'انم', '55:26:4': 'فني', '55:27:5': 'جلل', '55:33:7': 'نفذ', '55:35:3': 'شوظ', '55:48:2': 'فنن', '55:56:5': 'طمث', '55:64:1': 'دهم', '55:66:3': 'نضخ', '55:72:4': 'خيم', '55:76:3': 'رفرف', '55:76:5': 'عبقر'}\n",
      "\n",
      "\n",
      "76\n",
      "{'76:2:6': 'مشج', '76:10:7': 'قمطر', '76:13:10': 'زمهر'}\n",
      "\n",
      "\n",
      "59\n",
      "{'59:23:12': 'همن'}\n",
      "\n",
      "\n",
      "24\n",
      "{'24:32:2': 'ايم', '24:35:12': 'زجج', '24:49:7': 'ذعن', '24:50:9': 'حيف', '24:63:15': 'لوذ'}\n",
      "\n",
      "\n",
      "22\n",
      "{'22:2:3': 'ذهل', '22:5:58': 'همد', '22:9:2': 'عطف', '22:17:8': 'مجس', '22:21:2': 'قمع', '22:27:9': 'ضمر', '22:27:14': 'عمق', '22:28:14': 'بهم', '22:29:3': 'تفث', '22:29:8': 'عتق', '22:36:16': 'وجب', '22:36:22': 'عرر', '22:40:18': 'هدم', '22:40:19': 'صمع', '22:45:11': 'بار', '22:72:13': 'سطو', '22:73:15': 'ذبب', '22:73:20': 'سلب'}\n",
      "\n",
      "\n",
      "63\n",
      "{'63:4:10': 'خشب', '63:4:11': 'سند'}\n",
      "\n",
      "\n",
      "58\n",
      "{'58:11:7': 'فسح', '58:11:9': 'جلس'}\n",
      "\n",
      "\n",
      "49\n",
      "{'49:11:27': 'نبز', '49:11:28': 'لقب', '49:12:13': 'جسس', '49:14:20': 'ليت'}\n",
      "\n",
      "\n",
      "66\n",
      "{'66:5:15': 'سيح', '66:5:16': 'ثيب'}\n",
      "\n",
      "\n",
      "64\n",
      "{'64:9:7': 'غبن'}\n",
      "\n",
      "\n",
      "61\n",
      "{'61:4:11': 'رصص', '61:8:2': 'طفا'}\n",
      "\n",
      "\n",
      "5\n",
      "{'5:1:16': 'صيد', '5:26:7': 'تيه', '5:31:4': 'بحث', '5:33:22': 'نفي', '5:48:29': 'نهج', '5:82:22': 'قسس', '5:83:11': 'دمع', '5:90:8': 'زلم', '5:94:11': 'رمح', '5:103:7': 'سيب', '5:3:12': 'خنق', '5:3:13': 'وقذ', '5:3:15': 'نطح', '5:3:21': 'ذكو'}\n",
      "\n",
      "\n"
     ]
    }
   ],
   "source": [
    "for sur in surStriFirstsDIct:\n",
    "    print(sur)\n",
    "    print(surStriFirstsDIct[sur])\n",
    "    print('\\n')"
   ]
  },
  {
   "cell_type": "code",
   "execution_count": null,
   "metadata": {},
   "outputs": [],
   "source": [
    "import pandas as pd\n",
    "pd.set_option('display.max_rows', None)\n",
    "df = pd.DataFrame([[k,v,len(v)] for k,v in surStriFirstsDIct.items()],columns=[\"surah\",\"positions_new_strings\",\"new_string_count\"])"
   ]
  },
  {
   "cell_type": "markdown",
   "metadata": {},
   "source": [
    "## errors"
   ]
  },
  {
   "cell_type": "code",
   "execution_count": 538,
   "metadata": {},
   "outputs": [],
   "source": [
    "import json\n",
    "flPth='posDict.json'\n",
    "with open(flPth) as f:\n",
    "    posDict = json.loads(f.read())\n",
    "    "
   ]
  },
  {
   "cell_type": "code",
   "execution_count": 539,
   "metadata": {},
   "outputs": [
    {
     "data": {
      "text/plain": [
       "(77438, dict)"
      ]
     },
     "execution_count": 539,
     "metadata": {},
     "output_type": "execute_result"
    }
   ],
   "source": [
    "len(posDict), type(posDict)"
   ]
  },
  {
   "cell_type": "code",
   "execution_count": 540,
   "metadata": {},
   "outputs": [],
   "source": [
    "flPth='data/htmlCompleted.tsv'\n",
    "list_header=[\"position\",\"link_query\"]\n",
    "with open(flPth) as f:\n",
    "    finishedOld = csv.DictReader(f, delimiter='\\t')\n",
    "    posStriFinishedDict1 = {finished[list_header[0]] : finished[list_header[1]]  for finished in finishedOld}\n",
    "    # print(finishedOld.fieldnames)\n",
    "    "
   ]
  },
  {
   "cell_type": "code",
   "execution_count": 514,
   "metadata": {},
   "outputs": [
    {
     "data": {
      "text/plain": [
       "('96:1:1', 'ٱقْرَأْ')"
      ]
     },
     "execution_count": 514,
     "metadata": {},
     "output_type": "execute_result"
    }
   ],
   "source": [
    "list(posDict.items())[0]"
   ]
  },
  {
   "cell_type": "code",
   "execution_count": 515,
   "metadata": {},
   "outputs": [],
   "source": [
    "errors = []\n",
    "errStrings = {}\n",
    "for pos, stri in posDict.items():\n",
    "    if pos not in posStriFinishedDict1:\n",
    "        errStrings[pos] = stri\n",
    "        errors.append(pos)"
   ]
  },
  {
   "cell_type": "code",
   "execution_count": 516,
   "metadata": {},
   "outputs": [
    {
     "data": {
      "text/plain": [
       "(23506, 53932, 77438)"
      ]
     },
     "execution_count": 516,
     "metadata": {},
     "output_type": "execute_result"
    }
   ],
   "source": [
    "len(errStrings), len(posStriFinishedDict1), len(posDict),"
   ]
  },
  {
   "cell_type": "code",
   "execution_count": null,
   "metadata": {},
   "outputs": [],
   "source": [
    "# import csv\n",
    "# flPth='data/htmlError.tsv'\n",
    "# list_header=[\"position\",\"link_query\"]\n",
    "# with open(flPth) as f:\n",
    "#     errorsOld = csv.DictReader(f, delimiter='\\t')\n",
    "#     errors = [error[list_header[0]] for error in errorsOld]\n",
    "#     # print(finishedOld.fieldnames)\n",
    "    "
   ]
  },
  {
   "cell_type": "code",
   "execution_count": null,
   "metadata": {},
   "outputs": [],
   "source": [
    "# errStrings = []\n",
    "# for err in errors:\n",
    "#     errStrings.append(posDict[err])"
   ]
  },
  {
   "cell_type": "code",
   "execution_count": null,
   "metadata": {},
   "outputs": [
    {
     "data": {
      "text/plain": [
       "23507"
      ]
     },
     "metadata": {},
     "output_type": "display_data"
    }
   ],
   "source": [
    "# len(errStrings)"
   ]
  },
  {
   "cell_type": "code",
   "execution_count": 517,
   "metadata": {},
   "outputs": [],
   "source": [
    "# errStrUniq = set(errStrings)\n",
    "errStrUniq = set(errStrings.values())"
   ]
  },
  {
   "cell_type": "code",
   "execution_count": 518,
   "metadata": {},
   "outputs": [
    {
     "data": {
      "text/plain": [
       "1068"
      ]
     },
     "execution_count": 518,
     "metadata": {},
     "output_type": "execute_result"
    }
   ],
   "source": [
    "len(errStrUniq)"
   ]
  },
  {
   "cell_type": "code",
   "execution_count": 519,
   "metadata": {},
   "outputs": [
    {
     "data": {
      "text/plain": [
       "('96:2:3', 'بِسْمِ')"
      ]
     },
     "execution_count": 519,
     "metadata": {},
     "output_type": "execute_result"
    }
   ],
   "source": [
    "errors[0],posDict[\"1:1:1\"]"
   ]
  },
  {
   "cell_type": "code",
   "execution_count": 520,
   "metadata": {},
   "outputs": [],
   "source": [
    "errDict = {}\n",
    "for errPos in errors:\n",
    "    if posDict[errPos] not in errDict.keys():\n",
    "        errDict[posDict[errPos]] = [errPos]\n",
    "    else:\n",
    "        errDict[posDict[errPos]].append(errPos)"
   ]
  },
  {
   "cell_type": "code",
   "execution_count": null,
   "metadata": {},
   "outputs": [],
   "source": [
    "# errDict"
   ]
  },
  {
   "cell_type": "code",
   "execution_count": 421,
   "metadata": {},
   "outputs": [],
   "source": [
    "import pandas as pd\n",
    "pd.set_option('display.max_rows', None)\n",
    "df = pd.DataFrame([[k,v,len(v)] for k,v in errDict.items()],columns=[\"string\",\"positions\",\"frequency\"])"
   ]
  },
  {
   "cell_type": "code",
   "execution_count": null,
   "metadata": {},
   "outputs": [],
   "source": [
    "df2 = df[:2]"
   ]
  },
  {
   "cell_type": "code",
   "execution_count": null,
   "metadata": {},
   "outputs": [
    {
     "data": {
      "text/html": [
       "<div>\n",
       "<style scoped>\n",
       "    .dataframe tbody tr th:only-of-type {\n",
       "        vertical-align: middle;\n",
       "    }\n",
       "\n",
       "    .dataframe tbody tr th {\n",
       "        vertical-align: top;\n",
       "    }\n",
       "\n",
       "    .dataframe thead th {\n",
       "        text-align: right;\n",
       "    }\n",
       "</style>\n",
       "<table border=\"1\" class=\"dataframe\">\n",
       "  <thead>\n",
       "    <tr style=\"text-align: right;\">\n",
       "      <th></th>\n",
       "      <th>string</th>\n",
       "      <th>positions</th>\n",
       "    </tr>\n",
       "  </thead>\n",
       "  <tbody>\n",
       "    <tr>\n",
       "      <th>0</th>\n",
       "      <td>بِسْمِ</td>\n",
       "      <td>[1:1:1]</td>\n",
       "    </tr>\n",
       "    <tr>\n",
       "      <th>1</th>\n",
       "      <td>مِنْ</td>\n",
       "      <td>[96:2:3, 53:18:3, 53:28:4, 80:18:1, 80:34:4, 3...</td>\n",
       "    </tr>\n",
       "  </tbody>\n",
       "</table>\n",
       "</div>"
      ],
      "text/plain": [
       "   string                                          positions\n",
       "0  بِسْمِ                                            [1:1:1]\n",
       "1    مِنْ  [96:2:3, 53:18:3, 53:28:4, 80:18:1, 80:34:4, 3..."
      ]
     },
     "metadata": {},
     "output_type": "display_data"
    }
   ],
   "source": [
    "df2"
   ]
  },
  {
   "cell_type": "code",
   "execution_count": null,
   "metadata": {},
   "outputs": [
    {
     "data": {
      "text/plain": [
       "list"
      ]
     },
     "metadata": {},
     "output_type": "display_data"
    }
   ],
   "source": [
    "type(df.positions[0])"
   ]
  },
  {
   "cell_type": "code",
   "execution_count": null,
   "metadata": {},
   "outputs": [
    {
     "data": {
      "text/plain": [
       "''"
      ]
     },
     "metadata": {},
     "output_type": "display_data"
    }
   ],
   "source": [
    "posDict[\"68:39:9\"]"
   ]
  },
  {
   "cell_type": "code",
   "execution_count": null,
   "metadata": {},
   "outputs": [],
   "source": [
    "df.sort_values(\n",
    "    by=\"positions\", \n",
    "    key= lambda x : x.apply(len),\n",
    "    ascending=False\n",
    ")"
   ]
  },
  {
   "cell_type": "code",
   "execution_count": 521,
   "metadata": {},
   "outputs": [],
   "source": [
    "import json\n",
    "flPth='data/lemmata.json'\n",
    "with open(flPth) as f:\n",
    "    lemmataRows = json.loads(f.read())\n",
    "    "
   ]
  },
  {
   "cell_type": "code",
   "execution_count": 537,
   "metadata": {},
   "outputs": [],
   "source": [
    "lemmata = [(lemmaBkw[0], lemmaBkw[1]) for lemmaBkw in lemmataRows]"
   ]
  },
  {
   "cell_type": "code",
   "execution_count": 449,
   "metadata": {},
   "outputs": [
    {
     "data": {
      "text/plain": [
       "(3680, 1068)"
      ]
     },
     "execution_count": 449,
     "metadata": {},
     "output_type": "execute_result"
    }
   ],
   "source": [
    "len(lemmata), len(errStrUniq)"
   ]
  },
  {
   "cell_type": "code",
   "execution_count": 523,
   "metadata": {},
   "outputs": [
    {
     "data": {
      "text/plain": [
       "('مِن', True, True, False, False)"
      ]
     },
     "execution_count": 523,
     "metadata": {},
     "output_type": "execute_result"
    }
   ],
   "source": [
    "lemmata[0], 'فِى' in lemmata, 'جِبْرِيل' in lemmata, 'جِبْرِيل' in errStrUniq, 'جِبْرِيل' in posStriFinishedDict.values()"
   ]
  },
  {
   "cell_type": "code",
   "execution_count": 524,
   "metadata": {},
   "outputs": [
    {
     "name": "stdout",
     "output_type": "stream",
     "text": [
      "طه\n",
      "ۜ\n"
     ]
    }
   ],
   "source": [
    "for stri in errStrUniq:\n",
    "    strTyp = 'root'\n",
    "    for char in stri:\n",
    "        if char in arbVwlsDict.values():\n",
    "            strTyp = 'lem'\n",
    "            break\n",
    "    if strTyp == 'root':\n",
    "        print(stri)"
   ]
  },
  {
   "cell_type": "code",
   "execution_count": 533,
   "metadata": {},
   "outputs": [
    {
     "data": {
      "text/plain": [
       "'%D9%85%D9%8F%D9%88%D8%B3%D9%8E%D9%89%D9%B0'"
      ]
     },
     "execution_count": 533,
     "metadata": {},
     "output_type": "execute_result"
    }
   ],
   "source": [
    "lem = 'مُوسَىٰ'\n",
    "lemQuote = quote(lem)\n",
    "lemQuote"
   ]
  },
  {
   "cell_type": "code",
   "execution_count": 535,
   "metadata": {},
   "outputs": [
    {
     "data": {
      "text/plain": [
       "'muwsaY%60'"
      ]
     },
     "execution_count": 535,
     "metadata": {},
     "output_type": "execute_result"
    }
   ],
   "source": [
    "lem = 'muwsaY`'\n",
    "lemQuote = quote(lem)\n",
    "lemQuote"
   ]
  },
  {
   "cell_type": "code",
   "execution_count": null,
   "metadata": {},
   "outputs": [
    {
     "ename": "KeyboardInterrupt",
     "evalue": "",
     "output_type": "error",
     "traceback": [
      "\u001b[0;31m---------------------------------------------------------------------------\u001b[0m",
      "\u001b[0;31mKeyboardInterrupt\u001b[0m                         Traceback (most recent call last)",
      "Cell \u001b[0;32mIn[529], line 13\u001b[0m\n\u001b[1;32m     11\u001b[0m             stem \u001b[38;5;241m=\u001b[39m lemma\n\u001b[1;32m     12\u001b[0m \u001b[38;5;28;01mif\u001b[39;00m lem \u001b[38;5;241m!=\u001b[39m \u001b[38;5;124m'\u001b[39m\u001b[38;5;124m'\u001b[39m:\n\u001b[0;32m---> 13\u001b[0m     \u001b[43mposGet\u001b[49m\u001b[43m(\u001b[49m\u001b[43mpos\u001b[49m\u001b[43m,\u001b[49m\u001b[43mlnkQry\u001b[49m\u001b[38;5;241;43m=\u001b[39;49m\u001b[43mlem\u001b[49m\u001b[43m,\u001b[49m\u001b[43mstrlnks\u001b[49m\u001b[38;5;241;43m=\u001b[39;49m\u001b[43m[\u001b[49m\n\u001b[1;32m     14\u001b[0m \u001b[43m         \u001b[49m\u001b[38;5;124;43mf\u001b[39;49m\u001b[38;5;124;43m\"\u001b[39;49m\u001b[38;5;124;43mhttps://corpus.quran.com/search.jsp?q=lem:\u001b[39;49m\u001b[38;5;132;43;01m{\u001b[39;49;00m\u001b[43mlem\u001b[49m\u001b[38;5;132;43;01m}\u001b[39;49;00m\u001b[38;5;124;43m\"\u001b[39;49m\u001b[43m,\u001b[49m\n\u001b[1;32m     15\u001b[0m \u001b[43m         \u001b[49m\u001b[38;5;124;43mf\u001b[39;49m\u001b[38;5;124;43m\"\u001b[39;49m\u001b[38;5;124;43mhttps://corpus.quran.com/qurandictionary.jsp?q=\u001b[39;49m\u001b[38;5;132;43;01m{\u001b[39;49;00m\u001b[43mlem\u001b[49m\u001b[38;5;132;43;01m}\u001b[39;49;00m\u001b[38;5;124;43m\"\u001b[39;49m\u001b[43m,\u001b[49m\n\u001b[1;32m     16\u001b[0m \u001b[43m    \u001b[49m\u001b[43m]\u001b[49m\u001b[43m)\u001b[49m\n\u001b[1;32m     17\u001b[0m     posStriFinishedDict[pos] \u001b[38;5;241m=\u001b[39m lem\n\u001b[1;32m     18\u001b[0m     \u001b[38;5;28;01mdel\u001b[39;00m errStrings[pos]\n",
      "Cell \u001b[0;32mIn[527], line 48\u001b[0m, in \u001b[0;36mposGet\u001b[0;34m(pos, lnkQry, strlnks)\u001b[0m\n\u001b[1;32m     45\u001b[0m contntLs \u001b[38;5;241m=\u001b[39m []\n\u001b[1;32m     46\u001b[0m \u001b[38;5;28;01mfor\u001b[39;00m strlnk \u001b[38;5;129;01min\u001b[39;00m strlnks:\n\u001b[1;32m     47\u001b[0m     \u001b[38;5;66;03m# strlnk = f\"https://corpus.quran.com/qurandictionary.jsp?q={lnkQry}#({pos})\"\u001b[39;00m\n\u001b[0;32m---> 48\u001b[0m     grabhtml \u001b[38;5;241m=\u001b[39m \u001b[43mrequests\u001b[49m\u001b[38;5;241;43m.\u001b[39;49m\u001b[43mget\u001b[49m\u001b[43m(\u001b[49m\u001b[43mstrlnk\u001b[49m\u001b[43m)\u001b[49m\u001b[38;5;241m.\u001b[39mtext\n\u001b[1;32m     49\u001b[0m     soup \u001b[38;5;241m=\u001b[39m BeautifulSoup(\n\u001b[1;32m     50\u001b[0m         grabhtml,\n\u001b[1;32m     51\u001b[0m         \u001b[38;5;124m'\u001b[39m\u001b[38;5;124mlxml\u001b[39m\u001b[38;5;124m'\u001b[39m,\n\u001b[1;32m     52\u001b[0m         \u001b[38;5;66;03m# 'html.parser',\u001b[39;00m\n\u001b[1;32m     53\u001b[0m     )\n\u001b[1;32m     54\u001b[0m     tbls \u001b[38;5;241m=\u001b[39m soup\u001b[38;5;241m.\u001b[39mselect(\n\u001b[1;32m     55\u001b[0m         \u001b[38;5;124m\"\u001b[39m\u001b[38;5;124mtable.taf\u001b[39m\u001b[38;5;124m\"\u001b[39m\n\u001b[1;32m     56\u001b[0m         \u001b[38;5;66;03m# \"ul\",\u001b[39;00m\n\u001b[1;32m     57\u001b[0m         \u001b[38;5;66;03m# {\"class\":\"also\"}\u001b[39;00m\n\u001b[1;32m     58\u001b[0m     )\n",
      "File \u001b[0;32m~/miniconda3/envs/mlCond/lib/python3.9/site-packages/requests/api.py:73\u001b[0m, in \u001b[0;36mget\u001b[0;34m(url, params, **kwargs)\u001b[0m\n\u001b[1;32m     62\u001b[0m \u001b[38;5;28;01mdef\u001b[39;00m \u001b[38;5;21mget\u001b[39m(url, params\u001b[38;5;241m=\u001b[39m\u001b[38;5;28;01mNone\u001b[39;00m, \u001b[38;5;241m*\u001b[39m\u001b[38;5;241m*\u001b[39mkwargs):\n\u001b[1;32m     63\u001b[0m \u001b[38;5;250m    \u001b[39m\u001b[38;5;124mr\u001b[39m\u001b[38;5;124;03m\"\"\"Sends a GET request.\u001b[39;00m\n\u001b[1;32m     64\u001b[0m \n\u001b[1;32m     65\u001b[0m \u001b[38;5;124;03m    :param url: URL for the new :class:`Request` object.\u001b[39;00m\n\u001b[0;32m   (...)\u001b[0m\n\u001b[1;32m     70\u001b[0m \u001b[38;5;124;03m    :rtype: requests.Response\u001b[39;00m\n\u001b[1;32m     71\u001b[0m \u001b[38;5;124;03m    \"\"\"\u001b[39;00m\n\u001b[0;32m---> 73\u001b[0m     \u001b[38;5;28;01mreturn\u001b[39;00m \u001b[43mrequest\u001b[49m\u001b[43m(\u001b[49m\u001b[38;5;124;43m\"\u001b[39;49m\u001b[38;5;124;43mget\u001b[39;49m\u001b[38;5;124;43m\"\u001b[39;49m\u001b[43m,\u001b[49m\u001b[43m \u001b[49m\u001b[43murl\u001b[49m\u001b[43m,\u001b[49m\u001b[43m \u001b[49m\u001b[43mparams\u001b[49m\u001b[38;5;241;43m=\u001b[39;49m\u001b[43mparams\u001b[49m\u001b[43m,\u001b[49m\u001b[43m \u001b[49m\u001b[38;5;241;43m*\u001b[39;49m\u001b[38;5;241;43m*\u001b[39;49m\u001b[43mkwargs\u001b[49m\u001b[43m)\u001b[49m\n",
      "File \u001b[0;32m~/miniconda3/envs/mlCond/lib/python3.9/site-packages/requests/api.py:59\u001b[0m, in \u001b[0;36mrequest\u001b[0;34m(method, url, **kwargs)\u001b[0m\n\u001b[1;32m     55\u001b[0m \u001b[38;5;66;03m# By using the 'with' statement we are sure the session is closed, thus we\u001b[39;00m\n\u001b[1;32m     56\u001b[0m \u001b[38;5;66;03m# avoid leaving sockets open which can trigger a ResourceWarning in some\u001b[39;00m\n\u001b[1;32m     57\u001b[0m \u001b[38;5;66;03m# cases, and look like a memory leak in others.\u001b[39;00m\n\u001b[1;32m     58\u001b[0m \u001b[38;5;28;01mwith\u001b[39;00m sessions\u001b[38;5;241m.\u001b[39mSession() \u001b[38;5;28;01mas\u001b[39;00m session:\n\u001b[0;32m---> 59\u001b[0m     \u001b[38;5;28;01mreturn\u001b[39;00m \u001b[43msession\u001b[49m\u001b[38;5;241;43m.\u001b[39;49m\u001b[43mrequest\u001b[49m\u001b[43m(\u001b[49m\u001b[43mmethod\u001b[49m\u001b[38;5;241;43m=\u001b[39;49m\u001b[43mmethod\u001b[49m\u001b[43m,\u001b[49m\u001b[43m \u001b[49m\u001b[43murl\u001b[49m\u001b[38;5;241;43m=\u001b[39;49m\u001b[43murl\u001b[49m\u001b[43m,\u001b[49m\u001b[43m \u001b[49m\u001b[38;5;241;43m*\u001b[39;49m\u001b[38;5;241;43m*\u001b[39;49m\u001b[43mkwargs\u001b[49m\u001b[43m)\u001b[49m\n",
      "File \u001b[0;32m~/miniconda3/envs/mlCond/lib/python3.9/site-packages/requests/sessions.py:589\u001b[0m, in \u001b[0;36mSession.request\u001b[0;34m(self, method, url, params, data, headers, cookies, files, auth, timeout, allow_redirects, proxies, hooks, stream, verify, cert, json)\u001b[0m\n\u001b[1;32m    584\u001b[0m send_kwargs \u001b[38;5;241m=\u001b[39m {\n\u001b[1;32m    585\u001b[0m     \u001b[38;5;124m\"\u001b[39m\u001b[38;5;124mtimeout\u001b[39m\u001b[38;5;124m\"\u001b[39m: timeout,\n\u001b[1;32m    586\u001b[0m     \u001b[38;5;124m\"\u001b[39m\u001b[38;5;124mallow_redirects\u001b[39m\u001b[38;5;124m\"\u001b[39m: allow_redirects,\n\u001b[1;32m    587\u001b[0m }\n\u001b[1;32m    588\u001b[0m send_kwargs\u001b[38;5;241m.\u001b[39mupdate(settings)\n\u001b[0;32m--> 589\u001b[0m resp \u001b[38;5;241m=\u001b[39m \u001b[38;5;28;43mself\u001b[39;49m\u001b[38;5;241;43m.\u001b[39;49m\u001b[43msend\u001b[49m\u001b[43m(\u001b[49m\u001b[43mprep\u001b[49m\u001b[43m,\u001b[49m\u001b[43m \u001b[49m\u001b[38;5;241;43m*\u001b[39;49m\u001b[38;5;241;43m*\u001b[39;49m\u001b[43msend_kwargs\u001b[49m\u001b[43m)\u001b[49m\n\u001b[1;32m    591\u001b[0m \u001b[38;5;28;01mreturn\u001b[39;00m resp\n",
      "File \u001b[0;32m~/miniconda3/envs/mlCond/lib/python3.9/site-packages/requests/sessions.py:703\u001b[0m, in \u001b[0;36mSession.send\u001b[0;34m(self, request, **kwargs)\u001b[0m\n\u001b[1;32m    700\u001b[0m start \u001b[38;5;241m=\u001b[39m preferred_clock()\n\u001b[1;32m    702\u001b[0m \u001b[38;5;66;03m# Send the request\u001b[39;00m\n\u001b[0;32m--> 703\u001b[0m r \u001b[38;5;241m=\u001b[39m \u001b[43madapter\u001b[49m\u001b[38;5;241;43m.\u001b[39;49m\u001b[43msend\u001b[49m\u001b[43m(\u001b[49m\u001b[43mrequest\u001b[49m\u001b[43m,\u001b[49m\u001b[43m \u001b[49m\u001b[38;5;241;43m*\u001b[39;49m\u001b[38;5;241;43m*\u001b[39;49m\u001b[43mkwargs\u001b[49m\u001b[43m)\u001b[49m\n\u001b[1;32m    705\u001b[0m \u001b[38;5;66;03m# Total elapsed time of the request (approximately)\u001b[39;00m\n\u001b[1;32m    706\u001b[0m elapsed \u001b[38;5;241m=\u001b[39m preferred_clock() \u001b[38;5;241m-\u001b[39m start\n",
      "File \u001b[0;32m~/miniconda3/envs/mlCond/lib/python3.9/site-packages/requests/adapters.py:667\u001b[0m, in \u001b[0;36mHTTPAdapter.send\u001b[0;34m(self, request, stream, timeout, verify, cert, proxies)\u001b[0m\n\u001b[1;32m    664\u001b[0m     timeout \u001b[38;5;241m=\u001b[39m TimeoutSauce(connect\u001b[38;5;241m=\u001b[39mtimeout, read\u001b[38;5;241m=\u001b[39mtimeout)\n\u001b[1;32m    666\u001b[0m \u001b[38;5;28;01mtry\u001b[39;00m:\n\u001b[0;32m--> 667\u001b[0m     resp \u001b[38;5;241m=\u001b[39m \u001b[43mconn\u001b[49m\u001b[38;5;241;43m.\u001b[39;49m\u001b[43murlopen\u001b[49m\u001b[43m(\u001b[49m\n\u001b[1;32m    668\u001b[0m \u001b[43m        \u001b[49m\u001b[43mmethod\u001b[49m\u001b[38;5;241;43m=\u001b[39;49m\u001b[43mrequest\u001b[49m\u001b[38;5;241;43m.\u001b[39;49m\u001b[43mmethod\u001b[49m\u001b[43m,\u001b[49m\n\u001b[1;32m    669\u001b[0m \u001b[43m        \u001b[49m\u001b[43murl\u001b[49m\u001b[38;5;241;43m=\u001b[39;49m\u001b[43murl\u001b[49m\u001b[43m,\u001b[49m\n\u001b[1;32m    670\u001b[0m \u001b[43m        \u001b[49m\u001b[43mbody\u001b[49m\u001b[38;5;241;43m=\u001b[39;49m\u001b[43mrequest\u001b[49m\u001b[38;5;241;43m.\u001b[39;49m\u001b[43mbody\u001b[49m\u001b[43m,\u001b[49m\n\u001b[1;32m    671\u001b[0m \u001b[43m        \u001b[49m\u001b[43mheaders\u001b[49m\u001b[38;5;241;43m=\u001b[39;49m\u001b[43mrequest\u001b[49m\u001b[38;5;241;43m.\u001b[39;49m\u001b[43mheaders\u001b[49m\u001b[43m,\u001b[49m\n\u001b[1;32m    672\u001b[0m \u001b[43m        \u001b[49m\u001b[43mredirect\u001b[49m\u001b[38;5;241;43m=\u001b[39;49m\u001b[38;5;28;43;01mFalse\u001b[39;49;00m\u001b[43m,\u001b[49m\n\u001b[1;32m    673\u001b[0m \u001b[43m        \u001b[49m\u001b[43massert_same_host\u001b[49m\u001b[38;5;241;43m=\u001b[39;49m\u001b[38;5;28;43;01mFalse\u001b[39;49;00m\u001b[43m,\u001b[49m\n\u001b[1;32m    674\u001b[0m \u001b[43m        \u001b[49m\u001b[43mpreload_content\u001b[49m\u001b[38;5;241;43m=\u001b[39;49m\u001b[38;5;28;43;01mFalse\u001b[39;49;00m\u001b[43m,\u001b[49m\n\u001b[1;32m    675\u001b[0m \u001b[43m        \u001b[49m\u001b[43mdecode_content\u001b[49m\u001b[38;5;241;43m=\u001b[39;49m\u001b[38;5;28;43;01mFalse\u001b[39;49;00m\u001b[43m,\u001b[49m\n\u001b[1;32m    676\u001b[0m \u001b[43m        \u001b[49m\u001b[43mretries\u001b[49m\u001b[38;5;241;43m=\u001b[39;49m\u001b[38;5;28;43mself\u001b[39;49m\u001b[38;5;241;43m.\u001b[39;49m\u001b[43mmax_retries\u001b[49m\u001b[43m,\u001b[49m\n\u001b[1;32m    677\u001b[0m \u001b[43m        \u001b[49m\u001b[43mtimeout\u001b[49m\u001b[38;5;241;43m=\u001b[39;49m\u001b[43mtimeout\u001b[49m\u001b[43m,\u001b[49m\n\u001b[1;32m    678\u001b[0m \u001b[43m        \u001b[49m\u001b[43mchunked\u001b[49m\u001b[38;5;241;43m=\u001b[39;49m\u001b[43mchunked\u001b[49m\u001b[43m,\u001b[49m\n\u001b[1;32m    679\u001b[0m \u001b[43m    \u001b[49m\u001b[43m)\u001b[49m\n\u001b[1;32m    681\u001b[0m \u001b[38;5;28;01mexcept\u001b[39;00m (ProtocolError, \u001b[38;5;167;01mOSError\u001b[39;00m) \u001b[38;5;28;01mas\u001b[39;00m err:\n\u001b[1;32m    682\u001b[0m     \u001b[38;5;28;01mraise\u001b[39;00m \u001b[38;5;167;01mConnectionError\u001b[39;00m(err, request\u001b[38;5;241m=\u001b[39mrequest)\n",
      "File \u001b[0;32m~/miniconda3/envs/mlCond/lib/python3.9/site-packages/urllib3/connectionpool.py:789\u001b[0m, in \u001b[0;36mHTTPConnectionPool.urlopen\u001b[0;34m(self, method, url, body, headers, retries, redirect, assert_same_host, timeout, pool_timeout, release_conn, chunked, body_pos, preload_content, decode_content, **response_kw)\u001b[0m\n\u001b[1;32m    786\u001b[0m response_conn \u001b[38;5;241m=\u001b[39m conn \u001b[38;5;28;01mif\u001b[39;00m \u001b[38;5;129;01mnot\u001b[39;00m release_conn \u001b[38;5;28;01melse\u001b[39;00m \u001b[38;5;28;01mNone\u001b[39;00m\n\u001b[1;32m    788\u001b[0m \u001b[38;5;66;03m# Make the request on the HTTPConnection object\u001b[39;00m\n\u001b[0;32m--> 789\u001b[0m response \u001b[38;5;241m=\u001b[39m \u001b[38;5;28;43mself\u001b[39;49m\u001b[38;5;241;43m.\u001b[39;49m\u001b[43m_make_request\u001b[49m\u001b[43m(\u001b[49m\n\u001b[1;32m    790\u001b[0m \u001b[43m    \u001b[49m\u001b[43mconn\u001b[49m\u001b[43m,\u001b[49m\n\u001b[1;32m    791\u001b[0m \u001b[43m    \u001b[49m\u001b[43mmethod\u001b[49m\u001b[43m,\u001b[49m\n\u001b[1;32m    792\u001b[0m \u001b[43m    \u001b[49m\u001b[43murl\u001b[49m\u001b[43m,\u001b[49m\n\u001b[1;32m    793\u001b[0m \u001b[43m    \u001b[49m\u001b[43mtimeout\u001b[49m\u001b[38;5;241;43m=\u001b[39;49m\u001b[43mtimeout_obj\u001b[49m\u001b[43m,\u001b[49m\n\u001b[1;32m    794\u001b[0m \u001b[43m    \u001b[49m\u001b[43mbody\u001b[49m\u001b[38;5;241;43m=\u001b[39;49m\u001b[43mbody\u001b[49m\u001b[43m,\u001b[49m\n\u001b[1;32m    795\u001b[0m \u001b[43m    \u001b[49m\u001b[43mheaders\u001b[49m\u001b[38;5;241;43m=\u001b[39;49m\u001b[43mheaders\u001b[49m\u001b[43m,\u001b[49m\n\u001b[1;32m    796\u001b[0m \u001b[43m    \u001b[49m\u001b[43mchunked\u001b[49m\u001b[38;5;241;43m=\u001b[39;49m\u001b[43mchunked\u001b[49m\u001b[43m,\u001b[49m\n\u001b[1;32m    797\u001b[0m \u001b[43m    \u001b[49m\u001b[43mretries\u001b[49m\u001b[38;5;241;43m=\u001b[39;49m\u001b[43mretries\u001b[49m\u001b[43m,\u001b[49m\n\u001b[1;32m    798\u001b[0m \u001b[43m    \u001b[49m\u001b[43mresponse_conn\u001b[49m\u001b[38;5;241;43m=\u001b[39;49m\u001b[43mresponse_conn\u001b[49m\u001b[43m,\u001b[49m\n\u001b[1;32m    799\u001b[0m \u001b[43m    \u001b[49m\u001b[43mpreload_content\u001b[49m\u001b[38;5;241;43m=\u001b[39;49m\u001b[43mpreload_content\u001b[49m\u001b[43m,\u001b[49m\n\u001b[1;32m    800\u001b[0m \u001b[43m    \u001b[49m\u001b[43mdecode_content\u001b[49m\u001b[38;5;241;43m=\u001b[39;49m\u001b[43mdecode_content\u001b[49m\u001b[43m,\u001b[49m\n\u001b[1;32m    801\u001b[0m \u001b[43m    \u001b[49m\u001b[38;5;241;43m*\u001b[39;49m\u001b[38;5;241;43m*\u001b[39;49m\u001b[43mresponse_kw\u001b[49m\u001b[43m,\u001b[49m\n\u001b[1;32m    802\u001b[0m \u001b[43m\u001b[49m\u001b[43m)\u001b[49m\n\u001b[1;32m    804\u001b[0m \u001b[38;5;66;03m# Everything went great!\u001b[39;00m\n\u001b[1;32m    805\u001b[0m clean_exit \u001b[38;5;241m=\u001b[39m \u001b[38;5;28;01mTrue\u001b[39;00m\n",
      "File \u001b[0;32m~/miniconda3/envs/mlCond/lib/python3.9/site-packages/urllib3/connectionpool.py:536\u001b[0m, in \u001b[0;36mHTTPConnectionPool._make_request\u001b[0;34m(self, conn, method, url, body, headers, retries, timeout, chunked, response_conn, preload_content, decode_content, enforce_content_length)\u001b[0m\n\u001b[1;32m    534\u001b[0m \u001b[38;5;66;03m# Receive the response from the server\u001b[39;00m\n\u001b[1;32m    535\u001b[0m \u001b[38;5;28;01mtry\u001b[39;00m:\n\u001b[0;32m--> 536\u001b[0m     response \u001b[38;5;241m=\u001b[39m \u001b[43mconn\u001b[49m\u001b[38;5;241;43m.\u001b[39;49m\u001b[43mgetresponse\u001b[49m\u001b[43m(\u001b[49m\u001b[43m)\u001b[49m\n\u001b[1;32m    537\u001b[0m \u001b[38;5;28;01mexcept\u001b[39;00m (BaseSSLError, \u001b[38;5;167;01mOSError\u001b[39;00m) \u001b[38;5;28;01mas\u001b[39;00m e:\n\u001b[1;32m    538\u001b[0m     \u001b[38;5;28mself\u001b[39m\u001b[38;5;241m.\u001b[39m_raise_timeout(err\u001b[38;5;241m=\u001b[39me, url\u001b[38;5;241m=\u001b[39murl, timeout_value\u001b[38;5;241m=\u001b[39mread_timeout)\n",
      "File \u001b[0;32m~/miniconda3/envs/mlCond/lib/python3.9/site-packages/urllib3/connection.py:507\u001b[0m, in \u001b[0;36mHTTPConnection.getresponse\u001b[0;34m(self)\u001b[0m\n\u001b[1;32m    504\u001b[0m \u001b[38;5;28;01mfrom\u001b[39;00m \u001b[38;5;21;01m.\u001b[39;00m\u001b[38;5;21;01mresponse\u001b[39;00m \u001b[38;5;28;01mimport\u001b[39;00m HTTPResponse\n\u001b[1;32m    506\u001b[0m \u001b[38;5;66;03m# Get the response from http.client.HTTPConnection\u001b[39;00m\n\u001b[0;32m--> 507\u001b[0m httplib_response \u001b[38;5;241m=\u001b[39m \u001b[38;5;28;43msuper\u001b[39;49m\u001b[43m(\u001b[49m\u001b[43m)\u001b[49m\u001b[38;5;241;43m.\u001b[39;49m\u001b[43mgetresponse\u001b[49m\u001b[43m(\u001b[49m\u001b[43m)\u001b[49m\n\u001b[1;32m    509\u001b[0m \u001b[38;5;28;01mtry\u001b[39;00m:\n\u001b[1;32m    510\u001b[0m     assert_header_parsing(httplib_response\u001b[38;5;241m.\u001b[39mmsg)\n",
      "File \u001b[0;32m~/miniconda3/envs/mlCond/lib/python3.9/http/client.py:1377\u001b[0m, in \u001b[0;36mHTTPConnection.getresponse\u001b[0;34m(self)\u001b[0m\n\u001b[1;32m   1375\u001b[0m \u001b[38;5;28;01mtry\u001b[39;00m:\n\u001b[1;32m   1376\u001b[0m     \u001b[38;5;28;01mtry\u001b[39;00m:\n\u001b[0;32m-> 1377\u001b[0m         \u001b[43mresponse\u001b[49m\u001b[38;5;241;43m.\u001b[39;49m\u001b[43mbegin\u001b[49m\u001b[43m(\u001b[49m\u001b[43m)\u001b[49m\n\u001b[1;32m   1378\u001b[0m     \u001b[38;5;28;01mexcept\u001b[39;00m \u001b[38;5;167;01mConnectionError\u001b[39;00m:\n\u001b[1;32m   1379\u001b[0m         \u001b[38;5;28mself\u001b[39m\u001b[38;5;241m.\u001b[39mclose()\n",
      "File \u001b[0;32m~/miniconda3/envs/mlCond/lib/python3.9/http/client.py:320\u001b[0m, in \u001b[0;36mHTTPResponse.begin\u001b[0;34m(self)\u001b[0m\n\u001b[1;32m    318\u001b[0m \u001b[38;5;66;03m# read until we get a non-100 response\u001b[39;00m\n\u001b[1;32m    319\u001b[0m \u001b[38;5;28;01mwhile\u001b[39;00m \u001b[38;5;28;01mTrue\u001b[39;00m:\n\u001b[0;32m--> 320\u001b[0m     version, status, reason \u001b[38;5;241m=\u001b[39m \u001b[38;5;28;43mself\u001b[39;49m\u001b[38;5;241;43m.\u001b[39;49m\u001b[43m_read_status\u001b[49m\u001b[43m(\u001b[49m\u001b[43m)\u001b[49m\n\u001b[1;32m    321\u001b[0m     \u001b[38;5;28;01mif\u001b[39;00m status \u001b[38;5;241m!=\u001b[39m CONTINUE:\n\u001b[1;32m    322\u001b[0m         \u001b[38;5;28;01mbreak\u001b[39;00m\n",
      "File \u001b[0;32m~/miniconda3/envs/mlCond/lib/python3.9/http/client.py:281\u001b[0m, in \u001b[0;36mHTTPResponse._read_status\u001b[0;34m(self)\u001b[0m\n\u001b[1;32m    280\u001b[0m \u001b[38;5;28;01mdef\u001b[39;00m \u001b[38;5;21m_read_status\u001b[39m(\u001b[38;5;28mself\u001b[39m):\n\u001b[0;32m--> 281\u001b[0m     line \u001b[38;5;241m=\u001b[39m \u001b[38;5;28mstr\u001b[39m(\u001b[38;5;28;43mself\u001b[39;49m\u001b[38;5;241;43m.\u001b[39;49m\u001b[43mfp\u001b[49m\u001b[38;5;241;43m.\u001b[39;49m\u001b[43mreadline\u001b[49m\u001b[43m(\u001b[49m\u001b[43m_MAXLINE\u001b[49m\u001b[43m \u001b[49m\u001b[38;5;241;43m+\u001b[39;49m\u001b[43m \u001b[49m\u001b[38;5;241;43m1\u001b[39;49m\u001b[43m)\u001b[49m, \u001b[38;5;124m\"\u001b[39m\u001b[38;5;124miso-8859-1\u001b[39m\u001b[38;5;124m\"\u001b[39m)\n\u001b[1;32m    282\u001b[0m     \u001b[38;5;28;01mif\u001b[39;00m \u001b[38;5;28mlen\u001b[39m(line) \u001b[38;5;241m>\u001b[39m _MAXLINE:\n\u001b[1;32m    283\u001b[0m         \u001b[38;5;28;01mraise\u001b[39;00m LineTooLong(\u001b[38;5;124m\"\u001b[39m\u001b[38;5;124mstatus line\u001b[39m\u001b[38;5;124m\"\u001b[39m)\n",
      "File \u001b[0;32m~/miniconda3/envs/mlCond/lib/python3.9/socket.py:704\u001b[0m, in \u001b[0;36mSocketIO.readinto\u001b[0;34m(self, b)\u001b[0m\n\u001b[1;32m    702\u001b[0m \u001b[38;5;28;01mwhile\u001b[39;00m \u001b[38;5;28;01mTrue\u001b[39;00m:\n\u001b[1;32m    703\u001b[0m     \u001b[38;5;28;01mtry\u001b[39;00m:\n\u001b[0;32m--> 704\u001b[0m         \u001b[38;5;28;01mreturn\u001b[39;00m \u001b[38;5;28;43mself\u001b[39;49m\u001b[38;5;241;43m.\u001b[39;49m\u001b[43m_sock\u001b[49m\u001b[38;5;241;43m.\u001b[39;49m\u001b[43mrecv_into\u001b[49m\u001b[43m(\u001b[49m\u001b[43mb\u001b[49m\u001b[43m)\u001b[49m\n\u001b[1;32m    705\u001b[0m     \u001b[38;5;28;01mexcept\u001b[39;00m timeout:\n\u001b[1;32m    706\u001b[0m         \u001b[38;5;28mself\u001b[39m\u001b[38;5;241m.\u001b[39m_timeout_occurred \u001b[38;5;241m=\u001b[39m \u001b[38;5;28;01mTrue\u001b[39;00m\n",
      "File \u001b[0;32m~/miniconda3/envs/mlCond/lib/python3.9/ssl.py:1275\u001b[0m, in \u001b[0;36mSSLSocket.recv_into\u001b[0;34m(self, buffer, nbytes, flags)\u001b[0m\n\u001b[1;32m   1271\u001b[0m     \u001b[38;5;28;01mif\u001b[39;00m flags \u001b[38;5;241m!=\u001b[39m \u001b[38;5;241m0\u001b[39m:\n\u001b[1;32m   1272\u001b[0m         \u001b[38;5;28;01mraise\u001b[39;00m \u001b[38;5;167;01mValueError\u001b[39;00m(\n\u001b[1;32m   1273\u001b[0m           \u001b[38;5;124m\"\u001b[39m\u001b[38;5;124mnon-zero flags not allowed in calls to recv_into() on \u001b[39m\u001b[38;5;132;01m%s\u001b[39;00m\u001b[38;5;124m\"\u001b[39m \u001b[38;5;241m%\u001b[39m\n\u001b[1;32m   1274\u001b[0m           \u001b[38;5;28mself\u001b[39m\u001b[38;5;241m.\u001b[39m\u001b[38;5;18m__class__\u001b[39m)\n\u001b[0;32m-> 1275\u001b[0m     \u001b[38;5;28;01mreturn\u001b[39;00m \u001b[38;5;28;43mself\u001b[39;49m\u001b[38;5;241;43m.\u001b[39;49m\u001b[43mread\u001b[49m\u001b[43m(\u001b[49m\u001b[43mnbytes\u001b[49m\u001b[43m,\u001b[49m\u001b[43m \u001b[49m\u001b[43mbuffer\u001b[49m\u001b[43m)\u001b[49m\n\u001b[1;32m   1276\u001b[0m \u001b[38;5;28;01melse\u001b[39;00m:\n\u001b[1;32m   1277\u001b[0m     \u001b[38;5;28;01mreturn\u001b[39;00m \u001b[38;5;28msuper\u001b[39m()\u001b[38;5;241m.\u001b[39mrecv_into(buffer, nbytes, flags)\n",
      "File \u001b[0;32m~/miniconda3/envs/mlCond/lib/python3.9/ssl.py:1133\u001b[0m, in \u001b[0;36mSSLSocket.read\u001b[0;34m(self, len, buffer)\u001b[0m\n\u001b[1;32m   1131\u001b[0m \u001b[38;5;28;01mtry\u001b[39;00m:\n\u001b[1;32m   1132\u001b[0m     \u001b[38;5;28;01mif\u001b[39;00m buffer \u001b[38;5;129;01mis\u001b[39;00m \u001b[38;5;129;01mnot\u001b[39;00m \u001b[38;5;28;01mNone\u001b[39;00m:\n\u001b[0;32m-> 1133\u001b[0m         \u001b[38;5;28;01mreturn\u001b[39;00m \u001b[38;5;28;43mself\u001b[39;49m\u001b[38;5;241;43m.\u001b[39;49m\u001b[43m_sslobj\u001b[49m\u001b[38;5;241;43m.\u001b[39;49m\u001b[43mread\u001b[49m\u001b[43m(\u001b[49m\u001b[38;5;28;43mlen\u001b[39;49m\u001b[43m,\u001b[49m\u001b[43m \u001b[49m\u001b[43mbuffer\u001b[49m\u001b[43m)\u001b[49m\n\u001b[1;32m   1134\u001b[0m     \u001b[38;5;28;01melse\u001b[39;00m:\n\u001b[1;32m   1135\u001b[0m         \u001b[38;5;28;01mreturn\u001b[39;00m \u001b[38;5;28mself\u001b[39m\u001b[38;5;241m.\u001b[39m_sslobj\u001b[38;5;241m.\u001b[39mread(\u001b[38;5;28mlen\u001b[39m)\n",
      "\u001b[0;31mKeyboardInterrupt\u001b[0m: "
     ]
    }
   ],
   "source": [
    "errStrings2 = errStrings.copy()\n",
    "for pos, stri in errStrings2.items():\n",
    "    # if pos not in posStriFinishedDict:\n",
    "        lem = ''\n",
    "        for lemmaBkw in lemmata:\n",
    "            lemma = lemmaBkw[0]\n",
    "            if stri == lemma:\n",
    "                lem = lemma\n",
    "                break\n",
    "            else:\n",
    "                if lemma in stri and len(lemma)> len(lem):\n",
    "                    lem = lemma\n",
    "        if lem != '':\n",
    "            lemQuote = quote(lem)\n",
    "            # posGet(pos,lnkQry=lem,strlnks=[\n",
    "            #      f\"https://corpus.quran.com/search.jsp?q=lem:{lem}\",\n",
    "            #      f\"https://corpus.quran.com/qurandictionary.jsp?q={lem}\",\n",
    "            # ])\n",
    "            # posStriFinishedDict[pos] = lem\n",
    "            # del errStrings[pos]"
   ]
  },
  {
   "cell_type": "code",
   "execution_count": 510,
   "metadata": {},
   "outputs": [
    {
     "data": {
      "text/plain": [
       "(58696, 77438, 23506)"
      ]
     },
     "execution_count": 510,
     "metadata": {},
     "output_type": "execute_result"
    }
   ],
   "source": [
    "len(posStriFinishedDict), len(posDic), len(errStrings),"
   ]
  },
  {
   "cell_type": "code",
   "execution_count": null,
   "metadata": {},
   "outputs": [
    {
     "data": {
      "text/plain": [
       "'96:1:1'"
      ]
     },
     "execution_count": 357,
     "metadata": {},
     "output_type": "execute_result"
    }
   ],
   "source": [
    "# list(posDic.keys())[0]"
   ]
  },
  {
   "cell_type": "code",
   "execution_count": null,
   "metadata": {},
   "outputs": [
    {
     "data": {
      "text/plain": [
       "(77438, 73596)"
      ]
     },
     "execution_count": 358,
     "metadata": {},
     "output_type": "execute_result"
    }
   ],
   "source": [
    "# len(posDic), len(posStriFinishedDict)"
   ]
  },
  {
   "cell_type": "code",
   "execution_count": null,
   "metadata": {},
   "outputs": [
    {
     "data": {
      "text/plain": [
       "('يَسْطُرُونَ', [{'strTyp': 'root', 'stri': 'سمو'}])"
      ]
     },
     "execution_count": 364,
     "metadata": {},
     "output_type": "execute_result"
    }
   ],
   "source": [
    "# posDic[\"68:1:4\"], posStriFinishedDict[\"68:1:5\"]"
   ]
  },
  {
   "cell_type": "code",
   "execution_count": null,
   "metadata": {},
   "outputs": [],
   "source": [
    "# for k in posStriFinishedDict.keys():\n",
    "#     if k not in posDic.keys():\n",
    "#         print(k)"
   ]
  },
  {
   "cell_type": "code",
   "execution_count": 414,
   "metadata": {},
   "outputs": [],
   "source": [
    "import csv\n",
    "flPth='data/htmlCompleted.tsv'\n",
    "list_header=[\"position\",\"link_query\"]\n",
    "with open(flPth, 'w+') as f:\n",
    "    writer = csv.DictWriter(f, delimiter='\\t', fieldnames=list_header)\n",
    "    writer.writeheader()\n",
    "    # for datum in instLst:\n",
    "    # for k, datum in instDct.items():\n",
    "    for k,v in posStriFinishedDict.items():\n",
    "        writer.writerow({\n",
    "            list_header[0] : k,\n",
    "            list_header[1] : v,\n",
    "        })\n",
    "    "
   ]
  }
 ],
 "metadata": {
  "kernelspec": {
   "display_name": "mlCond",
   "language": "python",
   "name": "python3"
  },
  "language_info": {
   "codemirror_mode": {
    "name": "ipython",
    "version": 3
   },
   "file_extension": ".py",
   "mimetype": "text/x-python",
   "name": "python",
   "nbconvert_exporter": "python",
   "pygments_lexer": "ipython3",
   "version": "3.9.18"
  }
 },
 "nbformat": 4,
 "nbformat_minor": 2
}
