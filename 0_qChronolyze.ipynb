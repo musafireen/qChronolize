{
  "cells": [
    {
      "cell_type": "markdown",
      "metadata": {
        "id": "yL4IdRAy7LRD"
      },
      "source": [
        "## chronological order:\n",
        "* https://docs.google.com/spreadsheets/d/1hBwzbBUK52nE_lU8QrOVP5IU2HYPGOQNn-yztAnorHM/edit#gid=0\n",
        "* https://tanzil.net/docs/revelation_order\n",
        "\n",
        "To use a different chronology of surahs/verses you can tweak the \"surOrd.tsv\" file:  \n",
        "1) by manually moving around the lines for each surah,   \n",
        "2) changing the values in \"before\"/\"after\" and \"ayah_range\" in \"exception\" fields."
      ]
    },
    {
      "cell_type": "markdown",
      "metadata": {
        "id": "9l0qrvor7LQ_"
      },
      "source": [
        "## transliteration scheme\n",
        "https://corpus.quran.com/java/buckwalter.jsp"
      ]
    },
    {
      "cell_type": "markdown",
      "metadata": {
        "id": "4ZHigudu7LRA"
      },
      "source": [
        "## corpus\n",
        "https://corpus.quran.com/qurandictionary.jsp?q=klm"
      ]
    },
    {
      "cell_type": "markdown",
      "metadata": {
        "id": "bXgDdWQe7LQ7"
      },
      "source": [
        "\n",
        "# setup\n",
        "run the following cell once to setup for the first time"
      ]
    },
    {
      "cell_type": "code",
      "execution_count": null,
      "metadata": {
        "colab": {
          "base_uri": "https://localhost:8080/"
        },
        "id": "JAIxqVXi7LQ9",
        "outputId": "1a96bc7f-072b-4d64-90fa-41425098fb6d",
        "vscode": {
          "languageId": "shellscript"
        }
      },
      "outputs": [
        {
          "name": "stdout",
          "output_type": "stream",
          "text": [
            "\u001b[33mhint: Using 'master' as the name for the initial branch. This default branch name\u001b[m\n",
            "\u001b[33mhint: is subject to change. To configure the initial branch name to use in all\u001b[m\n",
            "\u001b[33mhint: of your new repositories, which will suppress this warning, call:\u001b[m\n",
            "\u001b[33mhint: \u001b[m\n",
            "\u001b[33mhint: \tgit config --global init.defaultBranch <name>\u001b[m\n",
            "\u001b[33mhint: \u001b[m\n",
            "\u001b[33mhint: Names commonly chosen instead of 'master' are 'main', 'trunk' and\u001b[m\n",
            "\u001b[33mhint: 'development'. The just-created branch can be renamed via this command:\u001b[m\n",
            "\u001b[33mhint: \u001b[m\n",
            "\u001b[33mhint: \tgit branch -m <name>\u001b[m\n",
            "Initialized empty Git repository in /content/.git/\n",
            "remote: Enumerating objects: 273, done.\u001b[K\n",
            "remote: Counting objects: 100% (111/111), done.\u001b[K\n",
            "remote: Compressing objects: 100% (76/76), done.\u001b[K\n",
            "remote: Total 273 (delta 57), reused 87 (delta 34), pack-reused 162\u001b[K\n",
            "Receiving objects: 100% (273/273), 3.24 MiB | 12.25 MiB/s, done.\n",
            "Resolving deltas: 100% (143/143), done.\n",
            "From https://github.com/ellierob/qChronolyze\n",
            " * branch            master     -> FETCH_HEAD\n",
            " * [new branch]      master     -> origin/master\n"
          ]
        }
      ],
      "source": [
        "!git init\n",
        "!git remote add origin https://github.com/musafireen/qChronolyze\n",
        "!git pull origin master\n",
        "!touch cnf.txt\n",
        "# !pip install virtualenv\n",
        "# !virtualenv venv\n",
        "# !source venv/bin/activate\n",
        "!pip install -r requirement.txt\n",
        "!touch cnf.txt"
      ]
    },
    {
      "cell_type": "markdown",
      "metadata": {},
      "source": [
        "# try"
      ]
    },
    {
      "cell_type": "code",
      "execution_count": 2,
      "metadata": {},
      "outputs": [
        {
          "ename": "ModuleNotFoundError",
          "evalue": "No module named 'qChronolyze_dev'",
          "output_type": "error",
          "traceback": [
            "\u001b[0;31m---------------------------------------------------------------------------\u001b[0m",
            "\u001b[0;31mModuleNotFoundError\u001b[0m                       Traceback (most recent call last)",
            "Cell \u001b[0;32mIn[2], line 1\u001b[0m\n\u001b[0;32m----> 1\u001b[0m \u001b[38;5;28;01mimport\u001b[39;00m \u001b[38;5;21;01mqChronolyze_dev\u001b[39;00m \u001b[38;5;28;01mas\u001b[39;00m \u001b[38;5;21;01mqCh\u001b[39;00m\n\u001b[1;32m      3\u001b[0m qCh\u001b[38;5;241m.\u001b[39msortchron(\n\u001b[1;32m      4\u001b[0m     \n\u001b[1;32m      5\u001b[0m     \u001b[38;5;66;03m### enter pair of word/root and meaning filtering regex as key-value pair dictionary\u001b[39;00m\n\u001b[0;32m   (...)\u001b[0m\n\u001b[1;32m     20\u001b[0m \n\u001b[1;32m     21\u001b[0m     )\n",
            "\u001b[0;31mModuleNotFoundError\u001b[0m: No module named 'qChronolyze_dev'"
          ]
        }
      ],
      "source": [
        "import qChronolyze as qCh\n",
        "\n",
        "qCh.sortchron(\n",
        "    \n",
        "    ### enter pair of word/root and meaning filtering regex as key-value pair dictionary\n",
        "    {\n",
        "        '$Tn':  # english word / transliterated root https://corpus.quran.com/java/buckwalter.jsp\n",
        "        '',   # regex filter for meaning\n",
        "        'jnn':\n",
        "        'jinn'\n",
        "    },\n",
        "\n",
        "    ### tafsir reference language\n",
        "    # 'Arabic',\n",
        "    # /\n",
        "    # '1',\n",
        "\n",
        "    ### presentation style\n",
        "    # pres='plot',\n",
        "\n",
        "    )"
      ]
    }
  ],
  "metadata": {
    "colab": {
      "collapsed_sections": [
        "bXgDdWQe7LQ7"
      ],
      "provenance": []
    },
    "kernelspec": {
      "display_name": "mlCond",
      "language": "python",
      "name": "python3"
    },
    "language_info": {
      "codemirror_mode": {
        "name": "ipython",
        "version": 3
      },
      "file_extension": ".py",
      "mimetype": "text/x-python",
      "name": "python",
      "nbconvert_exporter": "python",
      "pygments_lexer": "ipython3",
      "version": "3.9.18"
    }
  },
  "nbformat": 4,
  "nbformat_minor": 0
}
