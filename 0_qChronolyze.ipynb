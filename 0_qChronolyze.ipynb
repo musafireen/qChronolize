{
  "cells": [
    {
      "cell_type": "markdown",
      "metadata": {
        "id": "yL4IdRAy7LRD"
      },
      "source": [
        "## chronological order:\n",
        "* https://docs.google.com/spreadsheets/d/1hBwzbBUK52nE_lU8QrOVP5IU2HYPGOQNn-yztAnorHM/edit#gid=0\n",
        "* https://tanzil.net/docs/revelation_order\n",
        "\n",
        "To use a different chronology of surahs/verses you can tweak the \"surOrd.tsv\" file:  \n",
        "1) by manually moving around the lines for each surah,   \n",
        "2) changing the values in \"before\"/\"after\" and \"ayah_range\" in \"exception\" fields."
      ]
    },
    {
      "cell_type": "markdown",
      "metadata": {
        "id": "9l0qrvor7LQ_"
      },
      "source": [
        "## transliteration scheme\n",
        "https://corpus.quran.com/java/buckwalter.jsp"
      ]
    },
    {
      "cell_type": "markdown",
      "metadata": {
        "id": "4ZHigudu7LRA"
      },
      "source": [
        "## corpus\n",
        "https://corpus.quran.com/qurandictionary.jsp?q=klm"
      ]
    },
    {
      "cell_type": "markdown",
      "metadata": {
        "id": "bXgDdWQe7LQ7"
      },
      "source": [
        "\n",
        "# setup\n",
        "run the following cell once to setup for the first time"
      ]
    },
    {
      "cell_type": "code",
      "execution_count": null,
      "metadata": {
        "colab": {
          "base_uri": "https://localhost:8080/"
        },
        "id": "JAIxqVXi7LQ9",
        "outputId": "1a96bc7f-072b-4d64-90fa-41425098fb6d",
        "vscode": {
          "languageId": "shellscript"
        }
      },
      "outputs": [
        {
          "name": "stdout",
          "output_type": "stream",
          "text": [
            "\u001b[33mhint: Using 'master' as the name for the initial branch. This default branch name\u001b[m\n",
            "\u001b[33mhint: is subject to change. To configure the initial branch name to use in all\u001b[m\n",
            "\u001b[33mhint: of your new repositories, which will suppress this warning, call:\u001b[m\n",
            "\u001b[33mhint: \u001b[m\n",
            "\u001b[33mhint: \tgit config --global init.defaultBranch <name>\u001b[m\n",
            "\u001b[33mhint: \u001b[m\n",
            "\u001b[33mhint: Names commonly chosen instead of 'master' are 'main', 'trunk' and\u001b[m\n",
            "\u001b[33mhint: 'development'. The just-created branch can be renamed via this command:\u001b[m\n",
            "\u001b[33mhint: \u001b[m\n",
            "\u001b[33mhint: \tgit branch -m <name>\u001b[m\n",
            "Initialized empty Git repository in /content/.git/\n",
            "remote: Enumerating objects: 273, done.\u001b[K\n",
            "remote: Counting objects: 100% (111/111), done.\u001b[K\n",
            "remote: Compressing objects: 100% (76/76), done.\u001b[K\n",
            "remote: Total 273 (delta 57), reused 87 (delta 34), pack-reused 162\u001b[K\n",
            "Receiving objects: 100% (273/273), 3.24 MiB | 12.25 MiB/s, done.\n",
            "Resolving deltas: 100% (143/143), done.\n",
            "From https://github.com/ellierob/qChronolyze\n",
            " * branch            master     -> FETCH_HEAD\n",
            " * [new branch]      master     -> origin/master\n"
          ]
        }
      ],
      "source": [
        "!git init\n",
        "!git remote add origin https://github.com/musafireen/qChronolyze\n",
        "!git pull origin master\n",
        "!touch cnf.txt\n",
        "# !pip install virtualenv\n",
        "# !virtualenv venv\n",
        "# !source venv/bin/activate\n",
        "!pip install -r requirement.txt\n",
        "!touch cnf.txt"
      ]
    },
    {
      "cell_type": "markdown",
      "metadata": {},
      "source": [
        "# try"
      ]
    },
    {
      "cell_type": "code",
      "execution_count": 10,
      "metadata": {},
      "outputs": [
        {
          "data": {
            "text/html": [
              "<div>\n",
              "<style scoped>\n",
              "    .dataframe tbody tr th:only-of-type {\n",
              "        vertical-align: middle;\n",
              "    }\n",
              "\n",
              "    .dataframe tbody tr th {\n",
              "        vertical-align: top;\n",
              "    }\n",
              "\n",
              "    .dataframe thead th {\n",
              "        text-align: right;\n",
              "    }\n",
              "</style>\n",
              "<table border=\"1\" class=\"dataframe\">\n",
              "  <thead>\n",
              "    <tr style=\"text-align: right;\">\n",
              "      <th></th>\n",
              "      <th>surah:ayah</th>\n",
              "      <th>position</th>\n",
              "      <th>word</th>\n",
              "      <th>meaning</th>\n",
              "      <th>ayah_link</th>\n",
              "    </tr>\n",
              "  </thead>\n",
              "  <tbody>\n",
              "    <tr>\n",
              "      <th>0</th>\n",
              "      <td>1</td>\n",
              "      <td>NaN</td>\n",
              "      <td>NaN</td>\n",
              "      <td>NaN</td>\n",
              "      <td>NaN</td>\n",
              "    </tr>\n",
              "  </tbody>\n",
              "</table>\n",
              "</div>"
            ],
            "text/plain": [
              "  surah:ayah position word meaning ayah_link\n",
              "0          1      NaN  NaN     NaN       NaN"
            ]
          },
          "execution_count": 10,
          "metadata": {},
          "output_type": "execute_result"
        }
      ],
      "source": [
        "import pandas as pd\n",
        "\n",
        "df = pd.DataFrame(columns = [\"surah:ayah\",\"position\",\"word\",\"meaning\",\"ayah_link\"])\n",
        "df\n",
        "df = pd.concat([df,pd.DataFrame([{\"surah:ayah\":\"1\"}])],axis=0)\n",
        "df"
      ]
    },
    {
      "cell_type": "code",
      "execution_count": 1,
      "metadata": {},
      "outputs": [
        {
          "name": "stdout",
          "output_type": "stream",
          "text": [
            "No presentation style provided\n",
            "plot found in cnf.txt\n",
            "plot style choosen for presentation.\n",
            "No tafsir language provided\n",
            "english found in cnf.txt\n",
            "english language choosen for reference.\n",
            "110:3 6236\n"
          ]
        },
        {
          "ename": "TypeError",
          "evalue": "scatter() got an unexpected keyword argument 'hoverinfo'",
          "output_type": "error",
          "traceback": [
            "\u001b[0;31m---------------------------------------------------------------------------\u001b[0m",
            "\u001b[0;31mTypeError\u001b[0m                                 Traceback (most recent call last)",
            "Cell \u001b[0;32mIn[1], line 3\u001b[0m\n\u001b[1;32m      1\u001b[0m \u001b[38;5;28;01mimport\u001b[39;00m \u001b[38;5;21;01mqChronolyze\u001b[39;00m \u001b[38;5;28;01mas\u001b[39;00m \u001b[38;5;21;01mqCh\u001b[39;00m\n\u001b[0;32m----> 3\u001b[0m \u001b[43mqCh\u001b[49m\u001b[38;5;241;43m.\u001b[39;49m\u001b[43msortchron\u001b[49m\u001b[43m(\u001b[49m\n\u001b[1;32m      4\u001b[0m \u001b[43m    \u001b[49m\n\u001b[1;32m      5\u001b[0m \u001b[43m    \u001b[49m\u001b[38;5;66;43;03m### enter pair of word/root and meaning filtering regex as key-value pair dictionary\u001b[39;49;00m\n\u001b[1;32m      6\u001b[0m \u001b[43m    \u001b[49m\u001b[38;5;66;43;03m# {\u001b[39;49;00m\n\u001b[1;32m      7\u001b[0m \u001b[43m    \u001b[49m\u001b[38;5;66;43;03m#     '$Tn':  # english word / transliterated root https://corpus.quran.com/java/buckwalter.jsp\u001b[39;49;00m\n\u001b[1;32m      8\u001b[0m \u001b[43m    \u001b[49m\u001b[38;5;66;43;03m#     '',   # regex filter for meaning\u001b[39;49;00m\n\u001b[1;32m      9\u001b[0m \u001b[43m    \u001b[49m\u001b[38;5;66;43;03m#     'jnn':\u001b[39;49;00m\n\u001b[1;32m     10\u001b[0m \u001b[43m    \u001b[49m\u001b[38;5;66;43;03m#     'jinn'\u001b[39;49;00m\n\u001b[1;32m     11\u001b[0m \u001b[43m    \u001b[49m\u001b[38;5;66;43;03m# },\u001b[39;49;00m\n\u001b[1;32m     12\u001b[0m \n\u001b[1;32m     13\u001b[0m \u001b[43m    \u001b[49m\u001b[38;5;66;43;03m### tafsir reference language\u001b[39;49;00m\n\u001b[1;32m     14\u001b[0m \u001b[43m    \u001b[49m\u001b[38;5;66;43;03m# 'Arabic',\u001b[39;49;00m\n\u001b[1;32m     15\u001b[0m \u001b[43m    \u001b[49m\u001b[38;5;66;43;03m# /\u001b[39;49;00m\n\u001b[1;32m     16\u001b[0m \u001b[43m    \u001b[49m\u001b[38;5;66;43;03m# '1',\u001b[39;49;00m\n\u001b[1;32m     17\u001b[0m \n\u001b[1;32m     18\u001b[0m \u001b[43m    \u001b[49m\u001b[38;5;66;43;03m### presentation style\u001b[39;49;00m\n\u001b[1;32m     19\u001b[0m \u001b[43m    \u001b[49m\u001b[38;5;66;43;03m# pres='plot',\u001b[39;49;00m\n\u001b[1;32m     20\u001b[0m \n\u001b[1;32m     21\u001b[0m \u001b[43m    \u001b[49m\u001b[43m)\u001b[49m\n",
            "File \u001b[0;32m/mnt/f/Documents/chhatak_companiganj/slot/sufi/Demus/qChronolyze/qChronolyze.py:332\u001b[0m, in \u001b[0;36msortchron\u001b[0;34m(dicti, refLng, pres)\u001b[0m\n\u001b[1;32m    326\u001b[0m \u001b[38;5;66;03m# import plotly.graph_objects as go\u001b[39;00m\n\u001b[1;32m    327\u001b[0m \u001b[38;5;66;03m# from plotly.subplots import make_subplots\u001b[39;00m\n\u001b[1;32m    328\u001b[0m \u001b[38;5;66;03m# from plotly.offline import iplot, init_notebook_mode\u001b[39;00m\n\u001b[1;32m    329\u001b[0m \n\u001b[1;32m    330\u001b[0m \u001b[38;5;66;03m# init_notebook_mode()\u001b[39;00m\n\u001b[1;32m    331\u001b[0m df[\u001b[38;5;124m\"\u001b[39m\u001b[38;5;124mayah_link\u001b[39m\u001b[38;5;124m\"\u001b[39m] \u001b[38;5;241m=\u001b[39m df[\u001b[38;5;124m\"\u001b[39m\u001b[38;5;124msurah:ayah\u001b[39m\u001b[38;5;124m\"\u001b[39m] \u001b[38;5;241m+\u001b[39m df[\u001b[38;5;124m\"\u001b[39m\u001b[38;5;124mayah_link\u001b[39m\u001b[38;5;124m\"\u001b[39m]\n\u001b[0;32m--> 332\u001b[0m fig \u001b[38;5;241m=\u001b[39m \u001b[43mpx\u001b[49m\u001b[38;5;241;43m.\u001b[39;49m\u001b[43mscatter\u001b[49m\u001b[43m(\u001b[49m\n\u001b[1;32m    333\u001b[0m \u001b[43m   \u001b[49m\u001b[43mdf\u001b[49m\u001b[43m,\u001b[49m\n\u001b[1;32m    334\u001b[0m \u001b[43m   \u001b[49m\u001b[43mx\u001b[49m\u001b[38;5;241;43m=\u001b[39;49m\u001b[38;5;124;43m'\u001b[39;49m\u001b[38;5;124;43msurah:ayah\u001b[39;49m\u001b[38;5;124;43m'\u001b[39;49m\u001b[43m,\u001b[49m\n\u001b[1;32m    335\u001b[0m \u001b[43m  \u001b[49m\u001b[38;5;66;43;03m#  y='ayah_link',\u001b[39;49;00m\n\u001b[1;32m    336\u001b[0m \u001b[43m   \u001b[49m\u001b[43my\u001b[49m\u001b[38;5;241;43m=\u001b[39;49m\u001b[38;5;124;43m'\u001b[39;49m\u001b[38;5;124;43mindex\u001b[39;49m\u001b[38;5;124;43m'\u001b[39;49m\u001b[43m,\u001b[49m\n\u001b[1;32m    337\u001b[0m \u001b[43m   \u001b[49m\u001b[43mhover_data\u001b[49m\u001b[38;5;241;43m=\u001b[39;49m\u001b[43m{\u001b[49m\n\u001b[1;32m    338\u001b[0m \u001b[43m      \u001b[49m\u001b[38;5;124;43m'\u001b[39;49m\u001b[38;5;124;43mayah_link\u001b[39;49m\u001b[38;5;124;43m'\u001b[39;49m\u001b[43m:\u001b[49m\u001b[38;5;28;43;01mTrue\u001b[39;49;00m\u001b[43m,\u001b[49m\n\u001b[1;32m    339\u001b[0m \u001b[43m      \u001b[49m\u001b[38;5;124;43m'\u001b[39;49m\u001b[38;5;124;43mquery\u001b[39;49m\u001b[38;5;124;43m'\u001b[39;49m\u001b[43m:\u001b[49m\u001b[43m \u001b[49m\u001b[38;5;28;43;01mFalse\u001b[39;49;00m\u001b[43m,\u001b[49m\u001b[43m \u001b[49m\n\u001b[1;32m    340\u001b[0m \u001b[43m      \u001b[49m\u001b[38;5;124;43m'\u001b[39;49m\u001b[38;5;124;43msurah:ayah\u001b[39;49m\u001b[38;5;124;43m'\u001b[39;49m\u001b[43m:\u001b[49m\u001b[43m \u001b[49m\u001b[38;5;28;43;01mFalse\u001b[39;49;00m\u001b[43m,\u001b[49m\n\u001b[1;32m    341\u001b[0m \u001b[43m      \u001b[49m\u001b[38;5;124;43m'\u001b[39;49m\u001b[38;5;124;43mindex\u001b[39;49m\u001b[38;5;124;43m'\u001b[39;49m\u001b[43m:\u001b[49m\u001b[43m \u001b[49m\u001b[38;5;28;43;01mFalse\u001b[39;49;00m\n\u001b[1;32m    342\u001b[0m \u001b[43m    \u001b[49m\u001b[43m}\u001b[49m\u001b[43m,\u001b[49m\n\u001b[1;32m    343\u001b[0m \u001b[43m    \u001b[49m\u001b[43mhoverinfo\u001b[49m\u001b[43m \u001b[49m\u001b[38;5;241;43m=\u001b[39;49m\u001b[43m \u001b[49m\u001b[38;5;124;43m'\u001b[39;49m\u001b[38;5;124;43mskip\u001b[39;49m\u001b[38;5;124;43m'\u001b[39;49m\u001b[43m,\u001b[49m\n\u001b[1;32m    344\u001b[0m \u001b[43m   \u001b[49m\u001b[43mcolor\u001b[49m\u001b[38;5;241;43m=\u001b[39;49m\u001b[38;5;124;43m'\u001b[39;49m\u001b[38;5;124;43mquery\u001b[39;49m\u001b[38;5;124;43m'\u001b[39;49m\u001b[43m,\u001b[49m\n\u001b[1;32m    345\u001b[0m \u001b[43m   \u001b[49m\u001b[43mcolor_continuous_scale\u001b[49m\u001b[38;5;241;43m=\u001b[39;49m\u001b[43m[\u001b[49m\u001b[38;5;124;43m\"\u001b[39;49m\u001b[38;5;124;43mgreen\u001b[39;49m\u001b[38;5;124;43m\"\u001b[39;49m\u001b[43m,\u001b[49m\u001b[38;5;124;43m\"\u001b[39;49m\u001b[38;5;124;43myellow\u001b[39;49m\u001b[38;5;124;43m\"\u001b[39;49m\u001b[43m,\u001b[49m\u001b[38;5;124;43m\"\u001b[39;49m\u001b[38;5;124;43morange\u001b[39;49m\u001b[38;5;124;43m\"\u001b[39;49m\u001b[43m,\u001b[49m\u001b[38;5;124;43m\"\u001b[39;49m\u001b[38;5;124;43mred\u001b[39;49m\u001b[38;5;124;43m\"\u001b[39;49m\u001b[43m]\u001b[49m\u001b[43m,\u001b[49m\n\u001b[1;32m    346\u001b[0m \u001b[43m   \u001b[49m\u001b[43mheight\u001b[49m\u001b[38;5;241;43m=\u001b[39;49m\u001b[43m(\u001b[49m\u001b[38;5;28;43mlen\u001b[39;49m\u001b[43m(\u001b[49m\u001b[43mdf\u001b[49m\u001b[43m)\u001b[49m\u001b[43m)\u001b[49m\u001b[38;5;241;43m*\u001b[39;49m\u001b[38;5;241;43m8\u001b[39;49m\u001b[43m,\u001b[49m\n\u001b[1;32m    347\u001b[0m \u001b[43m   \u001b[49m\u001b[43mwidth\u001b[49m\u001b[38;5;241;43m=\u001b[39;49m\u001b[43m(\u001b[49m\u001b[38;5;28;43mlen\u001b[39;49m\u001b[43m(\u001b[49m\u001b[43msorter\u001b[49m\u001b[43m)\u001b[49m\u001b[43m)\u001b[49m\u001b[38;5;241;43m/\u001b[39;49m\u001b[38;5;241;43m5\u001b[39;49m\u001b[43m,\u001b[49m\n\u001b[1;32m    348\u001b[0m \u001b[43m\u001b[49m\u001b[43m)\u001b[49m\n\u001b[1;32m    350\u001b[0m \u001b[38;5;66;03m# fig = make_subplots(\u001b[39;00m\n\u001b[1;32m    351\u001b[0m \u001b[38;5;66;03m#     specs=[[{\"secondary_y\": True}]]\u001b[39;00m\n\u001b[1;32m    352\u001b[0m \u001b[38;5;66;03m# )\u001b[39;00m\n\u001b[0;32m   (...)\u001b[0m\n\u001b[1;32m    371\u001b[0m \u001b[38;5;66;03m#           secondary_y=True\u001b[39;00m\n\u001b[1;32m    372\u001b[0m \u001b[38;5;66;03m#       )\u001b[39;00m\n\u001b[1;32m    373\u001b[0m fig\u001b[38;5;241m.\u001b[39mupdate_xaxes(categoryorder\u001b[38;5;241m=\u001b[39m\u001b[38;5;124m'\u001b[39m\u001b[38;5;124marray\u001b[39m\u001b[38;5;124m'\u001b[39m,categoryarray\u001b[38;5;241m=\u001b[39msorter,\u001b[38;5;28mrange\u001b[39m\u001b[38;5;241m=\u001b[39m[\u001b[38;5;241m0\u001b[39m,\u001b[38;5;28mlen\u001b[39m(sorter)],title\u001b[38;5;241m=\u001b[39m\u001b[38;5;124m\"\u001b[39m\u001b[38;5;124m (earlier)   -->  \u001b[39m\u001b[38;5;124m'\u001b[39m\u001b[38;5;124mSurah:Ayah\u001b[39m\u001b[38;5;124m'\u001b[39m\u001b[38;5;124m (Chronologically Ordered)  -->   (latter)\u001b[39m\u001b[38;5;124m\"\u001b[39m)\n",
            "\u001b[0;31mTypeError\u001b[0m: scatter() got an unexpected keyword argument 'hoverinfo'"
          ]
        }
      ],
      "source": [
        "import qChronolyze as qCh\n",
        "\n",
        "qCh.sortchron(\n",
        "    \n",
        "    ### enter pair of word/root and meaning filtering regex as key-value pair dictionary\n",
        "    # {\n",
        "    #     '$Tn':  # english word / transliterated root https://corpus.quran.com/java/buckwalter.jsp\n",
        "    #     '',   # regex filter for meaning\n",
        "    #     'jnn':\n",
        "    #     'jinn'\n",
        "    # },\n",
        "\n",
        "    ### tafsir reference language\n",
        "    # 'Arabic',\n",
        "    # /\n",
        "    # '1',\n",
        "\n",
        "    ### presentation style\n",
        "    # pres='plot',\n",
        "\n",
        "    )"
      ]
    }
  ],
  "metadata": {
    "colab": {
      "collapsed_sections": [
        "bXgDdWQe7LQ7"
      ],
      "provenance": []
    },
    "kernelspec": {
      "display_name": "mlCond",
      "language": "python",
      "name": "python3"
    },
    "language_info": {
      "codemirror_mode": {
        "name": "ipython",
        "version": 3
      },
      "file_extension": ".py",
      "mimetype": "text/x-python",
      "name": "python",
      "nbconvert_exporter": "python",
      "pygments_lexer": "ipython3",
      "version": "3.9.18"
    }
  },
  "nbformat": 4,
  "nbformat_minor": 0
}
